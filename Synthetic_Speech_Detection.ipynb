{
 "cells": [
  {
   "cell_type": "code",
   "execution_count": 3,
   "metadata": {
    "id": "gKwB2rTrQWId",
    "outputId": "200012d7-f47f-4f68-8c13-2a693853197b",
    "scrolled": true
   },
   "outputs": [
    {
     "name": "stdout",
     "output_type": "stream",
     "text": [
      "Found existing installation: torch 2.3.0\n",
      "Uninstalling torch-2.3.0:\n",
      "  Successfully uninstalled torch-2.3.0\n",
      "Found existing installation: torchaudio 2.2.2\n",
      "Uninstalling torchaudio-2.2.2:\n",
      "  Successfully uninstalled torchaudio-2.2.2\n",
      "Found existing installation: torchvision 0.18.0\n",
      "Uninstalling torchvision-0.18.0:\n",
      "  Successfully uninstalled torchvision-0.18.0\n",
      "\u001b[33mWARNING: Running pip as the 'root' user can result in broken permissions and conflicting behaviour with the system package manager. It is recommended to use a virtual environment instead: https://pip.pypa.io/warnings/venv\u001b[0m\u001b[33m\n",
      "\u001b[0m"
     ]
    }
   ],
   "source": [
    "!pip uninstall torch torchaudio torchvision -y"
   ]
  },
  {
   "cell_type": "code",
   "execution_count": 4,
   "metadata": {
    "id": "LJSjcqD9QWIf",
    "outputId": "2ec60c8e-e4c1-4d2d-9911-8dfb68494af8",
    "scrolled": true
   },
   "outputs": [
    {
     "name": "stdout",
     "output_type": "stream",
     "text": [
      "Collecting torch==2.2.2\n",
      "  Using cached torch-2.2.2-cp310-cp310-manylinux1_x86_64.whl (755.5 MB)\n",
      "Collecting torchaudio==2.2.2\n",
      "  Using cached torchaudio-2.2.2-cp310-cp310-manylinux1_x86_64.whl (3.3 MB)\n",
      "Collecting nvidia-nccl-cu12==2.19.3\n",
      "  Using cached nvidia_nccl_cu12-2.19.3-py3-none-manylinux1_x86_64.whl (166.0 MB)\n",
      "Requirement already satisfied: nvidia-cuda-cupti-cu12==12.1.105 in /usr/local/lib/python3.10/dist-packages (from torch==2.2.2) (12.1.105)\n",
      "Requirement already satisfied: nvidia-cublas-cu12==12.1.3.1 in /usr/local/lib/python3.10/dist-packages (from torch==2.2.2) (12.1.3.1)\n",
      "Requirement already satisfied: typing-extensions>=4.8.0 in /usr/local/lib/python3.10/dist-packages (from torch==2.2.2) (4.11.0)\n",
      "Requirement already satisfied: nvidia-cudnn-cu12==8.9.2.26 in /usr/local/lib/python3.10/dist-packages (from torch==2.2.2) (8.9.2.26)\n",
      "Requirement already satisfied: nvidia-cusparse-cu12==12.1.0.106 in /usr/local/lib/python3.10/dist-packages (from torch==2.2.2) (12.1.0.106)\n",
      "Requirement already satisfied: sympy in /usr/local/lib/python3.10/dist-packages (from torch==2.2.2) (1.12)\n",
      "Requirement already satisfied: fsspec in /usr/local/lib/python3.10/dist-packages (from torch==2.2.2) (2024.3.1)\n",
      "Requirement already satisfied: filelock in /usr/local/lib/python3.10/dist-packages (from torch==2.2.2) (3.13.4)\n",
      "Requirement already satisfied: networkx in /usr/local/lib/python3.10/dist-packages (from torch==2.2.2) (3.3)\n",
      "Requirement already satisfied: nvidia-cuda-nvrtc-cu12==12.1.105 in /usr/local/lib/python3.10/dist-packages (from torch==2.2.2) (12.1.105)\n",
      "Requirement already satisfied: nvidia-curand-cu12==10.3.2.106 in /usr/local/lib/python3.10/dist-packages (from torch==2.2.2) (10.3.2.106)\n",
      "Requirement already satisfied: jinja2 in /usr/local/lib/python3.10/dist-packages (from torch==2.2.2) (3.1.3)\n",
      "Requirement already satisfied: nvidia-nvtx-cu12==12.1.105 in /usr/local/lib/python3.10/dist-packages (from torch==2.2.2) (12.1.105)\n",
      "Requirement already satisfied: nvidia-cuda-runtime-cu12==12.1.105 in /usr/local/lib/python3.10/dist-packages (from torch==2.2.2) (12.1.105)\n",
      "Collecting triton==2.2.0\n",
      "  Using cached triton-2.2.0-cp310-cp310-manylinux_2_17_x86_64.manylinux2014_x86_64.whl (167.9 MB)\n",
      "Requirement already satisfied: nvidia-cusolver-cu12==11.4.5.107 in /usr/local/lib/python3.10/dist-packages (from torch==2.2.2) (11.4.5.107)\n",
      "Requirement already satisfied: nvidia-cufft-cu12==11.0.2.54 in /usr/local/lib/python3.10/dist-packages (from torch==2.2.2) (11.0.2.54)\n",
      "Requirement already satisfied: nvidia-nvjitlink-cu12 in /usr/local/lib/python3.10/dist-packages (from nvidia-cusolver-cu12==11.4.5.107->torch==2.2.2) (12.4.127)\n",
      "Requirement already satisfied: MarkupSafe>=2.0 in /usr/local/lib/python3.10/dist-packages (from jinja2->torch==2.2.2) (2.1.5)\n",
      "Requirement already satisfied: mpmath>=0.19 in /usr/local/lib/python3.10/dist-packages (from sympy->torch==2.2.2) (1.3.0)\n",
      "Installing collected packages: triton, nvidia-nccl-cu12, torch, torchaudio\n",
      "  Attempting uninstall: triton\n",
      "    Found existing installation: triton 2.3.0\n",
      "    Uninstalling triton-2.3.0:\n",
      "      Successfully uninstalled triton-2.3.0\n",
      "  Attempting uninstall: nvidia-nccl-cu12\n",
      "    Found existing installation: nvidia-nccl-cu12 2.20.5\n",
      "    Uninstalling nvidia-nccl-cu12-2.20.5:\n",
      "      Successfully uninstalled nvidia-nccl-cu12-2.20.5\n",
      "Successfully installed nvidia-nccl-cu12-2.19.3 torch-2.2.2 torchaudio-2.2.2 triton-2.2.0\n",
      "\u001b[33mWARNING: Running pip as the 'root' user can result in broken permissions and conflicting behaviour with the system package manager. It is recommended to use a virtual environment instead: https://pip.pypa.io/warnings/venv\u001b[0m\u001b[33m\n",
      "\u001b[0m"
     ]
    }
   ],
   "source": [
    "!pip install torch==2.2.2 torchaudio==2.2.2"
   ]
  },
  {
   "cell_type": "code",
   "execution_count": null,
   "metadata": {
    "id": "kNfEq6UQQf-6"
   },
   "outputs": [],
   "source": [
    "# !pip install torch torchaudio torchvision datasets -q"
   ]
  },
  {
   "cell_type": "code",
   "execution_count": 1,
   "metadata": {
    "id": "9oiOQXctXFJo",
    "scrolled": true
   },
   "outputs": [],
   "source": [
    "import random\n",
    "import IPython\n",
    "\n",
    "import datasets\n",
    "\n",
    "from datasets.utils import DownloadManager\n",
    "\n",
    "import numpy as np\n",
    "\n",
    "import torch\n",
    "import torchaudio\n",
    "import torchaudio.transforms as T\n",
    "\n",
    "from torch.utils.data import DataLoader, Dataset\n",
    "\n",
    "import os\n",
    "import sys\n",
    "\n",
    "from tqdm import tqdm\n",
    "# import torchvision\n",
    "import soundfile as sf\n",
    "import torch.nn as nn\n",
    "# import torchvision.models as smodels\n",
    "from librosa import util\n",
    "import librosa.feature"
   ]
  },
  {
   "cell_type": "code",
   "execution_count": 2,
   "metadata": {
    "id": "3sC4bMRrQWIh"
   },
   "outputs": [],
   "source": [
    "sys.path.append('src')"
   ]
  },
  {
   "cell_type": "code",
   "execution_count": 16,
   "metadata": {},
   "outputs": [],
   "source": [
    "device=\"cuda\" if torch.cuda.is_available() else \"cpu\""
   ]
  },
  {
   "cell_type": "markdown",
   "metadata": {
    "id": "9QObvPnqW_Td"
   },
   "source": [
    "# Load Dataset .zip from link"
   ]
  },
  {
   "cell_type": "markdown",
   "metadata": {
    "id": "RP_rXD0OdsWF"
   },
   "source": [
    "Logical access (LA):\n",
    "\n",
    "- ```speaker_id:``` LA_****, a 4-digit speaker ID\n",
    "- ```audio_file_name:``` name of the audio file\n",
    "- ```audio:``` '****.flac'  the path to the downloaded audio file in FLAC format (https://xiph.org/flac/).\n",
    "- ```system_id:``` ID of the speech spoofing system (A01 - A19), or, for bonafide speech SYSTEM-ID is left blank ('-')\n",
    "- ```key:``` 'bonafide' for genuine speech, or, 'spoof' for spoofing speech"
   ]
  },
  {
   "cell_type": "code",
   "execution_count": 3,
   "metadata": {
    "colab": {
     "base_uri": "https://localhost:8080/",
     "height": 304,
     "referenced_widgets": [
      "34268626b1cb47de833b517d39ff4418"
     ]
    },
    "id": "JQBkSfn3i24L",
    "outputId": "8d1753cf-63b3-488d-a04c-ed06550dd350"
   },
   "outputs": [
    {
     "data": {
      "application/vnd.jupyter.widget-view+json": {
       "model_id": "d6d452f915a640a5975c7f6f7fa6682f",
       "version_major": 2,
       "version_minor": 0
      },
      "text/plain": [
       "Computing checksums: 100%|##########| 1/1 [00:23<00:00, 23.54s/it]"
      ]
     },
     "metadata": {},
     "output_type": "display_data"
    }
   ],
   "source": [
    "from load_avsspoof19 import ASVspoof2019\n",
    "\n",
    "dl_manager = DownloadManager()\n",
    "\n",
    "speech_dataset = ASVspoof2019()\n",
    "asv_datasets = speech_dataset._split_generators(dl_manager)"
   ]
  },
  {
   "cell_type": "code",
   "execution_count": 4,
   "metadata": {
    "id": "FUFksHVrQWIj"
   },
   "outputs": [],
   "source": [
    "# 0 - train, 1 - eval, 2 - test in asv_datasets\n",
    "train_metadata_filepath = asv_datasets[0].gen_kwargs[\"metadata_filepath\"]\n",
    "train_audios_dir = asv_datasets[0].gen_kwargs[\"audios_dir\"]\n",
    "\n",
    "val_metadata_filepath = asv_datasets[1].gen_kwargs[\"metadata_filepath\"]\n",
    "val_audios_dir = asv_datasets[1].gen_kwargs[\"audios_dir\"]\n",
    "\n",
    "test_metadata_filepath = asv_datasets[2].gen_kwargs[\"metadata_filepath\"]\n",
    "test_audios_dir = asv_datasets[2].gen_kwargs[\"audios_dir\"]"
   ]
  },
  {
   "cell_type": "code",
   "execution_count": 5,
   "metadata": {
    "id": "gwAbKkDLQWIj"
   },
   "outputs": [],
   "source": [
    "train_samples = speech_dataset._generate_examples(train_metadata_filepath, train_audios_dir)\n",
    "val_samples = speech_dataset._generate_examples(val_metadata_filepath, val_audios_dir)\n",
    "test_samples = speech_dataset._generate_examples(test_metadata_filepath, test_audios_dir)"
   ]
  },
  {
   "cell_type": "markdown",
   "metadata": {
    "id": "xXEwnHR6QWIj"
   },
   "source": [
    "## Listen to random sample\n",
    "\n",
    "Display some audio from train/validation set."
   ]
  },
  {
   "cell_type": "code",
   "execution_count": 6,
   "metadata": {
    "id": "2qImrElhQWIk",
    "outputId": "6779085d-afa1-4bd1-fa3e-de7571f3b70d"
   },
   "outputs": [
    {
     "data": {
      "text/plain": [
       "{'speaker_id': 'LA_0082',\n",
       " 'audio_file_name': 'LA_T_9952125',\n",
       " 'system_id': 'A02',\n",
       " 'key': 'spoof',\n",
       " 'audio': '/root/.cache/huggingface/datasets/downloads/extracted/911103f86670b6f7e96211444d0f39fc5ffab511156a395f67b098c2f45dce18/LA/ASVspoof2019_LA_train/flac/LA_T_9952125.flac'}"
      ]
     },
     "execution_count": 6,
     "metadata": {},
     "output_type": "execute_result"
    }
   ],
   "source": [
    "def get_sample(samples):\n",
    "    return random.sample(samples, k=1)[0]\n",
    "\n",
    "sample = get_sample(train_samples)\n",
    "sample"
   ]
  },
  {
   "cell_type": "code",
   "execution_count": 7,
   "metadata": {
    "id": "PqzkjmH6QWIk",
    "outputId": "0aad2566-be39-4d10-cd61-cec7dbf571a6"
   },
   "outputs": [
    {
     "name": "stdout",
     "output_type": "stream",
     "text": [
      "spoof\n"
     ]
    },
    {
     "data": {
      "text/html": [
       "\n",
       "                <audio  controls=\"controls\" >\n",
       "                    <source src=\"data:audio/flac;base64,ZkxhQwAAACIEgASAAABXAAeAA+gA8AABChrYAgcAwFE0WGvQoMD2Hx3JhAAAKCAAAAByZWZlcmVuY2UgbGliRkxBQyAxLjMuMCAyMDEzMDUyNgAAAAD/+DUIAAMSAAEAaq8GADQjZGasAgRBARCAEEgEAIdmZkMDIMYZsMMNKEwkJCEwRgVAmkSfPb3bfeW/IsLRQkWTISE9B/tmaZ+ZIlEhCkIoujcbNPLyEPEQqQQiggsFCVFOMcYxsw2ZoZtZpSIExFhESIRMplV9ctGSYl0SUONHQ4RtMuFhCQJCJKiUZGZB48Y2GjxGxJQIpYjCNLWTSa/s9N/sJMUIQIkEiCJRPiHHNPMh5aPSGtWjIxdsLsFpwtkWULKSxS1kmEG11tMhyrqMTlbQ6bPa4mBTQtCSJAkSS24zaHma3MEwoiEKSfwb8OekVIgiCCgQhEUQjQmzONjzDcPjWVpIoQoIIJAhCEJCpHQzGDDAxgwYwZjGaNFEIEEgIEgEQQhSApJSY23tsZxj25tSFCkhERAgkEJBCIJbKbjbzeN7Zhkee/baNNQiIKCIQgggiBChCKWj4Owxnm4w20ac8FCIhJBKKTkNb3ffKkkyUC5SwmChQVlQ9xjEfzJpUCkSWTkbDZmMePGmogkWISChQsqoUrK0S9bjz/kQxFFFCRNJbTzptvPPR5MoFBEIJAiFLXzaPOm13coihQsiC5QmQiTm7zD2GYeB4MbfNECIEEIEEgIiBIKV788Z5thzDeaUiQSEUAWCJCSfmcMa4uYRECIhCoJDBH6W+nXVyagq4P/4NQgBBBIABwBcNY7e5vMzmZHpSISCEEEEIECBCECBEhaVmzDMwYzGBjGZnt4Q0SIkIREpBFAsiSTWX0bez3nBZIkIkIUImJ2zRmb8GZGchhJGKxIKIhEBIhARASCRIk0Y2BmYMMMYZhjN41ERCoERQFIISSyoI5OPzW1aWIisi8ntWaRUWSKESSuLBubPZw3Bs2GecPOsQiAQgICCAQCCAggQIURD0GbG0OBDWTogbY9tmBrOuSZYlIUiWChEEWBMIlSaDmMtyzEaP1sh8N16gpoihQkIYkTi8sfR6f5unMtCwhEQgiSuTs7fNMSdoTKpkjXr25bssiYFrKL1xWIckFoRQUJL5uZm2DQOO8sJEUQiJJEf7I1xxjz4fmnVEiQgkEJQKUhZkh6cvETIRoEmlw/4eHPQyiCJAkEhLLeMZ5sPGzYqBCCEBEQQIIgKi57PBhmGwzDPY7+JJREICQRRBRCa9W1NLrMrLpla5ZIvFFJKKxORxHtjzmNzvK8ieEQwky6ol4IsIWEik1NtnDZq0TTCkRBCIUgkoRpmw0Zm8bGeP5ZKIkggiECRCSRXI2ltpz43O2nxoQ5FpCMxGTyGkevhKERIhCCgiKKSuztY2bZnGpqFaJE4SLIWiRYswnGzcPN+QyQkIkCMRhXExvMGf7m1CqiGIWEkEJQJIO5Y//g1CAINEgAIAEKQrJPGVjHGjAzHgzkwKQQSEEQiBCwhQlFrL1zex2MZmMe4apIQRUJHIMSMqycJkS4WSLLC1EJrUbQZ2MPGM9/kpBCIRCEEhBCkEwjE60PF+P3sbNvbTVEWFiUSURJFFJK9MnFsh11dl4TllckHNHaeUqkcqNKS4RLl6q1L6sKX3IRwj+ajTG5snNKCFEKCIhEk8hvecexrkJBAkgUERJhQlaDIbRtw955M+69aLi7SfDR66USQIiEUItLqm/5ayIZZTktHUPRiWFIXETtAjyjaZzc+gmhcRp0h4Qy2RMURCYShKCamrdtM0O1slK6udma3XEURKiZdp5cFZCVEUKFiMnGc6GmjqJFqFllYnPZzzO3so0RISCIgkEiQsERkbTcfmaf6v+56fjr2hsnFFEQSIESEEgQkCImQbxsxjg350hFiiUISEiKJeYQ9mzT6edtF8siEUkULk7GnN2oYTJwJEIgjAWpFEycQNvbNjGGGMDA8Hm4sIAhBAgAQgICAQCAhBARCrsfmPB4xn+NM1/BTJiuptqeOnxKECBZBBEFgWQCYVQx4GYzGMwwxlk0SCFAiMIUEUCCE4J07G547BkHJMilhGspWtEwk4oUqQZHocbzYemSLQiJFwQsESBZC1I958L0X//g1CAMKEgAFAHOg7C1uTKa4rEuKFdL7TaZB9bvQhkWpKiLCSBEKKLxGmYhpxuG4z/KqQyaSWlKollMKSFJSEKYmrGK9fS6Pdm2wzcdGLpAmiQRJBQJFoVi4WEnSZp7N56bTUplfOh2sapCUCIQRCwisggyHR44Z8jJIixEQWVLzeDMaDDnayCIRAhCKIkWmg5jt30skXKFJXEy0CpBdiM170MaGYZsOBnDY+ZIiIggQgQEIECCBASBQlrCHOGY2PGBsPhx+ShCiASQgohFksyPPR7Z/oSUChCJohLTbPYzhhqMPu1tKkilSZREIQhBBYJCk7zbPPMzTSJYiFIIjKT/YaM7aXEsoSQLEhISEQwpr6TefB/jOZz1JkxORMsycWqCaRJRAVCyZayNpXw1qa2VBGWgtCyCKQsSlvYYeMHBhiDHvfc6aUELCwgIECIFgQSEBYRDyG2ZnvtvVrjGO/ZpLiQhAkIECwiCovsY2Y2NjMxxmTxJBEIIQiCxUFkMhiMYV9uvhiqYoFCCIkKRe9nGDIBvDG8NRJAkQIQJEIKL80Zlw2Sb7JExE9a2mn0OHXorllCxYUiooTBJCEUUkp9jnGeO9n4ZHZ0KUFiSEUIoitQyZmaG0GWVIhCQoIQoKi0EDLg2g8eYwzN7miwlikSFlC1KU//g1CAQfEv/8AHC4iikFgqoJpmntnM8MmjFehESIRAhMSCDC9mPMebZ+1NUWEsVokZKisiSihEkJITxd2Omw8xn+Ht62sQRBBBEhAkCEQTC3nDgMbGYbGMfZIsKCgEhCKIkyqtw43MfpC0ISEQUXEolKS2TNc1GaY3DPPUaEYJkQJiCciGQf/+iQiIIiBCCBQpJmZhsMDYMYzZzCNBMRCQUJJLIoTJZMhGT+3Ghu30sokyhIsRIuAtaFxa8ZY8H7PRvJWRECQQghIgsFq2xmxmDGMz22TsvwsIQkhYKERckwhq2Vp0zIzRDQ0shKIhYtEkFohlnEPb9HpDJkk1CUlF0kitKvzofmcMxjb2TpBMCQhCCQEQQERCgTSjIlsoNcxjMw2YPDTNzUWREIpFEIhCE8VkLhWCUYKeObMzPNh7jxc2F5JEoLCLChBISkLERhYmTW5rj3GOHDefdIpIJMJUWyeg3fRERIECwRBJRw7ZzM6NEfPQk9Dn7zIymCeJIsRECQQgQJEiRJiY1htsDx7DI/UrRKUXCyWmkxerFipCkm5gyGxmOOTRCiASCCCJFa2bMZts/iiRQkSKBSEIiQiEiIxw82Dw2GcDn7g0qJLCCIQIIQCICAhBAihPGMBhgzAwwDYM2fwgkAiIEQRSRCeezDg8NnPCwkIQhQIFkBYTELLliYhtfcjXgjYHq+//g1CAUYEgAKAFG85tsePpSQkIQgkEhCS5wY4M82M3zJeJMSIWBILIhQCzFBZ0MxjGGGwY2aoEIEIIAiBAJEIIjKg3GDOG7LZaxCwIJIJJS+2zJnGY7QNNprHbj214WEjQEQoECIIJBBAhZa3DM2ZjMxnjyOJIlCUILEFwSSQTIRGXGm2PN5m4f+bvtISgRQgUEUQQpFJ3D38ZG/0mnZUJF0JyimJxZvL+j3mmjK0oCyILCEklCZJ5zZOMW9c1v6SXJEkUYJpbcecNyNGtJCKgWYFSFmC3mRRCiQldMyY89yiLJIuWTbN49GOUgpBBQSIVi4eceN520MsJ6BRBRERJcv7anK9Wi4ohZBZUexo6YbEP6kWQExREX8i/NRvE2khWRKIWRClbeG9jHhmgBkY55dCREBCBAQIIQRBEKhbLZ4xjBkZ+OcnhE4JCRBFigsIyEfHnh7A1+aZhCiEoQRIhQhMilpjcbDG8x7GTpEwRCFIIlJFcR8ixLIl6Q5R41mNM+Nk3wTRRJRILCCKQqLjuM5OQ5MmmRGSIyWRPRH635ozyhiiQRIgUIJlFlQIyCMkzJseYbMxm234kZLRSRs+hMoQghBAhBACIggKRUcDM2MGwzG9/VosiIkmRGC7hMjuIyqRZC5FpNPZphmhnthCWEFIIQKpIsSN2/3AFW9//g1CAYRFAADAAMAp8wrJbGWJ4RW9EeaOaxFu3lIcxxHib/McmtSXdEVvkk5MKaeXfXKEHidxPfrSORUnhnJLhDpIQoz/bLU8imVxHiLkXbbtfW19SKT8mdIR41iKReQsRSPTH2t0uiFEk3TS1FQnXEX5nIVMvMslzHN2/EqpSFsTPxhUt3RCmlSs7JIvGFRJrd2/ZYYu7fKZUWRHE6mzpO0stRd8QKieI1muap8nSXToskvc3KZHkRSZaSp5qIVr4RVN5dYkFEypMcS9uk/zTKkxczsrO3nIrU4ipu40LGrcx8S3m9M8ZPUv25FXO07F0tzK207TXRUR0nIW6SIjtHEVzfs9J/Gt1+YUIrSsy3JJ7CLduwpp1bWyaqb6rknSdk/E6pvkvaViouQrWf5nSdLGS7mHBFm6R2YqQpPPEn2/bfXUi80fIYu7EFbeovZVN3TRdmemUnyI8NKlRYS9WqtistIq5OhQh8npHNXbkvGHaOzW8nc2xWJXTb7ozqQsM7PEwow+Eek+1UjHJSLmc3z5LsuiszosbzsXWsusktmJSjKykiWkXN9MuILCLOxbtX2jOoQUS+ElhDmzSsuSMWXOSqrFs0LoQ5HrOIuSZPjKgi5Lrs83SOSHktR6nRPIlT7Eh8Jo9EK1y2MWCKxa0vyWCiWdM7Jzf4ixFIuRbtejtnRdqIKMWJLYSSzXdpr+RWv5BWvMFMksmMdvhA4ykXIilIgZvr/+DUIBxYS//wAkybEYjEqaGvkkWz/KW/Qq8V+XndPmqQ2IzEhKxJEapYsS//VF86ZUmSGkMxJM96/lTnef5UxBMxGNdkOl/dSwvfVYmaCEyZEY2JrMswqap0/aH2e9VOVfzzJoSDBGYYyGqWVVOdaophYz5mpmMaCUzZNB0eilWVbluVoysS2yXT8SV/bt0MrJyETxN4mXI62SS6I9NWqfsRMlZkkRU+6w6lrnXrbpWabG2YlzV9l19R/6nyNRETtsJkNUErTKLXcqnV6Wv2urDasjWIiU2eZTshvLf7Y5ELU2aNMiNG3ay5X/i2yvkaSVMRJDZF9Li751/FjHsiI2pIZIatBJtuiIZWI2SEWld6KU52dT0/s5CVMYkZmpNjSasv9sVbb+0s1YkCIxMaIZlWwV6FVXqoep+J43JUyazJ4z/RiOiL08y7+qS+rhM1IN0YxukE1yZcv0jUruK849K8n8/YYyEMz4iNcSEz1bbZKutiLySd6x3qTEqRlZNEuyPfV00zdWnXG1micyS5oiq1PEOvXkR1jSJEJiMiMzQmVDN1R7fX9O9fq+v2hOpLuiXE7dlJmG7LbFzzPer2tCxsVDWJk5EQmZkiL/lOVzuXISxsQwYiGjGgibMN4xbQq+n9KC9Th19q7smIYxsjIbSSwkOczKuimvIIyRjGqT8UXflg4rl11jEVhDDAiESMZIju6neQ9K8lFRHt9apEEQRiMichmYLo///g1CAg7EgAWALf5Tnqil5XriLmMZhCEZkTSjSFW+CqfVY6oViENidkZRv9XWFT/udV/90JyJiZENSUhmYzMyeZHyxVX+HRXOsX9HkiYnwRMTFjFi1F8lQ+ZouMkSbYiE0IaNs6mq9XHLu/bj+5OTLm3hN4glMiKmrElbyd7ne3Opn3yYZbGLGyxRWWCEyCPdjGVFfoksdKqevUL2P6++IJmrIQYRLtlbmRWixuKX3nVijzqi0whJqidDLNLWiTCKj008WPJd+i6vUP9vYqjIhkJI2IxtrZJPFheUk8FtVkc17QVjIxGjNGgRHJ8W/0UV7yr88L0+RUXCGhEIIg020MTdDkp7msL7i4SLYjTOscp/IevZjFVo5BCcQ0ZAyIb9nrFxZtuVFsP8fESCdUVtEDLzmartGnvctqJkq7vBHWrWZKjWYRmIInyYemQtFlkTw7N8Tc532qwUU5EMSmb9MWy8IZdrGBCCEXiJIX7bOpav5I6yD8vN2RjOQgwiPmXLOVFDn0Gyk/glurs2rNXHylURvshhKVBLE12zU3KIRu2or7V1boopFxr2gpTur3P2EnSXKZGm+ITM2nchlEZcERiTlGeasFc4oo8GMXqLSuITEXJDGGMEGMYhexMV1BRzqqnUgrxAwCNUx+rJkF+9utMjsIjlT9i/WqDBCsiMRMQeXY6s44p8yvNVgIEDDAIRL4ujc5HVwqexo9KTaa0W58y2Ct5rkY3qcRug0YyfjnsVxNFuxKSTCI5SlFW135BABXl//g1CAk8Ev/yAIRMyYTZeQEJBiF+Jscm6odzjnBznlnjxYYMIQGIIQzCNqhXBwpT8tO4d7TqTCBMIM5hCMCBqzSG2VqGERdiQcdwoKKU7qCnYyuhkkIZHpgYDE9BBnwzPPNi8K7npCgUqlQqIMgpPjERGE5k7ExGc5GLxYIoUuSLMP0JIMhh8BBNrEYylkBTuQ3OkO9QnRMIgwSn9RmNhRxEHdc4sp3RsluIE7bMZ1pEc1xTxr8YIqlpw9AhrXiVhEx2BCAWCZ//OLmpRRXGMxGCWdIn0KTbDI8Z4kio/6nljYnc5SQQ2byJxgYvR36YI1aXmRRXCFcK0DqqOjuQyY0iJEIN+fDIjtQK/VLdBhJF905FvBVdebKQQzBiUMMIa5X+dy/kFdBRb7BmoccomejCCCEYQYIQwbH0CinOepUKKUvtEmTYQniGxxaJnRrPhXCAjdaE7xmK+WkgyLzBl+zCirL6/1UUOuVwhAuKQxhPSTkMECBPCPYwEjpZlqigp+OKtVWYaqIIMIMZm0lJ1Dj+IRtVWtIal60rkZp7WVQxl/hkMIMlYO8kOUruKeFsTRiNCGEMCDXIWw/2BXNH1EG1rY/+TnVw6tmxGlGeakNxgQpaWKyPli87fRSCYxPEO3TJHYniGDKFP8ZxGdeKtFTXshtlIA1H9NcwSqselLFal/5exs5XjEYbqhhjDIXGhGnVictH451zEIJ36K4pxjXZiwjfSJCGDBK9OtdmdTqfjlQJIxRfUCGiKuYwgzUYQ6mRSCDQ4sj8qFOKeohWseYilMISUfpUEDBk2YhSEDlD8mF5EBSoTOwQ2hCVXQCAkK6LHx+ARj7/+DUICjUSAAMAlkwpUqgqaPDIFUQEJyDasGwxHHdGJAtoouRoY0ZxSnIrpiKVqcDBsdNEgYx6s3OmLZkG/RWNa2pX0KqDIQRuEJ/d0FFHPT+Xq4u94QM6pDqmbohgwhgINENDai4JliODhxVFOMBlBRz9zGBDLSzBieTkTLKCxjErZxXompEIhGFQpjGNPdFHL+dqKw0DhxCKW4lBcEbZKIMYqps+Ed5kamMxT1agjaKHK/JDStzoaNklCwQ1fUql9B3oIQgRqbFQYmMYxGh2AoeGOH5FekPyF7DNiioEGwzaqLhOUdWosYQQQzK61fcCAyK6w4LRpBnDhE4KdY2UhAemIINi2sBDLTf0oUvolj9x0CMYRlzWT7xMovEi1pcvTBDQacy81H2id/jj6MJBi2rOyMM9II3IM3FPzDgK+rv0IodhMsLARnYE57FPlxAzCFBxCYamGCY5xsbhVBFA+EHLWvUW3pjGNE0M1jdQrAzCoEcCwSCimGfkeLJTIIbgc/HUwIISOpZspgwkOyZxVRSdU2V0EcLCBLs5qJkgK5mCi0oKiHqdgkZCAgMBMEBq/t4ZAoVY+rIIRXcCgqmQp6HKTZEwVBsZB4CBgwQRy58xbf4kZjcOBxTEICIVxQ6jN4vHUCEiSViAQGFUyj4qlOQY/uS6oZf/cGzsMGExjOtMIr0dK4pysijoGoOVqMiiGe4SYVjOFOcVJYMDKUQZFwwMiMSuHB2NF6BwqjGy7nN+IGYK7BtDdGU7pbMBjgtEJb5woqECW/EVwwEEQ7zeuogNRUOFHYJBQq5qNg4r0I1IMENyE9BAhBihwcH7JVc4/JgMIoc4xmQai/Aw3CEcHCkY9xYHH1fFRjAwwhhAIUKZBbDm//g1CAsyEgAQAPvvm+zEtuX6h1Jd35lXCnfNXebTdkmFUj/4wjEph7VHEYs838ZflVlvfjouxhWs72rs4Yq9Q0vVMVy5i5xSGrJbeRBW7cys6JlBmlvs47no69sil7K0kIX9Tse1BSrQdlJblfcIR64TLH+VSEKci9Qxi009L498MURT23k8Q5VPG+wYgjPamimMxHQT/PNatetXPe8wUV+nTooEBiiTxJpuEMzKemEJaQp5PcluVM6zPpTGvq5RN1mtUIDBFRHxiEwxZJ6+lnZGPLJ9QpXP9yvwUztbZQVRKyFPGmo64RHvmc9qZh6CuIr/T0wjCjBWJnXvJ04jkV/7s7GJJo6mtvKYqP1zkOUiCQltMIOT+tSefQpia2YZcDGLJXJDCh2a3Y6NnptVktNTlf6DOlAxiTViiNliDZVU/LilrIx5b0qFCu6yw9tL/e75Lkx0nOSS9BUJUIVkplKdpziItFzcTekl8oxnanSYWhXM6thPt1jI+PTSBQ5JakXrX8Vj6UWTduKcQRHrJTXYry3rnmRGcUiC365RRTGr8mzBDMSnqLnoRi6YeF6UyPSkSN4wgwIMjdl48g5ZbRw6E/dI7kKi2mzbSRBl/audl69KnMHGSaaNhHKMIblm/B+evsIeFtzMEVcM6jBGbHoKTfKlUbponUZuOyybWSr7IMvYwtrhWRFTGFHO4t6o3414S2L9QV3Wb6DnAoqoFvvLVc3okmoma4Qgs1QRvoKdX+pK1dMyhTxLf33qFKiXtw5GZ6UzY4EDCssk8e8o7oSWWXuKYojy3lOJ0wUcTBE7WR0hbfbBRjNP1TrvNFrMMc8WtxggqhbYlq3SmkfUbNlHBDjbd610xjkvpGtRpJtOEEbHiw9wIFMoklq8IORha5djE2zXw5xhWf7dJBJ5jNTaKWNkYCAgr4oe3HYlqq/XMzPaFtAOH//4NQgMJxL/9ADUtDrm9qLQIc1etQpE4iV5JsjGK7/+49dLEibUmUHMIKU7Z4cMIi0tWuOYIwmmUs0btJJZ3tQY8Lbgrq2dtZ9DAUp8see33eteqQTIo6mEGFBBEc8Na4VmX5pbGruIlb9VawoyLtaShhRCU1D3J3NErqBJZxWJjaRZwidW5y7EOp8ymBhT195KUlpFK80brIhRiPvX4UQV2zxKYxnOOhdRVDSajDkUkt9IIxUR0/1rJTFMGKsaNLlTjjlJefs/BQrY5CpJxDslO9vlrQMGKWXJJMnLPYwhDV2xY1w5UiHci/xFT5LYI9q/UrqxYl8uI5JcmvGAcETr1kyFBTrEvW2IoYg9dJPNohne+EIUKMzFtXFVRL87kHIWWmJIGEQ29uPFDkhb8VIk9Gn8KEY1+dFoDjvfsGGKrlmsUijRokk4r1+kLHuCBzlTF+pEXnjcKc2N/CjDKetaU5SfQhvZEP4URdHIPeMzUqv3l6dU4jU+bLHdkc4hXQiFk2xCTX78wgZRadb9Q6DyRAhiE1j75GOEK8TDtDwkwQQ451nmk1yBzpRr2/Es818q7Yl+GZC5j41HV8KIbYwO1vLY5xhk/jQSkRd3DT3ll19KTJyJqZjojM5PFCL/qzssxVkSkSatKggymt+YhWFkvJSnEyKh69QUOFHMVTyUGKVrSya/UeFp4ngoUyjyWBQxmWs9cwpWrWgSJYFBFIjyzaMU18M7LTNzsysWlH0xiGaW84cYYpBQgeSyrTqdbvBzEhZJX/QgM0eN29Nhw6KEFUaWg5Zscm4PJYZa3yUMRffSkdxRnJ2ZuDI2F3Wmtuu5L8aLm+KMeWzuysYj8dT5hpJA6rhU2nuiP47N9duK53+W3ZtTmU157WuUm3MnUEWbpF4lhmbiOisgWlzFanUaal0eQqEfsapkzue9N85UziFMotv424VVwgpzJxpegKrB//g1CA0gEv/9AKLoIcpCuCqTqYGRxQc4jBhDYmMAQGCAhAOB6jAQZEQFKg4tGY4d8DzqCgVzimDGWhmFwIxVQGJjDEc56MTNVKIRX2IhQoOhEgxi0QV8/jDDEjRx3YwZOclF6IVUmDICBnC8QU6DhQrrSBI7o3Bw6CRQYAgGZbVQkgQlHFEoUWOHKIIyNCckiexLQQJVOvalSleEydRy0yCYJlqsnQECdQ/GWBmVz6VGRCgUL8NtDccqBhCND+0iCKWKHgQN5aquKYYlOL7+QRFMIwydq7uQnFpK5A3UKC9sYEN65uXNuDIVwpxgz8k9dm9XbvbdYNh4UgZmcZFqqh29Go+BwUHFaAwYQlYyBjAgkJ6QEaus+KFxT8UoUekI3vpaGDQhqKwEWQXN7q6J4tGlznZLQQYdDHCqEikRUd2bQgTH5wor5iPinchEiIK5XQaoCJDEIBA0Ia0haiDpqfkFkLQTAUKR1WEOPDE6MebYgSMQp4kW9NMmZDGyZ8RXFb1Aroxeq5aMTQ5yvkiDC8bqQYhMQaT1gb2Cy6q9sc7IVVC/iIKQGEVAiUQSMIq0v/eOPI8NqxsKTJmbqS6MJ1KX22rTyaFQbRiEQjoCDECcf3xWxefKFKseJ6U2PZMxJUOwzdyGIQ1ZoTlUx/SQ+tNfnYl0M16qV8oq77uKhsDEISYm6erywQdRGyf55GMv7vUrcsykCRwkzGYz2jzSfWEuR+dhsKk8zFldDRiU9UxkV1gQwiJQdRIX79SuiCxGrtUYjW4WGIxl4iK3cOUvpruWjhWDDLxDPhgY0Br8keSr7N5kXwr4VQxOqlVcGEhZbmtZmxE2hwrGn0C2Tv/4NQgOKRIAAwC8m1ycOjUzMsJ7CF26fu+QXGiDITR8JvvEFW/yxnVj2KFXZ6lqIjPQQSCGNw+SiDQ62mb3s9DGlE59KehLHc4tucfkxORLTXoqRVxKLI9YEGsEt24QnJfZFh5LDCJmZ869CI5RVSV7sgINFpE7erFFW8rnDuovb+mQQGDYEMQIyMRlrZ7y2f9tKsp3Zuvh0/ufWP0ha0zCbuQhmUiN8n3giSKrkR/Gv97RZr5q1RFQzU0gQ6tKt79fl1jJ3rSpIQQuaydCPsL4kyVlTWav5XVrhKqeQnSPyG6JsSLvF6r1VSN0pJMExIwnbTa1/Tq/L0qI65LlbNpkNNiViflS7WdZ56V1sIu1dLjIjIQjRBkRF+bQ9CynVAr3pfoXqIybbosSEEJxMxviVlyI6dy1y2d2X1kNrKt0RCKsV1Ih/Zt/BM2EMaoYhNi6dCtuquXs66FsdEVSVJkiUmJskTmiEa+0peqnpby09rSTNGMRExmIRUYqmWss/38kJZrG31aFaaFt8SVUrGQyZNqad455bXQ7ppWhqSInJLLPTpFUohfUbVtolkaLosiJSpyWa5UJuiaNfpFPH8uuVJERFRWbImJEyXJ2m9VVV+jr68VZV+clIQghMQRBCU0Sp5pHSs9qPfPOXyvb7n22e7JFzTawiRm0RGVJceq6xV6XJCREhkZP2SZZ0yqr2SrKqexLfWpGqXJbZESPJE7ddWQYn//4NQgPLhT//f/7ATU5TtCF6QvbV72le2NyhbNLVlKcp0jXEIzpKMJTxCNsylTNoThacp0htDMIWnCNKylKer2ziE6T5eUJRnGlrwpOm8WnCN8Unv0M4nKdKytWlo1tDGaSnSEaZtLfMwhSM5TxOEIypfkYwpSca2risdTrycZwjSErZlSE42nCMIVtGUIwpClYw1OVqyjWVKTjGUa0jKF6SlCNIT1O052jjeryhe0Yyra9q0nKNJRpG16SjCEpUnGUYyni88QvaV7TlPF6YnOOoV1Gc5QhGEZ6rXm7RtCsLQhW0r0hGUbTjKFZWnGOIwrytIyjSOdSnGV8RlOkY2jKEJ2nKFI51eVJ1pCsq2lO16QhCEMVlG04wlHEYQhG1+RhO1bQjCEL8jWMp0rOkYRhKsaYrXUaZ1KFcTlKcoTlCE4UlOka2nSPqxteNpyjPEZQ3K1YWhmGs2peGryhGWM0jOlr2jaNY5tKksXv6s6X5G0ZY3KFMwxCVNwrW6W7TtPNOdtLlZcleNKSritpq+xG84VxGvpzhGe8c5uE9zxayzK04uycjXGJMp6jBLM0q7yhGakJIKq2gtPEN5hCEeaTYYJxZ8SkvrdpI5QYKqlEUCZiElp83RtbFJaNzVaxKL+a0QU+9VuUln1oMOKtweK1LKa7eedZ2Hhc/DmCJSbvQ0oZFWiTLmVv7KF+d4gZWcgVKcEYHojKI90X8BSAE6j1mZGmSaxo4GaRuNpDW/Ekx3KiaJgSXZrAQEz4kSBQkPgyyt14WiqNr/cCnKHywmmQDipm3CTfvCAdRQDOBgNKLioE0TAoFjRUbfC9zAFD3ljIZVFHIRUXBFE1s+Inhz8SMusBDtz5agoaJrr4NLl9LVJ2ChYZBNEtdw1wkIgnccPE4aafJ+CjgL5qt0WNHw6EEV7hzw+bPFP/GGx02GgUF3WhXI0OIvmydRgOPybIqkIvB4iBVlQFCCZ4CDQqR4mCo7IEHCYCJucWVgWJgVGAeqCoaDiI+BQSEy6WFNbKkW1NAIB0KgmDClCYQGmwOkxQWqHAQCIDIiaNAcMHQG9vaYa8OskGgiILBENgBwPAVAB8BABIdBMAoEADYGQOAwJ/UfAmJGol//g1CBBzEv9SAuI6AGF+B+ACCWEuDaH6BKEOBWAaB2C2AeDaCyHiXyo6hCRiNaUyNyDSBqCeJuAmJaAWXuVGJGV+fuKWISLOamLuECFWOmACG6AeAKRqUiC+OGCSPKGCJmC+PCE6WGUuBiHqG+VWLGA6A6LeKOAOA6GWL2E2FCFKBaEeFCLqAKQuHeOKRCCiDKMqFKRGQWFSQiGaBKFqEaJ+ROG2G6JaCuEiM6B6XOSGFyS6OCC6D+MuH+AmB6GqNqHqLeSGCGMSFSL+B+M6H6OGGeIyEqRmGOQiLqIeJ+T69DXDU68aoyTyNOqeaOTCaaAqVuWGY+03IW6GHGRaDCZecGYGcOKeO6dCVieiWyBiP2ESaiUiBKMSYiDe425uBCdST+veC+S6efCeYWNSE+VuLqtaDqvW02BKeSSiRqYSUSOebuN2N6eiYCDaBKQiMyXWcGCuEaASSCcCO2peBGUCRWrWGCvqgyIWPGE+GGEmAeB2GKeypSCur+e+ECICG+UyyiTyzO8eB6liKiSuEeUqd6Eqqm1uUxLg6CZfb0SW3l1p2H5Uyi4eYxRj3h6NprVzumdd2Dk9Emt8urtDtDl/1mFJVVVQVgE9kLEU89VgEeN58Zdf05ftuk8wkSfluQem2KX96fejpD9IL97FUg+ns6vpt2SxkmFlHqQsWiCkDhJlsmwgGmFhnjuhchJh5mrubndm8rEgonlnvjNjWjChFjzlCugxSiyzD6Pmn5M+qswq1xxwhmrlusOpQjshknPu5sZg+pKjsgBmquqjvvBSOD0oJvktzTNp3oD9+qZi2eiJbkvZIGi/8NK1zRGgF/Imix1zLhg2LVg1FGQBQRQNTnwok6mepzhIrgmuk0kBRctt/0YqKl1BOs9l09LmlSj5MuYqPWCxUMFt1Or8TfHlBl50kFPkvky8GdtlbUNEzWPE9LEtY7eUx8oKVHo/ZWo+Nqbf9Iuxo3ccZ+5mrSMiriIY4ibJqwKybT7JNppJplYk6k+mbN+PvrLZVOs/Pc0GybGftdV80rr07DFoA06BrgopHZ6v3hEYMmL4w0BuhLGDpEKQfvSOMd8tDVHGIWqd53/yVUnXzOE3hXJc0soFYxO58CqrfZClSGsXRkK61zjITKhZrw22M7LHiJWX8FaY7R9fdxKfkxOarcJTRbf0kIiGvCoNB2xSdOScQ7dQQqMFfI8fqoEgqjuc2U9GCj5re7c+lLRcDTMZ1YzxfZswjTKxdh2xWPer2zdWIYR1KFHXqbNHxxcqxTP1tb9XI+H4620z/2XYnbQ9p9OKmsrWdAA/UAAYyCFQAIKQDcN54fSBxWKIQCXQAS7A15AAEsIFa4dlblAG3YLIwfXAXJDp0BLikIAiGiGCz99kAYKBjo/ZrCBqIJbj1V5iNahBkKJQSvowdnDTMKT1XtSBnaHRb2NU9n0rFxtQqcXSle7P1iAJuAsuxauCIjDyClIjFj2F9yjgIrRkaTjCCIaLg6N6cD0xw+AxjYlgZ3FswH64dngsyAncPBQY+ltAHESEwJc+kwg8LpFs61lpEQCT/kFKB9KInCTmnHdd7kSYEQMpvykxRAX3lCLFw3ezZQ1gSQAANPAB6AJ7QBtWPr36T+EEGY1KAB8wPnAAZigAeBkG75gNcQMy06AESyC4FN4VX7eHkS9qu334MTAf7GvHJ6GILnD9RueRdrbGmRYmEybtm8knBFKZV241J7X9qNfo20WoaRyYtJ4bQL2pzU9gw2JtLR++hvsWbNEWd5FYV1NoRinUS0qUQj39jmzGoZGUJMm/cTfCiE/dNwAlOZfjfUtWApKpKBHTCQBYwb9BHK51Cso3YEfZeGYvPKDnExFYXeiCjMgfEgTv4M4QlbG4QbNCukGl4m2ACy4BeQI8CPazcCXkDdvk8RQH0g2CDeT1MAQEgCTV6mnCOhxtW/CDSprWAjhNdwiMM5DmVCyCeAFGkjkvITnDwRFSxBEQwpCJUx8fe0RiGZoKH/4TERTOBQmEKLNZmYeOillE8bEXvu60ax8Mh6jbbSF6HV14RboYfSBpZe3mM2yJDLLehc8dPVWzelEIT1l0/FNFS1zQqo8EXCDGPczedHPbVY4ogE7jKko/PCh4MuNGSalIbweljy+nszotTOi4/3IyWsQy04F1W1p7/mcDn4BF8CDb6wTGhaaQw25p2VPQCAgDQQR3gC+MKq31CVsCJ1tCH7hIACVELKXrT142JeSnsBhgofx0BQUMSCJFTCE+gviM2RA+bfCp4+rDnf0IbpMNQYuvYWRSgMIw+gyu7BMYm6bn2GuhcXC4OMmkRLvHSFfQhCY1pJxDMa5MqSddZsSEJUynOKrwpbi+3n0yuIhTNmyplMiHKR87isSgEkP3QFG24hlry+KGDUxUu9Vd6CHTs8VHw3iYraI/fWMkAXDhjatjeNebF0rusioHtg3yHuxf4T+gujOr1NjODMgwwCrb4AN8QZgp72dmF4qBdRtNlixPuJ8YEyGCNsp93tJPCxJCRmIhmQKI4FTVonxtyayD6pOSwRz29Hb/+DUIEXQSEa0CQX+AFign3tT/Q10f2JLMdmurRMbgx2gWM6ttoPsAfspybwLgAxD8XOgSUC0g08CDQowDqB94BZsZBcQYCALRQaGgCjwBhKSwPMzABL60QEIF+AkVlYEGD1lY4oFAOEsU2A+Q78deNeB4h3IDweQAKcj8AGpg+cAcIAT0AXyAlMAADfgAAAASgjIAAADVQAY6ABrgfsAAdeENgAABTAAACVABYYAAEtpJAQ4GngAn8ql8AKVASWWADYhxIBatJhVQTCAVaKEAA9wENAwe1wBCAL8GMt/DsC8hurixyxajpWrqBDuwTvDSBAYqBxKWBYwM3AOjMOAGqbaAHLmAgBZwG5B8Y6MBMwB4VGhF6+AS4RFOd5W23NSQ5Jm4HHtxBU0bACIQaiHyAgwMRA1PugyCURod/kEddRq4iRsigtRxEV2cDJ7OCDo1O5fSXkNSYiCz2ShgQMsDLAMoAUEuQCjQOPVCLmDbA44JMeElMs1pubrLFEhz461NNDW+ovl2ehL4JZa+WE7jWarOGPMhDvVTEuVutGcHAdlAkT7G2lk/etFN5czJKnRVZrd+JiRCbakNV3hJXzs3oZ9A5FKNAihrDwZxPIc4vfwWxLO5lQOO4jaNmfmXnc52nVDXzvynBHzOxbeUDGOGdnWrovezOSECUtxsRcJPkf4NgiE1eyAIoBSAEFBvDkE7mUrTzgkQSINUFBOqmCSZAgxo554gNadLYxI9Q0WzcQ6fv+uzUOrOy2uJwS+2OyFIIxOlSWprrvJXTn+H6qhtl7yUr2X+7O/fhaNsPTitW70CdZ4//7g3SmvPsNJSWJO2229O9rCIjmuDYkgWWYzoqWoNkygIZlubLShmqYxybNK2n+V6Swibszr3Vtulv3ZA9LXNj8GRk9HcC5B2xFGhW3fcF14+4zhy30KkIKQ5ElN2mjsltT+gNIyjsfNoW0U2qvpGCL59XXaW0KFVerVyGu+lRPstm3nuqJdJ1/j0PrLQLrc/2roew4PUdK1HJNozTOsDy3F1ATpLeJx5dU4R3PMsVFREYy3H07TVDdkQpDEqWJPUOw/NlBVZCMq2Zu0b6zaHPTHl8Z/NJlMzbRUySFBMAM8OCE6Miy7CKSmqPekYowZFiFlDKiU9W1NpjvupYwzGQdiyyN/v22FoF7tcdwyJF3K+fWM+yMlNgvyxHGKl0o2vC+Fqd13n8Hvvf/P0+N5RsW08Zo2FqBwGo5SoS3cjjHjLEuHd5GyKjpTl2PJikiMYBoa6JSjuEZWt6NoxnasoOnmCdquSrYyh6ApmiSXoFhydJdkiCLwjuD3zEsEXICza6I/im2lYKCRlzWyJATNzkpR5Rdn3PIFfT9OEHS5nuBw9BtV932sByvM+Z4LZOm2f8/BzLZv0qBh2At1+/OdXtHe7VrvC87uGTaXnWN71uOhYRhuy5XlKBJlveKLEmKJ9DjKWpyhuPoMjiE4Tg63r+m2N751Cqo4iyf52gySpKvaU5Ni2jpIgepoimmV5+rqNlaOmaBpUmVpgVRSlqybknbxzHEI00iSo7n6kKSl2Jo837HqPqOu4VkOhZBq+OdlrGt4VmVFub3LbfA7jF2z8Hwdh2rq9z5HpOB5HidNwvttO3rFdf27QNNwvdMAyXSddyZFER17VtDUtR8Tz7G1FQxHNA01S0LzXD9gUVXsJYND9fz9TlNSXFce1tBUi0pJ0/RvhMVbs6wrhpCOIWiywJ225VG1IIVN03nNUsqapcguc74oa/sCqqZ4SiqMbf3WqJCsHsbLpCb9bTXPsbKB0fE7lvu3a95tYsJ2PmOlpfrBGtq0778TyLYO1oPh6T4budDcaSdf9z07KEb0LM+ayFQUJWnQcrw9fk50LFNGRtPsOwxqV/11ktGTVlUV0XHsrV1HkJ0CgKs7BoKL3tCujJl3Kw/DOYuiHzlQK2Qs/Rg2tZBLyQtrT3QsrdRV9FY9SVgqNgrxa9myE4lbzE94RXzv4yKi2+bLtWCbR1+x9V02X7H53CY32G/+9siZb5xnQar0XqP9oue9DhquZYs3Q4sq75Yng+SLC42zYy1jYZko28qiUrol0W9w8/5lCUEYpF9mxbo2NUvHEqxbYEebRVsmA7g7/+DUIEn0U+vf/HwKyNhNEPsKdOIcKKMegyJWSyuoUE8p3vjvMSkk7sgSWptZutthbVygj1OKGEtLPQAlJK2jcGYAQykzDCOFeqDVdrPHSV0FbAxWlpCGX8Jp7RQrHMm6ktpi3lj1VSCk1YXX+qjJeAcjo0w8i9V6cdZ4n0AoZA+Ecf4yxtg3lCOMl5WwCipKORVjJT0vmrOy+VQYHx5gPD+bEVYbzAn9rGKUjkOCgCEG9Sbq5ahvD43OGF9Fxp1I+uzuppCz7mrbJQ5SSlHIbdwxxX+OL2oMEU7iYgtyaifSYZZgnzv+AHsLZUblPNaZ068G1btJHCncmZJU2nzPWOM3ISxqgpBmrMOahVkgfQeWkK4sQOjLDWW1Mpzw5hFISDc74jQOk5EWIcHpfSjobEStUrZ1xyoRNmhtPKlRdu/FvAUCKZybsZKit8bZkTykfRsiALHKaCJo1ei351je5AesDwlxjo5z0oWe9cFTkPfN5Zeg1rV2NYmVtfLsWS5xZyvUYIRTQx5Avdc8+NWQuTGFGT7nM1OY4+mtChbF3WUrsxwZmNMfNdPrDY1yDjDjVObF3U1ZcmrM/rgVRkniKn0uZhz0hlU+Z8/JuTzsjNK1EjcfwhsZPa2915WZSj/eeU19o10lixKKHNFaHS8jXK2X1arhzDoVhDRsgRggN2S0AhOHUY+9kYz5oB9gBBT5IDX4FE2o472LY4CiwtNqMZNEP1hbV5mcOYQhDUf+X6Lm9Z+ExdHlV+JbHyNkT4m4ulBqneNPaAybklF7TeYYcTyw7nWBcUL73xlxbisFkq2SXp7CCkUG4jZO6BIq2MK7WS0yXQW91krT61oJZSTeiZH1qh3Zmo8jpcQVjvFeMU4IpS3lDKKmUApjxMsBK6hMM5URUlPEug0+U8AsICjzN4AmOAs+uIG7snIOAFOgCYAI1gADr4A0iJ3AZwc8Q2Cwhb4OCgEhx01c4VkOCOlTnbbvq7YxJ1Pg7ahHThb06Cwzw68tawrfTenI0RalbarGjvpe8e/7+1mld8lXW2sLZ8zP8cmRWTaOZYXzAoN1ZLLkEI45zijZGWBOyLKTNyzBmlkl7K0TjFMm6dRZAxnkvAKAtG5Gx8ohPGecmrhQemDHi4U0oMwKkZEuIkuItT7iBfw7wCswtoBVEADKoM9gKzAHuMFVeALCB8QAAkuAAAEswxaAAOBAAMYI8j4JySiwAWvABMFQ4AJGAawlaT3drI2zxP+GqPurxuJF3kSXGzEAIFbACtZ7Fto4FSlYWoyJHqTEa9dMNoQ6trtVO9RnaMTrbZ69VhK8KofMa7InImeg9ZdSo+uYi8C69YKP0doO23nvF6gkwal0VnvcWosHoTURsjBWCEv6+w+ohFaksLa4VkgPEOc1HIMR7ihRCO0dIWUsr69wBNoClQKRgABpsAIBgCswAA2wTmBLkHmABVQAHvwAAAAZHACu4AAAVIAAAAsF+EADW+GRvIAIugADuqdQAAdEADEA1OBVlvdgNpUWYAhBJgMW2TCuXmjubIgGQmqgLfgmOeMBDiuhHe7SZBBMYT+2upxya8EblkWSb9kf1VAm96ZE7yL5aH/NliEIvgdisJhfjctfIKNbsk7M2BcO7nwg0hSTf/VYiTayjmuwWQs/o5wW1xG3uMAdqQw0vCXsE2L7xB2JPLScZ+DZmuPVezmPrvs1A+AGiAOPgACQYIBgAR6AA0gcVAruBmABmIABP8AAAF/0IwAAAU0AAO3AH6wAS1Gyh7wAINgBXUCEgACDxkgCFZXtLRnlIsKiBPw9+EyS2AbI8Wd1NjBthrUFs9vhF5mR7eUbFHBxUH5q6UwFVYJJncPLP+r2xOynPIkWqV/hjzJCadLmokUqV2BwpRjZ83kgOJbDuzbCXWS734+q1jvrMha8T1vDP20EC7i15otLSmNC8YVEqrfHm3JL3+by4pJVVYWwTZ0vHr7cvwcAWNMUAILSqAAS1ABJUBmwAAZc6gACcqlwAHyio4AAAYXADC4AAF4AAAEFgNbgAD/ZOwAExgzOAATVoYAASKDFgB7MNGgzka+DU9RQNQMqAfBOAgbuDKgXZEvQX8DDQKZgXPGDgEbEswKE1cBoDS4GSWmwaCfmBK8/mELj0gYvCsp0YMOMshD9XAeaxmEDYRjYX9isdFTunHC3/gy9DBDjatLOzDys7Wu1mkryrc2j6NJTWNy4TU+glReysZbORcnXNujkxIox0oREudNmMTVR5fd5NaR6+8GWvMQEHY2gQgB2QLDgAKVgnKAMTABZw92AjGClAAiAB1UAADhI7eAAGeAAd+AXjADhYt0B7INZgCI6sABn56oNclYW0thUiORMbChYhKcgHwk4zWp1gLzL3gvHX0McNyH9V7SqiGxkN8lLxGRcVA322AnfU40kA42b/+DUIE3oUCOMErQICZgM8AlwNeAe0VoAXpFQFFVgAJYbABMxBQawEqHHLSXwSo05NSwJYadvzkbANWR8a4pAZUYEI0fYZkJ2McNkISO6doJ4S8X8uw+i/jGsYNVqxK8YIJeDF2FVttjwGYAAYw7wAAApIAAACAmwAAAAYgACvAAs54wAAdYSwAAAAAWUAAAAGHAAD6AAAAAAJUEsAAAARUASEABdmwAAB6wOWAAcgANYAX0AJytArEHDoAH8U8AFrF5AGMAggddGQA3QGQAELACgh7gAXrDAM31wc6YAU8q42CIHBVdOjEhOf8NA5IO6mACBTQBpTugKgO0DLhUwXACZGdCmrENdENWnGFZtehmljBG/QDoIYBiRZwsARopodWUicM48J256Up9mbFdoQwTvCflxJYEKQELbcQRAsQc8c0LMDpHvAWtWAAXoAtwUMALiDSpgWBFBRAFmBCgQ0ADXgEDOAAyw3zDm7JS7ZD0FnBBiYMKD5jtjyAKM/wzrZvpLRR9IBeB+jmn3LIYYo7PhBB6Djhm1EG05oz9cFqh49JBWKWhUVpj+0xUX6Kp0lVE43K62QkW0Y1f12NJDC3p6TwnXTJjE385yTo7NMJEp7PYRPJX1YH5IcxdLJx1BHTKijB9HBAmvNAox9AREKaMYDcMmDK98LkEQTDkfEd8ITWBYGA2wiR6hZwCCjLjoBzJye1jZvl+PMqphezr0pU/0H2LZzTMrmlROt1nY2wDhVd4c2QIzEqIeyvOd6NNPr2IXBOy86Fkk2QtQ5YhUo6PDjuyzVVQ2NMZdGvR1vCCICQubOVIkzmSlRto4Iz2oaNPUUXy8t7KnmnRKVHdB0O26sSRKAYfFaq+pbDupeJfNJ9i0/ib4HE7Skp7FpqrtjJEZaGvH86NR+3aZtJJrqUDxOc5mHZXo3K2W2z7pKqkh6HwpKkIhWbmeWv0VlN070u2/dgXk8Eepuznt6ql3qN80Vd48U10T0sXw1Kk8bnOdn/WQCO/2f4CY9OmMhikvSeea6HwXCVbN8+g1jSbqGfn40jlRO34L2XNibulSDRnKyWDR+OxKYUy2RGxw73ayg4uLYSD2uD3ahTWTySIV3K2OAzSGUGuzeMz2ayCSUXCzWZVSTQeZ0eOxaLQKOSyJUeiyjGUKm0GFVKZQaHxaWRqAQ6TSKBx2Hyy0S6X12E0KYRWQy6NTOixCnQ6Jx+JxODRCARKGQmcyOGRyCwKQQ2ZyWKQ6LwWkSyi3GH2KeRuQxyLSufxKgSaBQWO0WC3jARiQyyXQ+jwS8WSO3WP0SpQmgxmFQun0OESaDTGixeEwePyuJw6HReeyWKRSQzWLQOKyGNwKKSSHRmQwuIR6RRaDQWCxSNR6VRqCw+DSSNRqHQGGQaDQWESKDQGGxSGQWDwKEQGBRCARGKwOERCCwGIw2JwWHRKAx2Gw2BwKKQqFw2OwGJQ6EQOCR2FwSNRKIwKAxSORqbSCIQGKSaRQKEwqFRSFQCBwmKx2NwuAxGDy+Ww+AwGPxOMx2JxmAQyGyOQxuAwWCRGHxOEw2ARaBQyQwqFRSKQKEQqPQKTRKGQWJRCIR6MQ6Aw2IQiPRqBQCEweCR6CQ6BReCwOKQCHQGMxOBQiBQKBxOGwOBwqDwWLwiDQmDwOHQ+IwOQQiHw+EwqBxKFQGEwmBxiKRyGQaAwqJSCJRaAQODwyHQ6BQuIxGDwmCxGFxWKwWLxmBweGwOHwWMwGGwCAQOAQuCw2EQGAQSCQSDwGAQ6GQyAwGDQiIQqDQyBQSBQaHQqFQKBwSCQiAQCBQKEQSDwCDwaBQaCQOAw2BwOHQaEQmFwWCwCFQaAwGFwOAQSFQWAwWAwKDQmGQGBQGBwSDQSBwSCQCBQWBQCAQSCQGGweEwCCQCEQCHweBwGFQaBQ2CwCGQOEQKAweIQGBQGDQWCQGBQiCQWBwGFQSDQ2Ddf/4NQgUbxQABQAIAmAoGgeAoAgWB4CgKBIBgaD4BgCCoIguBoBgiA4EgSAYCgCAIBgSBICgeA4BgSAICgGEYOgGAYBgCCoJgiDYMgiAYFgCB4EgaAIJgOAIBgaE4AhCBYLguAYIgSAIBgeCoGgiBYFhaBoLgKCIQhCB4BgGBoIgGBoFgWBINgOBYGg6GYJhCDYDgiBIJguA4OgqBYHgODoWhWCYQhqD4LgyAYFguA4gguC4FgyEoNjOGIkheB4VhSDoXgaBoSgCDYBgqBIKgmB4SgqCITgaNJfi6EYqgmN5YhSOYBjib4PmSJ4XgKGIViuF4yiKPYZkqTo3kmso9kuCoYiaqYEvKU5RkaPo5ieTIYpGDoshuP5OhOJ4BlaII1hyKoniiHI+iGIp5jyHKJjqEoOneGo6iS6YkpaEZBj+iKAo+DpClGs41miBKrk6xqFk6up8lWk44jaPKVgSQIkiGkYaqCmZgqq54IkaEZNo2jIztuYKwhmI5YkqG4Jiajpls2Laf06M6frCbITnCiKHo2GZKjqV5vqGkoFzeLboiWQ4oxqjIHjOcbAouhZwmCJ5pvag6xjWvoi7+c7OiOg6+1i7JHmLKqNnOIJju2+YMkqb4FrSXpAiisowrG1adyPQ7ZgiAKDthFl4TnkWiWtQM51lOuuz3B8V3Ti9gahAsS1tbVMQ7QUI2nUc/T7xsvWJTOK3R1llUXEduQFudNOSWJTfSzZgnVulQnbvqtVSXZCjPqlKntexKG4PjyueDQzGORaZP2YIi4KPJ4+TUNBUzrMU3bzOU0fI8Y0tfUaQLFVxQ9eMJWNNmFzHZWXQ9P9wYFHEwwlCUCQtDUz3HXMdw9HklzTNcxz5MUPQRI0PWPJFFRVB0GQRScETNFkFyZFlJ1HLVhQnTsHyRG9jwvf1EVDj8AaxI1+xIWcfcnjU6XSlhjtxZL8fVJPGzk7pGMs6LO7IJUKWtDo9nq6Ck4pprYrZ7WwSExoqhQUn9TnvzubJ9eDzOOoLUDW/HIwtSJJ2xSwoMhyRMKvaVoEzxsjAIczu9FnWkkdPMmx7+7FdXi6f0X9bXmWRzgdWb5LVqwD+3iQ1V9Ib5eUMTRRkaTLAct13Lc9RT8KQZI4iHFA8/p38TypWE2JfZ0ZEQEYBFhtox85oLCErgHIj62xEogEPhxITABDkzCIfoBZAy7xXk1ptyt3+z0TMUQQ0aQRAh5QBLXPGujfSlWnihQhtzMt5etedWYL4+bmtOiqSkEepKERoab8kjYFaEQKggnuYLszUSuSlUY5W0codKeSUQilDO/MWxC94dT0nquoF2xhX2SFEvJK0pr5eHyCrEMtd3PapDf6/XMGmX6T/4bymMeSvXVidu8QOJsAOqB6wVmDCQo4DIAVmAAT6C1Q0QjUAB+oBPIBtQAOg08BKrxAA0oCHh44MP9YKwi4PZEIhnQBpwa8wvawWADulagbiNPjYTWAVOBvOooAKFEh7wOgIyi1Hx9D5NB01nxc3ATGi45ouBHVCJYahQD6SyUV6WWaPXOnvXLSUX3zY1LBOXhUj4mKrs99Y3BkWoxWWUVhi6U0GPG+MlnHfGTKaeofUsxMr6FVkmE+3GWMih8/giSC2HRkBnqDUNVHTAA7YDcgBXYBtoDfgC+gAP/AAADWSewAZEBUYAAAPrBfIAAAdEAAHcADywAKBABJAAACIsJAAIbNrACsBhQBZIJxA4oAeQGROYEDEXTjaKHwZyAI1At8xkK3AbuEtilAs5W5oIzABehpBXeMAkQ0YzPDQSYGVJzWOEqB43zjOd6PWJHAt8Y/zSkQYKFQwlgRG7tUAPS3qrHFEAIcS045pGsakqBhXeR/B/YW4httO+1WxctFk8u8209GeGYlpdwoWXxHNOqwJQsD29yMY8hWqRwIKAAJOAGsAELgAGtucAAgYDrwAAAAoUAAwkABzADigAAA80AAA8kAAC/AAAAAAtI6wAAAb2S2AAADhgAxYAAGDgAGpgDggAHIBbYAViHKAADAABD28MALgM7AhcLPDrwBSIA0UIVYqFchWZHAEzGTLV3QOEHAaBiRaxhjHCHBBRrz+n7L+hn/dZRKaCLpEhnhibz3SGWvtpRrCl4VokokYlZLSkC+jCkRR4vgljnvrlR+HCETvvuCfDVRkfm1g6UQriq7oaaeApQz/+DUIFWgU94jzYgLnkpZjc2oqYq/gw3qwcrTotvOxMorzLraE8QS/T9B+mKpzjZOoDS0B3D4gBqkrTALzbwwATRALEAYMgcDj2AD2A61AKJ64wE6B1YEUqrkGbgJDtWyLPpzA4ThjoX5GgsvPLRbzlfXH6kNV8XZQevc4OSXhFd/rOyQTPSIQ6f1JjfCJb1ee+3K6VRf3bN/oKoB8PllpF3dvNmMlmoJhh1S62pIla1a9erSiZoA1grknVmfqiuKlPy1pbkSmz6x7zmNhYrH1vlbsQp+k/kfp2uKjoivl8sGm6jknqqahsgllUnqk1wZgakKUnCyQTlEIYNB1t5/soHAJNwlBB8cCagFSYFc4FcQANgJrABfaXggJTnmwBaeCN8C/4Bd86RHYo8IAQoVjBJ7m29KKhQYWvHW5VZZ17RWZDYOFCOFJQ1ngVHp73uTUrgeo0mGJ9Jf8a1NTbqgNIbHtolmOpprHl21fTH6Nwd4f8Q1czLST2MwnZNYZT0VFZsa3VEQaRsY8W8Qp1F0FawRGaI2o2DQGIEUUsAFkWFKCOAvuqoDd2q/Z7VqrvNmojrih6pWBfU7DyJusuB+pKDqpW8GM6KZpwLMHuQ1rD5fcQSjCbcB2jRuARaG7QC1UYkgCa4AqMBXKAK1W7gCPQoTANHZHwD4IJXgijWvg2cG3wrfFn7LpA4EJYz1bsGeTg8vFbbG4DPkZHyaGT1bIjBwfPOnByi3YkkyJSNJ1hvBTtCRRNrIShQqgQW8D0xSvePopZn5ALU9WZt5hIO6DYmK+qjpfqtqXISIlr+LMJk5j+Ht+q89e7+u8MhVmM+/iEfazfKf7LU7svr3ErpSvvx+RLdaR62GXDSiiybeQi3yDmu2BSuiLexeLm2qFnsYWbHpAihAl5mDCypqCAVrt5wDbQN2AE+YOAQHugAw+DYcAEZcugBcpW+AJZWEoA1sAgoC6cVXgnwDywX6ghpV4CBAyNC0NO4P6qwxaTGYbbdchBOiFMYLcD4vsERmEAji1RKXPE7Cxl/CziNerkXaPxhZtYiUnxgOxrvzEexdrNZOWJ1wuSpBSj22d7dgE3JrhIiOVGD+WLwBAIn7xpbEJzkDvPaPRCN1iq/j2zMnN7Dqxl8mqiyuV2nif2wlsQ94Y+aIRrb9tddv7JRd0bas0LAa6dKq6vC6I0gVly/VJ0CxgsMAxvAynFPgMcgSYgCrk62ABIRmUAFnr60APhAQAADQcB+eCawC1AOIwMWwgyAM4uSgvltkDGbLodIsDyVT6AhbWcrbHTFl7ptC7CNLCsZXxxIprqeELsYa9jnxPDoSzGXrJw0fJXwfVJyzf1wkOFE44bd5DB6BJODudNKCkBV4Dl8QFhowe1Bo+EN44IC+48dC6socDWJWmEN6QoJSpNxIrukMUIaz3+qw72vpEesUh6FNGIbbfzp6kI9X/BJUsmCWXZlnte8lVhYWHSjor8mGS2TrW3mQngovK+YjDJTO4vbVlkBzdrJBYgriEQoWa1OGTRbuGdZaMBgtMKBMfc2BPEpmAyrH+Y52ErwmjPuR/ADIDa8bEorBtwifCJfKoKGq7htPVWPdkbA4DKQSPrrQ9BI9Xni2R0yjFdBdhFvf4JYsigK80ZIjGJSmoK/kn8K5E3pBHvESBQEMi5of8pQkXORsSlZuoc+851j/WsPSXym5z+j7c2EBy1krjZBCvyt0QN27CxyjgQg3CnhWHxs/cidrUzCdvdcS5X7DhNR6LbFKwyFaKi0JwoIx3HZ1kzqLBUpJP8hgeY1LkPFMz92MQogqjMF6dj4ql8obL2ARHEUoBEWxDAkKRdAIGWRYBQAOOAETYXygYIBa8AmTA+ZDGgCvYZ6gupCloBd8/dA1/QmATOXRgTT3igQdFlQ9zc0jMAjmES5y6tkaHNJXaKOprty2zlgl54rNQK2pzQUdUMVXSNR3TQTES1W7XQU11d8HKUqP1I8/S5KI98TgyxCx6a3p4UmSQj0dvDCmnuq4S0/D7BLUICkuNU62xDZ+WwN6wKgozi13SUyUZ6PdyM9MQQBcokncpj8qFIh7ytebcgEK6VtwUssdgtWW8BGgupKV1oBoF+Wd07uCUyFMTN5kikxYYb+smRWYJJio8JV5QD0Sj85bjcEW3bxaKlxZ7auEZbZXjRElbrRClg7C6/8xuiwC1NxH+kSiRe3M48ddUX/fzc2BQOSM0mUUVs080EQxb05xzhVnS60ey2SKSwx0yXRQSXwLVxU6RXxN0GVUQBSdyiTITOzyzNWtQ24e0X1wW1Vf8ZyP6PTGZ32K24UXV3zy2cUPXO2p15Z2QN20wk1CS6Q6wowBQdwyRDRdwl1CSPYj4i3hdGUv/+wb+zTSeP2T6/X7YW4x2TZcTM5nwU46TtV/0T0pVOTix/8NfsRKoadA5up7JoYz6pJVJ9YebGIUOk+14zbVJeoeqSJuKO7wYQZ0IV5f4TqrJ4o9pqJMpr7I4QaZpEJiY+5SJVoKZF4v4oZL4h4NIiozIOoc5V4m5AJxIPJgYsYsJxpAoJoGIi424PpuI0o+Q5FP/+DUIFmES+NQCc4/DaqWp7HtWyCZofpeHZgoiRIInPC7VpzkKg3P6Z3ra+LEo6Z8RoWyMgiqwazhybpwkyJInnHG8/jL2sm29DcJcNDnP1zd0jWnMNjUdM9Kz3C32ELEcKi67ykFe0g5djKEzfIjRWiGKYnerahj2bKKlnKdB0vpfh6HU9f4nYcRr+o8v5Ps9lwW98N0nX85wXNeJ2HX+d3u/63u3EclwOzaZl+d5BhGAoWgiHo8oqoKAoiuLOp6mq4qibqQv7EKQoKoJ0gyfs4wyFIfqq6JcheZKkgqO5OuqfotlOCYCgSTo6iCIZdiOKoukmXYShyIIPhOMZvheepShWKYwpicoEh2BIYhKRqip6NIDhSUJumqQoyhqPJIiaKo0jyGoli+LYvkmQYfiGR5Pl2X6Lp2YZVmeZ5HjORZZlub5dmmT4ziGLYli2M4/huI4biWG4Fg2KZJkWD4igyC4nhGEYlgOIpCiyEokkiLIUkaZJikiTpWnCUpQjyOoeiCbJgk6OIYgSDIejCSpklSJochyIoah6OJEiyJIEgCGYCh+AIKhmKZDjWJYrh2FYjjmD4FgSFoMgeAoJgSCIJgCB4DjOf43juRZVnelatqG16jnmn7TtGla9umr6Hm+kZnkuQZdk2C4IhqRJwoKaJuqq2KQp67MqsrHMSxjDLavyxrIxa6qqnKepgj6OIBgmG4rk+NY5kmJazlmJZVneZZ7i2EIngeJ4VhmTIhkGCosiiAYCiWFpZheD5fkeVZFquPIviuc6PkuGYMk+LYKkGAYbhuUJ+jmLKQkGIITl+BKLieQYrgyGbfo+fZchKYaOlGIoVoTjIFkKRrezqMIdobBKOrWRu0qCedvhCqKNweap013P50rOo6mhfkaQuzGb1gaLJVlqJ55kOqqwveY6mp+YqqpXGcU+Lcbj4+poUz2fPD+u3MYv+b8wy690d9E8Ck+fxzmuctSR4AvrBJ4sqNkwc+klJSvPV5MxqCVA8z4BHjaaH36X1TwarRS+jqmkgo9JrALiaj9rgOJZ/ZClJ+XfC9Y/x++rtsbom12fdL2gC33xL/lhJVLpFQl2TGcP/BCy0y5SFE0Hr1gRBrok9XAxwQLtgkon/LRAWAceyprwTvEQ16Bg82QQTUSSHvnHUcMJ2AuSXAI/JxASAhscap1YHYoKlaPPwuDUzc83GRGXBhayRr1NHJolEaAyAFYikQcsTMFPjXxoAVExgDRz8QZoqobXvoJ4sUAxETYDEKQAeH+gDRnvgt8lwG9BdoYKDcoLIPJmIeCuV1gN8gMAi3mgMsTq5/RBngIXGdglYIGP9IfO4NBXK/TJPdkJSB3iFxXtCgck7wolnf+CXhgQhsW2HcHzOjWmFyIQA6X3GsE0yEM0l4Bj7NwuAuwCxWBhWEktRHn0YjwTeMh7IGQGpgHi5wFDKWASeHQgkwTIDnQRyTwe1DwL/3keFZYWP9B110JrXnIBwTrGfikwVMAnAcOD8QjQFIFhgmEAC/AAXQARSAPLDTgAoRJQqVdgFKE7BSPljiBrQ43ox9xOzNzDSk8Pz3trga3A7bQ8slkZYwIZ2Xu/oiIL5EXkbFCXwjVPvYmlaKb6R0J2PDP3EEExCyxC4I+p0N1jIU1QIENy2BIizAAhsZqANYCvgHhgNbAToDMALrCnwIaBGgArkWuAwQN+HJhReQGhJSI/a8WEmMVfmT2NEsFVlcDAZ6FbNNauUongmFOokKXRAeYmqEcEq58m0kEnAx7hyi7ErrvjZAk4Mo4MM/hMBoAJuJzkoChBEQ8Ft4PGD3D8Qtk2YFnLTA3cYLUWnlht3rEWSAl8EwqYI+ORH5vTaGY/a5Yy7GknW2MNyMSkuid2+onQXdgBv9oD8qBCIybgTwYSAQn34DfGHADdwamAqwDBAPrAHrk2AEiM5Ab+5oBdRSYBovoAD0DagCBRcYBBgN2BdII9AnoBdAZqAzcE9ADEBWoBy5VQBfjlwCu/0ANQ/oA2sIpByQUgPLGBkyH0Gyh26qgVQnIM7JbM4IwKVbiLcEuNLDmREQABGwB3QAwsADwwEiAABtzQgPBAUQABlQF5gAGGg7IAABAxegACnxPYAwYgYAJjAr88z/AcuHg8WM1AKfAkfOYUEFhNZ3p04lG+yfkAGyvTGRAlChS1RYQFrI4ZWFEASAmUf2OiAUNtYBjnP/4NQgXZhIBgAJvAFWd+Bx7CQZ11wBiILxBvQeAA9sARmFmAFSDkwBYN/AOIeYDaReY8IDRn9A6ULHA5YAImPJAD8SqAAHgFIAAaCGZgA9IDggBAIDWQLeAzIFtg+sTAEiBVoW2fgaYIJMraFGxbd1GwZWIBxY4bQybVMCWqjMbrcFFACPgS4HegO1EqAASgH4Bc7rgAWIQsADfx1IAD2gA7QBlYAiEH5AJQANxABsY2YAvoDIwAGy7iBxQHigABr4pUAOg3oAAXyAbCASUCYgAWuALtANqADmAbSAG8hlwAPensBFopIAE+EqA7FPQByx5QerGoCfhDwJzNzHoNCD6Sjx3nWA9MKhL8SwOTJPI8lUKh+MWB3x89YivEHN9jMuB31pUFGXJEJeEUjcoW0TYDdwkcGUAwgGsgOPCIAG3D/wBgqcgDcq7AFFmHgOeHqAe+BT4Z4Ay54IDTbjAYkWEBKZmYEJDyA8k7UAc8ADXiPQAZyrUAGSAP0E/uHAMWA2oG+gOdBAwANoMSA9ESeEgPeDwQYLGpdnFg3sBLIw3kEagYmDcf+e8DmwCh4qBWSRQORq0HpI2BLcSAJ2EVBGdJgOQDEAlUp8C6AJIP3CrxygE6OTA8eCgJsVwB2IVaGjD0gXyAz0iQBKSZQDbzNwEHDaAL5BFIIYA3Q3UDW1jALEIKBMpYYaIGdKxHSy4MsdoQK/vKG3TwwVftWpewBaZSMPuOnUu1BZFifCdSO0fGMSK8O2WBJkt/5bmW5xDaArwICZmE2ooBzgizFxJwEtV0Di0igKMBPBoZr4owwgLtDDSBBCgxEF7xirgPdAXvmI9AmcAh0WGKckMDZxjYRYdUFPhKJTw7q+XCseOGtiK3VO2rb6C2q+ffWQ3hdwp8msrp6xn5+6sikF/jF1CpEyC9d58PWc4UpwLf9SFLJOLvUWZkZ4mNybqhRUACRUampGfJhO1lMrDVC1XvpGZJ8ZAdZ8xEer5HiMBKixAi9wb1DovdM/5A16yy9diHdFzQ7uBPXPLNksVIEyEASt0C+ssuvrDcnfem+WQfUz0mNdMl+yYiZitVVpIJBPv+GQGW+um06x2XMZ5guNZBojaOuyi9tAyikKY2ZBF+SLUMJwlGsYRhiqAbtsqBkH/LHV7UT2Nm3VwkNajLvlJkg7s5ObMn7x0ZpGIyg1ztUvCTcjVp8ZIKpLP7VlWd73xm/ag/qHnNsb3xs0NsHsdIGadL097flM1WyhR1WygSwdV42Y4g2bOIEIAGTN26mdSKCnrmpHPPSiKo4Cha6dF0v4U8pLQqlFL/L5D6LCXIqlseXKtTCimOYx9Xv6m8iMUF6HPVHU/Uc1SdfOKxVQU637OMdy7AtESpUdryPP1aT9F0SR5B0UWprlpTnHeHaREUGXVZEaxJeEoTTQF2S7j8/a9EOwwHrEk93OupUNkt40VY074/Ns+UhEssw9BVGzHQlXQjNcDQdNcIbdvkDVHGmjZFbWgb1akKxxmHbchk1sSpB0aV5hloS5AsDRTI8VwNAkQzbXdZyzIdJ1HO821/d9g0HMdV1rZNj1rSc31XYtT0LS9U0DKMqz7QM0yvGcuyjBcTQHKMmwTIEHQ/CElSBDEFRVFUGRtNkoQ1HUpSRDkJStNEnRZJEpRhBUCRJJkfQdAsAQpAcGwfBsJxHBMGwvC8MwFBMRwbAMLQNA0FwHB8KwPCUCQ7FMJwtCkFQVCkDQbDUaRxF0eS5LEoSNOk3TRNlAUJO08UNQk7S1KEtStGUTRFEEBw/FMayfLMryzMM/0HSNL0/RtB0TVNW1HTtN07R9B0HPc5zHJMZxTD8JwZD0aSZM04UNTlWVZVllWZYVZWFXFVUVP0+TFJkLQBD8WyHJsuzXPNP1LVtL0fPM4zTL8jxzCsEwpF0XRVGUqTRLkrSZJkiR5HkWRJEECQTCsLw/EcVxrGMixrHsdx7F8NxHA8HwTCMFwhBkWQ1EUORFEETRNFEIQxD0MQhA8EwzBMQwjCsKxPHcXwzDsKw7A8GwvBMBw1AEIQLAsIQJBEEQZAsJwHAMCQBBEFQPAEEQpFEIRFCkPQ1BkKQtDkNQhC0EQVBUBwHAUCQRA0DQfAMFwVB0BQDAcBQBCUIQhB0CQJDkLQdDEPQHA8DQDAMCQRB8MwvB8IwjDsLwzDMGwjDsJwvCcGwbAsAQnA8BQbBUEQcDXrP/4NQgYSxL/0wGlVK1yhWqVqVCxQkQoEihGmRoUqHGmSKkKHDiQY0STTl059ejly5cd/fb257d+/Zpy48OLBhyo1S1cpXKk6tWtWMFKVOrQKEaVAiyYcWbDoyZNOTRizYsONHjRokaVCnTo1CJQlRo0KpIlTJVaVEiSJEaRIjxoseLBoz4tGTTi14MefMoxIMKNGhyociDAoQIMaJKjTpEShMhzI0yDKiSpEaFAgRY0SDIiyJUiDBgRIMKDDh141GfRm1a9OBPmz5MKBFhQJEqFKlRYkOBGhyoUSLDjQYkCZFkRKESBJjRocGFLhQoUWjQpx5seTNjQ48GdGiwpMyBEhxJECbDgWZcuXNpxIceFFjQI9alCtWqFatInR4ESbBmxYFOPKmxJsiRZkSJEStUjRJFChIqQoFiRUiSIkSDKoR5sOPXtyYGGbRn169GvGowYMmTMrVKlq1YyVJU6lQqRpFqFTiRYMWLDo14UKNAjRadOfLo1YMKRLox4NOfCmToFKFYvTKk+RIoVZFSDBp0Ys+vA2x8cWFBrSYkKbMjw4dSFDlRYVCPLqQ48WZSjxakaxJoUIUaPFkxY9mbDiz7sCJKgSJlaFArSIsaxAjxpcSJVpW5kGRJk2oEyJIjSq1HDQl14MePbj2ItuHcixo9SRKhRrkOJBizbNSNPr4s1KBA0asU6dGhQs0WnKs94F3DZ0ytUzjDpR4WCfDiw6d3NekTMsL9Xpx5WvNY+0ZdOTJhy66TQ7Su1eHMg1qu7Rui7okjFDl/4lidlzy0/zI0StEGHCm1ZFi4jbYidAt/4l7Xh7Se+e1o+5cU2+pp0hFsCMwTnG9Ke56YncLPmanyrmGOa0v0UNCi4Ss825AfpQgzERGbGosX0cis/1Fuz8S5vg7Ztph9K2qRL5nfhI8VJQjZWVX/aFeYdCEagvoukWxt0Gxy+2TcjJl3k77hQit7wdCXv5iOnqBwZ5hCPs7WBKur7A2vxBEX5jKuMgqw7JHwJYlzEI/oo8BmcQayofKBRH4JyXh0uxZuoQCPGZDU6lsqjUIhDeGvHHkhsPgpGUxs4GU9j4CkJB0W6e4HVDoBZOfYlAKz1e8AcQxnYaH11maAmnM/AEB8mtD35A/6cQashsFwXwawGMjASAFwSgG0x2y2G18FhCrJTtdYhichbFcBbuw2jIHh0XQ8JPQoBSBG0gAHUCiCR2CyDGAZJIoCcoCGrg3gAJLuANgGwYgrKwIQZQfwDKD6tbuYBiADMD8QQJIA2iZWGIGEawMAD9pAoAtDOCGA7gohrSxtAHAAAFBlAawAvtTKyvgAzAEYIoAIYDiA3AJCTRBqHUB9QAHiMAF/uArBIAMbWALAwBvATxZAzIBFEEziAqjlvBa8CqD7AAgAVoYE+yUhLHgcgO0gQQEMAgmbYPoFwKQd0QOKLvJzRv2AWSDOFoEw2FBTE8RACKWQA6DgAZwIOisRQ4AF5aF0VwPygAuve4ERpKQ8AD4PQJ4AMYA3u6wc3WMOwVvPIAmABIEEABJAPIFdyAqACI3DrmwmkUUNJ//g1CBlMFP+IAAACdnh7NrV4BIsWwoqSAdpjpmsJWMgJFmx4VvtP+P5NFEyX19H/kZo6Rh5picWIYRYmBWT52Uyp5ULRZuyO5riyXbkkCyJYw6kff72oVQV7RcnQPtiaOXyGYrqrne5uwm44hbJcELMvyaKbxjroK6x+NmwSAUO3+tGNdXNbfF9Qasf9UW+pu88803rcv7INgxnk54vFzWILcv9MGKsQxo6hZUUEqd9JVRilQ6Tq+DOFSHsFGRL6rUGJahV+A2q/dfa1E0TjEysJkXDC0Iy8zy8WEolWg8CbavoKM15p3Qt12k4ToCpL10G8b7wOvKGryYLEpeV5hhLJ6T4rEKQhSg6fn+uIctG9dMzbC5Em+RYOvG9IG1qGUr2/vSLsJnWRo7u2EkCZ4r/s9KTpId5x1Q8/wdQlOT/WUaXXv9jdlEk57nIljS7QOMd5yKI5taRJOtxHnkbaXCVpzJgGhQOiee5mhrFISlGIsIMMIqs0ZKQbumPIJlczh2SozV/J+DZuTXOsPTiYt0ej1a9qpcXOJRkaIhXkyxDJVP8GfXE+dqNUMkeBvZR9aNqt0QDkIlI1hnoVml8u4YhU4gH2XtJCIVvUkRVy81z7AhyYJGyRFKVYkd93np7/ZdlTDU02arNl3QAiGu1fWZvaMd89jbbPr6yovwvCqEtXb5RXhr1QqdQLaXmKqnFFOoyQi41wOiZsCwQON38StGCHR6wZ0baB/KKwu7AgqEhEl7kCp+DOYPAcCEfotJ0cJD+XJusiqtEwFPquj8EwhAPLAl7fA9clUX0X4bKP3/4RJWo2tTovIl4/Ed6RoF4d6ET6GLyYdycpSIjuVTMtaLZmM87vBxrTRFgijixMZW8ICRi3HUj249FaZYMDR+ERFdDjw7N1gNwWYPnPxKQNiQ6SrZhwH/MBP9QKKMH6eqDb3Whrg0I6kKTWkNKpsQy+YD0iTgP/AIPQUBPDQhf96jkkBC6zUd0WpQpO4i3qxZQQt0oXu68pZkygdBYkvSM49rjREMLslUkdObFDLEaI9L39Ukx/j4RbstG0WGNNzkTJ+BzLL1mY4hmxGlU66uyDbEyKVXXQjzEjI5VG8wpp84QKigEueYCARHJph0y0Sg9uXV4LlaLSV2UPbWs+zWgFQZWdjiYixpRyrmznDxC2xcbDBkUpljzbXV14gyb7yqUAFsLJFftACrlYjURYAHTONAdSkMO+ocKdbgDlKpDO0Mu85FzPDXccyQuUcVkq91uQY4mlAuvNAb1wi005taOojVz8UMwzjJ7zuZYFSN7abwi2t3I30lHkUKp1XuLGR6pnFmUXCpf2C4sDNxzQZR8R9P9iHEdEs6ibZ8BWLD0RNahpbr56wOao4JNcaPSOWFyjkWqC0J9OrkMhTVGq7WqxjV1qZjJCkz9Cpx1CjTHcCKyolKNjW0kGElgfyQepwQUrUb7hwwqShTtYnFdEUL/pkBF2lvNptP2Pej9uVZBRcT2Jc6N45rrlf3yxW15uJmtVllIlrP+qes+5Nmj+Xd4xy/7L1rGoromLoQjah/BxHUrI1XBb0pbp81z6nrngTkKY5GDUqXZ4tH85elU3zPk9V7asHTFIcfQxHVM0bNslxZwFUWPGdMSvcNRV5NeVxHeVGw5EUX5PVdqQPQ8VzxKEExDOldQPNUfRRR01TRGk6ThHMvwjaNY1FNV77HP0xWzg8RyxM9IxLVlQRfcMYcFfVQyfxF5VXON/X5FdjwfZkfZ/htJSBTuMw7dE+2rCcgSfF9EQ5OsaU5ElOxVYEcz7AMjQ1EMvyFS0r0jHUkRDa9rSpOsARpKURShBdBxFNEeyHWkEQrKMJQBCEQxHCcLQjJdIQ3N8W2lA12wnXEmTnCkmQJQsPWFKk7zbJFAVrCFQS7PsTxtFk0yZA2QyPLUnQXStnQpC0fwTAETShG9ASXMUcRNNMty5DcURjGktUrB8ByNHsDRNRdY3pQVwwVLkQwzEsIV5Mscx1IkNRTF0lT/M86TBDM/0FAVEwrTEDxPIc1RVKs5zVY1TxrEMRRrNtCUbSkIxHOZhMf/4NQgaRRACo/wvjTR+kNQ6l13rrK2fc+ZBw5gZEaUk0p+VuvxfS610LBT6ohZ6oFPKwUen9QqdEsJWUooJOKek+pWSOhpFCAcT4OzFlvPOq9Na63PvzeO4tmbj0llbQeo8lY0SXj7ByEkDI3UMr1PKl1Vp2ZWyhaLOmIqzVOpZUKZUhJKQth3FqQdF5xyLnDbOr8i44z5jRDWFETIvxGplEWHMhqJTwkNB2vVPoZUaiFAOEUB45xwg3MGY8FYtSzqvI+5dGY+zzlXMWaNAIM1lm7CCcNI5iRNu3o+qNL+v3BjJlmm+lazwPiXEqR0ktfVgjbW6yUc4q3i2tR6qWZKUSxpLTSO0GoQSs0pCOe8J4DQLp7EStNGZObhoPUysNCaM1P3TcOht3541hgzinIcQI24Rj7OKTk/6J2unpFKQV8p2UBoBuydkQLHTUyx3Cr9TsuR/whfaMVI5sVI0/B2RFUadUN0rAPkl0eD9ilp9WcH/K2SVyp4iHkG1TrjRt4RsTytdtefBhewVSy69MNIbXkTL7K6jM8pG6tmxE6OdUJc2tudWaTNAK5xb0UnnRdqz3d6ZZR6hOnvVnXnheuqxahSpltj2hEYbjUMk6idCG+f1lVK/wRmLRqLXN6SQ+xDEqK1m5lyPrrO5XG8kIp+60vzPiKv8UdLC6N9RRzJsTrXpE9SuWsG3hw/dVOisbeHf3rZC3cq72/G0A3j0qv/OJ3YTQmTM25WspEya7xWusCV0pfXX0V5LrZsKTn/o8s+kfpfvl2kvYqOwOuYmEmj6jEFPED/4yEgmobYmJtumVeR3isfNFDlp6CruYnsg9wNLLiJPzPAqq14QUSV09DR/SNFn2LC6N88zZFbfoFGhfOCdhSPr6iLBBNkToVu91T/cQrXxdyK4bGtBOkOxxfSEwfyv3iqT0cKJu001gUBQSWXm8Uo1qyhaPBxHTwG94IsEFqBBH54cc/uIdikWhXiauRnuAJ10k0p9lGebED/QJ2mKy8zyAh+2Yns+CijMn5xIdzqoQkiL8SJOXqaQnQ7v6ogReTd///z+MAYHzWR+vvbAkklmy2VuSbbRm9cnuBBQ/vwYQKJd2B0GuSQkRYHd+AiS2sHt1FTty5QaTQ+ToMRneFwjpqYIUIp2HnXpBH4NanqwXAnqGHSXRxxxm0Mzm4p07w483WZk5uqPn6YtwMXHhZShPAUfpi054nlCnDEueZgSs7Nb+AlwIGof6CPWFqW/TbUeIO7hjAUIeD6eqVQ7mTLumX6u97BZ+rgvnNi5Ss9VSJ2CVxXsLtp3qofskDbHVnxvW+jQuXcMJ2zZo1rYZAOV3ZpqrO4gWqdj71VG0cLIuTToWkVZ/pFLbzpMYi8/V+UkR6oy4SRtoiU/rpZafrUdkn8df07fKVkosu1ImU/WjAuQu3kFfKBcYNfxmIoK5oe86RuS1YBKKY2FJ5DCdTO4rqVq946fjOEaPChf3mR4TslPj2YNoCH8fRRZN919ULICV92NDKmx4MWMyqXndJgljR0ZiNZ8yRZob52AIOG6cKumWANxtsTAXr93eCtiQsGXURLrYZHdHRo615EWcxw4/jWU5Jclc3PzaDHsJadTSg0/1KsQ3FOuoCD9SmVLhyngNI8jEv3SvQjaoI6BD/O4aAFcbSVYqbRa8kcBYMPQYlDWo5dANq/84jdMkIRlfiKQrDnZhzH6yZkSbGWzcoioe+DtLdIHpnewtatwTyt+svVj6SMhId4Qnup4t4JslFO8JJ3rQ4sfNelFbdJmFEjV1/OJyisAQBmeJ8IzkNyeyTAtXLgrBkIKjlFhAYJ12uO+bjfd2cbGJukUxWSG58VaAgARxULE6Ha27TMHJcmFfSd2Zi8JNolPOYtE1uXDJMJJG4ethEQWJIpjkzg8JGY2fQLzAgiumFrqBknURRjZtADooTuHSAJzqWCfR31MdW4zkJW3BfuhSx0URcXDYxEnnre69AWWA2LkIC3gO26UbWsHAM5KOof5FET/l7JiOVsYgkkKoiXYCeg5OfJB8Tjo4WV+bSTXGkQv0h8DsZoINgARHvYEDjLNICzZ+i2QzysEKdNWw9WJGGv3j+4XkwANoiKXjeElBhksZkq8E5QWgMlzstg+OfsVXMIhXhTVK+qrYUMXd39OWigoMeWgAZpDngKEAL2oTGHr5Pzl8weGu4AwOD5h6QH1cHBDwcNU2ZuDD4ZM36RJQSGjgZtcw0t1gRfwaCmgNZ1ABT4M+sIerzcIDAx2f+VjWCjCbr6UIKIohkccsQA9OZpAkbD/+DUIG0ISA8kC0NgIJxTc6OFXNGos2+dGPIzytJ+djrqkyBNhmx4VkgLcBMGX/hjUGDoRnELbQkKxDMtimQrJqFr7uXr4UoO8xySErWXSXU6NFtkDLvdsMWPn8zCe9eWh/kpbMFRSZ+4DU8FzVI4S7iXD+wsjnZGdQTAoJBd8GF6KYQtDwXp5oBoIFBrKAEQwfGs4wnmQQv/3jmDBjukedzOJdJakhH8c1u6RhpO8NiXxzOQ9XeySoer8/NvxO8ZlsTQQJD6WDowU3XN22cQn+G8KRc+sTEHpPW7qouwC8WVIReNVYydplwbXZasDY8U4BlcBM2mFBG9GKd2sNQ0YZjot49N8qwiEUjMzWNM7vgqMBan8iA3cA/TVKFfwy9ChgzTIGxWR0ANeVgykjMQp5hudbJn6Pq0M2aLWciJFKrqgRJHYK4IqCAi5BxwwBEEJvwp4C7sfyViAofAmWPN73MihMCG3DDE8DOKL38KEG+HZqsV/sew446lAgZCE4e9BCyd5h4lmSoDzhmONSjYHr8Kjg2f5iZ+bcLQxyeARyFgIDeEA7ewcAfmh40RvDE2nzA0V9Fppw6D6YyRYJqqplpeOOeTSpB7+nhGdn+pm6JiIKWUJSKFn33ZbyW4WxrRBlitwPoAWxlAz8ZOKjF3oeEENMvSLEiC3dWauEpe5eZznj5OBXSlnKXG+sreW13LzRw7umiQgoxqetrxvkm7ZLEYw24hIIIsVNaHx6lFoKgVgybK1YwTRZOhHht/FUSnu+UIhhBX6Oxq305Nb7+KFtThXKeXkwQ+ff5xFJClPAh9bTIDDRMv6poCNUdQaSeSl9Ky4oGMb9vVjBUoWV+bsssqbmchJ1PTYwyeJQyWsmpXZRLbMoumUm37bmNh9diHw9d67FukRJIrpmycWyGseBL3jdyREopvwJlJ2z7+PgbrJNTCuTMeSdNiN9SMh0u/sGWsyZmrHGJza+iTuIJ8+47eSIqkBPDkJ3yZQsyjU5mJyjPs9xpGY2N12d8EQOC6QyR7Ue98t8dj2BmVApV8oaVPlZ1EljBW/pQdda433ObBZxpG71vJEAdHEQvsCHu4dacknlhe/Et9BHP2N31trMJ64yREw3dcGVQw5vcaoPGa1SCZLH4SsS0RWpYbtW7DETnCjz+Fwiqk4Kdb525CAJhCSAjPiK05rQwJio71ZaRKn6jFFjHEc7OMSZMuaQmG0PCUlU5NuyN1e9e75zy9iHjYhMKEbwloGo+xvFHrH+cY8jaBKGNs32RLFpVqcnNg2haQtx6YPqckkyWlKC/W5kJk9Eb3NhJQ4k9CJbcy70pK+v/zLR6Ma7lK06a0PYbtT4/x1Z5jceHzTGOni9etpHgddWyWEM2FfnnMJ3A0ocq92k2KC/CTPKfWh2mjbLF2ruz6fSZa/msaPnK/gekWXLWb/C3/eWZT6DqVWPHp3xoVPfIxnBBD0D1/KJ+pXBgHC6kqrk4hw9hIjExxuRnywgmBl90OyCufqrj+m8iwjBrQz2nWwHhfsu0X6LmKomk6obnMuErB/hhWm6ilghvTxdtmsO7TqNTYbfag3n2EVjWi4TzL0TUW3/0WSgSJzzQ4Vd8Y9wQXoVcasis9t0fNePv1p7p6eTk1ktlK8UOW2JEtsvXVmNUEN08F0JN0sZ8CMxlFdiNWcrcMfzOSMDMikBPAMHloksuX9FO+ldG2NAeol9E4su9TEXUNMV80dilaF6dp8C1bUTuU8vsS0zdB8P8V0b9INkMJ11UcOvdHGX0s9C8q08kUMudsl70lN3dFWH0JmDMMVwlHlc9E+NESGbNOupF0GN9yMh1v0Plb9ndwlfFnckMiVbUGVh9RNeGiFT93c51s0iWKdNd4E0E3sTtK0Pl7MkNOURE3sIlIGfSp5idXJZ3aF+hEbdWjicHULat5rMEop29aLW+yixMyiDtulucRkoOPsJCXd5Pg7uNBqmr2pyGwO3d25QkL8IZc0feG01B3N9Ri+jgi8e6OorHaDfTGhWZq9FWLkPqBA+tdQHzdRsaH3909WAVq4v04dtYASZxk66cJVPQVyocEccSZ303Ud6Rf+swKpIJClu+tfn1GSa3L3pCgZGfpnltc9l/rDYlspCddXKzXBYlEXMLm9vxab8rXgk0kC8DjJ9kiu/fqt2otatdyvhPr6iCvd4aFBAmqmffi5WGUkfD+9AkEqjC4s/83NrP9hluJl0fjEAnRENsi30hNuPK3KMYXvpMP5OhOxEU7oPfeF9U+EqqIJl14pwMwYWUVmSheve0QgzJ4ZUafyqrZmaHkU5CHwLgJzaX9qdULWRTVNIio8UlcN/BoYnb2pEM+micb3S7KijBj4zdSm3A/R5AJsu49lPWlUQmL/mrpakg/lfhubHFjuMwZQKFnluJP7AEUScjNJ8QyahvQjFZE+WPuIE1Yc8zBaEJWbOSg2htUnzHoHISEdtt9EFIuEd8SdZv/4NQgcVxT9J/wAAkPeACpjwwABZo5EACtAtYAK3LtAAVEP0AAEVgJtAB0gOMAAIPAEkgBqAAroDpQP7BQB3gDIRbYH5C3A9fAwMMVkOtRIH8M1D1xYAC9HWgJff4A8okEAxv4gH9FHgDc1CADYurAAgkwUAKUGpABN4NtAJkARoBMoCHwv4BRRLYMZKOB2ViCk5qK6vu0z/KwDzZ1AqqxgDGyEwBmBlwAG5gzUABXwBcQADmQAPzAD4gAC2gCkQADQQMKAAUoCgQAOvBDgADkheIACaSTgAEKUgAFB62A9LVAdHiAJo5sNdrMb98BOLP5Rk5TyJF5my2UYlBZD8al3UuMNx4Mq74ECvBD9A9zIuzs0SaNPRINQntkpCBLA1sIjMsKQBmINzDiANKPjAjVygakeGC3V1B7laENocKymCtdyqKP92QVjMFMWuxrqb9oqFafULwaiIr5oyBn4wfghjCGRdKnB3m5hc6ZAW5nQfT3YJmNuEGmAvWeUlndX9QQdv/5YC5nnutm+d6VKoQMM7E8mBDbkhml7ogBjsNjNkSD/WLjnCvhO6Wxa15Dr63DgvqD+3nhkRKgWuY+P6KQHqlkjBjdBsIwM8wbcr8XnixuFBtPkJZERWkVMv5spnNjp8QdqkAfmm2cFBQeoVBNy6XEOtSl4u/wbY91y1bVazf223VjiPVe5JuO4RzEy07smbYfX9wTBocNcJJKP4g47A1l0Yz6LmP6HwmWSfH16Sfr8TqU8zS0yzwrzFPTyvCp20eSkvRM6VJ67lmcawW5NyQX6Kyl2NteP+BMG0sXx5Q2hoX5z6rv8O9OWp/LcyqTp5tQhVSYaJRlTSgb5Wtdyh+zTIijs2N107i9ruXRzzFWI4wj6pM9mCfr7xP3uOTKx+qaWzvhZSqjp0/yNZX1pJyhElQ7fQ3PRdZtRZ1Bmazh+1mVjBdwU1CUPwjM0zSLKsRR9Ntz0tgEq8bQWKQrVNbWZXtV6xhV21Trk3Y3GfaRFyMo+VJn8yzw0penQvJQd6dZ/tFCCbX/CZOTnVBEQoFk1DE7eLEu+QRwc2cNL+jzZekAWnCVBR9Osu1NE8ewbTkpyTL0IxLKqli0vIXWj9GlTrbtwv6Kje9/KkUYQKtNTUSGmr3d0pB+7vd6Rkt1ouzLAv9IdxKGhH+Y0UVUiFapRRulb0Hsl+V3auZc9Y/Bx9qUi2PHFNSja8xXtItbzJe0rwHPUaUnAV6RdOM63BMVKyfakaZLJdvTdms01JOWP0DXUYXLTN5QtSM20tGE6wjI0dUXAtKQ/J8JT1M8NTpCc6wbUUAUjD1iQ3gMcXhEN4wNhEJWbKN4Qt7T+vwXei3JICtm5FqXSwXR2teshdKdjV2zffUiUwoVBNdSR8+/2FiEm13LUzRVAUqU9Ckm07gGoUpQcHW5EUASpgU82/BmXQ9gMVWlJuA0Nk0t4bTmfSHmM+aBJeP1FkVN5TamXTrd8BXZLM6yzVUS0nJ8vTJYNAwlYlA1zFVmTfUcgXZRtVwdk0w1nCeGQdb8IWRI2VwdkkUYjIugQVecO4REWSw1eEXZzHFgSplqKiXtkcH36cIE6mmnmWuQXc5EHOM99PjplePrKrsQamlvLMWVehfMvqzHqb83Ks9dyjxpX8uBUHYVXc069XFpyzw2dYbkNEcVM9hxJhEs3LEWHSlg8X5JMmGwzmEMXjIFISDLcxTtHckwJL03zrRkTUnM9USPMMazJIsrxHI0OUnDUcQlQsjRZAszx5GEHyDGVJTTKcdWZTcpytXlC0rQVPR3c9IU5JNlyNeUd1/C99Tkjr4oG++HpClK1MUi/bbNv7aJPzeL7dQTL90Sn8NJwLaPbw3OmE7Tkmlbr1POellu87FwHD2GjD9utx/av+r/I802S2eF6LZK36u4tEjHT52wyAcDmC4oIrWBLki6i5tr6IpJj+ooYmGZ48lCK6jgGho1r+OJ4nG85MsCccdnTLqZ02ftQqnKZ20qc8pm7QJT0GetknfN5+2ih8xq7Jqn0/Js6x3Tcu0rS791S7NRw8u4tz4Sp/8bIndCbjGAECtpZY55TLp9I9Bu7a9mRAuFne2cI4FdKAumWvy6yOeWr0Lnk9EXD//g1CB1QEgMYAv5G92S3APfGcmKysfKmMmb6au3eC+gKWGtmGqfSSuouHiWKU+g2OSaaM2W2YCkiEuFGlymiDKHysan6SKNKnCpqY6LKfap6RiByQiiqNKEuGCUaA2TWDOHyLmY+JmD2QuUOMeKmQeS2NeNOOmPeEuFuSuReCSHSTmSmJKR6SeTmPKV6QGYmT6aKN+aGSid6JGamKCeCAuU+RxGg0sVZcGdLdVWETNeyKotYJXOJE2lrlb8EdLFoP9tpMQGQKfPsehnUlbCm5wtydQu8SwIwt6m6lwWylT01fwFynQjxVxwSpRNzxw1xeS51kwpw1Wi3exZUQWz62wi1MTA1czXXxRIzp2ncURwUZ3aIRqdKu6svcqpqh5buvLAL9Zx8qLYry70bGryrbdzY2MCJ1ed5s72ITtb69bhp7L9bI6SparKaTanKnqhbJZjp6qIZr6uJ5r4aw7HK2K+ab6iJbK5ZhbBpuqi6JacKKJmY152pIPFi9IuCyMknQcIeOL+W2ZRJhcmnXUoOolz4onz3SvKeRJfrGvg1dEUqk1KpTqd9rb2uikBHzqa4IXuZv1EuNFN3Z+BLXhg1qP6Dstl8kFSDzsRxKfVEMaUNCYlDLGlGpx/iTYZSdRPEd+50pNFR5v1tpV5gZ5loFALFTlFiNOzh7DRNpdDlLEjD32L2nHJcJgH6XBTaFTffTN9exOfRrktvNLTSvg9gFYrNzypgJsjf/wBmVyv+/Y10laChVgc4yjjQWzv9oTWdb207bZJXF4E23aJTe4L17bhZBPtBUM3g8zqbZLTTE9PEJXQtIXb87tHqZhFeIc7sZDXmbpOFq3BDqsNjRmiRCqX72HBCQilZD8+KTeQbVxJxusJ/aC9wuuqrUfO1tcf96+v+mxP3dmv+3O5GIjPSO3pJiIq/BdzidpJxdDcAVLNIL379V3jryJlU3Dyn+j6ZxoX8ToOHvbRXUjQZwi6n4aSkKeWA6pR4Ehrb1qoDEKmNmmjoNFIcSDe24y2skKS+G3tSMB2G4r+uXLJ/SmOlp2lh2Xxzlk0VZBLLleQYdINB+A3fivRPamlViN+tH2BelTTbxQgeCL4l6dFsCWN1+R+Kx7OQiEIkJbuvkMyg2VDvGSBbAT5nxOmjEhgyVf0vIWEA6Y1QsXUM4FGjhZVNnUgGVzW9S64nc4VG91xu1rkNJDfVncuWuk/csM8729LL8ZTM1/wvI3mUGv8UxrYXCRPTIF8xcNKT3Wp6IFpI2Is8u3mI7WtCrUH2Cv9Wx9Py9zAoN09dFicKP1U3QwSEJbOAY/3BDTaD6gX8BStGBuvDR8RNUnNTiyQbyX6tgfv7oKNk0azefhNpUCyjjOIQr4n3ObZiQ8EaWtT3uxzRqWWuzlFrFgiqko2AlkPiBYGccmrBSsPMQp7LngweYVhEP/oaWDmsBFD5ONQkSYLQ9LQuEwoBDeSKj0gsIE2pC2GKgMTJMSyspwBQkl2EIeeovOfRF6JjKgka+N6x4ySM0QTwmY4h93/82wnMb0upC86sZPtTzmoKEIlST0rkBZwm4MVeVA2oaFCadgifOPMDgUQ86GKdCTEaI73qsPXRau5bZOLzGdpV7yEecbjP65+xNoX7KbVZJvYMyuXTbtGILpozxNreWZCTNCTdmSwWuiJr3Atv1nHaPH8S8JMU9nlYUdsY3YXAUEsJfKiLCWq72aZBJahzTkjjkp+OdglMIrCeUsbTqIPBcSKBznwIwiLcLf0LAg8HSID8twKGL3XgIASSEcYPlh16beiMgRCPRWEoRuAhsjKX2lpA4Wh4cl9fP0OXycmRn0xeiJx3O9hK9UyhXN1Eod2zcwP61RKMlHwakZlcwu5B+ApCR8rtgjAY4OGYuzbT8wrlZso9LFC1srdjZqJJ13w8nNqLl32vo6wpCbLq4UWGWGwGkBjjKm2QUgkIiKM+8ffFMmDay+rO4CiFCygR2PubtrQVp459dooy01OBqTb+bTne9FE6SrW3Rn2W1bbXxyG/lagXH4YxqUpSvwdmWwJYhEAW7jB/SRqkIcQmlJNATQdYgi3pjFHBeuA09P7Rgct+FX7AM3yS2G+LH8pGI2Ny6Uz7Qa+KxIbkqznTeaMOD2GPAvaXuFManjTKuaTKF9rl/dCx1bf2X3SR2QpdnJVNqOwHZxD9/9vIQhFSWY0VK4Jqd6eTwzKOgP6xuKyFYkUujr82xTVdsHFpmytGJikhrv9iUdGSEIRVwhgpWBf+vmIuos+2/HFEW3qvWd7bBECQZ6f5sUpu2V3dCHDmzLI2glT1s0hR0/ZAEcFTLSHgw942qK8cZxKQ7WNiydkyQOEjNMbvtEAi8Q8WVDuITLHMofs3/kGCQkvhVECjK1MWlseZ2idUMJSIdrMxU9ZR74JbwUVys9bJGvQFADvQjAfNJxJGo7epv1tWSF1FbXJgGV+k4eM+z5pKbO096NIjQCaX//g1CB5ZFNkj2PEChFD0bSOVkgrwXao54e1/rKkLkqC5Ek42u5vrRmDhpbG77qWfE1br8iw9PDm2HpLzoRotRl2XyY0r2P4kO+U2MxufkQDURSkK19iDiWLQIk9TAvsQSAnqIeg5wPVBd8drHmAgEYZEGy4B2hw0qy5w6o26xa4Qo8Rdanb6ZUanIN9sc4p+5LdELiAXckmAJdgVlClwWwBEEOYgdsAcuDPIDpoi8BMgPtgCCZCoA8QkgCz9zAIMJIBtVicdKeaEf37xXwdcSdFeZIE1PIjaavbd2Iif7K7vhFBmcVFpYL6f+Ep1Fx6wWkfhOgl2h8b/4t/2gZsmuLKztPmVYOpoDpcZ5bBqhwB21o11ZzB8Uja5IXAThIPpnGdoHLh0UIGIcJtqv84fItGVnsCSw1YWTWrW8TealfNwU2BG53tOtcAjtVckXO8gYo8oOhSlgs1pn8ucERIB7npzMOEdts8cPWXh4rhlhXn/dEO5W1VGD/gysFmQHYUqx7C6Id95cAjMauBKsVtE/GDATdC0orcCmmLRC0kgCfUBwrD10Tyv0d5tWKJOPNppeowVIebJqpU0Nwtaqy+2bNISS1XnqavsiBjGl7oxBq667acxLLopYfURRjn5cnUBg5K0VVhaYA3mLX0TOwTUEc6uirH0hD9M0QAccJzqvnPCxTwZA19gxQhiZjhw0xKBImkd0qG4FhvQ3UcecTS12XLHd3PJ4+JpavIocmy+uq4JNXBFmYXjcWXBwFK8VSZiPjvLkVHSHsSV6XhJ7L5DuADXFtv5BBA1UGBwOH23E4GGQn++YBzBi4OYl1TdGvgjiKguPCaHQI2slFBMNIooN29sLKnsiq1Fsm34RAT5OwpR8iy6TDomSoUWTb4XyTV3B9U7gQwzFZrYV1LpZyjhx3Sd1spYtQrkZ8qJarKDt7qSJ3th2IdYwwv7t1Sj9Xnd1pDKEXp5H65ZaYvv8JI0XZf3mSQa38Ync9J7F6n5xjXBQuJPIZNYdP4Gxm3TjfPjk0aCEsSWkJRJT3uSOzKhmpQrs3WUrR8MZZhMUxiKFRmKk8DfmRUZ7WraECgAyVPUIMj4apPdSn+bx1YKqRvLyysUKJmha9A0mkgFhVzoJqP+Jv+12h90+qiyU0JvQBoCg9fhOV6tblmFdWEiJVhojqYMwcfLC43eYSM+La93p5KK+4dDJrRzWJ7jBSPkTMGV+y+nvkGnEe0Xej0+6xCez8IeKWkobUmpGbIkQtqNw6/0U4uwekX0nAtZuLRr9Hc/ClcPSoN7KRm8S7bjgjJMpkWNDQ0LF4Ykr1S4QNi0wpIpc3W6jyUnz2r5Esub4VBZT7ERMsSWLuqQ4/kp3ioMiBBZ+MGeRqP/amrSqawT+HCK6MzqhpXk3SvOOf1fmVOEvhpjgD/6PO7Lpij5PUgQPlItJgwcXQzSLciNaI8dLRJSbOh7Z5ea/iu6gcjr0RcwovYrlpyJ0h7Y2FmbQO8uM4Z6O+ZAlJdTWTs3tMpYw5UU+Fkvle3FUKDrMypVY+pdW1v2kyKIpbzH1tNXytF9vR2tvKeY1icvzGotmnsumESrNoL8gbqpSuvAhF6wvc/jL+WZWJqIlZZ9d2CyxEWFT7LokXK8Dn/PmpLc9LoKlIJiCvV7hG8WhIdkcS0c0RFoVMYMqJm6VpO8YbMQxDR8TwW2OoHDPyZ3v2hWWnIn2Ga2wJLZmIhVHMi+SVajbXTjp4p8n8jJ3CZ2u7WxMn/3um6ozXHGIYUovxMXFPA6ry7nlDO7NBc9bIrSkX9GfcJqX5Ls80ojl59SOrCZkCelxY7BayP1gJZYRuDZionaU/4/KyaU53+OY22p1pI55sNlatEvI6Q/jNS6Q/q6spPLBWvVZjMrhF5hfI6oyIHh07Ylbkm7su/SoUDGPUNdwb4USOrHztqisJrl3c6CV/RgGKhN5pS9312yWAU42sUWbUKvL5PLFomWKXaxUpJAvp4RQKUmRyVcQWyS+S63/Xh/SbS4QQc6BjzD2hpEax7/U2XFOsUfsRQ7NgCU6V6et0ZfQXhBfLR0S/ioA3HhnAiE0/oZVVtnRrrHFpKQ5krjnNtTliO6TLmHPbEKqtb0ZtObL2Tf6tGwdZ1MutMe5sTYMQPjZYiTUQrTYcmH0vBs/rsU6rpgSXe6Zdzysv0O6CG0AfExY51S1MeuvetVRnRyOdEzkgRAkqGyy/izr44uY9J9BMrFyx5FHreCXDWM0YhBYmh/BM5caUL/JUFCeGWLNiIxIaT2yb8FHVhVMeZd5pMQB0slpiys9g5DwHAlz//4NQgfXhbtU+ww67kCJdUGSQcuLo6hpJKxagss2kGYOfxqZymfdm6igDeOSDFzUFA+wYV0wRQ8Ak4VlIj2VIgKS8bNSz4wXHSb+15lqeQPpm4V5w3/ZQ4FhLD/zCIo+Z7VmFytgkaDvgijl+30cD8wVBJMnMhabfExZVPhQAgwiRKQDKgJSjaDbkkQB2gC1Z4LuJiS8YkVlAfMQgUAewQxkKAtIjo7Y8L2/QSwqDFNV1nDPCSNc0NzRRm61CrLBZfDeOqVnqku5SI3AW78CLlnVyPFNYdwkor1ukzOsyni4Li05PBFkrN/ejzT9tYKyFlztaryZ0dlPs+ZZ9MVacFTRN9CQZkiPZzibZLGsbaibO8SEq/KOpLzYoO8BAM2TGwsojStprOFirPvuqQRKCXDvKqQnREoRgjAXz2AOyAExE3bJXiZAEGAMkfYJCDxgnoh+h12Q4B7h7BkvlzeTjxGQLqFFcAMQWZsjxfgyI2Luv2sqjCdItS2mOtAC9oj3smZ2xm6MJZ+jnJkj6c0np7vcKleUN8yyIG2cm81pmSkWJG5S6lyU/irVvmfQ1XmC3Kv8K5Oq4LxFqWUufIFI9YxdNG+TA5pDyIFEsaswDCRiIYTFpTI2+9TQv70DkZA+JFXINVvzfwkq3uZVH91nq5V6UIwHAogC+gCHnrTxNjDANoA5jhBWQwYrok7/zpgkWbYRYcosnOW0T0PeFJKqpw5gQJ1s5ll7G7FNpGq4ONM0eBnpbYKb1VdYtK6cbRho9Z9ZN2vSuUQLpxvdQ7H75kriR2PrJYS82oUBglRz7bRomJF0KbL5SWHSKKry5tOdq/J/QUqr7u5wzlGIawe+u0DhCcJtYP2+N94SfWOq2bJW3xw3cWbA3mEUem01QkaqejjmTdm2mULISgqCjAroAhIJ+rB4iRB3gECEkNWGxFRf9DY3K5CkwzgVYh0I2+xHLAmoSt5A5gpyVYy1+VZ2bNauZVDwT1J30MIo7moc/Cru7vMo+KulqP5NFbtcrIW+sNJQjElRWRUaUwDvYxYVVmCqQWSuwaiWjRnBsT6bC3fzRKO2Ollc37zlRJi9DspTlU0ZpfzC74w1bc9FDdU02qB+D5YeLSzbRPE8OLdqG2uK0O/ytyM0nOzSa6O/ecERAIIEeJWAccD1+3zbscYA+wDUXEPGFdHBN7P1K8nIFqPFwJyrW8N2HpCUp/0hEBlifWLOoSSk16o9hgKBQEafJEuBCm/LOiPkr1VV4qG0Ku1tSoGfu9wkkmn0iRO+rEhDaqG3xXuuRmu2alewjWCcdZ43tV1XQbxxj4i5xVFJ9G1MyWb/cQisOSrdPy2fwL5Atr+tQSUva7FSjjKytGqls1NpqtP1LS4vmuBWLC0NcYCmIXn/bz2OBNgiBjQMyPP3RATTj1ACTA3XhNiyb1nH6u6lKj0QyQjBkG+nyrhWQesX1lAkxrl+QqGkrTXBSNdfrnq/b2mHkNBTHfFLFZZlUCtHQItVCTnxbW76RoCqMBfSinzdlABNDVTZDV5W9P+YQxNLPG4Mpqj3guSQft+9POrlVq9lrNj1XUGsK0QaQuqw6aM9SXxjzfI08Kc5RtsdUUp+cF0lpxe8I803vMi/tJ9n6+2u/GM14qrx/AQLpdguiUDqg+ru3qb1oLgCnVwgedujslx0M66u7JwFEPdaC+lvJyvL608Qw+kIev1NdaWjyO3d+IiIEaRuUEAmAypg2IMpCFHo38zKV3e3TbGJ1TlBYWdXLeydxiOaEp6o1bDZB1LomLP06bU+yJpetXi+PR8wzWrILISYaIi+TJMvTRuLJbZfL4hUTqOlu+nivOTpCok8Jh66RprKpS4DV9b40H0j1IksLrogZiakrT9Ko1uCKdg0pjaD/yBpwGSJ8WnIirLQLSKDOp8idLLIewnViI2Ky+d2ke1rRiG+3aCx60UWp4X89n+AGZN//g1CCDjFPxj+wMCc0/5SWyeWy3h9g2yU7vtDap/4+JO8mJEaJbQVNhWW67BU5QtWcv4Zt1ZproFBGbZTe9ATJCV8YhRf+6TW3JXBB8uzPbuEzjh3yZlUKXdDxTbJjp+pJ+h+IYUpehagp6Xbhmy4pYtW34DsaSKFluMryzSNEBoVp5DkRb3InWcZ5S/tuWCamV64FCu+FOP+wSL4Fmvx026ndXFQjGjejEtkWisOrbf82170uqsoN33Xe0VdnJB/I/lllV08pjNslwmoJ+mmF4Uqus5EmKBqixqNtT4uSawmaF62wKkUA2npHDSpW9nzTLsD0hgEuTPVMjx5X2MT5w6H4S/iyppgOR0L5iiBhEsIv1Wrog5/P/iVxRWayHUlmoDwvaOwp6ubNgKuI2puVamgXZ7j3JHlKYXpNU0HHt9cBWndFFNKWiKZMTT/+dUruMCVlqaEY9rKe9lvWo69qYj47JYG7pbyXq1t535SVpb+WV9woDF8tvfq+hgj/k4IM0aF+v82hbw4jNJaunWYd7C5Mn3OGY2meT7CtKZ85i/OrknHl+Fm/LEWadGkIZqyNH6mibKqU7WupQVncZWRTe7xHS1BW5qEYqF73KPkjDWZfuCyKns+pOiurd0w2P1WRWzDP/YEjNMMofhXVW2vCs6RtRMdclsGDq56WPl/CNBZWBHyj0TlSb1NssHnE6I/b/MXjam4n6aIoalGtCUDDqiaKUy32VURIMmSF6osNpKZUOI4ZuIT5l+j+Nwkmc7VpmPZwQE1jaFiuRmp0irqB/VJt61ZpFS6jH2aT/18JatCn89rAKTleYx+aH4/ziToLrzZK+tPlaR3a6Mj2GyMqufZZFp6QK8mTK+PuxCF4rtgZtHub3juZV8kNSNtNw6S7cpovMcDuZDlTXTb9T0TLV9TZGFuRunfx9eX4VkM2LwMLBnY0Gt/DWe54OYKCNXGGyKrzaTE+DcUR0izymULylJZbmc5RYqaeLppDWMZIHWrGU6s/SCthpXuu74Qo6OmWwC/y5FkxYZMmhaPBsU3xy6b2XMOciaLhRs1yFguD6jokXq/QEStZzM16xdtyKkJb1mqjbT976oJibkJOdm5tDBY0xFBo587wr54OCs2vbo1Vxc77+EJ8jwWcdrqPGfpDE60rl9e85ply3XeUHqZjFuW0EirNbYQpvrbau9ROAngKwksGKggln6pWNlwAQ8cwI9Cm2axhPc32jLfyGEEBRZVOQbtzKk7WK2elprfZBZVWRVJWd331z7L69aIRVYJwJL/3FHchZ9EJQ06GbdjhUTvpscaoXqkbRDkcpQZtqo+FnOfrmrK/1r9nziqoe7OYENSuv+SjICKPHdXX6fNGSCslEx7VtCDSN1Ca432cTqkeGIv1vqordRw16KVX57P9KMuSktVz6dHkW2s/TuWR2qvWF4XJReGo9RnLjWkxWGtVxgEDBRQUiAQm/Uwpv4YifAAekYsAiMHZ7Qwp1KcWaOGySKfxQCTgNag4S7BQnbkCJ/iHPIWEJlR2Nf37rP22RNcpdqKgaWuDN5x5rdNhze0nFOS6j7ctQx8GJyISx2xAqv1qIiJlb6qhchRpl6biaFOn840Uht5xOjChN2Lv+t0zUp9qvYsYp/yZD95oVcLNZ/FnlTXzcKdFZrM9VRsiDaUawF3E9ZPDfQZhxNyoORJvfh5Zk2fwOxyrH4pDXFzTG8BLORMbndQCVgWIC8QBWpcpg097qCjgXwbGA5E71f0DJhfsa4qkRrUBFFno/ICE3WOUTgR0iJMVT4xDsyDYq2ZNqD+mpAoFGLLI5F3uxLQVE8Pay0o1FrxqHIFrHgrTEvEdP3USagWpJaD7T8ujUCWYmfmbO1lzvB8JO2r8nlslaJCqg5sK6U40Vja5ntQZtOrJ8ldJNYr8WF1pK9/tUzZ+bCVqNKV+V3WzYNJId8Y2CAjv8vJ09Bk8MlCck09M/UIAiyWJsjvJaVqmTtIR0ZoKSpIPpDr4iasm+ZQUIMwDQwPvog/IrcZ2J4BiDmQaLa4+qERJ85DwG2K7qsmxUiFfNA3cv/+DUIIeQU9u/7XwI+4o6HFSEJBL1WBAl9A5Lji4VUPq+pGL42sX5HNnxkFYZnXBLn4bGpjBG+m09o6+5UlCUEHfWZXMur+1miSSrmvOGuAwTlheXoAVrNAM2W0BggIYERDOjUATxAwj9gMEhbdlMOEQkJ7nWcqZT7ccDXB8Q5ZIAOskwFRH9DXAwzagieqBRPsPmyYYAXIu40PUE4sxP+PvjcASYHaFNABNwIuM4aI8prgAzzfAAfEAdcLcLgApJfwAYwBRAArYAasKcBpgbsGpAWYAYgt4CHsQD2VQlbvBUuYtPxv0Jkmaty8llVvKTsjqmsVKg8IRcT4PI1YVUnQ+wiIUcOYAR5YQesmACcZgE3iIXBoiRwltPaJSyrMJh9zDoXh+ercXvkPsM9gPDnKUO5vKTB5V3GCbS5M+gqONxX03S5aiJhbbUPhphNVtXJmTakwC5EhBuUCD6VMY9mBknlOKRg1GzkKePuR8coIEMODPn6AbI/RVzYk/EdZleBJhQkgJeEtY+tGPCNvYBrCFA0oRXxWc5auBvMcLbHR4PA1ueJwmcpCYHaGnFDGgGWGNGhG8HSC+g6r0Av3/B5TKiKF2FPCmrkBZP8AlYV0GeA+h7Q0o9QEGFrBjRSgGs2IM7fg61EDg88fQpgxI2PYM0hIQ+fjKY4dV/3m4zmy4oF5JGjx5sK7e0baWwhvrAu97sVoWJNDIikkOCjELBKVsDzOuDN5IPhDwlc+FaqY6ObFudb083QIK7KHBJFoGZOyXgQZ0VHBYA9QJCAWv3AXSPBhSEAYr2gJ6YkXCEBA54G4c4dc9MKtqP25mshC5Lu7OkCJeHBv4tCW5t0vQouzVyINnDSKIcs7e12a72Zo4nkjZFQa1KLfG2uaS8qrZkK0/9+xFspl4/KNju6UlXSyLE434fTcoXcY1PYLQKtHKXk5zPJR2Y25TFY9x7r3JdmaU1FmUHpoV2Pu5cVV5Io3W57Sv2ztjbh3qehMWm3R5+K5k1iF4nk20GvaWbmAKRj0dgMZXO2vM1WhT2eWRI1Lgu4glPqVIz6F5WJQGG0bJSyj1mPyKizuvX6tSWcxyJR/V1u8diOT2xyaIXXNyrbcSWWGzzOLwixZi1TGEwaJ2GK2TdSCWwSEVe/wfIYqKT2qy2HxyTUuATimQug1eXxagQyRwKXUib4eqxueYDTTbH9nIxbYX6dQqW3PBxvVT60y3SXy24+DwqhybWVyl3WITiwzfEayIRGdVCU2eR16yTCGyKISWo2mFxKBwWMRKc1evx2Bx+GSaGSGexeMx2BwaKQKUwCHReV0WPTqHRmIwSASeBTiLRiAyOKSiQQqHxaPQyMTCCQKARmaQyRRaRQeMwuAxyOQOGQSPQmOxWEwGCTKaS2WyeGxCCzKKRuVw2bRaDQCAwiRRCCx6CxOBQeBQmHw+OymVyOBS+Vx2Cx+Qx2DweDxOJRqCQSIQOOQ6HRqKRqIwCMR6DQSOSSCROBxaGQCISKLQWFQKAQeCQaLSKEQSAQyAw2IROCxSDwaHxmNw+Ix+MwaKwGIwGXxOBQeGwiGQuHwSJQyCweKRSKQeIQOEQaIRaFwWNxKIQeAwKFQWGReCwCJQ2FQKJQWBQaAQKCQeDSaHRGMwGAQuGwGDweBRWAxeKxWFxeMQSEQ+PxCCwmDRSKQKBQeIRaCQWJSCSQuQReTRKDT6Zz6HQKRwCVQKDQGFxWQyaISuNyGNS2DQOFw2A0ePQiNRyHR2gxGfQKZw6IQKQw+CR6N0eeUqbxuZSeBR+IUaWwmDQSyTuYyikTmZ06FVCUx+xS+QSOMQ2FyaGU2o0SaSWTw2TSeExCFVVbK6ieenUlo9A2yg2TVf+/Rey8aS5m9oBC46gcgRCS0Om8aRpHeIx+u0+ObvyCahJZXxIps72AxoD/+DUIIu0SALAC5Goboq4QIApUITJC4A41IbYFIRpNIO5a46YToeIno1YC4f40YMoJYPIPoW47434I5aJC415qJTZJ4TZNIL4Q4c5cKMoPtva59ToNJYY+Zh4wZ0by6rNLKj996OkI1neIM31q0KU/tO1H088XErU3Ub0EEX0d0MEhs52UGRO+eGGe1C/48eGQkeu6NEtlVWcCEmtwO53T8W2cGJ9gMj9JGQ1gkm+AMnUI0kVWkvkrEkdqcXUSdn2308mc8AF81ltFNKGg0I928fs/0B8R9tlX+Vu7Fjeg83HF0PyS2Ya7aoS0WauZiYiBKB/AmBapLIKauVmDOrGPWR/3Kv5mzYqx6hnT6xTscICXEMGyrClacO6nKf3DBLhmeW2j45ECgXJTranEaLlfImU0XUu5GaRezy0+RRx3j15UyRkYH6e/NYGI44bEYkEdIdXF4eEubn4lJObeOGpVJ/aeyK37/hrmhRSSZuKe78bwqru8at93JqFXNBMuGoUevodN1kMKszOV1ZKA9XNaegbgk5Ww68HQHpJM4My87+npxK48RKe6EqdJcJv4Vq8OrNBeKezFHiBVSuqC7myvx3oChPrh2+kG2nqQiagNg7nE95meZNUuqk6+LbJuajrsYvrtp6+A73IlIpfsdVkXH4qIGb5qEojQvrdspNEfn1SWd31/HfkTSLhN5DlE9ij/IgU9Rs1qmQw2bECEMfTvXX0EMkzc2VFFUUOMO1MGL0cHEOe8TvDU7qYGUrIpEuiRgqrUtb7RtFl5ravD61tHp0yq2D9tosuUjyv3jVwMtbvZyQoGkvoagEztuHwAwElJovgYm9h1q9iAign+kPtvhnl6ohwV1suC1rhPqYiAz7iy7ynkvtul2awuzplptuu2lOkpo1nhr82cg875ka5ugJyhmt4wgYzpgg2MoW5FlfnmiUmOhxqwlTsPhXjBtQzywlsFkSnwhWlpiWiUl+UoMkp9EXdzKapUNil6cx+swT6yptxGPkzOaOYXO1XaZu6mfKafq30PGPFn+VOiot1XgenvZFsX4Lr3um1D8mnJ0zfHshXhFrEIch1il5VwFLmE2o0bOpdeyl6oJI7nT6Re4k7+F240k/ZRXyrQRZj1J35QcfW3c2nTFUxxCZZSWZv2P72f1QG10yRUVWXVLQ/WEwS/gcFb9o5bgEykQ6J2AJJtHOt/tPTOY6fh7h7gX3dH6K3VYKSJyfxpRmzXw0yVSkX3UYZp8d2ZfESMYPyCkoB85EyJX/7RrAKTOs/ezrwwyJgzNcuaCp6Bwx1pCIZEXoiVinJwMFxb+tvQefYj20qHWEdhHPYtziVUcLKzd+XslcnWJPdSSFhYd+7S2RdOQqrZB3HytDFmFQksYMId0A6lBZh8Kr58iVjI4SU2BZd1ZORY8BoCpdlyvvOIFkG4vUtQXuUE/htG/83RFVORuBSaKgbdeZX77garW0HCzLLEPGvMrUDR3a/Hq8L9/n/5bnhUyprR5LTk8r/HZwk4m/KZ6QyVLagh1QPuMl1yLlYPtAh8oz0BqWuYlFk95eNQCk7i077ggCFIzkTJzXj/Qi4CSEVphZYBdAoXBtfA8HRFqIGmJZmCJg0QB7qBYqxaFkQ3xA8VhMBNtseAoFFbITwHWgSWjnM/mC8JdyEkv6wIHHoRlT6+OUhmx7KXrrwgiMSoFVO2pp0zoIJSB9ZIQ+I0TIWZdfVeeUs5zqeIZyOnb1SdCk6nrBdAT0ERdgZVR6sRk+mlhjNxwOsre8PyFArhVRYQSdXvCeUn/G179G1R69fuRPzVO/JAyZmjV6FaA8/89ZdISFB6bfopNNimgNtwQNTj9HzzcuRl6K0Cc6SE9IwSefSadQy18YY4PHBe0hSCg0SJhuIBiNveEcoj6AqAOxQChtbYAHUAjsANewQeg0IGzAHXIFm49GBmQOnQCilnOIYEvIIm1gJppJAO7TV/qJKdXLD2gSweljz0WIeubaL8HA29Up3SSqzFKF2/ZOhfJ6mjFjAzOtdUp4Y1uT4tJVd9JHKWNbU27X+LBJMSh17yZQQAp36B1mSLy7Xx26Rjtj0ix83/4YmWEtQZeWWmczN9M36Mo821Y4wZI+I9kb+Tui2OlEukcOd0U7UbdSMsFpEd1Ksc91FEkv8xNJlFE1sa8vEeUpMC810cc6sB9NEN9O8gKCAcwDl5HSDlldOBz0DmYpxFRIeVB/IDNkAjDCjoAG422gASkj68DAQgyAL7QWJg00BL8DvEA6VuNGpxJyDVeOkKgI4QXBm4538aAJj/dTAIvg4zTnkawuM9IylUsGoGjCR2TZzJpN8LK/8FgiTKoRfbIBCGtTPsZBoTDsc0gCIxYS0t++aSY2rv8lCGrAD7mNhi1vVwjG2o07k490p8A5y6FRA3mdia8rA4PvZLB1mdbvtkriHvP/QLEDJe+EDba//4NQgj6hL3TALygp5tVwA2Okjxzpi9QkS2hk37Ku60rxrye3Yux69lk5ohv7rmvy8oixxuVrOo4lLv9RcBGIOhGDoOcd5QNSg9aNYSpcFdg7aArDAVfh+QAFoWBIAnXMywd4XCAFk4WXgxKCogGmYDzWrUUmO7QSZ0RhSR4sF7IhfLdhj5EisBYRCgjvZTfjMJgiuiv+ztyY/WvTZayKL2pSl6aXeJG11dGuJw/j1wD+JRY64yjV6Vk8r2BLXMHOI4vW2i8Kau71DI10ls6TiETCaMcf7bz+YZXuoR7fZQpjeQdY494u7GbS5g4i4Q4+IdJuYGMSr8JyZ49sucI/cscCEFkGHaMDaCiljovD3NC0DHnUWfy5qy/WGAnAqPHO2P/AKSDCWefJyVrlobmBZEl/AkNSMgecAm8PuzGcFnQSIAUegNcQn6AHRE2YBsmbHgkwrEAeOhnCFdg6+C98DSPSEigdfjiGzQVFUoH26RclKdUQJZIE/zdacS/RvAyWvuymTYdJQ/1Dwr4L7c13yN+2tw1EeqPE6jH32UWcXpPsuPzaig6h2nZQ0jKncj8RMLzuCoGKrkWnLUguBckmXkefs/OchUKnv6mO/+X66FCLnnLxAhnrZjTZZRBPAXbVWBLNVVsJVZDXVtw9TZdXBB1VYJt/objxjdk39zAzlxOz2HaDV9JNcrXDBZMNAfB7CrDPN1WtHNSiRzAj2E0AzjBV+RgAf/NQAk//CAQQZuAHDYXqgKnALfA0rA61IsAuWC5sAp1wNBPlOiBKudokMk2IVbvCz+Ym4axtb19z0iOKjghifYYWdLPilDEUdozW70rNHAG+qH9iuudoTiHU9kHayvKPSFNOjZr3jgkvtXjNxi3GxSwa9kTWfFZXbGI2EB151b2aly1DtZM0EhXUqS+XOQz/1tDlrcFhq0v5L4MpgTA9H+rJELwea+4GpUwnS91zkjTjxGWFe17V63zr5t/J3uqTrsQoZ9tP5jUa0ZrO/Q1INjUpfQI/VJoNHUtuPi6CChMDK8ryZZHDQ6M30CH0p/H2QZ2JlSK8JlAx4HhoCqlAYB09bwBPuQhhOVMoB82HyJKsVECYEIqYvEMxVmfV6BF3kgyt/GAnURXUl+mFjjc6sDhh+Evqipo96WR2THov+N6i9iVdKs1Bz9+qbYLpmeG8e9BcRY6Z5Kjp4qutxkeiOjqrrJOooQ4Esu5QRuXwVDyE2+Qlfz+8xcxepkWDOI8UfqKzHEOWyp3nWfOzqXaKuiDMa3C0LbbGyiq9z8LBCgWQr1S67g25ncS1BCeh5uoyIQerfZpPGNWWTMBqZqM9c7I6vYtUUk1VsyPJv88/Vg37laR3YCA71QNoyc0LDB+IVMvrQ7sC4IIuQLJWuwKJmnIOr5lg2WWdgJjT60+eg2BCKVTnMmuAVAmo5sIXHOY3C5WkJCobvU2YhpF0JAgumILsVpFdkNPsJ8SbjqQSBNsvKhHqV4mENStEDk8rZobQ7WGrrYPGXXXmLM6DmBuJYlZExwa7X2QA/ZKJKesa4WrPJ+/U9Eaxdt0CO9OffqqA2/+rHOPKWG+YCNmKOqzGamawrcrbKn7AjpbIiDieLpCv63+uvPiwjuH7OkTD74lafI9zpu61fheU2VqtdYoXFVTzTOu14wiuWU9CtJGUnp6ac7qBbY52Ga5Y+J4hVgQ1mc41YBBw/rBXvd0FICMcE1eCoSoQnAmTOG220zI9RIZ28l8huW2RVUd+JubSWeiXaavVp6R41ZH4YTsfXZB3KNDqXEeclv3VTLxlGjPVUy6xa93P0Jp82WeRM4FCvJ8gfAGZkDcsnjSOzljZTurvzqDjjNCzyvyryfiBuauyGoOn/T3ne0WgVDmnhjlpK+DXJzXJPrbVUdAjeCnJGrGo8qR1er3cs4GpGX6cXwh2BHy4Pn3ayWuOpUnaWTzhj+4Zz4XdcUkTMWreimx0vyaziVZI41g/tj0CC9dbJK0sQhUXKKiv7rZNbr+nQV5RxS0fbbeU/19wUVt9E2p0KSwpaVHPA/Dqu1UPovLDiCh97divugg9yljD9uQBTnSAZvdEaRbHchVRTPZUYOSTyb2DSHo2d76SqO1+6QuHSzVlGj3rUmUU4o996EjGzKDlDQ18q79LY3E1VA6RtWkSxTZo5UFTVzWFaHxMrG99cby2IcOA2+9fupFaKlPC25KEDnur3NqsS+ueHqzKqomMP0Dvagm3/F5GhMxu/En1VRNqXPrdxHfqnEnWRcbr7L9T5yPrH0FrAlnRvo0FhHtKrP6Zcpu2kb+yYxa9ZrLNORqJYTPnvCMUuXPHpzI/dWu+qaUJ8N+/0fadPlGQP1lob4XAlve4PQZw403+l2twHX74F2zeWSM375tKYq7KCdWE50xVae4ye6TVCTBF1xJegZxdkXwt47x3zV2BxDyxyPnlhvtBtvj0oWg7kSyGowmwye0os0sCDp///4NQgk/xL7oQK+pejRHxuKRElDK2206OQozxVpImi0PJmyyTaqNNodLY4DT0oYrHUlZLUHFZ3NiWCSrqUTo44w3al05JpGf6fUOXb7R7vomtzl82XbFECHT6hpkR7apnwyBRtt+YDRXShJIT2ssqq58augPIcisMwcYzG1IeK86Rxl9lq48CI6EM28dtupkpUr8QlEykNHOwHqX90dqgEs8diN29BTHoBkLPXu7+KkUJnxarv1Mnt4OInOEox8UpcTnUpjAgvb1DfY8xa3Q1UltSjVHROtLRwzQdre0IQfuoPRbN3SoIRGtApZpHnu7t7b5v/bqP2bZjzw1zBDkezEvnAUTWUubKS8jT61cizI1yjIRAe26xCiWy9t8c6Z0lZ9zBIpYlVH9jaSTKRMNlYJzoe16hhFWtFuePosXe0Oy+XICNzb5Ss1gIcCue5RuryW/5FsgV8nRkgym5BshQFb10LHBG3pNaMhMM/VlvZrmPS02uI7338pPRKPU7UAXAsmCEOJiASY+Cb75mpUuPhiln3/ruLYJcj/dPTUfdbFYItfQuDbCDhbHY0Ar27Gd24vo3MlH4jY+j5wOOCAF4mJZQu6Q5S7j1pCk0V+o5WWW7v4uSTsnGhFNqQxcbXSROYImz4yBNr3dRsO3HvhxnMXeakzunIkTqljLisDcTQBg5eZB2a5b6Kg5WVGFVHCxWUkEI6G1bml2KoKp398Mm01CkOTKj8YJPFWKN1uDZ353ULKTrbBR0AL07MEktnmZd8isSwrK7KSQzoeRHzhfdTqS6fhSWcRQYv7l7CT95FaJvX+5ugM8+1KHEyWkLpWdmpTP7y/PNOb2ZL1NN0LIRXWaDZddsMFDJJGUMPKIBT20Y1FsdvHnpeiYuz9WJTlcqlm4VpiqxOv3LtF56b7Hg+qc6PGXCmgGP9KtrKf1O+7iA6kKP07I6Y96/M8mkQ9KvgeiGHRYMaq9M/GkLyAWiMDuDmTrgXl4KgSVcU0BzMdEE5AKTlcBCwK2k1KhE0zJ36eyseI970QNgIi9wIJcjrTJgMhjjVdHc0erupdGZz2RNXUoXIBHNQozs8zDnZqzXFCtfJGBD+pwxQAEFRhC/FHWMULwUGBFNFcHWAzaiRkaLHtD/pK6tNUreBG8Hqq+gnqOFKpPfqE2AbyhuxbNolgIUvGVmTvstc8V6EL3CQv026WxSuRMtY1LmzMTGJaDJ5/syETOGG23Qbqa7HDxCZS4sbHKCMvvGWmG2xSzzA4OSmXBdC5wGGQitFFklBTZ/DlrTfBJGz6R1CsO3XqSnNfJTlTM+B/9QdmzZuQ3fDk/ZGxI9iDKZAwc5mEKwmEscE1d9GVGKecq8Zx6Szggr4TZqSYXICZe5yHjtBBsZBBZzbYdDC5VHkqVF35L4GgS13NZX9+RD80yPIIQmFq0HGbhKc7VDUnCphcKhJDVm4RUDC/ZQidlcnTKcjZ1+VcdMz8ErAyXrk4RaISxXqn0kliU0aE+iiMfGFBP0Ui+jStMVbhXwe9GcDE6JjUAY7Dtl/QvafKEJgkDMxNKIumYGtKE5XWPf1+jN1/I1n6EPzHyVcICPSjuxoXdZwzrbkunRgqZIJOhbRNws6tqXM/QXnoAvB1FAAR1ZgEyBumwZpzm6dPaK42Cr0kqr4hLJt+Yp7esulr9fPaH8O86CTb9RAF087Fx0iT6ZhjHrG8PzOFihjmsQaOCG6+4IeHM8fXn1ifcRxGyRM4yMFv/sOeK4p9nONqn8Rnjc7xMN2nOdJ9nUwi9I4YdJNQOjnMulWEGt0rqAxAqwvOTw2awetRFe7aM6aBhIfTzmHSF0wq+NZMdCAvPkJs4xNvuskWLK9YpL+hPhTkKVhXTnh2Xx7PzXjwdz0fOdpGVd6v9CyefJztymgISFpWJsdY/WVUKb0FUcFNkSvzmsiuZQqGKr80nIJrlgW9FNiCcEUjt6dzdHN6QpF+RfStRH+oNvinTa7TbHloKIZhXrcIkBQCt79pkiLv8cV5ana640n3dYzJ6njm9zV3pQ35ulnByWshtwUdmCL0Gc7EpyRO7DpUnEqaoybsaRvCyE6GXaIQyqcqXdptxTOMAdtNQ4AeSIy3ndIoKh3/d7SOC/6WVAFl31iWalFNnxXcIwoB4cwRNda1wCGBA9UpFAjWnRNW8ZY4t/fFfyh9La55ayMgfbKRN7o2M7+mQs9HBHSOCGNH8anco/atcsXMP5ktlf/OJwMUpUnzmV2SRERBG4OXkE/hW+sSST7EPjCPZOcpBEii0MXjciG5rin+ffhpqlQVhmSFur8BX/YwD0L/+DUIJfgSBGUCSkQusVZ+DOV0Fg2Iegk8Rj5B8Bc5Y6/BoBJpx6uBmws9z5c0LKwETreIINZJ6a38qaiHQ9hYYGMgSsakEylFnOC7C9S4zMomQAlUJDAjrAgTywhrXtvUIVCdwN6VaCKR4iTHi4eq7R5nSj2jhm35dweyLeXL0+6G3QADzRdwrYaai0z7niQ9/SMyAltM5S2N22uw21kDyA9tlAq4sUlEyh5gV/WBnlyLReqI2LMD10VP61YoNLoSZf42k6xOR/emKQZ/NCZuJrbt2QODscUgEU2OLQF2p4dM3n2sSK/24VIVeZabcYMOJYKC1Dc2BnQP/nWIjSBk8jnAcTVhJ9JB5A50uEYMRgHF5IcUg++MP49F1ieUPPFreAJpng7Y+OjzqHC5qgb0HwzuyBGCMT0Rv3YCCbAIkjJzdnLsZnRJLiZ6JhSQEOP/UyRxRGN8vSL4kw+Di5sipRGIjzKDKc/L4w1BrBqfYOdNUZ+Jexvgv2LyJreW2lsz79dPimASVDm7bXZKL1/iia3WYLT6F1i7Y/0D5c0TypB8R6KAqhXA3Eh8epPK6e7YBF6Y4ykO9aArCbkuwJtmZCXyCjEjM1TvOSZJRlKliHr7M1Uoc0IhnkTwUCpzZ6ukZbZA2En7j/kKBtpzHzNBlMWwFBc3Hx9mTI7/T7F95UYhp1nxLtvbp9ZvRWTMJKrffiO4Fxsv5xE6hUSTH+OJw371UV+hIvpRbUUyYBAUj2IsK+Dfd9FaLrERzXxUT8/3lIFrvFYhqzSZAbp2JI6cjzFfoz0Bj1j7S4Kykd8u7QqpA7i5mSNHyD4jIqu9asBM6gdvLWUtPUrlD+PU7DmO070k6RwpVUiti7c1cRDf2uiyJP/64xkeMtwmC4W0J5PxQ8VcolhqZmJfGqdIlnz3mjH68F/AxYdRrTyhhC9p/lj8PqmezhexzRLYQivnuRLoYKwe8BO4Ir+FXggED8xUZbiuiwYjGbNMIBscICFgejhok4ZYmT26SLGmEXymMvBUAz0J5pKohX5s89+u5Nb+3zLD9C3nzhkHTLNvAYwTZPKIhkyPn+w+I+Y8SCp8RsUYILNnT56RlZdbNiMiBxcdGEZfOIvm4dldY6u/AsLGhpcgheyXhb+PixEMF022eEvotF2rNmUM5JFRA/rWSBYTRojNof9N8Re5XmvwQ3GZQ2bCN3vliCLCNgxoDrAkCz5YHhEjDmxNpxQ2T7WgmBZ8Bb4G26zPYcCCJ0+xqcqc2gNE5MJIM/u8LwKAbkxQqgTwXtuEsKgfY1xd2WL1NvK3WbauEmkhV5UspLPHflswIj8s9Bw7auBO8eBgAjCVeOGpGeb4tIxxjlO8WiYrLSwoNp4uZcwT2LlXZGgLvNtCqDaA3kJNEoDvDBwt1rwZxDZz6/gSYqoaGt0csa4fWQGNuFxGej92ECOHchGtcCOMpHh1+PCu4OjKpE5NiOFTOLuJ0NHKDXovaBYvo6YEFMAy0gGsgTkBhQaYEFDtoHCn35j9hzRrYT6ToF7EKg0NG8qAWaAV3UAYIFFgDaUHg85EIDi0jgzamQc6SsAK+EHBt9HAEfB0h55CI3I9pnbnXkELGGhSJEudtjE+mv5TITURnp2MaeguNOrlhEn3WmpQUUrDaWVB1gT1E7n1OCfpREW3eI48oIdO5KASsF/h//eDEttCiUlmTV8I5ZqYIRgllEJgQuijxIuxiqjvM7Rq350jiTxY2MqvItlZK+EgPfNpsxuCsTM9aNwk83eTjLp1EHyWJuWc1OGnyTO628CAIeQrvAUgD5A1Qugro+SpDE1ys8R928ANooIRmK3Y6SWCXQfS6dEDHQjtX+tFHjqc0E9eqd2W0BjAp5COjDbn4MtoQL0OYFHizyvDrAikCedAOcCpweqjwuQOvAjlTA2ArENH6AcRTyu3jDYEsYT1QlgQQqbfmjOe4KjZ/hma5zxdQt22UlM/doeiXyVzPrwNnNpst3mNcTQyWodhN3y0JxmraIAjlC3IIdsNS1qlmwKRRfZd9jrs984mNiyLEa78uhaBkfu7YsKuu/lYvRWhx5pLFDipGpcLiAXMKMvEzoEARCFn5qFVJAFRxqN+iAMZJ7joZiBqJ1uiFshfOIsUL/De6BMu+03tbA4DIMDG9ApyoDG/QGkagxVBRBijzuZd3Qxcbvf+qG/jJ5/6I4caHfRFSBWwtwLgy6b/+DUIJvEU9Ur0sgHADUWQDRcAA1gtQDlGADKALMDVACSAlgACfANcAAngBrAAGSAApQAcAAZwAMEA2QAD+AByAAGmAAQ4ARAABNA3QB3giAB2BRgJ0NIB2AgwD5BtADCC7ACXMwAmiRAXIngPoFiANMZQAtuQB6hXjaBMEwNsJvKIbtbgFlWAFSD7B6ANqQHq3bPxSRDKBGjKAEkCyBHgJsT5knXiBjTgZvOAziiAC3AEaaBgAMsuwBpBeAPPRAHZ6AC/KMHA9C3CiAJrsA5ZgHNvAlW+IKLFOhxLEMcY2//SW5LqwbSVDfaIJQFcsQN0nQFUBFCrG+DIFkBOlOAYA7gI8YYIj0AscMBJR4A2WmAViqALvnAiHuAh3MAmIICfhBiIlRisgDPmTwWmAoCFC5rAKQQgJ8EiegeX+FehBAC3D9FgAVjHANNVgU0YH2rACGdYBBoEAtngAqRVgN4HMBPgXIMoCKD9AVI8gCIg0aDeBfAjwCZ4w7tYWfeVC6lMarFqDlPtSEBJrlZo+tRXcVIjfl9Gg0rah2EwksdZ9fUUx5ahilLtMyftcCpY9jsXuvBYWXY4yip6mbRyU6pSsjOHmdziQpq7ZfMpp/qItXrLO7hLnFdG851LSQSjVhMJ0+9Q9KZzyqS1+NSEBLlOmXo+ka/VIyFy8086OkkUsSiHOHTNhyebVlLSWk9bUzVHNNL6GQCyaQXIjaaAjzmLonQgfgZiEFO6V6RZ28C8yyvWtN/t/9/Jj9hmZTV+Agrmj6NSnzElvXeHCNi0RfamIJRyKUkmzssJmX6/n/r2hKJRTyDlScRiTbqceGQp5uTtoWFh8REuPMMaxEKiVZmIWmQG+UsIbCSLdxrxhKWpdkmWtMYUQ14nCiYFBRSH6eyWo8j+WbN5nBac+3IVNarHAiyTp3oF4LqJJmrl/FcHVeibvTKRzH00E1x0876QYnYNnNEUMqiuNb03Zdp24X1sl5K8ioTozJiA0bpeYSJhcybx+yyu+vawqCzwpWrmmdResItpy3jNKWlISBqJyliLaN/ZdDVCP08KUyZ+XkrWnifScXumhkUy+NbejX/yA3nn6lMkidXLiW3v6+1gn+1tLhFsm66IiGrp/dpfLUmdummX0Jwqlv+xk3DqZIcP3W+mVIInpRvuk+Gri81j78rrp+ayMNBx2pgbNbedGbG+mp116WSF3x+W1o6PdsXtzdTEvQaElty3JZX+NyV+imERq6NtjREHHbFmhYZTSCBu5C2haudiJHVpd7G5fOg3q+VhbDRr4hBRyPq09QIGR1oWlspyXxYasqIeHiq2Mh8KHnreCiYPIg5enST6eXFC4vLHoBWQfvd5FBiQX689mBw+vNydPrSMNOfK77rBO56+uEjT+UB03iqoPGKmKCE4KCak9GbtMiLwJajx7iOotK6xZCkm7JHSWfbQ1bLI6NsZaAj6WuqoPtisSE7Ymqo6WsqMnLtdjOqEL0zGRJRUNc58kkoTX1+6WjZ2eu4bOoMGLiaO23oO9wYu24qOxkpCrnF4yryu6N5M7P8sMmtypNExSYlXGh5zlWcr1dJN0Pdsse0wMXdsJaxiZyWiJ3JvtqDpYqJiryIjoKJv7yksI2DkLCri/K2sbzoz+dBK6Zz7i+141DYGvh4WBR0cTMSMbAXljixk1N18lJ30jR3dxU0cJvS+HR3kbVxGJJY9PhSm7De0Vszc5RTMlUTGne6GNUzfJLo2VSXlFY2tPQOl0YkBHQUVHzldTV+zK1O7Mxubs5tzxx9nUjTB//g1CCf2FBIbEZEBr927br04823RmUbNqfDi6K0ubP5bKU/tGr9GS9R1TKnTtwnaIGKdsmQPGLPA0U4FKllhRadaTjhQrumlBu27EXD3pQY2OTMwy5WTfnrTpNHFCnzZVKNLoQZcPFUlU4E7jcUJMvhctfmbpE6QLVTHR8afdWBxQZtVFu2W+Vr1w59njAnZ6cqZdjVo0aPNgZdUi9blbqEWDijRsk+90mTfmjTa1X4uC9Ql2o8qBZhUo8/RtjwcVXjWnXac61Rz0JdeTwRJdvZYu8c0rPPlWu/3HEmovGlXtyPFiXEizPFLRi5TLcqdFxUoUaFd2WKGfbHuz7E2LOl1Z8CJnjqkbrE9QMMiJQT4mCDE4zI0aX1xaq8axOhR4kSXo13JeLDVxUM/aDAwRqMWDS6eYVStfn+Z+WfGyzuHPLuiJe9Sxpe4hektEJ2mNDuVPNKQmpmejMp1INXrvq95XqBfRIfLXC6oGCXgI9r9UqfcWqRuV8N6lAeTRQ+ElrOUtDg3M2WiTtpBpVJSuvSZhRqrUGVux54aobQilIOVwuxwpHwKa00EEU00oQW2sF5NsboOLaWu5jJZ/pCs4fzuQdxGBKVSjINgqs9x0pJ2OQNdNizWk4iFtZPpsF57O7MC4IpHLbsFxx8NpwyDLXEXIctt9Xry9hKOGcQyzPbIooPAb1xzxNBKLRph1D8wrJ9HkuBu4A+xwkWEkOrsvAzjskFEnR/yy6PwwnQBwSQzmcQi8Xx7AqCQfxXGMZkIMYLJ0DM+BPT0cNA3nkycRcxYbZzQA/OKv8qVRMhgS3QL3kEWKGieOK4GR2Mo/kglXw8ph6hpAW6UsyBKB7EMRvhdJJEPCzlzNIQG4CP1E4eNwIqV4Xv6rBNCMHFAJhPtdSFKCukHRE5O/x3EVi1KJJAuQCiqEgWxnMwoPo9hQuE+ji3iUGRhAqySYqkNcdlMuogOxPabi9fwpKn6sEbHJr7xU2kVOeqT3qsC8kf2UTREsAp8GZrDnkDEpxpDonDKY/DlZbyB1uMVotZdZlMUkPqoGJCLpzMRMV0fS7JaPbU3A/X4TGU7h4QGXimVkN/ejVJRV3ZmV4M4+Tx5N4FpKVRJlvX92W060R2UQrxdFqeYxHF4KzaEnz4AnPIJpgJnMX/Q4ZyyoZ2dKLXQS6ZCLZIjkGiYi4O9sgOhzPKZKE78YwQA9BUVxZXw2htYQRKBHIRgME0zpMQE8Hea8NSZKiNiEmDOj+S6IhS6cNK3wcEh9f0ooE99fQHAvAgjuJC4a95O0r25jM4uCIGdhJB8lHl6SBT7rTwlWvwrkdej3XoQNwmnvJUQERIVXGzwUrmCOJLT0Kw8dT33J6octxjVJSmRROFQlh/SwUno9yxe0gnuZwGAhHtX7iEujGUhwTB5HIB0BSE0N7KeRBlJnguGxLNbMxH8NYKok1BITmXUZOwzv8oiMarqaHRC8TYla5JJdxOQIfXIWqAu6X7AS5tiR8ZoTnPsTJFH5iz75QpIQytJmaCCmlBYzmmOVKkJLWenqkmroJCh//g1CCjbEv3HAqO0IokwyilDmbcJZNQsh/ECNkiaQxflNHaA8HIFwdibFmIsJpVQolrG2UkropzPi/F6RUCpDw7kBBSVca5ASegBFGpyWDcS63NrqVkhZMuR3KkCN/ZO293zcFfpC7TTHVD//gGKsE6C4/2Xs3ivg/O+N9v+XY8ZbDWUh5QOx9eaCxFixCCFsKJxTonVUCc0cbT1dhzHiO0NIKxHi3AuMkcIKy9mnDOPUlpLSOklGyG0WpcTMjRAqJ0vJeRkkRMaMkP4NzcoJF+ksfZaSEiTJuGcBY4yRjbA2J0NpU1HmbFKS0HZFwlj5GaLM6Y1yIlhBuPcGpiRgjPMGBU9JTSRnLEybEK5ixMpJByesicHNPGoCwXXK21RinamVa0BoB1qX1ObmeoshptlF6tgP2/CcWymtxtknWVtUV0uiatb82NdJJJSJkrG6i0gJCyZmdpTtmuLkYO5Zkahey4Q94zdfPp8BMxQi03XubEF+T8jgHiKkUo6f03lTN7RWGoaz/kFWaAUHdPIVTU63nu23GKUQlhtHfCuEYez4mtHaUen+uz7v5b6feK5tw/rbZmf3YLSZH6DFW4lCo8WCqtTXZM879cKvxA64OX6XyuvRe6m0VcX6/nneTbFskMDbgnN3hyNW3nCk1pmHBzgUkn6WD6uu41ZVjvLMbsqYdOZz7p4uiebRCt4rTK1dCmppss/kGEqEKMNvldq0ezvyiw+0yNw7IiCCwHwIoR8ReaC69GuSs5oLaD6XRW+1huhuoqzwMvFNneeZbq6ZwXAXEnZtuSFRf2z4p2b/FGaC5OxdQWfvplaJoIt/fgHhC/EKt0oXzzyVMNVvf/PMkJpr02CYUnExiovkxmTR3P+o2W81H6zNlkcLicR8zJhHhD6EXWcz0CvVK+itNr0XNnaXgDKRHgR7Ck8/grcKIcueYF5MLBPUaHLPAWkH4GbQuuIex/+9JvscLolizIF3QpyrAMMVFDeIXjTriIpW3zPp8zDBak67XYckF3JBOJzqECC5FDcMlQhvJUJpFL1dItxzZBFDeN3TJfJxuJ5n8FWZxMsvYdWyMBGNoX3TMGZyGNh3TlEO6ol8ob4whxGeqACQkZrvxF0NiCcOWYp5Cn9rtEW7tjrsTdQ9+rKTdVU2SbythKpMil2brGvvKOYoSr6LzcTWvvc+khty9SmOKHHZpD13odYLHv2YFFbAgoc0abDn5CMcWBWB4agBTRsYWPBDNPIBtoCH2zwtiL/spz7SQf8T86eN+gRRBIGS48gQmExwT7EfWqSYaWr3BghDcIIm66+NNMvPCL4TTQNsI7g3IykUedypj/NJ4ut2bD+2GVJMtH2BRmmwgzf+I3L1l79zYub8W5sFcK85q3KyX0b6ix5qxdiR9JcgIXQI+XCxeDrn70C+dLQTrXnoKodfhalM3qypWl3V6jqZViVH42hB0ZBFPPOS2EX0XYPoXUm1zEXiWApww7n1CePNmtgSP2PIniFoNOGihZqW4UfKWjMwKzNiRVIVNVHgwi+ykBtQNgapEOTZ5dNT1iwS4QILmhBUIhjnr+rBB/KvoftBqczjPmFdVkvp+FpRdlRFkAt424hxjawff6rGVBU5kaR9rGit5c9s0eKJtIruu7WaaxC1LSBXi2Lx+kbtYhWFoDti37GOPdeQATLw7yDBWQbt2gmNZOU3cqRbvlv4jAmXb5620BY3V8dsbR3xXPmhkKLBzLntEjQuA7zaSq/tGn2lLI8LzsmJQtGmZyh0KP/xAWGuglfynyCbE1/zx54gvcaGPARLGJyH57ANANEY4P9E0BeMGQ0GAG3gZyXVCULce1SpLl5UAJbRxAiiB3k37dCzEMZiKchhEFVyOKzj5Gsq9rhlWWVeKErH4m5lkp1uQwdFFhf7NlrWVHsMFrro0HnkmEQ+01sn5ROmNdbcw6rh6Fz/L6EE0Gtf3/27ktO0neBUaTv77Kfgv6m3eBsyPy0sy2FsELo8ZVOSs8ip/MLmUj7zwOlLieN24LjqTyoZUgyQtveTuTOfrcxYYJyYDepis3Fg5AfF+6uKQssrTGF1xL2QhxnX2nTjQpofKwuKlsmmHhkpvh+oZ4XMHEQzH6IG2A6V4h48SvFD2u8dKPa4hq4WH9wKznaSXxwBKkeJEN38zKJAdFg9B0Al+VR0LbpNwssW60Jo+tCsXRssEdDsnRFCb5rWJNVrmSh1zbrK0txaBQ+tjhXANT6l573bGu2kIrwyVBPZ//4NQgp3BT73PsLAi7BwsUBUydgIkPwBrQI2DaANELGAJDVQDQDrAZsBwz3AC8OsALKBswOkAMofkANTgwAvgTIAzoCigsgBsuaAvrKgvQmwTce8zwLRDQ9pgzHC8Rs0rv/ITruC3jylcBZoIDkmZAuAA5h7ADDgA/pSwBGgGUVXwgdAsgACXgAD7keAADaABfByQHzBHQSMEf5wDgAfyZAxIBCQEB0IDwACyNACChX1NXG7A+wDBM4GrF/maoE6DCBIu2HLFBVYR5XsDWYqmYm7Uv4Iwl4TtdRKFUGZPiIYNwYUPqmQEGZgFFGxGCBgpsHVaMboI0W0EfwgF6PsBAweM9wCfQ8BDzGgjQ5QRUPu+gJBYQ7LbizF+XEtMFUrVZSZoHUXuRo2r5jLBwC5gRewAunoCfxMMJIwbVfQT49Q1p6yEF0ImctGBjqsQk/wD8JUAC5gBbwqQAZxUBbwbAAsACfgAAU0CLgAWAACDfsCBmDMWBNRiwggHKOEYsG1At57Q7ABQj8BuxrSIPMJWm4DZAPwdkARO6gGWC+BQRIQmA3R0w3vMCOMAZkXFP2Ecr7nfUfWSNR5MtEPWXOyPs4ISIqBLRS0MGk4Bc5MLEoQ45qRJAki6jo5QR5Ix2YENVTBOVHJlyjHuu0hgp2WtE0oR6gy1NLowKCt82Xv17+ZgW1Wwwgug94X8QgJgfEM+K8C7F1AtcVDtfIj895hJdUAigN4ElAU3cqUPeQkARYAFMdkAEhBXzFep9XKCALWBpQwsKKwIgSh2wx5l6VNvEOQLwmYktZbJMiWH6nRh6wN98BJ5+HQKEFDCFkiGOdUMbsxmHkNaFdY1+nGYk6/yHw0QcMXk/gI5bhKemIs+zwmXXoIY8hCyv3PPeJFrp8dzD0zIXHjdIw8JI+TX6URZQnJIX7l4XtXyoDCY0Wv7k+eDU5XrdC7+WSwHZLplCnljQY8VBNnPS5RoRtFy+OIvKGiABQkEPme3P0jY3k2AWJOh8QhduNFKDCkrTdW07iakOUhzChGxE0CFmXJD92kS1THLtAMkuxnTRt4EyThmYORyKG/R8hTSL+8cbgKH6FAKEybGxC5ZWm7TIY/Z1DQWigUSKTrgXiOz2rZCVRmfw+UUKa5uX1CA+v1x7dR7l7meYyC8nF4LxVbo3XSIhCuvH+97obpaXTs1QqTL5VNpXTZrRZZuKYpKv/Ryr+QlvAQ4tQg4puWTJrSkq8LUkDpubQk8uynmPJyk+b8MZZJmOmVtI8ZeIVaqdj52szhcTEIpqN7f/MwXmo0kpM9ml+huhv9xzOxkF6k/16MjjtdkNyq3D8ciTbmWXF0LyUCzwn6fC8p7A1Y8G55dAq2Xtu0qSco/yEk87Q3p8KOWnklEapcSa3wkmGTHX/j/TPkzvVcqsY/lxJFs96U7yTIQ4gf7aBnvySmSESJN7LJTplQVxffCt0oigtH2nolrAxuxPOMuz+WpGrg2sofphn6rmbm9CmUP8TCJtKJJmtdHI1supBcnHu5XN3qYlItfzZLTJbj8jOY5NofnbPQqdSZ/eMVHoTBohOtpSsDWc5lM/ZeZyt+kdm3ln79YvWvRGkfCg/mGf6BqXa0U8mz4ui4lR4+sRiW++VeSBbWWeCD7mO5qAYWSZSh/+JfCQf+WleNhfF5u/ynTHqrnPdhVrq/E8lOvaOsusPx08xg8p0tdiFWwXAqmVyNI9WQuHK30Op9wQjXR6BSiExuSWKHVmw0Oi22YxaAU/EzGaR6X1eA1KBVmV3C6QCFx6SRy/SCu1HOabC6ugciW7GJ1qM1eBzHBwHNRTw3/SZ6w7WGaqaXeu2DYRGswm0TyQwWURyMzaOU2m3rOVPqyXoULB2uRYaYwBRnS9WJvMXjU7psBre11Mtn0gjkMvK6rbQ7dSUPycmluNi6ddyv4m7ayKUrpdSy3O9dqnQ2sUqC1WOVyXU+Xxmi3mh3CWZ/fzjWSvaxLpRLj1nzaDM6vgeKw8ewIRAeuBqTP/4NQgq1RT9MP2dAibZef2qVUeixqEUWPxuCwKEzmZxagQe0xe8Tq00Ooaaa72E/jIanO2rSS3C1K/TO1yCbSmI0yPXWg1qUUmI2JFEy3EOjF0jNtpswraH7mfxuW1qeb1FcHMLvxanG9jz4xbJVFMpgIbE9J5KpDY9fpNBIVOKFMKBBKzK61cKzs4bWKbt5LdIFb6LQoNAZRRIPG5JDJRHpxCIvEpJJoLJoVR4pKoha43Yoji6HipNl87XrpUcDHrJIaTBqdBo3BIRA4dRpBO5bPqBBpvFJVEpbO6BVIHgZXeJZf5jip9pZ3aFsZ5EKdHc5aLmp9Pm3Ne1b5JnIdi6LC6XrczSanj/bfYvGqRju1lLFiP8hk+lMc1FSsdnm18gtrhleg1pj8PtNbjEh7N9pkuxNL1mwruJw36mVrmFukUGj0Bj9QsEKttNplCkt9i86g+RsMgpVVsMfoUXt8QuUBuscwEWt8sxEAtsayUQrsGokTjtcl17p9mu1ZwMaskSsNXiWAi11tduwy1H+OpYkT0SxecRF96Kz4qZr52i3ArlDk8w1VpWfyyvRrbW0UWRGmcIg2SWJorHCjOD5erx+rQPByKC6/G0K9Y1H8zFLGg+xrmGl9rxzQJ1SIF7lUw1FleUw094tdnFYpfhs88jW57c5j0/3NlmUMt9FsFqoMr63Mx+zQxiqqi+cWa5rPgHMhr33lZrspfH/2U4aZxbmUqt6mGU6iWWy4bsQJNY6uA4gbAVSf/9NvULyD5mr047oH/NefQ9lrpwwxiFnJPSMARE/KY6JaG0LkJoFSCfEym1yerKHdCWuPM29F7IH3FC17x3FINUoJAdLSJF4b7iHUJA1XCQ40B5ON7ak6GSfd8Yznv286e0eS5NN07ztcp6w/XIbbCzH+fyGYhdNVaeEQzRKjDydcwnKokmZ4xJ20QKUuIlshLxJzuo6QZZltZ/WOJAUHibHdTI3PYIdRYtiO0fgCiA1CFiw1VEAS0A4IV/SjOgZ9bRvgoBRBYjnbUuar908L79RWqaU4D4AeI2jbDdF6JqOikORGjBgTiwGUt+scsmCD+ed0ffyeSefDuUMw10UcYIkXqZ9ATAqHbd/bxzhty9ar/1dXpcHp3mf0Xvs/t1aRaJw1pnQ8lwxzcFKdj8tbuhFs4flsyOOgUkbHbvFDS+kjjVQ19Z0kfUHCGIuxeYkMU3xleqIkQpsUFKN9Cb3Mt2eCA0cAoQBwl3AXmZh/CGgA2IDSrppgJ2C9nMB1BlCxHUmxXU5i5hxt4cPIZTWCIAfIGgWKVJRQxixvXPb0bs+dCrBSymoUwzCmFoOg7ej+i2YpTCoL1zizDBKtbVoJ5CGP1CcPyM/8e4/o06e+JMRReaw1ALfzyEJMrt7EkN1kdKVgYyRKTnDAb5t/XfOdv/H2+n86jX2/bWacL4vTfiJWBu4gXhOFL0pTn+9a/tMYbGkTxRhKWaHkvNTiOoiiwmAdALlhxj0n1g+4BcQQmFacKS9IUADFCjZD6IAvYRkUPY6qeJkLICSBYBYhNjVWYxYtpt37Nyd158bS9/v4TZ1t8Nq7piY6MAYBu9+PUHe5HxY4Uh5KZC4NKs5GnFPWp9a6I3IpOQXp5xj40S7ckd6hcrH8yWHEhEtOcaqo7dQlWouJot7iso5b67W2X8gac0e+6WMSXI1hYMlhdAnGAsKKLFCt/fm6sXr2/y2CAqrWc9O+D5ZXb12AhAHGugZdRyBCzgBRQNOQ5zAZUFZDKAD1BJiKysVq7gZcGLsT8ZX9A8wO83RggPQEsHHBnfTDwwIISp+cT3cz7tvXLuQWEbmPnMxSv7obY8iEd54CpEKSaAUpLPpPcPlVxISm+vM+fnq/RZxV0Pd76EDQEpBQFbZERQOhbjNhu2//g1CCvSFu4O8Oz0WgIDCnwC/CAhg2sHQI+Y0wjoDEvqFOIIGtJWHYOIERI6NwRoq7ale1xNaebSJCq0sUDzCbsScRVCvuO5CsODj3O0Ba0VOQ9SRpYO9lwKWOuUK0CxsqECN4hdwGIe5P67awio9qBDYfNQR0Ae6yhc5YEa4YG5P2fz2BI1/CXCTN2lLMX4r8BXzTv2vhtOGipVikExZ8yCACdq6a74FRSthKR97LX1Rka5Y13e0UrDu6tRemXIeVAQ464g4kwU4uoR1xggSgjP04yX9KjlFkTtlXqTRk3VXJtF3SFNGEY1PyQFOWEvqpH88IjMSPdQDQyNgpUw9893T9uUvTC0Zxr27eWMQhplUsPRPcoFeiwCjhoy1JECJq6CxBpF3RMuhJM9Rz9g37MiXfgmJGgF0NoLS6JHLGEba29vi3poCYInDTVLgbsi+OS5T0h+SsdxVmY4Kb7Z1kzN/RxEJWanIiIQYyOrZzUnLuxcteeWzDabwxqBnqVolKMlM+zp0cq10fW/k2pBN1ZSj6Jqm+Y7WFWndOJQzKxQTSbjY1EEcV4NKQ0P0fYKCJGN8f4TUU8owmRGynp4XxzXn0xNMCQFaXsJ1aT/xE/28Nn4TKfwypZgfKrgEdErCeIyA4eNAKsFCCH7sNcSo7beyApJfa3ia8G0AhEeIXoFSGpDR0ZwiMiEqgKYu3xyyXQkQUhta0UBsTYaTQdJAo7m9ng43CaTZ/FzJ77YhC9r46Dg4TuIva7UpmRuPaSD+7VUqcqN/FI9Rd3dLc3RIyR9xfPSmc8q1bm3KqvNjvwr6v7BiqkptIRaw3tKlMKG0baFUc88rACCQETHcuF0FPz6YWJnc2qS4KHy/IyCVk3uQgHSFNzgOYXwCLg+a4OAMaNqEcBcMwwZGkmLK6qfdENa644h5rqqAfwnRkz44dUxG0lQhYOHpmQdy/pCjcsyb3kDVo3yXcHjGW1DdtLeJBO6vIsKkDDUEn9bYCMPavOGjVc2EbdnsC8WINem4bYpgW9xQgxWhxUJFaRAcWAD+WcFD6YIwnQYkrY8BgisklRxFEnp6kSl794IVQzcx8QbNFHTdmk8YVC/Evmv9cmv0Rv87gVIj+VhCNV7/7PiebL3mcYCr2G1VxriPZw7om6J5f15VAiGHaJxaXH7c0VU5aK4RMmGO843mi1SXEsJYeTKthjIXrHAVpA358s5TfLxpBOEwWIo8wYKGl3RNlkGUm6pAs1q36R8+2VDJqjEUY23XSOfLB3FZVnXOxbHrybMeRCZwxFPZXPJIopY2GO1qzOyJmuisfcTSzoTtJ970JTRdqf44izkpUfys19Mup8dnmW6G4/6dy5BEFfNQj3UoQ/StJvE/m/eg+NgVqgsYjFsof8QqENevtP/6p4MwgqHycPxo9mCxmtl6IT38G4djmzpZFPHp55DMkSOZFSWLP3eeNCn81R6aymj0Dld6G0OlUjJozX7Iji9UpMfLzOAxvjTbnJ/f+1REdz3qSUmvcLtJGvhTASBhUjzy3KdLVVwKGVJ7eeXAji5vDTr135C/SOOySescTX8leCWQFI6rqEXWvIJZ33ZZ4TBenR3f4rBGyXxtfFmqEb3cv/SMUEjq0xjlcPvqAUSlLTxbRJrVmJmQ3uuAdbFMrZ8Fb3XnbOLZge/jZHKapDPDy70lVUpG4qDEtfW8MiiMZTn+OtPRmPj/avaVDkCiMRGcjC8ansScRPMj19un6B8ZiqxFFOS7Gkt/toySB8lFGgR6p/2cxzEJK7OZX5fpfN0uwFf6qNuTaV+c7MfrVdt86TH8vn/kv0QytQTyJtOqsq3kphnk/0x5PfiEUyV+jvFvtYnUolUUTGhoApFV9tiSqAN2iOQYSxYWJUK8ZXt4urdTA5+pqNHv7hfBnNHHM5KbDT5bl+oQ64IfvyXUv/4NQgsxxT8Kf0AAUAEYAATgzABcAHQKBYAsA4cfgvAAjAAMQfsHgKAATAFwCUAAIQAQhsAKJQCU5B4CbpgDYQBCAFIHI8AA0ACaQGYU6icvgLqQ3PwkAmAXC4NCkA3ApToj3QC4AIgCoYFIAxACcEYdhmfhgAZB9OrMsADkABiBqYA0AFQAOAFnoD0MWpqzBcATBdeSr8JhGFpPsfIs0dxMQFYKxDlCTlwOg2EIUiV+8ZFWAkIstYlWxmELUUGWJjegpg1pvEbHw2PkbEp/0IBx9MQq1NR0QfFe+yzpBonfr/Czd//z7zEshp3vn9Xcd3RMJviDyDebKiUosX4rI2Ksj35oR/3R0/03XVKEj7yG+KAuaT6SRl6nCVPZFTLr3fzvRtKhTWMZ1S6vRBYnjo2osPLPXa+fzsrWEHK2Np87apPJVvziKW7bjOSimNDEo5pkRI2OcsKLGNHFOh6OI/yi7ufbqXJlNejh0zpWz0VX+obOk8uVMle2V8Kzf7jBHHJ5FPazyXa1bfuZ2U1aZohWwIE9P30y1FlXHvfBLjtRLhDNBPRtrvVNBHBpjBfjtDBDLFHlp/XthbZXb9H7wilnlmxgs6g/rlRx6aU8cJ/8ln8sNPFV9WGt99WEOEs0VU1WccVF8yxDXj9Yhggyp1oximQTy4W3f2WRxpoobr+cbM0UMFc0dVte9/0l66j9dzHZLPRVFftVnfymxjyljQT8xWRXV09rpOYJqZY746rsZ9vM9PZuoooMps5esEtFX+lscGqNFIhzXSw3/ZTx7qKcW3zGuyiLWOGCq2Lim2/rODrG6OmOddXq4/1j+mtzimivw2JYMsI6J457qsobY8Ocqo5pIL8Iq644KJEc3VsFf0jtIgpkn4pTrqdc+IYZv/Mo6rMm8TLfPrmSOKfZCScqeJbqk+1yVRzpzzt0g5jx49osq1RO7pMlaKXSV4S79boMP3xbYoWrGfVncfDY7UcM3BOYRkN3p4z+i5oUCXxQm9f6aXWyLn9M10OckTg3oVOjvzitEvUXXpcpNL1nejdOgk2Y1wIT6RGo1Pk73uQRRsUVS1y4Yd2EKcsm2MSiQzLEqfwsHL7AscmJVDBDp3H7YTMabtZultl+jzGlm4lsQkmz8Snk87JQj/hkVur1YQB/uCqMKfxNQr+R0nT1sR9iJT0QBiVYGcQ4hEqIYFqft8Z4+KkAQAKSLwmVhm8B4Zg/FR2Lt3yJsDO8OAWqw+EhOYg2CuwtkbDvJ8nGwcAQpwBcNQhPAb3Vh8KT5mWERiAFICLs3DYNEQDegED+sv7KgNABDeADYB6ApAAsAvAmBqHYaEIDQCEnAUAQ3FvxoJAAzAPgLj4ahSjuAKxIHgEoJAJmglBiIQuAKwBdDaAs6P/+DUILcAQAdMIAqWD8NRuJpIFMYBDIxI9+iz/uBfhGIffYIyRwknM+msnpVguk2x6jtKdRlBteqpIHda+rGpoYx4EApJ9QRvHLPmr5I7Zq4RP/5kDqZEbuFAHQPYMIKr08ZVPZvFqzFqjyzRP2gr1n6pVcHP2jFUazRNUljcQqXYUyuXDjbcdRkoci8E9/JEnc/R9EVDaz0dCZqn4XovfG9VQnDQrlyJtilXQjzPtFJMxyh/Sc5FHzuxwHR/GsLJSf2PbtBaLJuQbA1+mKK9NGWnTSR558/AgKO7ilqQYlSrhq5M0rQnDld4X52ypkLm7DcLo5r5R7VtQd7fRSZR8GiIrmGWMcsORHZZzogsmQiSnL60bNVwQ2utkZutYgtjoLBifYq2WCB67JWKZKkmqW5HliQ8tzFB4yo5l1LwtHvZ5stIgmC3YTSJJJMoxDQKUeZIFM4B8kfUhoGsoSoFw8HquXckNq28SeJwQRNYC7DlJmxgE5pmTZmIJI9C7EWScM6wwS35B0aeGkEJmiXOvbdyZZovgnu8pZgPIRnIuPHJ3YZYhajRX0430slJ1am3tY8+xIO22GDO9jCiIcgUx8J4hxB4ZCGxMyUkQ7BJQ3u9OhY8BLQJNPEW+TsZZlpUuG+Ts71m3ibEXHHQR4zQF6p7J4LiJXhYXCgMVABPEIbqJdwG8RybMtjsF9+4Iqs36iYHEKVy9AuCyNUhCIDW0lHwdVPixlEznfxjfREqOOcFsT66T3e1fszrjGu2lhLFLCEHxssOG/95MXRo/Xyofy5VyVEHfsvwMx/md0M11CaRBT9+XHQcHsyXUywYddB1O5xVg4CoQ+yj5ai/eExA8MunPaayAKkNV3MM6jEWaPV9JfL+NzUzHe3W+Z1GE9WXmEC3jRNkWIbjzb6HhMEmqi2MEmmki4kZMiXBCvQxdYkvX5NWptFS5CkEob1s4kroFzt8KFt4LZJRHmSFyTvK4QancyzCdHvpyurQRpwjBFGGzhJ4iWGzmoqv9rEYSebseg9hvDyBmC0V5Wsw1L8w94lPlnJxsqN43fWI3BXfQ7FJmIO5IAczK1gRTVnLTFtiYhFulKrqThKQH/hXYmybWvI2Ep9qSZhbQtatwim2fZ/Uy2Yi2OVNmlXmKkVaIZDCPLMfxsPdK2tUX73CrxjaS7vVR6w5+t1RwCmznX3KBKEhlh8rdC3/nVHUzy+YxpjtjyzpSCdsKbRP7AX9yWFOmkgSRCGBag6STQ5CTvLPsi+YBQOImzD3eT1HGOBnHzD4zHQ98JxlJk1qLCL9xp7pSyzgyMWi2m1XZp0xUIvEoRjcYWWN1tWIqB8M++cBbsnHIgOZMf0GX/rM379jInBSSKdWyaATCNf5NMyHqRw8M+DLniEVEnKkHPZJxrXeFMXl2NAawotK2tiZ0nMSSjoBZPp3oW9cy4c7xWRa+tirCGGIMkTrNnINqjTu2uVSDp3mky3LVq4xgQGV7CxTirJNIJoQBu2A5JslTbrTtlEfSFe0xUtYew1B1v1bkaUYn8QvlNgmmrKdqPatEIS84w5D2wxq4JyVTlpPEhh/FzOxDtkQ1N6FtxlT8CbpNtuKJjowWUayKEjFUZOErLkYeKBdn4F1RmFiNxwifhTlv1xM/RV3UGbHhIFjjFERXtLBRNIu6SWToQWozp8I5LXIukMH7tILa/XL7CVuzGCCCME84gTYXvCB/i8CCMkIpbkKgeY2C9o12MN9pMBaBLR6WMWyV4TbnmhBnA3P0JwUJ+qqK//g1CC7JEgDdAlYNOeddit9tVFRM/o3RB6Et+rDtRd4hfMe21HkJ2pGdYgo+JcEivEbvdYint6/U0hZDMwqyw/S480HOspU1QcUQ3EcPRvt8dxCj7FGs5YuR/9oKELrL+jVy61HPvYsrn71U3qpLlSQVbKKrZSzZEcT3rEnWzSCyisVNZ/gGiMn87Xd5YZhcJqaR7IuXIrr6sLDWkiW0Z+hzY/I0P0E4cj9vysWrlUtCaFEkkJCKlWh6i7/HXN8m43zBExLdMM256+YXr56CInK3Meo2MZwiDrsR7uOLUgRYOydtjMlVeyBSKpb6vzxpKZ6wZOjJ1qxfpEM8teEDT72M1ouzqSmv3nZadP2kzMH61/EqrkL/MhOcFzUB37cb0l+N+axZAnypUKHhyfsaytWFpEkzxLyAEN1svahWMxdEWiQJaOF5NQ8aRtB8aOaI3nv5KVQVl+t0GlE9SnVS+yUwnYv1KP6cwhFimkdPpBl8+lzJg8MmNDJVBGDh2j6WVtqTX4ExLhUkSbRRL2uib8C4+G0WGvNvn2BWZTcQy9W9qw2KhNAYIlGf3y584oo/bz3KP4OMSAJja/vFMpVlK+O6a3GjRtpgRCWv1un2uxUlH7S2VGmfdHpMqR7XCJGrCK1X7YxjPdZQI3zuSlVRMoJRlxBb+lLLp5rH2w0hrPaM60NkvXJMIH/yeG8Q4Mb4S2rucZCo0Mh63q87EwH3EtNsJ5olEHDNKFhz3hVQ+4h9CRyj23HozzryS+LMceSEg4/uNCiO4X7z68lRsJgguBChjqryiC7OJIxvlE6pMfIUjqlkYFDjI9ycwXBWah0SaG6HEIKblhInllCgiEsbPRW0TBHhUdwiKFI1ij9jS+xMYirLafKqYFqrM1iNhV6u3OwhSDEW9GNWTAIxM58IkryY8jJJpsiFeVSAofDEwuGMkCJXt+sRo2TLJ+dasXHV29EWdPXbq9MQ+4gVe/oyQpQ0xA7PX1/YOEwJ7Iv3bB4icG9kh3ZPEUMrKe97rfBIxoFFwWVJ4erk77BODmxB6WnwcnE07f00GQn+zIkr8EA13sXvJmZTsKgZeRBBFrIKsBq8gflqK59r27AIpJMLeXaT2RbzeqbN9y/nuLBRr9/S1/qmomoZcN5mnPhmSNGOlQutidIgkRtlUKbPRIv2USUKaPTLJ+IyS+CWy6ekFdaYy+QuuckXqV/jBWmJTdiqkLReG2OIDMFuL5cLZe5I0pCz4YkKa/dsKTXaSHsPFwhphKNSsYeZ6kcend8AcK1WFr7ccnaX/8oyGEVkFle1EQtn2LJeIMVOidC6Cd3hxvR9C7lDnbpNxi22N3c4aON7zBOHFTJmKeWZ09Cmj4sZAmKk6eIR41Z1EJxrOwVHWBEHfZZpbEST1d4Sux1CYvLq9USSsdJrTG6OD2HPCTB1ZE6VdTZwgqmYbc3WeUasgiJN5UOlvh1lGTHIRaKpKp89ZSgtotaL4A2si/GnkI2u1qu83JlDREYSF9+hwDimp3N7UkQ4pOhmnJCSu/eEZ1rdEEDyDGdMxD6c91anu0OWfoxiiZ7kFadn0LY22ITQ9XXNSBY5kA1A9pZljQz+KZ0PwalQkoQ8RUkCWkcmOiyRGbm7T3L+pZ4n+WvuNJVJ9QHAtxbxkl+S+nFkug7AsxY19QnMOr+/L+bcpO0BTj1/y7Pd8bxpE8ZTFa1xqf5eU5csDZFoelIaIeTla4kCcRnlhRHEcjwzAMxW1X0FyVJ0SYzPsdyVd0zRfpNpwvp2KSJDeu2XZ8eSxaF0dlcCS2S97uiJpwo6/p46di/mxCh5UXhQOi9iaS4sVgtCmNP6/SZRgqlI2cEFlAXkBAA2ZYV9vdNdVi7IEtAWgCPDII0bifaKJP/OPODOrOVM5I/YSs0qscGGdhpo5ksXM+uT9zVVWVR0pZkvRxS3GZFtGXMk37oNOlXg7luvcdbpmu0Dr7du8dnadd/g7Ro+QypOHEwIG1hIysN4qL8mRL6Rl0FUQBeH+ZJQd/ytf0so5QfU9conSfBqAK8Qax/mYSk6EK88zJpFysCisv/4NQgvzhT74PwkAmfIMlqAr5wuG6osaLapgClIf2+kdc4Km+VjuvIUjeyMAmXUavmq/om0QR0FcfEG9gw1Y6rKr0UYkBKRXQ78Gmn60DO1s7TDKsk9fWYXdZcTBiVxV8znwF1S1iaWCfOccW73zjVEAJzttuDBN/bTnMkWr09RwBPc3wzl6M7NzSAEf3yrBE289Co5fXMsh6QxrWFs6et5HGt9vXnwQRu/y4XZyEpmVqpeyum2Vk8JMu4xOa96eV1omZ6DF2EYFUUbUjA+dXVtPi8M2aB3B9Gmrpur8+7tEt/K5WnyqbBj6XIEhaPovp2FZAraooowG/cO3S0CPA9gxwFJgFpkMhSxDy9T3gGPO0AJDAK5yk5qIOddwyR2JvdW15/9MuI4gxN+JgwUhqxBMgGfZUUHsp3RrF0+6lpYCH1s5h9ya220VziD24zR+mzvZ5+TqRtfQu4n2+cUzzldfUwSxUyP4xWJ81K0zP06RRNUn9vUvqZsr9sdjLMykkfLWob8udRvSIguX2Zw6SpopkeKbgQVc3t5iihKG/pL6Bm1luPrdbl9JN3Pjsg/n18e/rQ1NzIpyGlSzKp60lR6SnZAW29boHcSO8wFHCPgWyAJ1KRBSgt5h5LADpCNAAjUAPpkAC2CAG++45Y4UKfntriJUpl3OaGAjGxpgGnW8HVrPF9EtMJ4sjQoTsLOrVx+qmcEnFhjyewCNpSDvRG5kwjhgYRKnl8SQlAttkBbS0IfcezVCwlxORBKhS0jfklmY6gfF0T5Ug+R/lF43O9D1rWcj0nZeFw7ekLpF7VHSdvxdbrBTlbEH5u7BjHOqTwRemSIH6HaluREvnJUDdB0fS19gWZ7HMVfT/TceQPT87y5I0NQXD8CUNXVZ4fLX9SdEQhoMKqEBdIFIuYBdjrpwCJhGwKxAGyiNQxge1oGkY0IxC99dI8q5Cu3dw6t57nBU1fM/v+0KZ0IzR03c9+sZBSR97d02RLrdckXpyJJdvqgmplvm7BCpDLGVSESV+9mZ17Ru/2sTqCjF3lEpIEQQIdPf4h53Dg2eoYWBpqBYYiem/u8glURSnQJ0gYE4l5hRA8o/kOHUMHzV4FskNiQhOVyvf4mpOqUdPiycvd4rh1r11wFYeeTLDS8IovuRNnVfuxU1+idbtE+LAOhfO5ghrkWu0f4CxEXJvECwUBSgOQPpANZENh5Aq42H2QNCBTQNrAD0TdwLaBByTyGa42E71aKEqqrNS2HCtzrxoQNW70GlpzCUiaGx2CXMrhLKLbSTgtrZEBtzpoka9HsrlQ99Sk3A3g2i4Tn3Ut4PSi0/N0bECJLfZTNT5OcS6wO2iVHSaiVHzpHBNXNktwkQVSxEqfWaPI4Uz1PaxH8Q29tIebZBZcAJUmBtqH1yL4zXw0SJaRa4G4CXEHbenPL8KU9dC4UQrSbwrU4OsBDyIDMSVfQdNEn31DSlPRPo+14I6zUnuvzRkW9CD41NB1TEgUCDB1cBnmDPRMoDpiGQCLRy4X4EsI/bOrqoBdJ7O4EeedO6tzdc1E/HWNxNj9J8yN1fl9CQrPe/ClaamrgVhWg49YItZyQqMs8TEIkM3CPeKEUVCbboK6r88PUZRkLAqIy/D7U1CZKQrC0bRwbKNLiUgRPBF5m6AjXIaIFid5EImlq5dsStjZXPAreSJ+7HbeZBCrY4/d9yTSUkp2T1wO7o2TF9LMaedRhShd75rss/R7YCWIMUHe/5YRuu359nnK+vuSprTXXBa2JYcPSpMy6iHTU2WAyQ2QK9AlObw2R6hJtGBUCLgc+DbVpAwwpoi8xvr4BnuQ4mmKJb/RKgupiAmWJNLTiEjTwkRyi17zkJ6OjhFGI6XkSMKGvO+ZDkuhYe4baOhfDxaSkNYPuNCUl2KQbAYJ5mlrtrNHiIMV19BCGP5Xmgp6WavHsQjiGWy2OiSTfBrLwJzQDNNgSfZtPZ5C/M2TXFpX/IKQuWUm1PjCOqCaLhaUss0m06soCbJ2xNENxOcgMivXyJviILS+5pOji0gt4Qw/NA5DyEih0elWMYIRa6uxRXT68ehVQosgv3rAvMgwYdP46l2/pSSiNWBcGWnVoX8Ka+P0DeETqzy76pttfPj/J//g1CDCTFP5N/OMB2/4OJTC6MJbjF4AtiibrHcCcT6ZYn0SJqwLcl7G3e4UdUBVG0DzBvjCD2J8UIYAcQf4F+MgBSRwmSQYAL0U4G8AmAoQM00A9gjwLcLgAnCLAGixQEgugbbFBkMAGafItHMybYUDzD3+Ad0EH6kgOrDAN12gEcFsGiY48IsDX1QDIHYBugix3DICLHmG0BWF2AVL9ArAkBRhNlIPxHh7o0aR8Va/6eOLvOYMYDwdwEmAQ5rkUIoEgD2bwKkBanG0n5oV0IaoXeeOJfBYhywbKw8kWB8HOGvMDoVUkzlQb6bCYCWR5m3TyULLGAHE3QHOf4KoNorwkfghDTBb3gGwJAZoYfOmvp9ElRnKjTKSStrhgKgZp+vwIiAL+RJjHEmhyaKrXKHbxrEnbI3EIRK98qVTyBAc3/oJp2kGyngg4YTloEqzRCdh3tgEYqQOFnggigLOFIolRvp4dU2+UJuCDWYyGwfaPF8sBcl+tCynq2KJYUkIXqNdEgLurDQFwvyJ5ssTLVb1025f+Rbnw0Ou6tEdZG/wxI8batPwtHa6TOEAkSzrH4nMr4zXHy921fLbqKUUdsUF9yz8lkqfeeUG27XA6rrm6HO2WAYE6ofJMMMs1cKzaMVv3ikuv2Bl52IgdeN9orz0dCw8dFYeFGpYmehKjI0rHr39hxRK/61ppfuG1OIi0LZKKoybquy0LHyc4tOZDpNQQ7fn3JtdsjtSvEIJGJ17xje3U2jikskjb6XqwdGwt7+Sv8fXwYHH00/s3yG+J9S9+t7StTC501LUE5QUuDKo6osoFMzMBEW3heXPzn/lHxo5NVm/60l1DzFBLZE/IWGLN0EhG2WBOSO/u2XlG78J6ZubuUm72wKknvGSzuf7mEAjLfPS8loXUtEyE/MxNvlTNTmdELuxePp1SaZiHbsNzVn3mb1n+0WFfXsjDa8cwDiWmPL9aFm53kS0P+WsRErtN0Ktr5zQdm2Q/XS+uTtKDhU6QXVY92f2cVjSJrQ+UfLxGVjYsdIqCUQKLiIysQl1wT6f/6zu8Kajk7PsSmC35RcZiJmHRsrPpcWxDqPizETC2mYt4t+XhV16O0Nnt1oXAh9myr6SkR+dQScBjV7Z/O6yivvBlI6IjEJVPPpUXVA1dd26d5TdEgieHWXk7z4830UmHAXTSUH9WZPHUyd1tJKQv5if6fP7odOwrrG1RuPJyUzi5eryU1HOx9BCyNBZxMnP1GlWZcPg3lxCVWDCyUZgXFnA2EZaRtxQ107NQ1VQTeBXTlbFQHPJQ6CxIO1h4uCx6eewoivitaOVsNeeMHVdU9o+srTQVN5SdrXomYoLqexdr0o0DsyEVNweklqD52+Kd1Z+ssoSquKOfg4y7t/iJl9W45M6w+I7LhaSiq9SVu5CWo7jpkYL/xYa3rJW88ce6h6TVmJffopjelKutjZSvhKrGxd+BRlLZbnTG4Ohayfxa9nHtTFpe0CNiLm2Qii2FHP+sXbVP9RxMGnpCdUcZ4xmshvBm1vde4sYkrvfotTtheKwtf+eoKDjTVBWp2Dukdv3WXCau9oZ+Ms7S6monChULfzCum5Wml83JhEhdctlPatDX6hXVvRnwUQtUBDr/LgFVV9EFGqt75khmoilRH/cTnT+JlDYu2jIOai4PChuXSzYPaXsGkEAkCbgIJKrrKRd8kp3/+DUIMZQS/sUCoAQblPECP0FoPxzgRCOBMHJKQGgXCeEUPokxXmdC6JcTY/QBhJBCRsmIsxuhZEGBEK4iQAgBBSC8GYawij9E+C0IIVS1gJESDcUYoSmjvCCLMN4oRYgzIeAcSIExFg9I6IEqYVwPiVDSMMMYVQSgrE6J0SI7y/gHEKRkf4bQAgbEaEUH4Eybp5TqtF0q6UUmxBStVXocQbk7R6hUAJXRbgxESj9hZVzXobJmT8gYzypkleWDMQJjwSn3CaBUX6RR5lfBSB0KYTwhhLFaSdA5lyAiTCeS8GIGRTrDGuOM+o8yxidICMcu4tSMh3LOFksIXR9jRJ6Nc35xTelDLeyUUqjwlm1EimMMo1UgjnN+nEJ6TwlktJaKsy5mUgofJmHkMYUxInJA6EcBI0ythnFGL0wpFQfg7CaScS6PxBrBA6h9CK4UtmLF6X1C7UxPzNBundiJhTRn7HeWkis4zMgdqp4Zu5IBEZJbWkPafyPkHd2v3wOAXylH5nh/t172FVF903NonAuokVuT6fwfAfR2NpzyfwEihhKGWbJaWt1Td3G2FuU/JjpKS8/k83wJ62rPD9ByeSqNx/3W+9HB/1EMOL2YSm2FB+wVao24tjXcKeUBZXZeo5dXeMhL1bBSDwQi5JrGNSt6TzS7sjrLAFdcQohLAWtSBk5wbSvZ5lJxU83jS/Q1/s071kVR6TWBYz3YoRY2BNhpt6FpXfC91IaA1so9Q/mcbN1TOunJW9kiPp2j69wzy+y96eujOuEGDB8TxGQnPtTEPSIcd5bsw3da6S63Wri3SfXG8zrrkLZfZfLMGYkkAgNpLj9S2BleLcM2CPz20mKvcssa0n5OGPr15dN67dBdT5TbNBlS/8O9c40Br9xpfZgyt0O0zE+qGzmL3FRKp2Hf8UiKOkmVik9iPbeL2zaRVk/nQb4zzJJNA4rFUJNmbqIlFO3z3QAV+xpm+WKgCQ1p+63K71p1VOPyGkrPr7bq9PrYu1YKYkgV9e7f0NEaRxzaLQ0a7J4c1JXHY8A9UYsnfM3GFJtQ7rpltC+qIeMGuo8ug3tVEgRxcJeAHhAQod5VZJEKEgbzHrygVuAueoeHlj9AkWL7oxiN4E3RnX4nUturiBbwYuR6xhqC2d7V8CbSHSKBHBUzRPe4CIKif4kj3GfpRMTvwmRcicIHqnkxNIDK7c4ZeC3BC0uaFQgZEThGiSVweGy2Eib5Bm78AwWqaT+l8KyvHpKQxKx/vVItwq/s/PkTNSwZwhchBJaiimZ8YJ9WnaRm8SczA4znlqD9yxqndbIIL59nTG3wi/UNWyDbycaXOopva1UKDTpJ730OkT+Jk1JW6qKqD0xwCM6TtP5GRVpNgakvXYc8Wy9VlF/fdzNrSFnahgFDgEggdsZsjjLQ7qAomBBneuBwxqIfjpgKVSOfPoWZDARfBnelhRroheoC1QPeEEFQDg2ShisUdnbIzRagR6zfBN0rK5ecnFeSs7e7ANiCFiOFfHWHJkK10XTjnlt3zVQAgk2g72jyTkZGOEi17CQyMp+GN4qBQqhgZ3XVGSFQBXVwcxUwkRzWFaGTm9zS1N6s1yfoJaK7ttthFam/RGNWg+Qtuf3YMEFmWRN9QA8crGJp5oPWR3M42NLUIGL88FVK1Q8a1muMW0ryRXhK95eRlnMqZlAmM6pkblbl0Wf9hKSWXQtyAkV3EhXOQu1vQkCoy4IsIRFc7Am0AB2ABjQluT1JFDP4ADDoATLdmI7AMjgtCAdQABVpn0BXXZQo0BbMAKi0IAPiBWBDkK0AB74DQBkUJKyj7iDWoNd+baatNQvvmuGaRO8RbJW+jiXVWjArgCaRUbteljPFaRLWNA0da0FK0mwWsJ2B085KNMMaB10oKCPB8QEOxf8OrBgo0yc7NkEoi8bh7jWAC+qMKMUtqis5KMEEy07sAzpesTnngJvVTCQfOx9Jx4RbIBkaCpmoSaqUO1vfIGs9rECU0xROWa4ttr4SlWPI0dCfVxyYEW+JZkHWACFSZJJHxRYS2pSukBvbMRX1Glt7TxEnppRJR5yP2rj1Bj+qCIhItkZpJlAAXgABsKzILSxnTrABQcADzbvYykEhwGPxtwADZAJqAsmMAlsmwQDcoSfA8YAU8X6XAAOEACFnGwNFiEP8wajAUxXhEeNCFZ4emULYHiSzdZe4k6YYBE4emUiIUBIxkI2uWHq1WEw2tyitoRF3A+erbp202V8iz0HvDeFCNI9+cQsVkuNeK2y0fZnRpRPsr7aaCQ8ViAiGSAdj0xtnWZoJdxFla/CXvN9gc+X/+DUIMp0U/bb/xgKjESDxG3JQpruaxG7GCANh4YehmGkZJRi+DZRbORZ9LktIl8bnYtEEixBn85e5wbqSlf75YxJqVoeFjQl8lb9O/68pytXGmzfkjnH5+lSF9EjBOREYFMwI0sr63MWzTClAxhXmfwQeNwHHQwasT+SP7H+2ASQDWCE55un1wAm+Cw9pxLi+xGXuAR6ewbnXx3pHgk/+MvgWs4qkCwU6IjWWBieuxk8t3ulqLUzJN4TBjNhH9oV45hJq1PckMTqerFA0mBjam4wug6T0QUe58y+hdAsbjsyclwi7AhC7Wa+qYTxDL5yVGouMr2ZfZAF6OLjDcJhG6GosjwUQyeecBWbakbUZPLT6ce+l2vPWXcXTtUVpcx/iQUfcItlEzFAuMR3CN+EBVCf5X/4wiJjMW32uVAxI2rCtvKEzB8ImrrNLg/pspNRDINcBPY1WBskuPUweJBB86YA8A4wFHauAewMiAU3DSYscdsClY3aCCwC42OwVBsAFMHKQExy9I6QlQOh6FBLIXOL5ir6Ax7zQp8W4Qo9ops2Pqq0YWe9K+k3lRu3/R2i66tJcsVpsAfGu0eRxieesMLlpDjBxGIyyR3ZwaiZ7Lj20dQk6hPnZRqkLQcnSbC/ymbL9hkpIjapqTAmmPxeM8wI5dQWxUr154pANKVPhbhUdP8hcTIZXIdoRYAOJ5bHQlvBZ9mkRWakLgqwkfL5HE+giRD9jcbMPTsUMb33eauQQHiyVuwUTlSbXI/88CgyeGJyF8SxLPCnD8a7ACIzpwC44I/k4sfgVZTtA0kZsDL+ewFsAS+FNQRNg+tEXbKbilQKuZ4PS6LdStqK4ke40UPVXoSTSEUPdKu+nnxWlLekRWhQZh/l7o3OCBbPKDiRCaa8ufkjrT+Hh5jiAHF40FtCzDAZ6WXSUnu43krLnGf2OVvmgNHtQwXXaoKYjmoOeJlH30FT2y8xOl9tPhaxvcqqrkJgSrO47JIEZcdh1K68mEl6mPsxVaDHibDx0p5PKfNJY5RAvvHe+kXeX2eVynpwOj9uLhp9w1b8Qk0ryOAd3LQoyxhQIlppun3prPVNvLo3i8LvMRXq2RaaMIf7fCXBLwNtgl7fB4x6EyOmQa6k0uGtQF0mChtcSRU8eg1ja9mxUbaKlN7E6lIxRFMNHi/Fl8IKHVi4bSfgVurqw6T8vEqzw9ipfJN11uwGAGMUa2lCCUpWS/o044tBzEdXEqLTaHiQgNXRLXkOrJCOiuC5mfs+lfOkOnrkeHTbmHSCKsdESlbP6Zsw6/q5fdu2+kbBM6N6JGWG0GmGiHq/wPT9oETFwKvXEp51lyVc/H8jbWLpLkTM5nGX+0G3u0q0pM9K0yRNIN4O7klUVHWm9T2Kqg1tJEWB2mbI2YY11+eweifXLp+cfARHOg0aFImhIMtONiFoQya6blDhJDexR+Zvaf9lG1KVFHXb9Fdko76A2UqgpKovA7jr3fFcaRiyfCD0XzLAS18X63ZCs0HrSz6oDs25TXHbtU9JrzlfvP19K5AYKzNfu3DbncF42r4PReWFvK/UUEvlo+xsme/q88zqnM25ChiLWNJ8Up8v4GqSd0qkMb93MrJCWC8qIB17sPM7B0lUs9c8cSusdAydE36uy0jP8PItVqrXE9dkDVfj4ky/67OdILbFd4WY+nVQO2td4DQkwna3sTyVwH7XIb3IhTts+kcqV6dk/OjCnaTOO5SyRHC3vB//X68bS5J5B0x3ZtYSjH15+0w7CmDZRpDK297v5ISGWK28g2hfha9ynfyWTmVla36+tIhL3tz2a8RovHaxhIbgWhcnzKiatalnnRAiLEWMtWag1OXivQZvUOUvSnWMJEQ83n2JJjGquuD6YRc2v3e/D1HQltUTfEZ6TnU3jx1rcVWI+Va25BFYnUaLlNGr9xtTLrW9+rKGEe5e1zeY0SEyP0fDXcKjoS5dwBgqm+D4qziyx3CIHx9jxilFEOjG9JYet7LerpUneLyyWqxgnn7n4X8ujtw2x2tO3Aalhs5TJvEwvClcDjZcHWpBZ16C8YCvBdRRMKJmp9fdo5/Lck4TQsqUjTr6lSRrlQX1TQnmuOJFVs2fjull1JFqAsr1P31lyXU8IzV11fjWENkI4WXjUq4ndDSgcCKx6rhTUizKUfg4Nc63dTLN39JwdJy7LvRqD9W88dC6BybV1lIAoVru5xqWhju33S+yJnILOTLpfKHav69N0/nHzR05Rya/Pdr+lsLvS6HNd70+4V2bQ1R/r3ZmDB8BA+P/4NQgzmhT9nP/PAcLMAeI3AA3C5AM0gvYAPsAiwBTAABrAFoEeACTAQ4jh6BljZBBAKowFqMUJl4opHeQsDsHOCrU9itgXiKB7oEBDA3PRzkaPEAYIAuwZwAAI4DcDJkhzAuwCdiLYLcq5QVKOAG8AzjJASeQ1NB4Oopa8BXAogFuAMkaAJoBbgFuGwDQAtwJMBAABoBQRhBgOEAX9CBuAhLCG/msCkBQBGgAOkABQh6h/AAFwAAWjMAd4+yBAHKDXAAfAAB7AEKAAlQHIAA5HSANkcarHi/yMBMAUARxSgXYKUJGoE4EoWURI9f4cX0/yl8FJxn+N1klkLqlZAFMigDLD9ApB2AWoU4PAMIb69Gt/gicYWEehfERJNh+ANaIDP2BTEWDHJ9YQdUEQC0vgXoSrWHJ5IOTqShc9Zzm3aDqkDRq7ckTGAVR9FLwj0KQYoP0O0t1MCSNAo/EQG4bNWsjdOUNwAviAB7hcuJUBog9SbcBsE4KoTFOEGYb6C+OjzPNKvxqdpZrFflnblI0Fqn1wnteafCcrfdQt+ddDon6n+Q3SUKp+UrhHwYHdW2shUYXKR+qiriwd1OMkp7zSWOyuGtE4KSZ19U0MxoV1LY3aVd/P2ZSRy2U3pnboJ69uZz+0ImZkc68peOVxqCricSIvZeCwbmlovSUw5O+jkjq6V5JyMdWVUtNyWFEe+r2KaHRc0osEi/esw+usXnhhxctAQ9VyWkHbx8Jb4MvwKKV3f5KUKrx86Uuajsyvtw5OphsG6UlJW6yyiFSrY1KW3LZ/SIl9Gkrt+5qpSaw4PUurm/p6SPuZfSQkf5790hIi5ksTFxYDYjtONicq+pdmlvuiJpZKVoYWupo6LxZC0m+GX3oelrJSfjsHbnb6Cidi2gIeGoYfHwr6hjcKJyZCUqp+Ovpibt4C4p4/AqZmNqJnh74X0mZm4gN6Zip+QiKKwlqWwuJPTn5mFjJ+ppKyOlaeYgquGmqmSg5OalKyTgIGvn8KQr5aCgZ2m2ouphouOmLfFi5yigq2mrouajsOhuoSkipyZo9yOm9Gh1pnXgpiNkZeohJq3ocS0jrmZjZikm8OI0Iub1qK5joKAhoeMmY6MvYyghZ+dhIKMi6SIh4C7gaaAlrawn82W3qfbhMCMsaueltOBroGGqoSKjLmBmpKPnoCfq6iCkYaVlKGJuICOkYydk6KImpKGoYGenZeXoqiLt5iJiY2BnIiLhp2IlJuSkJqdnbaPkYKNqpKZj4iDgLKaj62Ijo+Qk5ChgImGgJqFo5iPlYaGh5aUopCbjYGOoYuEjpSDo56ThJORsJyNq4yWjIGLgIyFm4GWjJeCmpKUl5GIm4eInIyvi4SwiKuZhKSJi4GIlJODmJGLgayUq5CkkYeKhYqGh6OGiYODi4GakYKSpYKckJGJhoqRgpqBgYqEhYWAnoGngZ6LiIOlqqKVm5Cgs4mcmJWVjZyYj6WHlICLh4ybgKaCmYKChJaFjIeGiISCiYuWh5CgrZCAiZGAhIGChJGckJ+PiJCSioGVnqmHmISjhKCXiYSLiYiil5aAgIGAipOCgoSAj7KXlKOEkICFj4aUkY+IhZKRhoSLkIGWl4mKiYCCg4qBi4WHkoWUipmSpZyKio+CkZyCk6iDi4GHqoKnlICLgJ2UhIyTgZ6hg5CdmIuRjIKHjoGIlYaSiYSFg56Lj4Wik5GNpJIzEj/+DUINI8S/8sAzy1oNEzMxDnIICsswQwOnQgyUBBHvQpLX3DQTTvN4QrLEIDKvMKUJeQvwtvHvTBbPW7l1kIEUpVTDMFS3QxXlFQQVHs1CSZvEruJ1/jwJK41vomkMewilb5l4Z0rEPaoq0dpN2mOZl6MYlkKqbaqVmwXacLG2ZxpRE3RXMjRRZP5pZYtBtMPHiBTFFDmLxLWGahxA+1STFwcQ45x4xrSnamSmvineQl/cTue0mUH1a1XmMc41XpcPrJtzpkdLXdQHZCCRVN7WNe9vsGos2KTdmZMoMtFJcdEEHq5eEvw1jjVcW5GkB3rWKnUj/JtKFn1wtDWckx1FMEGfuEG6deoeSe1Cg+HPKNbkcYyUlGErCMohBSl1hdMPPxTzPoJ0gsSb9UE4Uq5KpoEHcUoFEYqM0k1rM0gihKMHkRUGYlNHSXHMiesgkg53bkKXj5SLJSe0GlmPJlX95KpKYdG6OtaDjNozPpObPZCCv54TxQpZg1Kmv9S/vSv/R4IQijSFJyZr1mbzi+n2k09T3MbzBHLOQYYQzhR1up6VyLNJCe009GGohO8dApVs7JJJ52w57hKxghXJHZaKUp7b3yNULsQejVBloMntE92rvDSWHmwkmE+1ItiBCuVBEjeKphXlMq6HQIxI5CmPpxv+2YDVQJbaVlt8i03nJoEOEqEbAj9KQvQyx4wWpBNqOWF5YmFizHS9ijSww/pUw0ocQE4MspGIUUZslCqEsFjWhfIt+BJ5WlGRt3iuCEljm4FuAxJiFhqQUBuCtggfQUAGoByaCDuCzHPMQIOBuuEAkz1FIC3hEBKzShQAX4KSG4GNSIoJUQDidgscwSWCiy1K54nUfBAfEpJfAU3Qc4FEgNA4dGgQZH2OG4OGyLBeWFgagSoBQGypwvwwcJMc8DAhQUKDTRVGGGrBJTAsNHcAEoHCQTPCPELhY7D1BShJAKYPUDAeFWAFgQIFlggMWCShQGgKA0sO13FAWKwckNAFPP+xYOWLsDB3hhIPoOCwFALAexnCg1DAGqWkhXrbbD/+DUINYgSAAMBeWrLBTUg1srh0vimhsy8V61SQYJoeZfUkPqiNT97KfXu6WmTX7qrG5R/Ln2mq1VkM3adXitbQ2EEEs1DMJiT5WiIns0+kdtfCHfRDGqfFebCmeKLHnurlaipnTT0ulKHr6y/qrKhMrQbQxUy1xUSP7JUMKRfQkU5XdVodtDGNlZTXC4UD34fO+20tVsShCoR3oG9WNnbmDbFExz0QLq8Nlym7vCuPmzWifGFfDXcyjtnb1HXaZI6Wlpx7euK9oVN8Gsaf7XpBZpVi4tt8j9Wd1xKY8PVTQv2YRoalUPcFyojSkEyjchdcd7pHlECNEiOZLr8qyHO/bjnXRZeQrEzF/2OHJmo7+Uv2yZPpAivUcXDQtehVsxbHmv7hJx6U5fEq93DiVwIJffWBesXFrqvgi8S1KOvTR2by6OFq+qjxMd70KLtSabZBKk6bzVxvOWsBlUSsceOWqJDAxWvslKWx8OKxTguvq4umZ43WMV/+dLZr/ZUkocR0MJL4ngUN6zKoKxyFxA3Uix+EtPS+PNDB1J6kKNoKuyAdOxKiAipAnExA/drVA2gPZxJIL3ookYoKKqZjepUlF6mkhvMDeUsrKnnSTRHbCho9KgUJWPmCYJXY+T3ji5SFrkggX9e1CdqsNqOqr0HFkc/GpsSTGZr2eLzuGNSJpDNJN+dKM41rLmMeGIrEjLa4hCHEPrhL0TZGquwkKy8ZICFP0WNzOFy4+IUfr9JKWkRcm6kCQ0EPfQPj5S0UdF7888yRlVeZmtHXVrtS/I5D81/CclndkdSdYg1UFRRLmDoFSWwqrRl+gcXjEa9PnLVbCScxvqDNeMAsfFpKDQ+CFChP6LoC1YXLTklr80K+jTpyqFnJH06cl/Qo9b2FGClyNhEMz0QEGfaZh9eT5JDk9+UaI4Zy+5Yev2wYNzd88HPoqElovmbeEiu8gUo/E3TGIyWVve3EOtiCGIVi+24jIy9LZ5YecenTaAvseBsIJO4FputfJrG/eqNwymX4tRDOooiaZSFjl2v1bRUk2RKrLGiWEsbRV/lmoRr4iYmdLSupcVmrIIuw71NEBO1LEjOo2bOVpkbEYjbPJVc3kC+9vXHYziJsCNP7EeItDDjLd//RJBFOKNHfKhUaq7GGiktQto0MyiivNLBHYubGxFOXqZWalV9Ftpf/jJXzYq2VpVcl0WWm3d6TaJL/kshvysn7n4gU73dTS4/7/fR+ecUd80TwoOqI5LYqI4554I64Vk2tdFOMs8ENEOeNUu830yWm6S2XJJlfDtPfJhPjVdNVFPHBVt1wIGt//g1CDaBEgArAK8Kf0yZmUpxxXOUOdmMOB1BgZAQgvMcF4EBAMDN6hSUFAOUCQdgmFdymBhgYMbDhZaV3FLCFhwXRmAjAfARlwQxCeYTwOUVQgUKYkKUqu7AYIo2LhEuJFG0CDOFoofggkDIccDhRDZgyhwrUUjjJ2wiJ7DNUrDBAI4pIsEsxjKXI4BRzcKcXwVTKLutUQBhmDQ7hjOBgYZSgoqBJV3Oq3PretstONmMjwglYMyVzpXC0CO/GYdyCUoMDHL2BR0GKKZOHFwQUowNijbIRAhivERWZBQvw57c5WdkYNEdkjBBMPAblxEUVqFD9nOyFVBgzY5MorMlDIUIIueMYjAkC3jnLfDlf/ulQYENHQziEUlOmKgZ0M0u6l9Yxyp3cnLrQo28aVGJsbQZl6lkCzEOK6rXqYIQwzCBKdIqE6x17uXKc/WDQogkMDIDVsWmQl3HVK1ZleKC9oW8hLzJIjI7ho+CBOdiIPgkZmVVGqxVBR1xRe2CoYRWhBmQEMc7wkdUDi5lRD7awxxGWaE/wbHr3yYQXK4jIu/8IvxB3IQywikapGMU5LqUIwidhquQiqFpXPKKonfEr4gYejYiAmkcxBD6FL4tQzn26pF1ZymqggSxtXTuL5E7aScYgCIgm7mocFzBRyUPh3pqtPplllFeJZggYCAwYwglGQglOPTjxbK6mxmEZzPyscqyDizi+4V/PhHEJMhimGBAQhmBuHFkDzNrA+WEplzAxojFFZKbClVbpX218JRQkEmaBSqqlecU44ovOSlxjCDAIBgYMDEEGEGYQkF/5ZaO8eCnylHUrukHXkz6MRNtRjJrvU6NV/ZDXJNpltaEliMvWqUVemCI/bB/8v/4NQg3hhL/9AC7TFJ51S+CfNiNECIxGZjO/MRp+dYUzanHfl1SBbjwT4SEghErxpkhRb1yiiT8wEqKlt+Tqrm7zMWtXNlIm9WYpSpPeiIYxjJLKEMJhNSMh1Mq7WMxRcf7hR3rqKT/Em1YZCBCdBqVZv6qoLvjXk6oxmQgmRCXE/60pZ1OpyohdlqeV3RZkxkog0IhGhGJ6ZKKlPbz36HTYlWGVzCIffqr5vdFXCK2ZNMRcQEIWZOrcX4lqdFLyXla1gnqx4bEqbolK7WcueaZb08mXJtZTRFjZERJEX5OqZWYWonl0f4R+WBncMyqiS7se3wdbEbGIojEZg3JNjqjusU7/i51yIQhMjRMybxPZmNkeeYvTYidmXaaRYOcrjio47yzvUwiEzGGYQQYbEIRd+f97R3O9+2ZcI0+ZKQaZtXLd18nizlaxk2rEGzUkRVynzpkP4iLqNHfpPsm/rSYIQQzCZtH9gf84crh1KVTlZBIzdgwkGERWCR8E06/SZ5/InImkq2b6HrrYqR1RmQ1iFEYhIIxyCSWUpb/C9VOUjHkNMJzNrxKiQiFSUtil3VDl6mKhEqVKmhsgwk4laEIiN17VH/LlsPK7HX68sfZa+Mt/RpggiIIQiE9ydJd6h7tbospbOW1Vq2TvURlpkE0E6ZG7aMciIvze31YzrrbpFJrGENtkJck78hVOilqnhApLqwT0J9ENa23ZmKMSx3YtR6K5V9sqU2YiEERSE8VkQt9/FHvV4BiR//4NQg4qxL/7wC0tRNmJeQjNzYuNlW11p6vjxJ5CNjU3ktTKXQhvsRMIyZsyXxFl5ahfPVKyw0JlI1xfMiyl7rVujX5CBIxmJd3/Qq5V95vGnJorOU91jeiQ0YlasRIiJPZDpexcz/ln8hFyFept2JszLgiszWJKl/q5Xqr2VZCKnNCJBLAmjZ9T6H6n8eUqprq3Y0MJmadJ/Mu8RfExrBmRqhPZ5VV+/Le/KnWkQ9IkrG1IuwTTYY2VNL8qaugeEj7ZCoYOmSb327Fxi/EO41lzlQmToTMjWpU1E5d6r3o5ULBF6RIZoxJpv2VGKj1V3REhJdrhnrN0nT2fQsaXzWMpHarnpbx0Lxa07JmNRCJkJjYgmZt0sPEdjr+9jkj5EWNjz3PVTvJ/MxYxUJk6ZiEZjJEZRIXrGFlUvnnjTVsrEZomtJ2EVllj+jus79e7SpiJpzRBHm9iWEtnRojIZKhsuO3yET+kfdCj45+VS8pZW2NMIwhmGxhtDX8TjodivD85c9k9U9Hqu0djGQMMEIQQMQwZaatZ5S+nLVoVlOxZV2vbGJdP2RWpYq4vbpiIxtUkRcmXiLbHrdc8a7ki7CVGnecsTpNiYSIzLajrC/iha/WTkwxCIZhMyEkZj4M/Rsqxz0uWxeh3jz5NGTqbs2yEfIi79oYrJbGX2qsVzpKqchEYNxMZMaIlqMq1dc6q160rwfKqvL0NIiBBDVUbkRMhlqdPcVcjrugFCb/+DUIOawS//4AkMtiJVNuzoFqcr1c8S3ExBIRDCIhm2+668Xvyi11pydM2hImhiSZU0g3/0+skwslTq6+VW8Q7bIIMiBBCJhs2VFlO9d6qKK3j6eViqmoWk8u0fIcjcnIqBCIMTEEM2Sk3vF6qpa6vT2Pfmpi7JBDYmRNF1/zyOWsuvSFt/+erUTdJsgMiDDCIwwkYRmciHe8vKOcqlHCkcvR+TbGMzBPG8RlaRImIjbqqpV3qPXyl6O+8udk1gjMQkIZEjQkLqePRY7izr0uIgnMIIjbIJsbTqv4sXr1t7+d61kGtRCSNm0S7Et/Soz+elRB1fIVTL1Y0bEMjIRsSRmIq2Lz/z13jr4ZlsGZszXEoi7PP/OVTc6Y7oqCs61bV6EZsgQQwxkIxlM1h0n6qq6elzrUsy5LN/0uRW2rZuQ3QpMtflcUqyPc0QxBKQIRmSSa+1VO/6vWyojISGpE+Sz6OWZeeawmjGQzGyGyWM7vOsyR6r113VauetIxJkTJFsXVr6iapNmyZJ0js/Jys0rWql1e5tpd4LbneG/yZMZNdqjJSExWzSxLMqLVfLXdep56S7owyEM1JIJbNXyH0tR8VOKmLv6ZIhPUN4aWX+r1+RNk0JFje+Ui4nbVhOpusX9Y60vun5kZEEI1zJyNV8/29/+z7f4jz9J7cjRGI0hkSEE6Leen7vucV3LY6SIQzGMEEGEbCff1QWne3p+l3pvOrZHqFZuwASv/+DUIOqUS//4ArTITJjpt4x5E9Tq2fSKu2eSJKnSpZmZvU282sknvmXI9SLkrp9dORdpWS7Ui2SHJYtI2SmlY/Sd4WKyez5eJbNSIRBpdWZdfy637p637Zbt0TITpKu1X5enKkuQyVEREb5FkX1yreW225oRjIhGhGjJ9N+nFtjvIebRVmjZVtJibSIM6bfTI2+iGUWWXKiF75DtX/8xRfn9ZmQgiMIlEEYMkGYixJXXilgWCnOpf4ybGMhEbEQ2yea3U8OdSnKX9yxTCZDCBCGEZsRkmWK8hcjq9tarNUpPkzzab5aqU7vrZuxkZNem3kMiEvMnsi2dff7okaIhI0hJCSt5CV0RFtP669a/Ku6suyVMhPk0+ay6Nc2yDamGJGawnd4Kincqn51W1YisqNSZBrCGqI2MlglRIsneoe1f2VbsvSLKmcjMmTbNpPJaqdck9uXSbJW1mSprpk8tnakjtYqPLSvSz1/OXNGQiERmZIJkQyvf8lV2jqSd1hJe0iY1m1RbcR806m51a7XWETS95D6zF0uZEJkrTskuZei9LXedPS2/BLiKam1IpLOt+WNVTNCSLkjZSlKqJGl3jUjJkuew5Ff1opUkQwiVja7aVSwr15W08QmiCJcSqjHb9L4kpJ0ti3wtf26db7NlZErQzMwZNkyaVSsKWu/hbUtrQ0RrqxFQmZOQQ6JVytUeeoWV3eOfACsj/+GUIO5ldEv/uAJbrW2CVmZGjaL09qLYzQSYlmRlKzlrncqvP1RCUTGMiMI0hEjrsXRSH7PUvtlSxpCEZMkksK71X9cuy1cviEK0ysjDcTBDIINcAzyA=\" type=\"audio/flac\" />\n",
       "                    Your browser does not support the audio element.\n",
       "                </audio>\n",
       "              "
      ],
      "text/plain": [
       "<IPython.lib.display.Audio object>"
      ]
     },
     "execution_count": 7,
     "metadata": {},
     "output_type": "execute_result"
    }
   ],
   "source": [
    "# LA_0095 bonatide\n",
    "print(sample['key'])\n",
    "IPython.display.Audio(sample['audio'])"
   ]
  },
  {
   "cell_type": "code",
   "execution_count": 11,
   "metadata": {
    "id": "2oAIZXHmQWIk",
    "outputId": "bfd83a3d-4fa0-4d94-9ff5-3babac9521ac"
   },
   "outputs": [
    {
     "data": {
      "text/plain": [
       "{'speaker_id': 'LA_0108',\n",
       " 'audio_file_name': 'LA_D_4274975',\n",
       " 'system_id': '-',\n",
       " 'key': 'bonafide',\n",
       " 'audio': '/root/.cache/huggingface/datasets/downloads/extracted/911103f86670b6f7e96211444d0f39fc5ffab511156a395f67b098c2f45dce18/LA/ASVspoof2019_LA_dev/flac/LA_D_4274975.flac'}"
      ]
     },
     "execution_count": 11,
     "metadata": {},
     "output_type": "execute_result"
    }
   ],
   "source": [
    "sample = get_sample(val_samples)\n",
    "sample"
   ]
  },
  {
   "cell_type": "code",
   "execution_count": 12,
   "metadata": {
    "id": "F5G5aOobQWIl",
    "outputId": "76f19bab-09b3-45fa-9b09-f3441bc0f901"
   },
   "outputs": [
    {
     "name": "stdout",
     "output_type": "stream",
     "text": [
      "bonafide\n"
     ]
    },
    {
     "data": {
      "text/html": [
       "\n",
       "                <audio  controls=\"controls\" >\n",
       "                    <source src=\"data:audio/flac;base64,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\" type=\"audio/flac\" />\n",
       "                    Your browser does not support the audio element.\n",
       "                </audio>\n",
       "              "
      ],
      "text/plain": [
       "<IPython.lib.display.Audio object>"
      ]
     },
     "execution_count": 12,
     "metadata": {},
     "output_type": "execute_result"
    }
   ],
   "source": [
    "# LA_0089 spoof\n",
    "print(sample['key'])\n",
    "IPython.display.Audio(sample['audio'])"
   ]
  },
  {
   "cell_type": "markdown",
   "metadata": {
    "id": "45-6l51gQWIl"
   },
   "source": [
    "## Audio preprocessing\n"
   ]
  },
  {
   "cell_type": "code",
   "execution_count": 6,
   "metadata": {
    "id": "BkxvMZ4EQWIl"
   },
   "outputs": [],
   "source": [
    "def audio_preprocess(waveform, sample_rate, resample_rate, desired_duration):\n",
    "    \"\"\"\n",
    "        Resample audio to target frequency (16 kHz or 22.05 kHz) \\\n",
    "        Set equal duration for all audios\n",
    "    \"\"\"\n",
    "    resampler = T.Resample(sample_rate, resample_rate)\n",
    "    resampled_waveform = resampler(waveform)\n",
    "\n",
    "    desired_length = int(desired_duration * resample_rate)\n",
    "    if len(resampled_waveform) < desired_length:\n",
    "        resampled_waveform = resampled_waveform.tile(((desired_length // resampled_waveform.shape[1]) + 1,))\n",
    "    resampled_waveform = resampled_waveform[:,0: desired_length]\n",
    "\n",
    "    return resampled_waveform\n",
    "\n",
    "\n",
    "def peak_normalize(waveform):\n",
    "    \"\"\"\n",
    "        Normalize audio\n",
    "    \"\"\"\n",
    "    waveform /= torch.max(torch.abs(waveform))\n",
    "    return waveform"
   ]
  },
  {
   "cell_type": "code",
   "execution_count": 7,
   "metadata": {
    "id": "neoLwL9WQWIm"
   },
   "outputs": [],
   "source": [
    "class AudioDataset(Dataset):\n",
    "    def __init__(self, raw_dataset, desired_duration, resample_rate, transform=None):\n",
    "        self.raw_data = raw_dataset\n",
    "        self.transform = transform\n",
    "        self.sample_rate = resample_rate\n",
    "        self.duration = desired_duration\n",
    "\n",
    "    def __len__(self):\n",
    "        return len(self.raw_data)\n",
    "\n",
    "    def __getitem__(self, idx):\n",
    "        waveform, sample_rate = torchaudio.load(self.raw_data[idx]['audio'])\n",
    "        if self.transform:\n",
    "            waveform = self.transform[0](waveform, sample_rate, self.sample_rate, self.duration)\n",
    "            waveform = self.transform[1](waveform)\n",
    "\n",
    "        label = 1 if self.raw_data[idx]['key'] == 'spoof' else 0\n",
    "        return waveform, label"
   ]
  },
  {
   "cell_type": "code",
   "execution_count": 8,
   "metadata": {
    "id": "TkcSymU8QWIm"
   },
   "outputs": [],
   "source": [
    "_DURATION = 6\n",
    "_SAMPLE_RATE = 16_000\n",
    "\n",
    "train_dataset = AudioDataset(train_samples, _DURATION, _SAMPLE_RATE, transform=[audio_preprocess, peak_normalize])\n",
    "train_loader= DataLoader(train_dataset, batch_size=32, shuffle=True)\n",
    "\n",
    "test_dataset = AudioDataset(test_samples, _DURATION, _SAMPLE_RATE, transform=[audio_preprocess, peak_normalize])\n",
    "test_loader= DataLoader(test_dataset, batch_size=32, shuffle=True)"
   ]
  },
  {
   "cell_type": "code",
   "execution_count": 16,
   "metadata": {
    "id": "mqEmmDinQWIn",
    "outputId": "cdb9df5d-c230-478b-9fd3-f69876cc701f"
   },
   "outputs": [
    {
     "data": {
      "text/plain": [
       "torch.Size([1, 96000])"
      ]
     },
     "execution_count": 16,
     "metadata": {},
     "output_type": "execute_result"
    }
   ],
   "source": [
    "train_dataset[4][0].shape"
   ]
  },
  {
   "cell_type": "markdown",
   "metadata": {
    "id": "KlNleLQVQWIn"
   },
   "source": [
    "# Feature Extraction Definition\n",
    "Log power spectrum (LPS), Mel-frequency cepstrum coefficient (MFCC), constant Q cepstral coefficient (CQCC)."
   ]
  },
  {
   "cell_type": "code",
   "execution_count": 22,
   "metadata": {
    "id": "vceNcIT3QWIn"
   },
   "outputs": [],
   "source": [
    "import feature_extr\n",
    "\n",
    "# feature_extr.MFCC()"
   ]
  },
  {
   "cell_type": "markdown",
   "metadata": {
    "id": "c2r-ZDfIQWIn"
   },
   "source": [
    "# Model definition"
   ]
  },
  {
   "cell_type": "code",
   "execution_count": null,
   "metadata": {
    "id": "wdpDkgt_Rxo3"
   },
   "outputs": [],
   "source": [
    "# model = torchvision.models.resnet18(pretrained=True)\n",
    "# n_ftrs = model.fc.in_features\n",
    "# model.fc=nn.Linear(n_ftrs,2)\n",
    "# # model.conv1 = nn.Conv2d(1, 64, kernel_size=7, stride=2, padding=3, bias=False)\n",
    "# model.conv1 = nn.Conv2d(1, 64, kernel_size=(9, 3), stride=(3, 1), padding=(1, 1), bias=False)"
   ]
  },
  {
   "cell_type": "code",
   "execution_count": null,
   "metadata": {
    "id": "w9Dnwt0HSllP"
   },
   "outputs": [],
   "source": [
    "# device= torch.device(\"cuda\" if torch.cuda.is_available() else \"cpu\")\n",
    "\n",
    "# model.to(device)"
   ]
  },
  {
   "cell_type": "code",
   "execution_count": 17,
   "metadata": {
    "id": "X3aB4wEAQWIo"
   },
   "outputs": [
    {
     "name": "stdout",
     "output_type": "stream",
     "text": [
      "TE_ResNet(\n",
      "  (transformer_encoder): TransformerEncoder(\n",
      "    (position_embedding): Embedding(126, 32)\n",
      "    (layers): ModuleList(\n",
      "      (0-5): 6 x TransformerBlock(\n",
      "        (attention): MultiHeadAttention(\n",
      "          (values): Linear(in_features=4, out_features=32, bias=False)\n",
      "          (keys): Linear(in_features=4, out_features=32, bias=False)\n",
      "          (queries): Linear(in_features=4, out_features=32, bias=False)\n",
      "          (fc_out): Linear(in_features=32, out_features=32, bias=True)\n",
      "        )\n",
      "        (norm1): LayerNorm((32,), eps=1e-05, elementwise_affine=True)\n",
      "        (norm2): LayerNorm((32,), eps=1e-05, elementwise_affine=True)\n",
      "        (feed_forward): FeedForward(\n",
      "          (fc1): Linear(in_features=32, out_features=1024, bias=True)\n",
      "          (fc2): Linear(in_features=1024, out_features=32, bias=True)\n",
      "          (dropout): Dropout(p=0.1, inplace=False)\n",
      "        )\n",
      "      )\n",
      "    )\n",
      "    (dropout): Dropout(p=0.1, inplace=False)\n",
      "  )\n",
      "  (resnet): ResNet(\n",
      "    (conv1): Conv2d(1, 64, kernel_size=(3, 3), stride=(1, 1), padding=(1, 1))\n",
      "    (bn1): BatchNorm2d(64, eps=1e-05, momentum=0.1, affine=True, track_running_stats=True)\n",
      "    (relu): ReLU()\n",
      "    (layer1): Sequential(\n",
      "      (0): ResidualBlock(\n",
      "        (conv1): Conv2d(64, 64, kernel_size=(3, 3), stride=(1, 1), padding=(1, 1))\n",
      "        (bn1): BatchNorm2d(64, eps=1e-05, momentum=0.1, affine=True, track_running_stats=True)\n",
      "        (relu): ReLU()\n",
      "        (conv2): Conv2d(64, 64, kernel_size=(3, 3), stride=(1, 1), padding=(1, 1))\n",
      "        (bn2): BatchNorm2d(64, eps=1e-05, momentum=0.1, affine=True, track_running_stats=True)\n",
      "        (identity): Sequential()\n",
      "      )\n",
      "      (1): ResidualBlock(\n",
      "        (conv1): Conv2d(64, 64, kernel_size=(3, 3), stride=(1, 1), padding=(1, 1))\n",
      "        (bn1): BatchNorm2d(64, eps=1e-05, momentum=0.1, affine=True, track_running_stats=True)\n",
      "        (relu): ReLU()\n",
      "        (conv2): Conv2d(64, 64, kernel_size=(3, 3), stride=(1, 1), padding=(1, 1))\n",
      "        (bn2): BatchNorm2d(64, eps=1e-05, momentum=0.1, affine=True, track_running_stats=True)\n",
      "        (identity): Sequential()\n",
      "      )\n",
      "      (2): ResidualBlock(\n",
      "        (conv1): Conv2d(64, 64, kernel_size=(3, 3), stride=(1, 1), padding=(1, 1))\n",
      "        (bn1): BatchNorm2d(64, eps=1e-05, momentum=0.1, affine=True, track_running_stats=True)\n",
      "        (relu): ReLU()\n",
      "        (conv2): Conv2d(64, 64, kernel_size=(3, 3), stride=(1, 1), padding=(1, 1))\n",
      "        (bn2): BatchNorm2d(64, eps=1e-05, momentum=0.1, affine=True, track_running_stats=True)\n",
      "        (identity): Sequential()\n",
      "      )\n",
      "    )\n",
      "    (layer2): Sequential(\n",
      "      (0): ResidualBlock(\n",
      "        (conv1): Conv2d(64, 128, kernel_size=(3, 3), stride=(2, 2), padding=(1, 1))\n",
      "        (bn1): BatchNorm2d(128, eps=1e-05, momentum=0.1, affine=True, track_running_stats=True)\n",
      "        (relu): ReLU()\n",
      "        (conv2): Conv2d(128, 128, kernel_size=(3, 3), stride=(1, 1), padding=(1, 1))\n",
      "        (bn2): BatchNorm2d(128, eps=1e-05, momentum=0.1, affine=True, track_running_stats=True)\n",
      "        (identity): Sequential(\n",
      "          (0): Conv2d(64, 128, kernel_size=(1, 1), stride=(2, 2))\n",
      "          (1): BatchNorm2d(128, eps=1e-05, momentum=0.1, affine=True, track_running_stats=True)\n",
      "        )\n",
      "      )\n",
      "      (1): ResidualBlock(\n",
      "        (conv1): Conv2d(128, 128, kernel_size=(3, 3), stride=(1, 1), padding=(1, 1))\n",
      "        (bn1): BatchNorm2d(128, eps=1e-05, momentum=0.1, affine=True, track_running_stats=True)\n",
      "        (relu): ReLU()\n",
      "        (conv2): Conv2d(128, 128, kernel_size=(3, 3), stride=(1, 1), padding=(1, 1))\n",
      "        (bn2): BatchNorm2d(128, eps=1e-05, momentum=0.1, affine=True, track_running_stats=True)\n",
      "        (identity): Sequential()\n",
      "      )\n",
      "      (2): ResidualBlock(\n",
      "        (conv1): Conv2d(128, 128, kernel_size=(3, 3), stride=(1, 1), padding=(1, 1))\n",
      "        (bn1): BatchNorm2d(128, eps=1e-05, momentum=0.1, affine=True, track_running_stats=True)\n",
      "        (relu): ReLU()\n",
      "        (conv2): Conv2d(128, 128, kernel_size=(3, 3), stride=(1, 1), padding=(1, 1))\n",
      "        (bn2): BatchNorm2d(128, eps=1e-05, momentum=0.1, affine=True, track_running_stats=True)\n",
      "        (identity): Sequential()\n",
      "      )\n",
      "      (3): ResidualBlock(\n",
      "        (conv1): Conv2d(128, 128, kernel_size=(3, 3), stride=(1, 1), padding=(1, 1))\n",
      "        (bn1): BatchNorm2d(128, eps=1e-05, momentum=0.1, affine=True, track_running_stats=True)\n",
      "        (relu): ReLU()\n",
      "        (conv2): Conv2d(128, 128, kernel_size=(3, 3), stride=(1, 1), padding=(1, 1))\n",
      "        (bn2): BatchNorm2d(128, eps=1e-05, momentum=0.1, affine=True, track_running_stats=True)\n",
      "        (identity): Sequential()\n",
      "      )\n",
      "    )\n",
      "    (layer3): Sequential(\n",
      "      (0): ResidualBlock(\n",
      "        (conv1): Conv2d(128, 256, kernel_size=(3, 3), stride=(2, 2), padding=(1, 1))\n",
      "        (bn1): BatchNorm2d(256, eps=1e-05, momentum=0.1, affine=True, track_running_stats=True)\n",
      "        (relu): ReLU()\n",
      "        (conv2): Conv2d(256, 256, kernel_size=(3, 3), stride=(1, 1), padding=(1, 1))\n",
      "        (bn2): BatchNorm2d(256, eps=1e-05, momentum=0.1, affine=True, track_running_stats=True)\n",
      "        (identity): Sequential(\n",
      "          (0): Conv2d(128, 256, kernel_size=(1, 1), stride=(2, 2))\n",
      "          (1): BatchNorm2d(256, eps=1e-05, momentum=0.1, affine=True, track_running_stats=True)\n",
      "        )\n",
      "      )\n",
      "      (1): ResidualBlock(\n",
      "        (conv1): Conv2d(256, 256, kernel_size=(3, 3), stride=(1, 1), padding=(1, 1))\n",
      "        (bn1): BatchNorm2d(256, eps=1e-05, momentum=0.1, affine=True, track_running_stats=True)\n",
      "        (relu): ReLU()\n",
      "        (conv2): Conv2d(256, 256, kernel_size=(3, 3), stride=(1, 1), padding=(1, 1))\n",
      "        (bn2): BatchNorm2d(256, eps=1e-05, momentum=0.1, affine=True, track_running_stats=True)\n",
      "        (identity): Sequential()\n",
      "      )\n",
      "      (2): ResidualBlock(\n",
      "        (conv1): Conv2d(256, 256, kernel_size=(3, 3), stride=(1, 1), padding=(1, 1))\n",
      "        (bn1): BatchNorm2d(256, eps=1e-05, momentum=0.1, affine=True, track_running_stats=True)\n",
      "        (relu): ReLU()\n",
      "        (conv2): Conv2d(256, 256, kernel_size=(3, 3), stride=(1, 1), padding=(1, 1))\n",
      "        (bn2): BatchNorm2d(256, eps=1e-05, momentum=0.1, affine=True, track_running_stats=True)\n",
      "        (identity): Sequential()\n",
      "      )\n",
      "      (3): ResidualBlock(\n",
      "        (conv1): Conv2d(256, 256, kernel_size=(3, 3), stride=(1, 1), padding=(1, 1))\n",
      "        (bn1): BatchNorm2d(256, eps=1e-05, momentum=0.1, affine=True, track_running_stats=True)\n",
      "        (relu): ReLU()\n",
      "        (conv2): Conv2d(256, 256, kernel_size=(3, 3), stride=(1, 1), padding=(1, 1))\n",
      "        (bn2): BatchNorm2d(256, eps=1e-05, momentum=0.1, affine=True, track_running_stats=True)\n",
      "        (identity): Sequential()\n",
      "      )\n",
      "      (4): ResidualBlock(\n",
      "        (conv1): Conv2d(256, 256, kernel_size=(3, 3), stride=(1, 1), padding=(1, 1))\n",
      "        (bn1): BatchNorm2d(256, eps=1e-05, momentum=0.1, affine=True, track_running_stats=True)\n",
      "        (relu): ReLU()\n",
      "        (conv2): Conv2d(256, 256, kernel_size=(3, 3), stride=(1, 1), padding=(1, 1))\n",
      "        (bn2): BatchNorm2d(256, eps=1e-05, momentum=0.1, affine=True, track_running_stats=True)\n",
      "        (identity): Sequential()\n",
      "      )\n",
      "      (5): ResidualBlock(\n",
      "        (conv1): Conv2d(256, 256, kernel_size=(3, 3), stride=(1, 1), padding=(1, 1))\n",
      "        (bn1): BatchNorm2d(256, eps=1e-05, momentum=0.1, affine=True, track_running_stats=True)\n",
      "        (relu): ReLU()\n",
      "        (conv2): Conv2d(256, 256, kernel_size=(3, 3), stride=(1, 1), padding=(1, 1))\n",
      "        (bn2): BatchNorm2d(256, eps=1e-05, momentum=0.1, affine=True, track_running_stats=True)\n",
      "        (identity): Sequential()\n",
      "      )\n",
      "    )\n",
      "    (layer4): Sequential(\n",
      "      (0): ResidualBlock(\n",
      "        (conv1): Conv2d(256, 512, kernel_size=(3, 3), stride=(2, 2), padding=(1, 1))\n",
      "        (bn1): BatchNorm2d(512, eps=1e-05, momentum=0.1, affine=True, track_running_stats=True)\n",
      "        (relu): ReLU()\n",
      "        (conv2): Conv2d(512, 512, kernel_size=(3, 3), stride=(1, 1), padding=(1, 1))\n",
      "        (bn2): BatchNorm2d(512, eps=1e-05, momentum=0.1, affine=True, track_running_stats=True)\n",
      "        (identity): Sequential(\n",
      "          (0): Conv2d(256, 512, kernel_size=(1, 1), stride=(2, 2))\n",
      "          (1): BatchNorm2d(512, eps=1e-05, momentum=0.1, affine=True, track_running_stats=True)\n",
      "        )\n",
      "      )\n",
      "      (1): ResidualBlock(\n",
      "        (conv1): Conv2d(512, 512, kernel_size=(3, 3), stride=(1, 1), padding=(1, 1))\n",
      "        (bn1): BatchNorm2d(512, eps=1e-05, momentum=0.1, affine=True, track_running_stats=True)\n",
      "        (relu): ReLU()\n",
      "        (conv2): Conv2d(512, 512, kernel_size=(3, 3), stride=(1, 1), padding=(1, 1))\n",
      "        (bn2): BatchNorm2d(512, eps=1e-05, momentum=0.1, affine=True, track_running_stats=True)\n",
      "        (identity): Sequential()\n",
      "      )\n",
      "      (2): ResidualBlock(\n",
      "        (conv1): Conv2d(512, 512, kernel_size=(3, 3), stride=(1, 1), padding=(1, 1))\n",
      "        (bn1): BatchNorm2d(512, eps=1e-05, momentum=0.1, affine=True, track_running_stats=True)\n",
      "        (relu): ReLU()\n",
      "        (conv2): Conv2d(512, 512, kernel_size=(3, 3), stride=(1, 1), padding=(1, 1))\n",
      "        (bn2): BatchNorm2d(512, eps=1e-05, momentum=0.1, affine=True, track_running_stats=True)\n",
      "        (identity): Sequential()\n",
      "      )\n",
      "    )\n",
      "    (avg_pool): AdaptiveAvgPool2d(output_size=(1, 1))\n",
      "    (dropout): Dropout(p=0.5, inplace=False)\n",
      "    (fc1): Linear(in_features=512, out_features=512, bias=True)\n",
      "    (fc2): Linear(in_features=512, out_features=2, bias=True)\n",
      "    (log_softmax): LogSoftmax(dim=1)\n",
      "  )\n",
      ")\n"
     ]
    }
   ],
   "source": [
    "from models import TE_ResNet\n",
    "\n",
    "model = TE_ResNet(\n",
    "    embed_size=32,\n",
    "    num_layers=6,\n",
    "    heads=8,\n",
    "    ff_hidden_size=1024,\n",
    "    dropout=0.1,\n",
    "    device=device,\n",
    "    max_length=126\n",
    ")\n",
    "\n",
    "print(model)"
   ]
  },
  {
   "cell_type": "markdown",
   "metadata": {
    "id": "85acNo0BQWIo"
   },
   "source": [
    "# Training"
   ]
  },
  {
   "cell_type": "code",
   "execution_count": 18,
   "metadata": {
    "id": "bMQ6CC5pSR6_"
   },
   "outputs": [
    {
     "data": {
      "text/plain": [
       "TE_ResNet(\n",
       "  (transformer_encoder): TransformerEncoder(\n",
       "    (position_embedding): Embedding(126, 32)\n",
       "    (layers): ModuleList(\n",
       "      (0-5): 6 x TransformerBlock(\n",
       "        (attention): MultiHeadAttention(\n",
       "          (values): Linear(in_features=4, out_features=32, bias=False)\n",
       "          (keys): Linear(in_features=4, out_features=32, bias=False)\n",
       "          (queries): Linear(in_features=4, out_features=32, bias=False)\n",
       "          (fc_out): Linear(in_features=32, out_features=32, bias=True)\n",
       "        )\n",
       "        (norm1): LayerNorm((32,), eps=1e-05, elementwise_affine=True)\n",
       "        (norm2): LayerNorm((32,), eps=1e-05, elementwise_affine=True)\n",
       "        (feed_forward): FeedForward(\n",
       "          (fc1): Linear(in_features=32, out_features=1024, bias=True)\n",
       "          (fc2): Linear(in_features=1024, out_features=32, bias=True)\n",
       "          (dropout): Dropout(p=0.1, inplace=False)\n",
       "        )\n",
       "      )\n",
       "    )\n",
       "    (dropout): Dropout(p=0.1, inplace=False)\n",
       "  )\n",
       "  (resnet): ResNet(\n",
       "    (conv1): Conv2d(1, 64, kernel_size=(3, 3), stride=(1, 1), padding=(1, 1))\n",
       "    (bn1): BatchNorm2d(64, eps=1e-05, momentum=0.1, affine=True, track_running_stats=True)\n",
       "    (relu): ReLU()\n",
       "    (layer1): Sequential(\n",
       "      (0): ResidualBlock(\n",
       "        (conv1): Conv2d(64, 64, kernel_size=(3, 3), stride=(1, 1), padding=(1, 1))\n",
       "        (bn1): BatchNorm2d(64, eps=1e-05, momentum=0.1, affine=True, track_running_stats=True)\n",
       "        (relu): ReLU()\n",
       "        (conv2): Conv2d(64, 64, kernel_size=(3, 3), stride=(1, 1), padding=(1, 1))\n",
       "        (bn2): BatchNorm2d(64, eps=1e-05, momentum=0.1, affine=True, track_running_stats=True)\n",
       "        (identity): Sequential()\n",
       "      )\n",
       "      (1): ResidualBlock(\n",
       "        (conv1): Conv2d(64, 64, kernel_size=(3, 3), stride=(1, 1), padding=(1, 1))\n",
       "        (bn1): BatchNorm2d(64, eps=1e-05, momentum=0.1, affine=True, track_running_stats=True)\n",
       "        (relu): ReLU()\n",
       "        (conv2): Conv2d(64, 64, kernel_size=(3, 3), stride=(1, 1), padding=(1, 1))\n",
       "        (bn2): BatchNorm2d(64, eps=1e-05, momentum=0.1, affine=True, track_running_stats=True)\n",
       "        (identity): Sequential()\n",
       "      )\n",
       "      (2): ResidualBlock(\n",
       "        (conv1): Conv2d(64, 64, kernel_size=(3, 3), stride=(1, 1), padding=(1, 1))\n",
       "        (bn1): BatchNorm2d(64, eps=1e-05, momentum=0.1, affine=True, track_running_stats=True)\n",
       "        (relu): ReLU()\n",
       "        (conv2): Conv2d(64, 64, kernel_size=(3, 3), stride=(1, 1), padding=(1, 1))\n",
       "        (bn2): BatchNorm2d(64, eps=1e-05, momentum=0.1, affine=True, track_running_stats=True)\n",
       "        (identity): Sequential()\n",
       "      )\n",
       "    )\n",
       "    (layer2): Sequential(\n",
       "      (0): ResidualBlock(\n",
       "        (conv1): Conv2d(64, 128, kernel_size=(3, 3), stride=(2, 2), padding=(1, 1))\n",
       "        (bn1): BatchNorm2d(128, eps=1e-05, momentum=0.1, affine=True, track_running_stats=True)\n",
       "        (relu): ReLU()\n",
       "        (conv2): Conv2d(128, 128, kernel_size=(3, 3), stride=(1, 1), padding=(1, 1))\n",
       "        (bn2): BatchNorm2d(128, eps=1e-05, momentum=0.1, affine=True, track_running_stats=True)\n",
       "        (identity): Sequential(\n",
       "          (0): Conv2d(64, 128, kernel_size=(1, 1), stride=(2, 2))\n",
       "          (1): BatchNorm2d(128, eps=1e-05, momentum=0.1, affine=True, track_running_stats=True)\n",
       "        )\n",
       "      )\n",
       "      (1): ResidualBlock(\n",
       "        (conv1): Conv2d(128, 128, kernel_size=(3, 3), stride=(1, 1), padding=(1, 1))\n",
       "        (bn1): BatchNorm2d(128, eps=1e-05, momentum=0.1, affine=True, track_running_stats=True)\n",
       "        (relu): ReLU()\n",
       "        (conv2): Conv2d(128, 128, kernel_size=(3, 3), stride=(1, 1), padding=(1, 1))\n",
       "        (bn2): BatchNorm2d(128, eps=1e-05, momentum=0.1, affine=True, track_running_stats=True)\n",
       "        (identity): Sequential()\n",
       "      )\n",
       "      (2): ResidualBlock(\n",
       "        (conv1): Conv2d(128, 128, kernel_size=(3, 3), stride=(1, 1), padding=(1, 1))\n",
       "        (bn1): BatchNorm2d(128, eps=1e-05, momentum=0.1, affine=True, track_running_stats=True)\n",
       "        (relu): ReLU()\n",
       "        (conv2): Conv2d(128, 128, kernel_size=(3, 3), stride=(1, 1), padding=(1, 1))\n",
       "        (bn2): BatchNorm2d(128, eps=1e-05, momentum=0.1, affine=True, track_running_stats=True)\n",
       "        (identity): Sequential()\n",
       "      )\n",
       "      (3): ResidualBlock(\n",
       "        (conv1): Conv2d(128, 128, kernel_size=(3, 3), stride=(1, 1), padding=(1, 1))\n",
       "        (bn1): BatchNorm2d(128, eps=1e-05, momentum=0.1, affine=True, track_running_stats=True)\n",
       "        (relu): ReLU()\n",
       "        (conv2): Conv2d(128, 128, kernel_size=(3, 3), stride=(1, 1), padding=(1, 1))\n",
       "        (bn2): BatchNorm2d(128, eps=1e-05, momentum=0.1, affine=True, track_running_stats=True)\n",
       "        (identity): Sequential()\n",
       "      )\n",
       "    )\n",
       "    (layer3): Sequential(\n",
       "      (0): ResidualBlock(\n",
       "        (conv1): Conv2d(128, 256, kernel_size=(3, 3), stride=(2, 2), padding=(1, 1))\n",
       "        (bn1): BatchNorm2d(256, eps=1e-05, momentum=0.1, affine=True, track_running_stats=True)\n",
       "        (relu): ReLU()\n",
       "        (conv2): Conv2d(256, 256, kernel_size=(3, 3), stride=(1, 1), padding=(1, 1))\n",
       "        (bn2): BatchNorm2d(256, eps=1e-05, momentum=0.1, affine=True, track_running_stats=True)\n",
       "        (identity): Sequential(\n",
       "          (0): Conv2d(128, 256, kernel_size=(1, 1), stride=(2, 2))\n",
       "          (1): BatchNorm2d(256, eps=1e-05, momentum=0.1, affine=True, track_running_stats=True)\n",
       "        )\n",
       "      )\n",
       "      (1): ResidualBlock(\n",
       "        (conv1): Conv2d(256, 256, kernel_size=(3, 3), stride=(1, 1), padding=(1, 1))\n",
       "        (bn1): BatchNorm2d(256, eps=1e-05, momentum=0.1, affine=True, track_running_stats=True)\n",
       "        (relu): ReLU()\n",
       "        (conv2): Conv2d(256, 256, kernel_size=(3, 3), stride=(1, 1), padding=(1, 1))\n",
       "        (bn2): BatchNorm2d(256, eps=1e-05, momentum=0.1, affine=True, track_running_stats=True)\n",
       "        (identity): Sequential()\n",
       "      )\n",
       "      (2): ResidualBlock(\n",
       "        (conv1): Conv2d(256, 256, kernel_size=(3, 3), stride=(1, 1), padding=(1, 1))\n",
       "        (bn1): BatchNorm2d(256, eps=1e-05, momentum=0.1, affine=True, track_running_stats=True)\n",
       "        (relu): ReLU()\n",
       "        (conv2): Conv2d(256, 256, kernel_size=(3, 3), stride=(1, 1), padding=(1, 1))\n",
       "        (bn2): BatchNorm2d(256, eps=1e-05, momentum=0.1, affine=True, track_running_stats=True)\n",
       "        (identity): Sequential()\n",
       "      )\n",
       "      (3): ResidualBlock(\n",
       "        (conv1): Conv2d(256, 256, kernel_size=(3, 3), stride=(1, 1), padding=(1, 1))\n",
       "        (bn1): BatchNorm2d(256, eps=1e-05, momentum=0.1, affine=True, track_running_stats=True)\n",
       "        (relu): ReLU()\n",
       "        (conv2): Conv2d(256, 256, kernel_size=(3, 3), stride=(1, 1), padding=(1, 1))\n",
       "        (bn2): BatchNorm2d(256, eps=1e-05, momentum=0.1, affine=True, track_running_stats=True)\n",
       "        (identity): Sequential()\n",
       "      )\n",
       "      (4): ResidualBlock(\n",
       "        (conv1): Conv2d(256, 256, kernel_size=(3, 3), stride=(1, 1), padding=(1, 1))\n",
       "        (bn1): BatchNorm2d(256, eps=1e-05, momentum=0.1, affine=True, track_running_stats=True)\n",
       "        (relu): ReLU()\n",
       "        (conv2): Conv2d(256, 256, kernel_size=(3, 3), stride=(1, 1), padding=(1, 1))\n",
       "        (bn2): BatchNorm2d(256, eps=1e-05, momentum=0.1, affine=True, track_running_stats=True)\n",
       "        (identity): Sequential()\n",
       "      )\n",
       "      (5): ResidualBlock(\n",
       "        (conv1): Conv2d(256, 256, kernel_size=(3, 3), stride=(1, 1), padding=(1, 1))\n",
       "        (bn1): BatchNorm2d(256, eps=1e-05, momentum=0.1, affine=True, track_running_stats=True)\n",
       "        (relu): ReLU()\n",
       "        (conv2): Conv2d(256, 256, kernel_size=(3, 3), stride=(1, 1), padding=(1, 1))\n",
       "        (bn2): BatchNorm2d(256, eps=1e-05, momentum=0.1, affine=True, track_running_stats=True)\n",
       "        (identity): Sequential()\n",
       "      )\n",
       "    )\n",
       "    (layer4): Sequential(\n",
       "      (0): ResidualBlock(\n",
       "        (conv1): Conv2d(256, 512, kernel_size=(3, 3), stride=(2, 2), padding=(1, 1))\n",
       "        (bn1): BatchNorm2d(512, eps=1e-05, momentum=0.1, affine=True, track_running_stats=True)\n",
       "        (relu): ReLU()\n",
       "        (conv2): Conv2d(512, 512, kernel_size=(3, 3), stride=(1, 1), padding=(1, 1))\n",
       "        (bn2): BatchNorm2d(512, eps=1e-05, momentum=0.1, affine=True, track_running_stats=True)\n",
       "        (identity): Sequential(\n",
       "          (0): Conv2d(256, 512, kernel_size=(1, 1), stride=(2, 2))\n",
       "          (1): BatchNorm2d(512, eps=1e-05, momentum=0.1, affine=True, track_running_stats=True)\n",
       "        )\n",
       "      )\n",
       "      (1): ResidualBlock(\n",
       "        (conv1): Conv2d(512, 512, kernel_size=(3, 3), stride=(1, 1), padding=(1, 1))\n",
       "        (bn1): BatchNorm2d(512, eps=1e-05, momentum=0.1, affine=True, track_running_stats=True)\n",
       "        (relu): ReLU()\n",
       "        (conv2): Conv2d(512, 512, kernel_size=(3, 3), stride=(1, 1), padding=(1, 1))\n",
       "        (bn2): BatchNorm2d(512, eps=1e-05, momentum=0.1, affine=True, track_running_stats=True)\n",
       "        (identity): Sequential()\n",
       "      )\n",
       "      (2): ResidualBlock(\n",
       "        (conv1): Conv2d(512, 512, kernel_size=(3, 3), stride=(1, 1), padding=(1, 1))\n",
       "        (bn1): BatchNorm2d(512, eps=1e-05, momentum=0.1, affine=True, track_running_stats=True)\n",
       "        (relu): ReLU()\n",
       "        (conv2): Conv2d(512, 512, kernel_size=(3, 3), stride=(1, 1), padding=(1, 1))\n",
       "        (bn2): BatchNorm2d(512, eps=1e-05, momentum=0.1, affine=True, track_running_stats=True)\n",
       "        (identity): Sequential()\n",
       "      )\n",
       "    )\n",
       "    (avg_pool): AdaptiveAvgPool2d(output_size=(1, 1))\n",
       "    (dropout): Dropout(p=0.5, inplace=False)\n",
       "    (fc1): Linear(in_features=512, out_features=512, bias=True)\n",
       "    (fc2): Linear(in_features=512, out_features=2, bias=True)\n",
       "    (log_softmax): LogSoftmax(dim=1)\n",
       "  )\n",
       ")"
      ]
     },
     "execution_count": 18,
     "metadata": {},
     "output_type": "execute_result"
    }
   ],
   "source": [
    "model.to(device)"
   ]
  },
  {
   "cell_type": "code",
   "execution_count": 32,
   "metadata": {
    "id": "FXQDIPhISz3g"
   },
   "outputs": [],
   "source": [
    "def train_loop(model, loader, feature_extractor, criterion, optimizer,n_epochs, device):\n",
    "    for epoch in range(n_epochs):\n",
    "        # Training\n",
    "        model.train(True)\n",
    "        sum_loss = 0.0\n",
    "        num_correct = 0\n",
    "        total_samples = 0\n",
    "        for data, labels in loader:\n",
    "            data = data\n",
    "            labels = labels.to(device)\n",
    "\n",
    "            if feature_extractor == 'MFCC':\n",
    "                features = feature_extr.get_MFCC(data, loader.dataset.sample_rate)\n",
    "            elif feature_extractor == 'CQCC':\n",
    "                features = feature_extr.get_CQCC(data, loader.dataset.sample_rate)\n",
    "            elif feature_extractor == 'LPS':\n",
    "                features = feature_extr.get_LPS(data, loader.dataset.sample_rate)\n",
    "            else:\n",
    "                raise ValueError(f\"Invalid feature extractor: {feature_extractor}\")\n",
    "\n",
    "             # Ensure features have the correct shape (batch_size, seq_length, feature_dim)\n",
    "            if features.dim() == 2:\n",
    "                features = features.unsqueeze(0)  # Add batch dimension\n",
    "            if features.dim() == 3:\n",
    "                features = features.permute(1, 2, 0)  # Ensure shape is (batch_size, seq_length, feature_dim)\n",
    "            \n",
    "            features = features.unsqueeze(1).to(device)\n",
    "            mask = torch.ones(features.shape[:2], device=device).bool()  # Generate a mask of ones\n",
    "            output = model(features, mask)\n",
    "            loss = criterion(output, labels)\n",
    "            loss.backward()\n",
    "            optimizer.step()\n",
    "            optimizer.zero_grad()\n",
    "\n",
    "\n",
    "            sum_loss += loss.item()\n",
    "            max_val, predicted = output.max(1)\n",
    "            num_correct += (predicted == labels).sum().item()\n",
    "            total_samples += data.size(0)\n",
    "\n",
    "        train_accuracy = num_correct / total_samples\n",
    "        train_avg_loss = sum_loss / len(train_loader)\n",
    "        print(f'Epoch [{epoch+1}/{num_epochs}], Training Accuracy: {train_accuracy:.4f}, Training Loss: {train_avg_loss:.4f}')"
   ]
  },
  {
   "cell_type": "code",
   "execution_count": 20,
   "metadata": {
    "id": "48cyT1d9S1oA"
   },
   "outputs": [],
   "source": [
    "num_epochs=3\n",
    "optimizer=torch.optim.Adam(model.parameters(), lr=0.001)\n",
    "criterion=nn.CrossEntropyLoss()\n",
    "feature_extractor='MFCC'"
   ]
  },
  {
   "cell_type": "code",
   "execution_count": 33,
   "metadata": {
    "id": "LKY02RiSS_y4"
   },
   "outputs": [
    {
     "ename": "ValueError",
     "evalue": "too many values to unpack (expected 3)",
     "output_type": "error",
     "traceback": [
      "\u001b[0;31m---------------------------------------------------------------------------\u001b[0m",
      "\u001b[0;31mValueError\u001b[0m                                Traceback (most recent call last)",
      "Cell \u001b[0;32mIn[33], line 1\u001b[0m\n\u001b[0;32m----> 1\u001b[0m \u001b[43mtrain_loop\u001b[49m\u001b[43m(\u001b[49m\n\u001b[1;32m      2\u001b[0m \u001b[43m    \u001b[49m\u001b[43mmodel\u001b[49m\u001b[43m,\u001b[49m\n\u001b[1;32m      3\u001b[0m \u001b[43m    \u001b[49m\u001b[43mtrain_loader\u001b[49m\u001b[43m,\u001b[49m\n\u001b[1;32m      4\u001b[0m \u001b[43m    \u001b[49m\u001b[43mfeature_extractor\u001b[49m\u001b[38;5;241;43m=\u001b[39;49m\u001b[43mfeature_extractor\u001b[49m\u001b[43m,\u001b[49m\n\u001b[1;32m      5\u001b[0m \u001b[43m    \u001b[49m\u001b[43mcriterion\u001b[49m\u001b[38;5;241;43m=\u001b[39;49m\u001b[43mcriterion\u001b[49m\u001b[43m,\u001b[49m\n\u001b[1;32m      6\u001b[0m \u001b[43m    \u001b[49m\u001b[43moptimizer\u001b[49m\u001b[38;5;241;43m=\u001b[39;49m\u001b[43moptimizer\u001b[49m\u001b[43m,\u001b[49m\n\u001b[1;32m      7\u001b[0m \u001b[43m    \u001b[49m\u001b[43mn_epochs\u001b[49m\u001b[38;5;241;43m=\u001b[39;49m\u001b[43mnum_epochs\u001b[49m\u001b[43m,\u001b[49m\n\u001b[1;32m      8\u001b[0m \u001b[43m    \u001b[49m\u001b[43mdevice\u001b[49m\u001b[38;5;241;43m=\u001b[39;49m\u001b[43mdevice\u001b[49m\n\u001b[1;32m      9\u001b[0m \u001b[43m)\u001b[49m\n",
      "Cell \u001b[0;32mIn[32], line 29\u001b[0m, in \u001b[0;36mtrain_loop\u001b[0;34m(model, loader, feature_extractor, criterion, optimizer, n_epochs, device)\u001b[0m\n\u001b[1;32m     27\u001b[0m features \u001b[38;5;241m=\u001b[39m features\u001b[38;5;241m.\u001b[39munsqueeze(\u001b[38;5;241m1\u001b[39m)\u001b[38;5;241m.\u001b[39mto(device)\n\u001b[1;32m     28\u001b[0m mask \u001b[38;5;241m=\u001b[39m torch\u001b[38;5;241m.\u001b[39mones(features\u001b[38;5;241m.\u001b[39mshape, device\u001b[38;5;241m=\u001b[39mdevice)\u001b[38;5;241m.\u001b[39mbool()  \u001b[38;5;66;03m# Generate a mask of ones\u001b[39;00m\n\u001b[0;32m---> 29\u001b[0m output \u001b[38;5;241m=\u001b[39m \u001b[43mmodel\u001b[49m\u001b[43m(\u001b[49m\u001b[43mfeatures\u001b[49m\u001b[43m,\u001b[49m\u001b[43m \u001b[49m\u001b[43mmask\u001b[49m\u001b[43m)\u001b[49m\n\u001b[1;32m     30\u001b[0m loss \u001b[38;5;241m=\u001b[39m criterion(output, labels)\n\u001b[1;32m     31\u001b[0m loss\u001b[38;5;241m.\u001b[39mbackward()\n",
      "File \u001b[0;32m/usr/local/lib/python3.10/dist-packages/torch/nn/modules/module.py:1511\u001b[0m, in \u001b[0;36mModule._wrapped_call_impl\u001b[0;34m(self, *args, **kwargs)\u001b[0m\n\u001b[1;32m   1509\u001b[0m     \u001b[38;5;28;01mreturn\u001b[39;00m \u001b[38;5;28mself\u001b[39m\u001b[38;5;241m.\u001b[39m_compiled_call_impl(\u001b[38;5;241m*\u001b[39margs, \u001b[38;5;241m*\u001b[39m\u001b[38;5;241m*\u001b[39mkwargs)  \u001b[38;5;66;03m# type: ignore[misc]\u001b[39;00m\n\u001b[1;32m   1510\u001b[0m \u001b[38;5;28;01melse\u001b[39;00m:\n\u001b[0;32m-> 1511\u001b[0m     \u001b[38;5;28;01mreturn\u001b[39;00m \u001b[38;5;28;43mself\u001b[39;49m\u001b[38;5;241;43m.\u001b[39;49m\u001b[43m_call_impl\u001b[49m\u001b[43m(\u001b[49m\u001b[38;5;241;43m*\u001b[39;49m\u001b[43margs\u001b[49m\u001b[43m,\u001b[49m\u001b[43m \u001b[49m\u001b[38;5;241;43m*\u001b[39;49m\u001b[38;5;241;43m*\u001b[39;49m\u001b[43mkwargs\u001b[49m\u001b[43m)\u001b[49m\n",
      "File \u001b[0;32m/usr/local/lib/python3.10/dist-packages/torch/nn/modules/module.py:1520\u001b[0m, in \u001b[0;36mModule._call_impl\u001b[0;34m(self, *args, **kwargs)\u001b[0m\n\u001b[1;32m   1515\u001b[0m \u001b[38;5;66;03m# If we don't have any hooks, we want to skip the rest of the logic in\u001b[39;00m\n\u001b[1;32m   1516\u001b[0m \u001b[38;5;66;03m# this function, and just call forward.\u001b[39;00m\n\u001b[1;32m   1517\u001b[0m \u001b[38;5;28;01mif\u001b[39;00m \u001b[38;5;129;01mnot\u001b[39;00m (\u001b[38;5;28mself\u001b[39m\u001b[38;5;241m.\u001b[39m_backward_hooks \u001b[38;5;129;01mor\u001b[39;00m \u001b[38;5;28mself\u001b[39m\u001b[38;5;241m.\u001b[39m_backward_pre_hooks \u001b[38;5;129;01mor\u001b[39;00m \u001b[38;5;28mself\u001b[39m\u001b[38;5;241m.\u001b[39m_forward_hooks \u001b[38;5;129;01mor\u001b[39;00m \u001b[38;5;28mself\u001b[39m\u001b[38;5;241m.\u001b[39m_forward_pre_hooks\n\u001b[1;32m   1518\u001b[0m         \u001b[38;5;129;01mor\u001b[39;00m _global_backward_pre_hooks \u001b[38;5;129;01mor\u001b[39;00m _global_backward_hooks\n\u001b[1;32m   1519\u001b[0m         \u001b[38;5;129;01mor\u001b[39;00m _global_forward_hooks \u001b[38;5;129;01mor\u001b[39;00m _global_forward_pre_hooks):\n\u001b[0;32m-> 1520\u001b[0m     \u001b[38;5;28;01mreturn\u001b[39;00m \u001b[43mforward_call\u001b[49m\u001b[43m(\u001b[49m\u001b[38;5;241;43m*\u001b[39;49m\u001b[43margs\u001b[49m\u001b[43m,\u001b[49m\u001b[43m \u001b[49m\u001b[38;5;241;43m*\u001b[39;49m\u001b[38;5;241;43m*\u001b[39;49m\u001b[43mkwargs\u001b[49m\u001b[43m)\u001b[49m\n\u001b[1;32m   1522\u001b[0m \u001b[38;5;28;01mtry\u001b[39;00m:\n\u001b[1;32m   1523\u001b[0m     result \u001b[38;5;241m=\u001b[39m \u001b[38;5;28;01mNone\u001b[39;00m\n",
      "File \u001b[0;32m/home/jupyter/Synthetic-Speech-Detection/src/models.py:190\u001b[0m, in \u001b[0;36mTE_ResNet.forward\u001b[0;34m(self, x, mask)\u001b[0m\n\u001b[1;32m    189\u001b[0m \u001b[38;5;28;01mdef\u001b[39;00m \u001b[38;5;21mforward\u001b[39m(\u001b[38;5;28mself\u001b[39m, x, mask):\n\u001b[0;32m--> 190\u001b[0m     x \u001b[38;5;241m=\u001b[39m \u001b[38;5;28;43mself\u001b[39;49m\u001b[38;5;241;43m.\u001b[39;49m\u001b[43mtransformer_encoder\u001b[49m\u001b[43m(\u001b[49m\u001b[43mx\u001b[49m\u001b[43m,\u001b[49m\u001b[43m \u001b[49m\u001b[43mmask\u001b[49m\u001b[43m)\u001b[49m\n\u001b[1;32m    191\u001b[0m     x \u001b[38;5;241m=\u001b[39m x\u001b[38;5;241m.\u001b[39munsqueeze(\u001b[38;5;241m1\u001b[39m)  \u001b[38;5;66;03m# Adding channel dimension for ResNet\u001b[39;00m\n\u001b[1;32m    192\u001b[0m     x \u001b[38;5;241m=\u001b[39m \u001b[38;5;28mself\u001b[39m\u001b[38;5;241m.\u001b[39mresnet(x)\n",
      "File \u001b[0;32m/usr/local/lib/python3.10/dist-packages/torch/nn/modules/module.py:1511\u001b[0m, in \u001b[0;36mModule._wrapped_call_impl\u001b[0;34m(self, *args, **kwargs)\u001b[0m\n\u001b[1;32m   1509\u001b[0m     \u001b[38;5;28;01mreturn\u001b[39;00m \u001b[38;5;28mself\u001b[39m\u001b[38;5;241m.\u001b[39m_compiled_call_impl(\u001b[38;5;241m*\u001b[39margs, \u001b[38;5;241m*\u001b[39m\u001b[38;5;241m*\u001b[39mkwargs)  \u001b[38;5;66;03m# type: ignore[misc]\u001b[39;00m\n\u001b[1;32m   1510\u001b[0m \u001b[38;5;28;01melse\u001b[39;00m:\n\u001b[0;32m-> 1511\u001b[0m     \u001b[38;5;28;01mreturn\u001b[39;00m \u001b[38;5;28;43mself\u001b[39;49m\u001b[38;5;241;43m.\u001b[39;49m\u001b[43m_call_impl\u001b[49m\u001b[43m(\u001b[49m\u001b[38;5;241;43m*\u001b[39;49m\u001b[43margs\u001b[49m\u001b[43m,\u001b[49m\u001b[43m \u001b[49m\u001b[38;5;241;43m*\u001b[39;49m\u001b[38;5;241;43m*\u001b[39;49m\u001b[43mkwargs\u001b[49m\u001b[43m)\u001b[49m\n",
      "File \u001b[0;32m/usr/local/lib/python3.10/dist-packages/torch/nn/modules/module.py:1520\u001b[0m, in \u001b[0;36mModule._call_impl\u001b[0;34m(self, *args, **kwargs)\u001b[0m\n\u001b[1;32m   1515\u001b[0m \u001b[38;5;66;03m# If we don't have any hooks, we want to skip the rest of the logic in\u001b[39;00m\n\u001b[1;32m   1516\u001b[0m \u001b[38;5;66;03m# this function, and just call forward.\u001b[39;00m\n\u001b[1;32m   1517\u001b[0m \u001b[38;5;28;01mif\u001b[39;00m \u001b[38;5;129;01mnot\u001b[39;00m (\u001b[38;5;28mself\u001b[39m\u001b[38;5;241m.\u001b[39m_backward_hooks \u001b[38;5;129;01mor\u001b[39;00m \u001b[38;5;28mself\u001b[39m\u001b[38;5;241m.\u001b[39m_backward_pre_hooks \u001b[38;5;129;01mor\u001b[39;00m \u001b[38;5;28mself\u001b[39m\u001b[38;5;241m.\u001b[39m_forward_hooks \u001b[38;5;129;01mor\u001b[39;00m \u001b[38;5;28mself\u001b[39m\u001b[38;5;241m.\u001b[39m_forward_pre_hooks\n\u001b[1;32m   1518\u001b[0m         \u001b[38;5;129;01mor\u001b[39;00m _global_backward_pre_hooks \u001b[38;5;129;01mor\u001b[39;00m _global_backward_hooks\n\u001b[1;32m   1519\u001b[0m         \u001b[38;5;129;01mor\u001b[39;00m _global_forward_hooks \u001b[38;5;129;01mor\u001b[39;00m _global_forward_pre_hooks):\n\u001b[0;32m-> 1520\u001b[0m     \u001b[38;5;28;01mreturn\u001b[39;00m \u001b[43mforward_call\u001b[49m\u001b[43m(\u001b[49m\u001b[38;5;241;43m*\u001b[39;49m\u001b[43margs\u001b[49m\u001b[43m,\u001b[49m\u001b[43m \u001b[49m\u001b[38;5;241;43m*\u001b[39;49m\u001b[38;5;241;43m*\u001b[39;49m\u001b[43mkwargs\u001b[49m\u001b[43m)\u001b[49m\n\u001b[1;32m   1522\u001b[0m \u001b[38;5;28;01mtry\u001b[39;00m:\n\u001b[1;32m   1523\u001b[0m     result \u001b[38;5;241m=\u001b[39m \u001b[38;5;28;01mNone\u001b[39;00m\n",
      "File \u001b[0;32m/home/jupyter/Synthetic-Speech-Detection/src/models.py:102\u001b[0m, in \u001b[0;36mTransformerEncoder.forward\u001b[0;34m(self, x, mask)\u001b[0m\n\u001b[1;32m    101\u001b[0m \u001b[38;5;28;01mdef\u001b[39;00m \u001b[38;5;21mforward\u001b[39m(\u001b[38;5;28mself\u001b[39m, x, mask):\n\u001b[0;32m--> 102\u001b[0m     N, seq_length, feature_dim \u001b[38;5;241m=\u001b[39m x\u001b[38;5;241m.\u001b[39mshape  \u001b[38;5;66;03m# Adjusted to unpack three dimensions\u001b[39;00m\n\u001b[1;32m    103\u001b[0m     positions \u001b[38;5;241m=\u001b[39m torch\u001b[38;5;241m.\u001b[39marange(\u001b[38;5;241m0\u001b[39m, seq_length)\u001b[38;5;241m.\u001b[39mexpand(N, seq_length)\u001b[38;5;241m.\u001b[39mto(\u001b[38;5;28mself\u001b[39m\u001b[38;5;241m.\u001b[39mdevice)\n\u001b[1;32m    104\u001b[0m     out \u001b[38;5;241m=\u001b[39m \u001b[38;5;28mself\u001b[39m\u001b[38;5;241m.\u001b[39mdropout(x \u001b[38;5;241m+\u001b[39m \u001b[38;5;28mself\u001b[39m\u001b[38;5;241m.\u001b[39mposition_embedding(positions))\n",
      "\u001b[0;31mValueError\u001b[0m: too many values to unpack (expected 3)"
     ]
    }
   ],
   "source": [
    "train_loop(\n",
    "    model,\n",
    "    train_loader,\n",
    "    feature_extractor=feature_extractor,\n",
    "    criterion=criterion,\n",
    "    optimizer=optimizer,\n",
    "    n_epochs=num_epochs,\n",
    "    device=device\n",
    ")"
   ]
  },
  {
   "cell_type": "code",
   "execution_count": null,
   "metadata": {
    "id": "oZoTbTqSTVQi"
   },
   "outputs": [],
   "source": []
  },
  {
   "cell_type": "markdown",
   "metadata": {
    "id": "VBAI3sbKVzHV"
   },
   "source": [
    "#Evaluation"
   ]
  },
  {
   "cell_type": "code",
   "execution_count": null,
   "metadata": {
    "id": "K1ADKjrOTVVD"
   },
   "outputs": [],
   "source": [
    "def evaluate_model(model, test_loader, feature_extractor, criterion, device):\n",
    "    model.eval()\n",
    "    test_loss = 0.0\n",
    "    test_correct = 0\n",
    "    total_test_samples = 0\n",
    "\n",
    "    with torch.no_grad():\n",
    "        for waveform, label in tqdm(test_loader):\n",
    "            waveform = waveform\n",
    "            label = label.to(device)\n",
    "\n",
    "            if feature_extractor == 'MFCC':\n",
    "                features = feature_extr.get_MFCC(waveform, test_loader.dataset.sample_rate)\n",
    "            elif feature_extractor == 'CQCC':\n",
    "                features = feature_extr.get_CQCC(waveform, test_loader.dataset.sample_rate)\n",
    "            elif feature_extractor == 'LPS':\n",
    "                features = feature_extr.get_LPS(waveform, test_loader.dataset.sample_rate)\n",
    "            else:\n",
    "                raise ValueError(f\"Invalid feature extractor: {feature_extractor}\")\n",
    "\n",
    "            features = features.to(device)\n",
    "            output = model(features)\n",
    "            loss = criterion(output, label)\n",
    "            test_loss += loss.item()\n",
    "\n",
    "            max_val, predicted = output.max(1)\n",
    "            test_correct += (predicted == label).sum().item()\n",
    "            total_test_samples += features.size(0)\n",
    "\n",
    "    test_accuracy = test_correct / total_test_samples\n",
    "    test_loss = test_loss / len(test_loader)\n",
    "\n",
    "    print(f'Test Loss: {test_loss:.4f}, Test Accuracy: {test_accuracy:.4f}')"
   ]
  },
  {
   "cell_type": "code",
   "execution_count": null,
   "metadata": {
    "id": "pWPgXrh6TVZJ"
   },
   "outputs": [],
   "source": [
    "evaluate_model(\n",
    "    model,\n",
    "    test_loader,\n",
    "    feature_extractor=feature_extractor,\n",
    "    criterion=criterion,\n",
    "    device=device\n",
    ")"
   ]
  },
  {
   "cell_type": "code",
   "execution_count": null,
   "metadata": {
    "id": "J2c2LMfATVcJ"
   },
   "outputs": [],
   "source": []
  },
  {
   "cell_type": "code",
   "execution_count": null,
   "metadata": {
    "id": "Pdqj63ZoVcvx"
   },
   "outputs": [],
   "source": []
  },
  {
   "cell_type": "code",
   "execution_count": null,
   "metadata": {
    "id": "4jkNZmQrQWIo"
   },
   "outputs": [],
   "source": [
    "# def train_loop(loader):\n",
    "#     n_epochs = 5\n",
    "#     for epoch in n_epochs:\n",
    "#         for data, labels in loader:\n",
    "#             feature_extr.MFCC() # or any other\n",
    "#             output = model(data)\n",
    "#             loss = ...\n",
    "#     pass"
   ]
  }
 ],
 "metadata": {
  "colab": {
   "provenance": []
  },
  "kernelspec": {
   "display_name": "Python 3 (ipykernel)",
   "language": "python",
   "name": "python3"
  },
  "language_info": {
   "codemirror_mode": {
    "name": "ipython",
    "version": 3
   },
   "file_extension": ".py",
   "mimetype": "text/x-python",
   "name": "python",
   "nbconvert_exporter": "python",
   "pygments_lexer": "ipython3",
   "version": "3.10.12"
  },
  "widgets": {
   "application/vnd.jupyter.widget-state+json": {}
  }
 },
 "nbformat": 4,
 "nbformat_minor": 4
}
