{
 "cells": [
  {
   "cell_type": "code",
   "execution_count": 1,
   "metadata": {
    "id": "gKwB2rTrQWId",
    "outputId": "200012d7-f47f-4f68-8c13-2a693853197b",
    "scrolled": true
   },
   "outputs": [],
   "source": [
    "# !pip uninstall torch torchaudio torchvision -y"
   ]
  },
  {
   "cell_type": "code",
   "execution_count": 2,
   "metadata": {
    "id": "LJSjcqD9QWIf",
    "outputId": "2ec60c8e-e4c1-4d2d-9911-8dfb68494af8",
    "scrolled": true
   },
   "outputs": [],
   "source": [
    "# !pip install torch==2.2.2 torchaudio==2.2.2"
   ]
  },
  {
   "cell_type": "code",
   "execution_count": 3,
   "metadata": {
    "colab": {
     "base_uri": "https://localhost:8080/"
    },
    "id": "kNfEq6UQQf-6",
    "outputId": "e875b755-a09d-4e67-835b-6da787406dc1"
   },
   "outputs": [
    {
     "name": "stdout",
     "output_type": "stream",
     "text": [
      "\u001b[33mWARNING: Running pip as the 'root' user can result in broken permissions and conflicting behaviour with the system package manager. It is recommended to use a virtual environment instead: https://pip.pypa.io/warnings/venv\u001b[0m\u001b[33m\n",
      "\u001b[0m"
     ]
    }
   ],
   "source": [
    "!pip install torch torchaudio torchvision datasets -q"
   ]
  },
  {
   "cell_type": "code",
   "execution_count": 96,
   "metadata": {
    "id": "9oiOQXctXFJo"
   },
   "outputs": [],
   "source": [
    "import random\n",
    "import IPython\n",
    "import warnings\n",
    "warnings.filterwarnings(\"ignore\")\n",
    "\n",
    "import datasets\n",
    "\n",
    "from datasets.utils import DownloadManager\n",
    "\n",
    "import numpy as np\n",
    "import pandas as pd\n",
    "from sklearn.metrics import precision_score, recall_score, balanced_accuracy_score, roc_curve, auc\n",
    "\n",
    "from scipy.optimize import brentq\n",
    "from scipy.interpolate import interp1d\n",
    "\n",
    "import torch\n",
    "import torchaudio\n",
    "import torchaudio.transforms as T\n",
    "\n",
    "from torch.utils.data import DataLoader, Dataset\n",
    "\n",
    "import os\n",
    "import sys\n",
    "\n",
    "from tqdm import tqdm\n",
    "import torchvision\n",
    "import soundfile as sf\n",
    "import torch.nn as nn\n",
    "import torchvision.models as models\n",
    "from librosa import util\n",
    "import librosa.feature\n",
    "\n",
    "import matplotlib.pyplot as plt\n",
    "import math"
   ]
  },
  {
   "cell_type": "code",
   "execution_count": 2,
   "metadata": {
    "id": "3sC4bMRrQWIh"
   },
   "outputs": [],
   "source": [
    "sys.path.append('src')"
   ]
  },
  {
   "cell_type": "code",
   "execution_count": 3,
   "metadata": {},
   "outputs": [
    {
     "data": {
      "text/plain": [
       "'cuda'"
      ]
     },
     "execution_count": 3,
     "metadata": {},
     "output_type": "execute_result"
    }
   ],
   "source": [
    "device = 'cuda' if torch.cuda.is_available() else 'cpu'\n",
    "device"
   ]
  },
  {
   "cell_type": "markdown",
   "metadata": {
    "id": "9QObvPnqW_Td"
   },
   "source": [
    "# Load Dataset .zip from link"
   ]
  },
  {
   "cell_type": "markdown",
   "metadata": {
    "id": "RP_rXD0OdsWF"
   },
   "source": [
    "Logical access (LA):\n",
    "\n",
    "- ```speaker_id:``` LA_****, a 4-digit speaker ID\n",
    "- ```audio_file_name:``` name of the audio file\n",
    "- ```audio:``` '****.flac'  the path to the downloaded audio file in FLAC format (https://xiph.org/flac/).\n",
    "- ```system_id:``` ID of the speech spoofing system (A01 - A19), or, for bonafide speech SYSTEM-ID is left blank ('-')\n",
    "- ```key:``` 'bonafide' for genuine speech, or, 'spoof' for spoofing speech"
   ]
  },
  {
   "cell_type": "markdown",
   "metadata": {},
   "source": [
    "## ASVspoof2019"
   ]
  },
  {
   "cell_type": "code",
   "execution_count": 7,
   "metadata": {},
   "outputs": [],
   "source": [
    "# # For kaggle\n",
    "# import sys\n",
    "# sys.path.append('/kaggle/input/modulesspeechdetection')\n"
   ]
  },
  {
   "cell_type": "code",
   "execution_count": 4,
   "metadata": {
    "colab": {
     "base_uri": "https://localhost:8080/",
     "height": 116,
     "referenced_widgets": [
      "ace53b6dd81b4e9fbcf515542a55e01f",
      "f4936d30f71c4077aa93f1f2bc090c13",
      "2bbdab2df37d49de89fffbb9891aa115",
      "21744dadce5844e3b9597af726b4cdc9",
      "3d104b05ec2f4dc9aece5bd1c232aeef",
      "4d9ccb83f39645c9a42d8dae5355a35e",
      "8ad98d3110224ee9a0a0455d3e3a120d",
      "35964bc8f6394bacba4a8235a127c40b",
      "b26a29f9badf4fe29d9f8f1f77e14ab6",
      "8f292fa68a3d416baad10ddd8456b527",
      "5c96940d36ef456eb42dceabd345e4f7",
      "06007bd3db2b4f75bb756257a063c6f9",
      "349bc4b49bee4025b9abc6cd55887d41",
      "9c13fe9463a04675b46131e844258345",
      "f0cdf5bdb7854117a9e22408fbb93ff9",
      "7c36f8ddb91244cfb8aeac10d5eb68ee",
      "74d180421aa84df3bf6718d25b0d67ed",
      "76943bf633a544589564224b9b93d7d6",
      "7030ed4083d54d05946c15ac668d19a4",
      "0f831f122aef4fd6af6ca2e81b42d214",
      "979373783eef4201ac505f196c2e47d8",
      "b9f3dc1ea9824cdb9e7aedbe9facfa99"
     ]
    },
    "id": "JQBkSfn3i24L",
    "outputId": "fcb60f42-6378-4fb5-805b-436f5f7a2518"
   },
   "outputs": [
    {
     "data": {
      "application/vnd.jupyter.widget-view+json": {
       "model_id": "07c4fc9ad7194525ae85de30b9975aa1",
       "version_major": 2,
       "version_minor": 0
      },
      "text/plain": [
       "Computing checksums: 100%|##########| 1/1 [00:23<00:00, 23.55s/it]"
      ]
     },
     "metadata": {},
     "output_type": "display_data"
    },
    {
     "name": "stdout",
     "output_type": "stream",
     "text": [
      "CPU times: user 22.4 s, sys: 1.35 s, total: 23.7 s\n",
      "Wall time: 59.5 s\n"
     ]
    }
   ],
   "source": [
    "%%time\n",
    "from load_avsspoof19 import ASVspoof2019\n",
    "\n",
    "dl_manager = DownloadManager()\n",
    "\n",
    "speech_dataset = ASVspoof2019()\n",
    "asv_datasets = speech_dataset._split_generators(dl_manager)"
   ]
  },
  {
   "cell_type": "code",
   "execution_count": 5,
   "metadata": {
    "id": "FUFksHVrQWIj"
   },
   "outputs": [],
   "source": [
    "# 0 - train, 1 - eval, 2 - test in asv_datasets\n",
    "train_metadata_filepath = asv_datasets[0].gen_kwargs[\"metadata_filepath\"]\n",
    "train_audios_dir = asv_datasets[0].gen_kwargs[\"audios_dir\"]\n",
    "\n",
    "val_metadata_filepath = asv_datasets[1].gen_kwargs[\"metadata_filepath\"]\n",
    "val_audios_dir = asv_datasets[1].gen_kwargs[\"audios_dir\"]\n",
    "\n",
    "test_metadata_filepath = asv_datasets[2].gen_kwargs[\"metadata_filepath\"]\n",
    "test_audios_dir = asv_datasets[2].gen_kwargs[\"audios_dir\"]"
   ]
  },
  {
   "cell_type": "code",
   "execution_count": 6,
   "metadata": {
    "id": "gwAbKkDLQWIj"
   },
   "outputs": [],
   "source": [
    "train_samples = speech_dataset._generate_examples(train_metadata_filepath, train_audios_dir)\n",
    "val_samples = speech_dataset._generate_examples(val_metadata_filepath, val_audios_dir)\n",
    "test_samples = speech_dataset._generate_examples(test_metadata_filepath, test_audios_dir)"
   ]
  },
  {
   "cell_type": "markdown",
   "metadata": {},
   "source": [
    "## ASVspoof2021"
   ]
  },
  {
   "cell_type": "code",
   "execution_count": 7,
   "metadata": {},
   "outputs": [
    {
     "data": {
      "application/vnd.jupyter.widget-view+json": {
       "model_id": "f2c3ee9c6d9a40f2b5f67b6b638a1a3e",
       "version_major": 2,
       "version_minor": 0
      },
      "text/plain": [
       "Computing checksums:  20%|##        | 1/5 [00:26<01:46, 26.67s/it]"
      ]
     },
     "metadata": {},
     "output_type": "display_data"
    },
    {
     "name": "stdout",
     "output_type": "stream",
     "text": [
      "CPU times: user 1min 45s, sys: 9.61 s, total: 1min 55s\n",
      "Wall time: 1min 57s\n"
     ]
    }
   ],
   "source": [
    "%%time\n",
    "from load_avsspoof21 import ASVspoof2021\n",
    "\n",
    "dl_manager = DownloadManager(data_dir=\"data\")\n",
    "\n",
    "speech_dataset = ASVspoof2021()\n",
    "asv_datasets = speech_dataset._split_generators(dl_manager)"
   ]
  },
  {
   "cell_type": "code",
   "execution_count": 8,
   "metadata": {},
   "outputs": [],
   "source": [
    "test_samples_21 = speech_dataset._generate_examples(\n",
    "    asv_datasets[0].gen_kwargs[\"metadata_filepath\"],\n",
    "    asv_datasets[0].gen_kwargs[\"audios_dir\"]\n",
    ")"
   ]
  },
  {
   "cell_type": "markdown",
   "metadata": {
    "id": "xXEwnHR6QWIj"
   },
   "source": [
    "## Listen to random sample\n",
    "\n",
    "Display some audio from train/validation set."
   ]
  },
  {
   "cell_type": "code",
   "execution_count": 207,
   "metadata": {
    "colab": {
     "base_uri": "https://localhost:8080/"
    },
    "id": "2qImrElhQWIk",
    "outputId": "c22bb26f-0c26-4750-d4e4-3f614b489c18"
   },
   "outputs": [
    {
     "data": {
      "text/plain": [
       "{'speaker_id': 'LA_0097',\n",
       " 'audio_file_name': 'LA_T_9114515',\n",
       " 'system_id': 'A03',\n",
       " 'key': 'spoof',\n",
       " 'audio': '/root/.cache/huggingface/datasets/downloads/extracted/911103f86670b6f7e96211444d0f39fc5ffab511156a395f67b098c2f45dce18/LA/ASVspoof2019_LA_train/flac/LA_T_9114515.flac'}"
      ]
     },
     "execution_count": 207,
     "metadata": {},
     "output_type": "execute_result"
    }
   ],
   "source": [
    "def get_sample(samples):\n",
    "    return random.sample(samples, k=1)[0]\n",
    "\n",
    "sample = get_sample(train_samples)\n",
    "sample"
   ]
  },
  {
   "cell_type": "code",
   "execution_count": 208,
   "metadata": {
    "colab": {
     "base_uri": "https://localhost:8080/",
     "height": 93
    },
    "id": "PqzkjmH6QWIk",
    "outputId": "389c3888-fe5d-440f-94c9-2e74b2d9e19b"
   },
   "outputs": [
    {
     "name": "stdout",
     "output_type": "stream",
     "text": [
      "spoof\n"
     ]
    },
    {
     "data": {
      "text/html": [
       "\n",
       "                <audio  controls=\"controls\" >\n",
       "                    <source src=\"data:audio/flac;base64,ZkxhQwAAACIEgASAAAEsAAd0A+gA8AAAv3wp1rJi/fbPIeJYZNaqARWMhAAAKCAAAAByZWZlcmVuY2UgbGliRkxBQyAxLjMuMCAyMDEzMDUyNgAAAAD/+DUIAAMQAFJJJJJJJJJJJKqqqqqqqqqr////////////////2xg1ft7hNK0VITz3lGmuT8RCFJFJRGKIJyIqKXSRFkSSK4iIpJEklkEQUyPQiXklbEIJfpGaqOzZVC4XyDB4iYzVHI08zHx7fm/Gm0bHWn0RnH1woZmekKiShSyKEmpC4egkQUIEukkLBCiSWvISxTC5FaYRIKZJYiSOGEbCQu5avK+k5QITLkKcevcdhaM8v42ohmsbaI2Gh7cDTzF4xpnfaaqdZ7SMExqiTmRmi+SMUREUXClJCIgWAQhsEogQSEBCbpvKkJKxCqBIpEQtRtBNooiRCF7iKE7tjyDaeMbUdHo5GnMzem8fCN+88xxyPGGzbf7eutskOmWlPFKujyIIWrEmSkkSIJCyiEIggIiJkSERsQhIREihFySTBRS5XClSBBIFpWiLRDkSbm16YzVTGeFIeYwrbzGzNvGeM/29tm+N8P8TOaGLVaY/QM8lglJaKiwhSlUhc0gigKFhEEhApcRChESIlkIimJFCEmky1ERCECaJF8JTeJaVIjNubejO/E1GjTMzG9xtbN4x1sw+bnmzaEZ+JoiR5nLZpP525JcgkJagZQCSXP/4NQgBBBIAAABLTWyxEa8mLYsxJlcTVxgEBlGKjLUuC6PGAsiB0jgLAYBNMp3EZUtNIZQ0EMFAwV1bVMKMEelMkyZfIt2LMTS9iqIySGkiDF6CAyCGiGEnGkJMQalI4RYZCPgsykYhN0tUjKYjKTBDaWQcAQ1oYEcYR5IQayhDaC0aOLTI2CGIjTVclGJfRsCdhDyFmsRwIbLTQhhOJ6TFw0SGhYhhWGEJMZaixdmpEw0AW9OENCGJiBoEyMsSMUwhpNhOym4TQhkjBCAxAgHwhoiAxKKtAYBZqaLGEYJ2k6whqWGBDCnyMIYWYFtIZgEDJqJGIZEMiTawmDEUiGlAwSEHFsRAZCEGRGrMhJ2LiNJqTZZQRqcBBwhhGUNYk61lBgqCDEHArMSTSBgI0GoJmF5WIGKEQdIYJ3mJcpGUGCZSZIYI2gyFXkQMToJqh5MUiGJ4RzKJmSCPphfkRhghDUwiHEQ4QaBYcEYQZJIyMoSMrUMTIwtlSOFFdtQE2L8jZCmEHpVLR6RaZJ6LOCfyKCDhxEZRxRQ4rU07C2TWwUNUpMg4KRyomwjk0TVsWl5dZbYhBwJAYCwYCbLhewCMwsyvRgWZcgQ6K9NDAIyjFGQ0EyMjiYQwJmUjqJ4pDF6qLmIeVxWr0BBjwtPJxMpqk0CAMUtZA2AjCOEDIIxgTRhIa7gv12TlldEj1EZMIMpf//g1CAINEv/+AEWMWRxUjwKnKxeYRmATQaJEMmhaMsFvYIDEYEjhDaFBgiI3WS0diDBBBgjGEjYnkTyjRDIYIQzYUWBoQjQkMCG7ZLEMUMLXXWRl0trCz5aKjFyZLNijRYBYGCfEcEMlQwIxdkGCurok8Q0IIGYLTC1sLGQtpokMRbwQMEYn0I8CZoyEMI9KSOXKZGIxbWsixxIxPIaKIcIzCNJSj4I8IctRxEDQiaiaudhDLhBiJZ5CscKYujKL8rAIG5aiBAOBDI0RIZZkRatlMSa4stGRoINCpiGJmAmWtEB4RlWwWWchhNgJxppchGMia5iibYjkKMyYpV9LytPLZVrIzEWXpoQGFrsSOlIZCMCYYEGhDgo0oBAPEQeEmkq1gIHIyQxMkQ0AIAwjxEGC+hguThGiMLmkYTowoQzBR3rlREPJDJeLMr+xdWwQxIehG4UxDExAYtNhRYYVGVAg7ojE1YjjCQYJOy1MkMlSYvRgR5IwkDE4E6cXBbWSa0mXhHTJTITxGhGpScryyjE5o4Ey6JxZqE4yZPIu8hpNwAgfdC2FBzQRhG+EME1HpMnKoxRexIZgv8AjuIDAIMqWRkZEDIsTtW0QwCMqYpAQD4TkWnETaRel4QwtyFgwLMVKFgwmLayMmER5gk7CmyEA0kphDQQf1DAhpE6dhCgdpMwmDCAgwTMKMPAgyIAqgP/4NQgDChL//ACSrts6Q4hWNyknvI6KN7a3NBRuXiRlkkKJKztdbqhPpl5E/nQJXa1n0qTeol2tyYVqJ6vJpo7SEhWi808Vpp4ltb58S2VOyCtnmmqkvIrm+WaTt9aIK3tkXEXVlZZPlatcgqay6aXRRl83rWksOatY4ktT3ZF5Csmnms2IqRyWyCFiUy2iduthvyWE5D/bRWiOladLWVN8U1n0T1Kn6J+T9vU63JPhAUnZCysumYVrdDkuY7es6eMVqZSjOly6SdPoUlRn1jiVTX7Sa3S2bGW76JU7CH8a3mWkmky03WElIVCecmsTW9GitInu7OmUlIXSebciihHMQ8uieTdSe71NVbxTPJkW2dInSFpHScuZIVLvrvk5WI5WTZUWmWTXWSo7RktqfCifXVK3SpIxUUZUZYrbKiVUjSpPxJMipddO0yKMfbVLsVmXXJCHsm101KJvZNI7dH0Y7Xt4l8kXbV4TK7W/VLn5rHkc30KT8y1izsxdFRLbObrJunrZxOpi5rZE6Wk+SJisUxvvXCToQrYuGK0pI3SfKiJdJdwit92SqSTZniW7Idsi6WNPLp5kVSS68z2yKjkeMAKQUYUEK4Ed72u10KJPe0Y9ZfJdvLJJVMKjPIxTXWs/TYtyWRSUy03YdCM7s0iI+ZaTtKIs2SdFESVpa0TYjthR2xLqGFDLSbxOTJnZkUklqVpJZIlAb7j/+DUIBB8SAB0AtZt7MsnMWbLZ/2dnvrV2FZ069Kt6kWqnLrGHTwVpf9f/tbbUcx/AgAI/Y6cg+7O5mPrWcnW4R2eEjLkyWcNWURHmBJJBkSuNBgoGmmYxChEMbsmEZSIpKZHbLcg9JL3dDLTpbaqesKKlr2PQDVQW075kBX5S2hVchH9Rx+R5eMCziqFNyAqy8+x7xpkIW/KElGp42chm0qYonYmKmEYnwIkQgn3YzMZjGIQZODJwxBiEEJBEZBPDcQxHYMOGKQgQVBjlhApA5Wev3iWKXKstQXqWjncouHDocqlno7BXQHV1PDlK53dYfB/B0HZgsO8qvlxfI9Rk6M2KbGISDDDGVAEVoMGQhAxgQAygY1aiBmogJkYYaMYMwZhBhCQwaAiGIiEUQmZWmREThFdUd1MWTqPzsPlFKFVwrAXuOLaHwO7goLhwL6BXA70c6DjuWgvBwAAPFrBfhyHLRAsAl3i1oKRWIiphpiMgTMZhAgZiDBBAxBjCBgaAgYggYhCYMYmA2GQwMoJjCQSAkYNK2CPmMcwzRwjDticvyipy4UlKLn58BS9845cL7+hAAA4AoyvTFu6jdeTHg6R1qvnotOwpWKccpBxaqqK8FRx2BcIHji/HRA4nR2O07UIrZIJOTDOYmEIQYRhGMIBGoECYQYjAQggyMEIGIMCBAgghioDEDEI2JBgjYE05AnEE2n5jIWYfKXF5yBaKFECjqUpwfHehYKvFCnc5XD8ULFBVKKFUUpx8KdxVc4r9z8WnKh0cfC1BTA5d3CHNFITJn4lUG5ImCUwajDDIwGQECEEoRCAjEIYiDEGEYYQwMwxgkBGCEMIDIQMDEIEBjAiBgnoJgkaBoaoEHBKzFgcmfrXF1U/x0BZB1A5v//g1CAUYFACmAJwBpW+Vyt0KdaPOqypdqnEmW6ESLUkx6VOBQnzJMmlBjQKMqHGgxZOKrMozIciLBpUalOREjyKeKPXoTKdbHelU5EGJEk1KdrHOoSYUSBCgy6UOBSx0pUOXClR5EWJBhwJVOtDhQYcSDEl1JsCRJkSZkmFFgSJcqPMhzYkaXKmwJEKJTuWbWL7Ir2o8aDVyVZFmxEh08l+PUh0rMu5Hkw4kKHChTKsqDDmQ4c6DFhwaluhItzoUyXPtS41GlKnx5kyjIgQqVuFOnzItCFPsR48OVFiQIEyTBmQ48iPgrxalOVHpQ41m1AiwosqPP5XY8inShyaUmHYs1J9PNIsxKNqNRhyIsiLQi26UGJDizI8CLOgx48aJDgSJsyBJiTJcKFJgTIsOdAr2INGBanwIMCxhqRItOxNmSYkKDDi0pcaHDlR5V29JjypMKVRmQpc6fUj0bk+TIoWa0mbQhRqMGdFiUakmNPnQIkWFNuV4USFHpSZNanClQoMOZDgyYkKhXlSocaPFtY60aTLlSqFuFIiRLdiHAk1pMyvSiT40iTm51pEbHihyY0WVFubckercw7Kc3VlpT7kmvQjSZle9NlzItqnApT4sWlJkR4M6jZQONCJVmRZEeFVxWZUaNdrWa0+NCg1It+Ncx00DDHkTrMvdngTL/qDpwS5MyfWlzYFaXCn4qc2tNqUZVCjWm0cVWJGnypk+tdkSrN6Zp4TuMK5Qrw+W+VQgXc2Ope2z1JH3cbETJz1ZZWjvsl2+yWhSZWuDgxdaVLDGoW7kCjFnUMsiZBgU9UPjojU9nOVK49I2edKu6JN3RB04qcSnEvbUr7gsJsyYjK9SlP0da1jza7LKBpmXs8Kfek0Jl2NH0+BGAWzETAjE0AmgEhuO52BDd+A8LfOMBcALo8L1UEHuVI5fTBwCLUAwN5DCSEDQK4A4AAAXwABG/AA5gAdgGEgAKQAdwcin+Zgyhm8Vr9m3/BvDAPIIX+EsCiNhrPoeLQJ5QiCEDSUAtgAAUAA/msM0QEF+LpEAUgAY3IAEwxgCftAfP8MEELgKAO4AlgA8BpHQBhAmEINYBUAAMICsbgAZQAlGUIwphrABAAA6gAUjWXx0AcRWKQBzAAciAAFcQoBIANozBILgC+aHy+KIyAEUDw7A4gNwIKAVQAigBqFIedRTD+ABMJJBOs8VAugHK4ATQJgBlAAbgArghWG0VACGTQAF4BTYxvTAC8eTzsqBWAP4pAUFMJQB5AYBoAA5gkMCUC+UQ8AMAAAmg4DQlAbRLYQAIjyAf00AFQigJ4agIQ0gC6A3AoA2vZ1AAC0GsALYBsAVwPQOpLCkOgDSALQbwCACiBPz9QwEV5ACUAOpQC21HBPPusEIAaAAQ7DwCXtRGIBaBNS9D5YAL+oXnAQUYQogyrRo6lszLnRJuGSP3qMpU+mMmDY1AhlTRkZYah8IpKUIlECzfYtHPYtHkUBjRTcAnsINCG+m5nki60+mnShLR+PaWpXzylIQPzcFUjKgv4xGZr2lrdmEIYvEYEQ9rnZjAAZgAAJgjAE8LOsNhEFcwAoVA7vgeQAAEUAAA9gawHAlAVQEkigHUAcySrD+PYD58//4NQgGERT1IfHXAg1HhSf5f7RMgLEQqt4wmmqK2ZGPKhaNft8YRcmNjQpK3/jReGiVdAdRXoMmDNZzIzpeF40pH5C2WkSXYwrM+Xm4KisH41IAW4C9MCAppwXgKRqUGKRK03MQ6QC0gARsf8GsCbHVFlsyTgs4kqlaoTOXAGKAEsTMGRgAcZOsGNgBjn4SFdBkEjATkTEI0JwKyYNeI6Cgj25juHDPybQJRqznwhZspFWIGeRBLdEabwdlNYFwMdbPewL2ziy2lhbQApwDhJSApodWACCLcgRLkwztoz4PaAOeBJTqAUhrBkR7Rbx5yo17c9MQoD3A4nsEBYHkFoCIAlgXBNqMWpjhmxYf7hIwlFCY8LKE9ZebtSROCrgzGzscAuuvPEXxps48jfVbg3rURTEZS1pve4uvrNl3AVgAFOgIAW8Ef2hvIZiBmN0X0hAlgGDAAcMBWwIEA5mjCikNErB+xBTXWAEn2AASQAoSkgjrvlwNQEmBMBZu0+B7nAP+POqrQFIQpmy7i8knX0h7srf3WgUTdq+j9PaJxGS0DiEgRCX5BDkClNh/ChaVv6GkaWgH2AGQCHgATcZMGCCNCnlHHYOwR2++gD0gAbUZkARIBbgz4AlKAv8OWBBdWZiEzcDVAM8WsAsaBgFiAhi+8kCOAZarlJcREBaSQhFAxQoILzaCoH3Bj1hcipmnibgJuIuwRLNuornCteheUINByMvEnYhyoqMhDYlXcQANwFIAaMCSq89nVYU/B0jZ2URg/oB8wPunQNdkgp6j/8JKGV4/w1pLxZAIASofUft4g+iyb4XoajbUoohCCwlDaIJxWi8p/gvqVVT7V8TCw9hpYWlaeMgnZ/SaYe2Ohao9CE22kMjOKjNiluLmYBoBHh7Qu7AqEVJJVEYp6ZGIA/4CpgXPwA2ClBLxC3Fx77l5XHhwwwgcaGBkSjlyGQQ5S1+CNGgmWNl9SxniUD+TlYdFIEJMTAvFpGvhFZtSz9tetcps62G+ULcpb8mEvUCTXPRW0ca4CogX4OodcaXn1sjkpSjjLnTCwNSGjHPqYzlwJv31z9pJS04ZRd+XZqpi7634hCIBdlOTJuMdGtvCrB0FuziioVsrLH3LjjXTXJ16ryzl4rEcuAzKePYnKSqVCMJ2GLjms0VdxefVpqwGmkYKiiihq9xDRm0d467CJA3ItpoWAFk07GkT30cLW2Osat/J9hJKt7S+SUWCf0L9Zz6LPVadGE2zyM4BIpvX8hvZjViDb9L7QyGBqcNnEH8lNq0EQNppJg6AoKmbrh6PXSXfNy3ABQADkohn40RAtPhBGCJzhcyjCPkHuizNMpJrxFsOPLTpFHFILGvzGEFQnBw5COrk2s7TC91crTB/OgUW5Ug6N/WSSxZf2izlQ/e7MBZ2B6Xagep1kiwkSXPbEwXP30Zcr4yq/nW2BpeRFv5wfbEmUhZc9A9iFyd7SKJ0a+wrMzBG35PlGG5tGrI5GRtyZEA/5UeVhD+Bc94pkyaVvlBMo7prxlEfQpE1nBLAl9PR55SIVpA3AaO5Vw956Lzvm/3hskdLjSFAsiU96xsVNiyyxwCXzUQZV2+PbDzTXkJWJslM9HYCDqQ8gjt+z2Lo8VIc+5HCj/LDEzOcZMvG7gebxatV2OW7i2yUKuvHmYvxW++vg2MVjyWEVV6mxlFl7p2CS3QdnbbWJWpTsKcUsi2r82NSdCBJfyXI+en40hbBg6BLqRSDauY4hCVGVspze3mRKtQWJ/mwjUxYOsHAHDPYz9erFZgPET9IHDJd1Z1Du6wzu5zMW1MCvsBT+Q4Lkc+QctbmH+2pz1iZVOsCzAhJzjKptpHFLE0+KzSm/C14u7f5Yd0jzb+S32vZUmCajYx3XVWiUBaX69uvwUXvmPyV/kKHN+6WD1Oa9K2I/svTdrZPKSoPc403lqC2plibqxba1j4rgMYodI/HB9xA1QlkztcV7UNwsY3r3O76MaBt8//4NQgHFhIANQIgGdt0giOAyNCjtyqc0pmT3WRwVG0c+huYqMrvGRvkdqOY/d8idJSpR1iUOyRGgwSfxibSyOVmWwWfwmY1aARSC0e/4Ls8a0wuM2BI8lw4NmmdSSQxSfxuQxGvIHqtLJNksqXIb8tXGqZJJ/o7VIqFPY9KIBGbFHpFK65U75Z6hmLfPItRqRAaTmoVEJBYJrB7FFeNQ6voKjG6lJIjVLbdrBb7RAqjarnqr/apjCItYbJk9dJZzD4dQrbPK/TMTTpJMZrIYNRLriPjgJ3QcFS63bLbHoRMaVWYHRqnWs/Kovb7lVYhKpzFcNh6LEo5A4TCJLYKzYoVaaVP41KsHYpfJsnvrbWKPJaFX79mcte8NZYHKotNZlScxV5nHJDKJjbIRR7Fb4hAYjG7BGbDzLTPIfW8ll6FQJLUchMZbRqrQJLR6FKIBCJ7aorEozGaxY+RKYbJaJMYTKLzirTYJjDYRP5BDJtD6n+lF+ltreOqMwruyvt+pdFw3X9V5lkBgMHxfQ0eMx9Al0ymMShkWttcgEVullxmh0EdncclNKg0HrFHhMQ22pkFrtETk08g8VrEK2fc2MquEtoGLq0CiGBp1ekN9yUPrszkkYlFLkkHiFLmG5zEUzem2+aQOiWyJzOO0CjwSNw2QxuPUe6YvQd+uRHH3C/9D5yyIzCgxSAxqJ0PGV2IyWA2q8ziIUTE0aBU+U26TySMROAxiKYGsTG2Ryw5SMxa+8zC07I7Ki2yNUetR7O5qZWG9W3PYuh6So4i55Sr2yi4jO5jS5qdVGdVPSTbMzm3Q+tceuVaAw+wo8gdlvUgoeJSijoY4+mrMOq8VtE2henVjm22Y2yPQyjzSiY+UySVQ2u3SkweaZXWbW1Z2fQiCT6t0KWwaFafuWnJYuEQCP0iQ3Sg0mjYbS2D9+C3wa8aFNv/uOTZI7E7agErz+ki8YicCm0npeAs/SQevapbU857FMvsrzMpnZIztJCla0VGKZOmW1NGv7n73GR/Cf+T45ROFdiHP7iU+at0yUXCCeGPXNJEXmOah8u/6NI7ro99+ZmZFgkVklj01Dxn7uEsiFXmE/TD6xGWRyv9KH3Fill6VFseQ0OSxE1zsI5UCT1EJZvVK7KJRLOpE8LYXGS1xGEF1kpj6NKb0IpaL7EqJSL8n6PVQ26AMBaHk9olJvkTLTnibNCQyrtaLENfGbRoxehN0U2aDrk1HvrwxIlRNgQNBI2crXhKXYvYIQDQ8igLF3RET5OvNs5gGsw5vV93nDMyJUZJFRRy6MK4TB6lGofdcrFBGIZGBTy9RBSxgygO1QZUT84WiPmKccPZ09ATnQbBekvyly0zYhFdhdHJIUtAGYUdMhTayfQjQV1ClQdzH69eGnXYypwH7KopKnIqYIeUp0zPUAsL2T8/xuw7xCRsh0dwRIPWQUKozdyOSNkAcgPyCi/M+mNnwUkAfgh4z4vJoA3gNK0QS1TANgBJ09M8EUABLRwEO9yGCSMoDRhfbgAqjUl5mEzC0VAqccuB41pSQc6VhMyFWMcMTQEYywDzi4gN4FpCKAjZXghAO6LBhSC6j/5IrCEuKBavCEdcaW7oUQAkeVAHwAgrgBVw8TLAjJZDDF5QgDSgCPAGfAGMBcQ0gPcABmQPAANWBRDP7JfQzxkz6RQJ7d0JyaDhnm6ByC/gAb8HuH2pAAS8CrAC/CVnDG3OULkABBQfAUAM5fwekapJhiwFjCqCoz2FAFaqIE/AYMQRIgigICACaBWh9gARUJONoandDPABrhGwEpagBDQ6SwAD5gAa4fuwKOHsAXgAAH7KSJsfcBZFfAQsANZbwqQAooFkKmSUAAqoAIQA/AU0A6IJgAV4xA+IHjAFCBSx7mJKSAJkDPzxg3XNDYqcAQoKGDXywJMPX6w2GfACqvA1//g1CAg7EvioAoLPNxPWnjUunumVTYhFG3y41D/+aPd1hP8ReIuHcabcspDC0NLw8ZMW2Ar6RgIL9FoBjsP9cDyxnmu6Q2UQhWqw/Unwt4QuCG6WbdZJcYKqFahK0owahjip/PTFukzxhxxdHIQi/0s1983kR6MYsesIz1yXb4PArYlVlGOK8/MyEXWMjIcZKjYP+cUNEDkOER46mJ1kE0bgmVksVmVtz4ibBcOYuLEetfqQLCgusGSf0p4LpNtChq1GY8UJW6f8ZaRam+c0hvgqenySno2IeLEnHhJ1FhokTYZ8exsEWxgQEjD758CeHJ2jBgN+IqP4iF+ZklSx3SzDpSYlLHdId6pDEbqTnbfo846jK1N4DjGyuY/k7Ju2iby9TE8NamCnd8dLdq/FZXJlSdnGlmda7V5rTSuK9T12UWKoEtn5UhFK+qZB1HQaiXWO0GaScH9/Xoi1BHIrW1ga5a8TH7nPL1pUZdF4Jj2hJ3Jalc+lm5Sk7Jx24yyjA4fGscCPQyMnyqElu40MZmbF9LV1hEZ2HiQnDCI8CPu4k6tMNnZcuu+ifYmwEUnv58oB1UhKwGEQvUsMoL3pX+URUdGEvxabIks7LpH60O4FHCh2IRhmVb4t7FOJLqiNtx86FLEn9zmIxbB0tVbNt+NryZixF93qXbheUyEXtZcV6fdorCEQ8zuxrN2jb40VhEUKyFi6zQ9XtGUGpzgQYPvzBE2FTew6R3r9u1J2KQTEZp8ZfC0yRO9XU5TGU47szLyCIy/wethsRtQ/x4TYdSUWMB1HUjea5GedI+f3eu99w89MGJ0/WvkkUbl9iuIhMovGHHjXTN6IL1KphvKof6Ll+/L12ZmIW4RVup49XAiUeNiN3Ns9JosZ1ZTV6fQ74zcjr7qZMqVzxqJ0frwtPF95ei6SJU0y+LpPe1sDhGk89XeM32sjN53YyB6jHiNBbmcbUCL969j5f8LBWE6vN0yjeyt8uSNHU/eYj6GUaefrbtFe/th/TKNs6qfZihS2pea4Ol9Gpvg7QOB0Giih+/521tywEdYusKrjo93CIzZa/0zvEda3aShsCs0lCDMiBdhAtLcVZqnRPRFIwOoVAkkaQ8SdJO6sbScMJmfBYZOC0fTA2wyZIvFykRBOYTOui6IXfZyyYsYvSSnVnpIgxTSF2JeJXyoLzctPrqTTFDGyUM30U0kyTXloi/3yrPs1dGPxz6b+8sEmF5nCpIokqtx53qmQu0Q10VBB9ZVbMZlUgLR5qpVLKBDriqjLKftcFEHoeTa3CnejJbPe7OqJvoHOq+YPRndTvJid7LvKQsq7kQVWIqlbFR2gqo1mRHpxKI0AvJ+Jo6kcqJSZQjkW3bvez8byPpcfdUeuxwgWpyouk7R6Umy+bQYqbDOz6vMvZDar5VImK1pInq7wzprs6pdu4a4auxRG09yY/Z+jZJONtZp0VClLPWLFPoEbq3q8AdOb24RWFFeivZE6EiF9vocYuZbv3qNvKdfwkrFJqrqUazrHa2qqtoYY0FrfNvkNBURUg+Kx9lNsCDNRry3vizJ+28BYMYw19SqdtfYg0ajVTCXl+JcW4mpAe00ZZT3Cls6UfeOJE3OoVLiTOLfjoxBYgs3B6yl321eWuV7cnwYqbkVGd+UiiVfMMkAVGdExbpLoFN9OFNHne86Rz+19oSVEbq8zdjXauS1vM9a2lhRKA0MYmzTgxtzWVgrVQKndQCC8pqC6GFmgisP4Hut4RfwBpRRQhMaGM1GQmeIUsKkhzK5SNfHoOm/TvIneRFkY3F0TsLnKDtm6A43779FQ1UXYdUPEIPf83VcipUS7j0LmlfLyWBqkWSg1QW49EYJWQr1ga+FnouSbm3NCHrMQwIHkgYACixJTWkHrZLRFUhJgbmFfCbUfiBYuePDjUJtltVINZMmKJ1hRkNxhoEeTL1oqxxo9J6p+wfr/HzbVpN5259xmj92hIk5Lu7PeZnMOyWKjlMfLO0dX1NmLYbF2CLNQSjnRmL8oV2gk0BZgBAYHnBjBaaw1nttEDBuQOMBiIQMhgaJC/ILOgtKF3RGd31f8o6OfglCDz4PAhz8QfS1s0lAmxr6G+Udfz72Y24WwOhGUGbtQTP4/xe7NX4GW8wBIamf/Uw0WeD2/lTa7dmpq5Q9qLSmCEGGFAwAAyQAemAIYB/Z5SOlQ53OYDcgL2A3kPdVOGVwKEgNCgNXgTrCXpSdTN70fpB7UBBEBD0GrxbvibGB6IQkJMais7tub6FxbwUmGUhQomRtTfLbrnqv+NYF1WkhHEFVG//g1CAk8GO6I6/Hoi+VOAqKsk6zy1iZECgdgIkRcu96lJBHBOcjzq3eK9RPzq1Z4JWbRBZB3fKJFR0RaSqM+aLpeqZ1hoelMpl8iC0oer8ZTTiPCvi3ts4QYsZ0Hd9t6Vxh5df6o1tIfYHyHJuac3bcUipFMCd2R6KxHmXAGTEfIT4ygVCrWLcF3m/S9/I4PlwDKmmN+233Gxi0rqnnhH4qIjdy3iqJqgbRsKugM0MDfuxahj6NZPucZuVIVLQXqpDkXtvh73yK09rjg1HIeWHrf12eND9FT4ztNO7Fh5Q4jj3be+kyqwRBudTuLm00TG+kkxPt32GJPYaWbQRjTp+qtaQlu/xYoIfOYwSTUHV/Y3RhrDsgkMTy0FmVKNhVind8Fu4O8NvV+1X4dXXjchbqWeQ21VcqINZ1Ocy0XspaLfUJpYS4jj9nRMfrTUGl1CCJVvoLZj1reg8hCYczGgYzGOgtE1Ioi8rdv1rw7TPIj6wq8qIriRlQ3xCur7P9haohMjRz8mmu/t1AmfCoDrCBGxtSq+qr0tyznZRxPSAssrz5Z6TA3PtFuzdWnbN6mvEbg0ik3XCoExY5aMg9p3DcDaWZeP8SfDHoQzs0bGDpRdpWUTr5HilzNQlsgu4IcLuNhnpeizV7+mik8a8LNXmcTPg7nm1amx6mDsDn0c2jXe8M4Es1JHiSHWCoT9nUrqnUaT1Vq6Vaq5NdJu9t+rbRQojEqg1bJRxv0vPKImMNhnUF/hE8C8KSJqYH4h67BoctMW6gms6DbMncLvGXrii8ZV+YNM0j/lGYjKVqmWTM6isaYu0dUWKBJaQcV1cH2fN6J+/EPksIvbX+bqXQNcvRQFh1UyT11Zh3fvjJxHiqltZ/xag5SqOKDs6PGdMQbIROwC64GZUJxHACOgfmRjBzE9DlrKnP41LnHYj+UfwjiUltHrurL0hMp/6vjVonur3cil0xmpGlkfq1tlkO7S7azlvb2GnoX95WH1XErPHUIZy/7FFJR3qMLqQdI4pR3IdgoMZ3n/iKmuRpoX8VVTeGFFmwCAIQ1EIAGMgK9WDAzKHIdSHvLYvN2kFNBupBgW1H5U/6MQEQQJMFVOeMQiApPOzKYSeixX4taSqStKP7lokgkxV+aI+3UDax4DmvT6ampkZoRpX9HwrLb6WnpawBqBaGr8QYRWD1lfyQ+G+mK8oUBbZUEAbfCiYX6AOwA7Ak+A6KHjyBwQkXlMOpuDFBpRVYQlCyKU9btcoqDKh6yc5/kVbftToL0Zk56xEztIZZV98i/fgi0UQuhs1OmxqRtjatdGpJoaXFI9+zH3fJv1yAURpQUFwboeak3IUVE1RzWNMgqmLAiHg0QG9QAuKlOAg4AOKB5APagBM84OCLwSAJzm07xHOAk8ROCkoIQvxpLsjAsMOEIejFZtOt+aPtaVQDL1DS1AiFJaMq7AAucS4n1ZvOOxcA239jNVOhZ7hlg1Z0a4zY8xhMuKH5EwE62Q4i5In1li6sCqQcK8ymj98PeBggCmoAHh0aQAuIABXwskAeBACtsTwE9AqsHZww+RyDswVIpMD44ZbwHABVAIuC4GbRbk1T+vaTV0Xe8vSHCrmMUiC5JHtBexaq800eaqn9jgPPSH+WuScanUiO5XVnjCOXnoVWvjXNPHdFZ6Ruol3CK/Na7xXmhnNggCSxKMAD2oP3gFMAAf+AuEGDwAaJBY8DGAC9Dz4E6Ss4+4ApoELgUVAIOn80ThJYJ7EoFbSWrmdtZu4IsTNp0gt1nhFM36Qzq45EsJjaI0AEQV+e32k05xjTUOtC0upqlLKvdlDOoLkTzKboQq5W+nNIVBmiT7Fg2vVaUlt+EHgVoG/wACfItGAFkAA98CDAElwAXPO6gIDAQuJSgV1WTHoAKmBXQMRgCZIje00K/A8ESiCOYknSmGaWElkHeFkjBhLwQjCVxaD4seC4Fkm12Kdr8DVxz8h9RjaUw+t9izD5+fuIvCKeQL3e4/Q5KiMOR5JzKaony4Sk/b51j5jrIIrNKAASLAEWQGAAAbYAIqD7YALZgtyClgG5tUAZlEuTmwCGgJoBbMAw257S5eIJFDk0/hqUP7wvE3CqitJyORQ8wbg4yNviT9jhjR3DZKe8N5U7bRF18jFTL29z9nKZShdLQZQaVQ1NBbVfP5778gXt/c2WOCzTjJEyKWPZ5qWevHSgjEAYZAAU1PMAAKBABY5vkANRgHSRCQA5sJRASRBGnxQEagEMEQQBAMFQ+AChgQoFUvOhgUVddCLjd6ZlKa5mHEiBSQYn21mlEsAhpLRE+0ED3rYuKXR6v/lOL6+XhElyc9dCL1xLtxMQfgqjFUPRu4KY1Zq5C6l9CIbiNMv/4NQgKNRT0TvZZAqKmWvI02AOqAA0ggWAAe1AAEkR78B6IAVy60BbkHU5XDoWPgaTAc/WdAEOgAL4ARcOOgO5gsmc2AJYA3p7sNClAyuheB7sHCwSPUXNrCeU2DeIgOqOtkLHGxsofjjKSGPlfKd/JGzaSOSkmgyOVRdRSNQqbSm6WJWfXiLUWGUxRJ4U/knJD3HNjYRzSitIiLQfMAHWhQIAc9AAYBA66NUAFvhzQfHAi6UXK0NqCdIHFxY8HEAAUGAvQVfAy2KZnJAaWHUKlP/ro2abSoYOEgzWVvLjDLVUR/0R3lIS4NDfESh2OTAFlFYlZWqZbFEGhknyT+75CRl5WmT8+musMPZXxPFbLmdoY36Q+o9ZuUu5uSanu3AhQPIgAx8AHnhRMAAMXgAatdSABc4D4A3WAcBDY4iICwWzQF+QHd8NAAgMAH1t6ALhgdjqCB1wAtEaUDFoL51RBZoOZFywCMoLGutA5ESMCpoECWxRNIIuIbPDk05QDGwshA1p2v/ulUKnb/27LmkN10d/pwFvhPf5P8abL5cu6SiPgxqTQ0V6MT147Z78E4kP0n4wAWkAChCVwAH3wAFW0iwBmQAs95EAg6BmXugKvL/A2CAsSgKAooAauN4BmUDwJMsF7gDKwQUG5wIX3PBYIZscHCboj7YNspWpO8TjLH3UKkO4TlXR7vTxqQRUISJqkr7QtDEpN5MPmselsOJ+fXJfse7OSmo9cnU+W4easa83Rz30NDvJZwnlNXrOqZhbonpcwCtQCbARFAA8aAkuGIgB1oTEBy8DDbIJooXgYjAWpBkMJ5AAgkHpAERwD7cNQFfgOpdqHqTK7aQtsVI7SMnlj2Li7W7xxki2lUpxsVSOE6Lkd8298U+yNl63kgqfx19gntBhbFgmEf3JIdbQf6rOtFzxHxWYagr5NhQo3fqWiquDCG01qbh8mTAi4u/ZOgnRgYoAzoc3ABV8Bn0byAGfA5gEfwCK4z2L3BjZXcCl4VpMTAJYBv4WFAd/NsgnsBqI1wx+JjrVkQh7BxIt2Jp/pfAM4cNDkZ38owN5U3E43g/ELRKeZw+r21kQhlONu+sZJwh92kQDaTd4NXVBOVlQYlGVn8HoxjvZYpQJ/fvHIfqmHDjEKii75e3iXTaHUTQ7GK8BeDRRK1qkMrAKuVJAFGQH5c9AO8AM3TNAMhgM9tHAYmJHBSEDmJQsCHwBjbYgBmEApmyUANtAGqtFgG7wYdCpgBJ4YcGiwN4lrw60BJSeYG9wfZ/MBbIKXClICBZt8bABRZ1gRBC2OEwgUFeozDbp1FSwILFhDB4+vqcsETamUUVO73TL0Eat2m21S2GCglfFcUTauYCpd2a3yPaW99FNsAaNSpvPQTyHvE8jJiMQ36FhYJG8ib3fEhzB7AOTtHJylZURXHBVDEAp6LRyvE1hVxO5SEnPKk48cegOXDYDSYMqJRPPi8aJJYA1RqET/Jp/GLLIXOrkR+XFIMUIe9n1EpxqzgPz83J8VNSllbeC9EaEkVo9KN0U7aLoL9ClE04XVTxHa75UHsh39okn9D1oewKISLkbFC0mZKC0AQmbjBrUt+boDGSnwyOLJ/SOvW8IenJ1nU3hLxnowePX9BMXHMKgM6qE3Sa8dWig0ilj4giAkghmQv1ei801Kh5lj/nSeU/e0xiiJp2JiiGpEe0yfRM/TJ4nKeikTJbYgkegbYHPGVJ3dHRVnAj5XbbfA4+1yzdSK//i4M/S8hcVUPAaBCwUs1e+b6uUwssh78WPaDij09WR/F+cbunY3ih+g0npGrtO3YWVG2hULCvD4u6olNjmQtpoN0VhDHiiMVLlQ3pTHqklAJGUPhzQyyFpI3Sfp3IzYEGtI2vkNWaKECZu+/2HVrXkXcv3vixQqkkHMJ6Jkxfib0K4UxnoLGOvkI6mzIp5A6HsP4FVLhfsiwEV5Q27hlvLM0aKa1lh3LbB0YLWyPgpLabFF7fyLo5XCQk7Z80NojHmj2DqBUVibImdMB5GRtizVaulDcY15hJIaYWYombHrnOqokCJcwJqJMCOMR4pzHgbbSRkl7CyJo1Jyf8TYCQJi9ASBkY4kyci9BmMMP4wSgjFFuUsYJORmgrH+FkgIRwogZBWEUJ4RREkLFyJUTYzw3gRKKEsc5AxQlxFWicB4wQ0kFCmccBoYQMjJFWD8H4dQliRBeS8Y4nQkhPCiJsRYDx4khLGT8ppOQaiXAGK0ZIExIhdAGD8OoGRVjpGiEMYYbxIiPBeG0YIWxPhvGCH8X5MQph/EqMkT5QwLkBFaMcK4CxBhpB6HMR4awwg5AGJ8IYgRjglEKAkQYIwag5AyEsK4OQsgpDiHsE4Dw4hpDeBsUINQEgTCmDEJIHQEgDDmC0YoRRjhnCKAQFod//g1CAsyEv6AAeEtqipw6WJm6/BjL/pu8XRp9PFmZmGg7eQppi29MTmR2lrWlwikB0Y1ldV0dXUUN2W0DhzN5ZRUJRS83SUF5ERvthQc/AalpP1kVW0FPJx+3RxfPV4NfA1tPCw1pXwGxDRm1bR2JnVWhpX1ZXYFlBWFtfRkRzR0RdV09JUWxdS+JbTlZYT1tI00tcwETWyvHm0tTn8KR8eNUoXtQaF/1OwVuoUKj2uu+dY/6fYKb28fr9/eUm6GukY2auNJGcHB6JJWeyASy+VTIWXwrk0plkiE0jOpDaG5iZVRgXUfRQcBH0cZmztXTzfPk4d7O2+Tszd7S0tnH18zATNbATEfGyENCQkdBw9BMS0FWUFBvQshTQkNNQEZES8DB18VE6cDJ38LV0cnR1sbHzMXYxMTXwc/F2M7BwsrFUczHwMDLwUJERkJMx8ZPUEDPQMZJTFBPSV1UXVhUUGBXVlpSU1JWSVRGTkFMTEJCQ8VAScdARsJHx8PKx8nFycjJxczIxcXHysHBzMjDxsbGw8XJw8fExcvD0sTHycHDzMPEz8TJyM7LxsnEy8jIzMfEyMjMwMfLw87ASsbAxsXBw8bCx8HCQsLCSsdBQELHQkNHQ0NIS01ESkxTSE1LT1BMUFZMU09VUlFST1JQU1BPVFBRVE5PTU9OSlBITU9KTEdJSUdHRUJJREFHQUFDQkDAwUTBRcXDwsTJxMrDzdFGUcrNysrOy8vPys3Rz87NzczS0srSzdDS0M3L1MvQz87LzNPIy87MyMvKyMrCy8fFyMPDxcPCwsDCwEBBwUBAQ0JAQ0JGQkNGR0lESENLSEZJSEpGS0xHS0lKS01KSFFJTEpLS0pNTklMTkhHSk5HSEpGTUVJSUVKRkNJSEFGQ0VGQUDGQMFCQ0LBQUPBQsHAwsPCwURGwMfDxcXDycLFx8LHwsbGxcXEyMDJwEfCxMHGwcXCxMHCw8LBxcFDwMJAw8FAQMFAwcNAwkBBQUHCQkDDQkFCQkRBRUBAxEFBQ0JAwkBAQUDBQEFBwkDAwcNBwMHDwMHCwsLFwsHCxcHDxMHExsLBxsPCxcXBx8PExcPExMXEw8XEw8TFQsLCw8HBwcXAQEXBRcFDQsFBQEJBREFEQkVEQ0REREJFRUlASURHR0dHSEZIRUxFSEpJR0lJRUlLQ01ITElFUkNATkNA0UXLS0NOSsLLRkJFSUvFREdBRMtDRMBDRMhCycVAwMHDRcTAy8TBQsTKwEFFxcrD0sXDT8TARMrIwsLUw8JA5tTASMXDwsBFw8DOwERIxsbAxMjKwETJxMJHTsNIycJBQkXLScRAy8ZAwsXERsNBw8vDQUDHxk3SVOcAhx4gDWAAAHwAA+QAAAkwAMgAAvEMAIsE2nwDCFGAWYAAJwS4AKMlArAfQUAAAHGAHiA7AMSQ+QDNCeAAARBIgF/GgG+S4AAYwAyABVgAfIJw7CGCPFJGBxAAAUQDvEGF+kQ3QLse7vAAAnAG0ADdCtd5foJIsctgXoVwNIBdAGqAAb4NwAAdwAugAAACtHmAAAApgAoPUAAAbZMgAAATwAB+gMsAnBpAMVzgG8AAd4aIAOYEuDQZQJZvgNcAAnwOgAAAhGUAAfoAHSABbA6AAR5TgAABrOoAKUAAQYAxQAGgAAMIEgO0AK0D/BdgMIAADcBIgAAyQDBAAAHAPwAAI0DYAD4AAxQ/XiAA9wAAAADiAAAAAA1wAAAAACIAACOBvoUAAAAAAAAAAAAGOAAAAAAAAD4AAAAAAAAAAAAUgAAAAAAAAAAAAAAGWAvwGx5//g1CAwnEvp2Au545ubioMGqZpeFJGIHG4stFNy3dzygCM4FFy6mnUpbEyUFgwL81DgIVIAlB7dY2KUaVEHHJqRhnClSp5VMDPVD8baRQCIGT64upgdEBLjlWYZIWnM6XCuLDl7ysCozUUFBYdQiUYHEROmNW0cSoBHx7i8J/BVgHYHr3WhW6VRkoQR0A3V7ufcYm5Ql/esQaCFMIUVvLja6FcUErwE78n7ydJkAhOBZSFzoJKDagTk15pKIuYuHZdjgq652LOzoMgIOGjkVNUhaZl8i+XGXzTEYphG1waCCMC4QUMAGDYQwSDHb4V2Gu+z1fg+pZdDSg9rCicKINVxJEAmHBAt8FDKm36rBjgCQMVUBIGJcjrpHfLuxx96uO2Bqulrcw1aLNFZZegGi5CqA18dIhUH6ZUWpnCegibM+SCI78E1bGcYuLUK1gCb1esAN9AYllCAXaqGDjA5bHwx+rhgH5IFax1AvZDzkUggCJSGoA1DM7BlwNazj4Gq7/4CJgB5qMoISxrCOXBC0HZt8Y6Q3xm0QEY/KgSM0F5w3HG/IDPZYXUWHULmAY3CT/TgWzgE0gAUsmPwOPAKlwjYE48wzwqzFb8JC9owBwMAN76cwE6ASz0O6JhbZIqGc5kAoHNLiY4CnXWoCcYDLGsUBvwAbtl1WEn4GWZtrQ2A1KAyra7iGT7Sxto6YgBreA7IE6ICFkAMJgXAj2QkpB6qALxLrwcskZlPbzT9kQlgmW2KBBiPFQDXpHgBrvoiPduV3/cKIF6QPwyF3XL1gDYwcpgIKw1WPQLETF/I8ITBKyIXwd2EaAJf1UQjhO+BoQcnh3GCQSsscDgjiOLUIjJIBbWFywFUQCo2fwqgAmbARAJGAKNR0ISqAc3hHMi6JxSWJGGxRFYAhrc7XQEj43gCs9UUNlgpR6pd8X0maAuxWyFCQQeyXTjqvD8wZ8qkHXLg7bZuHM9v9vr24h+EepS1QTocI8yPo/UEuqSYon6/BMwtvII9iFJfQXuSJolji3758wHxhWPcafgr9IKA1SCa2jFsR2mQm4ngHtgORSmlrQM1wHDBYS2X4TGuoBygqnDYN3UQVF2q1sI8lNtS9ae4dIV+E7vnaXKDTjAWeojBAIJwyeTYXO2mKy+necYmAdr64aB3+5wLrRmYJpa/wW7EmJ6q+NF6SI5FjtTN2GXAZjlBYis5jbsRuj+sMenQJhaC9Ybgnk4e3SCttYp3coygjAJe5nLLpYv1uB4gMaq6kw+BpDIvvpH3euYgGaKtQHusLxAhe/N98vQRVvxL5xbdb59XqooyKl8rvmWvneybWkZbiXocDBUDEEdeIlLg3kLxVPIePMy2qJd9UQ2vsj81JLEGHabfNBFHOJQH6Yhr22dJeUPECRk4r+o6szQ+LKxtdSP/K4ixIrGZjhl48s1EmYqCmcvbWcrywQ9WaFq6EXYl91XHmogvOaFW5rXsUvqr8MOX/C/ZjySP60EjhKOx2uzUtdsutfnTwLWxHuov/yQfMSaM2P0nBN3qkqirGtPKnenCo6fteLPupqjqbu2IiQbE1r3g7n8gM1Dz/w19eRGYV8jz1WZzbyPIMOa6O/TqXKFUTMgGLXqkctH80MqNCFKsNskEVV9Eb9rentUOrlPkqFHGSvYH0KlNBdo1AlDRAbHvcROux5pwbmJ+Pod61//IyjS/OcCSm2nFqbDLbFtB+ifQmEKlDrj1si2oV2RnSi+W4u1by6eIYkUp2d5lqRJtE49LVgciPj0y2Gn0u5NKNT/3V+FCUyfyNiMlEoqFTwBWTXDCRGpwFYfMHVbKle1L1VnM/RvEBSZMhfdQVdHubBlD37lwFEvI3DDJ3HDUFChRHJD5JQlCTYXkTS/JPVtQxSXFlXTYXP1Ujd3VtJFCFJbejKjCLDJNVKLKnLvC5L3JtLVMdPHhrC/G9ZJMNLXa3PtiVOHRhRHPvOjHrXZYVUFfpI3k/d7KrZtpNb1ETJTDPc7T7A5BlTRBjbosYQtRUJzUmMZy2Jp8hoieoxgkjSmqgliRmwwarAhnt14l5n1ZnTkGjPsh1h5XyBnxwl0tpTkJk1oXsNshkphHkpq7lPmqmwgVm3mliXj+mCgVghjumUkYlxhSm2lKgGhLmqqenYi5ljiIpIkogsiYocjUkqTVPfGwV1nDvjtdDi4ncZgbZW8TdQaxjy0wR0oV8QlVB7Vo2Wx7bFBzUTJXjqoxbMpO9adYe+ek7e4VYRJu7kbh4sYmYKJXr6LWIc59YrauLjIrpqYjL6L4IBbf49awsSo1pJYW5+KOIJow5GqZImoa4jqIqPoQ4A1mx/kItkeSSVp3BUUGCeowMTaakYrTQU3645dxV25XbR7pCSMsyZK+2Rff+1f86y9euqtUFp60a/GdEs1VbE5EIMusi8xWg2sGIFqFilp1h0r0fcBlbV2UvkltFMiMZ0Q0n8zsCsUUJ8W8csUMBcq0ZEMMIMgkrEXkBsN6VQ8CGCxGlKWwD8//cNZhKAYINuPYIm/N0fPEsctOFJkhfALH0tVP9wJIY//g1CA0gGApdAxL/N/y0AiTHEfzjN+8y7bEOnzWSNxyWzQwrUJIWqbAjgX3D4F/I3HSwyNJE2uEdMHI3e/E9SFPa6+Tvdk8tCViwtZeW9vgAgwTMAEHAGTAdAAB2gAiBSQACjgCSpEAxH+ndKCHFoZ0EbCP8I3CjWFWhHPQm4NG3+PDAYZeGRwkfg2dNXlMW73cSiJpvr3/MIhNiuVYUpc6zx38V+wT+mXjOJO07gX5Fmtsaylogk35sqkFGTBPQP0FpALKATkDuABqgBYFHAF9AFDI2DZFS6WlHsJZ8Ac8eWL8Q13XLc5BMH3ETGdkZlCQSZ30kIFGyzrb08wi2Bcrtb4n6q41TvRVUn4TKX7YuHiZESSjaFxexgthLNjhWtTxEmWJ3J8LxsGewZkDTQYB6wCu4wA7gAxgMMAwoAgYWN2h0MDgFoCvGOI+F/BlyDMI73bJIIRWl/GjdtMxtMXxJ45WFyMcNOhNU9yCdZOtXz2DxkElcvharOJZSLqy0S6d1bdm8jIQV8UznTYLo1pL8ItxOlHOXLH8XwC1AeUBXQZ0GQA7gBtqSBEw94havLuQLPBPBKrcd8b9Cank8spwrBOJOZs08Fmndm0NIIryjJKwbEoHDpCqCXPh34ObvoXnNTvGp54E0eWGWWUos2tBSxTL/dFXrPAytU3N6kCBe2OaBF6AAlAEfCfgQsZwaQAeRgg6Idcf3xX1Bp6EGNwYoj41pT/Ox3ZvDfC7UrEkdRlo9kguImxynARvBl9l/ttGVVh+EMwbi4eUYm9ZWnKIrHpgP3it4/8OnDLbGLS2EVWg25U1ah97h2AsXdUAGeBfQyYFdCkDeAFe6h4xkRl/kZes3wcwX4vl3Ccv7i97VUA3xyGKmSBvWv/tunlSzuPsqUAPyiKE80sCVvRFnUzLK2lSe1eoRYWSsbIet1clFO27DbrRyWM3+DknJ3WVh07+EvyV7RcC5O+DFhwVJHsA2AIoc8pp+++WmfrW2AOkaSGvWevmxNQUTTAqhbvt+2RtvdTFAdBMRDF06xg1bhbdpdT59xnqhnFoqb8XwUq3o5BosiWr+8MgqNqBKK9z/5eFlpGftmNhXMj1h9Cim2CaAOKa8JGPYKkBqEFae0iY0kePFyUGIF69GTGnQ4jdOFtYrxCfbSISlgcE2KWuW9mIIIzyB+ne7t50MvUsWS7Ue2+AhMAo6pLGVJQ2OQezQlo0U2PoY9/JVKd7LO3rojw/FYeN/WyLuBrC4jqho8yT4NgFqLGiRpZGdcrr1usCOFg7zfrrObGlJR0K2RyL5fODQZrgys7ejOE7kj3D61K1/tAY48lJJs3cIkM64sIosnaSMxjGyCY8xHc2km/y2ysOzyk3ueY98F8kdzyqisIcKuJKdtoFUAkHVSRT8ucNySMxIVgzzVSZX4nuWJRFUSXJZrIxftJvcSwaV21QGEqPcom9q/FVmkeTsa9mkPr01iyQwX+X/0WGnW75pkQFkG7YS41qw5CmzDE3HCV/kcHbIO5QXYEdSkNi8UvBsIZLFsVf7nfI+4ZvBNlyv0YQeY5NtW1dSxZRQJrRs1xemkO1sEfIlVdte7bWf3YsDrsBfV018e7Nyx9QrUto0fRZbf189peYjDKT4L6kzd/Lw3CLQmz0Feu6BUgP7ug6KpawUZKoIQJPYiFHXdeyMH8+HOluStKYtKrO2Vr1WHMViqWJafG4K+Qi/JUgv0ydWI38ufgvFK7xt1sIP7qAheckFax6zfuxpAuKVKb8s7vJpc6Nx8NW41HZlXfJ5Q2AgO3GbQNKGUEK8JTPaiA17LlRggnzXJ9NZhKNimrJ3FAkwkCCKClEgsxaa8xaqU7YQjW+7TxPuybUppboBY74jPmuNy6aDZeZarP4j/oVY4fm7ZFJFZLPS51HJndYljs+1x6Bn+SKP0uOPpEUSby99F+TkuS2BUDrk//g1CA4pGEgxRAU+hjhpAjSc0g/FgqTVpPkX+UzSB4cU9MySiYR2796W1xPanGq1lsvyNDGvgltm66TVHDXOc6CV2D41aFwqrYG+YnQQm6zu4TPTrw84+2iEhZ8pO6mYW5M3g4mWKeQsxqClmIt3MpvqTIFPcHqqxsozoIXlK5B2Totn0k/3VnwEZuG7RXKQmSajF8Lh7jSxaM01LkpXhPeRW5hCqTAb6niS8qrwqI3bOxav+JPVGVEEGNPsxf0n+yICVJ2XCIZYxJ23V7o4TWa6HZTAfFFy41BAF4g0bgluwm1yK3w5LJpB4lieZHEhq8JhmY5FTssilm13mPhOyluq3c6veUnCCpkluul9Aj2jq0VjUqx8cpHtF+1QgKAi36bgDAQDuOFnf2Kq45bRWjZbpLqLOOfiye6vTOBpJRIvukEBSVN7ZY1GiWkfN5PbPYZz5dGGoTm8TBD+dMaEnLHYPFUGPVusrAtfQ2M8ivStMnlcVmUBlGxn002w+Q/9zH5vGTCJaq1FQy9vG/WcSErx0He7Uennj8LspTZGaWieQ7D6ru1VNZ9zyKZPFS6xzvNw7R5qF3KlR6MYeN2/JQKtW2oRiiRLozSDY7Myil0StReQKqvCC/b87BNX8HuGpXcJHFLEGkxVuY6GMKYcR0orcAmHqXKtpXNUXVUuboL0pyzcdI6lC/j2Z/IKg/U3qs75crodq+P+iaPRCt7eq1SXVywx3iT/IXXI0X2Rbk871xFiunX5fcLPtp/h+uFQbgKe84d9CjEAuHlaSHa8xJzx4+CDFBVkq2cNNrgkxE5j4gzYJcixZcWnS5tXt/9CDkRhcedw+H0YVpV6Wqo0+Ax+8yGO1XJLVsZTNsvbMH3nNYiDzDv4Kiy9HEHiWlX5I/so4IlixUQs4k6qAjQJNSef6UBOqTMKC3AFSBkv7jwrdUxNBODbxrDhNs3beuK9iaqf+b0bL+KEZvGzWp+XNQHcMNBOzdFZimnS6Z9KY22uVSDKLrk3WquR/P49CL/0kPhsBSTt4h4wogogU0O2Hz8gZgBfvUQdc0lf8XMmKdgVoBLEkOiJWSOa/Zn3JIoGAWKKkdMn31qSVKU8wAhlJohpcyuq8cNHtlOOFsmn5Mxm/CmGs5KoTeb2lAbJFNtaZ9qUKwje95TfVOPcTNxiTg5hnAV0DljWsoBQAHitonaT+M5orb0zoBCAHuU0eEY/V0EkgpaZiZBnvEuZdzTrVI5mRFRHqJxsDMtnc7NO4jDmMZTNMiSmSRoiCVw3bmWlspIfc+YsnGN3Jq8ryiFfReMmgn9DW3/uRiAEsFNB+wJSu47QBfghBXfOcU0pDxH5yOsAVAihSx4Tc4bBaM5JVhmC/YQaVbU5UJ16BXyXOEqyfkp9KlpR6ygW8qmRtePT2H+95IMxSBzWAwyE/20Zlst3zGd6GEnaG1iEV8gDIwrPgON+wNuAXsg4M0AFGB1gv4fcn9/ade3RNgAKcFCCjgqopfMHWZcz+5BYgr0cDmiYqiTZbn/neqCGWpOxFXz0DFRzFsMlEIsa173XslBpSlkZoPybmBQCQ6FWLdC48yKJMCVJ07JVLH6pXHgG+DRgMKA24ggcgACyOIHfBtQjqKMm/BEQ4gEKPcBPRlyP+Il09aVRheiqVEdES/xsopVTk7RGYSH1hXYZci6SacpdBJYq8YLa9ESUTrqxdaLI1LqCLXmuxLLa6u4FU02vP+R9EGJLs3oCGRkASMAqc9A+wAQ4DsAICBTQi7qK+oi+mQAY4zQfMHzv1WNs5pF94BgCQCFiklPniea4vZFD0b5uVFc3zlOJSqXsPck/Hfu3UCb3hWTeJl+V7yNMvn6IjPukvEWa/Ep6ZSVzQ05Xqml3JAMgAoIGpAuIjgMMABUnMATMD4lph/ACoGLEsBGpaEHIu3dFIdHb4mghUrb9521782AnZf/4NQgPLhbQcMxFyN8Cd8vSUJduFN/09PT2zaRiVW2vZMx8zHlUfRG0XT/EFLSvUMi0hhUPQJRMEShWnD27O0LJE5FuQ9S6goEHXi91oAQ8FKXAeG4MmVXvVohWELedR+Ou5rHEosp89VwowlKhEqqzRjSU32FiiHI6l3nYg1Xx0E3Omr7tMv/z+Bi2U5i2CjK8omUJToyRYEpGpqgwiubPoKRJ1lOHLrxqIK0C4ChD7wEMhCepgpwGhO2MxKVIBYSgfjZGERF1S2qOIYsmRQLi8aOyFKctzZV+HydQ1S5RUXgRJbf45/EKQ6VpDwK+rRH9f27QkX1xC2kTDeF85JGcSY/JV1UVTljwnU9TVTJEXWPN2Jk5AiqEg4cDJT6UEAUQEKdkam58QL3+z3OqA1Dws7taYYe4Vk/3ktGnMc1TNVeqpmCqea7SdrpqLH4IxVguix2nKxs+QzUeG09X9BR5Yl8SpGth6BR8fVTf0HWtOcSw3DkA5XDORSLG2wj7hgCcwKRBLrLRSwL4NCY+5vFyI36rPqong8SC1Gx4lCHmEu3rc5wTgiz+/T3OO4lmWod+QZPsn6fcds0CjvIdySRoV1/n6NAZhBkX0hg1OQtj8O2dT0AWzFURbpEFt4jP94RDQFixrZwMuT0KxA482/pw/oIWVoTbMrhyoV78v3R2z6mwxT/2TeOp1pf4CxGwTDJcaoHl32Y/yBV1dWH1cQzf8/G3Xm2nd11dGxPTPZ35vUuTNQ2GyvxkFT3G06wHgVIRrcMVy1feAR/GlGyDDgExJkFAgJTOHucJeDfEeOhwFZ56amdL+o0xkn01qlSxOtTSx3NBDRfUyxH7eo7/KWI1ErK9MZuGaUKyZyuk3W66tJAr34+1trSqF5qSImlenNLk9D1SyzNUGXGgCIflieGqYhq8ECydH4ZcKiI7Aq0Nnw8jYErPUgJR+OjNXO776zUi3Lr2VFymlroxaDJBKQoKGIskXqWe1XDMfEbQPxOf/Mh+xVS8rdjdrk2mCrlwWGp6nm9re2jBZA9P1Idhr5+CgLoptyXI6qiKSIvijH+Oq11gJ6j8E0gXO0WKAIMGdawYHJRsYgfkbGRAb8rRp+1J0k8gdatTkLCDP2sufbBQvmq390UZwk51h/9T22nFD6NsM2C8IZQHLHQ1TlCmLRjiwrZuSLPf0f/oloz8NX7+oIrqOPs45vsoYqFBoI6CVjyQd6C/1/mtAaIxyu99+cIRXGxWGD8Ao70Vc/BrCpdLefCoiIVhEV53CmVKd4/PZBMXNR73/szLWqdUz/k4hIVOJjTbRkL1vQ3fWVf1rdn1cW0JQtLVxSUoSDi/4+VQcpYypqr5u6N8wFAT+DKQG9r99wCJggK7U34gIhDU0bzYS4GROgEPwGQ99L8+PQuUwEOJQZ/Y00knslzmYSVCqOBx+u1kovzmDLsXtbl3S3AKXeBqn3laRTVkHWfBOf3PtrBqWoOO4Hk+HZqVTVm8ZR1PnUXI4GaEQAg8BgJx//hMwP4R0k1IBt4N/Z/GO6BcQTA93GVJIpIhqNS9SAgQvLw4AvEQquGl9pRIIG+hoNwKzfnuMCTChozrLolTL86We8kaFlMYtlnmzinG0cEgGopCpanqCTPztGQPjHCQNpuSTkBOj4AosB5Y1P/x4wGiOu2eGirwfuXzECMg8gIIVjlqBuNNDs9nfqBsRxXT0tNYs0nXl8DWsKA7jn4eUSbP2MxyoUMQFDMLWUwFvcKQFwRPlecDMdGLp4eY5NU5iVYdjfyH5KweAJmzLQo7xRKoDPH2AlsBsYz9Do8gDePEiBjh54CGyd9VwgC0gwhq9UtMdieyl9VLYAWsWJ6c2Z2LFJTXj05dA4q8s38FRa9Ur8bcJzRRSgIiRCtVXdK3yrp/3WUBwqi+j0vabWSN30WRPRdo4X29N9si7lrMWiTgBxXugYaAicwvIAIuCYMC6K8g+MG9vB5seMDeCul38hZhg5dfz/CJKDbljXPAjuxSJHaRY2FfGCRdtMssHLnR3L+2CfioqhxeDG5r9nGgliNQV4sftbJ3VT8vd5UXkWcm2Kdi1VV+oXh8FeWk0EEhABuT//g1CBBzGP8rFD0oEjUMAkIwFtBlQsEQiqp+II3jsIUPGFsKMD2yXyErjEHwwgQzIUZsYiG/YrdikesklCtFtTANrg5a9OUTlnHFvfwiV2/9wxn8LK646zt2Q+uu9b+8dGn1RfAuoTm33TrnmFOVLaCliXjpzpgLmAK9AovRQ2o9wGPX+Gu2pHwMbIvHoEIBGwlgVCHvq8awcaT/5B2AhAkodKSzUHKsXs9DB5D9r0IlailWTsW73sihnBc/zLg3Q9whjzUvK0sLj0e6ntu5VRQk1ddNVS5b3Nb5V2EobX6lbZrh4N+GIgUCLxMgHWBnwlYXuJZzIykd6xYTEUoEsJuBp5x5ViNyA5wfs0YSVEY+9ieCOdzNsColYEKV+ZyomfUO6owjxFDfwj8ufMEU+fuzoJCTtKhTOk05IPRoKSlBXMWm3maPq3dDLUIgvie/iFEgWV7gBd4NrMgCTh0QewKRHTveTGBg8pj7ifA+IrYHNn1krZ6aPnKQiNg56Vx8LN7Udj0PPSwIcPEqUR7wKp8P7arosEzK6VyS7ivK4jlHQast7LGool2GI5r85HWUrQsmt1WwbqiJ1eTJFUP/k311AfUBjoCa5aCyhEAVVWAoPE4tBk5iYUQQIPGEBFVhBPUYqbDw60iljVPkKpUXVBurSbwX0dAtallGoLVKluj8iaM6C3ookUk92eHTFBD3tm1mW0OFBstRloWyl+U02u5NKTmpn/vAsemFeLp9Eb0EUAFxgwO4CaAzwEPbGPvMSIrA+vMxQjmAkQN4CbxWvDd2aja1vr6BdnYCqW10WwFXOWRgYwJGnBm7JXixfD8cKYb4lDVmZksp75aMqdbdlVaSx5L+6d37AK8ozSNf3KK9JYziGZT0qTO5F8H5AeAO5AIREKjignwJYV4d2nd3w6cDqXdBUgxgIujgHGo7KiciGtrSPaKqFpKVCT1XvULxfKswlAvohJN4iGp43VTQKZHSEbUwjEtO85uQHtUCNKZxYLKV7yZhFC0P0icqUlpg/J5lKV7xAg6loUywp1ogFFAW6A1XbQREVwCrtoBevbESAwEHoj7hIAsYGkHEgTPph/waKSC4zjg4ASgLvCsVDQceDKaZFgDhlkF0l20no9a51PzcnxWIhErdsv2U9dqIFTTZDmWkozumSkazddMlhwNACn5v/ad5N96aY07RwoPoO9AQGMVEACyBoA5I2sh3mDBwY7Jgw47oO0UcFenWpeqMbXkJVQnAtqqjWzlYMylccdEZEuESYwcuU/CuB1FnSjkzIYiZ5KyUrw1YzQqE4aOc3plJfw6oly1IbtaAqR1OEN7srGrOqC68YZOXkG+AQOAs+Lxnhkgfh0wqeV3dA/0LhNMKcGiArZxIMbIS1oKTMhQUXQPOMsGPk6sqbGYGh9SB2B7EbMl0VJtP+74uaCeGZXOmFS/q70rPSXOOah2i/jTjjV+JLrBD1cRX2yAVUp6mHo7GRFPOIq0YiwgFYA60BjeEhETZA5I2YbnprUAUSHrlKEVCvgUtRoJJQdhQ6sU6pB+A4wspbpxdMZKV6TOlwvQbhpid1mplpJnuhyYfc1i4KZMVWX3EtsjXs1aBNelg2HtV9RJ9rDr87NfkqkQw2qJA8jtUyu827Pb6gCtgUiAZahUN2I4DEGeCC5sLYAmUGSkFExDOARFfYSal74gt8XPYjegmA3Jnb9duUGbn9+Jk/BLiSmc+3GTD0k0TWryj7oYYDM+WqVzOKpUSQ97R9jsO9bDjiOpx+pGFkM5xHUIdteic+jjQrgTfvoGeOnAb+Egv8IyBxQ9QRj65MxDYF3k5o8GpARozY93Re4MJEFvnp0WcPy9JrNco9WqglsuKFTHYY1Qeuph/ldMALEQVpntRWgvR0o//bnuJCradaZu2DpoSPI/mISmaWfPk3Poi12bYF4ywM0LZJiBqwaiAmc1suAuACkiHBTvaPcDYwVPW+gH1AVRoRVtuYsNFEb377YtgX1Kqc04QaK1VKjVHxWjFI/vqZEr1W7Hn0sPAoHRIc3m5EytPghqXBTjJ8YT/TlI5bjqJEOZjR8R0tS+eInn27ktKb1jM2RB2A8UBOZ15hhmQIKLQMZZAygFLggnT7sHKAkC/iU3bZyJXfiQjG5yRsGwxkwjq1HlKpzRw+jRo4uCqsCRuxXf0NR11GManOoBAZv/4NQgRdBjY8Nv33/TkKgJ2jo0FQt3aFMIWPcK3I1wOnImQ+ly1udguoMdiaSNYaGecELD9wL3KBZo7AEjFTK9RRwgv8Et9fYZ+AZQ5xCtQSoVST+YbAK4DLLgtChrW98n9BtRIuy7ZMSxiiOV+VEMqJYhu4c8tq+47gVjawo4z3C2hWDf/mYrnO5JcK9yrjrCQP1Vq7ylSF+ttv+pFBSTQwIFDK3MKqEiDSpFwR9Rm4KHOP05HgVU7aQb4REhsaiTj26wHVaBEaFkRZWr1q/j9cgjNo38TgJsVjtPm71cUmYHTHEQbyeNzhX1vxTBe9RJE0R5nl0MTQrfbMOi6O6houIPOmt661rDD3JLDoQWnbTDHcBNEo4gX5HQO5Gp1fZgto3KcpVNkw0/8zNkeQksNu223n0bc2dPbg5oUha2A6oyK8Nz0VfsxeNFf+8xYkyZwplEf+ImYfA97QBhlQT77KRIUuvtdIuCv9Oqvn8i+BBvX1QFYV4OjBBqYVYCuBY3X5gIGgIMnGouTkoJ6Mcy2qhMXhkymsk82aSYq5Xbul+VkovLy18MyC+tJdJNH1SSmFKNzWR4N7UHq29Xbm+B9FmcuS7OtNaZtSs9CiOBsH4Dm5g6yj/1/qOvbwyQlxnrBkwO3Ck9LiSHgMcmtc45h1we+Kd4cROJaCRopykdZSpQP5nwl7llNA3mHDZJMmZNq030rw+rPaaYZcFwp2f6tf8KO+HnPYVqnKV+LvNHiY5Z46gpFtKDLhxyXb/gCjICmKPNt3ibaaRGgR5I1wQsEFh6q6eIQECgOJpc2B5hc4VyYOwcXcaleVtk0MgQiZKIrSb7j5MDjFFRYFRode/rtCf1DVU2Q5j8kpqnqmHqEhuaeHVpzFdrZ2TP78hix9D2ZPEp1vLMDVnoEx4HLvhUpbspx3Us8XNXoYc7UL7FRsCpUT4XVzaXjptdD+1rkR9wTwaYr1sRxSBSXybfRaaT5A8uoscBaGxp5aDwWaZ7KWLfcx7B3a1ny1lwFWt974nrc9Pj+ap+rPB4m8KRbmifN7e1Lwc/9SHb7SVrPYpUhRE8OeUEmPPCxx3rjraFhNIdaTIeFlIdyrkitMhzVCXy5Yw612jmmrfui3Lhg1BTksMlYp+j44o7YeWg7LEtUYpnc9qg/y5XRNqcvrQVjGeDaE69DVZyRSmbXvh6sLfrmQYSnO7rk4OXJ70rf5u1EJ42wGDiu6UI80ARs5/9hg2kBZZj8rXanxPnmq+FMTsem5fnvlv3l4I/QxyqCB6PQFTcMrHrNdzpu1wOAo38CAW/7C/SPebiSWa47qwyH0He5CXk4tdPLcZt6UcoRBj9F0jIFTYxi/n7FVwW4cWEmiwxAUriVNOIfLWPQYOaek95+2FrXrspLyzKeQu8PzYljW34J5hJVYa3UV8yVQuQxCpiWtF3idYLgKCPbj7QsJvbG5/uqvK9kvDaSzKTqbhuBYdR91ej5Fy3S4P/2jwtP3MHeg8Cpgd6O1N8npfwiAU7Dge5rgQKuOR+hZxC3d4YMKhhoP1yDDHr5P+aTE6cEvWK0/SBtub4tfLjloyhH6Boq4ee5R9D3fuaDV2sZomeT9WkmRophiD6CiWKYNw6uZPivQMpliI4Av3zt7BeQjMORFQhc0OFjaWTGoINw1YMNYTOfGeVDjibCHdWw4FUNWUghXBdR0TbJckvEUZYpOqBZ+u6DZXi2V4q5C1nC8lS0Rc7Sl2xukr5YNlLCvV+yIZxgmfYu5apYdtmFcA0r09HpLytlIyOyBdYx+ehh0oIsFC3AOMPAI7OjWC0TwE/obnV1BsmzlW9tO0Kcz9qc10eojHY17Y5D9aZH+73JPbbGCYu126TO7pJRiA/91CuJN22TILzqB73lHgskRXPaHq/jSdsr2dOFuazz9ZchtZfhVwKnCwX/BGjq6OZTX4TkI6M9GOrw5xA+Dx6gdHRd1isZSd2iw+rgy3ZHs5AfLlEKKRvn/kZpBcmt1vaXlPLNoOLF6QrpN912hyUs3fa3a6pzq2SYNQdsD6Z2SxacNUrVcXI2RTMvaYXbTRwaVCJcLv/4NQgSfRYOuR4wK2ACWzWDsIc2UeFUAir8nZ033D9L4EKiX6QEbfF2cwJkKoSkot6Mf360tlqMZK8KmI3UQproM7suYa2kvUcJmF5k9WXDdzTVKFLsHxuKNu3PJYLm7+NGynkVeRxJ95yPrk6yXWv7V+DIFhB9IeaSoj5fZ64cjnANqH2PfWe5oiRRjmzMyg1PMchTV11MORt+ENKVRf95Vvi13Lv8+Qshx2SXVmtxW1Uq6UC2Z0G1XjBereds25rN1/FIz5HX9t0Zh05fPHHra1MeO4TSFVSTJsXX4pcKUDshPoCC7nO6kN4oF0kJh4AE9SO8OCCWCgp4LJG8oRfIvKpYc2YhYjyAtFSWtF9ax0V3jjsqJya0sLMOKk2MNL1tINUWja/QMeq+oOYkuV8PQmhHDOJrGrcY5qOuqgODqD1iNr52Gs8u3jE7ZrIC9kDAk8FPiJl2FZhDoea1gGACRiCaaJOISXI2M3UoGVvI0bLalOMMYQhSKQ+z8VlYmXkdrhi1F4LKWYmLINu3WvXl2XMkQ+fkimqEYdDWry7Jff/rLKiZhjZOUmQ3jiMIagSPbBmOK6ZlfRKRu2zChAe87kCvTcQpCQj9waKFwhWAG5KGFR+wdMFgTIN5G81Kz6CU4rTLIPmJ2oSd0zzgi0XGZ7ldOopWtoBTT5nCVjFUjSYqUtm+aO3rgq7uU55lyV1MyihuK5uNX73zmJUZ1yN90JEg3Neb6uC1+dfjPT7p1hMgLoJtAt8pEG3aCN5Aq0IRDtgEvWUEopICFAxK5BxY7NTJFX/EhuneIX8dUX8vUgPrt7FFslLherr3rdIQkWtECimHZoy83m/Yjw5IMr0+YITNCSG8fwyu+nIt2HzamX1PF98Iqz/p0+uf5Esml41/XqMct2ewpYIKCAQYfOwRcqUKNA4nywEPBMh+7zRpA9wxBOI3Mg+sEsf2R/SJUxyxB1/fbHUWLBEAmRoX93K/KeBhBXjbvWqaD/5WHVahdTk/ivGqpJSGo6mfJ0n5XZ7b+XyS2MAxC5NuVFQcsz3J/V29Y/43lXmAUK4oMc2kH0vnBP2MhmIM7VSE2BXyVTgT4B/BLFdv9JJ2/dkE8bRcTO+EvNQT/RkyJfJhf+4dK/m7KQYUJ4nTJAbtznhmB2/H/r2HF0TYkUhyk2wnPCg532Noq3fShuG+E+zFJOTdSHh0rItF2TSCb4kYtMnSiPgoQI/DF3GGxGYi5w4H+weQdgIzxUZsVkaBRo0V56PKH3PQ0S6gJOPuqb+bDuKKxAZ768510Ww27KYdgo7vLeTYiUiO99RvOIpjql+jaI6oin8hoSuSV3Lx9pEhTLAqPFpIGzm68Ijmu+hh/S6cy6A54o1mgIm/MCPXgh/0oi+QbOfCG2AnJYYg0qQzYXIrAUeLDlDvokx0iG5RlQta9MhnOU6XRSbucCkmE5czRTyalvOG/6jb52VZ+B2XmNJ7trzcEWT3JMhTT3/xuz5OHNgj+5q4vxfSTNxRDFlLQ3qqMaU2SVJh/aGyzBJguMeGtwxA5EXmEa2AGkNeKblc7o/Z9yvTiebke8qdYytEtYW4pSGMZ07JmCid2z8etHv5+WY35RmcJyWdEKk0b97Y9vy3Id8OIUtOEC3FNaI+3RShHbYApC9KYvhTXvV3rdHZJmrN5r8q0J9n2SPY5LEx/1YAlN7Y5blh6oWeaSEEBTT4Sx3qDbCYqoNrfjnVod2k/AamL6MUxqJckpj/WBk7ko82hm0UZJI4RnzUtIjyoVS33cfy8LJnEIYb1R1V64hjeXVrb1uQYI7/E1beh9lKSpbNyVhoKF9r1aloIm+xKq5iGqLHDVIFRkNmtZ4YuOHEriTBhUtkVsEIiL82ZyL30W1Rd0Dkg3YaEZYjqM6PkmlH0kwkep/6feKYv5QhECOLOgTVZ/SXxfCx7BXFJUU5skb0Zw1gvTezOEq9Hwd+IO9ipIxRpK12/LMET3nlcRJAneVKO8aUvpvINw/EHCpXCIqSFvhXq8QwI3Z+eEuIWUvxKjvSl1P1oSduZMduC7jwuoTmi1QV5kvlXkFoTrDcog3ZVzIGKQghPwYwzPuU2zSmxoWpSxhnbJe9sN/2//g1CBN6FuqY8av4fAIUVsaarbPGwVKXVyRYytPyi9dhcpsCpQHJQ4inRswn4L4B0gOuAE/HkAYQfUCvgH9cAAJMIkBTc+FkHCDVHnBwzntAv2uMaXMMkAlApTytiumeE7BaxQWjXm39gtBaCOdwjFuQU3a4o7xZfwkGTYXxrvpGl9UukPiGDr84vlOq3WLQgyI16O7v65HUwtcoXaW42FelVVa+bA0Q6AHNAUkdQHAFJA/ICBrQASY4gqK7koChAuhoQOicVcitdYsZMwtQFaHk45IUP1DxjlhRxf9+vhVPUiCqGQJxKRCzS4O4x+n0dBB+CyJxQcvDKeRE/6fsLwsRlI+tibIFrnn48wlPJq/jUAg1/iqTW6I1RzdnCQTQEQAyoDmi2ANMOeATcDMroAfowQcX8jmCsDWNqBERnVkNYixo/iF4BshJMP5XxT9MxBQj4l9J0AgRcoL/HYYKCErCVpemVOnNi9glQozMLfz/zp8eQ0/KXo8nxFqO36XCsXg9bm8FUmQYV1dweBBsQsffZK1ftQZq1IGGAnQCFgIiL0G2FdBVwEfxABJlYdvhPIoA7Tdh3zM+EihHkLuocAL46WSSFn3VENMyTEq/XUQyD/MNXrZ3MqYkl6+yZCk6kr8ChM0mGhJvNawfUhKGwz3MMkfSbitTXY//j0CAcWY/ZMuhjsvUrtX4IhKX1cny9uUAuDBgI2t4XRtRlwdkb0EWBtEIUeyKkSZ8gw4Ys1JIBJE2ryBBFDzCTKKEZEV/bblzdtr/8J4ZhRsDFZpU1lLaeWxHG2WeJB5jnEcakxMSzpI8mx6Gk+TbB6yzTTXdMns9wlBs+2p32SCeR/NX9W0k6fjn0O4aQJgByloAfEMOCAIYCcgrI3o4gO8JYv+p5hYEmE5Bax1xehjnwVVnA0wYizCkrS7ZnSOqq16DvsVYh1ErFThPtI+c+CZrRJUSBXne2nerivnb+eEpb28NhGYyXRkFanKY1JY1JaZEkRozTY66QFN4yi0ycVG+YnGeT3/76mAbgMQA2oBIzVBTmvBgwMi7gDGA213EpbV3C6MSBUQhZZA7xPm4kDICgEkXsWEYNkZQnf9y6zM413khSbteudOip+9CJ8eS2s4mG4sFrXNI7Gh8g5ts/CXefo4JpviIXz2aTzooHfG2SzGLn6/9zMTlfnGScZdCZN/OjEZouI+ABYgh4AQ9iwRyFnFBQWJBbAN8SoQ8tuZpsnWczJ9R1AOwV4mOYOJcERds85E5/es5Lbv9liIcjpqWTpyDM6gvJLge4phG7KqTIWtTyZ/NoPB0dL0OLbEYgze/ejxorHxPSmg0E5O6qC1Z3O5Lq8Ekkb/aQptuLo+t923sgPxYMAhAEgAN6AI/MA1WEMyNb6gVAFw+gT0SUj9oor7wcaYZbg7gVRzBGwlN+i3uwJjVvGONsUlf4KunEbc0/bMEnCrr+0xxn+X1vaKQ63Oa4KEaKzbeKaapr7Sth5klNznBEpL6cfqU4LVMzRqa0jsQhreTmlQtGdfubNxQH1jDaIPaVUTsDEB+AWsABF3tBsAK8rYPyuIFgAJVXQD6gw6QGMsnB8YYwPFGg7uJMQoAjpI4UVQ+jrj2+UcJfjus7KEwEqYMNqtoJIsnvWXZKR2tUn7p9hEkTjWGnsPiPHlkAnll5tS619rOAmkoruqwtqz33qeyunR1F0Qfj+anUOufdB/USTk/NffhGgDKAUwA1oAA5II+AE6AEwbACojumCA3UyAwY2Ki/49AzUUSYphWQ1eeBFCUGlNKl6zHEt4zaQ/SarxklFn82TdG2MXbD0zRQ2kO130fyFMVnRc6I+eorXLDxSgd03oSIZ5BQU1axogx0tDBua2QxWaesz9YJE+zRvnPksw8Dw6qcV18IJFYy2sWtRuvwAggnQAsYAAN+H1AD9AAAswFMAHXAAuIpYDgAIRtwCqh+S0ACrDTDsl72STERuTzAuDBhWwhfkMEQqQiyiX14Jk1xUTz+1niJfZH39TA7hZFlPGhZXiiU4vJIb07FnxaFzzj7AASnP/4NQgUbxQDjwRBAq2dD5TxpixSG4cGeEZgizyee+1kKJyaLyjdT9U/tr+ZhR7SxHX0L4yIAXm/yhXAVDbuVT1CAhoduGsQGRQs6KaAKXD8h9MCKJk96Ij1hNxNHWQ9vKPW6Q4wx+/q7JgmQ7chOQVum2AvdlVeOOcZPUpLwFspHRBtq/3KNSmkeUBYHJVLrY4wrYP1ihFTrYzXgxBiSd66SzEoWkfyGuWBrF7/03KJApOaJKXN7/KKNUWrzOO9VYKQ2HjBQahOl6J5au9u9jmWbC3zuZqv0jSoSAViO3CzS6ICj4CHOygH0AHboVAPwgECZwgzcODOahGFkNehUa58uWkmpLVpN9EPHFRvBnhUBTKRkhAsVLdF8ExFUMjCsHYDCHj0B7PKfaQxrcdKIll3ZFfsaLzVlYOa+Hk/d6QX0UyZq6EkmmH82H2HJ3V5gf/T/mY0d7HOCIDV14fAO6FPL82hqdar4qD85OORjQD43OZIra221g4Rr7LGUbliJ5AhJesAyOAbv0oALnAG8qKgGtQCsKDocuHLp2MYsQt6sdxqOBBRp/gwaON2EDHw3NhkR3ZlW4fu0mYZ+/zSUCe609p8VYEQrdvgEYgcS7ypPtYoo0dUVgOir3RAjJZb9cXUy2lQlb3ze53qu9N+usMaK11okhwthhz4q09eCATBFW0X9AyduBiKF/Ze/zTshUay/VcU3M+5jLMKTcS2Ak8ovpW2qHRgUosCATrAFU+sgHEgAmM/IAWbAD1ItmCegGHi3xDsIpiFdQWpDSAqwQ8ZhFZ6WimwipYpwdgPKy23DzVLCqRys1BXLym6EaWDTkEuC6XhX8IpY4pb1rXJrLh9pZImCJa0dJUKBIFunpiw2kpefBdfqtdF/PPp4po6m7cdeyAi82/0meCLkUIZrbvkY2p8RWl9um6KFquK7Zxp+iS6OdAVLlrJNpc63RIG0AR0TMA4CAFIwg+BjoAFaAc2BSsACkYD75qYA18DQCH4fJCcKtaTBxwIRC3VzQjCYDJtBHB8T8rJ888PIEmiUQyoBWJ5ELfvpkgDLVVytaMK+zalJIyqUMURTWzhKRQJrWRLItC7AVaqit7o2pGxXC99qpNbTPezZlRKPjNvdldNsqmg5lZzoub9vUGS9RfzonlEVqty2Dz1CySUpUfTLdRQ6yjZbePOC8H3F74UBygE8C4YAJTgCnZ0QAD3AARcNZgAXTACLM9AO5AzAoQi+X7CHI+jRgC9gBmwvEBJ0Be27YF0AIsXWHezkeQuiLHtO40XglKUtM41Zdi/cyqmWrwQwnd8mMrThPTDiyOXV4E7taql11nVNnbu/alwknaiKlzM5YTvmA/P0hQycaTeyir7oVBRqZV66JQdjvWDC0OP5+HmHQiSPFctpMJ0RzUXzbkxTzn1L8tzgf0CGgxIbNAHXQC2b/gAL8ABRbH4AMugARVKYgKpAGFBNwsyCuYfZKBuKATUAdyPPAu6A++QpBioBYI7sISh+V5/yWKK13KtQlqTRZziOjtyzufL0oGLqVoA7kKFEdqBNyrbrTFtI6EkVD56WMveiDr/IUpml3w/LF7tvPGtY/uOaNAJ8tR2eZ2tppmNSW14nCToNIz5xeJusb7ZZeqL8TOIoqZrNPOYTfXlIWEZMUTtOFXgeUIDgA0eAF+zqAABVIAFrD84ABUEAFidYAGLAM5cgKuiTY5qLZ8WA+AATKaCAn+Bj+vAEjg6xvMTF5mxxVMVvM0qQCi3iDpY+eouw45FOKj8HY4Q1xYtE998bbaotfHfE1NWtuqYxd5tSD7qSOa6U15nvF67Ftos1jpIlohdZXltQGtPrctaJsKuIvtq00iyGmE5NGBf9D+Pm7I38jn09UgQva6vYgqQFAg3puIBTUAOQhskDMgAHeAFcAWpAA7CAXR7oBHwHpBLLYoYvAr+EWTgAApUAWopCAvyBNFHgCdgcioKd9bjlbotiXqKBivmbTTpI+mTD1TFB/MpUGyFOkX10/IF8G8qcpx2X6FhDuqhct7FRpQtRFuTDaaNa5FaknJauT+6kIu0RuvPXWyXirhTXujQe+tl57ycldIncOhZWSUkHFrokvMy0LwsjgKWAhIzoBbcAPSg3KD2wACOgBQoMhgAIFgD28HgF3gGxjIglWDRYb1WRGQAEjgTK6OH0RHVoYImEUvDqZ2org4Kdb8exMxZ5UveqXmyvSKvDVrCrW0FSfqrIHTmKETXY5ZFZmtlpxKdM94ByBJk8inCowll8khbO8jQ2cgKShlQfCMPa7PDpTkyDiUtyVKEv1EPNCkY0FVrCOFxzL7DKDD0GlOoocz2/k0ENbB1KFoBlkAPpmhQBIoAD3AcQAbtAA5eBvsxkBj4Eqn8FJQ2SBPMR9CgwA+cB8gtqAT5Cs4ugBWA4U62WTs/Kx1cuvDwswughHz/+DUIFWgWFkUP1QVTAoRO/oq61rWpXyemA4ufgk+qilnfBdxF785ONRFTAghqZPN0+669jgFDVP6e740BMGmdAOYQ9ZN+2ic8FMpg9sGDrTCkCfLpNJCJXmla3M5AtoN9VRbRRzT+CLhnwexAGwwQHAi4ABYIDHQM7gA5SBqcY+AVGHnpIXBZJHNx/+rwFbAFCKTALTgYTUkAgofSNWjktBD3GWhfUzqVMCB0gheN5d8o49Hs96n6ckGMORjyqup9g70kyL9rkm+D8SRI06kuTacE2CobIFG6ViRuj2DF3M3ryx3SuSAoW3j7NhBpzwLysT2ZMjI2tazWImI4NDvY5wfQxwmCpPeBX4m85tfcFpQEd1lQFggAuoMEAbXADmobdCYAHsBqSDSbJEsVnETfdATmAjp1EDlIdfbSDLDlhTMovyB075p3vMJl4j57Up/TV7JBBQlcfzxNzQi6P4+2J1eRejgmTyXaZRPf9vKSElOCl46/uoIiJZrY6mI2ZOfvZPX+MfRKLHtQ90IPckXZYBqAmJAhBuyPjOJYlTzhAx5rhSVQPXQigNFe9A9mA27AkAgYALDGngfLAOChVlqYJiBvAZUmwEHQZrEHyZAHAgQ0UxBPEVP2sSU/90WeKFFiCVZSGoxGxm67qivLeQdAo/m3ACn0vOk295Ruqy6t/D9vLqVSQ1ZZ5TqRkTmiMasMPEFOEVHwXNvYmcqSzHrpGLZ+2bXfKu9zdGORX7IzKP5TRcVGhYtr627ScVDHEjt2fwF9wG7+iAD2wAT65kAIegDObFockCXj6y939Huw/yEKSIgCegb4Oeg663WfwMBNknuatCXCnBwsRlncdUYAbXJ2/wEQNKG2y2KYgp800yqTtoM4lAR/v37ST2lEyubmuuHsNGJY8d1NqbBPIaPJcdqwGtnKtahGrL6uOg7EIFaAzn0eQNGJd1ZkVljmESV2+g/4HMD5jjoD0YCCLFgArEAZoy4BwcBzE5mWMGdhC4wkhYVbDXojKt4CMw9Fy0albh8x8jfaFdIFlOUK/viyhTuy5bufeYvmR1UP/b5Zw7u1AdX3lrTd+A/vECsLsA8nsltKNloaH4Cn1h2/+BuvWIuXzeJqHX7r99xq/AiKlFrNQamjg/RMmMLR2m7Jq60m7FvQCD0zwLTgJw5zAcsAHVDgAE4wDpovC9cKSCFR/p5pfEOdhkewQNMB9LQo9GQVSuSq0a9vKt/xhxekrDNFabPWL9Q2YSg9h61XeiKPSdnJIseZ7zYuNs+rDXIizAnOquPVeuPcfg+69/mdRxbCZHHcfz63pbDDd244zKhhAOHENIRVtuTLGSV0r6T8+P6oWoayBDcAo6IMg8MAOjAg8MagNRhoGHLARD4UYG8kDBdcG0zEIvoCqDFhJF9HHG7Epyo9syURCa2pFHyd1qAa7hopAwlFFhtlWUD/C3UV/YwSkFV/kdW8IIbVARXSLgrnqGlV4bzC7tRb8af9/GavOXbSNx3xxGKk6DtQcuWYlDdGtOcJ6YNRfsckksEU66wJXgaDCUpJ4BU4BBxAQEnQLOnFY4OpCqw80XIVJDOIXpo4GNhei85JevKRFRiXZhOhwgg6soaXF8+kUjxedH/DzulvmHVJb3MUKkT/Ttsv6af3ndM0k0Bjy/aSuadJZImjAmpMMqIausvuOZmKNWTCpvu2N+xoJ2bpfd6okdcD35oBe6LOLy9g0BckDloCzvvQOPAHyhcII6gRpEp0caYvwBtgLyaoCeoNVpyj6Q19l1+mhRMz1hYkZ/1SdiJ/IYkJYpJyWAX9YZyIZEU0W1IdwJcWVct72uDfOIQ/5yXiZKKMiFqUcTtZWWkXiubtHMOQNunHudFXKaTMlTO2dMep+QJi/TOg1HIw2juLSqC7nB0zzgV/A6aMjiHADyAFIpDgueCoZfWSrkwpQNNElk5x6sTN00acVGwjPH9C11ayt5SeMDHmyJ+zxuZGjjKycmVxEvqdo7wQ4x3yXO+YkautZy3TNLtBVCzvimadVoGVvmHVSlUaq7yDlDTiqEfKTxGpdU6Q9k86wI5ZkiXOF68wjnyTWNsXaCGYEJxQEtkB+IFVqhD5YXfPz/fTmPQDlBhDiIxaZvnw55kLOcknPiUFtzNZruMqr3IKP0J4RrjM6w/qc5ITTAtfDXpXOpX+VwzRTPVNKIxvkRQ6Nekbnyxm9eiWUKZx21ijRagUZ56zMptSqBdC7xx0o1ESFUJ6bShlHbGSpz42JvkGEQUtTVCQAE9hYz2Y2iKbm51X2VhjQb2UuXpPktC3k4hAqJKujnnkEKXjWV4r2ajhO7s3dpcoApJ3nypniF0zcUbIjln3BMbLmTEsfCcU6P/4NQgWYRbflOFY5NACWc/PI3ERlnckWBS1h63CFHTtLc549vFXaX1tU1trFHSFOtWznNwKKG7FCgDnQDo0Bgf0AGkAnBQILNAh8F5iPzOgLMATUd0KnBHJDKBMMUXMBygY8zwnEaK9uO8num3DQi/KxM9LZklBlA4jWhUDnsRI5VKlLyIZ+WFngcxa5BfC0B70BdzOHdXlvv81XYGoTNX8tY1HFi6nBtSbJNtSyTv1AiUB11LAY2AInClRPAA7oBeS1AqcFsgssfjTo8oD2AUZTAZCPrvX5tt/NkgSoOchkVmMf+eFbfiZgxljFmLnpsr3y+rD0FDhbCCOXIJ2Wzsmk2hEUIgo1pPV0RskJZXdebflFqK6jq6GK7oWvkOdttaidB6DlJBh3C98lcX0LEqkH+gFPipzLgBCAGlJkF3h5IIBCj4vGiARMCPobHwi+6n2Ts83SYNuGUWEcGJ3QjctBxqvY1xlCbRIbl7m7KbaJ2BrnBWazfA5uvqKYr8TvOcRat/k9A66BIEoutpLpvKav7SRJbs2+M6jWl0GzihjkJPyXWyWAVgkgMjAFPhZrPAFyAIMegyUKvCowR20UnQHoA7pHgj0IpSLakycjmxuQ8haj5RLZK9C01b23K4aRArPyefzjhCEJxZnSQM439aP+34ga5JAxKfJM4v3dB6zOJWm+MZflinatqGaKMjqqIWifJ5tj/xJ4knC5eigRMMIocFGgLlEQmfAEFA1TehV4Y2ETit6uLCB0Q9avB+o6uQ7+2bk1pH4CrooE/n+9OhClJSx5siwEMmFvltZKFkX7jK8PgglmKBa+0LOq10DSMC11T8l2VwECR3NspQ9XtKyncGFx9U0vUFnM81qhqG8vhioMqkMICaosUCiweuokPoAJ4EeIjC4wv8aildZAxYFRF/FHhY5idkJY4KUnBHlKUVyKhTzDqfpuihRiLowJnZXRfcWt0dNpGY1KL2UHwczyusTjnik4bz96JUQfJDnv3H8GfQm1Wqb0QVVO1zbrH3brwvgoEyC4NfoPTpaCQMeUKBm45XEw3YBMDwEGgh0YWNBjQiAW0Gva0YiF0tx2ZsC8IwS0/zYmzmd73rjhJCoOPu6p5i6H0SoM0KMqjrPeJziL/5Bnjxp8nGJZG4KacH6WyMYyqRs/o+Kpk0OK5uiqwo9qGmb4l3A4KorQJKpmy7dGtHTf+DoQbnBw94BUzjlbjcxpZdr6TXBUwI+nYYyFxq/KOWAjKzUTMK1JtJE8ceR3UMzhU24dOwnWd0ThNPVpP5bJog0W7/epOckm5t42/RKwWQJ0RJiNjzRbWXINrOye0sy77JuX0IljTe5vxqSpU7PPoazaxRqHQMrAikInWYD8APm68V2De2t7uygpQrA3ReYq0e7fRmx005plnJY3lLLbTSLtlgZTrcFaZPKB8NrhLENp3/HJv8lj0e75DNpeT7AvFJ6idZN318xSsbb1f0rCsvk6l+K0pL9Wtbq7Cf9lz3YL+pbhc746LHkGxRqP9Arm+RWQDOjmjPQSqETwfUAqZVRTEtnYjF0nnsE6JWWGh3jmQR87GpcKaFJ2V0fKV7JPg+R1lQT2q159SRpkNoZmm8qQvnDbCRNpnDrFmZBH+YP0NV3snK/9DvvOKYwef4fS9HPGoZgZZ1JRiiGQeQkFpBoE2jSwIDs0cIAvY2ga+BGoRWtYrgbJLEsLTJFIdjE8ggDIinVX9sVNgDN+vy5bFCZPoNfXdJuKx9b1Cf768MI2xbG0XzbemNTPkd4TtNW1wbUnXR/jeU2F7EzWT2tGThZWPwNNk6QOguB6ERxTOg1zE/XR3Xx0CRDGQJHM9HRALmCDhpIH2j03HCujAsMrljJQJVvGCtDprHHquZQUFPfYQGRjGJimXQW6PdK6lTGY9ShA93kVwP+zwqjaX/8AJSqCMcVgWaIko2ioUti54dqSIqGwulovrqk8/sCwtc2ndbBspC0+zPoNBQxGmqiDi+Gpg+0LTEeAIoB8AisBgoJhVsCfhl0jHSkkqZ51EhkheGtisTxe0CxjIlmic07tSLgzxf6D7o+aK6VmzCsVRbkfDNYsFRaJ666qLrXrG9JwrHZYc8zosDQ7Zf3JChFIuU7UEfV//g1CBdmFu1H7dLuEgJhLSLEx3TaB4TRpdw/aa6gzjL7MeUYSmH4mqhQgNKH8Bn4EUjmz/A/4q7CRrbnXGq0aUIA5Y3EYuusWIOQUMbmJdiswQka2017HeGaTVJkZwXo9u1FoFEa7k9J19J0Q0fHUEUHFsb4BFEQy/PNdUNClq0tNEZWfGdbSBLV8wjCtrV3EMgS9FdzzdCc9UzXR10amIgg2ogUcCLrBAhcLRnsPkECcQZyIbUXN5cxIjHnTi2XJrmG7NqTSWf6aeta4yEs+l1XNIzISFj3hkL1mshB0CrXtWaNGqPF4NySsNf2GP+e3iXcn0WmL+syHptr2DZ0mSbqlhKbphoGT7WvKmdboPPMKgdCsiTqJOR8aSFqulBaQbIsoFjgo/rxwQdxsxGo6UjOJjJBWyHHShPpDKfAsARopEYybWwYvwpK01ypx2NVCRFyZqt9VcQu8+aNn56vDG2ZBRMV7PEtf61EElTPSsXULjEr3pR8ER7Gt4QfAMbzROcNRDMkTVLE0009FkTz7ftaY1Dkek2ZyV+NfY0CeBWRNoFGily7Adgc0TWHFnn+IJcMo0Qpkttz+0GaGSaAZ6c/ip5BP3KPpZfHPlM4p6d0D13JVzUxX9LU/B+6zTZFlVNvuFyvMV/QNOVt2XAcxclXMjTDFkF0rPlZaRb+z0rWG8VFpNZzjTUqQ3Qkox3wN6RqSMyojsfyW+HuB5y+gUuDHd7CsAapD5+YIJ9VYQtwyzOyzx2OtkNBAT3nojCSO3zCaHqKffOsHNm7KaqRa6Faz5xVkIaikOQaM3yWN5uOn76giCJQquZ7vz7DK+QnpOrfhYiB8noroL4sXn4I26VLRqmgLKi/HaZvjBqNymCcysOXC/IPM/C/1mAzAKEKpAXCMpO6Ab4ZgNDAk00MRgOKJAW2QaQSo9BRKQs6zzkRd8kDjjcImEOrbnJgSorcgRPP97Kqpq10MDIrjVjC+N/YjsqHreq/C5qtSA8Nw3YNAq7s8TqjRswq2+8L0bGpU0Wl5SoacL3iyIa2yeUpps6JLfla0+CMYo0UqE2v4An4YQLLAS+ceOMA5giYd2DAyNS/BnhLG8l5nHoHbgdoYokMQeWv3wn4iiyyM2D0ErxZV+Yz1am4+/Jc0yMXXPR6zE5Sm5tAutLkkBF/s1cuKG/B5ffkYTvY+Y49X0HV/L2fUDwNf7kkKOU4pP5pQVfJd1GVMyiKX6H1zBXrbI+MZWiEEUBZkGgUWGF6YC1A75GYRyClapFFBxzQBBY/841/AxAR5op/pfNNm9FhdwslzqQcsfQ9CNXXuNlljzKIQUCo+X7GqbELApFvKIe6LKwhe5RMAECMArF8NW9oiCQNDx2PPUka38jmqvoUjynZvmuHqmiihtbs2IeMuTT4n18U8kQ7cEB9mBuwIgtcAjsEvuaAagF+CfwU+PZXcKQFXZsY2InJpaoI+McsMQW+elDImZTsglRs/yow7uJ+QWsHJf+b1His2aw4gDWqJ5+R5jgiGqAvikabwOfs4oSjMtk2Uc0zqs5fz/hJwkLYcl8iQrkT7UcvISrxNvF0wt6bdZ5fbsUr40jORJ4JLJuAuANEPTAIbGukyAETDECvQEAhcbnAUEGPJDCHQqGORYQnJWxApV680uFiMcnAi1UdFuwcFOCiWkyjsC8peRiu+Eu027OeRkGIK6jWrrjj+q7u4yctx9XAEdchyvN1jymuTNcPNw1LGNRFiMnyzQELRjCdB3VT8WUPRECwRBVHDQrLG9g5l0QCagVcRGALHD0SGABjQY8JbAeeCIxMAJSCuHPi5RcemmcH3FnNbOjcC2Iz7fLjVfAE+6xfloQrfdx3LEk2Z1Rtw+nB0jWlEUJ2LisLT9/UWzvs8f5l/1Ofj2tqLUk7Z/hoy9N6qHkcFsb4sDxO4/smChUpwyj7kpQJBgCAy6NZ/YiZY4SGCjQRkB0wY8BMYBvZ5IJaAEQIeDGQFTvFFZByxUjwT9zC5begKOdYpMR2s1ohmyyvPcb5vFMeti5USyzX0JyNt8Q1bx0AfXUeWr6gS3EVoz9K8nCJLwlA/BL6ma1Uf1VJFvRdT036ihXaP845K7K6a+juODyuhpPiKbekrj2w2mP/+DUIGEsW/Gf6svl9AmXp3FCSCeGB1KCAP8AkRCoAk8Ei7UA+QEgKpApkHW4gCKA+CvAm8IV0M/IcF6zPzSaNf8+amV71r9XuaX09Aq4mSrXK474yhKOIP8mV3/aN661ZhShpWmcekGXlbcBq+4whMHAVVJKFdf1pTFmLnUvKq3lgWy1FOOhNM4j5UG0jYSCI6in1bIhy/uVaoGhODBzYCDwsgA0wGbBioA/cIHFYAF3HJFSgaiNFXEEEBM1Kmxj+e9OYCDHRHTn91SJWMgrs89tqbjKNgQ+3Xk6Y0RQGi7O2ObeiXJrjUVm46/JqkAMpYP/ixE8eTuuL0NxljUZx964nd3vVQjfrZjUJKVS73FVrTjZFw6VeMWRrEmPWHWV0ypIcElEBLz7QEmgW+GcACdAZkFbgBXIW+Y4AacOyZWBqYMNR8HWA2CcQikMpggJkF2Wofe+/sBbyACBS2aqdExaYyLUi1C46YroJdUDdGoECJ/tMjtASuFsTS5vncMM8nbVV/y5f2TWVYtB2rM9H9FcU9r7ku2k4Tmh227iURlMQoh2TIrohL8Zds1eHsXmvtjYnYDlEAgCgwDnxWAAJiALoPHAAqcBxZIAAQEBFSdwHsg1P1gwQN0QgSOE0tjZIFFHWJzEwrdLYKqgt5bhem85ZWJrrYnZLmKGoYlu97VYMkinFxkw+EUUSYhEmFZqtjhHGF1kZpdNea9Ea6S4dy2wwpm66/bQw8BK+HrHf1g0gqHl1Q0j9MhuiOt3RC2A0arNfFRk6BUSOQGCgCawpAAcUAbMNzACsQF5rwAJgB9VZAL1BldagTIFIRgLnERw0Z0b4rQgcyfdhEj/DkyiUIk6O0oReZb+M5g9aVkRlP2OiIsipFvkCwGQwtrmlJo3RG1IkrNCV1fzAzKwrN9HHci2n0sHyhGNcTzburU96iN5v/1UiiquSOq+GEoO869t9N6cj7sW0B5CLQEQgH7n0AGdAHxfiALlAI/V2AzoCoiRAJBBj6gxuwU82BP4y1yafAi4pBPIwOEyvjxmFiIWVquFEQQucbH9yOElKvY/YF/IuT3eWrqmxnzrvnC5LLVlv+9JztSPcawxhc70em6E8pUPL7iIAytG+RVlP1FQLD1/4Kk7cIQTbQNvZFl394PF/iSYCKuSDowBdb0QP4AGOBYQDdQBJYJzBmgHuB2w1MDdRbpjAP+KURGH+rpI6GfGEOnJhJpFDHjS2dCKFV8yoz54ZA6bek4a65VQzjkIogmfPcP3JklHyXp6QJVxC6ZmkzObEz3VkN39LNM3jOKuM/w9HadlFVuk1ArXv+wpRPP2epBwV4pnVPcHnJS0XCWAjQh9SIQCOQF3jJgCzADKjowCQwCzZ4A8gDQuMA3kOHnkH8C9OvGgkltWI4FCJjXiwVLxKlPf+ezk2cKeghJau9j6LXJX6tU+UNYz7D2S4RDRTkgxeguc1bR78zx/U02+LLl+Dv1+Do/I9GRMTzquqrlr31jRPan51hvEsxVq+wWflFiwxeOHpI0sIEI2MTAVuDFwzYBDQC+A7EDDQJ9LyC4hq01AmNdN+hhCas8GLp32YwowiM9nEB8Zoh1likRvNqUkqVvuNjxOp82tDC6oS+lKerOjfW6Srhh07x7tMbWl3lM8DSNH2xBswI1iyLqPrjE+k0eSrNvL2uFqS4fWrmfL5QRQs36HikPwnCMOyBm4Jisg2kAQujkfcAxwJcCtQcaDuRVQjAFmEjjvzl1eB32kQuF71WiI6QRwj1SIuNhBETXEenJ0TQZg2Mx6/3MdkozZHV8xWajtVxyMrduii3kdDnym9mliKsaWrjnX8RfdXy9n6OGh79jqDoy2OjEQuOu3jLPpWE5KQ5085YvK2MWfBmh5AiEJIPwOlA58FzhTALoAQ4J1BBYO1iwNMF/c4Di+djINoxyTxRKnU3EOC3Nv5Ub+8DQCvFwo//m22geyxRz8PuT7bQoLu5Ru1bCxaXbg3eV/+2DZlrxZg68LpuhJd3ytCnQJRgFTb8MRj5TvOWJJ/PMtWN577mgpM3WRo4inTul+5r6PPzZEy0ag9Ig0F7h7YogIEAQ8Z2PXBitGhMRvHQAzGbpDDRMy5s+dw5KSggrJ9ujngv8RVUFymOra8sghafEOd524qASAzvwEwpW2VNlfV3vdcl4RdFDkbIwb2Kz0234GhwAto//g1CBlMFvHe9V74TwIlyAkUWNkC1qEkagKR19QQ0lVvdbzoj7LDrtijDy6C6LyPQB9EzADggD00gA7QAEyQIB2wBCRRwqQEUEWAQ0bdyA9Qw3bEbDiqYY4FaKokI86lk2iziPrb31VyfTKYizxTGnGXmbM7ml8y1GbFGIoTai6pU79NptEt+gicwxm/BCYXzcPDqRptPYtX5lTIx0VKg9hljIloQ8iRGaLQ/1tnlSYFWH+Aj4ALGCzgT4ANYB+guoBiwH9f4Bcgvwj4BJYEMUATLPBJQfUioVIEcBmjSj5iHkgCXRoroyuqbx/sqdNj0LeSCb4ns6pDAQDO2myEay7aLf+GpItKp0y+1SyzSkuPmQNVFvRRcVA48n63RSpkSnLiYx6dNwfVnkDYIsJHGraQ6IRgBDCzgLmAHjEICFAAs0YCwgJ+EhBBiAD/AFB8lfBRCGcV5wTsqmkAtVWnQltn8XAwhK9YwqmSVFHDffmx1+rTV3nc6OINm/7zrcbT31J61yvypIGlNhqCLUXxsTHqCzm1ij96TLKtfVnqFCYrFae11/Kbyf+ReaMhavTgBLKkDrgBIzbg4AD8AaQDmgl4FNCnHcFcCqgpbpCiAYJlTKg7/gEAFmFgW9X3xaJMo0uphWcTxAGlYmbsyyTPrcyaDUK35okJpOKShk/lDkghiN8rIptpUGJ3DLinVd4KDzNhM3PlxxEvb5G6VJ95b/5IlN/EHfIRdQk5JZWAVCPgy4HxLOCqBAgVwYES8GlVIpRrjEjdzgXgOd2Sogk7Xe4Ei0XoOz/TbQ7UD+st3TyMzKEZWmfNudAzbMPypUSybINawi9kkunG0Pd0GguFE2OngE4oV/ROeyBMuXy5rgWwyNwZfJJlXOYUntQRPp5i5qpLaUfoAtVMC9gH/7ItwCgCdDVhXQi5hiCNgEPJ7xhnBgv6WcQfUXoSA8GmZ110CVaIrPv9ttMtnUt6OryaNZ+CpL4s1SYC6L9YcsUxqzT68xn+wBjcL0EcxC49O9xRIkzwGzzXzmMkkCzIXTkVcrQ/rCxmma1cEVcQwIKgc4z4CCggJ1BfgFI448oE9S8cIZBHQX9gxAg1T1EVDHsTtglAlTKHNNerBBCHEpW0i7mGERpwxEVdyhVqWy6r5BFrphVLkiTYjbUOycNMK/1J3fMj07takcJ3BF3dqS8R5bHU8s7SL69PXgpnk5+viCHUaswe596DAQCphDQDTzoMQHeOgFzLyFZFcTJWh0zckWNcKobVJz3osqhIiyZVB1Nc5sNK3+xW7bWCfsje05cbuzFlUIvn3tHnUhZ2WvKUTviqpLfp1c9d4BurXPEx4mzp2FvGNndDq+kpkz9tuiqRQuc8v4QyUQKya2yA9l5P6AQvKO8DbHYJePOGJIwvh/hkSS48/BOoysYlMp+gyDiXA48R+n0qFDlim+Cadi3sjfZLEIdA4qldo6eG4FO+aUth2kATWV+FuEspzb+HRbhxG53rlvdCFAeXexHJV7BoM3/Wpq3JfZr5s7lkXM18nOMZZ3wKCVsjA9w2yPlFDgxtbjcds8c5hxrJRSjzoXJyVDYfBkxVUEegoWvUP17xLMFJ2n4MOUSy/W/x+AU+6SWEbGUTTpSqcwCDZCM8CD1PQ6SjUDUwmewuG1yn4na9yyTvwxDFSqjcukQLfR+PaWUAwUZP+B1cAIEGWfo1IhoTkwRIn2F1eeZu4WDvoONXwkKGeUZM15dMpSSPAnNt8NubqHQogsxtSQQNP/Pv8xprZ8ffYIDnLb2rvCJVIt9W7ohPegOqysbkFNj9ZTLK2/Z2KXSyI3uFwexQ/Zb2Ry3SUwTpADChR13PIep0GBWEiOR+Hipb917VJhj/+x+XRJkmYkiPo/BlkRao6jB5zK9Kzy+M3Crb+I9mVUuRQudxTMzqhzSs6KXTeXSHOIygkI831hcRoVint4QuAWlNItnQOd3/+DUIGkUS97wCqsTyptXiuE1oZybjLAqT8sErm9l1NYXu0kqw8QUmJgPgOCOWN6KNIbeWQE4JiaEO5VuXrXLW0WySN5ak2GcRM4loSepGtxNl1V1KH0ui6awJopgjD2RszbU2huLY2fLsVAnJKqAEn5Aylm7T2ndea10tjPCWLco4hUeptQyaVcq/YKulYyrE/KrTkptNaMUB4SwLgsg4rsnphjEGzkNl0G2HlGxmrGrGmk0PufwRuRC8hYiq/PUlUh0e1E2YXSXpSHpQ8pSSheZbFYNWxUvUzQN2vbeV8V5DS0oxQat1krbWYsJZKbkUILxwgTLWO8gZI0hnvNGWs24VwUh9D6AsrKCUspZUipFOqdV4qRPqcU+JZS+jlMKP9MF/vldQqBqbJiaCuzKzOSgybTFC3iAnKvMIiJuakpFNHYeo8u4Z9Giqt2rKvayK3K16tKnylygGoGlf+nZNaaX3ToXD2I0jYEwdi7EiSU6o91PjXHmTcbatwRqzPOd8h45yRofACXURoOSCnZHSPFbqxUWkVTS0EsJYSOrdKaAcgqFQ+c6hVnS5maNuYcbe3Qksop7RXjrHztHIZey593aYkuJq01k7HW5edd46N7+kX/9B3l6D/GdO/J/vu/LOO7B7jsjEDStE6e2tpHQ+Alu6izRxLDGueLY4y7qjjuPEm8KxBgHGOKcN5fRchLI6g0GKVSymBLa8UhaUX4ghAqfloIQ0agmaSY7RC+pelrqT6u3ytlbs8kkNYjXXItxIUVGsskJoeC2WqW3U1nGKB2H9dybwL1GL3p484Z83JXuMKPs27g1l/Hd4Zb6FmL7GB1e8i0xv7UnEM5cMxFyrUOM3Z7VeDl1DfCtcKNztvhaGQESI0Q7pdJCv/NpdyD7p5tJCQtv0UNwpVLJjXT88zTTzEv9OsV0zBpjFlXvGYElZab51tJNcwnxRXp0tbKsxIcxTUiWhtNCKguAZYSbn3nW23/4mT5+Dlj5cZcXw87bHviNXlE7PJD04wWirvxG+591FNdRY/SzR+4HlmgV+55RZ72kUsKkdm+puisD5q3n4y98ZLOSm7OuJxmxlLpHxc7ozOCgQK1mFmFHnyDnpWrs0o6QRtRRpBLNeRlOE6yZiMvgLsK6leFLUXoc1l6VMWdkO8h7YwwwD0K9yctvpAJbp2L270uHv3eDGaTy891E81XGY5u0CrOjKh06+ocyj1bquw2WC3uuuPOtpFddn1JW5cwpcYzqddGjVmPZ+AtPLihf+E80PJaynuBOLnKTVDlyXiPu46q5Ueu6ulP710Sy1IesCI7PWEcsrzL1+6iBIjCcT1Qkm4A5wnklLySSlgkV1pk7cOK9GIROobJHDnc1oR1AIQiQioMYmSwrsNuwnG5AXjD/RbfgDT5po/yfGa5tJVW8ld+fmZCs/wRFA6+uZUI26M3Fi9klDiRJW4g3+UzU17AjQUl7s0X1JpWNKbSFtu17NatCiFxAn8Vm4ooEafrjAZcbjrWZ8IkSvVHQ1mOmHZ32DvIRYFN0YOZGVxKg4a3Es2wV5/SJNAWpOhNR8MQn+IuCoZ6vPRLEUAEgUnLNHiQz0CIozcV3bQJAkel20PwicHiRYrxMQkeXSlF1NrmoPkdrAHTRPotSMnBgUJTJj5QJMjSTUNJkbxQYYPDNgbpFeKu5LIwAq6AU0ARVH4pm62CRICNwFhQ1EO8jBwz6PBF6/LNOipBj+I/ROXG6Tq0hg3eBkIFCRFwOsgUwBr8T27HSGhPcyVwTzClwKph2gbrOTC26nRaYEAwicKXiRhNey+QOgDuoJuAiqF3gtSM/G3WqPN5f09q66xRGPQ1sDAYUwEpTujj78xk81hSUn+I8DL4k0TMAI0gAxwAP0g3U0SmyIOGATvRpOGQFqAA6uANHAlD/xcI0WCbwLBmZKrOXklPU0F/Jsd64nu9UO/gSyDYuckenaAueFTA5+G5D4ZT4VRCpgkOkphAXJAv0A1GDPTKeDUzHxyGTbqjyH9JrwMJBh8G5gNbg44UXNvg2AHoxd43KJiH+a3ceomkALOgzEDj4SQKUqAdhvtnF6wYnG/DL6fy0Lcy3dcJdIeDLYc+CXZvK4YiaD3QCioCBwIy+mKWE9+1LcvjKs2HUArEETwagBWcXuliGxQUysaH8wGbAGxwFRgNYjSkRuGvmgzcAl2DRQi3miZMGpFJQGmx4gErwa+NTtclDq1rljqQDDoAQOARTZENoCQfhDXQOkgFMADE4EmDUsz2NFsdhHBAJLgVmFfboiWCQYpWDxwY1LwKupGcHlB8MX6DAInJ9XuwjmCqgFdwL8AlWAWqT/+DUIG0IQAnGB6iByYFWHdGgFOJZAISBToHUSGWMVsMkEFgLkLNSgBtgb+A0qq7OAqIPPDqp96c7LqPiPKE3g94NbBISI2CxyCvh19mjlDn74SYLpBCwWrSQRgI1oMrgv/0lYxUEPgN4ALnEFS292AJkQ0CMwWIAdKAdYADLQCnAF038lBraaQ64AJ9ABQQASiBPQUK+cJKBl5eAw0WIWq1Fjhio/AHwgRUKvuW5Ev0080yBJeNEYDnQzgYSrgNLAfYBF66jmAFYgO8BXKFQT8A4MCjjSxMTWcpOGt2mjwwgZf63iQS/tWcmZUEnhyBBbEwgIOfHsA8UBHQVn8XXeW9UG/ATuESP96puvGCFAEngMKDU15K+uosExgzEOOAZSCdiwfqrxQ+B1LqEflIpGLfWUV3oJABY+ZQJEb+XSHL5/4Bd5jS308jjANRDxhNOs81nrVAhFtVEPpTobyOOWH2zewugGshgwOpEEM1TkZyEMU6CmQmBWcqtlrf6r0Y6hx/4YICEwsZ9d/EFULwFmBLACRwPUY+ZGAuQDZwRlWiJYi6LYEc/5fxDketwX61C5NI+hGxFUCoYls5QLTAP2D7xqgygd+HmEDnfAkcAeIAVSBtGXorAo4e64YtoisJIM/M4T420T9nehzILI11F6kEkaui6nVfj/gnk1Dyi5Rcl+lsn8A/8BtQBKZ0QggC5z9m9BlrVphN9JcFmpFW0CMVYNRKTNoAisfYHmsyH9qCAptLAr9A5JeYFQ8aHQiCgCCw5YHSuwrACNwZgBuKcYeBkYT4BbIa8ExklE9jBU7BXtc2mYSI4CV47nMba4JFPUmYD1Rdnu47UArUwJMqiQyQIFBilGinQS4teNngCFQLMFiiSMlqoZYHSgN4FWh8klmrEkjBNC3ENcZaHlTO6BrRIHxFfS+AzoWOAgoMrAsR/s8B9RvYjoJeF8j+mIcKC6AYOAZ4D1weYMxGrPQ8UQtmk+iBGSjJDUT8uUWuoLYGRqsgKSkujBibY8JewUb+c4w/xtIJbdBLZXsssBIim09c0hO7kAdC4i3iad/NxBjwdmo4ju0Y56kJFOeic4N9ZkAuG4iZ7/kJzpF7GhBfA4UCmT8hNIz35u5RGKPdgtkQTswRbihaZH4gYD0wPYAlFqJxQKr0fijFSI8qVPvYTqqAI/K2FkqMenJTaedWQOpXpvpaoxIo9JL+jnzACXWFFqjPi0SRQQ48FsYErAkkQtj5OgxkHIBtZhQ+R0fZTkxZ4BHYaJE4YweSKspAPaCIxvQW0VmMItorQi7vxfCaB6RS4toENeC5YY06AlA5jrwZVA23C0EAMuo6hwrrr9PdBV0PXGyhOUlIi+EMibbjiwJjHqWG2g9xjtja70JayOYukB6jM8l90lGBHB9FB1gkE3kfvgBMrHekSGlww+EELkOvB7HBDCRXrMBZqMblDwclRiMH5ONByJ0ftlUuXXepc5PJ2XmHycZWmX8SobkOt7win35FOLxs4vX2w+oo9cqCevv0/upi5WUKzqiz4dZjreK49IFwTl7ErTHiEURdZWAcRjkDw/0HbV5rymOgVso5YBHTrnsEoCZn5NSNWKoJ0NedUfsR8kxjRDXYPmSpuyZP8ubZl+JQX825jymnALgWEv5e1hMSUVKn9a5V1S3LzRXs3J/Sbchv6V7TbOpuR8lmXhcVmipZYo2lMUsHaLZkKNsd65MeKonzdspnP0l6oJauTjHJMrP1s/TIiPZJQJTt7aJpm7WMqpDzKiQIc+a/sBjqpooiSKZJpm9+X7fQavhqNJvsuYapnjFrMwbPMs5KwoJkzeuM0iaoNznYfj3Xu1npZ+v82ukUk4kktZWGpVUqXWrrnXu8NNfD3TOMrTDmeb6TT8lQ3LU9RXB8X0Hgd0xPJ9z3vgN05jZcK2bKEYTpbF9ZFo3PZ4hRCnred8XmWxZWaWRV2DXlU0lRzFdJTNkiDltLSVIm5YyZESM0dc9BvDElsKoVgqpUSbkfJYTckD1uC6L4EUIwRkgz5Pe/rvOU3zTs4xq5qyqSXpmkaKoGkWBYAhOJ4jl+haxsuo7Bt+w7hzveeJ7X3/l+dAKMU5qxVOptR6T00pnUGoVRqU0ZpHRGgtBqI0FoX8fw+/7/4/l8/wer2vU9N0/UdP1fPcBsuy7ts+t7FsWva9qOo5nmmh6zpmbYdiiYpSmKgKEuTJMcyrZtW0TbtGyrIsSNiu//g1CBxXFACOAHQA5WDJjBGtKxKqBzjz5aSdoomSgBcOXx0sT9WhQOYtdYJ3gDh4kcD0igWQMQAGgxxdaDCBIovcLYIW4YPPqSJQgL0IXqBJBBezLiEFtJI8kHN/iiSyIOXVUXjraONY0SoonmUN5HTXaFHpt0EaoWITvIU3HqwuwIPWFNppYwILR8xKrPcOCTtQfVOLxDPyNSZAsKXDsNQSrUbMLRx4zY5OXCL/SKfyzi7ISmTj1cbaiIbVfLraiNUtSUkS5equanruVGspRQnnlfy8RzLLkQWdL5pyFliiVDGBflTMQiImoLEU1kTnkuicKbnDStRUubeFlVTl/sojZc1C+5pXzZxtNKz2SvapUer+3c1iNeqM3kNSySJbaWKaildTRPMIj95MIy5woH0Oap4jtLViYkppRN6iEo7XE2zfVHJ7ctLIUS1zifEH463Cbc4mXKbvSwlBBKsg2ldNXRjXst01vqhBBbzJmelzSuPqIg5O3SJNOTaM7XkRn5SWerSWI5NTeoqBYw0rb76Kano13HonF9HlfFqLt1sSlCoFyMuiTlz8GN2cMbE5Hy7d4rS3X9olXwj6icSR3uS1WO0uxyevVop2tVLITHV1zcmJmyABQA2UzhSWo0i53rsgvHX8Vkps5PTtX0K2blH7nS8QtpG4kiW4iauJQuirfKsLRqptS90x7tvJdK5xFbBAnmX6YKTVV8MgnspHGpFJUSIC5CN5qvR6sbOQ5Kmqe5bt8xNf0FjPjaIbN10VyyDUZG0xbP5NHGqnyKhLHyqBB6yqlSySPHSe3AVZ99/JdS5oi4fkZ0weDiADRyUwYl6OHmSxZrmI9QmldVpytINYlCNqiXbCFYNIYmKtjacsi8SnsOG9xHpgQ0shy3jExw8GaTKChfITdnMElhSjf0VD1bdnHsXiCBeKlDea4k4YCV5J3pyOmk4oFAvdV4Anxf/4NQgdUBQAIAAcAeFkIeBhoeNnIOBgYmUh5uWjoeBhYKOkYyPioKCjIOJhIaDkZaJhICEipuCkJKZjZyFiIeDipWOhI6ZioKFiISFjY6OgIOXmpGMgI2YkYCGgoSfkoyBi4aIgI+Llo6ThIKElZCAhJOGiIWFgoyPiIWGh4SAhYqLjIWHgoOEiImGhp+cgYmWl4qPmouBjoSNg4KBko2QiY+SgIGBgIWGgIqHgZKHg4SHjIWKi4qShYmNmIWHg46JhICIhJmOhIaDhYSGg4GEi4KQgYGJhoKHgomKhIeJioKLhIKCgomAgIiDhYqAi4iBiIeLhIKGgoeJgYqFhoWHgo6HhYCMlYGYio2JiZCGiI2DgYaCipGDgZ6DkYCShYeGgZCBmZCOjYaJmIOLgJCKk4SAjIGJhIyGi4SJhICQh4OFg5SPhJSVgIWElJWSj4aFkIuBgoOEgoCJiIuBlpWMh4CFhIuEjI2CgJCRhYaBjp2QhomGh4SKl4SIjJWEhYWEioqLjYCei4SLg4qCg46NgIqFipOCkomGgIWBg4aEhIqPhouMhIGQj4CIhIGNkImMhoSFlYiIjoeJhI6LjIaZgI6Fjo2EioONkIKHi4iCgoGHhZKCk4WAioGBgYSNgoSHkouBjIWLjIiBh4iDhIaDgICFgYaUk4mFjoCGk5CHg4aEhIGKmYSAjoWKi4GQj4aFioWEjYiGj5S/jq6AhoeFi5qAjJeQioeVkoKOh4aDipGBhoGYmYGCkpmag4+HjIyOmYCQiY2MmouHiYaGgoeKhpWLhpiWs6nZoNCLTc1oQ13QTvvU/iIldmAmJWe2OjKS8ejPCvq7aLxZHGvMG7n4fBlYWSt+WZzIiIhcWIxJKA7NTDj8KyxYhBI7XTfLEUMgiJRhr2H7ITD5uxF5fZyYNYpszhseRAVuHYb2DzwupppvHspnTjrPZxbimm821ubhUXlfP4UphzGkmsCE96qPN4BOB9BGgGKbYQwMI8EY6wbIc6sDWygIsFHdCqjAlwT50xzAE4/DhBDwQIQM6dETQjWDcc32SOScgMhMHuE7SH48EmI1y9aG8FEbY8yDG8GchQSZsioH0lCzI24NRkX1T/5t87kMizDtVo5MMxSNShWU4l/FdYGDN1FW7foWE0E/uhsOAWrJPJwPNbsQjkaRv0kOfxZWcnRKiyAANIAVgAjQAAUoJcAUgAFMFc+wQIF2G+eAGM/wAnQEiEkAqniAEuBEnCjXsBxCcB/gZZKAM4mihK4ICGigOAGQa4NFqAPgaxniroqte1qsYoaLpLpbC/H7nsjSieTDLuBHofzhO1tBEKLbteqv700ZiJPnRZEGy4KiJkuyULBjhYwhnenzA3DDzTcMjvP2gPJhM+jS1Sxc4JzvDxNcAB8AAAntcAACBAAlxfAEIA6gXS4AM0ACr2wB0FYADtAGyQAP6WH6DhACFAc5qAAzgQAGOB7swCwaliUB0UA9gDSGEFGKc/gLwQVuq1Ht+vTwkK+1OpaLNGaeNi2siEWttzaWQxLq4cTsQV/UfXsrdDoTvaop002nodCNZdZ2tePX0TAevLqHFXKl2tQ3uZHxU3zrYmLIAMgACEToAAUIAZprAB3AHQvvcDnAESRICovgAwwDxaQGVKgYoDRAwQM2QAGEA5AgwCxnwKQMC5vRfAjjCG4DY/hwqcNABCLIdZ7oaSNFoplpijsW8kwLsU4yD0GWZpbCScaxFYJ+4//g1CB5ZFPM98pYCazUMlLCeDuLwJkumdYBkiGoWnHg6bnSurXreabJmOvtU03gZ2SZH/Uxx70FfzfihpydmUkCDFTBvY99RAjDvo2ZhiYudlZqiKhWYr3ejdo/JxbWu0t3Cz1iWG7mA1oVR4yA6N7RBSjHTJk8VO/JFHfhbuUwtF06zRP6O0PxLa1Ja6vfybCxKKL7v2Cr0sq8oFs2A+MRJV0V43GmMUdKUH2zit0ZVWvT23GkjQbR8M13c8rZJOuOwddWkVrssnJWwdtAsZRx1IgOxGwLM/xP13mZqjZhuhX5VcUKmhpE6v2nnCoTeQQxiL3a79zAobqzDKC4h5Tgod+uIlxK6qig6EoCJc5muG8dw2J4c0P1a7gijd5ie0oVoeOpWiKEqYvCgKKmrIIlnWTNUna7YDmSBrbkGeIi5Wg6WjqzbbmSc53lC8IBzuq80tg0B9k8mRsR/RqS4MUm7k/xhjSuzcuh+ztojlDLWSc1myV1lAcTicb1VCsuz9amgfkybkoEo3TleZ9QVtWlPUcQvbtg3jOk5WT7tr4DV8M0TQugzTIWzTratqytxWOZVYc4y/12eT5TsqwxMGbQTZ+QwzN1tQhluO2nZ1rQzmM9ytGNuHda0iNKtP8lgG+I2vjgaXlCIUA+bZ83Q9X98oPeauOl7EgvPYQgTE8DrSI4ks5OyCLgqSpNgjrQuy4KYKUxKQrvxugJsm2eZTpHScliOAMh1eJpMkuHqTlud441qvoSvmxKykifo8gSHp2hCaqIveW4XwiKMNq+NpUqGDYclT0U7CbmT12kezLM1ryN+kxCcv+hV6fdLpXlIM2e/0wsr9OVoCjvs4wh6odhhiVY4wrtkKQZQk2X1lkoXxv2uXVQsnVdcN17tIcUxXmNBaPUNpxVV8YxFR81cvW0EwJAcxUxAMPx5MlHQ/D9zRJG8wUzulswvJsFUtScV0ld8GyTXVThpA5OAVZMpQdEK3Jujpj7AN2ZL2s68xiMvRqiW7C/Vlk5K7teq50qZVMSwtKCD9CSR5Xu1Vf2vUfIacJgxKL6ASgiWvdakf/k1xKhrYen0Dmdc3+p+68tASi5ovTiUcbLD+wSDZuWQZT+KZPkWacfFuOTnFsnSJYc9Zb1160Z3eXQO0wu4Bh4DSAh2lkeWmWQwXcW+I5xyNTKSyLfQqh661Jwap+E0iOxjXgIiWLiWg2f8jWyevdQthvNmoFgq2gCF/4mW+PDIuKvSBF9VSDQ1Uxzfk89HZkleca+VxG/yx3wmK4RkdOXBPc+Jpdt4t4ID+aYNNTYS+V4rGXMoUGhTjCn0GK4dPbIlIIzDODEAAGngAAmQAIxsAe80mAGQEmsMb6PyDN9XDLDtbH6ZPJBR4t75QhxFfnqeJ3GBDG67JWtcht/Ujw3oB8IXgfGmwjEL8F64oaUKNXkjQ8UUUYiI2FutQVEXSlTYnql6Ef3w459/gY/mV9q8IHVxfjZyKl86ON6CP++KgJP2KL+CJfK82IEhgUgbuvM0Ir8SAEjisPZeKFqAeKAA0AAAJ7AYYFHADHwH+FpnOgRUPV8F+kTtcAskFXSwV+xBxpDD6dkYujB5wq2nlxcYaLuI4gcKmh1ASyG6GY8KSk8m0i1AWuDUnlmUg9IBV4NgL5j3vF8DbTGqeT2xoWWCmA6sT0amfN7qacJCJAv8yycSrQQUCVzOL6fOYcde6bwCTVCQ5Puqu0M7FmC0VML+PXCAAUCGnL3N1BwAFsglo+G2wA8YAAATuAAGrJVAFpgDkAM7AmgF6icoFCvQKQMvfHUR2l5ml2UPWBzIspFN4iNAxlkgpQDFwLqEsjsQC8AMHVg4oxUR8EWidkosRCbAUuYkZkG9s+NwDrwoYidI4jihw0EHxBZY8w9nnxdSs1ps66/DF6BKYRoUuT1jYY2Ano3UdWBmwGngEWACqQeE1oGPmEHeB7J51WzBQAq0HVBVqfLRLoD3wbsCVxhF0A+0APSAAE8gAAAFnAAAAAAEFgAAAAFLAATiEzgF4BnKfQDogAMrASZW/LBtoNiAiECgFohzYLkMjyLD0hnJUcEdmLEEDRfK9xOpOwwEhjyp7CyQGrAFMgXIJRR4aWGkPDCHwWlioInA/ID0QK0CL28JrYUTSGxAHHgDPhz4kkFmAkECfA/F34BPQCNWWGTB1oD4Ff/4NQgfXhACliza7io6aumVHGZ2AzpIhLucJ9oxlXSmZTFcEgS/CqGxK27kchTd/qKC63KVybai69yJ+UN0pISgkAldNVNz/V/EpoRG1IG/eeu4AvZbQ5RV05xFhnIkh9hc5GzOhNK7qyBAhj0eid7Kya1Zoc/OGDLYqMtrElVdJ5n0qS/oJd0j2y8L/3BZAN3lrN3twclvwYGvy+AMb5cEc7khtv0A9nEdWUdvVCCjddXI4YEHYpOX96EO9CSDg3nxysw9tySqj1tRz77Y8B3sLccwE2qHhIpKg9MQYJyBD5m4TuTYM0BVqwRpIS0aQIDCjn4RmBLTMJ6r4ZgSE2KWvXUDONyCV/3bMljy3dwg3HT0JGlxSEJTcVfItnFyFYuOfzLT9tBc3QwRdzWEIbdkk2bY1NOi0Y6QFV8XEsBMMI/O26KGPMmsRE9nDDlSRwSuceE5BSaDACMyzYP0FyjuwqwEGijQywuEBKSs4+MOxTQCX1XmXg4Al+1EIjZkokhEkxPqB6FxVUmZtYVJj6QAAw2PDF+0aUH2vdvhYlkIF3WjXOAFgeOLniGZUl78MR9YBgueB/0gOMo36BBeXjSYSvYJyULTvFsctKuyozv9wNOP6mLNxqcXSVlbkAF8QKuANqhkBwce9CrA8q9ZUI2fwb5zF7bLwlkU12epRt9jrAm275qUX4SZdnOBcz3k9WEui2YZ6HGSfyFBKQy6GXBFECCFrm93fi0DcjGYVe3w+xTIQo6A38laEUFPCz4CYjjYlZVZ0Y7FeN04Q8QTTUD3RB8VcQgqyIyMASoG1tCloiSi6eRgvxEp/U/FWSX5mZL84wadZG8Yuaq5ffUeniCv6p/07Krv+J3ok1vlSuOQnEmAatN7WTGe8OLZl6gXB68zwD8YSMAZvCNXIQYdRkZz7PIAJktNkYDtY5XeveKg6fZyGVdVT36HgsurQyKFwS3iGohneoUjLHE4yEKerlpsIM78BSOmHntDFFVSQ4KigLNnTj7oQcWR4TShbNK0esDgIzZXt4NTQlCp4ceJFykWGhCXYNLqROvSORDKLKQh6AS7EgEYxzYzy2ohsfUcTkMCiDsOnqWKicIK4NOjKAx2A7cL+9PDMhvsEdhI8bERhCcgp2948dLAywvE/mDpR1drrzkxn5Cap+Qfa0iTPFmK/5K8PoYPyBR8DMgH7w2RlZPYbfMcQpd6UNIWmVicBU8zeH6kq167qOUnUq7ie/vKWoViQgWZWmbA6jqMbJAm0Da4koG6SAhHv1cFS5rPa+ROX2gvGfuNnieuA5ZmEx2AKx9VCGQAQ/LQGVgUnHHA3TyCUZU0RR9u5cLaiKrPWJWMAkT5g1GKhLIgnOeiroLtoDEqygQ/mLOKbnr48VsUaM686UQEtzRTQHxQ9Cdg/Gh+EuAheCUybQBSsX2hmbCEcZOnVIThsIWxJqFzpXY+6aNWCAy0fxQW+/15X6ZeyF5pZJlKAFBgiemU8VkbsFM2AQM0OfPPo4mkkRFhDUIbYlmyIJajpVh18BBk5dscoVcszAOo7Azgtco71mA4/pTQ5HsCv3UCU6+dVDPFYcWh+UGeL6hZeKrZYJfDbPgOF1gWLN+qVIHoj1pJNgY4AsWVmT7EP6dMvRUPFq3VgK23cwGXbOMPn3sXjsMZwDf9PoFupgy0BHlBDBcLXLAVJFciich0yNUwFc6LRkVfWTcy+nI5uZ0J602WBOhDHLc0PtDcnmi6Rnlyt3x3MfAenvw0Za18IJ7nUkd9xFHhmd0TcDo7VzRp9cYuOaEIeZ8uez0HZA4p5dYq+Bps+xYtuE38zfY9etHY1EvcOS3RhSnXuCTCM0NsqMZoq3WomUiIcpIsYWoSgK15TIpII5BJpqpMIHsgqaKGuSHslJHgf068XgVyTLZBCvSlLcZXqAU88JeeL6YFhXjcgYMTCBMjgqobcPU0n+UJJPXGa41CfReBe1hNiQTuSrK436JGPgBfuxAYYIq1rUnldfixtVFdo0ok2bZVWC0apagE40mh5M0jBzI4hbwa+EwtnmRbDFbSMYm25PpzVXsTvowPMtaPYxK9WdimX2jX5qetjmXygqIzi0ik01T3YZiVtQ/nKrWtL7fn1PLGq+k04FXoSK0NsFzOpzliY0+t40wc49RJaK/LvRQXIZLZE3msqv0fUOK/NGfOf+le7oZ89Q55sDWDYhAIgxWyxhcjikKnipWLjZUsgnwpJOHNbDUatNLOopVWmwjhsvlFt1A5CsZewYHXZ8G590Z4+Cfv5iHs6rqvTkRlMsx9Tli3FnlO63dftqqKa5PM+sH4uQH/nDyAHfTO+yb9xokmuPWxVvYKZ/L9u+5kjLOjv122dDoh8z+vmPxcYqr4FjP8X0qJuTshU8p9moA7fv/4NQgg4xQAwQASAhgCuS4A64DpNCDIAVsKKEOpxMEaYUlIsACtiXCySSQDGn8j7U+FjQPIKGflnFynJ6D/hpx+m5HmBOwjAuge8b4B1WOAF6ANWEIF7oYEeCphkAEh5QawtvzIaDTYQwgASvGgHMBhQ9Qa2BFyaSsh3ymKGLgGPDzBYQegenY7dPwfwOyFYdkLyGMImRRDhtzebmViUhJqcuTvgaMMQGAtZ20/qQ3QI2cackA9AdUzoKMpjNrANrvu0/zUsGVBl+HITPIzRJFfW1mvGJAoYlg75vwqje+BtjWrtqdObQ46/exwSQh6iitErcsy58w7WUKyIYCQiZLCI0Yex7rwkEEBC3F9vicqMGHCEKtDzc89aJ0hmHti6kOCK+oXJUVC7730Q5CJ4Oi2u8i2SQMqhztL8PHjupUjcCKwqrze1a3ERMriVAKmEw0L9NnmjLuN1LTFoHs7fUSgeeNYYscWOc0vSSmL60xSKGL7Xf6sNdK2Vm/Lvi+A0CnzP8FVSZPMToMnXkv8Vd9RXjhoDuFVzT3JkhvjQm6dZaDEl3CYKqR5k9U26xlCUkcxv86TNlNRRLYblpt/iv53XofPW3pE0shekttUl7ilyjTC0+IbCIHuE9uUTKqzTtQbJ6Pae20IajUZihD1eZiDUUh6gYu5owINaDk63o24jmMw8imujniOalEannUCjkOgMdT2n8FJL5p/7kJxc+Rw+H+trYNdLqbo+FqawhSC/hMVCgy7sVRcpQUfQqJxLRd2Kyi/V/gdGH4qaxuN1ylYXSOK61pk9HjPEt/ueHdbTYxuDez4wTHJayiKna2Cyygot2sjZRbCSBG7RF5tudrcYDZqNwZ1DGZ1cyrPKpaV26uRziy2AzHNcxKeBDa5HcBoakkH9gSGTbCyiKyNPKnS9fvtxw9J65tnKLIYLLqj5vTPLT2JV34PL85JKB2aZP8NVZfH8xl71fZ5Lsqb5xEpjLQ7nJMBWJR4oTTZhzaio8s4sqgnNuVn9qn22Z32bamSTyJ5GQ0qlwLpSCKZiH1LZTemUicaKBUvJU60VGQzKq8yby+GWOgRCpemJWSf0y14FWuXAIte75E4hV7NasjJofJbFa5tW8hC5vdT+E+qcjJDH6HputmFOpkJuclanV0lK8DIqTAL24O9nO1X+2x6xTSh4m3ROWyC7cCnI1N+tAuFXNJDqKjFApEHiFUh1VoNcptEv8Ng8FnebgdKj9ln0LqOQv9Em8FjEfxUrh2g5dqg8Cj8Gs2Zx21P8ZbiV1rfXo+tJu4yyCVK86d1d+nawwTawCP9VB2PrK59/m3OdaKkW2dWusUC7ZblINns1yqRtJJrplwMJUa9Gr1QYPpZvJIDO8TM4zHancaDBYxApvG4JUqDJovCppbJnHqdGpVHYjEIJUKfXBNH8XyhtGuedrUwdphuNeKuw7QqG1KJ5+mzGo9NaVJWdIU12c711EkkKiEsjFcriOdpjth3NJjNFcL1bLNrp5DoBIJrQbfb4RZ6DX57S6fWbzQYpY55IYxHolR4xfobBp9VoHgIZCZFTLLTqaT49hVOElLTsnKbEkTLPh8qWpJQ3hadE/jc8TE+Kpr0sWw6442w0rMYqMQCTVfJcZFkoYpOusglc0WgzVYymAt02hVPntXvNTu8zvs7vtbtdtuNDlcPjUhn0DhM6gNOkFIllYrEGq0kg0JpkdlAgApBppg2Z7Vbn3YIES5qLVxy5nXI60aN1uC1HHr2WEnrBsL67zRuEj1EjdtjNwQ5Nl4cxhl64mcrF+02i61WxEsjNXudnzeJ3uDo8/pd3y/LqtTgE3hMio1skEJg08wlMmEWwlmtEcgMtlkygQhwUwbiaGbAiiL/+DUIIeQWDG4ODQ/YAnpsUluqUY9z+cJ7RnmaQlBtZzXYOHxRWGXWNaEURFCVC2XEcwWZi1LQhKs22fIczxdDlGQBFc3z3PsAw5N8dQfA0rQvAMcwpDMRRJOkMxZBMLRdGUSxXB0dQNAMbxJCkERvGMEwdCMPx6pxfELPXLzVbyBky9Lsy3X0wol/mn0YLK6KWcf52d5jrOFti5q7p+imO4foekYtvbEsmnCX5Vvmq69jKVqwiiO55qGS6RkGGqWgmD4tiGOoIhuCJWgyGoNk6UIihuJZigaGJzjGELEkif53lWCqGh2bY5oCO1MLujAlcQKu1GQxopaiHWuRVzWdDzAnxM3bcKkNL8eWFHk8W1vF6Q9U9UxbD8GTdmmDUpJNw17OsMwVCkKyVDkJ2jZNPxZJE9TDGMQQdH0mx3CkzUBE0KRTK0nxJClEQdD0vxnAsBwJHEqTjHsfyjKkETZb7ImxS8eeOJTyUAGTFObufSWD98ka9vSyuanNU6863xZDEDzpKGcRZDdIy3WElyhIWmVtPlo7vLMU1ZEUMzbBULV/YMvwpTkIxTYseTpMEJ3PCNEZlCEfyzFtPTZBFHz5MEE0PIMMT5FVFyTANIWrEVG3dIO/EhZoRiHcvTdsDRBfCBx64t/Q9Ya12CbKoz8h9jNcMkUtVvUxmhbLp50+JZe1SSowiKhI0mep7ZmatJcr/LYXnqmtRquQ56m6f4qlOorrjWKqmzCFaPuG5JApqY4VhK3pOw2T5JwCAYYt+RJGkmS59hG3oDaA8igQq8NFhUO2Ap5NQ9kGZlWrKECEtRRnKbVmqbvx3i5Kxa/wKQGlTJ9+p1d6EeSHBWOUBW+F0LhVfSvgNE0FGNH3jLVLSTcc13JDlQ0/HVhV1DNqxZHlLQFGULRZJ1kzFFlJQLYsGVffkSSli83x5CM3QSIGUE/0ChRLIiIBVAf8emBjoIjREPaFWY801vrE95qp7j3InJ1dLtRmSyNJbrtfhfp60uwrlMCxzV2NQbOfAwTF9PRPQtRxbKFhzDENcSBQtV13gV7VVe9Px1X1iRTAkWwJMETS5As6zPCVtQTHMs0rGE431bpoj4kjgQCGymYAJoAjoh8BEoPJj4PaCelKE7irS26ZJIN+ZMpE+0kdIAwAsr0zZ3X+kWAy6JlZ9PmPeIk6KjUk6Ha+WXZclG/v0806hjUaYTwNgxxqWJSDj9q191kQUHX83YpHUG03aVIUveMH9lO05pXhrnsq0NHsoD/CEBeIDlSIwJMAKeJ2AwUBK5eIVoGrEcKnOFL1V/mRfwhLXDyx3O0ijh62bGOm2xu54g7Xtv33maIwZJVFWbyOxw1N2kQvBfO7fYNWbtLEyoLvmBMuxaZK7vuH7CsqDoJryEqBqu/M6jKr8FiSasygiscBom4K8nGSTzEqCmQLbQOBLQCRPiARuBaPjglwKK+R4J4pFbFWACchSXIhTo0HSA5gSViYrMi/RneM4oyI8lRTtPFPmUp9ZPKXUnOoxRdqd4T0KN7DljHJnUTqdVMIxJCKx4OYl1WMo7iH3NWhndYcw6OICr20o9mKeYdqatZmynJLbSMc5p4XODITHAECB+BkICsQoNCAL+GwY4JDHnle5oJcF/LsM3DGTeTHASsdUUKP9XqmQyBVFvdahlEcArwclYyfXT7Kgxk2aJpUfdOiW1Gc6wDGem0bBOLZlFuQ77MmjYNUFl2DqucIwwzaUPz1v2JVLSMTRfKcP2NN0E+/1QpKUw9cGbnFAO8DcB5oBKY5ER8BLBsSTRQYnF9O3DKB8iGh6YMlceFXARQrAVeGL/2SoICZtj6e2Y4zyznmrU24kguI38MmhghdJch9pyELwQhXU7p55C0Q4+quysq9i1bng+nJmn2LrOwCg+DiXlr8sexacpLB9Frb+Li/VLYoRhRsoG0zWB+AFBJBAfyCDecAkYIEh0Q2OzIpg4TIOYIuMBBvYp84IDVhGh5Yd69cugmJf0FyvuZPtaqiHEbMWyJV3M7R+k8Eltth7wkrUTreC13OUEWZRcCS7A8BwhKkmVFAGR1/p39T15vIzEC3Uv/4NQgi7RbqUOkQ6F4CadhGPZVo6krC1OU+hZwNg5UGvg/sfkAfYF8ApcAbOWyEKAIsJuduN1CYVUswBEA7DVwRKDR5FBHQE3JMDkwSv+Y+Ibt6C93gpTo9dzWl0Z6TS6GfiylGXWuddcW7J/lBVTzKI405DIJJ0GlpRmmibITBGd3oVor7LQlW4a+h7JbJwxX0VJjWDaS0rm1fTbPEZPCO7A0F7ICvAFDQaAUWBMPkAmQN4nhg4SyLt/UZ8CtH0HDg+k+klIHlDXmshx5aqQjnnNXtirWVey6Uc56CHyorjS3M0mK1Nt/HhcQ56VIzmfS0dzApZLWxpnzW3EUWNFWp0vJeBY1D0Lx/T982og6mEq9rpXvQCkuDK83T83UCOi7wEPjCwFYAHRd0AQGA0OUw2IGTEef6G2g09jIT0B0xsR5oGWhJb0AJcDZEBhJY12ECWjyGqWS8swmg3RG2YE3Fo+z6F4HBSAo/pbR7q5opmOz4kxWF6e2ixOL1mS/G8qIcRyWScA+a6vL8+TPUlClYKl6oeJklHX3ae1Go9+HmFWCtQCkRZoD7gBpDbgBBoBZO0g14CDmne6HZgoN8IUcB2xgwj0CRRQLAAVUF8VCEijh4ZOGPcRh+JS7E7oJWaVe63f1t2Xv8WldbpWR68yTaL9Q7uMA6hxlBd3bcB8BKkKRxpeYVbjk3yFUGXwbKKII71vD5u8iOtlv2FNIkOHbtY8ECLPAysCmQ/AAZgEVAncA9ErMiIGwHmMMM1AqkcGtABTQ6jfwXqF98MNaCqIqZGbTyNnKofx5GklgovSA/Ldttc3tc8M6lz5cXrfOPN065KC1dN6FI4org/Q2xKvx3gR1ETMd98JCk/4LCsJQlHM5SVJ8p3jVkpWtZ/Z2BOW3IHPWEWHGgE1heoBPwAw5uQBpYH/zCMSGeMyJAMhBZIXyWABtQzhMYJ/GE0sF0DUqbKrb/MFDYckZU0SkusVSIT5dD9fxjjkIBiuJdJm7AZSiPpL0RLidpsItzGcLiBHF54nHPpfV2qF9TaEmDZ1n8CrbWpp0+q8qwOTI3yKpOprWw0DAh5gwLHACP8rACkgDaNvAFqgq26Rsg1wyRNgQeCuzux6wOKJsJPDu33tEDEn6OpJh6dxllSlZt+UQp2Da+Z9l7D0Tyc8CzuxcTESwI9rfI/+n6m8Jt1H05SAgumuGo6od9gyJkWVt4qd5YT9dHP9bPG+RJrs21pVUVSrt8WRUuT/TZBXBTYBIoEbgIaAELBMQFUgKheSsQd01oth/Y1UvlIRoyGEkaK0F2KsBACaHcuv6JS06IhpaJotyXVL8uva+TlSBdqgqOcDwWE4WQxQ0ddHSMAdBvGz2DEXCRbUNEwXl14cOhuikAa106S5vSV/SP+tlJfkloVrWjlSWvl9u+UCZkfBp4A49N4BfACGlrAKJE3kZtAXEzwUoRubWNJMcPERRtpFNHVkVlXGg/bQvVXNB2K17Cskx94EEINU3DGvV9BMm4LE9LRBD0i65DeWZvcsiaBnXBzlndmQRo1x/HSlEYt9ciSFOlj2PpE9Ubudkd1AGi5Hy1eVjVs+X4GXFJAqcAYqRGAZQBjWrB+Z3KUaTvb3BL0imWlCrcL2iS01z1qqI/DfDQ1q/s4LTUxx+l6N1yzetTOiK9ltBRSU89+bBMSaTK1heBKWl55CtYbHIOmQZHOC2BGk5xFnMKSLq0s1jANV5dG8K2/dHSbDgsmIQoHkc4jaXdpzjvg5JIgITAOhW6BnAIOKGH7kTtBuyA/PZtMWIbPuGxRfqfswevZuSYEAqvh6Xca9exqFiuJsj4iv5AV7TNLY5XmV3hCW5W3aMj7V3EB2TQMHyRYk63nlerXlNvdwbhFXyvkKWJZmDQ51uqP0FbvLFj5NT2dzPEX/YPhtBoehkL2V8OnALnMTBlwY4YcKz0FRsaXeh2jkKteS8/CrFf8C7HkOkKk6bwcJlbPGistjj6KiyOdumuHsVa1tnFMSzNaXNEpHu5O1CtMNjaoLKgrP5JuGprNj2eILsju4krPErQzGPZg1ySazoyArMgzR68stOmcy/gsZoY0m7GAl+BzmLgiMArVxgu4KCtJ/dhMBfoz1KJa+dnAGzHcJNYL3enznELokIRCBnK//g1CCPqFuvj73D1egICniYrmnUqXQvX6RUW3l214EXja/CxL84+bZvoQ7hXiV7T6+ZYX/xaNXBhdk0GAM6k+eOJODJz5rG8WOicGMzFCk0fmrKWSb6xvR9NdEP9AAZAjABJQAAsPBAEQH2VIfEzUoFYXUJ+DYmbFUB+gSDjz5DbCLCpb9Od8rCIguDtg0IsspV54pVskE1nPXcirUpcIAZiHX/kSyv+191YvpJodk5qUGvMvyopH4HF3eoePUvRWpNtPAddFHSfuH9tEqUm86m16x6Z/LOoYYMEuAGMGbAOWABkQPw6gvS9wciEWBFhBTWgG9/IqgG0N5Zs7gqL1W7a+OJ4PgrUIHZ5Z/f/v6sRbEGw2vFpJN8TInCZaECcdW3KSlM9RNesLlIpC/LUya9LV/KKwZ5NzLYDJeI1LCbLETme9xd886bEIypyh3iB9dMmBWQypWgBiEIBjQAE30AZJlJ4NqIYwQLxvhRwN+D0vYHCC8XnqKUQCDsuQkTv2doerpKyyZaVICI1rTuMUzpugvblCGzPKkS4zWIpyVuIW3QzfIekgCNLDa/O1xN5PQ480iMrJ4fMlDS7hN1q0UJ+Sow71oFh7gSVLofCmEERIEZ0ZIyIzAB5g24SsAK+DjQOn5kmI+DzAtEwCHgdUTc4R6FQ1rgDoECpBa/OdV4UiEU7z0sWiGL55scBSJESy0uM6uUhPPQ6klKwkgwsaSh10ZXdbuHlJPacbm+NgER1+GcykfffUCXwnKQTfP6u1n/G/MC51TrXDikfyN2ch2cAW8AagXoOiAaMVMAlgXuGAiI3jSBPg2BuRiwcFwsNH1F9A5wxxjrWo6skNWuL9xBePmidKahPjvMX15UkN+V1YqaxXlRD4IaslizDS//DXnc1O/8pK/Jr9hjbbBV8ptjlCyZJXb9L2CRGIzWfTPxqZqai8a4bq0N3Z7w10//9sAP8wYxoCmlWcwOrfD2nm5gZIMI9IZEWG3NUm5TUMPECCOJ/q+VMgu5lOHNTnfgTBIiqzBS1WVtqEP49WTwzGzSu4K8Xwgd/gHrTZbZgufhTKs8TcozkpOvXrp9C0VwsVwlOPt1ki1XpsoRH/QOz+u19CnRfU1fTYzBqMnIAgQ/dRA4p6uQCgzoVESDmB2le0Q9enxNiS0bNMjXBVDiJG+SdzFl3HjIzO30hKqsgdRaqkyxUZ3fuTeKkXbA23zESrTl3u7atU9F1Ym9JSq7Dqv2U0TtikxTTAwaPKMjib/W8M5be/88ZVrnFqXoYNitMtMP5k+geT9ipgaKqCilt+YRYHFrh36P6j3BJMKR0hJroEo4yvJbohwwE8Vypym8QVUQ0+Rm7/OWlF5aCMRRKHt2BRySMGm1k2WWz2smVQ7+zQmQVGu3/K275QWl4+xSiudVGmNYqx+DeNSoHpej8qHZKVAuTNUyUWEwjsXItbubNfELv63BwnXdU0ol0XD7wtxyNOOeA5UyM3DjNQ4V0yrBbZcLgYSXda0stcy8iCymuaVI68vFAvHCwFjV2W8bN12EtBbKN8uVLfrFvLRFzre50GWt8+glukMPpV9zvKguIpc00EvvEflNBsMkiNts3HlVeh9SQNGs3cUwqNkIaCpcQxK01MYoETqa13fMQsYKLeOt85kPyIf17c4X0wHa3iPVb4J+Wtpb3rFtld39iaJlHpj74xOqXc0L+ns5Wep14kmx4SZ+9IbZAYvpbZwIfkPT0u7HfNu4ZIaQumpoWxRaKzvzzSOZHgInzu/0qNuZlc/dT5fFxfsD5f33OsNbcn1q3T2xoI/l8OVakOiwcZk1leLSbqcrIQjazE6ckXOsKLX7fbmIzHC1shrvE0+FS9HLBrvRWKBLUQwOlS2cwpK/ooqaRuD6zSoIgcl2yG1ynSafWf2VLL3avza8gG5X/+DUIJP8W9Vr2SfdeAdkytwsPnxdzRtKTA2ASQx9QowinOBRsoU7YFiGR0XjJKA5CPZp6thlsqQKRIJwsMQlhJl76qWCCrvrZNKClObjnlf2ba7RKSZVhlKpxRcZAqVLouOUvn1Vft2Xc90uRAomHrpi3I5hsDpf133zylQ1fa4e+0sesRKo6YPGygcAPkaw2QlDbEjUCH1nmJ5OSapLJDTxSotKw1UqGtRcD8N7KOG7JndTq5hCfbCsWSAULgdqCS8mwbV/bSOwzcmUUw7zleNOh0URa6rUtyqad99L/2FSnKOj3EVnL9ATmwW/l1MmvrN6NaL6+aqwdYDWCzhIDOLQBdnccOXO6Y6qt0s5UEgKFz0kXC2ZBdl5zCCWCvI/DqfE1b252qN+fGks9bMu2DzzVR3Vonv1BTLQnjZhEjLIOXuo3tWWJ4PWajehB3KA/1csRLKOUxZAiDNTT3/q3Gw6Oqo0E3QOofdI9xSKoBWmQepBC9aAimzLTIjrw9cdrlw7eKVbyqjzwmEMOfqpVG83Gnpmk5LYomDJ4UHhkHDrqf2LhtXHiVCBhSblIdAzCHSmujOxV60Dlz27eZ9KyNdUbs1sQMwlYWkjtmTkMjfyNEaEoc7UsyaBAopEp3JoxRJPDniiSRmw7FTTN+MSc8q8JCdvCzwolOplr3WTBqpxZ/zhGc4VGm0ZN3qi1qC/KJFbbLjMXiIO8UfpEzBHFz/cLe82mnPny2/DUR7IS5IPX0671sGaUxTtzLyxkVK13leFABNvx04Mi1Qsi3RyDKpIFDBKlCLma9tqRlxHKTJLFbSqDKWelF7vSxxMeBwFJYlXrVd0leRjTNVVOKrYOlx6BNz2xsw0OpIFG/Efi4iHkqPK1lSspPI29aOm1DmWko0cLwNh8x/BAYg9RDHzCs96PAncykLxg8fY+/J7lZazf1KioSsdQNlFPesRKPSmC0LnWlbTAVuUt/BAxje8+zKwuBdpq5TM4j0x6+bux5idvOR05EPVavOsKOkj57gTrMTdhV1N9u5VUSx8lwzyyNtDrwi+IrxVcOXHLzwesbJUCXyUl2INKTRNfuztXMm061ENdGcbYi6f85/pn7WzIyETpVlhPY0rSVcbxz+pyy8unsuai9zngIOWpde+sr3+Qf1X6UYz3Ik6ypmxkD3a1NFWQ3xdFLF5OIxmbdVSgV9Np03TG81btRN1pbETu7ulh2+TI3E7yS2Bc1+lAzfTyrrL3Iehay3cX7VRLzKp8prv5SaY6sVLA59nksdx6r5AsRM6lR2oj5Un3QwUIaj9rZzOtihTHPRpF1eih6dIlHPE8fJt3fp8J+E/GVy7cDMRifzNeQk7LagpWXpMLticWwntFMWdtS/1Yh5ST2EvD7U/uo6hzEvncnfT2rSYslNXUnepxRrRjq73wNFkUahJY0S8PEhlTr+iBKZ2/07F3mnFX9TPROhXbdMmKhIweBq3cBPSPaoofSx6tbJGXibrFz9zwsanCxpjfkprHhoeKhJGP4oOH18DYTM1C3lvsqSVic++9PuHoVQ6SQl0WiCLNwkZSRr56LQlIj4/8krVNyVFISOhxo63RVTTz9voJfwW6y5crKr9Lp7vGQsPWP0o2ijKag1U9uw8vKwNFr/G3Pc235KdRIPKt5PO77iikp25A/BD/+DUIJfgU88z0BgGlQtEtUCUznhzFJH3wyPPJJa3dYqslI/tprmVbsT5HUpLWanJvpZb691tVgJCFfn7OM935oqbChuWe8yOnGtVjV0PtZuZ0wxU+vBK4J+GF4nTYCMnZ7SshNaSC0Kg+rD48Cq2tCqYUEXmhX4lZUbT3ZttJvaO2Tm3Ckk3U+GwiPNqk2evN2/G0RWVXy/VFPXkRDTlwhf5SGoZ3G9HsXV5WjwaRK9+8O7wl1pyhmxoCRP49Ih4EQxjUq0nXbHPrTgDFxhsCttI+YxntVRE5dShERJHSYqjvESyq77vUpGQkDHxzp7f3a2ZBwFLwkXIVTPxT7ntB7Ei4skxW34k/8z5pn9qQy91tEjD9mNyKR3qbaZfDpzoJK5oIuyfoLL1Hg/6Twv1qYpJJ9K12eY27gt3GCGh3Olg0wVJTJMNUVlfMRMVtbEIVT/G7dRvMDwTu3ZIXEMuwOopo+wSO80cE7YMKpoCO48Xwx/ko/Gb6ZuSOura2UQglYtIXi8DUV0fj9I4L7VxyZXwwSmJMiktDrCXkoSr/wIDMrwGa4EGz2Fur4KhEJI8cNk9xMK1OKZSjnZh7NXNhxrTO7M3WVX641lV4LVPVe4JhJb+ggwvG9LTFh0oxTArPYitAsqPPurIq4aA9C6QRQM9kZ6SaRzUOxYdxMNy2I6nxCyzkiA4dQYrWNGnIgLeGdHU2ElED1YHCbxMvRFdRlwsk9INno9RHTCa2kC2sILiqDgF6IEKBYF22TRRuib4CcSpa4MVJBIccwmtKNaR6rCpMFzo4eBHTWdvCS2MckEJQQMSFVsgV73gW+sgKCBHJD5OE9K6sp1SSYpqbhmYGQXyEWEdPINlIEvg3FlYNG5jUJiFY17zLLSlXjZDFa1cjsTVVniWR91hYzdRc8E4qvtIztopiwyYt5uA7AsrBDNT2F8oTK7WZHhvU8WiMNO5I8c85ST8Vtc3DL+xJRf8DIvq6eQNAl7/J2Z5giGYxuoRPgK7D2QD33DB5scDAu2fenQK5KOZIct4rVeDgspIo6edtMkznwgYq+p5d8VJteXBWjYFxuzsb9NK7z0/yoVR2Rx8y2LplO+sVH8ungfqUOSWNIcSku5xPtFTCuFsLHSfLdeRjWb6opHsNTcpTyaTjr1KdBk760gvLaO6dnGL/2c8L4kpoQo1Qo+lJxdN8ws6zxoVVtsVPCeUzAplWgvQSLlD0yCqhiF4OpbesDjrC9IvKO6M4oaa0dTYi3oYonoS4a4tv0h+lM+2sjP7gtqFS/ZITXTn9S4eUPk+QUmswZDTZRsqZzQEjMj1Yiz+gMXPQv90JlxwCAqUIvKvZTTCuV0ToiLmPijfyXCmcM6+JE3Mk4ojTjKBVo3krTzToSUhTu9jIU2AU1eKzNVo4J6dKguIElikr/4WGS+2CdSEPqT++kV8yIePZcChmJ93V/BfEULy6NoPRuSLLNTef5vjU09slauTs9kyjTzSUvjR0tMBSrLZWRpNTNwK7CtJ768VYfJssfmmMkDz2TCioeFTy2ihHovX/+DUIJvEU/7L/lgFNEY7ERm60/DQ9IFwV37UvwIqBEIQnCZyC06lT7GFYdAavw6hBWaNDYhRATH4rjB8PRugEy4DlYCB/WIR8fh6IiaIQ3BM2Erjh0KdgsB7zSRWBCVB8UB6uQpQS9nhnCGBw98bYmrvkLgMzAKtCtGC64K88e2JuDChKgYEweqim/XiEXL1SAiIwan3/OTgSfQXcH5apHpsLrVScIBfX8YnNJFmZPiK7DBvyryb3xVUvkoutJSYxiZtxWOhgXjofGQblRUH4LwkhBSUB0XnF6v9MF7SbdQjeUvEt7xekj6tEMLqcgMWrYmShubWCPsKEpiHwoGsyL5aN40xMSnhotMTpSE+VrNpOOpyl8RAjEyg5uQCxjGjWus39E7A9bHyfbk8FZiqSb3TgVC1gIb9j0l4CbP0OKOJSHIx1eizxDr4q5z1K1pL4fEZIZIkkqbcr1+L+Fas6aGCvB72vY1sZgqMMYFSLeftzmipE6yUqWQq/PREKaLEfGTw30cuhIezvHi3uQbscapTIieBZ/v2Sg5/WMeiwwE1kWAtZj0bmltYfAmKClo/CU3KYSpuJCjQVAltmW0ybl08rBzrUKpxGODReloJRDOhKlpVeG0ywpmgVtTFUvDYJOp+yorGMAYrjRh7aREmKQ3rPKwEN7DrBo6mwXoKiFu1bIClOVPlZZJeMW/L41/YiYbGBjUKicKUnxy/cJkBMgItVqOVKGrsbF1/AQepSYhFdkr/IYasOFV/Mhd+KW6CbCYVshNAkRyTSzav4VmGFGyiirnvVHHLzpxN5lZDLXXXPTbVxH5NRJbjbBzHJTdtZbZNfNTbDLZfZHhTVTlRrbZHjHDJtnFZdTTNLXZjZLLtLHdbDNFv9rNfZhfNJZXLVTBLdTFDBhHBBfpjZBDPZPJVDPNHBVLHRHBDFDdfdPRPHdLLZFjdHRDLFRHPFNNXVDTNVPDZbFhXFBHBBFJDHNFPNJPJHDFNPVXNLVFfVDFLJRbJNbZBPBdbFJLFFbhFPDFFFLDZHTJHRBLLNRXRDDHNJXJJThbJBBFTZTdTBDDNJBTNLVTBNThXFJBLJBJPJDBRLDFHDVJLLRHDJHHpTbZJHPlPPZTNLRNTDZXDJZfZHBXdHNDBJXRDFBVrZBJPVPHdHPJNTNDRTNBDJXZFTDVPhfNFHBHNNLLFBhXTZXZFXVPNRjVPZXRFPBNFXZDHFBXVNLHNFPFBFFDDRXBBdfFZTPlPBTRRPPRZfFBRDntPLdHTVBBLDRLHhTPpnVBHDRLDRLFBNbdPBRBXJNPHhBTDJNLBFFLJMxRH/+DUIJ/YS/9QAVjZhHLMg0vJyTYKI6ooI8KwSpISQjIQlCI0AoWImAlERMQEkowgRggsC4LCMKFMkQpoL0KCeMQsgcSYUOJ4n+jnosDIgeQ5s0zkB9z9nEGYwQzIeyY+/NT80s25QCAMYEMsaymIZCDwIyLuEYggYBGwtKBZEkVgsRMUC9BUsEJiE8FQJSWFhZC5cAhiYROTUicJ4SepmBHCMgfFvEaSD2ZEGuwybI6zR479BlD3o0Q3T/wYL5pkDQIzLaZDEsjENE0BAZCdRCDCosYKJZBGK4lhCCOAkMLJGBHAIZBNBeqELImFtBMUYVLEqaosIYQGQjSuSDK+rGqiHUA4S9hYYQb0NDCgwQ/44bFPNkExqIBiHBZ4wmWnDws0FmQwXURqMS5GQpWiUIMQQYRFxEqNBCGgooYEaBDEliE4C6gnoFk8UyQVGRBi4J9KMUxIPE7JuKmp5iMJhkYs9Bi+caCAZgQyOt9iDiPRk2TrQ6gwJDKYyiMLNRkBQZPyI1hIyWKMlFrCpJUVkQgwQgYkslhMlCpMCMpiSMCg0UIMFtJZXEwp1KYvv0rbCJgwhgtv9EcsZExxEaAGAR6WO0YIZrEOgYCbmm9JoMlggaMiQeEsQ0CAMIj0YQnTLJDFwL1kniRAwKmC1CMEoGEJLKDCEYipWiTJiiuwmV1haQwngjy2AhxyKMtrLuJzFnchy6v/4NQgo2xIACgC7eyKR7rFIfhCz6yLqzkPJZ5qqMKTy5SQqXwnumrPMraodkWbpNjLkc3VKzc3ekiKYiq13JJGcknRsuTMvrIuIrbdsqS5rbWkmQU01y8SfVLapipO1lthj6YoiuZbPLMusRfp0Lvt7FJqu3VzZRBSOxchQj/I6O0SrtdLkvyMKaPqSK2sye7a7KaKjLiUj3bm1muN/YyIvpiKnm3JVZRP0mu1ZZPs1nJ1RlusuSqyp5stJ5/Fna69PGx5biFy5ySyzS+ToqR2rPLdpfIyypEdimXRllnSm9RckcnSRKkdOaWM7MqVMqZql233a5n2IqEHSmsyoikunTbzfVJWcywgURLsvI6K5FRRouz6u09SXTp7vLZEfIrQ9yZzdZFyM8nbvknrPUSzzWdN9fknSUlsk25C6NF0EVWckuZTZU9bXTSkpHzoms3xK0XiOymzpFwlQ6k2yt0qW5C5LvRD0lixquQ6GfpW8+K2VKnaPumOS+OiSd2liKrXsVCLdZKn7eK0XE3R61tZUvzZ0kmiOYXGiWkt0rsl1mSRFjTfmZVJO0lmaOSOjdvG+pPMUT0nVMnztnxTNEW8QqWpZqzzPEyqRHQuRU6EU4iypSt5rUXM6LUjs4RTkY7I+s36SontiVKZRRPvrK1+TtEdlEWymO2ckbo7MvpNNZdp2kqJoUyDiLJsiKiVPeTSeOP/4NQgp3BIACQB8rIwkOLgTGpZeI8SPmCPGBbRAySZkIZMjizLhQMEzI5axNOT68I4jBDDAr9a2MAjwp5kFmRkmSiZDSxGWVeEiBmRF0mQwSYXFptCYJmBH1CJDRhTIQYhHGCzCGRRBiWR5MsCD5JAxbLJQzEEGJgQaYW67aicj8sTQyZeFgxBi1OhSNheIGS8TMkhqiZgtGIyJrJbXyxAMEhDSLMTAIO0uYEnZWCMMFqkTUXonhaaUGJWKuqzIBD0GJCQ00IMKDIiYwIagwllPBB1ZBhbsIHBYm9knMWMBR4n1GQg9IkHyyTCNphA4EhmRWWrkIxgsxEfFEIbEsYJpiTRojKEwmiarFmEiGE1hBibFJk5QxF2S+EZEZWxEMkZXrEDIBBu8UiO0hlo0IGBB4R2UoxNhgVIfgWGSk3JbE8iW40IyYEMIMMJL9pJGKaSeEMQwjQhAYiGouRPKidLxBBimYQgyLmQwTF1EkNIMAjJ9CZVsJz1i0vFCBietEGwJQahHJpkxLTIMW5GVGJQQDQwEbEYQ9QgyJpsEQbomulsWWhkVaahDsuYVxdMWXsF1BA8EaQgYSNJDETBBidGBDSpDwEZGQhknGIhGX10xBgSxDiQMKwmGCcEad9FJA0LQyzEUcqTlqOivaJlfLU1tScLtWSGYTlgQDBbkmwRbyMV6mhDSBAYI8EdeC0B+gf/4dQgqAnt/Ev/8AGoEycEAwKyGSuEZIyMBIBiJNTxaIBgSNAmkAYCOJoXo5BAySIDFK1PBMgZAjBgIYtqGEZUtbWUxIaDgjQp4MCVq6swoxEOCHOLl4vIIMRkxgl+EdEbFOQrLqsTuLIOAQyaTgQZSMJhMtpCDCzF84hAwEMvCTutEMVu0KSZpasjKxPLNgrRQeSEYQA0SYR4jSupNMRpDEaKxhSIay6Mk8KGSYxFR6UkjAIYGEoWeLpekZMFoyIDITQjEMUu+BIMl66RDEmgjmQgyYWxMThhWIynCPARvVSGIjJy1OyVtTRX6FPwnWpr7LYQ1UL/msEGwiZCMOEKxwQZIy1gsyyDExIZJAwEgMInKbCYQNFEyTI2FDwFxpYIMgg8IxbxJrJBYOg==\" type=\"audio/flac\" />\n",
       "                    Your browser does not support the audio element.\n",
       "                </audio>\n",
       "              "
      ],
      "text/plain": [
       "<IPython.lib.display.Audio object>"
      ]
     },
     "execution_count": 208,
     "metadata": {},
     "output_type": "execute_result"
    }
   ],
   "source": [
    "print(sample['key'])\n",
    "IPython.display.Audio(sample['audio'])"
   ]
  },
  {
   "cell_type": "code",
   "execution_count": 211,
   "metadata": {
    "colab": {
     "base_uri": "https://localhost:8080/"
    },
    "id": "2oAIZXHmQWIk",
    "outputId": "6c39838c-edf5-4bcb-e9d4-0c112405a87f"
   },
   "outputs": [
    {
     "data": {
      "text/plain": [
       "{'speaker_id': 'TGF1',\n",
       " 'audio_file_name': 'DF_E_2595839',\n",
       " 'system_id': 'Task2-team25',\n",
       " 'src': 'vcc2020',\n",
       " 'key': 'spoof',\n",
       " 'audio': 'data/ASVspoof2021-DF-full/flac/DF_E_2595839.flac'}"
      ]
     },
     "execution_count": 211,
     "metadata": {},
     "output_type": "execute_result"
    }
   ],
   "source": [
    "sample = get_sample(test_samples_21)\n",
    "sample"
   ]
  },
  {
   "cell_type": "code",
   "execution_count": 212,
   "metadata": {
    "colab": {
     "base_uri": "https://localhost:8080/",
     "height": 93
    },
    "id": "F5G5aOobQWIl",
    "outputId": "bac47956-1241-4c73-b5dd-fc0ff0d69995"
   },
   "outputs": [
    {
     "name": "stdout",
     "output_type": "stream",
     "text": [
      "spoof\n"
     ]
    },
    {
     "data": {
      "text/html": [
       "\n",
       "                <audio  controls=\"controls\" >\n",
       "                    <source src=\"data:audio/flac;base64,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\" type=\"audio/flac\" />\n",
       "                    Your browser does not support the audio element.\n",
       "                </audio>\n",
       "              "
      ],
      "text/plain": [
       "<IPython.lib.display.Audio object>"
      ]
     },
     "execution_count": 212,
     "metadata": {},
     "output_type": "execute_result"
    }
   ],
   "source": [
    "print(sample['key'])\n",
    "IPython.display.Audio(sample['audio'])"
   ]
  },
  {
   "cell_type": "markdown",
   "metadata": {
    "id": "45-6l51gQWIl"
   },
   "source": [
    "## Audio preprocessing\n"
   ]
  },
  {
   "cell_type": "code",
   "execution_count": 9,
   "metadata": {
    "id": "BkxvMZ4EQWIl"
   },
   "outputs": [],
   "source": [
    "def audio_preprocess(waveform, sample_rate, resample_rate, desired_duration):\n",
    "    \"\"\"\n",
    "        Resample audio to target frequency (16 kHz or 22.05 kHz) \\\n",
    "        Set equal duration for all audios\n",
    "    \"\"\"\n",
    "    resampler = T.Resample(sample_rate, resample_rate)\n",
    "    resampled_waveform = resampler(waveform)\n",
    "\n",
    "    desired_length = int(desired_duration * resample_rate)\n",
    "    if len(resampled_waveform) < desired_length:\n",
    "        resampled_waveform = resampled_waveform.tile(((desired_length // resampled_waveform.shape[1]) + 1,))\n",
    "    resampled_waveform = resampled_waveform[:,0: desired_length]\n",
    "\n",
    "    return resampled_waveform\n",
    "\n",
    "\n",
    "def peak_normalize(waveform):\n",
    "    \"\"\"\n",
    "        Normalize audio\n",
    "    \"\"\"\n",
    "    waveform /= torch.max(torch.abs(waveform))\n",
    "    return waveform"
   ]
  },
  {
   "cell_type": "code",
   "execution_count": 10,
   "metadata": {
    "id": "neoLwL9WQWIm"
   },
   "outputs": [],
   "source": [
    "class AudioDataset(Dataset):\n",
    "    def __init__(self, raw_dataset, desired_duration, resample_rate, transform=None):\n",
    "        self.raw_data = raw_dataset\n",
    "        self.transform = transform\n",
    "        self.sample_rate = resample_rate\n",
    "        self.duration = desired_duration\n",
    "\n",
    "    def __len__(self):\n",
    "        return len(self.raw_data)\n",
    "\n",
    "    def __getitem__(self, idx):\n",
    "        waveform, sample_rate = torchaudio.load(self.raw_data[idx]['audio'])\n",
    "        if self.transform:\n",
    "            waveform = self.transform[0](waveform, sample_rate, self.sample_rate, self.duration)\n",
    "            waveform = self.transform[1](waveform)\n",
    "\n",
    "        label = 1 if self.raw_data[idx]['key'] == 'spoof' else 0\n",
    "        return waveform, label"
   ]
  },
  {
   "cell_type": "markdown",
   "metadata": {},
   "source": [
    "## ASVspoof19"
   ]
  },
  {
   "cell_type": "code",
   "execution_count": 11,
   "metadata": {
    "id": "TkcSymU8QWIm"
   },
   "outputs": [],
   "source": [
    "_DURATION = 6\n",
    "_SAMPLE_RATE = 16_000\n",
    "_BATCH_SIZE = 36\n",
    "_TEST_SIZE = math.floor(len(test_samples) / _BATCH_SIZE) * _BATCH_SIZE\n",
    "\n",
    "train_dataset = AudioDataset(train_samples, _DURATION, _SAMPLE_RATE, transform=[audio_preprocess, peak_normalize])\n",
    "train_loader= DataLoader(train_dataset, batch_size=_BATCH_SIZE, shuffle=True)\n",
    "\n",
    "test_dataset = AudioDataset(\n",
    "    test_samples[:_TEST_SIZE],\n",
    "    _DURATION, _SAMPLE_RATE,\n",
    "    transform=[audio_preprocess, peak_normalize]\n",
    ")\n",
    "test_loader= DataLoader(test_dataset, batch_size=_BATCH_SIZE, shuffle=False)"
   ]
  },
  {
   "cell_type": "code",
   "execution_count": 12,
   "metadata": {},
   "outputs": [
    {
     "data": {
      "text/plain": [
       "(25380, 705)"
      ]
     },
     "execution_count": 12,
     "metadata": {},
     "output_type": "execute_result"
    }
   ],
   "source": [
    "len(train_samples), len(train_loader)"
   ]
  },
  {
   "cell_type": "markdown",
   "metadata": {},
   "source": [
    "## ASVspoof21"
   ]
  },
  {
   "cell_type": "code",
   "execution_count": 13,
   "metadata": {},
   "outputs": [],
   "source": [
    "_DURATION = 6\n",
    "_SAMPLE_RATE = 16_000\n",
    "_BATCH_SIZE = 36\n",
    "\n",
    "test_dataset_21 = AudioDataset(\n",
    "    test_samples_21[:_TEST_SIZE],\n",
    "    _DURATION, _SAMPLE_RATE,\n",
    "    transform=[audio_preprocess, peak_normalize]\n",
    ")\n",
    "test_loader_21 = DataLoader(test_dataset_21, batch_size=_BATCH_SIZE, shuffle=False)"
   ]
  },
  {
   "cell_type": "code",
   "execution_count": 14,
   "metadata": {},
   "outputs": [
    {
     "data": {
      "text/plain": [
       "(611829, 1978)"
      ]
     },
     "execution_count": 14,
     "metadata": {},
     "output_type": "execute_result"
    }
   ],
   "source": [
    "len(test_samples_21), len(test_loader_21)"
   ]
  },
  {
   "cell_type": "markdown",
   "metadata": {
    "id": "KlNleLQVQWIn"
   },
   "source": [
    "# Feature Extraction Definition\n",
    "Log power spectrum (LPS), Mel-frequency cepstrum coefficient (MFCC), constant Q cepstral coefficient (CQCC)."
   ]
  },
  {
   "cell_type": "code",
   "execution_count": 15,
   "metadata": {
    "id": "vceNcIT3QWIn"
   },
   "outputs": [],
   "source": [
    "from feature_ext import get_MFCC, get_CQCC, get_LPS\n",
    "\n",
    "feature_extractor = 'MFCC' # 'CQCC' 'LPS'\n",
    "feature_extr = {\n",
    "        'MFCC': get_MFCC,\n",
    "        'CQCC': get_CQCC,\n",
    "        'LPS': get_LPS\n",
    "}"
   ]
  },
  {
   "cell_type": "markdown",
   "metadata": {
    "id": "c2r-ZDfIQWIn"
   },
   "source": [
    "# Model definition"
   ]
  },
  {
   "cell_type": "code",
   "execution_count": 16,
   "metadata": {},
   "outputs": [],
   "source": [
    "from models import TE_ResNet"
   ]
  },
  {
   "cell_type": "markdown",
   "metadata": {},
   "source": [
    "# Metrics Definition"
   ]
  },
  {
   "cell_type": "code",
   "execution_count": 17,
   "metadata": {
    "scrolled": true
   },
   "outputs": [],
   "source": [
    "from metrics import compute_det_curve, compute_eer, plot_roc"
   ]
  },
  {
   "cell_type": "markdown",
   "metadata": {
    "id": "85acNo0BQWIo"
   },
   "source": [
    "# Training"
   ]
  },
  {
   "cell_type": "code",
   "execution_count": 101,
   "metadata": {
    "id": "FXQDIPhISz3g"
   },
   "outputs": [],
   "source": [
    "def truncate_sequence(features, max_length):\n",
    "    batch_size, seq_length, feature_dim = features.size()\n",
    "    if seq_length > max_length:\n",
    "        features = features[:, :max_length, :]\n",
    "    else:\n",
    "        padding = torch.zeros(batch_size, max_length - seq_length, feature_dim, device=features.device)\n",
    "        features = torch.cat((features, padding), dim=1)\n",
    "    return features\n",
    "\n",
    "def train_loop(model, loader, feature_extractor, criterion, optimizer, n_epochs, device, max_length):\n",
    "    feature_extr = {\n",
    "        'MFCC': get_MFCC,\n",
    "        'CQCC': get_CQCC,\n",
    "        'LPS': get_LPS\n",
    "    }\n",
    "\n",
    "    for epoch in range(n_epochs):\n",
    "        model.train(True)\n",
    "        sum_loss = 0.0\n",
    "        num_correct = 0\n",
    "        total_samples = 0\n",
    "        acc, precision, recall = 0.0, 0.0, 0.0\n",
    "\n",
    "        for data, labels in tqdm(loader):\n",
    "            data = data.to(device)\n",
    "            labels = labels.to(device)\n",
    "\n",
    "            # Extract features\n",
    "            if feature_extractor in feature_extr:\n",
    "                features = feature_extr[feature_extractor](data, loader.dataset.sample_rate)\n",
    "            else:\n",
    "                raise ValueError(f\"Invalid feature extractor: {feature_extractor}\")\n",
    "\n",
    "            features = features.to(device)\n",
    "\n",
    "            # Forward pass through the model\n",
    "            features = features.unsqueeze(1)\n",
    "            output = model(features)\n",
    "\n",
    "            # Check for shape mismatch\n",
    "            if output.shape[0] != labels.shape[0]:\n",
    "                raise ValueError(f\"Mismatch in batch sizes: output batch size {output.shape[0]}, labels batch size {labels.shape[0]}\")\n",
    "\n",
    "            # Compute loss\n",
    "            loss = criterion(output, labels)\n",
    "            loss.backward()\n",
    "            optimizer.step()\n",
    "            optimizer.zero_grad()\n",
    "\n",
    "            sum_loss += loss.item()\n",
    "            max_val, predicted = output.max(1)\n",
    "            acc += balanced_accuracy_score(labels.cpu(), predicted.cpu())\n",
    "            precision += precision_score(labels.cpu(), predicted.cpu(),  average='binary')\n",
    "            recall += recall_score(labels.cpu(), predicted.cpu(),  average='binary')\n",
    "\n",
    "        train_avg_acc = acc / len(loader)\n",
    "        train_avg_loss = sum_loss / len(loader)\n",
    "        train_avg_prec = precision / len(loader)\n",
    "        train_avg_recall = recall / len(loader)\n",
    "        print(f'Epoch [{epoch+1}/{n_epochs}], Training Accuracy: {train_avg_acc:.4f}, Training Loss: {train_avg_loss:.4f}, \\\n",
    "Training Precision: {train_avg_prec:.4f}, Training Recall: {train_avg_recall:.4f}')\n",
    "        \n",
    "    return train_avg_loss, train_avg_acc, train_avg_prec, train_avg_recall\n",
    "\n"
   ]
  },
  {
   "cell_type": "markdown",
   "metadata": {
    "id": "VBAI3sbKVzHV"
   },
   "source": [
    "# Evaluation"
   ]
  },
  {
   "cell_type": "code",
   "execution_count": 99,
   "metadata": {},
   "outputs": [],
   "source": [
    "eval_asvspoof_resnet18 = {}\n",
    "eval_asvspoof_teresnet = {}"
   ]
  },
  {
   "cell_type": "code",
   "execution_count": 102,
   "metadata": {
    "id": "K1ADKjrOTVVD"
   },
   "outputs": [],
   "source": [
    "def evaluate_model(model, test_loader, feature_extractor, criterion, device, max_length):\n",
    "    feature_extr = {\n",
    "        'MFCC': get_MFCC,\n",
    "        'CQCC': get_CQCC,\n",
    "        'LPS': get_LPS\n",
    "    }\n",
    "\n",
    "    model.eval()\n",
    "    test_loss = 0.0\n",
    "    test_correct = 0\n",
    "    total_test_samples = 0\n",
    "    target_scores, non_target_scores = [], []\n",
    "    acc, precision, recall = 0.0, 0.0, 0.0\n",
    "    true_labels = []\n",
    "    \n",
    "\n",
    "    with torch.no_grad():\n",
    "        for waveform, label in tqdm(test_loader):\n",
    "            waveform, label = waveform.to(device), label.to(device)\n",
    "\n",
    "            # Extract features\n",
    "            if feature_extractor in feature_extr:\n",
    "                features = feature_extr[feature_extractor](waveform, test_loader.dataset.sample_rate)\n",
    "            else:\n",
    "                raise ValueError(f\"Invalid feature extractor: {feature_extractor}\")\n",
    "\n",
    "\n",
    "            features = features.to(device)\n",
    "\n",
    "            # Forward pass through the model\n",
    "            features = features.unsqueeze(1)\n",
    "            output = model(features)\n",
    "\n",
    "            # Check for shape mismatch\n",
    "            if output.shape[0] != label.shape[0]:\n",
    "                raise ValueError(f\"Mismatch in batch sizes: output batch size {output.shape[0]}, label batch size {label.shape[0]}\")\n",
    "\n",
    "            # Compute loss\n",
    "            loss = criterion(output, label)\n",
    "            test_loss += loss.item()\n",
    "    \n",
    "            _, predicted = output.max(1)\n",
    "            acc += balanced_accuracy_score(label.cpu(), predicted.cpu())\n",
    "            target_scores.append(output[:,1].cpu())\n",
    "            non_target_scores.append(output[:,0].cpu())\n",
    "            precision += precision_score(label.cpu(), predicted.cpu(),  average='binary')\n",
    "            recall += recall_score(label.cpu(), predicted.cpu(),  average='binary')\n",
    "            true_labels.append(label.cpu())\n",
    "            \n",
    "    true_labels = torch.cat(true_labels, dim = 0)\n",
    "    target_scores = torch.cat(target_scores, dim = 0)\n",
    "    \n",
    "    test_avg_acc = acc / len(test_loader)\n",
    "    test_loss /= len(test_loader)\n",
    "    test_avg_prec = precision / len(test_loader)\n",
    "    test_avg_recall = recall / len(test_loader)\n",
    "\n",
    "    print(f'Val Loss: {test_loss:.4f}, Val Accuracy: {test_avg_acc:.4f}, \\\n",
    "Val Precision: {test_avg_prec:.4f}, Val Recall: {test_avg_recall:.4f}')\n",
    "\n",
    "    return test_loss, test_avg_acc, test_avg_prec, test_avg_recall, target_scores, true_labels\n"
   ]
  },
  {
   "cell_type": "markdown",
   "metadata": {},
   "source": [
    "# Report Results"
   ]
  },
  {
   "cell_type": "code",
   "execution_count": 97,
   "metadata": {},
   "outputs": [],
   "source": [
    "def plot_roc(true_labels, target_scores):\n",
    "    \"\"\" \n",
    "        Function plots ROC curve and calculates AUC \n",
    "        for given true_labels and target_scores. \n",
    "    \"\"\"\n",
    "    fpr, tpr, threshold = roc_curve(true_labels, target_scores)\n",
    "    roc_auc = auc(fpr, tpr)\n",
    "\n",
    "    return fpr, tpr, threshold, roc_auc\n",
    "\n",
    "def compute_eer(fpr, tpr, threshold):\n",
    "    eer = brentq(lambda x: 1. - x - interp1d(fpr, tpr)(x), 0., 1.)\n",
    "    thresh = interp1d(fpr, threshold)(eer)\n",
    "    return eer"
   ]
  },
  {
   "cell_type": "code",
   "execution_count": 98,
   "metadata": {},
   "outputs": [],
   "source": [
    "def report(eval_asvspoof):\n",
    "    \"\"\"\n",
    "        Report results for model\n",
    "    \"\"\"\n",
    "    # divide data\n",
    "    train_data = [eval_asvspoof[\"MFCC\"][0], eval_asvspoof[\"CQCC\"][0], eval_asvspoof[\"LPS\"][0]]\n",
    "    test_data = [eval_asvspoof[\"MFCC\"][1][:-2], eval_asvspoof[\"CQCC\"][1][:-2], eval_asvspoof[\"LPS\"][1][:-2]]\n",
    "    test_data_21 = [eval_asvspoof[\"MFCC\"][2][:-2], eval_asvspoof[\"CQCC\"][2][:-2], eval_asvspoof[\"LPS\"][2][:-2]]\n",
    "    \n",
    "    # Column and index names\n",
    "    columns = ['Loss', 'Balanced Accuracy', 'Precision', 'Recall']\n",
    "    index = ['MFCC', 'CQCC', 'LPS']\n",
    "    \n",
    "    # Create DataFrame\n",
    "    results_train = pd.DataFrame(train_data, columns=columns, index=index)\n",
    "    results_test = pd.DataFrame(test_data, columns=columns, index=index)\n",
    "    results_test_21 = pd.DataFrame(test_data_21, columns=columns, index=index)\n",
    "\n",
    "    print(results_train)\n",
    "    print(results_test)\n",
    "    print(results_test_21)\n",
    "\n",
    "    # colors\n",
    "    colors = ['darkorange', 'green', 'blue']\n",
    "    labels = ['ASVspoof19', 'ASVspoof21']\n",
    "    \n",
    "    # plot ROC and calculate AUC\n",
    "    fig, ax = plt.subplots(nrows=1, ncols=2, figsize=(15,8))\n",
    "    lw = 2\n",
    "    colors = ['darkorange', 'green', 'blue']\n",
    "    \n",
    "    for i in range(1, 3):\n",
    "        for j, (key, vals) in enumerate(eval_asvspoof.items()):\n",
    "            fpr, tpr, threshold, roc_auc = plot_roc(eval_asvspoof[key][i][5], eval_asvspoof[key][i][4])\n",
    "            eer = compute_eer(fpr, tpr, threshold) * 100\n",
    "            ax[i - 1].plot(fpr, tpr, color=colors[j], lw=lw, label=f'{key}_ROC curve (area = {roc_auc:.3f}, EER = {int(eer)} %)')\n",
    "        ax[i - 1].plot([0, 1], [0, 1], color='navy', lw=lw, linestyle='--')\n",
    "        ax[i - 1].set_xlim([0.0, 1.0])\n",
    "        ax[i - 1].set_ylim([0.0, 1.05])\n",
    "        ax[i - 1].set_xlabel('False Positive Rate')\n",
    "        ax[i - 1].set_ylabel('True Positive Rate')\n",
    "        ax[i - 1].set_title(f'ROC Curve for Class 1, {labels[i - 1]}')\n",
    "        ax[i - 1].legend(loc=\"lower right\")"
   ]
  },
  {
   "cell_type": "markdown",
   "metadata": {},
   "source": [
    "# Evaluation on ASVspoof19 and ASVspoof21 for ResNet18"
   ]
  },
  {
   "cell_type": "code",
   "execution_count": 36,
   "metadata": {
    "id": "pWPgXrh6TVZJ"
   },
   "outputs": [
    {
     "name": "stderr",
     "output_type": "stream",
     "text": [
      "100%|█████████████████████████████████████████████████████████████████████████████████████████████████████████████████████████████████████████| 705/705 [06:34<00:00,  1.79it/s]\n"
     ]
    },
    {
     "name": "stdout",
     "output_type": "stream",
     "text": [
      "Epoch [1/3], Training Accuracy: 0.9294, Training Loss: 0.0780, Training Precision: 0.9826, Training Recall: 0.9871\n"
     ]
    },
    {
     "name": "stderr",
     "output_type": "stream",
     "text": [
      "100%|█████████████████████████████████████████████████████████████████████████████████████████████████████████████████████████████████████████| 705/705 [06:33<00:00,  1.79it/s]\n"
     ]
    },
    {
     "name": "stdout",
     "output_type": "stream",
     "text": [
      "Epoch [2/3], Training Accuracy: 0.9799, Training Loss: 0.0316, Training Precision: 0.9949, Training Recall: 0.9953\n"
     ]
    },
    {
     "name": "stderr",
     "output_type": "stream",
     "text": [
      "100%|█████████████████████████████████████████████████████████████████████████████████████████████████████████████████████████████████████████| 705/705 [06:36<00:00,  1.78it/s]\n"
     ]
    },
    {
     "name": "stdout",
     "output_type": "stream",
     "text": [
      "Epoch [3/3], Training Accuracy: 0.9816, Training Loss: 0.0254, Training Precision: 0.9952, Training Recall: 0.9962\n"
     ]
    },
    {
     "name": "stderr",
     "output_type": "stream",
     "text": [
      "100%|███████████████████████████████████████████████████████████████████████████████████████████████████████████████████████████████████████| 1978/1978 [18:00<00:00,  1.83it/s]\n"
     ]
    },
    {
     "name": "stdout",
     "output_type": "stream",
     "text": [
      "Val Loss: 0.4113, Val Accuracy: 0.8930, Val Precision: 0.9865, Val Recall: 0.8929\n"
     ]
    },
    {
     "name": "stderr",
     "output_type": "stream",
     "text": [
      "100%|███████████████████████████████████████████████████████████████████████████████████████████████████████████████████████████████████████| 1978/1978 [18:05<00:00,  1.82it/s]\n"
     ]
    },
    {
     "name": "stdout",
     "output_type": "stream",
     "text": [
      "Val Loss: 0.2283, Val Accuracy: 0.8013, Val Precision: 0.9813, Val Recall: 0.9661\n"
     ]
    },
    {
     "name": "stderr",
     "output_type": "stream",
     "text": [
      "100%|███████████████████████████████████████████████████████████████████████████████████████████████████████████████████████████████████████| 705/705 [1:21:56<00:00,  6.97s/it]\n"
     ]
    },
    {
     "name": "stdout",
     "output_type": "stream",
     "text": [
      "Epoch [1/3], Training Accuracy: 0.8108, Training Loss: 0.1521, Training Precision: 0.9583, Training Recall: 0.9711\n"
     ]
    },
    {
     "name": "stderr",
     "output_type": "stream",
     "text": [
      "100%|███████████████████████████████████████████████████████████████████████████████████████████████████████████████████████████████████████| 705/705 [1:23:17<00:00,  7.09s/it]\n"
     ]
    },
    {
     "name": "stdout",
     "output_type": "stream",
     "text": [
      "Epoch [2/3], Training Accuracy: 0.8888, Training Loss: 0.1005, Training Precision: 0.9742, Training Recall: 0.9794\n"
     ]
    },
    {
     "name": "stderr",
     "output_type": "stream",
     "text": [
      "100%|███████████████████████████████████████████████████████████████████████████████████████████████████████████████████████████████████████| 705/705 [1:22:29<00:00,  7.02s/it]\n"
     ]
    },
    {
     "name": "stdout",
     "output_type": "stream",
     "text": [
      "Epoch [3/3], Training Accuracy: 0.9225, Training Loss: 0.0787, Training Precision: 0.9809, Training Recall: 0.9857\n"
     ]
    },
    {
     "name": "stderr",
     "output_type": "stream",
     "text": [
      "100%|█████████████████████████████████████████████████████████████████████████████████████████████████████████████████████████████████████| 1978/1978 [3:53:49<00:00,  7.09s/it]\n"
     ]
    },
    {
     "name": "stdout",
     "output_type": "stream",
     "text": [
      "Val Loss: 0.3601, Val Accuracy: 0.6612, Val Precision: 0.9280, Val Recall: 0.9609\n"
     ]
    },
    {
     "name": "stderr",
     "output_type": "stream",
     "text": [
      "100%|█████████████████████████████████████████████████████████████████████████████████████████████████████████████████████████████████████| 1978/1978 [3:54:15<00:00,  7.11s/it]\n"
     ]
    },
    {
     "name": "stdout",
     "output_type": "stream",
     "text": [
      "Val Loss: 0.2154, Val Accuracy: 0.6940, Val Precision: 0.9699, Val Recall: 0.9897\n"
     ]
    },
    {
     "name": "stderr",
     "output_type": "stream",
     "text": [
      "100%|█████████████████████████████████████████████████████████████████████████████████████████████████████████████████████████████████████████| 705/705 [08:12<00:00,  1.43it/s]\n"
     ]
    },
    {
     "name": "stdout",
     "output_type": "stream",
     "text": [
      "Epoch [1/3], Training Accuracy: 0.9855, Training Loss: 0.0201, Training Precision: 0.9955, Training Recall: 0.9950\n"
     ]
    },
    {
     "name": "stderr",
     "output_type": "stream",
     "text": [
      "100%|█████████████████████████████████████████████████████████████████████████████████████████████████████████████████████████████████████████| 705/705 [08:11<00:00,  1.44it/s]\n"
     ]
    },
    {
     "name": "stdout",
     "output_type": "stream",
     "text": [
      "Epoch [2/3], Training Accuracy: 0.9973, Training Loss: 0.0057, Training Precision: 0.9993, Training Recall: 0.9990\n"
     ]
    },
    {
     "name": "stderr",
     "output_type": "stream",
     "text": [
      "100%|█████████████████████████████████████████████████████████████████████████████████████████████████████████████████████████████████████████| 705/705 [08:10<00:00,  1.44it/s]\n"
     ]
    },
    {
     "name": "stdout",
     "output_type": "stream",
     "text": [
      "Epoch [3/3], Training Accuracy: 0.9993, Training Loss: 0.0022, Training Precision: 0.9998, Training Recall: 0.9997\n"
     ]
    },
    {
     "name": "stderr",
     "output_type": "stream",
     "text": [
      "100%|███████████████████████████████████████████████████████████████████████████████████████████████████████████████████████████████████████| 1978/1978 [15:54<00:00,  2.07it/s]\n"
     ]
    },
    {
     "name": "stdout",
     "output_type": "stream",
     "text": [
      "Val Loss: 0.5796, Val Accuracy: 0.8389, Val Precision: 0.9882, Val Recall: 0.7584\n"
     ]
    },
    {
     "name": "stderr",
     "output_type": "stream",
     "text": [
      "100%|███████████████████████████████████████████████████████████████████████████████████████████████████████████████████████████████████████| 1978/1978 [16:16<00:00,  2.03it/s]\n"
     ]
    },
    {
     "name": "stdout",
     "output_type": "stream",
     "text": [
      "Val Loss: 0.5335, Val Accuracy: 0.7389, Val Precision: 0.9818, Val Recall: 0.8132\n"
     ]
    }
   ],
   "source": [
    "for feature_extractor in [\"MFCC\", \"CQCC\", \"LPS\"]:\n",
    "    torch.cuda.empty_cache()\n",
    "    \n",
    "    # initialize model\n",
    "    model = torchvision.models.resnet18(pretrained=True)\n",
    "    n_ftrs = model.fc.in_features\n",
    "    model.fc=nn.Linear(n_ftrs,2)\n",
    "    model.conv1 = nn.Conv2d(1, 64, kernel_size=(9, 3), stride=(3, 1), padding=(1, 1), bias=False)\n",
    "    model.softmax = nn.Softmax(dim=1)\n",
    "    model.to(device)\n",
    "    \n",
    "    # define training parameters\n",
    "    num_epochs = 3\n",
    "    optimizer = torch.optim.Adam(model.parameters(), lr=0.001)\n",
    "    criterion = nn.CrossEntropyLoss()\n",
    "\n",
    "    # train_loss, train_acc, train_precision, train_recall\n",
    "    train_output = train_loop(\n",
    "        model,\n",
    "        train_loader,\n",
    "        feature_extractor=feature_extractor,\n",
    "        criterion=criterion,\n",
    "        optimizer=optimizer,\n",
    "        n_epochs=num_epochs,\n",
    "        device=device,\n",
    "        max_length=188\n",
    "    )\n",
    "\n",
    "    torch.save(model.state_dict(), f\"weights_resnet18_{feature_extractor}.pt\")\n",
    "    # model.load_state_dict(torch.load(f\"weights.pt\"))\n",
    "    \n",
    "    # test_loss, test_acc, test_precision, test_recall, target_scores, true_labels\n",
    "    test_output = evaluate_model(\n",
    "        model,\n",
    "        test_loader,\n",
    "        feature_extractor=feature_extractor,\n",
    "        criterion=criterion,\n",
    "        device=device,\n",
    "        max_length=188\n",
    "    )\n",
    "\n",
    "    # test_loss, test_acc, test_precision, test_recall, target_scores, true_labels\n",
    "    test_output_21 = evaluate_model(\n",
    "        model,\n",
    "        test_loader_21,\n",
    "        feature_extractor=feature_extractor,\n",
    "        criterion=criterion,\n",
    "        device=device,\n",
    "        max_length=188\n",
    "    )\n",
    "    \n",
    "    eval_asvspoof_resnet18[feature_extractor] = [train_output, test_output, test_output_21]"
   ]
  },
  {
   "cell_type": "code",
   "execution_count": 95,
   "metadata": {},
   "outputs": [
    {
     "name": "stdout",
     "output_type": "stream",
     "text": [
      "          Loss  Balanced Accuracy  Precision    Recall\n",
      "MFCC  0.025423           0.981623   0.995165  0.996232\n",
      "CQCC  0.078704           0.922469   0.980860  0.985715\n",
      "LPS   0.002216           0.999309   0.999818  0.999741\n",
      "          Loss  Balanced Accuracy  Precision    Recall\n",
      "MFCC  0.411315           0.892961   0.986508  0.892908\n",
      "CQCC  0.360071           0.661162   0.928028  0.960854\n",
      "LPS   0.579635           0.838900   0.988222  0.758404\n",
      "          Loss  Balanced Accuracy  Precision    Recall\n",
      "MFCC  0.228327           0.801297   0.981340  0.966076\n",
      "CQCC  0.215411           0.694027   0.969880  0.989660\n",
      "LPS   0.533523           0.738890   0.981785  0.813188\n"
     ]
    },
    {
     "data": {
      "image/png": "[encoded data removed]",
      "text/plain": [
       "<Figure size 1500x800 with 2 Axes>"
      ]
     },
     "metadata": {},
     "output_type": "display_data"
    }
   ],
   "source": [
    "report(eval_asvspoof_resnet18)"
   ]
  },
  {
   "cell_type": "markdown",
   "metadata": {},
   "source": [
    "# Evaluation on ASVspoof19 and ASVspoof21 for TE-ResNet"
   ]
  },
  {
   "cell_type": "code",
   "execution_count": null,
   "metadata": {},
   "outputs": [],
   "source": [
    "for feature_extractor in [\"MFCC\"]:#, \"CQCC\", \"LPS\"]:\n",
    "    torch.cuda.empty_cache()\n",
    "\n",
    "    sample = next(iter(test_loader))[0]\n",
    "    n_features=feature_extr[feature_extractor](sample, train_loader.dataset.sample_rate).shape[1]\n",
    "    \n",
    "    # initialize model\n",
    "    # in case of te-resnet comment the row 'features=features.unsqueeze(1)' in training and evaluation\n",
    "    model = TE_ResNet(\n",
    "        n_features=n_features,\n",
    "        n_frames=188,\n",
    "        num_layers=6,\n",
    "        heads=8,\n",
    "        hidden_size=256,\n",
    "        output_channels=128,\n",
    "        batch_size=_BATCH_SIZE,\n",
    "        device=device,\n",
    "    ).to(device)\n",
    "    \n",
    "    # define training parameters\n",
    "    num_epochs = 3\n",
    "    optimizer = torch.optim.Adam(model.parameters(), lr=0.001)\n",
    "    criterion = nn.CrossEntropyLoss()\n",
    "\n",
    "    # train_loss, train_acc, train_precision, train_recall\n",
    "    train_output = train_loop(\n",
    "        model,\n",
    "        train_loader,\n",
    "        feature_extractor=feature_extractor,\n",
    "        criterion=criterion,\n",
    "        optimizer=optimizer,\n",
    "        n_epochs=num_epochs,\n",
    "        device=device,\n",
    "        max_length=188\n",
    "    )\n",
    "\n",
    "    torch.save(model.state_dict(), f\"weights_teresnet_{feature_extractor}.pt\")\n",
    "    # model.load_state_dict(torch.load(f\"weights.pt\"))\n",
    "    \n",
    "    # test_loss, test_acc, test_precision, test_recall, target_scores, true_labels\n",
    "    test_output = evaluate_model(\n",
    "        model,\n",
    "        test_loader,\n",
    "        feature_extractor=feature_extractor,\n",
    "        criterion=criterion,\n",
    "        device=device,\n",
    "        max_length=188\n",
    "    )\n",
    "\n",
    "    # test_loss, test_acc, test_precision, test_recall, target_scores, true_labels\n",
    "    test_output_21 = evaluate_model(\n",
    "        model,\n",
    "        test_loader_21,\n",
    "        feature_extractor=feature_extractor,\n",
    "        criterion=criterion,\n",
    "        device=device,\n",
    "        max_length=188\n",
    "    )\n",
    "    \n",
    "    eval_asvspoof_teresnet[feature_extractor] = [train_output, test_output, test_output_21]\n",
    "    \n",
    "    "
   ]
  }
 ],
 "metadata": {
  "colab": {
   "provenance": []
  },
  "kaggle": {
   "accelerator": "none",
   "dataSources": [
    {
     "datasetId": 5071871,
     "sourceId": 8499196,
     "sourceType": "datasetVersion"
    }
   ],
   "dockerImageVersionId": 30699,
   "isGpuEnabled": false,
   "isInternetEnabled": true,
   "language": "python",
   "sourceType": "notebook"
  },
  "kernelspec": {
   "display_name": "Python 3 (ipykernel)",
   "language": "python",
   "name": "python3"
  },
  "language_info": {
   "codemirror_mode": {
    "name": "ipython",
    "version": 3
   },
   "file_extension": ".py",
   "mimetype": "text/x-python",
   "name": "python",
   "nbconvert_exporter": "python",
   "pygments_lexer": "ipython3",
   "version": "3.10.12"
  },
  "widgets": {
   "application/vnd.jupyter.widget-state+json": {
    "06007bd3db2b4f75bb756257a063c6f9": {
     "model_module": "@jupyter-widgets/controls",
     "model_module_version": "1.5.0",
     "model_name": "HBoxModel",
     "state": {
      "_dom_classes": [],
      "_model_module": "@jupyter-widgets/controls",
      "_model_module_version": "1.5.0",
      "_model_name": "HBoxModel",
      "_view_count": null,
      "_view_module": "@jupyter-widgets/controls",
      "_view_module_version": "1.5.0",
      "_view_name": "HBoxView",
      "box_style": "",
      "children": [
       "IPY_MODEL_349bc4b49bee4025b9abc6cd55887d41",
       "IPY_MODEL_9c13fe9463a04675b46131e844258345",
       "IPY_MODEL_f0cdf5bdb7854117a9e22408fbb93ff9"
      ],
      "layout": "IPY_MODEL_7c36f8ddb91244cfb8aeac10d5eb68ee"
     }
    },
    "0f831f122aef4fd6af6ca2e81b42d214": {
     "model_module": "@jupyter-widgets/controls",
     "model_module_version": "1.5.0",
     "model_name": "ProgressStyleModel",
     "state": {
      "_model_module": "@jupyter-widgets/controls",
      "_model_module_version": "1.5.0",
      "_model_name": "ProgressStyleModel",
      "_view_count": null,
      "_view_module": "@jupyter-widgets/base",
      "_view_module_version": "1.2.0",
      "_view_name": "StyleView",
      "bar_color": null,
      "description_width": ""
     }
    },
    "21744dadce5844e3b9597af726b4cdc9": {
     "model_module": "@jupyter-widgets/controls",
     "model_module_version": "1.5.0",
     "model_name": "HTMLModel",
     "state": {
      "_dom_classes": [],
      "_model_module": "@jupyter-widgets/controls",
      "_model_module_version": "1.5.0",
      "_model_name": "HTMLModel",
      "_view_count": null,
      "_view_module": "@jupyter-widgets/controls",
      "_view_module_version": "1.5.0",
      "_view_name": "HTMLView",
      "description": "",
      "description_tooltip": null,
      "layout": "IPY_MODEL_8f292fa68a3d416baad10ddd8456b527",
      "placeholder": "​",
      "style": "IPY_MODEL_5c96940d36ef456eb42dceabd345e4f7",
      "value": " 7.64G/7.64G [07:25&lt;00:00, 14.7MB/s]"
     }
    },
    "2bbdab2df37d49de89fffbb9891aa115": {
     "model_module": "@jupyter-widgets/controls",
     "model_module_version": "1.5.0",
     "model_name": "FloatProgressModel",
     "state": {
      "_dom_classes": [],
      "_model_module": "@jupyter-widgets/controls",
      "_model_module_version": "1.5.0",
      "_model_name": "FloatProgressModel",
      "_view_count": null,
      "_view_module": "@jupyter-widgets/controls",
      "_view_module_version": "1.5.0",
      "_view_name": "ProgressView",
      "bar_style": "success",
      "description": "",
      "description_tooltip": null,
      "layout": "IPY_MODEL_35964bc8f6394bacba4a8235a127c40b",
      "max": 7640952520,
      "min": 0,
      "orientation": "horizontal",
      "style": "IPY_MODEL_b26a29f9badf4fe29d9f8f1f77e14ab6",
      "value": 7640952520
     }
    },
    "349bc4b49bee4025b9abc6cd55887d41": {
     "model_module": "@jupyter-widgets/controls",
     "model_module_version": "1.5.0",
     "model_name": "HTMLModel",
     "state": {
      "_dom_classes": [],
      "_model_module": "@jupyter-widgets/controls",
      "_model_module_version": "1.5.0",
      "_model_name": "HTMLModel",
      "_view_count": null,
      "_view_module": "@jupyter-widgets/controls",
      "_view_module_version": "1.5.0",
      "_view_name": "HTMLView",
      "description": "",
      "description_tooltip": null,
      "layout": "IPY_MODEL_74d180421aa84df3bf6718d25b0d67ed",
      "placeholder": "​",
      "style": "IPY_MODEL_76943bf633a544589564224b9b93d7d6",
      "value": "Computing checksums: 100%"
     }
    },
    "35964bc8f6394bacba4a8235a127c40b": {
     "model_module": "@jupyter-widgets/base",
     "model_module_version": "1.2.0",
     "model_name": "LayoutModel",
     "state": {
      "_model_module": "@jupyter-widgets/base",
      "_model_module_version": "1.2.0",
      "_model_name": "LayoutModel",
      "_view_count": null,
      "_view_module": "@jupyter-widgets/base",
      "_view_module_version": "1.2.0",
      "_view_name": "LayoutView",
      "align_content": null,
      "align_items": null,
      "align_self": null,
      "border": null,
      "bottom": null,
      "display": null,
      "flex": null,
      "flex_flow": null,
      "grid_area": null,
      "grid_auto_columns": null,
      "grid_auto_flow": null,
      "grid_auto_rows": null,
      "grid_column": null,
      "grid_gap": null,
      "grid_row": null,
      "grid_template_areas": null,
      "grid_template_columns": null,
      "grid_template_rows": null,
      "height": null,
      "justify_content": null,
      "justify_items": null,
      "left": null,
      "margin": null,
      "max_height": null,
      "max_width": null,
      "min_height": null,
      "min_width": null,
      "object_fit": null,
      "object_position": null,
      "order": null,
      "overflow": null,
      "overflow_x": null,
      "overflow_y": null,
      "padding": null,
      "right": null,
      "top": null,
      "visibility": null,
      "width": null
     }
    },
    "3d104b05ec2f4dc9aece5bd1c232aeef": {
     "model_module": "@jupyter-widgets/base",
     "model_module_version": "1.2.0",
     "model_name": "LayoutModel",
     "state": {
      "_model_module": "@jupyter-widgets/base",
      "_model_module_version": "1.2.0",
      "_model_name": "LayoutModel",
      "_view_count": null,
      "_view_module": "@jupyter-widgets/base",
      "_view_module_version": "1.2.0",
      "_view_name": "LayoutView",
      "align_content": null,
      "align_items": null,
      "align_self": null,
      "border": null,
      "bottom": null,
      "display": null,
      "flex": null,
      "flex_flow": null,
      "grid_area": null,
      "grid_auto_columns": null,
      "grid_auto_flow": null,
      "grid_auto_rows": null,
      "grid_column": null,
      "grid_gap": null,
      "grid_row": null,
      "grid_template_areas": null,
      "grid_template_columns": null,
      "grid_template_rows": null,
      "height": null,
      "justify_content": null,
      "justify_items": null,
      "left": null,
      "margin": null,
      "max_height": null,
      "max_width": null,
      "min_height": null,
      "min_width": null,
      "object_fit": null,
      "object_position": null,
      "order": null,
      "overflow": null,
      "overflow_x": null,
      "overflow_y": null,
      "padding": null,
      "right": null,
      "top": null,
      "visibility": null,
      "width": null
     }
    },
    "4d9ccb83f39645c9a42d8dae5355a35e": {
     "model_module": "@jupyter-widgets/base",
     "model_module_version": "1.2.0",
     "model_name": "LayoutModel",
     "state": {
      "_model_module": "@jupyter-widgets/base",
      "_model_module_version": "1.2.0",
      "_model_name": "LayoutModel",
      "_view_count": null,
      "_view_module": "@jupyter-widgets/base",
      "_view_module_version": "1.2.0",
      "_view_name": "LayoutView",
      "align_content": null,
      "align_items": null,
      "align_self": null,
      "border": null,
      "bottom": null,
      "display": null,
      "flex": null,
      "flex_flow": null,
      "grid_area": null,
      "grid_auto_columns": null,
      "grid_auto_flow": null,
      "grid_auto_rows": null,
      "grid_column": null,
      "grid_gap": null,
      "grid_row": null,
      "grid_template_areas": null,
      "grid_template_columns": null,
      "grid_template_rows": null,
      "height": null,
      "justify_content": null,
      "justify_items": null,
      "left": null,
      "margin": null,
      "max_height": null,
      "max_width": null,
      "min_height": null,
      "min_width": null,
      "object_fit": null,
      "object_position": null,
      "order": null,
      "overflow": null,
      "overflow_x": null,
      "overflow_y": null,
      "padding": null,
      "right": null,
      "top": null,
      "visibility": null,
      "width": null
     }
    },
    "5c96940d36ef456eb42dceabd345e4f7": {
     "model_module": "@jupyter-widgets/controls",
     "model_module_version": "1.5.0",
     "model_name": "DescriptionStyleModel",
     "state": {
      "_model_module": "@jupyter-widgets/controls",
      "_model_module_version": "1.5.0",
      "_model_name": "DescriptionStyleModel",
      "_view_count": null,
      "_view_module": "@jupyter-widgets/base",
      "_view_module_version": "1.2.0",
      "_view_name": "StyleView",
      "description_width": ""
     }
    },
    "7030ed4083d54d05946c15ac668d19a4": {
     "model_module": "@jupyter-widgets/base",
     "model_module_version": "1.2.0",
     "model_name": "LayoutModel",
     "state": {
      "_model_module": "@jupyter-widgets/base",
      "_model_module_version": "1.2.0",
      "_model_name": "LayoutModel",
      "_view_count": null,
      "_view_module": "@jupyter-widgets/base",
      "_view_module_version": "1.2.0",
      "_view_name": "LayoutView",
      "align_content": null,
      "align_items": null,
      "align_self": null,
      "border": null,
      "bottom": null,
      "display": null,
      "flex": null,
      "flex_flow": null,
      "grid_area": null,
      "grid_auto_columns": null,
      "grid_auto_flow": null,
      "grid_auto_rows": null,
      "grid_column": null,
      "grid_gap": null,
      "grid_row": null,
      "grid_template_areas": null,
      "grid_template_columns": null,
      "grid_template_rows": null,
      "height": null,
      "justify_content": null,
      "justify_items": null,
      "left": null,
      "margin": null,
      "max_height": null,
      "max_width": null,
      "min_height": null,
      "min_width": null,
      "object_fit": null,
      "object_position": null,
      "order": null,
      "overflow": null,
      "overflow_x": null,
      "overflow_y": null,
      "padding": null,
      "right": null,
      "top": null,
      "visibility": null,
      "width": null
     }
    },
    "74d180421aa84df3bf6718d25b0d67ed": {
     "model_module": "@jupyter-widgets/base",
     "model_module_version": "1.2.0",
     "model_name": "LayoutModel",
     "state": {
      "_model_module": "@jupyter-widgets/base",
      "_model_module_version": "1.2.0",
      "_model_name": "LayoutModel",
      "_view_count": null,
      "_view_module": "@jupyter-widgets/base",
      "_view_module_version": "1.2.0",
      "_view_name": "LayoutView",
      "align_content": null,
      "align_items": null,
      "align_self": null,
      "border": null,
      "bottom": null,
      "display": null,
      "flex": null,
      "flex_flow": null,
      "grid_area": null,
      "grid_auto_columns": null,
      "grid_auto_flow": null,
      "grid_auto_rows": null,
      "grid_column": null,
      "grid_gap": null,
      "grid_row": null,
      "grid_template_areas": null,
      "grid_template_columns": null,
      "grid_template_rows": null,
      "height": null,
      "justify_content": null,
      "justify_items": null,
      "left": null,
      "margin": null,
      "max_height": null,
      "max_width": null,
      "min_height": null,
      "min_width": null,
      "object_fit": null,
      "object_position": null,
      "order": null,
      "overflow": null,
      "overflow_x": null,
      "overflow_y": null,
      "padding": null,
      "right": null,
      "top": null,
      "visibility": null,
      "width": null
     }
    },
    "76943bf633a544589564224b9b93d7d6": {
     "model_module": "@jupyter-widgets/controls",
     "model_module_version": "1.5.0",
     "model_name": "DescriptionStyleModel",
     "state": {
      "_model_module": "@jupyter-widgets/controls",
      "_model_module_version": "1.5.0",
      "_model_name": "DescriptionStyleModel",
      "_view_count": null,
      "_view_module": "@jupyter-widgets/base",
      "_view_module_version": "1.2.0",
      "_view_name": "StyleView",
      "description_width": ""
     }
    },
    "7c36f8ddb91244cfb8aeac10d5eb68ee": {
     "model_module": "@jupyter-widgets/base",
     "model_module_version": "1.2.0",
     "model_name": "LayoutModel",
     "state": {
      "_model_module": "@jupyter-widgets/base",
      "_model_module_version": "1.2.0",
      "_model_name": "LayoutModel",
      "_view_count": null,
      "_view_module": "@jupyter-widgets/base",
      "_view_module_version": "1.2.0",
      "_view_name": "LayoutView",
      "align_content": null,
      "align_items": null,
      "align_self": null,
      "border": null,
      "bottom": null,
      "display": null,
      "flex": null,
      "flex_flow": null,
      "grid_area": null,
      "grid_auto_columns": null,
      "grid_auto_flow": null,
      "grid_auto_rows": null,
      "grid_column": null,
      "grid_gap": null,
      "grid_row": null,
      "grid_template_areas": null,
      "grid_template_columns": null,
      "grid_template_rows": null,
      "height": null,
      "justify_content": null,
      "justify_items": null,
      "left": null,
      "margin": null,
      "max_height": null,
      "max_width": null,
      "min_height": null,
      "min_width": null,
      "object_fit": null,
      "object_position": null,
      "order": null,
      "overflow": null,
      "overflow_x": null,
      "overflow_y": null,
      "padding": null,
      "right": null,
      "top": null,
      "visibility": null,
      "width": null
     }
    },
    "8ad98d3110224ee9a0a0455d3e3a120d": {
     "model_module": "@jupyter-widgets/controls",
     "model_module_version": "1.5.0",
     "model_name": "DescriptionStyleModel",
     "state": {
      "_model_module": "@jupyter-widgets/controls",
      "_model_module_version": "1.5.0",
      "_model_name": "DescriptionStyleModel",
      "_view_count": null,
      "_view_module": "@jupyter-widgets/base",
      "_view_module_version": "1.2.0",
      "_view_name": "StyleView",
      "description_width": ""
     }
    },
    "8f292fa68a3d416baad10ddd8456b527": {
     "model_module": "@jupyter-widgets/base",
     "model_module_version": "1.2.0",
     "model_name": "LayoutModel",
     "state": {
      "_model_module": "@jupyter-widgets/base",
      "_model_module_version": "1.2.0",
      "_model_name": "LayoutModel",
      "_view_count": null,
      "_view_module": "@jupyter-widgets/base",
      "_view_module_version": "1.2.0",
      "_view_name": "LayoutView",
      "align_content": null,
      "align_items": null,
      "align_self": null,
      "border": null,
      "bottom": null,
      "display": null,
      "flex": null,
      "flex_flow": null,
      "grid_area": null,
      "grid_auto_columns": null,
      "grid_auto_flow": null,
      "grid_auto_rows": null,
      "grid_column": null,
      "grid_gap": null,
      "grid_row": null,
      "grid_template_areas": null,
      "grid_template_columns": null,
      "grid_template_rows": null,
      "height": null,
      "justify_content": null,
      "justify_items": null,
      "left": null,
      "margin": null,
      "max_height": null,
      "max_width": null,
      "min_height": null,
      "min_width": null,
      "object_fit": null,
      "object_position": null,
      "order": null,
      "overflow": null,
      "overflow_x": null,
      "overflow_y": null,
      "padding": null,
      "right": null,
      "top": null,
      "visibility": null,
      "width": null
     }
    },
    "979373783eef4201ac505f196c2e47d8": {
     "model_module": "@jupyter-widgets/base",
     "model_module_version": "1.2.0",
     "model_name": "LayoutModel",
     "state": {
      "_model_module": "@jupyter-widgets/base",
      "_model_module_version": "1.2.0",
      "_model_name": "LayoutModel",
      "_view_count": null,
      "_view_module": "@jupyter-widgets/base",
      "_view_module_version": "1.2.0",
      "_view_name": "LayoutView",
      "align_content": null,
      "align_items": null,
      "align_self": null,
      "border": null,
      "bottom": null,
      "display": null,
      "flex": null,
      "flex_flow": null,
      "grid_area": null,
      "grid_auto_columns": null,
      "grid_auto_flow": null,
      "grid_auto_rows": null,
      "grid_column": null,
      "grid_gap": null,
      "grid_row": null,
      "grid_template_areas": null,
      "grid_template_columns": null,
      "grid_template_rows": null,
      "height": null,
      "justify_content": null,
      "justify_items": null,
      "left": null,
      "margin": null,
      "max_height": null,
      "max_width": null,
      "min_height": null,
      "min_width": null,
      "object_fit": null,
      "object_position": null,
      "order": null,
      "overflow": null,
      "overflow_x": null,
      "overflow_y": null,
      "padding": null,
      "right": null,
      "top": null,
      "visibility": null,
      "width": null
     }
    },
    "9c13fe9463a04675b46131e844258345": {
     "model_module": "@jupyter-widgets/controls",
     "model_module_version": "1.5.0",
     "model_name": "FloatProgressModel",
     "state": {
      "_dom_classes": [],
      "_model_module": "@jupyter-widgets/controls",
      "_model_module_version": "1.5.0",
      "_model_name": "FloatProgressModel",
      "_view_count": null,
      "_view_module": "@jupyter-widgets/controls",
      "_view_module_version": "1.5.0",
      "_view_name": "ProgressView",
      "bar_style": "success",
      "description": "",
      "description_tooltip": null,
      "layout": "IPY_MODEL_7030ed4083d54d05946c15ac668d19a4",
      "max": 1,
      "min": 0,
      "orientation": "horizontal",
      "style": "IPY_MODEL_0f831f122aef4fd6af6ca2e81b42d214",
      "value": 1
     }
    },
    "ace53b6dd81b4e9fbcf515542a55e01f": {
     "model_module": "@jupyter-widgets/controls",
     "model_module_version": "1.5.0",
     "model_name": "HBoxModel",
     "state": {
      "_dom_classes": [],
      "_model_module": "@jupyter-widgets/controls",
      "_model_module_version": "1.5.0",
      "_model_name": "HBoxModel",
      "_view_count": null,
      "_view_module": "@jupyter-widgets/controls",
      "_view_module_version": "1.5.0",
      "_view_name": "HBoxView",
      "box_style": "",
      "children": [
       "IPY_MODEL_f4936d30f71c4077aa93f1f2bc090c13",
       "IPY_MODEL_2bbdab2df37d49de89fffbb9891aa115",
       "IPY_MODEL_21744dadce5844e3b9597af726b4cdc9"
      ],
      "layout": "IPY_MODEL_3d104b05ec2f4dc9aece5bd1c232aeef"
     }
    },
    "b26a29f9badf4fe29d9f8f1f77e14ab6": {
     "model_module": "@jupyter-widgets/controls",
     "model_module_version": "1.5.0",
     "model_name": "ProgressStyleModel",
     "state": {
      "_model_module": "@jupyter-widgets/controls",
      "_model_module_version": "1.5.0",
      "_model_name": "ProgressStyleModel",
      "_view_count": null,
      "_view_module": "@jupyter-widgets/base",
      "_view_module_version": "1.2.0",
      "_view_name": "StyleView",
      "bar_color": null,
      "description_width": ""
     }
    },
    "b9f3dc1ea9824cdb9e7aedbe9facfa99": {
     "model_module": "@jupyter-widgets/controls",
     "model_module_version": "1.5.0",
     "model_name": "DescriptionStyleModel",
     "state": {
      "_model_module": "@jupyter-widgets/controls",
      "_model_module_version": "1.5.0",
      "_model_name": "DescriptionStyleModel",
      "_view_count": null,
      "_view_module": "@jupyter-widgets/base",
      "_view_module_version": "1.2.0",
      "_view_name": "StyleView",
      "description_width": ""
     }
    },
    "f0cdf5bdb7854117a9e22408fbb93ff9": {
     "model_module": "@jupyter-widgets/controls",
     "model_module_version": "1.5.0",
     "model_name": "HTMLModel",
     "state": {
      "_dom_classes": [],
      "_model_module": "@jupyter-widgets/controls",
      "_model_module_version": "1.5.0",
      "_model_name": "HTMLModel",
      "_view_count": null,
      "_view_module": "@jupyter-widgets/controls",
      "_view_module_version": "1.5.0",
      "_view_name": "HTMLView",
      "description": "",
      "description_tooltip": null,
      "layout": "IPY_MODEL_979373783eef4201ac505f196c2e47d8",
      "placeholder": "​",
      "style": "IPY_MODEL_b9f3dc1ea9824cdb9e7aedbe9facfa99",
      "value": " 1/1 [00:56&lt;00:00, 56.18s/it]"
     }
    },
    "f4936d30f71c4077aa93f1f2bc090c13": {
     "model_module": "@jupyter-widgets/controls",
     "model_module_version": "1.5.0",
     "model_name": "HTMLModel",
     "state": {
      "_dom_classes": [],
      "_model_module": "@jupyter-widgets/controls",
      "_model_module_version": "1.5.0",
      "_model_name": "HTMLModel",
      "_view_count": null,
      "_view_module": "@jupyter-widgets/controls",
      "_view_module_version": "1.5.0",
      "_view_name": "HTMLView",
      "description": "",
      "description_tooltip": null,
      "layout": "IPY_MODEL_4d9ccb83f39645c9a42d8dae5355a35e",
      "placeholder": "​",
      "style": "IPY_MODEL_8ad98d3110224ee9a0a0455d3e3a120d",
      "value": "Downloading data: 100%"
     }
    }
   }
  }
 },
 "nbformat": 4,
 "nbformat_minor": 4
}
