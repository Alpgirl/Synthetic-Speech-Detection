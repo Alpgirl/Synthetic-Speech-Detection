{
 "cells": [
  {
   "cell_type": "code",
   "execution_count": null,
   "metadata": {
    "id": "gKwB2rTrQWId",
    "outputId": "200012d7-f47f-4f68-8c13-2a693853197b",
    "scrolled": true
   },
   "outputs": [
    {
     "name": "stdout",
     "output_type": "stream",
     "text": [
      "Found existing installation: torch 2.2.2\n",
      "\n",
      "Uninstalling torch-2.2.2:\n",
      "\n",
      "  Successfully uninstalled torch-2.2.2\n",
      "\n",
      "Found existing installation: torchaudio 2.2.2\n",
      "\n",
      "Uninstalling torchaudio-2.2.2:\n",
      "\n",
      "  Successfully uninstalled torchaudio-2.2.2\n",
      "\n",
      "Found existing installation: torchvision 0.17.2\n",
      "\n",
      "Uninstalling torchvision-0.17.2:\n",
      "\n",
      "  Successfully uninstalled torchvision-0.17.2\n",
      "\n",
      "\u001b[33mWARNING: Running pip as the 'root' user can result in broken permissions and conflicting behaviour with the system package manager. It is recommended to use a virtual environment instead: https://pip.pypa.io/warnings/venv\u001b[0m\u001b[33m\n",
      "\n",
      "\u001b[0m"
     ]
    }
   ],
   "source": [
    "# !pip uninstall torch torchaudio torchvision -y"
   ]
  },
  {
   "cell_type": "code",
   "execution_count": null,
   "metadata": {
    "id": "LJSjcqD9QWIf",
    "outputId": "2ec60c8e-e4c1-4d2d-9911-8dfb68494af8",
    "scrolled": true
   },
   "outputs": [
    {
     "name": "stdout",
     "output_type": "stream",
     "text": [
      "Collecting torch==2.2.2\n",
      "\n",
      "  Using cached torch-2.2.2-cp310-cp310-manylinux1_x86_64.whl (755.5 MB)\n",
      "\n",
      "Collecting torchaudio==2.2.2\n",
      "\n",
      "  Using cached torchaudio-2.2.2-cp310-cp310-manylinux1_x86_64.whl (3.3 MB)\n",
      "\n",
      "Requirement already satisfied: filelock in /usr/local/lib/python3.10/dist-packages (from torch==2.2.2) (3.13.4)\n",
      "\n",
      "Requirement already satisfied: nvidia-cublas-cu12==12.1.3.1 in /usr/local/lib/python3.10/dist-packages (from torch==2.2.2) (12.1.3.1)\n",
      "\n",
      "Requirement already satisfied: triton==2.2.0 in /usr/local/lib/python3.10/dist-packages (from torch==2.2.2) (2.2.0)\n",
      "\n",
      "Requirement already satisfied: nvidia-cuda-cupti-cu12==12.1.105 in /usr/local/lib/python3.10/dist-packages (from torch==2.2.2) (12.1.105)\n",
      "\n",
      "Requirement already satisfied: typing-extensions>=4.8.0 in /usr/local/lib/python3.10/dist-packages (from torch==2.2.2) (4.11.0)\n",
      "\n",
      "Requirement already satisfied: nvidia-cusparse-cu12==12.1.0.106 in /usr/local/lib/python3.10/dist-packages (from torch==2.2.2) (12.1.0.106)\n",
      "\n",
      "Requirement already satisfied: networkx in /usr/local/lib/python3.10/dist-packages (from torch==2.2.2) (3.3)\n",
      "\n",
      "Requirement already satisfied: nvidia-cuda-runtime-cu12==12.1.105 in /usr/local/lib/python3.10/dist-packages (from torch==2.2.2) (12.1.105)\n",
      "\n",
      "Requirement already satisfied: nvidia-nvtx-cu12==12.1.105 in /usr/local/lib/python3.10/dist-packages (from torch==2.2.2) (12.1.105)\n",
      "\n",
      "Requirement already satisfied: nvidia-cuda-nvrtc-cu12==12.1.105 in /usr/local/lib/python3.10/dist-packages (from torch==2.2.2) (12.1.105)\n",
      "\n",
      "Requirement already satisfied: nvidia-nccl-cu12==2.19.3 in /usr/local/lib/python3.10/dist-packages (from torch==2.2.2) (2.19.3)\n",
      "\n",
      "Requirement already satisfied: nvidia-cudnn-cu12==8.9.2.26 in /usr/local/lib/python3.10/dist-packages (from torch==2.2.2) (8.9.2.26)\n",
      "\n",
      "Requirement already satisfied: sympy in /usr/local/lib/python3.10/dist-packages (from torch==2.2.2) (1.12)\n",
      "\n",
      "Requirement already satisfied: nvidia-cufft-cu12==11.0.2.54 in /usr/local/lib/python3.10/dist-packages (from torch==2.2.2) (11.0.2.54)\n",
      "\n",
      "Requirement already satisfied: fsspec in /usr/local/lib/python3.10/dist-packages (from torch==2.2.2) (2024.3.1)\n",
      "\n",
      "Requirement already satisfied: nvidia-cusolver-cu12==11.4.5.107 in /usr/local/lib/python3.10/dist-packages (from torch==2.2.2) (11.4.5.107)\n",
      "\n",
      "Requirement already satisfied: jinja2 in /usr/local/lib/python3.10/dist-packages (from torch==2.2.2) (3.1.3)\n",
      "\n",
      "Requirement already satisfied: nvidia-curand-cu12==10.3.2.106 in /usr/local/lib/python3.10/dist-packages (from torch==2.2.2) (10.3.2.106)\n",
      "\n",
      "Requirement already satisfied: nvidia-nvjitlink-cu12 in /usr/local/lib/python3.10/dist-packages (from nvidia-cusolver-cu12==11.4.5.107->torch==2.2.2) (12.4.127)\n",
      "\n",
      "Requirement already satisfied: MarkupSafe>=2.0 in /usr/local/lib/python3.10/dist-packages (from jinja2->torch==2.2.2) (2.1.5)\n",
      "\n",
      "Requirement already satisfied: mpmath>=0.19 in /usr/local/lib/python3.10/dist-packages (from sympy->torch==2.2.2) (1.3.0)\n",
      "\n",
      "Installing collected packages: torch, torchaudio\n",
      "\n",
      "Successfully installed torch-2.2.2 torchaudio-2.2.2\n",
      "\n",
      "\u001b[33mWARNING: Running pip as the 'root' user can result in broken permissions and conflicting behaviour with the system package manager. It is recommended to use a virtual environment instead: https://pip.pypa.io/warnings/venv\u001b[0m\u001b[33m\n",
      "\n",
      "\u001b[0m"
     ]
    }
   ],
   "source": [
    "# !pip install torch==2.2.2 torchaudio==2.2.2"
   ]
  },
  {
   "cell_type": "code",
   "execution_count": 1,
   "metadata": {
    "colab": {
     "base_uri": "https://localhost:8080/"
    },
    "execution": {
     "iopub.execute_input": "2024-05-23T19:02:39.946173Z",
     "iopub.status.busy": "2024-05-23T19:02:39.945933Z",
     "iopub.status.idle": "2024-05-23T19:02:53.423231Z",
     "shell.execute_reply": "2024-05-23T19:02:53.421700Z",
     "shell.execute_reply.started": "2024-05-23T19:02:39.946151Z"
    },
    "id": "kNfEq6UQQf-6",
    "outputId": "e875b755-a09d-4e67-835b-6da787406dc1"
   },
   "outputs": [],
   "source": [
    "!pip install torch torchaudio torchvision datasets -q"
   ]
  },
  {
   "cell_type": "code",
   "execution_count": 27,
   "metadata": {
    "id": "9oiOQXctXFJo"
   },
   "outputs": [],
   "source": [
    "import random\n",
    "import IPython\n",
    "\n",
    "import datasets\n",
    "\n",
    "from datasets.utils import DownloadManager\n",
    "\n",
    "import numpy as np\n",
    "\n",
    "import torch\n",
    "import torchaudio\n",
    "import torchaudio.transforms as T\n",
    "\n",
    "from torch.utils.data import DataLoader, Dataset\n",
    "\n",
    "import os\n",
    "import sys\n",
    "\n",
    "from tqdm import tqdm\n",
    "import torchvision\n",
    "import soundfile as sf\n",
    "import torch.nn as nn\n",
    "import torchvision.models as models\n",
    "from librosa import util\n",
    "import librosa.feature"
   ]
  },
  {
   "cell_type": "code",
   "execution_count": 28,
   "metadata": {
    "id": "3sC4bMRrQWIh"
   },
   "outputs": [],
   "source": [
    "sys.path.append('src')"
   ]
  },
  {
   "cell_type": "code",
   "execution_count": 33,
   "metadata": {},
   "outputs": [
    {
     "data": {
      "text/plain": [
       "'cuda'"
      ]
     },
     "execution_count": 33,
     "metadata": {},
     "output_type": "execute_result"
    }
   ],
   "source": [
    "device = 'cuda' if torch.cuda.is_available() else 'cpu'\n",
    "device"
   ]
  },
  {
   "cell_type": "markdown",
   "metadata": {
    "id": "9QObvPnqW_Td"
   },
   "source": [
    "# Load Dataset .zip from link"
   ]
  },
  {
   "cell_type": "markdown",
   "metadata": {
    "id": "RP_rXD0OdsWF"
   },
   "source": [
    "Logical access (LA):\n",
    "\n",
    "- ```speaker_id:``` LA_****, a 4-digit speaker ID\n",
    "- ```audio_file_name:``` name of the audio file\n",
    "- ```audio:``` '****.flac'  the path to the downloaded audio file in FLAC format (https://xiph.org/flac/).\n",
    "- ```system_id:``` ID of the speech spoofing system (A01 - A19), or, for bonafide speech SYSTEM-ID is left blank ('-')\n",
    "- ```key:``` 'bonafide' for genuine speech, or, 'spoof' for spoofing speech"
   ]
  },
  {
   "cell_type": "code",
   "execution_count": 18,
   "metadata": {
    "execution": {
     "iopub.execute_input": "2024-05-23T19:34:39.573854Z",
     "iopub.status.busy": "2024-05-23T19:34:39.573502Z",
     "iopub.status.idle": "2024-05-23T19:34:39.578805Z",
     "shell.execute_reply": "2024-05-23T19:34:39.577610Z",
     "shell.execute_reply.started": "2024-05-23T19:34:39.573827Z"
    }
   },
   "outputs": [],
   "source": [
    "# # For kaggle\n",
    "# import sys\n",
    "# sys.path.append('/kaggle/input/modulesspeechdetection')\n"
   ]
  },
  {
   "cell_type": "code",
   "execution_count": 29,
   "metadata": {
    "colab": {
     "base_uri": "https://localhost:8080/",
     "height": 116,
     "referenced_widgets": [
      "ace53b6dd81b4e9fbcf515542a55e01f",
      "f4936d30f71c4077aa93f1f2bc090c13",
      "2bbdab2df37d49de89fffbb9891aa115",
      "21744dadce5844e3b9597af726b4cdc9",
      "3d104b05ec2f4dc9aece5bd1c232aeef",
      "4d9ccb83f39645c9a42d8dae5355a35e",
      "8ad98d3110224ee9a0a0455d3e3a120d",
      "35964bc8f6394bacba4a8235a127c40b",
      "b26a29f9badf4fe29d9f8f1f77e14ab6",
      "8f292fa68a3d416baad10ddd8456b527",
      "5c96940d36ef456eb42dceabd345e4f7",
      "06007bd3db2b4f75bb756257a063c6f9",
      "349bc4b49bee4025b9abc6cd55887d41",
      "9c13fe9463a04675b46131e844258345",
      "f0cdf5bdb7854117a9e22408fbb93ff9",
      "7c36f8ddb91244cfb8aeac10d5eb68ee",
      "74d180421aa84df3bf6718d25b0d67ed",
      "76943bf633a544589564224b9b93d7d6",
      "7030ed4083d54d05946c15ac668d19a4",
      "0f831f122aef4fd6af6ca2e81b42d214",
      "979373783eef4201ac505f196c2e47d8",
      "b9f3dc1ea9824cdb9e7aedbe9facfa99"
     ]
    },
    "id": "JQBkSfn3i24L",
    "outputId": "fcb60f42-6378-4fb5-805b-436f5f7a2518"
   },
   "outputs": [
    {
     "data": {
      "application/vnd.jupyter.widget-view+json": {
       "model_id": "6870ed7d5aec4648a91a67ec2dd55176",
       "version_major": 2,
       "version_minor": 0
      },
      "text/plain": [
       "Computing checksums: 100%|##########| 1/1 [00:23<00:00, 23.53s/it]"
      ]
     },
     "metadata": {},
     "output_type": "display_data"
    },
    {
     "name": "stdout",
     "output_type": "stream",
     "text": [
      "CPU times: user 22.5 s, sys: 1.18 s, total: 23.7 s\n",
      "Wall time: 1min\n"
     ]
    }
   ],
   "source": [
    "%%time\n",
    "from load_avsspoof19 import ASVspoof2019\n",
    "\n",
    "dl_manager = DownloadManager()\n",
    "\n",
    "speech_dataset = ASVspoof2019()\n",
    "asv_datasets = speech_dataset._split_generators(dl_manager)"
   ]
  },
  {
   "cell_type": "code",
   "execution_count": 30,
   "metadata": {
    "id": "FUFksHVrQWIj"
   },
   "outputs": [],
   "source": [
    "# 0 - train, 1 - eval, 2 - test in asv_datasets\n",
    "train_metadata_filepath = asv_datasets[0].gen_kwargs[\"metadata_filepath\"]\n",
    "train_audios_dir = asv_datasets[0].gen_kwargs[\"audios_dir\"]\n",
    "\n",
    "val_metadata_filepath = asv_datasets[1].gen_kwargs[\"metadata_filepath\"]\n",
    "val_audios_dir = asv_datasets[1].gen_kwargs[\"audios_dir\"]\n",
    "\n",
    "test_metadata_filepath = asv_datasets[2].gen_kwargs[\"metadata_filepath\"]\n",
    "test_audios_dir = asv_datasets[2].gen_kwargs[\"audios_dir\"]"
   ]
  },
  {
   "cell_type": "code",
   "execution_count": 31,
   "metadata": {
    "id": "gwAbKkDLQWIj"
   },
   "outputs": [],
   "source": [
    "train_samples = speech_dataset._generate_examples(train_metadata_filepath, train_audios_dir)\n",
    "val_samples = speech_dataset._generate_examples(val_metadata_filepath, val_audios_dir)\n",
    "test_samples = speech_dataset._generate_examples(test_metadata_filepath, test_audios_dir)"
   ]
  },
  {
   "cell_type": "markdown",
   "metadata": {
    "id": "xXEwnHR6QWIj"
   },
   "source": [
    "## Listen to random sample\n",
    "\n",
    "Display some audio from train/validation set."
   ]
  },
  {
   "cell_type": "code",
   "execution_count": 34,
   "metadata": {
    "colab": {
     "base_uri": "https://localhost:8080/"
    },
    "id": "2qImrElhQWIk",
    "outputId": "c22bb26f-0c26-4750-d4e4-3f614b489c18"
   },
   "outputs": [
    {
     "data": {
      "text/plain": [
       "{'speaker_id': 'LA_0083',\n",
       " 'audio_file_name': 'LA_T_7655679',\n",
       " 'system_id': 'A02',\n",
       " 'key': 'spoof',\n",
       " 'audio': '/root/.cache/huggingface/datasets/downloads/extracted/911103f86670b6f7e96211444d0f39fc5ffab511156a395f67b098c2f45dce18/LA/ASVspoof2019_LA_train/flac/LA_T_7655679.flac'}"
      ]
     },
     "execution_count": 34,
     "metadata": {},
     "output_type": "execute_result"
    }
   ],
   "source": [
    "def get_sample(samples):\n",
    "    return random.sample(samples, k=1)[0]\n",
    "\n",
    "sample = get_sample(train_samples)\n",
    "sample"
   ]
  },
  {
   "cell_type": "code",
   "execution_count": 35,
   "metadata": {
    "colab": {
     "base_uri": "https://localhost:8080/",
     "height": 93
    },
    "id": "PqzkjmH6QWIk",
    "outputId": "389c3888-fe5d-440f-94c9-2e74b2d9e19b"
   },
   "outputs": [
    {
     "name": "stdout",
     "output_type": "stream",
     "text": [
      "spoof\n"
     ]
    },
    {
     "data": {
      "text/html": [
       "\n",
       "                <audio  controls=\"controls\" >\n",
       "                    <source src=\"data:audio/flac;base64,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\" type=\"audio/flac\" />\n",
       "                    Your browser does not support the audio element.\n",
       "                </audio>\n",
       "              "
      ],
      "text/plain": [
       "<IPython.lib.display.Audio object>"
      ]
     },
     "execution_count": 35,
     "metadata": {},
     "output_type": "execute_result"
    }
   ],
   "source": [
    "print(sample['key'])\n",
    "IPython.display.Audio(sample['audio'])"
   ]
  },
  {
   "cell_type": "code",
   "execution_count": 37,
   "metadata": {
    "colab": {
     "base_uri": "https://localhost:8080/"
    },
    "id": "2oAIZXHmQWIk",
    "outputId": "6c39838c-edf5-4bcb-e9d4-0c112405a87f"
   },
   "outputs": [
    {
     "data": {
      "text/plain": [
       "{'speaker_id': 'LA_0102',\n",
       " 'audio_file_name': 'LA_D_9354139',\n",
       " 'system_id': '-',\n",
       " 'key': 'bonafide',\n",
       " 'audio': '/root/.cache/huggingface/datasets/downloads/extracted/911103f86670b6f7e96211444d0f39fc5ffab511156a395f67b098c2f45dce18/LA/ASVspoof2019_LA_dev/flac/LA_D_9354139.flac'}"
      ]
     },
     "execution_count": 37,
     "metadata": {},
     "output_type": "execute_result"
    }
   ],
   "source": [
    "sample = get_sample(val_samples)\n",
    "sample"
   ]
  },
  {
   "cell_type": "code",
   "execution_count": 39,
   "metadata": {
    "colab": {
     "base_uri": "https://localhost:8080/",
     "height": 93
    },
    "id": "F5G5aOobQWIl",
    "outputId": "bac47956-1241-4c73-b5dd-fc0ff0d69995"
   },
   "outputs": [
    {
     "name": "stdout",
     "output_type": "stream",
     "text": [
      "bonafide\n"
     ]
    },
    {
     "data": {
      "text/html": [
       "\n",
       "                <audio  controls=\"controls\" >\n",
       "                    <source src=\"data:audio/flac;base64,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\" type=\"audio/flac\" />\n",
       "                    Your browser does not support the audio element.\n",
       "                </audio>\n",
       "              "
      ],
      "text/plain": [
       "<IPython.lib.display.Audio object>"
      ]
     },
     "execution_count": 39,
     "metadata": {},
     "output_type": "execute_result"
    }
   ],
   "source": [
    "print(sample['key'])\n",
    "IPython.display.Audio(sample['audio'])"
   ]
  },
  {
   "cell_type": "markdown",
   "metadata": {
    "id": "45-6l51gQWIl"
   },
   "source": [
    "## Audio preprocessing\n"
   ]
  },
  {
   "cell_type": "code",
   "execution_count": 40,
   "metadata": {
    "id": "BkxvMZ4EQWIl"
   },
   "outputs": [],
   "source": [
    "def audio_preprocess(waveform, sample_rate, resample_rate, desired_duration):\n",
    "    \"\"\"\n",
    "        Resample audio to target frequency (16 kHz or 22.05 kHz) \\\n",
    "        Set equal duration for all audios\n",
    "    \"\"\"\n",
    "    resampler = T.Resample(sample_rate, resample_rate)\n",
    "    resampled_waveform = resampler(waveform)\n",
    "\n",
    "    desired_length = int(desired_duration * resample_rate)\n",
    "    if len(resampled_waveform) < desired_length:\n",
    "        resampled_waveform = resampled_waveform.tile(((desired_length // resampled_waveform.shape[1]) + 1,))\n",
    "    resampled_waveform = resampled_waveform[:,0: desired_length]\n",
    "\n",
    "    return resampled_waveform\n",
    "\n",
    "\n",
    "def peak_normalize(waveform):\n",
    "    \"\"\"\n",
    "        Normalize audio\n",
    "    \"\"\"\n",
    "    waveform /= torch.max(torch.abs(waveform))\n",
    "    return waveform"
   ]
  },
  {
   "cell_type": "code",
   "execution_count": 41,
   "metadata": {
    "id": "neoLwL9WQWIm"
   },
   "outputs": [],
   "source": [
    "class AudioDataset(Dataset):\n",
    "    def __init__(self, raw_dataset, desired_duration, resample_rate, transform=None):\n",
    "        self.raw_data = raw_dataset\n",
    "        self.transform = transform\n",
    "        self.sample_rate = resample_rate\n",
    "        self.duration = desired_duration\n",
    "\n",
    "    def __len__(self):\n",
    "        return len(self.raw_data)\n",
    "\n",
    "    def __getitem__(self, idx):\n",
    "        waveform, sample_rate = torchaudio.load(self.raw_data[idx]['audio'])\n",
    "        if self.transform:\n",
    "            waveform = self.transform[0](waveform, sample_rate, self.sample_rate, self.duration)\n",
    "            waveform = self.transform[1](waveform)\n",
    "\n",
    "        label = 1 if self.raw_data[idx]['key'] == 'spoof' else 0\n",
    "        return waveform, label"
   ]
  },
  {
   "cell_type": "code",
   "execution_count": 42,
   "metadata": {
    "id": "TkcSymU8QWIm"
   },
   "outputs": [],
   "source": [
    "_DURATION = 6\n",
    "_SAMPLE_RATE = 16_000\n",
    "\n",
    "train_dataset = AudioDataset(train_samples, _DURATION, _SAMPLE_RATE, transform=[audio_preprocess, peak_normalize])\n",
    "train_loader= DataLoader(train_dataset, batch_size=32, shuffle=True)\n",
    "\n",
    "test_dataset = AudioDataset(test_samples, _DURATION, _SAMPLE_RATE, transform=[audio_preprocess, peak_normalize])\n",
    "test_loader= DataLoader(test_dataset, batch_size=32, shuffle=True)"
   ]
  },
  {
   "cell_type": "code",
   "execution_count": 43,
   "metadata": {
    "colab": {
     "base_uri": "https://localhost:8080/"
    },
    "id": "mqEmmDinQWIn",
    "outputId": "67ee2dba-673a-4054-a710-85e6ea11c09d"
   },
   "outputs": [
    {
     "data": {
      "text/plain": [
       "torch.Size([1, 96000])"
      ]
     },
     "execution_count": 43,
     "metadata": {},
     "output_type": "execute_result"
    }
   ],
   "source": [
    "train_dataset[4][0].shape"
   ]
  },
  {
   "cell_type": "markdown",
   "metadata": {
    "id": "KlNleLQVQWIn"
   },
   "source": [
    "# Feature Extraction Definition\n",
    "Log power spectrum (LPS), Mel-frequency cepstrum coefficient (MFCC), constant Q cepstral coefficient (CQCC)."
   ]
  },
  {
   "cell_type": "code",
   "execution_count": 48,
   "metadata": {
    "id": "vceNcIT3QWIn"
   },
   "outputs": [],
   "source": [
    "from feature_ext import get_MFCC, get_CQCC, get_LPS\n",
    "\n",
    "feature_extractor = 'MFCC'\n",
    "# feature_extr.MFCC()"
   ]
  },
  {
   "cell_type": "markdown",
   "metadata": {
    "id": "c2r-ZDfIQWIn"
   },
   "source": [
    "# Model definition"
   ]
  },
  {
   "cell_type": "code",
   "execution_count": 170,
   "metadata": {
    "id": "wdpDkgt_Rxo3"
   },
   "outputs": [],
   "source": [
    "# model = torchvision.models.resnet18(pretrained=True)\n",
    "# n_ftrs = model.fc.in_features\n",
    "# model.fc=nn.Linear(n_ftrs,2)\n",
    "# model.conv1 = nn.Conv2d(1, 64, kernel_size=7, stride=2, padding=3, bias=False)\n",
    "# model.conv1 = nn.Conv2d(1, 64, kernel_size=(9, 3), stride=(3, 1), padding=(1, 1), bias=False)"
   ]
  },
  {
   "cell_type": "code",
   "execution_count": 45,
   "metadata": {
    "id": "pHz7kIcLpwWQ"
   },
   "outputs": [],
   "source": [
    "from models import TE_ResNet"
   ]
  },
  {
   "cell_type": "code",
   "execution_count": 56,
   "metadata": {
    "id": "X3aB4wEAQWIo"
   },
   "outputs": [],
   "source": [
    "#device = torch.device(\"cuda\" if torch.cuda.is_available() else \"cpu\")\n",
    "model = TE_ResNet(\n",
    "    embed_size=32,\n",
    "    num_layers=6,\n",
    "    heads=8,\n",
    "    ff_hidden_size=1024,\n",
    "    dropout=0.1,\n",
    "    device=device,\n",
    "    max_length=200\n",
    ").to(device)\n",
    "\n",
    "# Instantiate the model\n",
    "# model = TE_ResNet(\n",
    "#     embed_size=32,\n",
    "#     num_layers=6,\n",
    "#     heads=8,\n",
    "#     ff_hidden_size=1024,\n",
    "#     dropout=0.1,\n",
    "#     device=device,\n",
    "#     max_length=188\n",
    "# ).to(device)\n",
    "\n",
    "#print(model)"
   ]
  },
  {
   "cell_type": "markdown",
   "metadata": {
    "id": "85acNo0BQWIo"
   },
   "source": [
    "# Training"
   ]
  },
  {
   "cell_type": "code",
   "execution_count": 57,
   "metadata": {
    "id": "FXQDIPhISz3g"
   },
   "outputs": [],
   "source": [
    "def truncate_sequence(features, max_length):\n",
    "    batch_size, seq_length, feature_dim = features.size()\n",
    "    if seq_length > max_length:\n",
    "        features = features[:, :max_length, :]\n",
    "    else:\n",
    "        padding = torch.zeros(batch_size, max_length - seq_length, feature_dim, device=features.device)\n",
    "        features = torch.cat((features, padding), dim=1)\n",
    "    return features\n",
    "\n",
    "def train_loop(model, loader, feature_extractor, criterion, optimizer, n_epochs, device, max_length):\n",
    "    feature_extr = {\n",
    "        'MFCC': get_MFCC,\n",
    "        'CQCC': get_CQCC,\n",
    "        'LPS': get_LPS\n",
    "    }\n",
    "\n",
    "    for epoch in range(n_epochs):\n",
    "        model.train(True)\n",
    "        sum_loss = 0.0\n",
    "        num_correct = 0\n",
    "        total_samples = 0\n",
    "\n",
    "        for data, labels in loader:\n",
    "            data = data.to(device)\n",
    "            labels = labels.to(device)\n",
    "\n",
    "            # Debug: Print initial shapes\n",
    "            #print(f\"Data shape: {data.shape}\")\n",
    "            #print(f\"Labels shape: {labels.shape}\")\n",
    "\n",
    "            # Extract features\n",
    "            if feature_extractor in feature_extr:\n",
    "                features = feature_extr[feature_extractor](data, loader.dataset.sample_rate)\n",
    "            else:\n",
    "                raise ValueError(f\"Invalid feature extractor: {feature_extractor}\")\n",
    "\n",
    "            # Debug: Print feature shapes after extraction\n",
    "            #print(f\"Features shape after extraction: {features.shape}\")\n",
    "\n",
    "            features = features.to(device)\n",
    "            features = truncate_sequence(features, max_length)  # Truncate or pad to max_length\n",
    "\n",
    "            # Generate a mask of ones\n",
    "            mask = torch.ones(features.shape[:2], device=device).bool()\n",
    "\n",
    "            # Debug: Print shapes before model forward pass\n",
    "            #print(f\"Features shape before model: {features.shape}\")\n",
    "            #print(f\"Mask shape: {mask.shape}\")\n",
    "\n",
    "            # Forward pass through the model\n",
    "            output = model(features, mask)\n",
    "\n",
    "            # Debug: Print output shape\n",
    "            #print(f\"Output shape: {output.shape}\")\n",
    "            #print(f\"Labels shape: {labels.shape}\")\n",
    "\n",
    "            # Check for shape mismatch\n",
    "            if output.shape[0] != labels.shape[0]:\n",
    "                raise ValueError(f\"Mismatch in batch sizes: output batch size {output.shape[0]}, labels batch size {labels.shape[0]}\")\n",
    "\n",
    "            # Compute loss\n",
    "            loss = criterion(output, labels)\n",
    "            loss.backward()\n",
    "            optimizer.step()\n",
    "            optimizer.zero_grad()\n",
    "\n",
    "            sum_loss += loss.item()\n",
    "            max_val, predicted = output.max(1)\n",
    "            num_correct += (predicted == labels).sum().item()\n",
    "            total_samples += data.size(0)\n",
    "\n",
    "        train_accuracy = num_correct / total_samples\n",
    "        train_avg_loss = sum_loss / len(loader)\n",
    "        print(f'Epoch [{epoch+1}/{n_epochs}], Training Accuracy: {train_accuracy:.4f}, Training Loss: {train_avg_loss:.4f}')\n",
    "\n"
   ]
  },
  {
   "cell_type": "code",
   "execution_count": 49,
   "metadata": {
    "id": "48cyT1d9S1oA"
   },
   "outputs": [],
   "source": [
    "num_epochs = 3\n",
    "optimizer = torch.optim.Adam(model.parameters(), lr=0.001)\n",
    "criterion = nn.CrossEntropyLoss()"
   ]
  },
  {
   "cell_type": "code",
   "execution_count": null,
   "metadata": {
    "colab": {
     "base_uri": "https://localhost:8080/",
     "height": 1000
    },
    "id": "cVxmW2us-D_g",
    "outputId": "1561bebf-7a2a-4409-b9ea-f1a8b26f3db2"
   },
   "outputs": [],
   "source": [
    "train_loop(\n",
    "    model,\n",
    "    train_loader,\n",
    "    feature_extractor=feature_extractor,\n",
    "    criterion=criterion,\n",
    "    optimizer=optimizer,\n",
    "    n_epochs=num_epochs,\n",
    "    device=device,\n",
    "    max_length=188\n",
    ")"
   ]
  },
  {
   "cell_type": "markdown",
   "metadata": {
    "id": "VBAI3sbKVzHV"
   },
   "source": [
    "# Evaluation"
   ]
  },
  {
   "cell_type": "code",
   "execution_count": 50,
   "metadata": {
    "execution": {
     "iopub.execute_input": "2024-05-23T20:32:40.748738Z",
     "iopub.status.busy": "2024-05-23T20:32:40.748361Z",
     "iopub.status.idle": "2024-05-23T20:32:40.761218Z",
     "shell.execute_reply": "2024-05-23T20:32:40.760202Z",
     "shell.execute_reply.started": "2024-05-23T20:32:40.748709Z"
    },
    "id": "K1ADKjrOTVVD"
   },
   "outputs": [],
   "source": [
    "import torch\n",
    "from tqdm import tqdm\n",
    "\n",
    "def evaluate_model(model, test_loader, feature_extractor, criterion, device, max_length):\n",
    "    feature_extr = {\n",
    "        'MFCC': get_MFCC,\n",
    "        'CQCC': get_CQCC,\n",
    "        'LPS': get_LPS\n",
    "    }\n",
    "\n",
    "    model.eval()\n",
    "    test_loss = 0.0\n",
    "    test_correct = 0\n",
    "    total_test_samples = 0\n",
    "\n",
    "    with torch.no_grad():\n",
    "        for waveform, label in tqdm(test_loader):\n",
    "            waveform, label = waveform.to(device), label.to(device)\n",
    "\n",
    "            # Debug: Print initial shapes\n",
    "            #print(f\"Waveform shape: {waveform.shape}\")\n",
    "            #print(f\"Label shape: {label.shape}\")\n",
    "\n",
    "            # Extract features\n",
    "            if feature_extractor in feature_extr:\n",
    "                features = feature_extr[feature_extractor](waveform, test_loader.dataset.sample_rate)\n",
    "            else:\n",
    "                raise ValueError(f\"Invalid feature extractor: {feature_extractor}\")\n",
    "\n",
    "            # Debug: Print feature shapes after extraction\n",
    "            #print(f\"Features shape after extraction: {features.shape}\")\n",
    "\n",
    "            features = features.to(device)\n",
    "            features = truncate_sequence(features, max_length)  # Truncate or pad to max_length\n",
    "\n",
    "            # Generate a mask of ones\n",
    "            mask = torch.ones(features.shape[:2], device=device).bool()\n",
    "\n",
    "            # Debug: Print shapes before model forward pass\n",
    "            #print(f\"Features shape before model: {features.shape}\")\n",
    "            #print(f\"Mask shape: {mask.shape}\")\n",
    "\n",
    "            # Forward pass through the model\n",
    "            output = model(features, mask)\n",
    "\n",
    "            # Debug: Print output shape\n",
    "            #print(f\"Output shape: {output.shape}\")\n",
    "            #print(f\"Label shape: {label.shape}\")\n",
    "\n",
    "            # Check for shape mismatch\n",
    "            if output.shape[0] != label.shape[0]:\n",
    "                raise ValueError(f\"Mismatch in batch sizes: output batch size {output.shape[0]}, label batch size {label.shape[0]}\")\n",
    "\n",
    "            # Compute loss\n",
    "            loss = criterion(output, label)\n",
    "            test_loss += loss.item()\n",
    "\n",
    "            _, predicted = output.max(1)\n",
    "            test_correct += (predicted == label).sum().item()\n",
    "            total_test_samples += label.size(0)\n",
    "\n",
    "    test_accuracy = test_correct / total_test_samples\n",
    "    test_loss /= len(test_loader)\n",
    "\n",
    "    print(f'Test Loss: {test_loss:.4f}, Test Accuracy: {test_accuracy:.4f}')\n",
    "    return test_loss, test_accuracy  # Return values for further analysis if needed\n"
   ]
  },
  {
   "cell_type": "code",
   "execution_count": 51,
   "metadata": {
    "execution": {
     "iopub.execute_input": "2024-05-23T20:32:41.610526Z",
     "iopub.status.busy": "2024-05-23T20:32:41.610162Z",
     "iopub.status.idle": "2024-05-23T20:58:44.651836Z",
     "shell.execute_reply": "2024-05-23T20:58:44.650527Z",
     "shell.execute_reply.started": "2024-05-23T20:32:41.610498Z"
    },
    "id": "pWPgXrh6TVZJ"
   },
   "outputs": [
    {
     "name": "stderr",
     "output_type": "stream",
     "text": [
      "100%|██████████| 2227/2227 [26:03<00:00,  1.42it/s]"
     ]
    },
    {
     "name": "stdout",
     "output_type": "stream",
     "text": [
      "Test Loss: 1.0491, Test Accuracy: 0.1032\n"
     ]
    },
    {
     "name": "stderr",
     "output_type": "stream",
     "text": [
      "\n"
     ]
    },
    {
     "data": {
      "text/plain": [
       "(1.0490612892704156, 0.10324690820781336)"
      ]
     },
     "execution_count": 51,
     "metadata": {},
     "output_type": "execute_result"
    }
   ],
   "source": [
    "evaluate_model(\n",
    "    model,\n",
    "    test_loader,\n",
    "    feature_extractor=feature_extractor,\n",
    "    criterion=criterion,\n",
    "    device=device,\n",
    "    max_length=188\n",
    ")"
   ]
  },
  {
   "cell_type": "code",
   "execution_count": null,
   "metadata": {
    "id": "J2c2LMfATVcJ"
   },
   "outputs": [],
   "source": []
  },
  {
   "cell_type": "code",
   "execution_count": null,
   "metadata": {
    "id": "Pdqj63ZoVcvx"
   },
   "outputs": [],
   "source": []
  },
  {
   "cell_type": "code",
   "execution_count": null,
   "metadata": {
    "id": "4jkNZmQrQWIo"
   },
   "outputs": [],
   "source": [
    "# def train_loop(loader):\n",
    "#     n_epochs = 5\n",
    "#     for epoch in n_epochs:\n",
    "#         for data, labels in loader:\n",
    "#             feature_extr.MFCC() # or any other\n",
    "#             output = model(data)\n",
    "#             loss = ...\n",
    "#     pass"
   ]
  }
 ],
 "metadata": {
  "colab": {
   "provenance": []
  },
  "kaggle": {
   "accelerator": "none",
   "dataSources": [
    {
     "datasetId": 5071871,
     "sourceId": 8499196,
     "sourceType": "datasetVersion"
    }
   ],
   "dockerImageVersionId": 30699,
   "isGpuEnabled": false,
   "isInternetEnabled": true,
   "language": "python",
   "sourceType": "notebook"
  },
  "kernelspec": {
   "display_name": "Python 3 (ipykernel)",
   "language": "python",
   "name": "python3"
  },
  "language_info": {
   "codemirror_mode": {
    "name": "ipython",
    "version": 3
   },
   "file_extension": ".py",
   "mimetype": "text/x-python",
   "name": "python",
   "nbconvert_exporter": "python",
   "pygments_lexer": "ipython3",
   "version": "3.10.12"
  },
  "widgets": {
   "application/vnd.jupyter.widget-state+json": {
    "06007bd3db2b4f75bb756257a063c6f9": {
     "model_module": "@jupyter-widgets/controls",
     "model_module_version": "1.5.0",
     "model_name": "HBoxModel",
     "state": {
      "_dom_classes": [],
      "_model_module": "@jupyter-widgets/controls",
      "_model_module_version": "1.5.0",
      "_model_name": "HBoxModel",
      "_view_count": null,
      "_view_module": "@jupyter-widgets/controls",
      "_view_module_version": "1.5.0",
      "_view_name": "HBoxView",
      "box_style": "",
      "children": [
       "IPY_MODEL_349bc4b49bee4025b9abc6cd55887d41",
       "IPY_MODEL_9c13fe9463a04675b46131e844258345",
       "IPY_MODEL_f0cdf5bdb7854117a9e22408fbb93ff9"
      ],
      "layout": "IPY_MODEL_7c36f8ddb91244cfb8aeac10d5eb68ee"
     }
    },
    "0f831f122aef4fd6af6ca2e81b42d214": {
     "model_module": "@jupyter-widgets/controls",
     "model_module_version": "1.5.0",
     "model_name": "ProgressStyleModel",
     "state": {
      "_model_module": "@jupyter-widgets/controls",
      "_model_module_version": "1.5.0",
      "_model_name": "ProgressStyleModel",
      "_view_count": null,
      "_view_module": "@jupyter-widgets/base",
      "_view_module_version": "1.2.0",
      "_view_name": "StyleView",
      "bar_color": null,
      "description_width": ""
     }
    },
    "21744dadce5844e3b9597af726b4cdc9": {
     "model_module": "@jupyter-widgets/controls",
     "model_module_version": "1.5.0",
     "model_name": "HTMLModel",
     "state": {
      "_dom_classes": [],
      "_model_module": "@jupyter-widgets/controls",
      "_model_module_version": "1.5.0",
      "_model_name": "HTMLModel",
      "_view_count": null,
      "_view_module": "@jupyter-widgets/controls",
      "_view_module_version": "1.5.0",
      "_view_name": "HTMLView",
      "description": "",
      "description_tooltip": null,
      "layout": "IPY_MODEL_8f292fa68a3d416baad10ddd8456b527",
      "placeholder": "​",
      "style": "IPY_MODEL_5c96940d36ef456eb42dceabd345e4f7",
      "value": " 7.64G/7.64G [07:25&lt;00:00, 14.7MB/s]"
     }
    },
    "2bbdab2df37d49de89fffbb9891aa115": {
     "model_module": "@jupyter-widgets/controls",
     "model_module_version": "1.5.0",
     "model_name": "FloatProgressModel",
     "state": {
      "_dom_classes": [],
      "_model_module": "@jupyter-widgets/controls",
      "_model_module_version": "1.5.0",
      "_model_name": "FloatProgressModel",
      "_view_count": null,
      "_view_module": "@jupyter-widgets/controls",
      "_view_module_version": "1.5.0",
      "_view_name": "ProgressView",
      "bar_style": "success",
      "description": "",
      "description_tooltip": null,
      "layout": "IPY_MODEL_35964bc8f6394bacba4a8235a127c40b",
      "max": 7640952520,
      "min": 0,
      "orientation": "horizontal",
      "style": "IPY_MODEL_b26a29f9badf4fe29d9f8f1f77e14ab6",
      "value": 7640952520
     }
    },
    "349bc4b49bee4025b9abc6cd55887d41": {
     "model_module": "@jupyter-widgets/controls",
     "model_module_version": "1.5.0",
     "model_name": "HTMLModel",
     "state": {
      "_dom_classes": [],
      "_model_module": "@jupyter-widgets/controls",
      "_model_module_version": "1.5.0",
      "_model_name": "HTMLModel",
      "_view_count": null,
      "_view_module": "@jupyter-widgets/controls",
      "_view_module_version": "1.5.0",
      "_view_name": "HTMLView",
      "description": "",
      "description_tooltip": null,
      "layout": "IPY_MODEL_74d180421aa84df3bf6718d25b0d67ed",
      "placeholder": "​",
      "style": "IPY_MODEL_76943bf633a544589564224b9b93d7d6",
      "value": "Computing checksums: 100%"
     }
    },
    "35964bc8f6394bacba4a8235a127c40b": {
     "model_module": "@jupyter-widgets/base",
     "model_module_version": "1.2.0",
     "model_name": "LayoutModel",
     "state": {
      "_model_module": "@jupyter-widgets/base",
      "_model_module_version": "1.2.0",
      "_model_name": "LayoutModel",
      "_view_count": null,
      "_view_module": "@jupyter-widgets/base",
      "_view_module_version": "1.2.0",
      "_view_name": "LayoutView",
      "align_content": null,
      "align_items": null,
      "align_self": null,
      "border": null,
      "bottom": null,
      "display": null,
      "flex": null,
      "flex_flow": null,
      "grid_area": null,
      "grid_auto_columns": null,
      "grid_auto_flow": null,
      "grid_auto_rows": null,
      "grid_column": null,
      "grid_gap": null,
      "grid_row": null,
      "grid_template_areas": null,
      "grid_template_columns": null,
      "grid_template_rows": null,
      "height": null,
      "justify_content": null,
      "justify_items": null,
      "left": null,
      "margin": null,
      "max_height": null,
      "max_width": null,
      "min_height": null,
      "min_width": null,
      "object_fit": null,
      "object_position": null,
      "order": null,
      "overflow": null,
      "overflow_x": null,
      "overflow_y": null,
      "padding": null,
      "right": null,
      "top": null,
      "visibility": null,
      "width": null
     }
    },
    "3d104b05ec2f4dc9aece5bd1c232aeef": {
     "model_module": "@jupyter-widgets/base",
     "model_module_version": "1.2.0",
     "model_name": "LayoutModel",
     "state": {
      "_model_module": "@jupyter-widgets/base",
      "_model_module_version": "1.2.0",
      "_model_name": "LayoutModel",
      "_view_count": null,
      "_view_module": "@jupyter-widgets/base",
      "_view_module_version": "1.2.0",
      "_view_name": "LayoutView",
      "align_content": null,
      "align_items": null,
      "align_self": null,
      "border": null,
      "bottom": null,
      "display": null,
      "flex": null,
      "flex_flow": null,
      "grid_area": null,
      "grid_auto_columns": null,
      "grid_auto_flow": null,
      "grid_auto_rows": null,
      "grid_column": null,
      "grid_gap": null,
      "grid_row": null,
      "grid_template_areas": null,
      "grid_template_columns": null,
      "grid_template_rows": null,
      "height": null,
      "justify_content": null,
      "justify_items": null,
      "left": null,
      "margin": null,
      "max_height": null,
      "max_width": null,
      "min_height": null,
      "min_width": null,
      "object_fit": null,
      "object_position": null,
      "order": null,
      "overflow": null,
      "overflow_x": null,
      "overflow_y": null,
      "padding": null,
      "right": null,
      "top": null,
      "visibility": null,
      "width": null
     }
    },
    "4d9ccb83f39645c9a42d8dae5355a35e": {
     "model_module": "@jupyter-widgets/base",
     "model_module_version": "1.2.0",
     "model_name": "LayoutModel",
     "state": {
      "_model_module": "@jupyter-widgets/base",
      "_model_module_version": "1.2.0",
      "_model_name": "LayoutModel",
      "_view_count": null,
      "_view_module": "@jupyter-widgets/base",
      "_view_module_version": "1.2.0",
      "_view_name": "LayoutView",
      "align_content": null,
      "align_items": null,
      "align_self": null,
      "border": null,
      "bottom": null,
      "display": null,
      "flex": null,
      "flex_flow": null,
      "grid_area": null,
      "grid_auto_columns": null,
      "grid_auto_flow": null,
      "grid_auto_rows": null,
      "grid_column": null,
      "grid_gap": null,
      "grid_row": null,
      "grid_template_areas": null,
      "grid_template_columns": null,
      "grid_template_rows": null,
      "height": null,
      "justify_content": null,
      "justify_items": null,
      "left": null,
      "margin": null,
      "max_height": null,
      "max_width": null,
      "min_height": null,
      "min_width": null,
      "object_fit": null,
      "object_position": null,
      "order": null,
      "overflow": null,
      "overflow_x": null,
      "overflow_y": null,
      "padding": null,
      "right": null,
      "top": null,
      "visibility": null,
      "width": null
     }
    },
    "5c96940d36ef456eb42dceabd345e4f7": {
     "model_module": "@jupyter-widgets/controls",
     "model_module_version": "1.5.0",
     "model_name": "DescriptionStyleModel",
     "state": {
      "_model_module": "@jupyter-widgets/controls",
      "_model_module_version": "1.5.0",
      "_model_name": "DescriptionStyleModel",
      "_view_count": null,
      "_view_module": "@jupyter-widgets/base",
      "_view_module_version": "1.2.0",
      "_view_name": "StyleView",
      "description_width": ""
     }
    },
    "7030ed4083d54d05946c15ac668d19a4": {
     "model_module": "@jupyter-widgets/base",
     "model_module_version": "1.2.0",
     "model_name": "LayoutModel",
     "state": {
      "_model_module": "@jupyter-widgets/base",
      "_model_module_version": "1.2.0",
      "_model_name": "LayoutModel",
      "_view_count": null,
      "_view_module": "@jupyter-widgets/base",
      "_view_module_version": "1.2.0",
      "_view_name": "LayoutView",
      "align_content": null,
      "align_items": null,
      "align_self": null,
      "border": null,
      "bottom": null,
      "display": null,
      "flex": null,
      "flex_flow": null,
      "grid_area": null,
      "grid_auto_columns": null,
      "grid_auto_flow": null,
      "grid_auto_rows": null,
      "grid_column": null,
      "grid_gap": null,
      "grid_row": null,
      "grid_template_areas": null,
      "grid_template_columns": null,
      "grid_template_rows": null,
      "height": null,
      "justify_content": null,
      "justify_items": null,
      "left": null,
      "margin": null,
      "max_height": null,
      "max_width": null,
      "min_height": null,
      "min_width": null,
      "object_fit": null,
      "object_position": null,
      "order": null,
      "overflow": null,
      "overflow_x": null,
      "overflow_y": null,
      "padding": null,
      "right": null,
      "top": null,
      "visibility": null,
      "width": null
     }
    },
    "74d180421aa84df3bf6718d25b0d67ed": {
     "model_module": "@jupyter-widgets/base",
     "model_module_version": "1.2.0",
     "model_name": "LayoutModel",
     "state": {
      "_model_module": "@jupyter-widgets/base",
      "_model_module_version": "1.2.0",
      "_model_name": "LayoutModel",
      "_view_count": null,
      "_view_module": "@jupyter-widgets/base",
      "_view_module_version": "1.2.0",
      "_view_name": "LayoutView",
      "align_content": null,
      "align_items": null,
      "align_self": null,
      "border": null,
      "bottom": null,
      "display": null,
      "flex": null,
      "flex_flow": null,
      "grid_area": null,
      "grid_auto_columns": null,
      "grid_auto_flow": null,
      "grid_auto_rows": null,
      "grid_column": null,
      "grid_gap": null,
      "grid_row": null,
      "grid_template_areas": null,
      "grid_template_columns": null,
      "grid_template_rows": null,
      "height": null,
      "justify_content": null,
      "justify_items": null,
      "left": null,
      "margin": null,
      "max_height": null,
      "max_width": null,
      "min_height": null,
      "min_width": null,
      "object_fit": null,
      "object_position": null,
      "order": null,
      "overflow": null,
      "overflow_x": null,
      "overflow_y": null,
      "padding": null,
      "right": null,
      "top": null,
      "visibility": null,
      "width": null
     }
    },
    "76943bf633a544589564224b9b93d7d6": {
     "model_module": "@jupyter-widgets/controls",
     "model_module_version": "1.5.0",
     "model_name": "DescriptionStyleModel",
     "state": {
      "_model_module": "@jupyter-widgets/controls",
      "_model_module_version": "1.5.0",
      "_model_name": "DescriptionStyleModel",
      "_view_count": null,
      "_view_module": "@jupyter-widgets/base",
      "_view_module_version": "1.2.0",
      "_view_name": "StyleView",
      "description_width": ""
     }
    },
    "7c36f8ddb91244cfb8aeac10d5eb68ee": {
     "model_module": "@jupyter-widgets/base",
     "model_module_version": "1.2.0",
     "model_name": "LayoutModel",
     "state": {
      "_model_module": "@jupyter-widgets/base",
      "_model_module_version": "1.2.0",
      "_model_name": "LayoutModel",
      "_view_count": null,
      "_view_module": "@jupyter-widgets/base",
      "_view_module_version": "1.2.0",
      "_view_name": "LayoutView",
      "align_content": null,
      "align_items": null,
      "align_self": null,
      "border": null,
      "bottom": null,
      "display": null,
      "flex": null,
      "flex_flow": null,
      "grid_area": null,
      "grid_auto_columns": null,
      "grid_auto_flow": null,
      "grid_auto_rows": null,
      "grid_column": null,
      "grid_gap": null,
      "grid_row": null,
      "grid_template_areas": null,
      "grid_template_columns": null,
      "grid_template_rows": null,
      "height": null,
      "justify_content": null,
      "justify_items": null,
      "left": null,
      "margin": null,
      "max_height": null,
      "max_width": null,
      "min_height": null,
      "min_width": null,
      "object_fit": null,
      "object_position": null,
      "order": null,
      "overflow": null,
      "overflow_x": null,
      "overflow_y": null,
      "padding": null,
      "right": null,
      "top": null,
      "visibility": null,
      "width": null
     }
    },
    "8ad98d3110224ee9a0a0455d3e3a120d": {
     "model_module": "@jupyter-widgets/controls",
     "model_module_version": "1.5.0",
     "model_name": "DescriptionStyleModel",
     "state": {
      "_model_module": "@jupyter-widgets/controls",
      "_model_module_version": "1.5.0",
      "_model_name": "DescriptionStyleModel",
      "_view_count": null,
      "_view_module": "@jupyter-widgets/base",
      "_view_module_version": "1.2.0",
      "_view_name": "StyleView",
      "description_width": ""
     }
    },
    "8f292fa68a3d416baad10ddd8456b527": {
     "model_module": "@jupyter-widgets/base",
     "model_module_version": "1.2.0",
     "model_name": "LayoutModel",
     "state": {
      "_model_module": "@jupyter-widgets/base",
      "_model_module_version": "1.2.0",
      "_model_name": "LayoutModel",
      "_view_count": null,
      "_view_module": "@jupyter-widgets/base",
      "_view_module_version": "1.2.0",
      "_view_name": "LayoutView",
      "align_content": null,
      "align_items": null,
      "align_self": null,
      "border": null,
      "bottom": null,
      "display": null,
      "flex": null,
      "flex_flow": null,
      "grid_area": null,
      "grid_auto_columns": null,
      "grid_auto_flow": null,
      "grid_auto_rows": null,
      "grid_column": null,
      "grid_gap": null,
      "grid_row": null,
      "grid_template_areas": null,
      "grid_template_columns": null,
      "grid_template_rows": null,
      "height": null,
      "justify_content": null,
      "justify_items": null,
      "left": null,
      "margin": null,
      "max_height": null,
      "max_width": null,
      "min_height": null,
      "min_width": null,
      "object_fit": null,
      "object_position": null,
      "order": null,
      "overflow": null,
      "overflow_x": null,
      "overflow_y": null,
      "padding": null,
      "right": null,
      "top": null,
      "visibility": null,
      "width": null
     }
    },
    "979373783eef4201ac505f196c2e47d8": {
     "model_module": "@jupyter-widgets/base",
     "model_module_version": "1.2.0",
     "model_name": "LayoutModel",
     "state": {
      "_model_module": "@jupyter-widgets/base",
      "_model_module_version": "1.2.0",
      "_model_name": "LayoutModel",
      "_view_count": null,
      "_view_module": "@jupyter-widgets/base",
      "_view_module_version": "1.2.0",
      "_view_name": "LayoutView",
      "align_content": null,
      "align_items": null,
      "align_self": null,
      "border": null,
      "bottom": null,
      "display": null,
      "flex": null,
      "flex_flow": null,
      "grid_area": null,
      "grid_auto_columns": null,
      "grid_auto_flow": null,
      "grid_auto_rows": null,
      "grid_column": null,
      "grid_gap": null,
      "grid_row": null,
      "grid_template_areas": null,
      "grid_template_columns": null,
      "grid_template_rows": null,
      "height": null,
      "justify_content": null,
      "justify_items": null,
      "left": null,
      "margin": null,
      "max_height": null,
      "max_width": null,
      "min_height": null,
      "min_width": null,
      "object_fit": null,
      "object_position": null,
      "order": null,
      "overflow": null,
      "overflow_x": null,
      "overflow_y": null,
      "padding": null,
      "right": null,
      "top": null,
      "visibility": null,
      "width": null
     }
    },
    "9c13fe9463a04675b46131e844258345": {
     "model_module": "@jupyter-widgets/controls",
     "model_module_version": "1.5.0",
     "model_name": "FloatProgressModel",
     "state": {
      "_dom_classes": [],
      "_model_module": "@jupyter-widgets/controls",
      "_model_module_version": "1.5.0",
      "_model_name": "FloatProgressModel",
      "_view_count": null,
      "_view_module": "@jupyter-widgets/controls",
      "_view_module_version": "1.5.0",
      "_view_name": "ProgressView",
      "bar_style": "success",
      "description": "",
      "description_tooltip": null,
      "layout": "IPY_MODEL_7030ed4083d54d05946c15ac668d19a4",
      "max": 1,
      "min": 0,
      "orientation": "horizontal",
      "style": "IPY_MODEL_0f831f122aef4fd6af6ca2e81b42d214",
      "value": 1
     }
    },
    "ace53b6dd81b4e9fbcf515542a55e01f": {
     "model_module": "@jupyter-widgets/controls",
     "model_module_version": "1.5.0",
     "model_name": "HBoxModel",
     "state": {
      "_dom_classes": [],
      "_model_module": "@jupyter-widgets/controls",
      "_model_module_version": "1.5.0",
      "_model_name": "HBoxModel",
      "_view_count": null,
      "_view_module": "@jupyter-widgets/controls",
      "_view_module_version": "1.5.0",
      "_view_name": "HBoxView",
      "box_style": "",
      "children": [
       "IPY_MODEL_f4936d30f71c4077aa93f1f2bc090c13",
       "IPY_MODEL_2bbdab2df37d49de89fffbb9891aa115",
       "IPY_MODEL_21744dadce5844e3b9597af726b4cdc9"
      ],
      "layout": "IPY_MODEL_3d104b05ec2f4dc9aece5bd1c232aeef"
     }
    },
    "b26a29f9badf4fe29d9f8f1f77e14ab6": {
     "model_module": "@jupyter-widgets/controls",
     "model_module_version": "1.5.0",
     "model_name": "ProgressStyleModel",
     "state": {
      "_model_module": "@jupyter-widgets/controls",
      "_model_module_version": "1.5.0",
      "_model_name": "ProgressStyleModel",
      "_view_count": null,
      "_view_module": "@jupyter-widgets/base",
      "_view_module_version": "1.2.0",
      "_view_name": "StyleView",
      "bar_color": null,
      "description_width": ""
     }
    },
    "b9f3dc1ea9824cdb9e7aedbe9facfa99": {
     "model_module": "@jupyter-widgets/controls",
     "model_module_version": "1.5.0",
     "model_name": "DescriptionStyleModel",
     "state": {
      "_model_module": "@jupyter-widgets/controls",
      "_model_module_version": "1.5.0",
      "_model_name": "DescriptionStyleModel",
      "_view_count": null,
      "_view_module": "@jupyter-widgets/base",
      "_view_module_version": "1.2.0",
      "_view_name": "StyleView",
      "description_width": ""
     }
    },
    "f0cdf5bdb7854117a9e22408fbb93ff9": {
     "model_module": "@jupyter-widgets/controls",
     "model_module_version": "1.5.0",
     "model_name": "HTMLModel",
     "state": {
      "_dom_classes": [],
      "_model_module": "@jupyter-widgets/controls",
      "_model_module_version": "1.5.0",
      "_model_name": "HTMLModel",
      "_view_count": null,
      "_view_module": "@jupyter-widgets/controls",
      "_view_module_version": "1.5.0",
      "_view_name": "HTMLView",
      "description": "",
      "description_tooltip": null,
      "layout": "IPY_MODEL_979373783eef4201ac505f196c2e47d8",
      "placeholder": "​",
      "style": "IPY_MODEL_b9f3dc1ea9824cdb9e7aedbe9facfa99",
      "value": " 1/1 [00:56&lt;00:00, 56.18s/it]"
     }
    },
    "f4936d30f71c4077aa93f1f2bc090c13": {
     "model_module": "@jupyter-widgets/controls",
     "model_module_version": "1.5.0",
     "model_name": "HTMLModel",
     "state": {
      "_dom_classes": [],
      "_model_module": "@jupyter-widgets/controls",
      "_model_module_version": "1.5.0",
      "_model_name": "HTMLModel",
      "_view_count": null,
      "_view_module": "@jupyter-widgets/controls",
      "_view_module_version": "1.5.0",
      "_view_name": "HTMLView",
      "description": "",
      "description_tooltip": null,
      "layout": "IPY_MODEL_4d9ccb83f39645c9a42d8dae5355a35e",
      "placeholder": "​",
      "style": "IPY_MODEL_8ad98d3110224ee9a0a0455d3e3a120d",
      "value": "Downloading data: 100%"
     }
    }
   }
  }
 },
 "nbformat": 4,
 "nbformat_minor": 4
}
