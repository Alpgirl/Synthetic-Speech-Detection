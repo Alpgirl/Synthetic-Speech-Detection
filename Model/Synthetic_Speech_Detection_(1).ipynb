{
  "cells": [
    {
      "cell_type": "code",
      "execution_count": null,
      "metadata": {
        "colab": {
          "base_uri": "https://localhost:8080/"
        },
        "id": "QDpxmQCB6IZc",
        "outputId": "3304d2e1-d72e-4c5e-f558-27901822c0ba",
        "scrolled": true
      },
      "outputs": [
        {
          "output_type": "stream",
          "name": "stdout",
          "text": [
            "Found existing installation: torch 2.3.0\n",
            "Uninstalling torch-2.3.0:\n",
            "  Successfully uninstalled torch-2.3.0\n",
            "Found existing installation: torchaudio 2.2.2\n",
            "Uninstalling torchaudio-2.2.2:\n",
            "  Successfully uninstalled torchaudio-2.2.2\n",
            "Found existing installation: torchvision 0.18.0\n",
            "Uninstalling torchvision-0.18.0:\n",
            "  Successfully uninstalled torchvision-0.18.0\n"
          ]
        }
      ],
      "source": [
        "!pip uninstall torch torchaudio torchvision -y"
      ]
    },
    {
      "cell_type": "code",
      "execution_count": null,
      "metadata": {
        "colab": {
          "base_uri": "https://localhost:8080/"
        },
        "id": "pqyZZKnP6IZk",
        "outputId": "0c87a56e-7931-4639-a507-5b88ad2938bd",
        "scrolled": true
      },
      "outputs": [
        {
          "output_type": "stream",
          "name": "stdout",
          "text": [
            "Collecting torch==2.2.2\n",
            "\u001b[31mERROR: Operation cancelled by user\u001b[0m\u001b[31m\n",
            "\u001b[0m"
          ]
        }
      ],
      "source": [
        "!pip install torch==2.2.2 torchaudio==2.2.2"
      ]
    },
    {
      "cell_type": "code",
      "source": [
        "!pip install torch torchaudio torchvision -q"
      ],
      "metadata": {
        "colab": {
          "base_uri": "https://localhost:8080/"
        },
        "id": "_X5aiVVKd1dN",
        "outputId": "d375516f-dfaa-4540-ba2d-004b1e7f289e"
      },
      "execution_count": 1,
      "outputs": [
        {
          "output_type": "stream",
          "name": "stdout",
          "text": [
            "\u001b[2K     \u001b[90m━━━━━━━━━━━━━━━━━━━━━━━━━━━━━━━━━━━━━━━━\u001b[0m \u001b[32m21.3/21.3 MB\u001b[0m \u001b[31m56.7 MB/s\u001b[0m eta \u001b[36m0:00:00\u001b[0m\n",
            "\u001b[?25h"
          ]
        }
      ]
    },
    {
      "cell_type": "code",
      "execution_count": 2,
      "metadata": {
        "colab": {
          "base_uri": "https://localhost:8080/"
        },
        "id": "bE55HD5h7MIq",
        "outputId": "e90761bd-6bbc-4b6f-fb7a-cc534d60ac6e"
      },
      "outputs": [
        {
          "output_type": "stream",
          "name": "stdout",
          "text": [
            "\u001b[2K     \u001b[90m━━━━━━━━━━━━━━━━━━━━━━━━━━━━━━━━━━━━━━━━\u001b[0m \u001b[32m542.0/542.0 kB\u001b[0m \u001b[31m6.6 MB/s\u001b[0m eta \u001b[36m0:00:00\u001b[0m\n",
            "\u001b[2K     \u001b[90m━━━━━━━━━━━━━━━━━━━━━━━━━━━━━━━━━━━━━━━━\u001b[0m \u001b[32m116.3/116.3 kB\u001b[0m \u001b[31m7.8 MB/s\u001b[0m eta \u001b[36m0:00:00\u001b[0m\n",
            "\u001b[2K     \u001b[90m━━━━━━━━━━━━━━━━━━━━━━━━━━━━━━━━━━━━━━━━\u001b[0m \u001b[32m194.1/194.1 kB\u001b[0m \u001b[31m11.6 MB/s\u001b[0m eta \u001b[36m0:00:00\u001b[0m\n",
            "\u001b[2K     \u001b[90m━━━━━━━━━━━━━━━━━━━━━━━━━━━━━━━━━━━━━━━━\u001b[0m \u001b[32m134.8/134.8 kB\u001b[0m \u001b[31m8.1 MB/s\u001b[0m eta \u001b[36m0:00:00\u001b[0m\n",
            "\u001b[?25h"
          ]
        }
      ],
      "source": [
        "!pip install datasets -q"
      ]
    },
    {
      "cell_type": "code",
      "execution_count": 3,
      "metadata": {
        "id": "9oiOQXctXFJo"
      },
      "outputs": [],
      "source": [
        "import random\n",
        "import IPython\n",
        "\n",
        "import datasets\n",
        "from datasets.utils import DownloadManager\n",
        "\n",
        "\n",
        "import torch\n",
        "import torchaudio\n",
        "import torchaudio.transforms as T\n",
        "\n",
        "from torch.utils.data import DataLoader, Dataset\n",
        "\n",
        "import os\n",
        "import sys\n",
        "\n",
        "import soundfile as sf"
      ]
    },
    {
      "cell_type": "code",
      "source": [
        "import torch.nn as nn\n",
        "import torchvision.models as models"
      ],
      "metadata": {
        "id": "StZ-E9Mxdh8W"
      },
      "execution_count": 4,
      "outputs": []
    },
    {
      "cell_type": "code",
      "source": [
        "from librosa import util\n",
        "import librosa.feature"
      ],
      "metadata": {
        "id": "tHIFBx0SfE8c"
      },
      "execution_count": 5,
      "outputs": []
    },
    {
      "cell_type": "code",
      "source": [
        "import numpy as np"
      ],
      "metadata": {
        "id": "JHhmxE_-yh9q"
      },
      "execution_count": 32,
      "outputs": []
    },
    {
      "cell_type": "code",
      "execution_count": 6,
      "metadata": {
        "id": "2EvrIrIP6IZn"
      },
      "outputs": [],
      "source": [
        "sys.path.append('src')"
      ]
    },
    {
      "cell_type": "markdown",
      "metadata": {
        "id": "9QObvPnqW_Td"
      },
      "source": [
        "# Load Dataset .zip from link"
      ]
    },
    {
      "cell_type": "markdown",
      "metadata": {
        "id": "RP_rXD0OdsWF"
      },
      "source": [
        "Logical access (LA):\n",
        "\n",
        "- ```speaker_id:``` LA_****, a 4-digit speaker ID\n",
        "- ```audio_file_name:``` name of the audio file\n",
        "- ```audio:``` '****.flac'  the path to the downloaded audio file in FLAC format (https://xiph.org/flac/).\n",
        "- ```system_id:``` ID of the speech spoofing system (A01 - A19), or, for bonafide speech SYSTEM-ID is left blank ('-')\n",
        "- ```key:``` 'bonafide' for genuine speech, or, 'spoof' for spoofing speech"
      ]
    },
    {
      "cell_type": "code",
      "execution_count": 7,
      "metadata": {
        "id": "VyGgsxcT8GkM"
      },
      "outputs": [],
      "source": [
        "#This code was taken from the load_avsspoof19.py\n",
        "\n",
        "import datasets\n",
        "import os\n",
        "\n",
        "_HOMEPAGE = \"https://datashare.ed.ac.uk/handle/10283/3336\"\n",
        "_URL = \"https://datashare.ed.ac.uk/bitstream/handle/10283/3336/LA.zip\"\n",
        "_CITATION = \"\"\"\\\n",
        "@InProceedings{Todisco2019,\n",
        "  Title     = {{ASV}spoof 2019: {F}uture {H}orizons in {S}poofed and {F}ake {A}udio {D}etection},\n",
        "  Author    = {Todisco, Massimiliano and\n",
        "               Wang, Xin and\n",
        "               Sahidullah, Md and\n",
        "               Delgado, H ́ector and\n",
        "               Nautsch, Andreas and\n",
        "               Yamagishi, Junichi and\n",
        "               Evans, Nicholas and\n",
        "               Kinnunen, Tomi and\n",
        "               Lee, Kong Aik},\n",
        "  booktitle = {Proc. of Interspeech 2019},\n",
        "  Year      = {2019}\n",
        "}\n",
        "\"\"\"\n",
        "\n",
        "_DESCRIPTION = \"\"\"\\\n",
        "This is a database used for the Third Automatic Speaker Verification Spoofing\n",
        "and Countermeasuers Challenge, for short, ASVspoof 2019 (http://www.asvspoof.org)\n",
        "organized by Junichi Yamagishi, Massimiliano Todisco, Md Sahidullah, Héctor\n",
        "Delgado, Xin Wang, Nicholas Evans, Tomi Kinnunen, Kong Aik Lee, Ville Vestman,\n",
        "and Andreas Nautsch in 2019.\n",
        "\"\"\"\n",
        "\n",
        "class ASVspoof2019(datasets.GeneratorBasedBuilder):\n",
        "    BUILDER_CONFIG = datasets.BuilderConfig(name=\"LA\", description=\"Logical access (LA)\")\n",
        "\n",
        "    def __init__(self):\n",
        "        super().__init__\n",
        "\n",
        "    def _info(self):\n",
        "        # which features to expect in dataset\n",
        "        print(self.BUILDER_CONFIG.name)\n",
        "        features = datasets.Features(\n",
        "            {\n",
        "                \"speaker_id\": datasets.Value(\"string\"),\n",
        "                \"audio_file_name\": datasets.Value(\"string\"),\n",
        "                \"audio\": datasets.Audio(sampling_rate=16_000),\n",
        "                \"system_id\": datasets.Value(\"string\"),\n",
        "                \"key\": datasets.ClassLabel(names=[\"bonafide\", \"spoof\"]),\n",
        "            }\n",
        "        )\n",
        "        return datasets.DatasetInfo(\n",
        "            description=_DESCRIPTION,\n",
        "            features=features,\n",
        "            supervised_keys=(\"audio\", \"key\"),\n",
        "            homepage=_HOMEPAGE,\n",
        "            citation=_CITATION,\n",
        "        )\n",
        "\n",
        "    def _split_generators(self, dl_manager):\n",
        "        data_dir = dl_manager.download_and_extract(_URL)\n",
        "        return [\n",
        "            datasets.SplitGenerator(\n",
        "                name=datasets.Split.TRAIN,\n",
        "                gen_kwargs={\n",
        "                    \"metadata_filepath\": os.path.join(\n",
        "                        data_dir,\n",
        "                        self.BUILDER_CONFIG.name,\n",
        "                        f\"ASVspoof2019_{self.BUILDER_CONFIG.name}_cm_protocols\",\n",
        "                        f\"ASVspoof2019.{self.BUILDER_CONFIG.name}.cm.train.trn.txt\",\n",
        "                    ),\n",
        "                    \"audios_dir\": os.path.join(\n",
        "                        data_dir, self.BUILDER_CONFIG.name, f\"ASVspoof2019_{self.BUILDER_CONFIG.name}_train\", \"flac\"\n",
        "                    ),\n",
        "                },\n",
        "            ),\n",
        "            datasets.SplitGenerator(\n",
        "                name=datasets.Split.VALIDATION,\n",
        "                gen_kwargs={\n",
        "                    \"metadata_filepath\": os.path.join(\n",
        "                        data_dir,\n",
        "                        self.BUILDER_CONFIG.name,\n",
        "                        f\"ASVspoof2019_{self.BUILDER_CONFIG.name}_cm_protocols\",\n",
        "                        f\"ASVspoof2019.{self.BUILDER_CONFIG.name}.cm.dev.trl.txt\",\n",
        "                    ),\n",
        "                    \"audios_dir\": os.path.join(\n",
        "                        data_dir, self.BUILDER_CONFIG.name, f\"ASVspoof2019_{self.BUILDER_CONFIG.name}_dev\", \"flac\"\n",
        "                    ),\n",
        "                },\n",
        "            ),\n",
        "            datasets.SplitGenerator(\n",
        "                name=datasets.Split.TEST,\n",
        "                gen_kwargs={\n",
        "                    \"metadata_filepath\": os.path.join(\n",
        "                        data_dir,\n",
        "                        self.BUILDER_CONFIG.name,\n",
        "                        f\"ASVspoof2019_{self.BUILDER_CONFIG.name}_cm_protocols\",\n",
        "                        f\"ASVspoof2019.{self.BUILDER_CONFIG.name}.cm.eval.trl.txt\",\n",
        "                    ),\n",
        "                    \"audios_dir\": os.path.join(\n",
        "                        data_dir, self.BUILDER_CONFIG.name, f\"ASVspoof2019_{self.BUILDER_CONFIG.name}_eval\", \"flac\"\n",
        "                    ),\n",
        "                },\n",
        "            ),\n",
        "        ]\n",
        "\n",
        "    def _generate_examples(self, metadata_filepath, audios_dir):\n",
        "        data = []\n",
        "        with open(metadata_filepath) as f:\n",
        "            for i, line in enumerate(f.readlines()):\n",
        "                speaker_id, audio_file_name, _, system_id, key = line.strip().split()\n",
        "                result = {\n",
        "                    \"speaker_id\": speaker_id,\n",
        "                    \"audio_file_name\": audio_file_name,\n",
        "                    \"system_id\": system_id,\n",
        "                    \"key\": key,\n",
        "                }\n",
        "                result[\"audio\"] = os.path.join(audios_dir, audio_file_name + \".flac\")\n",
        "                data.append(result)\n",
        "        return data"
      ]
    },
    {
      "cell_type": "code",
      "execution_count": 8,
      "metadata": {
        "colab": {
          "base_uri": "https://localhost:8080/",
          "height": 81,
          "referenced_widgets": [
            "d32adf2ca464443081221d127726ca6e",
            "dbc497bbaf1342d99077ed871f357c91",
            "d85dafee25a54eb994d4a07748ed2ef6",
            "a21f8c15e7784309ad1fda08bd95eb7d",
            "a6439b9ef980478389113b6eb1b30598",
            "c87a27f16523487d8498c05681a1b55e",
            "afd64a5ba5124b1fa12000366509ecc2",
            "fcac054b391e4c889d8641f3e1b20684",
            "2e9bd2c437584e2ab799a0edb30e2e02",
            "eaf7397614d44f8fae29bf5735ae9079",
            "2dbd4687fdd7423bbe341e2d75f71db2",
            "29cab48cc1f2481dbaf8f598e07daeb5",
            "ec4c2902770a40b8bf95e945feff8e43",
            "7126e303c2284049a47621af0f7ae059",
            "35f8f5f93cd64fc8b3cd6253dfbcfd6e",
            "4845dfe72a1048d889f4768ed3830cdc",
            "14d5cea31aee4011b7a8994078e4297d",
            "b4322f7e5fa04424afab38fc70d26161",
            "c1cb1b697d14478ba3ae1a50e20d4871",
            "11d0e1bf4b5844b1ac0342ff9c917a34",
            "536da44c3aa14d25ad4b3d7c43dac8f6",
            "5c8ccd0353a64288af122a2752bf669e"
          ]
        },
        "id": "JQBkSfn3i24L",
        "outputId": "5b63b699-5ea2-45f6-a132-541b9460b9e3"
      },
      "outputs": [
        {
          "data": {
            "application/vnd.jupyter.widget-view+json": {
              "model_id": "d32adf2ca464443081221d127726ca6e",
              "version_major": 2,
              "version_minor": 0
            },
            "text/plain": [
              "Downloading data:   0%|          | 0.00/7.64G [00:00<?, ?B/s]"
            ]
          },
          "metadata": {},
          "output_type": "display_data"
        },
        {
          "output_type": "display_data",
          "data": {
            "text/plain": [
              "Computing checksums: 100%|##########| 1/1 [00:40<00:00, 40.58s/it]"
            ],
            "application/vnd.jupyter.widget-view+json": {
              "version_major": 2,
              "version_minor": 0,
              "model_id": "29cab48cc1f2481dbaf8f598e07daeb5"
            }
          },
          "metadata": {}
        }
      ],
      "source": [
        "dl_manager = DownloadManager()\n",
        "\n",
        "speech_dataset = ASVspoof2019()\n",
        "\n",
        "\n",
        "asv_datasets = speech_dataset._split_generators(dl_manager)"
      ]
    },
    {
      "cell_type": "code",
      "execution_count": 9,
      "metadata": {
        "id": "zygAZmre6IZv"
      },
      "outputs": [],
      "source": [
        "# 0 - train, 1 - eval, 2 - test in asv_datasets\n",
        "train_metadata_filepath = asv_datasets[0].gen_kwargs[\"metadata_filepath\"]\n",
        "train_audios_dir = asv_datasets[0].gen_kwargs[\"audios_dir\"]\n",
        "\n",
        "val_metadata_filepath = asv_datasets[1].gen_kwargs[\"metadata_filepath\"]\n",
        "val_audios_dir = asv_datasets[1].gen_kwargs[\"audios_dir\"]\n",
        "\n",
        "test_metadata_filepath = asv_datasets[2].gen_kwargs[\"metadata_filepath\"]\n",
        "test_audios_dir = asv_datasets[2].gen_kwargs[\"audios_dir\"]"
      ]
    },
    {
      "cell_type": "code",
      "execution_count": 10,
      "metadata": {
        "id": "qfwhikl46IZw"
      },
      "outputs": [],
      "source": [
        "train_samples = speech_dataset._generate_examples(train_metadata_filepath, train_audios_dir)\n",
        "val_samples = speech_dataset._generate_examples(val_metadata_filepath, val_audios_dir)\n",
        "test_samples = speech_dataset._generate_examples(test_metadata_filepath, test_audios_dir)"
      ]
    },
    {
      "cell_type": "markdown",
      "metadata": {
        "id": "k_HX9HCy6IZx"
      },
      "source": [
        "## Listen to random sample\n",
        "\n",
        "Display some audio from train/validation set."
      ]
    },
    {
      "cell_type": "code",
      "execution_count": 11,
      "metadata": {
        "id": "fH5eSp736IZy",
        "outputId": "c5d4c5ea-ee8c-4ffe-955d-9f3e18fac85c",
        "colab": {
          "base_uri": "https://localhost:8080/"
        }
      },
      "outputs": [
        {
          "output_type": "execute_result",
          "data": {
            "text/plain": [
              "{'speaker_id': 'LA_0093',\n",
              " 'audio_file_name': 'LA_T_7380675',\n",
              " 'system_id': 'A03',\n",
              " 'key': 'spoof',\n",
              " 'audio': '/root/.cache/huggingface/datasets/downloads/extracted/911103f86670b6f7e96211444d0f39fc5ffab511156a395f67b098c2f45dce18/LA/ASVspoof2019_LA_train/flac/LA_T_7380675.flac'}"
            ]
          },
          "metadata": {},
          "execution_count": 11
        }
      ],
      "source": [
        "def get_sample(samples):\n",
        "    return random.sample(samples, k=1)[0]\n",
        "\n",
        "sample = get_sample(train_samples)\n",
        "sample"
      ]
    },
    {
      "cell_type": "code",
      "execution_count": 12,
      "metadata": {
        "id": "WHkVtyP16IZy",
        "outputId": "e92733b4-196b-45b3-fd42-6afde39b38af",
        "colab": {
          "base_uri": "https://localhost:8080/",
          "height": 93
        }
      },
      "outputs": [
        {
          "output_type": "stream",
          "name": "stdout",
          "text": [
            "spoof\n"
          ]
        },
        {
          "output_type": "execute_result",
          "data": {
            "text/plain": [
              "<IPython.lib.display.Audio object>"
            ],
            "text/html": [
              "\n",
              "                <audio  controls=\"controls\" >\n",
              "                    <source src=\"data:audio/flac;base64,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\" type=\"audio/flac\" />\n",
              "                    Your browser does not support the audio element.\n",
              "                </audio>\n",
              "              "
            ]
          },
          "metadata": {},
          "execution_count": 12
        }
      ],
      "source": [
        "# LA_0095 bonatide\n",
        "print(sample['key'])\n",
        "IPython.display.Audio(sample['audio'])"
      ]
    },
    {
      "cell_type": "code",
      "execution_count": 13,
      "metadata": {
        "id": "mlzc2vEF6IZz",
        "outputId": "eccdfadd-c3c1-47d3-b9cb-ded3ffe5baf5",
        "colab": {
          "base_uri": "https://localhost:8080/"
        }
      },
      "outputs": [
        {
          "output_type": "execute_result",
          "data": {
            "text/plain": [
              "{'speaker_id': 'LA_0074',\n",
              " 'audio_file_name': 'LA_D_3780481',\n",
              " 'system_id': 'A06',\n",
              " 'key': 'spoof',\n",
              " 'audio': '/root/.cache/huggingface/datasets/downloads/extracted/911103f86670b6f7e96211444d0f39fc5ffab511156a395f67b098c2f45dce18/LA/ASVspoof2019_LA_dev/flac/LA_D_3780481.flac'}"
            ]
          },
          "metadata": {},
          "execution_count": 13
        }
      ],
      "source": [
        "sample = get_sample(val_samples)\n",
        "sample"
      ]
    },
    {
      "cell_type": "code",
      "execution_count": 14,
      "metadata": {
        "id": "R58-UjmT6IZz",
        "outputId": "96517889-d07c-4561-c053-4bcf31d9a707",
        "colab": {
          "base_uri": "https://localhost:8080/",
          "height": 93
        }
      },
      "outputs": [
        {
          "output_type": "stream",
          "name": "stdout",
          "text": [
            "spoof\n"
          ]
        },
        {
          "output_type": "execute_result",
          "data": {
            "text/plain": [
              "<IPython.lib.display.Audio object>"
            ],
            "text/html": [
              "\n",
              "                <audio  controls=\"controls\" >\n",
              "                    <source src=\"data:audio/flac;base64,ZkxhQwAAACIEgASAAADAAAcYA+gA8AAA1IAFsgV47p2IaknhlRjpYXsehAAAKCAAAAByZWZlcmVuY2UgbGliRkxBQyAxLjMuMCAyMDEzMDUyNgAAAAD/+DUIAAMSABkBDmH1t0lCVVHMyWSKQVUGUECOV5xVVYoRpfnZLG1iYkJDanlVEzqU+TQ3nBRBst3faM9KLPmvT8VmayRl8INkKC5p5f7ZHh1v/0fIxsoVkaK+PjBHiaLjMJWDK2PtVummY1HkFaFg2epshHUKIvZzV01losjy4WXMMjgoOuMkp8a/2zKBpG5RTubpp7LOjENME0kJ80ovNB2tpHWCMp/Yrbq/p7mSdnu7CuIbdaP7zqKKeTSp1KCLzrOWCqJWTzTfGxBHaV0k7KEioxN+cZsEZJDdRRcosc22gcY4gu8uSh5dik+M1l4UhVhIodCyQOxFrmGCpQsJqeC6nlFk91jQbQXj6P4HYliWCPU/iJITkaTtjZ91W6iukrl3CebyZkKF2Ce+eeizYoqLw2S2oki0awAXyIeIiIQgOTExI4rN9jsVaPRWXIDa0tCGiRG8vlLsU3YhNI9G04c7YUVa0tl5Y6/Ax+/Pm68yWgRHv0X+c7wzLcIxv2Jt/bH4uC6qE1woy4Ulpl6QgRjNJpc23WM0KxcIv63YgjZnRPGJkWhDowVjZwjMux7JBW3pdsZQcE7f1m88wykojIQN80RrexvB9oobg1ikH2JqSyoXmqR4LYbtKwoJrGgyvGhpBAeNeXLU9x3h6iSheRsiEF3uEVvZ7JX5wYbxdJVvwkxMkwHeEzYssWFyzz+YRtGdDKi5O8ScXkG8FGeyQ8XNNuq3xlgkudFiJVct+8VJNzbgvHFteIxJMd64j3qEOmu0RN+Ni0xeYYksV8UC/JqkDYqEDhsIpFpGZ4f7Z4mFF0y1iA64o2pFG5WIW4PxpwMD0iXRJAVNOofPWaStgRUQjw8nAhkuNQqaqoaB+8jYoRqGmWwwuc2yxNU1nGm1xjpk8nW197cYGYNQLqjQdh82HheDU+1Fz30yTvLtw+mq2pSLBEux8jEgGauT+TWJwJSF6/GRRldJiFSYhwmJf2j4wfOlhUto9ZMwmhlxFR9RqDSsElZvWnUpFieECVTPTS3CBCnTS+vax1STQsnkQEE0jQjhJWazReyXUBC3Ei9SEUJ1ZaqRsiECK8W6WhVf/ZLbRI8SMs0IrmObqn9Dx0yoOzYOzRtYjX38NMvvvkev4/qMsw2uIJjxNJHsEbcCwimbxKb/+DUIAQQS/4IBMExYEenCGGSQkampYLkSFqlGbWOJdc5A3hARw4NEtHJIWwofLETCieruIOX2yhdwyiEr7ZadQ0HcbaUX7GJStAgcFSng6c4YO+ThVRJoXRDF/Jz+mRhUJf8FKycJsrtljuyir40r2N9C53ZOoo8/ds+QPjycfRCMXjpZ9osTLNF5mMv5v0TMKvbESESfj+YZROlDBOSOTaPJGjaH/0PK3cWSaDxdPchBS7N6wFqE6+x9A59WfX8BL3otCyfnMC3kwwNiFhMs/4ilbyRCcVp4XaWkcGKyzVimqoZjZvF0VG1BFDkw4V9Btko77cx+rh2orKlBeFhmu+CB1YREJK6fiH8OJibRU32xVF5lhGBITpyiDJ6n/z6h+ZMkJF5MbZJbrmvSyOIaVEFUgKCYjEFLTQmDzYXCFhFkULzV5Z8uaaLlvMOCBbRUhAgYeR/CzJ1ohPxykd2Mhxwqk+OISTWFVs1Wn9mSfX0AREN9gMrQQgQvnXaXrT6CCwqeqEEn0leQOFyyaqjmBsedCQeGcuNnw62pLsntLCPaiPJnRzoOlE03Yl4OTqq0jDVt4LZ5kCphlVxTjuF/UBc/BQ0Ikc4uiLJFvzw3bK00uo8aPmnkASO/HqkNkwUCPg13xGmbeQmagPaqNAfBZ8QJKnPksGSDUxIz5IvNQhKMChoI3S0lyRUQsRWII8eKzbJmPlXh/NCtNUIvEc6PrZXSVxdH5NYXXT7RhmY6I8PFNqFIhFJtHQpgbwJhV6NrMPiYEBk3QoHGXxnVbjXBXQqsKGjmhWffhiYNETxoXmwiHRyPKJ6FJ3WXR9mZhwmYYE+O6abGiZW93COEShpkiwoTehkQukSLjAo7wyirAUIRcZimu0SSWOTIIsbtvJbNI7XRVZIHSfD3Hc4w+0+wugj9aRFOWSrdUVmxZ9hpS3eIqUcbe7Zoi2F0pwn9fxFdOw028g2I3ztHSENbjhh9dpwnhhGM2KL0O0QeKl+EibnuUqjXS5bpyHir+ipxBElcWkxseQnzpWbDpAqedKbRKMYWcOmAjGFUDswwohs7Z75RXzTzRHF63S1ZBLhdzKFE/VWm3khoPMJaBsZC1XBMMhwJAACIB4A+MLUeAqAAAABIAAAAAAABGIAAAakAkCAAADoAAB4eAAAAABEAAA0AbKPATTAwA24zP4KZZwL/DIBAIyNpgkAyJHqkB4PkTgrELmigwfBWMbkmhtR1vYDbOP/4NQgCDRL/ZwEuMPJlnhs6DDxCB0MvGKGKVSf0Qp4yQUaHmdkpLNESS3RESfRHEqSJXnUSbYO0Il0MrOoOvCuwSwfUWEHQqPZCkRuZxzKaQhl0lzabxbusNDbsXrrqRUSGz5Z3josWGSpgnuAyW44TbVqynCofrz4WK/JFkfV/KREMECsxeZRm6BO3dbDFhVgMeBNJkICuzRuzLFmF/IXiT3mth597VDgb12V9Su1/5YJuS6WwwTeu5W1Uq0vnX2ZvO7SF0srZSNTQgWdQJCCtutK+WCtLsQUDJR6X2HixsvZscRIyrCykyJouas3KylEuMkSDHZq9u0UTOVMqFiPrYP3iTgfBwQNiBt9x9YQ6aEShI+UKDKgiKIAqtLxcdMeHzVUF7KifWFc4aLoOjYEBGEtot+oFVuO1v0no06vlEmXGpUcJovmFjI9pzTGj+kxyhYbSKRsSJKsJCbwoKhql4T180m2Em0TxhL7kXyiCxQPjgQE+ZsCBNSDI4J6URworxQvsaieIlqccFTb5LpGk/LEeu/6d94iK/PEZlWDcCBuAZL9KF/PYEWr5ED/Gf6JsEmaRjWMUZazBFAqISsyayyBBkzL6zrocpxTi8usLNe6gNxdcYMNwy2YTzM0o6UWZ53wpIJVI8XsQiRSNefUntr3b4958s+Y2ToT8ouVEibn4RIJrmt5rHeFe1CQZp59Pylr1Yg3WV3uspPMwIqcuQc4Tc+bWPXNLHfRe+v9uqK30Sj0qev0WFwwqVYI+2pZdlodXm/tmmiul7JoGhNJdBGqO2C87HnYZYCW5y66El3jMEI4qQMu2QVGBE8MeVRWbnQBCOKz4vGKiHl1IyIe5RQmV64ipV3R3SNfLOpLFWDGI6m8rny/od6rmZcyxNpziqCyrDTDLkldS3eIu8bFCtBJESFRr8EFeZvVImlrLnt7uknAzs31Tbhkom5T+Fy8e4YES1l2Jlk50Si+Oba3WwVmvtWUSXIzwvtYssgtugj7+fLdfor1SfSD68FVLqllPc1JPBTmRTKDa7XdtN0fImJGGZI6Q084Vs0uotrq1PHerTsh5AS0prWk8b+gcTjER7zog17Fzk425NWbLL6/nyODpgK9TFUmWA+eKMJF1X0Y4wT2k3XJMw9XlSUmDLFOWbQJ51mpgfUXoAcb/+DUIAwoS/8QBFalEttbSaUgW/hlR2mhYzfhGkmNsS3RXBxVye9LlvvJ8lISKqvFU5RJmaXUeZSagkuYxt5EUu3JC7ChU8EWKBM4b/KjPLqrf9e6BDoRUIb/pgUvWyZpaX6X4Qy1lDR0eP8Nwl3RUgLkE/KIqSbYoq9KmkawZO330sjPf1HaGrcvXUZSeIygL6abmmto7mUiahBvin7XybyLNrZ7Igv5b9zmqQpTVKSRaH1kDLlDLG4sOc2UccC4xMww2wIzXYSayXEEhHuPiGNxWwmULYbKKqFMTRLCcdzSOrvL4DJLdixn3iNI3p2s/XIpsNqcCaVVZpJuQftWipTNvQoRcOk2kZ3maq5XK3ZmxrfEyFURAbSfjhCC9mkK4Q9SN/e0pjn6NxY/Imx+v20BSsECJiS5oiTPKWKsb//s5sCsaKqLRie2xpgwmEMmsScv6qytGV2D+FVl4kY6KO9ELvFy1YU5I3Lyq6D9j86CeUyReqPff84urN3EM50nsxK6FzowhKKqFzhdLeeRMKI3NKHfqe09TyiX0ZFDf9bubnVli7oh5dNYlJZR6Z5BWLRJRHD6Ei83+6H+hom3U4YIQNZKklMIqQjfdaU13bfhFNh/B4jHj7dKajMlLT6TSYQ3aN6VsyKyI4ooQfuXuTw5l1J7qUfbS3FmNsGbNE4jKHVaTnNf7RAlc4RKFDciDkmv+LlZ0MC/Ups0b80pfRBnyo8V2MQUm4ktlJ5WstKKJ+MEbkm725arMkv49iNUDLU7qsSVMZ1CxFKHtvUOqbkVt/jCpJcVYxasLF7JNK8kmIxrBM/o4N1RPkhUx//VFzRKfPsP1ZcJzIZY64K+Mo0ZR6ul5rufdEDZCFEEp+aYoXJLTDVCKBC1TViVbma8hGDJxJFG2kRIREoruRzxLGHxLyp5Usl9qu3+rkhVZkuYYuVITzLh/mVp5y61pIT2razC6AoRWXXWrXcpZRljV0iLK+4W6isXxzYnxrMaofqstVaRJ2MJUg8dWru0MIwrDlLSc5CDcPmD5LB+V5aRbq9SFYcgx5ZSvW0S2erW7SrVlVJ2ONoU35Qsq4I9K5SKhrCXJQCSjajJ/GWyTT2Smc8TSbw3hPlUjFQpo//g1CAQfEgBLASj3SwX633qFHfb6h5jqLrfRsnUECI8xDi9gnU78U5L8l1Pkom2Dsr++7OUkSn0VGnPIFEmpvTMij5In1B1ZJB+zqG1rRSITZKG2Fhnl6YMur1oRnUituzTzmjEFLY3rVIq3Tb4Mk4MzkkTIep6pD4W/Up4Sol+k/P+9DSRCdrSySslxmFdj+5k4wouSqhS+o8epdZOVIUJ2Z8+yJ+uv6yhVwqhlklyS16Pf9nMSsOpufZeO7yg422lyD25CWCYgimtBN7LZQUim8+xb6mdXQltk+Tvg0dIPL5Z+dJVqeuh5DFUp5wlmEa9lK/+a9SQtW6tcoTiwohvKRopK3Lm86oRxQ6YEzBGLwnW0hDy/1eWVqRYV8p+zBGVyMp2rZskRJSOMLPI/ZrhSrl5+nwp2VkKdwsZV/Safv4vjI033eIqsIfixQZW6zun8xnjnmzB/ec2ipZJeanlUreT/Zo6ZptLis3H995vvCNrIsfrZoxakYRrXzBQ0kseZjJ9aNmizeQyml9SWiJi070WZWpKdd505LUaQgImKZ4Q5Igixj3TH6v3tKZlJmse1sUXywnApXKVEYl1bp07gTT0IkIIlib3KPIkKSY3636Xu+j0zfaNN1WtVaxpFyW+Wr+ywnLf2/4/KVK8slUlQ9VwxVh2EoYRyoLtYzZoxYpZXpHBlFpe6qk2xIk2ILFeErsxMw6/el/kkONVa8RLTksxi72kU7v+rmDL23ThJBlpCCHdNO20pLfNJfxOVm2t5I2HWUlz3am2r2+S1WW3rmf3QbRrLUlWJD8u3P8I0YZoRbQJEXE4WI1h1zksIWlraOC3yHNZXJ/suwgs+4vsltIwJJag8oz8h9FLmIRcxbYhqEDCULjIoVS0xNlCpdaez2lsX7u7qaiNVnL6MOagtNHax/jLN4V35cYm3o3qFt3Iosjfyt5JvJkhvgtTtVlUVYb2rJH+WBIuxHsVTJSk3rzlAoVSLLnv2VQ3glWhR9Q2SPLQasg4b3TULu0SrCCY04yttl2HbcPmL4R2Q+Ywi3CnyjGBxhtBauvXCN6ePVFirLbHEHmM02oy4WfWN+G2aj7X16IL7saXI2VsAejv/+DUIBRgS//gBPfSJwYLnbULlK2pBonj0yW6uVmykKzIJf8bVU2lev2CfGETnFnhLyNwjxEqlJqTqwi4t85ce00LZSlMiSdo2xs7qeZ/WURSP02nfvMghlo8h1+Z1XYz1nU0yGuYNLZfv6uzBJi5FSk0CnIzXC4/dJch4nQgqQoTIGgarIU9Jehsn473tILsE91pCqCrFCRQuW7jGcXxoZirSHFmVv7UfBKnSXtEYpwSyXJP5uZGmQgYjWmyMVcWkq9p+ZXJA5riBEylWZSGOqPn3lskzjsE4DyvWDbplfZ9pHGdQknq8jVzhuXO+AQ/OkamTSqck3NoElHN6ZziSCUb2J7d1YaxByJdNxAafGs2aUsIloieKROK0fyj63jnq3YqQ4pRRYrMmXhQiXigyZo5PpM7Ofv4lFiCdPMlK3+oFRJoVQ+rqukM1Vqfgm5EviD+Kb8ryJGiIojc0s4VJSaLt4gg5ayUVY0a6cFvkCN7YQJPcbRZKkCwWTRiK5vo5qRbt0kMBLhbBYpjMcCMn03xFMkmhhRR9QvkxEnq6C6QkitUfeExf51/7M7xmCJxBwke2UCaJoXSK/TZRRkigc/Vj25jyuAg05osX8XRTF+SKm+zWp7YouSPJHkkFZCIvl1NmDDbhIxwlXJIgwx+ZqbCflpvq2NmX5Vaa2WmgLHDyW014p2whUu2ZiPlLZomQtZQSKV8Uv0z7xs0JlSMUiIpBuunier90NiW8CEU0xkR6MpeQsw4hZClV60k/dhEkbUeNwbEG1iVrw2igzpBDNkNJ9nkgIb+UkNW4kLxMw29Fn5tt+nJNLXuzPWlhS/k09xvwhzWU6iF0kE5FG+J/ahbGIFqvPPpZH/lE8w/zGGxGS+X/TK+jwbQTkfeJ4IODihj14fRRNPeRpxFZda0B+pI3X3yTDUmEoJeKLpHTL6eGLRTPkdpKUEhCE+PN0Wuh/MkWf78itprK7PF7Pf3mytiG5/fKCsO0Gla4ECZWKyibGXcLyLWjorZ0/pACCbiUdH+ov3d30nkyWcjgsm1nBIsLYeVOQVaLib7IfYtYNbMWQJVaWr667FNT03Idyy3xt7ajmmxrS5h3b7nHCgwgcxPz5ddKckmJsS2z2yDDNPE6krVNEyVRdYALtP/4NQgGERIASwEXmRH6VrXi7NeyX/v637se5aastiu36JTpMQQiqu7kqFVCTkFN5R0XePcMSek8nw1cgEanSKS3yS17UpISs8SkgpZ6ZElohJWupkD8D/yFBKsBKn76U7d3Pk0Y/TTd5taKkZ8Qmllrfn3al/uW+ShElwg0zA23M1mBy8YEVeQGlfq28q8g5GFSsy6+slcp7ukWI9TI021g4RKLsDyYQJwnk2T1PqX0TaQcvtv71oGMwIt+J0znC8JRMmIxEsmE76TgYlnSzfKLv2rf/PTMWssSKcSbcfs4uHE2TH6wpBRLDLa7DjzlyEPwXhppVpSiEPQQMy8il+vm9zZiwTsh5X5rc/K/t/cza/hPd3bcXIOHSVmlF1nVhO8UaUJd/3sigr5i8Wff6qvWrHfsoYrRkJTICOsRIKqy84uRYG7cjbfQ1VS3HlwkTxVTFCz8X1d+KtKVhjRQySLZLYU00CN0zMkt5SltVMh5ZzK0H5HOPREkMEYiN8fhcCETzdy0IPYcLUmxgRTcgofYTusNuF3LzFFrZD6JJXMoCNeDZHnVePzedWZJR/KxpNT5Fs2uOnfI3qy+zWpUxHnJHLcoduT/ecKE0fQ/qyL0WL82JRNQSUEvMwauZSs9xwNEMUld813zP2P5s9xKj0BrSjlzyblFI0aT1HY8xdL8qL59myqGYrJZ7aAzDdym3HYJkdbyR2N7t9dpCeDKsqRm+4Js1TPCcB/JXW553yaD+mi2Wcr3UWURv5dnh2n9VtRAkRW2UtGOrp8VEpKVNZ7ytySRJCp70IpdK53mLV4wJ1URYBjX1mO0+hhbciTul3MW1louNSf5OUFLvqZ28mJGZR1Q3VPCvtUTQu7TvrrzLMqeQTkdaTxspZUknH8F6KauhIp3LVSMEL1RvJNSWbMpIIYreflCOdDV3S75ZWdEl0Az5YVT82QSqtCLpRPnXy+NpV3GfY4FTnp9rq3bEl/6qZjTaS6iE4pxeaiSeuhzcb6isnVN6jePXWVLPPlNdoU2sZNFIJQFsnsmNTWcp97vOTpTiZTZEQEaSjcmqQf6GE6szH1RR3m7Z2nN6Io7QKkxqeHVOqTt5UVL/zgy0MtOwIBkSgAQBP/4NQgHFhL/2QE4xJkrVH6PBeptsj5onxhKXDBpkYZc/tbVv7dkq6MWcluwa2ppBju5RrJCabSccKpt4oiqUy0U3ze8bKENxm7As6w9Z0QS7enjOGrnErF1Gk5vvde2t+04pTSVKWKESheZ6JAkjxBVtPxNjriNK8QRvxp0wqXlCShVJJNQrnGH+pfhOxOO0rVbG0id2bdTjqaf5zXjn9qsUpSphlNG8Fcz+rCzitsb9v3l9fITzWtxWEEbvkHE8pQ00kwxJhpIWS/Nc92zRUWfn1hipKxprkdR4gxYgh9zzXflMTsmliqSZZqTuihPSL1XiOb88Fx6b7CddXRml+P4hEgTR7X67UlY4aVfIIpI1kRYF0hUR+XSETBdXjPJSt9f6AYAm+WVcPpgg+MrHcsNsW0gbx5iqvYzQyhi0cSTaSQUP4cd1I9iwpvaikdDzIhGkahjbW5e6l/A4FfhgyQYoSMLqLOiiUlkJbv1ycjdMzYJsT58gd4YbMQg46YdsWHyy9NPzWni5W3VGes5iV4IkCO+F+wcE3e7PxWTMlneEnYkWqJ95t9PM8xyqSsnhVpV5fcvoJQfjPD7GFJq4VTxRY2WS7gREIzLK4LTEEEkP0SihlqLRruN45QsErQw50sWyMNGVOx5RxIym1Hpr0UIvpL5fQMsxTZj7oa6ytNB3Lf4qQZpC/dRgTKuXVlstq2k7b7uu40P164ToMHVl+1RWahT5DsIG2UeXK8Uh5ESPpmEPFYJqadmWPuJ8kmlaKZoRUUkQLfT4pIjHjxGTKMv+qy1Jj6CiVtiFv6YhvyGUxrbdqMNrOK0wPZhbLMUJc/Z9gjZazHmWiAiJdSsO7Q7lVTjrjuSKySOETK2ZZ9jVKiTclvIUTFjri8vLqlxQyl9QvROKun0lE4owjmmnsa4Tl/OTa0p5OS/76qXilGbEke/X8h1qbc6diuzH3SSKpLtFfIeJsGZqP+I6l43xiT3uCk13uGEdWREkkyxdOKtklPtNMQl5qTBzFu6usj9mOXfwX00XRVsxkgnzE158tci5Zlv/8ejTF6b1pO32L9UQRtju3n8fh22SJRl3c1510VhZdCf0IxkrFDzSVbWiq5JByaqiv/4NQgIOxL/6AESLmjAHTzjSO80YEIQLZKSS168oa1m/HNkNM8+itfKK3W6VuvCx1BgqQswSZ8K1fszGRema+MzTpQGcJsCubdtjS66Cz6H1l3LycUjvyiSbj5J1aNCyNoJQXMONsGD262glswMlETHT6UDGdyMCeDBjL0CsKjT2Yce02jdpP9Xp0vWSVvm7O3xbc+bVi0fwi3zChX6P5XbtJn4h/s1bUyzHccp4jyihVyKjN7X9pS6NyWmaPLs8pl5ej1OW4gsxXC8qoKEeX5YrWXL01VNTK7ymVFbuR4TEG8TMUgQmDwAIg6AgDBQIsMHQKIAi2C4UCzeXUgkTXvgYIoKVwBNwgF2uymziUjxU4LpzyKQRlC+r5KSnV16aqZZe7EKnjobA8UbTxx9YpdkV8Gj//Giq5rP+c5CpcxBl50ni5crSKLmLXdkUlS6/uqKvVuN5Jaf29ZAt3ZrrErJ5Vasm5C2d2gXJd2kwjZtUxDHFUpNSylpRRRS8kyFyZiVb0l3lVzRO3q6fJdnPGKKGeKIR0qokXR9VVZT+f2I6qjR+3axIW/vLnl8z3Uu1l8hisdKI6Uwlfl5cbeS+vfliAvKkyuPM+nStzIYQfpFqnUHsb7RAlGPUEOoTIz4vhmmOeOfhNdT/dfiR5oR5F5thFVJIvZh2kV+0ROUv+SOONy55J284oVx2kS0/MsYQVXauNMsXxnYSnOeGGLMoIppFtmSDOmEOalyDZVzhc8jDUbiZjG74ivKMU4RkUTyItEu6yi+wIqQd42oxn5Y3Fj+uoPwKI90hCPKkYGM9sSmT6h3qHWrb3q6NnqYzhDm3Em4JcCtFMyhcqQrq9DGqRWoz6clrFJTYVaIz6+LPr9aPqxsoCKikek6QztJO+C95JbiQiYytqM9yUjMhGShUx+Qh9T71ZPfTpxR9TylOUqissjUWvBbskNEayv2VLsXv6T9brVVIN9YTV4za8oX3KyfhMgrdW016F1N8VQoXtQ2LYnW2F9qUV6ukIoYntXS0XqbgugpZTFi3ULrXLMZsmWXigg46Sz8cOlkM8Tj0lNCPjPsLVZKd6mrT35yvKtbtsBMlBvlqXhia8GN7MR8/mJ+MP/4NQgJPBL/8AELtQzCJBH8MfLbQj3Dz+SGTiO/EZz7avrVVkh8l/iFWfeQr14UX4g5CrFT3Qh8mU+SXsRxKdcWhOaH44nqhVoTTi7BPBGDes1M8bugRUL0Z0vsl3NvoZ6SZvmXIUYzVDhAiSYR2kXthtyOVo4+q5SEJOsOfUvr2vKSIePkPJ90anEitolKkslCqlZSxWRir63EVoamtpEq5FXEnMFHXH1m+uT3a+/7QRipXq01TZAncnK+WU2q36s2glw3zyzKLB9iHkNy1M0/NDZKsmleVfJDtaRIyOVtWtUF7fItIEZ0nuoQE2N79vc7b9ucFcJd0+lhHuWjuEtrWgpKnEPPakSbc+zFS9yBk1SJDSnUFpXpFaRf3oa0aMJrQlqVHfO30pD25fhuWzbXl+xQZwsI7lenoxy5neYlokH3UMR47QsmmnuMXhuKjLUbMtaKoxvFQnH8JYZ1JtQzDtoo6qvPKFV5GSXmr2JKkhGuIoRKPiHoIQLTU7JDCeNZhm+mtOWRLbu7TUIo6pqGoKX5EnrSKOooq5W0meQ1eNZdsnC01GU1t0KUqyx0rZ6OXsoZ11xvSlpI9ejqHRp8SQj3XHLt6LNtJ48uwulOpvq85keOEhOqy9bdsT6vGkeLINE8sP8inyK9E1bZsrpB/W1YJo+YS2aUIoX66Q62vmm5VvAnOkGC7CaX7pergQ12d9mNIkxQ2j6+rUYS3jizC7ViJS3X0O9aksWSOFOKxxqTuJlGUpsYFjljnff9QWmt6zklZardNfpLZhVvWOy84R10Mod4bpcVqTRu83zesmYJpwddQVZsuzRP3GUVEW01P5L7wkm6/szQsRXIwvOPCUopdQRKfSOVYZcs28x3kiWjjbzSzlNKmGyEoecoYjBaPJJENwyQ/AQL2e3GcC12sR9YouS1Ta9kPGf+tRDtuSb0vQgZXJ9Iv8nzs6+intRJjofklQ3SKOfJ0905FN/vQ9WDuCSmyscDjsflbpslZIyYh8oz80yqT15ZzfcQtoRyqQGo0vD9IE2DdXiaC9TzXENxa9Ela8XBVRwpBGOXaupmM3eKmcNmuWTqz/5M1M0QKGdZgqv/+DUICjUU/8T/0QGqzLPz3+VUCJ1tWfEnzMpboyn4hTacft/xZK+PZVZyNHne9kzXa57IU6DW+2IyLAyTYiJEq0ad7TggVVyfFX78K9a9V9XWnLQe1L9V5TVPGsKMZKzSXFMSYqgne8MeLb1Tt8X9UUUDrjtPXfLEl2L0Cj5tpUWhms3elmznqYuW7+q1oMxCp1KdRJqpHOpc8W4WvbbTvXfNL42ZfyRYSEunT1zcCpfk4s9BJpVosxSwotiDY3q3uneiRoMz360b7eeR8vIvqnlmT8VGX4qJaVz22IdCbIhUpnx7sZpKuxVJcePB88sfbjamQdf6H7Tr9OchKNqXu70oW/xAs7NtzQ1qVmvwwyM1OBro8r9qNew1pmeXGrWKMuHFi0JOCblSL9P11h3PyfJmJqFAVGVYu0ZeWimRp97fHlwrNiFcmRrdhXUtaFAyoSrMrTseTfwn8WzSoqVj/09z5HKTLsffFCnXmXekSxI92NeKAn+tEGjQqzPvCHajzclGXCuw0bHUlW9NaxWvzL2XfkhYVKnRlUs8WpEsyr1+jcmxJWf996ZYlmRWq1ItqPhvVN9idBnw+XWRuz1pdvVX4K/LBxuWJvtG3xdkZD2WM8+RTQKM+5JkV9yLokX+HPFPu3JtqRBo1pN2NP5RpFOfcgZY+SPaz4KcKneoV5dK1hkVvtiDeuwFAjoE6Xww2GdWvJci4gsCDCQMcuPald5iYlye0r/euSc+qrUu4q8et38TZk/RfkQo3/xR4Z5/h7cq/tCxxtCancbyTa9emtlfJEYagCiEgIgNdkBSABPABGADKAAAAAAAIYAAAAAAAAAEoAAP4AAyAAPgAAAAADmAAAAABsAAElEeAAAD2ABIAAHgAghGAugaQFiyH+BHYz0C2DeAJ0gUQ/ABBBOAVgH0yBBdgCEBJqw9ALGEI+z0eNw2lUJRELZVhSxa8jHfThAMIikTqL2oCXSHYgi2A1AAAAUQAAAAEoYgAAfQAAANwAAAAVQAB+XwHUHq0TwRQAEQAeQaiqDaDsLoxjxdDSBUDOM0kI7wLjPvNgTTtl+eOKPaYHFo3xaU7Yf1TT445OWeZViJ4nFOt16jVLSXBJglIn0sy2qQW3JdakY/p7Zm+rp8N6sk5Xw7kqRUg6YuBVuVrGOerfWRXlQ7FHhyR+ke5dlam0qI8VGbWxBaF3JSoYCm5U87d1svR9UOzzu2+Uz/Gr9Z2RVjLB1dmmyKAjrVbiyKNFEZytebz4RbzcXSxAuoWVY+8f19gvxVJbqcOODW2eceDJ1SzE9yJ9+ku7r5DvWLKyg+mG970c0sTBBarSCSCGcpnUgPb5cUqKCXJeSdNjvyvDJhJKHfmQGkjVYyU/tlRtUtinnqXahJr033yj83W4KOOQb+SGksizOJwsiAwKp+sVAsGsVHIsgoFExI0tu8zic33uaEYCahPFVUKivYR8mJzCEuuEgbTUDmkuqmAUxyUQAxnABzXj+A9m4URPgayOAqAN7oGqABsCCAGoPoAFgeQAMQOIwAAwWwNQBvAABqAhgbBzAJwBZAA/OABlH5C3A7A4AAABNAdAwgAegAAnyRcAE4AADWbhb/+DUICzIUNL03oQJYC5YdLjhwZ6Bc/mFovXRjFIM+A/PbOXHiC6UYmHJ/ZAbmM6pygH2QMSuI8OG9NWhGohogBB0qJNxcRNBZKox54doXpugpH6mOU5mok8ogU+LuCbyjHyyk1Bu+EDgTkgmH17gP+SMAEojPwF7D3BeYfGtQLqBQuQvI5z2AWitoKCBEwkU3HwQ+IMyHmt+LHkYOcBewXOCZQTQ5ZVq7qiw5k/YhLgyVWRKcbYUYpKBiZiqxi6tH9o50lNQDpu/uHVhr9FLsael55Yo8MDjIA/YM3ATH7QbUMSAJ1l5wYch8aaXNagCdARvKCqAPSCJ9/c8TUO2binQS/gRbwp4ou6RkMngXBxIVWvkEwFO5ml1tGTB+4SQlEoRLPRCI2qOsoyCz1fyQyEVH72EaO0Ynozk7gEipIR69EvATjmwX6SeGhZ1zoJnS0IWLVrjR5IR6sRWkvN07sqgIDDjlFSamoxUZ5CZOBBp9SxzqmAf6noZSE1RZn8tcG1pasdoOrohuJdE9mzxF5oTrzrUDG2euqX4SjXHBdodItkbGAZCZcC+JeEshB4AVkM9JtJv4AbsDazIl5C3AmgSa7XlwZ1SlMpTv8FWVRcwk/jKTwFZErO8Hhmz54Pi0wtvzmdhHh+bLCj2HnUbmXMtsV0YfCObs0nwazDxMo1rQit1uOavbqmywsuMUmdkLVMRAeucoCJC0z3CzQaMO/De2Wcr3QZ2fMPUNyJyODTMWCICR5QdgNxCwq1WE5niqyNTzjVBow2PDvQP454Gal2D1RfmOzOYwcOfUd+UQ320lj6W9wrMR9W9uxA7K+Eh7/bE3D1wT2HBhrz851hlbA6wBYImQWzyyWyEwjhxYDFE/x+8kVsJyJLRcicziHIaTddtbevrZFidY0KT1KiaurpQdwpROeiH7FftKpCPEPSmpRAKfIT9iHfJimrdUk+Wfvsu5Yrl+kZuzuGFJ/KjfTpVXy8U1dlxCdMexoKjG285rc/yh5aTq+e9l1FyHBiSILsSV9y2yfkXR/XVVyVoGxUbbl0UjvXKUnJyWJ+8qmp6gChb0laNq2huNIalfnbjy/X9BkaH0C3FdVm6vbvN87HXu/+6M9nTcKv6v6tVNFbCYs42t737Z2SrlJa9yckKwvCFrnzLuuYj2OaNji15Noi0+fsGzIxkC6/8t2RPun3jLJW8uzHvonz8ov5CCp0iSKN4gWRE8xXgtx2Tg8X/nI0xzz6a0f1vCuLvp9ipQJhe9Ydp/N/8QAq+W5/0HhcZbYt7MMKv/YOOlio4WkrYEfSVQdJ5dHch05E2N4LcmpaBhcsII5+/NLiuJNAWhalqPjIMdZ11NT8oGmXuU8h/yWeItjVKaG0IbrPO/ZUoEksmfGuukqizyReI2WtHLUHDCsh5zc/qitluetRBJhYzkECrb2ZJFYFx1D8P0c5X+Glk2Pm+kRhZfbkHt6KQidOt6zM+w3TlfOJaiYp7qtcgpRSvIs4w1Pc2Lx08zck1mRuwfzLt4sfuvVCzmyWqDI0Oo6ZdIEAWJuYBPoGzk9XXW9+hQgGpXPlHFigVwyIAmgrpjVnJohfI0pnmpvUeQZ+ysy53DzzoKhYTunWFhH7QnaKy3iJS+RpW3Trgf4aindDaODxvaiTDThbl/F120smOWEbEUGYoVKvXottLEC7FXy0Uxm++gIn8Qyl3UuDgwFjgALpcGPIAEpBXRiAELGwDlGOguch/KwE4DMggj0RxoQST+wcLBKdO/VRagSRpPh8CiA2ReRxipmSd8Ik/1PIkdnrobfF9md1VlInK274LcJgAgrakrpW5wQFjvzICTYXCpZ05N7Lyydqf2jHSuUA1ErWOjIvE4+ZiIgAXiAZyKAEVAZMXuB/AAzjuBOwl0GhjPefB6GuEextere1Tihy3y583KWBEBbGSdE/wgxONhyDtMUkYKjlAJLnXvz8Wwkul1PCL2tot9aTeg8ASlxZeVQts4Vt5GK9e6FZC8GimLuFcQj9v+Sk72so9OXbKK7XkkUzeUudqAWSAAFlhc4FBAAD/AnJIgEzA+YKsCYQDcwSK5EDwgbww6IQvklcodZYR2Onukp4F7B3AjbTbxnCwKKOvrqxhRWX8CC8yd10p3sIR25p7A1o5RN4zMqIcoDRiJq/n6SFDfKGM7Zzwr7mnxIHMRTCWmgwCxoP/4NQgMJxRSBlMAAqlkEzucdmDnroBvzoHMDgIZgXnhyMgAogUAHugTuaKR+GJwQ/Fl9wi72uu/YNhdi1Q9sU2Dquehy4UcN1MhQVwdkdalwlp+ANZXSrD5BbxQN8fbv5W0ydnUD+F9oFEEVVXfrAOoP75cw1p5NokzF6ywrszZHDQaLMNCVs/zkuuUt0GJVote2typkcFIdHGXdQBqUBOk7YApcAE5EKRQoWoGmIIAMWgvmEfziQuU/JlJQX3KhdNE1TSa9L7Q24E/icFtEXUI6Cq1rSlO4FzMVkge5m0ivLmyLS3V6GUlfmWPhdbXZJXqHJ8PyejlteSiVCuz/0r8ZyQWbueDSJLQtboykS0UqROHCc4jJLNRIxyT7asEzR38AQxeYJPAEnhHoucC11dDPwKJj14db0CZiRUZaufOxVnCf00eUa60F2BDoQc45tr2d0yAatLPPIYtSk/A5XynkeRpk1sRE+URs510BM816Q7nYZyIPSUST/4ndlhqNL+yQpUN/EYEcSoLs5O/ILpsyEOVDlghdS5arpKUoOjYYrhKNMgF5wMxhRYALIAMpJLkfAKaCVzZ4BUUEh32SbxkrtX6EsSA6fLlST4QFWhMiB0w9MUOQ6jdYeays5F8R503nu624000seml6F/ibzXbyUVFfupqAp9oGoobSEomvSwE19jcVcD2h+sgMIDEXE7TBdC2s6aPQ0EREhWspG5O4INosiFJ34n2RzB5kAkyXGD9gAMTUPFhBzAb2qoAjOCvYShY8ZmVOSssE5i7DW5B4abJB92Cag8sqUXMm55JLerpHswuS72HrjY90Vf60cKI3TbdcxC6Vvrat7SRKibQZrJMBf6aLanmsu+ZRxwqlwOOFIMNqLpzrh/fSTuFQ94qqmYlAy0ZZNw9vhZmdAKKgMQ6hDqAAnoUOYoBbgZu/AC0oGPR/HWppDYnqEmrorh9x90T/Lm18NmCJjKhEZFaKtMZGW1dpdz7fZfFa/fqa+wsQULHEoId0I1zTZJOze0ZQWrqstQx2Sit+3Vz/X02/prRFVnkiVacyl6Xx5NTrScAkNz2BFIMJtLgVVGVjGqoi/6r4Aiid/ALrA10DrwXdAOZDEz9AcdAcTEu3Qx7Kl98MhUMZvkuhMTrFN97C2hfRjghY+tGvAtvvik/zlv659oz8j7ftCN6BSKxnymMY1ik5dKLxtTYx3U3rpSO0NGNCO6rlnVrN6rPOcI7J6olX7rcv3AG2W4/u85PXBEVc8LpmQsvLK0RAgCBk2IoBewBQxM5UYBMA6py8BOcCm52GRwmJsdRDWFs2VbeoYDwqW68QR4LoIsGmFKrPOh4RYZI+vwoV/UXfzPDxYyElKMZb0Qsx+pRxvae5cOcyUor92W5G9Jrotpa3AjipsbGO8LNy6p1MO27LrWjrMiifIzIYTKsjWaDooM57cYv6BQ0Bq0EGgE4gPGfzDewCUC6Tv4B20KjiM5EhBji7Omzqat4pgdDG37fk9BsxU5vQRaV4qi4rT198t6W5oHJRS2SmZHDtmrzfW7o+bZaXcb4nSmW2tdJJ89czqZa5kGTfMLE4U8iWiR0pC9xWJS53fC2u2gy1O2RNIX7puGTxLSpuxU/RkEAUnEFQGZAFSA/Q8CAMlBhBs4CFIBBsKguFkOkD4Zt/OxbrkjsIuSMw5gEJjTyPBrQICMHIOkt0PTY4s2TfmfVRFVrRqZZDc/kI7xasTWVD7RfVKPtZWNppz2lJIbIsFkgbdTM2GsEQOQIk4uRYau84Wb9QvXs5xPzp/11nSOKFdBSVa8AT3EjRQYBi4DHCs4DewXyE5h+sBIsHHzY6JECtPoQGJrhTPj5mMYjkagQaIYkbUF3nNsCEj1YSW5qMzGifhrL6iSKj119LcREgR//YsVLZtCWp7BNtEyzvM0VLTYI2L66HmBe2OpJhR5pRWjdMCXPfBrw4fgF4yTha3ifp3IhR1n8AumQ/FtAVgAs88CAt4LtDChD8H0wTxPNoGTjQJpmTQR+3NHTMpk2EmDmIlrlXC/j035kU3EyS5RsnqnDVGE20H9GrMxVBn7DHbMe+ozEvsiNazDmgqxRs1p6TCeHbdKsSgnJ9wkEqbHvKOsSR7EPsPPBBsQVMaUtQqJsyQxkDcIdfMpO/GVHkAmEB0xyZOoT7DdItn3lFsyjVhrxqLByDFyikMfrISgo6rccMY41ZK6Gb4JFtwNclBPlqCyu3ELjIMSU8zX+qOPuMzE/VCe3+rlFL+Zg1IrVCCXlcJj2BgSq5betkFI8Lho80NtgYtHd0wr+sESVQRzMGMQIPsQdUNqMdChwDGB5Q/AcFDMI6SnDuc/vo1cB2JMjDW2Hk4CaugDSicRK5SBQKqdLV12+wLcp//g1CA0gFP4A+SICv27xnp4zWEAUAqLRfhh7CeEEKuZOmrm3L2tN4QxQKnPsa5X5qA3bxNZzi3pfVFZ4X8j4sTRNbj0NeRAjjrDxcPfIdPKOe+LUZh6kA/whMM7CjokC6L8PK50dDPtjjHeOiZivLCOzUPpV0nzV+DG2JZbWD1CgfiXL6OdrrFZAp3g6/knKZTEmRKv1VOpnTYiljKzlZKVUJl7qrxV26+RUVOwXPuCzBOd9u2edV5WKskFIqSr3yg6p6NKl9vHjiBBET8DBVaD5wr3/VaWf7DpBekHTEXIsJ8X0iVIeHUxa0xbj1uav8CpbS2RFozlWqtVZuU0yjyyHvcLJ4WlRGXQWcrISd2dGnckh7eQzr7j75FyoRxusBm6qeI1K684Lgm/njlLMl6TU07DedAIr/QtndIq83uMaPRCvXeGl3GcSxlebS9wXhbbSg2qMWQY5VqmQWVbsyrgnLZAlMKQOtLOzv2BxWH6DsDLl3fjVtyUVPK7K6I2Xm1NH/9lt4yWXwToyiqV3ZsDoVTx2s3DwXWCVKh6TKTeDXjTM4lo4L/nltsTwUY29vRfqRG7J3V0W9Di8fo1Z4nFLlX6JfnuPzy1HLeqdNuxV5ydS30H+6/eFufElAXHTIKCnibpWUop+KMa8kV1CME9ejNBeoENumSTupPzKmo4yZL58j3VGDW1Ydpd9CTb2wUd5zawmPCpjHEVhK8MlaIVkmNVbXeY4cbrnzUqevPNnTNzNoXNWm8jZXnNWSNqECMP0t72cm7iGGWvaRUNrNIWn1Gb1aknrf6w+LIlVKntP+uFAoyQetBDiUcSaGxXqNV+eleYuRJuLI2cMON01vjjF/COv5NQWoPZqNVBJtxAhVNPIkmZu2QijLmK0dYaQwnhJyBkWIJQzi7BmSkfoHR3jpECA8JI3SdmzL6M0JIqSoixLad0DITQokZTSR9NpTQygTHiHcCYKQekRDmPcpYEVTndHOHUq6a0/1DDqB+FZvwWlTB2NlZ58QvglCWFUVsf28rfY6IcNpdxlo5ROuEwY0Qjk9GWTsPKrW6jPA+WEf42SyklMKRc7JgQGjdJ6NEdq6SOmFKyPkaZxTgiHNSQ8NIWwSirNyrsa4kwTmxLGNc94Z5znTdmi8U4TxNvbMOa80ZMyfi/SuQUXobypu/fSCUiYLxnjlAaBsgpeRfi7Ma1Uq8gUChfRSsEqoDWOk/OaSloJkQMg5PqU0oL2QrgpDiC0F5RVChBZWAMHYHQliBE6QUBrszLghVPk8oIf3tjxTfF9D49RRr/P3UMR5CwEvBuGZ1R495M5HcLfdZLHZz3VdWkEsa5XakRCeQ2YIc0SsNZihdLqBVGifILEUtJ0QIthPaFsRajRxjbx6QlmazwUoxVKBsoo+UFrzyewUAaN8/htKfE+FOJ0toHXOtsRcrwlgVQOkcWM83dktCLhXVaIYzl73y3tW6ZVElbgqPE5olQcQG3XozPEyJBwdSurbsCX+moCQHkNIKeEjaKUS7BU2mlTYc3dldpjH9hJPTzoHFzGNw6VxlrdcmafK6Zfo3Sj7XuFVOKPZb9DP/WP4LhMFwiSWQwXPs1dQgbbHBEztYZ0thV236TkW1J80fwgXb9T2ABDjSTlMEQ7hWYMQ5akYijkcy1oagbEHodLtJlqMMlUzg1zuqK7ie9iEbt7MGlDq+zl9df+XrA7jkr81z6bz2/Gkp1TYJvsdnnAF8DB4XXMwhBQo4T7I/qnpXShBKwZFGN3WBlLnUE5ZT0LF/uHOQtmtERMG5rShSYszM7Pot+HLtcny2DeIBUAVFTbZMtq1MNfRZF76sEr1aMvsnJplCw6kJJoV/ZTcQmOLAiMEnSb91KS3zEw2s5GgjsHGAIAiX7lgLTYzCdY3aZsAxYV9T3LOkZwWwF5AdPCkYlYyEhWgx5qCDfGxgE3Ta4fIdwIXkiAh0Jb7tHDCmYGN9ngKmOmDz53meQ9tlMlXGfCA98ITCaYdfIXgHSnJABLn64KZVuX+xYBWVm8R0AsoWfAVnKzBlSqXJQ2bZgH+njUDoDg4ryAHLIQACfdZQDoR7p3tYUA9+6gAIWA4Cc9ykRmAQgsgBHtl2o4REMagVfD8g18wwK+ACG4dzB2wAhUCM4AzOcUB8ADzggaAICjRIA5QGJhV8Di9qwZMEajFIC9NawMhAJNB48AuONWAZ6tiMtjX/ngy4kMtWCKJt0DHhpI32DdbPwBJIl4YHBqUKjg8gDLgcZATJXwAMlHSglCA9OS9AJSAJfz//g1CA4pEAKAnIBFi/2BQI9AAzwAKTGXF8ejF8KrQtuGKLAF8gCCAmpvQlMLaYCF+xw8B7sIC0ncF/eS/UZYy/sCzICLobbNridbjKZ4HewG6wJfg1eGjx4cIRi1LYQXulxsH0DQIcXBt8M9gsCDBb89+hUACGQTiJ2Esu1JY0sfUElA4sD3QWoOqGTmkOHt9l/B5AInBRoMSBlZSRVH5XRHC5HqzCgi3FWyrx8Zpi+huccNVdho1szuaf743FrpwMDqIAQ9A5uVXTxDAIk/x4FygI7G/wDd4R7OcXCF+2gUpq/GuQEqwE//GHoC9p38uIBMwaKJPjZ90AfuHmBgMUHGngb4+McH+QBCQGGA4MTsM+Cli6GFjKrgoy03N99p1j2gKbNEGCUngeUAhwK6DWgIoIkM5uKiTo7mdFK2iKY42IaiSb2vPFGmkvlXpQaaTCC41iW/yqTxO39v8TWOryoAKJBtLnITZ9qmc52YnEGzOOdZNLVoOjPgF1ANfDSkFWg6oxlQd1anIZ4OBJTIk53ENB8yRK0qMcP3CyXoiXsYMpOPTEgaZ2yhv/BiQgssLfImnGxG0yry03/Yn9wm8HntEdmRfK+uSjdY/a6vkn/++5qXQ5QVcstAZWgrB0bZ5PIpNafFDVo/SO6giKLjte9ozxawbuDSmkPyqQxqMEYumsl0V2c8PBha0tvp+UX8yWeTiQ3+S3Z0nrsq0Ce63PJvAkEP0OjKFRBW5MNgw+HlUVyEBvYnwQKqVl5FcZdGm5T4c/gY4dCu2v2p6XPcxQAFUgs4BMAEaDmSsIJbgIIgNtiKOttYOmHPg9UCQB5BAaTkVah93SVQLrlYsWxL1m4WrRIkLI0vFXBtAWgK6MhPWQcqHfX3w80eWjTxOl60IjadnkXauAJrLQuD8ZeaTvNnkDtuRiJeJ1PLDKQtN+5odgJfir/ooaQ9paieU9D7p8XprD72wXSCNBgzGy90gVj8ed/wv2zd0fxXsVdLgiwqUsDFXlpPNI8QhizeCVXu/J2WZImZPLjV9y9IqiNpkj1BYl1KwvFS0FoWN0T5xk2nKmznbGUG+LlkSSCPN4tGqfp3iwXHQQXJl9jjO3AijL45obqL7WjnReWduLNY4H3MnRHvLijDKhGU4uYJE10iyBc7rkGdgn9zbnqCMqVr75C6AtMcUJ/M1UDf7ZbUxP+28WMcBRNf5evejR9VGfsL0CAHcNXOnRQSrOfo+oELqdOYyTQxftivaTvufxoEtDomqnV9I+KJY2JQaoawSDvtXHQW0eSODV7/ioyyucbhe97Hq0ukG1jbRRCoH2PvKkUgzve8/xeM0NeE5G+4c/exYtjARc3eRpqdSiChGrL0cxcQZuFBnoVtXTCsZ/276iexXTGscgoD7wr4MViNuGm8VjbURmGFnujg0KiT8Y1mSzJOgiwj50YiqWTDvY1+WXJPu1P5EKohXUWAkyW3KnMIEA2LoX8l+naIzSYlPfxAFTSeKsEvP5EPCvmo6tT9iKtU6QfSFJmBhQS4L1fi5tJ+42cfrXT8YfveECX0ckYd3cwRX0vAz7jQRAjGHbkXixwgBIAygpKUXHCxqckClP5d39A0sddivi/ydKDJC9RZs5iokcJ2a+1ghErtLD466WHSg8G8hHlYhbJzHY5+uQzT7PbwEiEqBV4g8IRJFYb1gMb7XQRS7do/Ag42t2PzpfBY9Igsu4PpLiIhcwUTUIPEmlfGwdrnL8+6+LyhDqlq7+cx3FX5Rmg7+ynthc4fbhJUJcpXxZL3WkCoit3a1t/oJcovocnVfFRunC6sEhVJ5ZOZug41KSISGaI6YgcdT9/WaPEO3+Be7K6jVH4+Z1QMftfddD4fowLkwgy5oCvZ/FP4aJGXIDNZnJlL2MtHlvSOJHBEVEBz2uEWYQPCNzqHCAF8dWKYDRODpKICsqks7ZmQha0rEe2I+h/z/tWrqArucyQ9UXJAKNDiliFwPDIyknbfkwVUVTR1AiFZMV8kwV2SneIdLSlKMWc3O/e35HBFgiGOTFPTLQM8CpcA3o2EU/oGAm2ARO6Cp4EAhtcN8CAqFDNxTtMZLJwiAy1PcVnDgMpePjCYr8m62AtJzlaJCs/640K38gGinlxd4oKHVBDmHfZitaMgkvtY+7ne7CdnHVQijOlC6OQEBgRtCoRxuTKkZZFm7lPVOqUAcfFikhTQPF3kRLhEEiSNXQnuOP+B2UQAHCewKNBcEKTDPYLhLHpsu7Ey0XbBcdE3RvJKFAA3422n06zmDfQrzF+2XnZ7rq6rZKELzV2hDsJswVRIlWxUcbOk/v9lJV4a1D6gZzNIQUEcSuhKl9du5hssaHVh3UTWlkxqEcEvVPfKZhiWtEtCOMdfagRGbPawbXIPaoRRWOqkBGv/+DUIDy4QApp9LQ32vizEYPIOZ8NLepMEILBNcOODPJ+pqFiCykm2XtEmLk+RTA+WMLAq278W3r3/5oUYQKtoTfOJiHIwTkHlSp2pCmrGxI/bF1ftz1gk9i9USTxzWLCsC+JatSsY/T+1sUpEYEW9Hs5az5RwJNdKw56isLux54vEzATQpcB8UQMZDaY9Xaq423VAFN7heca2LTv3X8MFqVOQwwjIhOuAqDYVe7gubL1w0Qtnd9HG6LjAZjZ0975w9ys9gPs/c1gUne65jJmPtFPQyLQoxRg+SVRfe//pDuLD+NKTpRDUI9EPOqsKnH3zwRNXE0nIT2ZXEp9WeDKxfqKUpvmMH20ZKc3Iwkx30hLJNU2whLYpLRYc3g8bQ/NO5kW1YUGqr0VQUhVPKuSDX7NFoXLFEgReonDNIpUeBPNLm+S8UrX0ql/E6Wa89m8FyWQAvgIijZnj4sHtBFkQu/v9EhwjnCqDld417i6i1I2HnFqQSPbOzzUZKaP8/WTnVUqFJi+rFSiPJPV2617AHgT6fCIOLHx0UuXhwhSeRU0/YzAUtQyYPk2iIVJT2u6iXZaC2R4SWXtioYveg9iHxq3ypMRZ8LvsIdR53NSCXQ7AwvSD7d7Gt7Tjuu7IG4hR2eNV+5iiRjuI1GJ8KosAe3/mWgJNlrEbY5QqvmvM2qjRnhTH21NYM4uuXdtZ5aMkR7lJslgwelxaTEdqKT9+rfC1Jzc6aRM18S0aypLZoVBrXstWqisrc1Qnd3OEBcNTKR5WAbrbeld6nN0gWNCiKbG50dre7LdUm7mmvFfLU8qU5ckh6p6QUkpJq+NpJUZFSGRFJHE7/MI8d9bcW5IsL60sm8kW/Qpjp67UBo/+5cEXf/FxutiwzyJGolDWS510SFAoWeGiOdpF/iO9Ipo6jvtKCke/Sqxf2cGmFQc5FI3fsYG2RKp635qeDhPLkbfek7PEu2uIf5gXrP7eWEzcnViYPp5U+1GT5UdtqIRcC/piTAgyyF2BSfuYWcCbqTXoF6fqQyVZLPGJaMEkhnEpFbe+9kEvHk0jvU0mtps1V5fl85RWE1pqbb3gLxjTS7qWzLBwsWYLRoGboUPeoIulHNs4YkzHHo2I0+EN4v9E+tJegvXNl3UiTVVIJZNyjRqt45gFG3UHWBKcXsfrQktJEC5kg+wNIl4mCd7lfPX0HhF37WDPeWX2FE665mvR0eE13uUrIdVksgGlRKmdSkLQ39UEWomw28mD1kmO15Ph5Ba+J4qRWhm1mHd0KKrzOkTMZSFrD99RWQOc6BrfhqczYsRmIG093RV6DizaeWNE0j7KrhbMjqLZCDblnRUETFhr2InKIMIaw4/ZEcqmY6db05i5bOTneFAYda1k0ssKYiTDQuNun2E6YxamUhLHhX4jfohNJo/REEJjyAkJXPxUTZO7Qh+xOU2J1ouN+CGpsBBGP7UhC1oqght8UG8/ytl5YVXqCO7dzRlk1Fz5WJ7CJetNWoKgnLOooPl1kH4GGdipe8uDMo3CwtolNKxO1tTdPoRUuJ86rTYt/1Xr2ttFOLS9dpEnEZDNsfRW/LfKywjRMU/lBmpb89sNFnMsRmrxkQW3VU+MW9a8hd6eR26aXW89fKSWyDuIolIFwOmdJKaiN/jEG4IcUTdV+ybne7mUaP2woHBePUoLD7P64gL5JvVCrbxP0yhofQtX1qKn6TojIrJiTPVtt6Q7vDJCLOe1CIrXUnmKzVj+PSxVh5vgL7nQdqpDSHgnRuDbNhX//18kB+lVEdDNZJHpeiVQhuytqmqv1mi1sIKrksWbVsb7zNsNon0siXdHRX3+jVNnijwuOiNqGvGz44t0PAplRfuPZBIlK7msB5Z8u82lsiXkM2E5/k6MXwopejkKllinv/VN1a/u5biE92JKykmsjMhrCk9kfXlkdwbPwRcPgEDal+QhRuXVUDLK5AplifFFekEkvZkoGYKRxgWqQbbM6Nc3CxI7C25d1edPJenXGqvh2YzrLbD817s7oSnSwzGoz1CwibPDi2P7rSIO4WTprBOLlRRtXK2eEKkqJe9PSn1GmBQq/oe3LerOr5ywul3Gi2ELaRqRS0lkpCooUxRNsXRD9pS8zfXaoirHGHdMC6UZKnlj9SaYCnMN0I9pt/8MddLJYL6Iz1KNyjraYGwLqLBS9jzd3YVoMBbXzmmpeJ0xmNNpkxejVa/UAScrNEVrXIjXwQLV80WpCihV210hJPJwIGzX8/RjxAD19//4NQgQcxIAUAKkLDWdEYkw7ZfUdHKiQPfn5VA+sHXVoOrtFhoAKM2TFumj4v0CaJe2zLp0ms6zid+SdNx1nU8/tFZniYriMw9KJnCK6oj6jf8PL19LODJwArmJVGPVzBDYXZS7DABUf9bmRFUkgoyX+ikdFyA7cOdrAg4Eg+bPNZEOgbpbo6ERlXiiSFSnoSZ5PQwKy479WNW4FFeBj3TXcZo15ciZbPYODVxggWreigMVRCXyYBe6jYWBDtwU7SfYOL1ApiLRcSHywaWhSIBmFS5EWyEIXicPHJQ90Qduu08XPqJfk5JqcLajKUxWj36jORH1dcsUzvqUViVT6mYaGX7WhBg4ajCqkihCwmabCpyFyxN45kHZxiyHp81SsVQhqI2rZY6JO3+DumFR9FuITyBCMSaV51xZxXW3ZhhhFxkFYAxuQpEjM2XTKSoAE5A36CdRyuCbrUsy0f+gnsBSdRAbeLuqthDIwe2f9pSqBGSVaihu1grgBpk+uAwcpkDG4TOCrscB/oLQgbMAnGnyAZmAwCQJARaH4wRfAuo4EI1+ITLEf2EAP1DBIIeiYC7Q4qCIgWjZGDigAgWGsjMxy20+scmRUNuFOAAgGvAAXCelD3IS6kIYTRdROIDEHx9gfVHIQAkgI5gCC4BXBYWuZSwaXR+Z8OBpZJ5UtuQHNQZUJYAJKnvOtEcaiCABNYH2TzIFztRCopyJ3coWNDLuOP/tCI4SOGoOBhhM9yBaBPF8EH5FvwGkQ39Q9m8esJt9v5w1MQlnMLwAetKkgKaQ0NRso3u/gr6USQULUH8xWEQEBKgcdCjYHVGaUIaxStIYnbJTBWkDiztIDv5ToBWAFHRusCR00zj7MYeEYNCnJYwUqT9ljs8YPB1ZVo4ylhXsEaQ6JowirZYYDDy0JF6bvpM23hUdAU+PZ0bWDvoBEQNblIRPY3uh4IROEinK8iyiejWqbiJ6KIJhD9MODNxdtmUlo5VQMmKl2/UV+Kfm00AO3Jw2SCbg4OLFhjLpCgs2qzUeIro1jLXC/PshNNvAZPhv7QjTIwqIManTPjBru+zwTj2nd4sd6iIVhSKNxoO+Pxw1g1uQTccYtyMPdaTFE5c+tNNOWMazHZLSqu+phhQz+oqIYFviR97WXT/4KuEihzWSlcFS+VDSQn28rDciYUwHFa6IQPr02LEWYLe+RYAn1hN2T/6VKRkvk0VWF8F84p+b8lAipiF8jfbXKx8IXwX/c/VNvGanz7+pyKVquw1w/Pw6sda6pFeUGtfUquErWnbcMjAh8kTqf+eOl3sbxvsWnrwovN19tnKt+SEmMZeWgXxVQnldSmakqJiNk9I8xtglRKtd+rEUxm/TatOO/IYNyXdLLUu4TZhiDgCK8wvdytntOfkkvGDe2xbkjYyBd+1U4ZpTJQw+nNs2H+LqYYFqzsHTSlkfNDxwpJdrs2sKSwW2F+5PSMWWr7JXLQQQ9QpZohVz8VMbE4MtZJ6aqNfmcfqys1opvVuyvd7VclO+s0verL+N6i4amLsWPdHIBYMixlBZbwSoj4y1DjTzxEhqAmgbKKlEzvqaMSWKlGVCEChWUFMl4l3N9SMngQdO/mV+gxKXHJnhG8Y7E4zcbwJz8yiT1bDOLmeSNOD6H2ZkHuOD81cBM0KnfBhsnUbYtFT3fzWS2Ug5/ciImeMa21dBlA4g0fOTonoR0NCFIFSk9jBhPosUXAM/JZQUIVGZBcQc9Hr2lSpwh0GGzJ4YffrCIJRc4CEkxXUX3yeHTQkyPa9Ri4aZZtKj+xuvyBfaEFxYPM5KNJLYBZ2LDcU1DFsaEKmbG0vSZuQuwco2dlSphUQuEIwK/MJFiiEBaB444s6EfqJpMVIXFSC8hZ4E4QRdUlBZ40EB48Dt4EG/YktcigiOCxYNzi8f5TPpNEKXvy8Zg7K1lH67DhHj7mjtrZIRENAFfKddBkl55QbvHUe8wZuJNy18ousP1ElIg0Dx4PiDjgmY5QxgakLFCTgyEXqL8FGhS51ArYLuE8JPgGhw577sCtyvoAtKBU8RJR9B5kWhBDsMZhz2ctbQyyD7Z6k+ITaqcgCgLwtU4YgEPL1Qmj97R8DtWCbUKqL8vQrc2OibXJzabqoK9qgAm0L1FNFLkYmchHQdYHRj0BUYrM68RCLLEZhCw1I1lsAogU2S+fjA7eBN9C0tQkmDc4LhjN4MWjoYquL/i7Zxupp1cIQivfXm1FeN9KwfLUhNlCIBsbsWpo+YH99lb6XzLalRwg/yHoPtM7rfpssFrQOPEHt7E9DtBqAkMd4GOBBQcKCTAjUWaX2JdCiBzgJxP6FWoDp9EgiG3+QBrMBQsbbBDqmwM+gFAQGmwpqNPtAjKIqGFe14zMaeqe8ZMxfWK+YUkZZ8hg5gyUi1S7B6nMMYgXrxOyqAUW3/+DUIEXQU3q3XqAKW+446dQ9AvfUMGrPbtQQqKhWz0Kp/LNMxByC7quA7srHIm3HrbQZZ6+M/yJtkroWAcXAcfS/Aj0AGBBCkANih7EM0BUbviZHuVSx6Ea4GPlCjpKAphpQyUKDN4blquRp08kDYkkHXMQUrypaVHMUf/kuuGq4aG17iQjKfKncmFCu5VNUukfOHoTrWkYJVVyIn/rzhWaU8K5TwdhZcxJPQchcuf5B1UcbCAwAS65cAKJgM0jHAZgW4RKjTxkLstSBTQ+E7OTh/sx9AaVtAkM7WYB89hXOr7P9TJ30G5y9aS3Wr42/wksxJCcVOu5b8utcC/3FaaNTZ2SDJJzAYY5EvSqHt33EjqhpuKzq9JEoxFx9SI6VzY1AE7zYgJoADAgEHwBm8imFZgjdWpUZ/V0EbFB8w3AmgOo3vewkdWiUUDVnbhUrQ6R11S8bXozd1tkdSdxqiN/5iMSJkKp3om8Y8lZTCht+5RqXNgSmJ/vn5yJSIiGt+r9/VWkBZ1bp7EocrKowN/q2e4pohKACOYUGEPAAT+A6+AbvIdi6gT+TYTIK9kexisBfplJtAEm/LI/YUmYl90N/Gw0IGdHQa3v254YYs6uvS3rlib12cW0QcTxvVUIg9bKiEsvbz+ZWQ0liQxSP/00dbAxDqurLOl7YFzY3uyNl+KpyFGDHXwBqkDL5agFHAMoAW3A4/psUsNYO+XfjGOz4fDaBPxBIKH/E5Zd6b3vFH+t4D7RbD5f0W/eoLnZ553sPl26YrdUTg6EnrSTQxN6mmau9yJp63QhheNpVXftztUdif+I9hkGOq0+iAiGQg4Hr4eZekwGWMCQoCDpqgcwAMJAJDg022eJCFWCvERYvBPvAocYJxeGCCKf07skR8XyZrSL8GpJYTVqw6O9C29u/0hmPHSMqJbN3GlVES79UScwpx1Di9AZkJHfM5ylflvvSdlLyuMRrskhPi0hm5xsr9sWUQ/Sxddp0AWLAc5IDBBYAwACdYH51U3wDDRl603lgxCpqEQjeTeQ53gau1DrCLUKwq5/n/pm6yqcbKN3W6qR47hPRSo/G+DIuKwQFj1DNMa3nyrKyMuajVWqnqL8p8XIuYtIaxiruSyUBpdU+yL2lD7UjAqo1WiFgW5Au2ooCUwH8AS/Ai7+llwj8bs7QnsCWOQxHwbuRGFkapRWzVRZLZfFW3rfTrqQ/cLXpsuSI2TfeseOIrdB9NnpcSKd2r0ewgDpqJeuJN70inqnqcTUEv0aXJqxvji6tuOC8WePuKUjqOIw6I8c7AN+gbPxsCDwCCwUlB2VWNYp44wczEg4HZ0lRH4dY/kKJ0ciPkahSRn/W4/37EwtRZu1GndLbVm933KnZrJbH6GBk/p6X4/lS6gtfqGacoVLiHCEt24Nojd82eR9lnFJa6NeOcHKIvcTVg8IywxRqYWZLAa9waKVANxLwgSbc/lwqkaCekKFBCMly9IMKEYDV9Ire10wi7ZkdjVbepkIMWIE/zQbTGmWqz37ATDT8OlI7rjbY7wl9BWzcteiaMxtFymCaqKdp0/mpIVFdUA4FbQRW+KtsVhJ+QjkubdUNNLSR9EAMnsIiEQBuTEADRbPMreCEajkgi0cdGjVpjkguoYnu5UmbaIrN2jGuVS7c1Po9Lfo6fqrUzSW/fEhinRQ+xFqVGlEPjMJX5ujiFFz+0WKRTURPTvpmxAvxoFwNEOC/YK0V0vsi75qvjN6w9z3IsPCcYCjLC4EWAG/iZ4N4sM83nkUQBG4zkX9H4alChhyjSM99ZOd7F5llRBd7WpKc6R1Y100UdrU7YbS+cc/46HKWTD3jOSUncrC0pm+mUjlnSJUiWe9az8RAUQ23Z1TtEWjVIkNK4dtUqQ5UREKf6KDZMDqoBq/ogIvACdB5EbBLHnK71GFAHRD0BOkaNliJlEPEFII19bFvGllS9GE8KjSlOkdAVLNf+0Px+npxECk7Gk57y8LzMQMsaEnbKKci+HGtlZpzD8v3moMhbR0TMdLHJtEudTKpHn1KphlY0o+nAs0paAnuAoOZCA9sAqsbfJIjF4vHk8MhAGNhUp2Mffliy8Wayoi1edYfGsiY4ucl0387Aq4SgV9U91Ky/o1tw1Ulgi73udxLZyhZrImjKGTsxptTT1eZ5oGrSW+tcwTeugXQaxyIrFUvfsXF4Hc3qRFki0iJgcAR9A6yakAREAc4OgzcDtoRBZPBhgAaQEGkNxy3vWsl9MDfstKxv+yOlxRVEVPMPxnInbA/+3utGVD5W5kItJ7aZsrmJ6r826O6LUKueWrlCu7dPZ5fWIeRcQPK9yDlRomHuCJIeXRJAHFH/+DUIEn0WYrpo12sgArGOBApknKL1gOBgykAxgHIiToGi2vgfPQaL4AFdmvgweG+1bzgmlUfkf3FCPMHP8bPu6cJodfA9wtVylt27yRe405Cwz4xR+F7vog86vnBHlSRuAhOhIfJWWenLwUxX2oaWx9/lE/osXxKlF5Ev572NU4X157PctwbWPIg+6EGwCNwEBB+QO4tEmLQ6ftQMpAOeVnEqQyvVbWs4otrBI4K/8QRZpmQv5rENog8FVTPKsdsClsZWfjYyOjNMG100RFGY6aSW8QOJrwlUboV0/wnsmrJqlrVLagkSlC0ekVKS2FQZhZyhr24tuRM5dpycDh5fsBvQJAB3IHFfOBEsKqoyDqAC6BFfnYQdrg47EnK2mk+GRyTTdtSyr+UdCbmNbSyiVv+Qha+G6jxsaBEJ+HwZnywHz6ORyJxu7ahd3rQ0MrxXD7C4+RUK39lx6JdM29QXatTq1zDUpyKocXwnEDzYtuKWAQuDIhLu8onmJJiW4mwBKgohCAIg9PMZ6k1ajMnBGnCX4Y6vIxq3DrpGBMS/FqcSLp8bpApJx69rcS3su921P+Bb0gY77RLRdeZBVtVQl3AzvtMo40H2Hv7plDbuXks6pf/9KNd525XQPZiZpD4OPBcJuvJhyE8SMCkHg9wew4kI98LOz2M9/1ZPyIW4kfZmMYy+xLCvlyMErKkY+5PiOm6VV0YQWKRo2jDer8tZwdV6JNWXVWbDyRuZWnbH10LOV6j5Jgf/SdLCUVoqfzZhnHOw6YjiFl6VsaAVssNEGQZ791sfzGKDhgR44u6eg20fZ97VHrQDOFb6cc9zbXdKHSkgFCIU3szZdWRly6NJA1sVgkqiFzGqnAZzwJzrgCpOHuh98rXKizcnoDel6Uq7Zi41xECo8/fQhS7R+TariLk1wZMEJHuPRkAhcHj4gzpwjsUKLnEh5ONn1BKE5P78y9u7ptkrzxtZ7r5ZTCVPZGrLV03Rp266LORovXc9xj6UyjsrdUwGpbrad8UaqVVrlEmb3uZKQK+jUq2nntcUXR3YZysmdRkR1XJNgJkFRvoEIJMhBdH0jHFwhgNkEqOJpAsalTyS+41JjjGQMuz7qVoNAurMXMZ04VEXMIxJCJtnK/y+/mCto6owMlLC9bNRe8sTo4YnTMkikcqoqV7f+PKS7fq1/nViNTLzAr7ryqEyxoVXKohcgrgYGOJGtlIAKJiSolbuFvgHLh6oiprsUJCRIS1SZSHCex2JTimUB4zHLfF9TQvmqwwMKCOhvovWTlLVliSM8Vw1Y3U3duuEJbMoa7nscjdPo1FRwQKzulfJc4auOny7EwYQi4pnW4m43lQcnErwiYxwL8RUBThLA0GfVGPZLH4R3JQ4GosraVEUxMteM8Wuk2gIcOOiskXFR1FXg72ppnAPENUIHR7t4VBr8I483I9TqIsZhWkaz/L+e9eLJVfqmA1sqDsjLqENG5V4eknjCQ0Yl4I7FxwiPn0UI4SJhP1hYC4CG8axp008EJTF20xHiynuYKMg2pebZ6iZ1JW8i9lmj24+s7s7OxN9Gfv6nIkd4cabR92xB/8Xg9gQaUxrZWTImD4r5Ot7hDpct5OzBl9Aby1DZOetSCoLjxkc6etFZl9K6eTDnSIqBTINE5Dq8r1f1+dyyx+HYARrgBzPKWnYfegxjFCvbtzgvuE+dllBIZbSWD/dzu3scpfUNnBKbk+kId52xDIKrUL7Ta337KuHdip34Mxmg5jjy+pks06jFbXNrr4N5YDKdLhSC06QPq45+pxXCeSpGX4YL71Kk/LXxap1Y61aoez39KVDy+6lsyGKk9IdUtWR8AvLU/Z0pVpFJf5UL1fnGE7sk/5LUpjVcW29P7mJ85mwmngkBr1kg6e+86XylDF8kxhTEv5lZcCKC4s4do8BnLrDo0AamcYl7pEhPOSlqU1eVE21EDMNNg4TYBLNTGnFfaf1RCh6DTcLJ3tValU0ZuaJ2x4UVVKkEvoqfCemMNe/xR2TySp3oPpcTyQvyiR23y8ZV3+XvBY2S+tx3COjsqnykuICF7dlS0wMYJytrElV3hgkpM8HiJfCTJCAaLQW4d6pVOCmMIFwCroizGz0Wceu+USsSLw8pXNi4CUFLVD8yZ1lftSIl5Yv1R6VSHBXOlja6cPqdN/bsnsZTuuKhAoK2lTm2NeKEoFM+4UgPNiWW5O53bm1QOnMi/vImqoUjsTcaRFxPgp6tSSzgtOqhqEC5d4N76EuBuu5VvJeWnqLHpH2cdaIireWX5gAw63/+DUIE3oUHRsieQJa4v3NTCX623LBSDF+ne+RnWa67AsZAqBcVag/J6E1cHxtb3g1GvknpMJ+g7L2/qs02QE1dcta1JakVMnxU3H1sQn4yikkXRqEEw/G0hYtcOjpntyaYtwLzI43Pa0Q9zpv+rd4vrenWfxaZZT1V0ss9HMmbSHe1l1nKWGW9Z11VzeFtfxb2xzsobcO8ZNcSkr4StyVhK8rytNoSFNUua9g0Ax9FWh5TTOXwZBc/Qxm6UVCzGkPE/3xnQfvWSonyUr3L4+SoTinl56nmv+Yu/Dpn4bGp+gu1sgl/wuu/7io9nhJiltqjbzkca5uiupzlTSNqSRF2iVPMMe9Pk9UT5AclbDRXbytnLF4oVrCSGcLSn3MrqH3d9MU6jDmUqZx7lYSoSwZCyCcqO9CEoxoC0oXTwlDA68x5aEP0esjWE0atyCmKIgPBsK96ZqwkymIl3mD9fx3k/0RZF0gfbt/W83X6f9JwlltEoJ8+25x9lneT0jsO7ynC0gZoliZ4ylrpo/raY5LvKtk0S+xSrbGSpLijk1eVwmeXxGlHqa5jroUknKITqWzNHQPgN20VCHfdPUMDany6E5o/e81XqZlfz1E9aseKOCUjwNz4E6zPdJlOIFBQ7ANYLyj/3KgitASM0TZbT1hXYvbKcoZMkKMEFYfF6aOEyDCoCs2N+DpZpf2xBJnxUIli+0o9CkfEaMyrT0GoFunRfHTim2q2+8naSBpEiT1PWSVrMa4hB8TVlVcBW3MUHXp4GWJmtBNEb5lxsQJOmbWJw+CsJO/ypfFtCvNuX7jcJwlUGxsoj+ufnQGgWDLgSj69uvvrHfWA1PQMfO9pbYCYmVkKZc4Xcjgxf1eqCuGXW2KjuudT+Kb124OEnXhOqpBA08fdaMbcI1qe114F9C/MTEtiz63TUyCgiAhn0+SCJFOPRsw84/G6Gkmi32lSyZKdnZEL70K8SrAips4lJu6kqhlqkKjOLGbjcDAQoazzAsIKrddiaiDJ5ZR4NciCh5+UFMMNIE22dYSPG2F+YrdnvwSe9wfockrg2sW2iOUbvLX0345ncnf71XA3cZ7MlvGJHXCDOxuRxEY8cJJg2mLrulrN2Qhdl+D/yuG9dk6J5hLBce4Nd49ox0yQ2K3VAbYlxQ50qzMsZQ1kzNxLh35NALEsq0Kw7fLS+95DV0Ju5EpqP0MqokMQ8j6QGxeEoBNtcQ3ohEykv59342IpZxLZ4C3qL1mUErejD3Iwc5L6XI2z9TCtV5e2mjT5wIGQFb7DfpxwxKZM5dL2aG+sY5QCzjK7JwmIYPAQKMVNHvjRGfQT+zvM0/Ji5lH6sEsLRqWse6M360ldX0z7rROMSDAqBsU0D+phxRgeoL0ioV1WlwyDNbGevnas2lI4gZwHzzo5yfJc+9xVp1SXybmh96JnycFpCyQNtN7K7RypWGFyPCC5DUhqBVDZ1P6jwjBan+eSZgQljjM5HgKF8bRhwmaRxGvgo8tuqWT5gvTbCQlrjFNllmHGs81R6Xp8Vc5hR18S1ctZY7DzF/zoRV/6t98a2SxQEtjSzmTpZ7VuC8GwB4Qyw4IUtesvs/iLb0W9PKSressBF3buRtz6TJp2XJsjv9MXCpIkFHpIM1nZWeEVVOZ1jNzadVdQOhLi+Upj+m0YNpNEY1VGgwS1GjCfS4xWKYKeSmAgcDyVbhN9TYiDzBIgYQCxhshz08zGK57vVaprOiiE5Kh9Ol+/HDqR03c4VZkV0MN/uJvPqMwtJq3FeFoSEb9BsqJu7cgLQyxpj1TgkKWI1eq+h5ay5eTivxhrzxu/4ywV+CZwZbbJZKLlhhrgn4TMFAL4ECKXqQr+n6i23LMLw7BfSrRP9R2bGCh7EWxqEKzbXMDwzo8ssb9FGlnN8cptSjqoJe5JMSNL0hyX8A7O31X/To83o2hK6pd5cXmcqjkm9i4CySeW93QcU6oFiNcCXlzFqS3XfBng75qL4orihwstoAxtb6c+uRWhbAzVLFQlTNAvobXmwVbfXRsEwadxDkrkhaQ4KnOOKg0//g1CBRvFO6i9nICr+VuiTKe0+b9yyNjPrSQkDVpO+57EQ7mtBkhwJehd250MgwQa0BrgaYMiKcZnYVZtbXaT2l3xsLKs9ztaBfi2ke/oUlGF0jlzYiyFOKZzXiFODZ6XZAvoeQeTQr3tJGNV2qyJQSBz9QLWHbKJe8sRWNHPVcv7OrmcoiE5ttNq93c9DYMSdARNAUFxWRkBo4CYgMHAZmSSd0J6mQXTyD6wdNTKS8mejpYz6YFVL3aurZYz07kR8PrHrr4EPxQvGAhxr5BYRLV1K7rd7WkbxzGqQ13hOTrkg/b9xvdig7BYrMjGqTfk9nqmbMuTdpMLFKKJoF79ZsHaQAn6XdWQAiwAQQBSIB256D7BPkbxFg3FYVbgEXHWPPEVQ36H5XF+J3Fn0dIHzCNRRSS9lkscg2aWC9RT5FQZDI+i2eje8xGMqNmCOV+mDoQyy3akLzLUXoos+QxK2ihXqGl34NRqZKDWTZJKwozkFTM4AJwjkO+wHhgAroGcgGeK+7qDFZ68/7IVOiEQ0UYGS2G2wZTBfV1lJNb4iwI1HnEEGYo/zUGz4rHNDixkDNcTQkCdXCEbWtP85HeDNg28n1cJBejqUu6v7IxZewpNfCbXJlWNPfWQuNLlbSovusim9uTjnWGnwDlYfNJ9AAu4ASkDTQlFEVZEMOputupXS3VSDcBdTmIF8QcDD+r3K+gpsUyMscucOmFEH9776n28gpFII2AZ3G9x78JZpyLynKOjDhRDg0NDxWOPPyVbK1FRphS+IS8jcD92snOJOh/DM0C7RLJ2tGr5CGZXcQAnuBQ8k0AMXABcIQUDGkj47hmVq1ydPqc5OQOqHFkRwF6wd1BzvjdtgjcUiS+OrQoRemShSpH34YQJ0NYAzLC7j5TdB0O4lQLem3G/CTismaMHSxf8grArjrO39UblSfhtntz0BvUkBza7zFosMz/hELp0VOVqcgBX8GSQL1ARYAA6sraBWojugeKOqf54R5KGJ/AXu0+86AZzDGoEhcdG0hiwnFyEUe9ysokfvSjpjZyI5d5wSxGUx4mLy88EHa2ithCJzYE8pxbHI+XiL/WHqdpnQV6+wfRTXf/IoyMkW2NC5iyEzkGtRhltszXz0fJAEs4TjvAA00Dazmh05q2hRufjxG2ApPYUMFUlPwiCDkIMXiL6VgpgXaQ9UU95sCBEhSWjFzgBlD3yQo++Mwh2f6jYW6OsM0p1V1LRaQrNVcsE2pzBGwg/MeYrhWDoWpamPxBnLLZ30xWL6JNxkDkpwENN6lNBsSgAWfdeCHgARAAS06CNAG98NC9LqxV8ikusEWDWxhMOvgeNGyRLsKUFdBYYtzSzMtOYx7MGClyAqxsJLwdLM6jYJJ+bfrnIJ/XoYt7ls9IbVTmDSjxiCVY45Ob/GvCQyz7uFRUgHJJkfjkhvFeM9Ay6veXHiBJQm+AyGBIMdcAS2AF8KXcGZX1bvXYOj1awswewDtDz4aHA7mCYvayHgKaNFU3KW05Vp4vU0W8FID8QmdnN7ENcsCksc7SqeATcTN3yXpvVUlOIgMjsT+Z6T4k1zuGKGO6ojqvbdYh72vfvGnXAW2lOHP7mOKzzERVvhCEamGlwCBpB51wAH8iDeiuqfsTHCauPICh5yowpxMcU9A6iN3+QSSGcssM9CzOk/C0U2U6oau60IGLO5DGQdeoh2eTnk65t09YA0KoJHv9hWhOwjR73yHXVorIURvxoVSRqGPpEH5PlVike2woqts1vL5qVFMXoAkO7QDkJhMYgGOACUARLagvO5gpyZlvJ5QKUZcKDFExZ8Ed1s3im8ndEJ7fkw6SctTOwUTG5ooEkF/9GtvfIDd6pBPfdEYphqYMUr3Id/YxlkRB5TgjdHRaKi1hCRdTo89S2zo/Nqf8Xlx8qWfxI2/GIjvyFDech0ihgCxYGez6QBNYDPTkN51HmDX0eSr7KreYNxHePPgQ7HS1K2bHMDiU9DEJl2ZHjJpfa7cpdg79yPbYrOcWWOMgyWOIoX7Kt4Xo7CmNk/wSG3Vv5MGaYZ4JeWoIJlp/VTO3dkWijYbPqi8q8A6UXrxEkauOIprzj4zGm+wB1decIWAZ6GKGUTjXJydOBdSOXTvd2GBFrDN4QBLa0B38XSZWa7Ibu5rFUrlVxiu16p1+Gehdj0vMsrBH+ZRC1VfN8nyoyqC0E5LUdmrUqRqJwIbu4VNUSj63kGEGvM4XS4SepeN2n0Hi28Xlj2qYIadUgPzK8fJAHb0GjEgGtiXCbZshsOZMVcaZkkGZ6NeIYH2xTEq3HThT+yUT+pDlB8hp6m0WQvGV8jmgEymgvslCynWQ+3pgqTly/BGnDqkAdt66/tiLfyuSSRMBXL/CzpcP8sACqFMqq/ZKxuG6//g1CBVoFFNuVJUCp04Iiv2v86A5AVDsSMlgvMAN3hicSEAtwAm4ZdI3RQsGuToeil5jHgiosQ7qGkxrMhywc8Qa2/edZUtT6QEYDcQYgOydHYYfxTbYxSoXIwLp47XhUMOsmc9dKJ+VPMMEK1hICo8GeiJAiROJXEQjShnV0xZiOGHG62bzW9wfMpXVcnfcsvycl8AOzWaXbACutsTowC7QuI2K4Nt1ghQe8LK6ZAjUcalgV5H9RZv4LCxfhA5+srfb50a+e8U1jcW6t7T5w2V5lev0j5iI/LCE+zms1bdIWMW8JCc7txfOUZDxc4m8m5kyYbAbEs50Sn9qiw0VPJClC9B9QgDzB8Gaw+TE9pASCjgbXA0uBcMuEB6oBpC4KLq5i8yuJ3MlqbcGaj806EzQvWGl2vWbjeSmUNjY/C6VXi5Pu4SMJvYSp7980zrNlhYqAuK84l6yEogeUaoEoYQK84uwdt4kv8bONsPpfQcjY/KswZ+Ek96qDn6AkW6S+/2aD/kproeqahAl7ISkeobjB2sGEceDMQDXyP3943EGtpGAzxs4gpobi0EjSRTC05c25R15LSubCdz7DQlwLAkgMRY2Far/rMbrpB6XyrHV2GUXXgfiugsIRuH+lYkTEn0F3nG1HdHzqFY78SlH8+kTEkOemVjUREudu9V4d5hdGHJpFVfh51grQnGFaQEs0lB6YCpTMXx1GuLYIYtcdqueEELESkTzp4pyQrgU/UwdSYrr3Of3OL23ObefmupOzoLMqad4HYuN7KJjydaV/HL2/5sL2SslP+zxE6IXSfu/gp9eerqZuLc0caSA47ih1l50xjuqJtFKZuH0ZG31SC+Rkp4k3uBw0ehPZALjAeAa7WJdYRIJHi4/7x4AY4eYqSyuCZIxDcE3E6J3zFbofbZL+e3+2EW2IzRWwuRFYThgoo1Yj7GctWxifzh6p1PQTctwT+UjTbUATuMnMiZm7xpPmbYtPJiKiXetZO8TzbRUH8h69lQyPQgw6o+eGEEo9jaYbFA+j/YMpACfhlwwr4QqRoEU1GN2RgxsIUUc9iLZh5E37zAmsgBqhDWUu5/Yangid6KwOHR+ThddTdsl8T2yt+uVTRAXVsaZFIzL4F3qnf5tWysScPQPeR/wc8WTrQNrB5xZjOSLxDcv2Y3mLbdMqOKpMoBslNw8g0YyKE9QEU3PxQYBrgEGnsbamOk8CDY1GtGMwDoCrWhSW4VtFod0kcEut2c3zjRVAChs/VMjzxFqCOJ1vXHYxv9IHX3KV1TN8+PF4X9FcqrhKKphmAWNp6bYZYLlVc6klvJNnecl/EBpbYe9AMyvguH+Q3KoE2DSsZjt2OaFLvsBPsIXgCM+kgWCACsR4IIakMCeWfA3iFSW5gQCETq4WpCMIMRiKbwBUzvnUP32bRD5FJeG5Q4dmVMhQ1WRhVL214r6VaD2KQqTJw3SqAJ/QSo1kuw1zSzux7J7R+TzCKaZJidAOPTrixGYFxCrYgKfPhpI5mS7ec+vgiqtYeoEkERR+cB1kqOXgAI1AyYTZvQ7ocWIjj9p4kYwCnScETjf48GGlcVt2OBZg3rOOpqNG34+b0H3mvFtkcWWTEcrkJptJHFQ5hCeqJp6GWnTBPAQOrdQQqXeBqp3I1oqJ5T7bNbpti2zEznwLJ9wNskER6WuU8ypkRilr5IQZBMqKQ+0FZ0EwCJoCOYJdAIGABu4FkWqjjx6Y8CB3Xn5TAHlEOiKQ8uHnwaTgaqYt02VRzdBIlOZJOQ8gA5se2VOT1ePMF6bmwmhuZf2F4imimPq/4paK9F5EjGCCpLliMRxx+RPjxC0q05U+qllWFvTZAQ0E42JTHN55rsPN6z6EUX6STQRAukSRBaMAmezAcwADnynS9KshqhpoeRGKSqIEDDqTRy042WFswvq0Nv4kVjdC6BMzpkJ6xCYADxiRzhRxnb40Su51PUF1iNq8gXn1YCOpPCmI+oc4huWGGYzIFdTeCcjp07MSoFugxnvkWYoI3gwHEQVdMzrE43LlPyx0CxqmT3TES/QaT0iAEyTUY2IALzAfIHAzpTwAmEGuQqOQ7E4gysQEWKDdoZLBRXhlJliEDGBEhE3+LMS5LywCFRgZhJctwtw0mmiMjC0s/GtkaTUFEFykp3KzYJYXeEAtp4tYUqkY86kkMjygnU3/9CveIpJNaM52j2L2kiWj74M2GM9OjlYKzbsFWDnIk2FAQAJVjhgV6AAbSVZgKOwCMGKQCL5sdqcDFRUQM+ECw+eBTU/n5T35JZaYKldh5N3drt7UzwCyxDxMAnbREIWxVI2+CSZh2uw6SnaG4WWkNzXRRgTCKZMcq2KWP7OmXaSNS/3HkXOc987LjHDo9OCifYp6iqqOR0ND8+DHYoUPRAM7//4NQgWYRQ/jESFAoDtIMFgH/w1YBmYAJ3atuGEXDPFXAFBw5/XcH9DKxYorOECwdJf/qhPqHCkR85fhdDyPRSaYvUeUNIRkXfZlWDS///j/ts04KUUavYjGdRkxAsEjiVi4GQi7IshyMyE6mjczajdano8d8hPbKKNzIGpDhxdLU+/5Clj46EbAQONSFtgCEbwYAh2ATfD6ABKwALQKWiBgjsSiC8YPWnHcXh1QIHBG48CChIOgvGor4TYkGSDhHVEZLcltySJ24fUfQSoQ9haED5xnhey6f5uECC46EQEsTfjXJTYTYV+CMRzcS6SVXARXbaMp+Um72qg1Nf3ctEyOLmGgmKSbGC6b/+22V9OGk1hMY+lEgVVCv4AwOB+cCWQAn8AdUKRiag70VmGQQL5jfarYEAAmUEsAsGHSQL+892z2XzRlYNycCN+JQlwRC8XOFCi3lcZdwPPm8JL87pHvW1J9t3b+YxtEEGSihL4fU6hNlV55Rx7+72pX3XS8hBS7PKdsqJGuKWqMCqpeNztO3BxhckS+GHhCthTLZY5SwOAPxgdtLjAC+wBY5WploKjOXBAcOzhZ1Qk7wC6gQISrDU4NIl+SG/l+fC0Q5Q1UWE4Qc5Et7KClj4HuEENxFKf0nRxE8ap0gV0XKoQMIuoGdw69EEpx1i1g2VSRWIWl0oTZLTJUupZf6xJHECiTcKswwHpQ7iuM4a4OKLk1zfxhQJhLK/ZB1EAbNGkQdkAFogoYp+F1gX+zQOHgbfCMtehtoL4GbCuobhG6+ovqsY7fFYh8wy0MvUPGfyxrwDQyoWH3coDzFfdfdEjR4NuCco8krD4JjtPMo1eQ795sxs70dOhWuWIspOpvKXNYS12szeTE6bF2zpAeh9o4aqan9Qx6oEWwO5PILToOjeoAR5GYwyIA2UGzpjB/IKQYeC3oT3CX+tz/Ae6Efmzx/MeLarOaqhw4FAjDhvIdckmIzn3d+FlkeE2iwEVF6dUiaY0eIN2IV+MFNWxaqenCK8JmiGGAD2hhgo8lGUlUrSJa2ys4xeFahethYnqhjWfFabkHKUnDzVoQLvIsUSIUywdOkdbAHBT4oRUA3kKfZCBvgbWTaHlRskKj3pJfBsQ7sySMgitahogyt35E+05oKbDt0whJskzsZsxc7mhdiDGm0b1awiyZL7/a4wo5PPHCM1H/IoNhJyGOjERjyIJG9WPReIP8dgg3b7H95Fdfn4p8zwzBkKnVRfc4buEwQ+YpRJvR4IlgCzadougBvz8R04CqgSSl8OEjb4Qnms2sCgjo3HR3M1SSvFHyH/IzxSMg1AKLZ2OiqwpkLVIqMRFeLUzSIi8bGHyS6ocDrYMUpfN0r1bfWkKbPjHHC5jxUBcxmo507r5pDxnDZkTfcmb5BoJ4hR8wZXL6IiO+flFoxCwhNg2dgCa4Bg2MwysBL6f4xQCewWYt6aNHYRMGmLlAdmcUrKFL1cTRZB0sPM9ISUwiYJuIKGY884Cb0toSOSGpIgriSz5jtvMqvJ9QfJCSKmmzYzKbJyEZELnRnElQH17/Vd/RML4F+p6/Zaz2ykD8egCKkH6nmXfQjaabDIBaq43iRPkA3iuiTgAT0vl0QN1B/pxQnWOliqdi8yjtR5Dzw4SSx9yRBMUlsUDIhsOD4RuRJNGHCy7lDM7IzX0kRIjr3N3bz1/XW30Lea04bWs/+pW4i17hMxazl12YgxQiBdGlqjlVqKphoJ7V33Ta8kMdVoHxNEwZF+OeytwkuN6g9z5t94GeL+IyCKA+Y41vE1aWrmbnkpYUm/Af1JNo7ozuelX7N0Z2cbANFQ1iTEruGGscXgqVPq6ruVgISkW2s+I/zcDSzWmitzzJDXW9p73N6RKS7yfyOCm0y7ua14WuWk7+adUboFUzv6tCVZNetQPyHaMIQw+qAadBHWGYMfGYrUhY4F3D1SpZ0kwKNahIdrgETgzNgFHtTR0kSjFZ8Rttm4ymQKXCmU0dF8WVFN06T2MgdXtJwQ4KHYTKzt+icor3I08kJQaipgyBor3bpaZPs+0xmKXCzC5Sb/A8dpD91hNsCV0f9kI3dRcdH9UKSwAoYcMsl9irIQtAhiX1tErtlAaOBrYV6uOTxXFCH4/23+7sbEbSKWF0MLFiyiuu0ty6N+3mj1DJioTUVTS/pVPCegUN71N9ODbAl/STfrsbD6QtkOQKeO6JGVi7TKuIqnaJsOdLZkv13i7mHeFzfwZAmTNxZDyfqjk1a+LWzFqk1rpb+rX0vJ8QpXohrBx7S2YQ09OyXCE6D+B4U5dRPqrpxDDXW2MGXR9zjuKFoIexQudnS9UcJCUbvjnuTewqqQ0gzBOu+PZVUshzZWpNnqEQWm5DKPeA4a4ksJJCgcSrDQbhVG6B1E7Dk2g//g1CBdmFgXuB0MIoAI1+OnCVzVCqqqmpvGA9PPpszvuA7inUqryfEMD18TU99a2GYCe0fz0bV1HkXmuSO+WataXbxT6ZeqTHA4r7oVE6fe7e3m7wa1euWUeHeRUYtOqnaMpz7y52Xm2JqNHr1RtNmmlV0qWXnZS+EfpYYxSL3CoPV0ki93n3OgOhkEXndvl1iikWpeIpXXqWA7sJq8qq1H7UF1PY2fmmKf66DyXjsFb/rctBnFd1nBvpaC09LOIX0t35uPSsXUMP+p7V8NGY5dbRO41EqDDJFMddJJjKZjqLXDYzpe5BaTpJfKYXE4tiedLc+in37mHiUMl0/hEey+Ctcf3UX4KMZOQVGr77S/xY+BGsL9k9RSkze+ffOQ2UT+x6yI0SX0GkQ2dwqrSOG2zj+64wCBQ6C4v8VmmytEsXI5RQZfU0Gs9yst8S23Xr2qwvLDYWzwrBzhCEhpX45++Uew6roc2nVOaRa4U/8wD8VyOJzC8tjonv79w8NuKfYbJY6TESAFH1l4q/BuSXThMeb1zOCtA+dYjb0Rk0zyiF2JKP1cLsZtCpXFGu3fnW814BBLqG590PmryJXdVWc2RNlp8CkDYvQS2COJ7TZHHUFprlV0Wd2uSSDo9teoeEvi7vhd4ov9NYqlThMcFk9L/BIg377bu4+56PyLOJJe/6oSlC3vBTZmwRbV4rD29w+gUlkCACKmoEdmY4TprKGCCPxt7CIk427UtBVVAu6jkEMfakynqZLCi7/FDNgSFlOzPE+RnY4MgBpwsATG0EMmNbuOBxF5zTlDQiLGTIMj/mwcEuqYjAC1nOLimTPGHjavMvjDADSscrhGd59iriFEZn3eQVFs7cIru5b0rxjiF8i8Ru77jj26Kz2sRW1b15j33ZgNga0thFcAKAETY6eau4YpPa4x4vDSoyoyajBH/88VXLPP/WsxWMTQphid15ex6lVVjT29S1url4vvrbCFL7oJbDbYq7SW+L0jJyzDKPQG2Tmsol+b5u9JEPh+8GkR1SJehO5M8hZ2STP34JXajKUTSIiS1cLVFSFTsbVurqshZkCcS6Qmoouo/1fFEEEizoazYTHvnR0r3LYpmYrRX1PaXV9RQuY6WJzF2PTMqXA1CTTNwGybHbowZ3UWyMVuTJmCbgdHMASQA/AK4+RtAiIK6DU69Ti4W/8J8FC6qJvK54woVHEecPkiAZaTS3WCa/2GZGQwpJkKCiAQXVgLUZ0VgBk2Ce+Yy5lTRQk+T5upKZiDEobdxdhqBzLNdaCC844zsYuhZUorm7a4K4ALOAAWkdICsAAG+FWBbAFwAqYBbQAfko1KB9tuQAIlQFpB026BSR3wRuNuAaIARoIA2GOCng1qG6cQAxnKzgWwh6XipAypLwz/0qj/BRv2WS2nnLK+Z8vuRZ7GEzwmrkEXQxefuKkUvsI6cMjA2N0AxIHcF+GuABfwAAIKABvBpAAALRxgAiQ3AAdsAKuAD9hwNcA4CxgxmwignoZergS+FAmpnpCDBAwB7pKMKn4eG53sKFSRvGSUNgi59whv/FR04+D1D3M84jxm9LGZHA0IsDBOVi/aJCsI3f4ZsNwW5TZQIvTubnRnQ4BdA4mYABJQAVcXoBzgAMcNcBojhAEhAWkAM+ey8gLdK18LAgSXgWlmTUys2NfVAMsOBzGLXvSi+6fRDGJYlyEKmxigqUCE0WGycSzTAbDGt4EvKbpy0/OhhmjFdQ2b2jBv6aFEIaCvCKCC4YNXKJaoJcS8AEOKQkAAAScAccDuAMMAAJNHwAcxnwBIQAn4AjIJ0iYAnyLhVpzxBkwNqw56ziHbcrPhyjfdlV2XkBnb3MAuU22k8oXGQ/0FjnYeHfC2CoA10RDzDRidhi2NhNTGg8R3HnZ8C2pibNZJqGWCXF/TkcmT9TcmhDABggxSigAY8ABhQUgA7AAAVANkBsHiABXwD4gAVsZKxABgGIdw5zLl1AGhJOXU60QyzgCBA8tz/+DUIGEsWIB8hICGoArIcTKixvwlr68lJZya1iRIKS0AZf1Pz3hCqiz18O/SR4TrVIGHSDKmEqeqZgqJP0vrjfxtypXJzMVddo7tOud4CMJH6Jj8ktKkiSILWikj/wE7pIo0QWOamjRRlXZC4RQ1GgBiqgrwZx2jGLWaIXdAshWPTTvcgZ6+egjPLo02IioAyHyPgSfCA0xK8/VovFn5SL2IFXEDY4LZ395Lh9BaDL80UdkOzvjoD5Z0h4wtBHXRfred0mzOrOv028RgtQ/WDjqCJ0IfsGrp7PDGVxBUVNuunkXGb+vvzaXaTZ7lR23muFPoU2sr9F7N6/M3qYXMgNqb1FPu3633/pCt0XoDRC+5t1D+YrMXWNGUpg1Hv2aiPYcDKCVQgPYOUdT2f4JbffMRoofMpcn7yB9azTOSgpErlyQDHM10knSirUwwQuZ1EywpjOFrD8jrVtkWlM0hTgO3asJDJBRvq9f3i1vbdw221Zu0tXkhtFeDpv12K9c7AdI3BApYW/cUp8aAvgo9SDJ/sUY5vw3RY11u6HC2P70y5XSEp83ZdyAeY/X1hgKmbitn4xgownaBIlfd4odoGiOPDIAniKYghfotfo0oNiXpSYbL86Ef/n5mWiesm735DdeRUPQNkeJVKQ5Vu68mNynbahvS8A/i3BgCVMcFVZWbGgMoZKP2XD6Ho951lrsL+UZFTrI8fJMxzqFxNt6MnErex3T51Uar1ecyJWC+C9YGBwOiiBgW8AVoaoN4KngJPhosUHOWH5gIIXDhHUk1CN7ihpGRL51jUVgttSajgojs2RGn+ZkgHnjDjSuxSUr9s2ZvjRHF2dhJGClyKNtIKSmxGs5773pZr6YOULqpnLU2DnllLqtX4jdUsoi/VKwjHffzgcZwKjGGAjuEdX1iT3pPthkgqIXlBvsp6UsdQKrMxiWVwxFMNB8VLHeSV2lp3JZf5NlV9krutfDc7WSzh4K7OgIYlZU867kJLHoXQBxlKMnXMDMpg6G9qEm0bpjs/6ewU/IfJ1raV8yXsHZzVLyc3XW9Nbgym5WuxItsZEPDhnszQ7AZuYLM6FyjV4zqIhk9P5GyFgzK0ZG8xe9rleKu5EiTy7jANK+q1NbsnBQBE+YG3peQGkugAWb1CqxyxoAm3opJmf1RsntlXAxMS7w787W3T5/Tw4kuGw/A/IienR7uZctDJxTliKPzLrCJEsMKPeQbAv2vAd8WO+ZssOwCzImqMukhmQCekQcCOeG238xVl/CDKyHNOHTrbhiBr/vmMPuLR28+dCSncduFNA/FQfIuOTWLjUt7mBEtBlZxEpZjzdxWV8uaVhaqcw1NgSTxbXNOSivbuYbZoTVmir0SepA0vmXmGoEjhMUNzis2AwhBYsdI/oGExdkwuW87sK/UqJPMylRz77F/0r6GZMWY4bpvHLCydmphWmRjTmuVwaPVG4blcbF1PPBUcllFJAGbLQf+LOJITwuvw24+svkoOSKkCibptOjlvTKBQdpRimEkQMC41/XIiJZPJzlIlypiQ08d1X+m/tdxtS1RjrRbrG+Apt63FDXFUBulMvbW7wqigT4Gs/DEBE3tg3KqtTXHtAaA1AiNBrmUkM82FlpHOxss6sVAvdJe/McbyRaj3yKEa4esak9Uml6bBFcZw//qLoqIfqUd6OEKk/Dho3yScJRCGUeS4HVBlsXHM7utNVDZk4FhL+m5xN0qesZR4vB8y9Hsex2hQB0Jky2EDtPKrU+zfPdE3sfNd/XcKcUvgxql0uQzBroFZEcrRxirv1eD0t1BrsbJ2TBbBlzYr6ojDWDpN1OLKY+rISxkMEEghEsS3LSKPC5mjTVG/hq8aTL0lFHeggBHhhhT8S9FQye7RH2DsXMJlLVrezFtft5Cy6CXaEHZuXQAy6grz+AsHGlpd1emLzWNCUOnogS+oVimenWWHr77ygLZfY6gKDyE7n0ltCIiIvyYMJ113fQzpnJVUBxMR+4sJ6egKtsLCxu4jH7cnoi1H+MsxbZr3OEQdFRQLveIvdbwiPZElzbj1z2SQkNNQYrQzsrCuGdLpuaBg4ph07qjTvH3NcU1k/AtxarhC7cMut1sg7f+bVQNaIA/Mg3LCoXs4XQ45fyfYdJGclHBrcoiywW8FJtGnyIAG2Qtu3e2w0cP+QPeaUZKdju7DfYO4Flr2dUdTn/5u1N3EALdflUIutqqMmzawrO0+vwtBC3FN/FI4bax61hKO8o/OyIwjz6saHGGLPz/7zXbesv/4NQgZTBYdEx5rHv4CVeC7ph3t+547qy42jecEaA9Us0egEzAIyC6wkA3s8kH+kEjCglIDKkctsNtPjAdCUuzI7wbojBTwvVSJy6PV3CNn5dW26FKZq3Q6H7+IVlueISX04wx/yxXKNbvRceBhDDisWgFIwFLKB44g8rIkUhiwO1Wgm3nMLcmiM0tSk9BBwC53rjDA+ADLB/YJwdmI3AX2/M2obEBOE4HRFZiPwHGiKUAFWBXTfPSEn9OZe1FGB8irtHV5nFxKFyhosTxxVsdUkIG5KLic+tTKgHqkvYVd3h5PyPyVrQmYa/wg1siTT0ZH0WugwUD8YsfSrwUQb0AlcQViwNOLYFjhDgQ/nodep53AmYmLud0Zi5MO56qhS5vS2qmj2cSIXqT1lwTNc/6W5f8g1wynarzft4lNJzwzE8RuDA0mIN8TxY8jPDtt2rH9b9vJ/ySG4aIJtruXoH3D9Vb5mp8vQv4icpFVhAhkBa7pmTOjX22l+0zlZKBTtaiw1rktriS+5CItaJHka86pRRY79jJUJf9OvoYnY63UdWw0D3AhsaIlVUl0s7M0GXs6p3ZKZ+RhK/2Sbkr9YaOrvrNcnmEN21Us5qelfZRP8VBBhgwVCN9PWLmNIE5hnT7BvY+lcYhKWDQOpMstMvUmFsPpInLQdMoNPN4/U/eni9lU+qjLeqEoUqwxmbSASNBS36y8bqN6GS3JZm8e4n+7lKysyIimK13ErxgnkW8Wv8WpPjOEJjPyGAxZQPlryKBBvwBIY+zNQYEdoA6cZsUudwKP8aEzsKnQLESdrQBX7LFxlsIrY9IRQbUhVf8YIx6U4p6Cs+9hztKauHBjN2JD2oAKzE8h2BuaHluiBkt93CjPyDHGk9BvoPgWmkXp/jMGH8hfWWpLtS9XgO/KkAUSmUC4A3aoQAGFtsHgAkjdM6C/EsgY6BMIt4oAL0+EyiuiGVxg93wK1HVcO5LsXV9wVbg17OeMdnYXVrKHCMSFIpNvR4ZCA+IsdLQGRl7KMNzGMGPg5IIFgAJDEaP1g7zHXCnA7+80YnUdPQSmEBZyMr6xyUpBAY+lrQD3ASIApEAdah0AzyMjKgJeCRAfOAEm3O0oIOcAeIT1L4WKFvor7NCRIxHlptd7HN7eh9zC1SCyvGmUtak8NACaeXnCxGPAlDlwmuhk0+ANnNSOi6Xs3OF9rjursfsQlyCo+E3xb/sNoqQ4NR67l9vkXyQnMQKwOIFWg3MJVWKIOAbcHuD+ifwJBAT6rMqQSsGrDYI3ERuZFEtzq9y0sXl8FF8YsBeKeWivXz0sAacQIzIsefxZbkWOM4KuWe9JT7McugDE+DxmMpVWg44ndhyOyJ7tY88Dl2oWejGB+kl3lP17sg/72MZgEmEADtwU2LlisaEN8A/j9iqw48Fq2PjwcYMAchnLgzTUZ7PEWWf3iSHyklxdhppAZcpa/jFlCDi8OuWuNXYPykUF0YQmRme8lzv+d1gqBy4yFDMyoN4WM6GMG2/mSlxzvifydD3Yv8jzoJzK6DX3G4EUNNR1yfZSASCQnPhmQCMJBHaGulqhvqaUnGGIEYYRd+O2Fw9ULhVTY+EkzPWFkeyj0v1xZ66ZBDChiOrP5wwmCDETdLumH0aWZQL5CToF7AKXr5JcgvwQtNzZX2BTr/M2JAefG33GYsMvJ2xIZbhxe+/vdS5I8CsBY8FhNokvpw7AHSYpQkRm7gyvvqiGVTUza3EXqYfvXKA1dtXuBCRlCxE2KdEy5WWD+nZC6uqr2XlJwK1Mtro4UUb20cVeXp7tUPNl96faMg0Sh4mq8i1j2Ssqv/lNTXK+yO6a3NFhg8NxlLSnGcNkMvydlqWWx0K0gswjJVmD0LqImlJ8sadYTwjapGoOeSfysUYxQjBRCVvKrWEmg33GvIwXEnLWmJKu7tjHzwXrLhYJcTokRNRyOkUh1fWyD1/UCoDIbqzZXta27A/SsM6bnN3UgRSDlUFr4BDjSFmGheOMbExyivysYXMkWllmE79jYoFc6b5tixiRi2rXXCqSX45HOGRQ66Jlk3V+sa0SM9/Zq8qi1sLkpPFCyddi9O8H0LYShICVlCWAykS7SdcZAuZoJlBCr8nwPH68+M2r4ae3QtJ2d5rJgh7BGOINxLo1242Nacotj8A4RS0pl7Lv0a39pLuS//g1CBpFFvcv9r33zQHA8a7zvJkDsU/CK8LX6fIHAfL+6RGp8fjoodlKwgsQTyoU1MZdcEmvuY1Fmii3WgQAFGG0ARYXQdsiBASbmNHzaUmG2B5A9waQJckgUATYegJV0NfToX0lzoDVv7wDfAuvgJIy7Y6AidMonv70XKNqoAjifEjfAmZrjDlXARwEVQECC2DXJ/jVo3zSeTKSwISiBKnIMlvmalKCOawAFaAAAIMAANgAAADIEoD1G8AJAAAAwwAywArgI4BA1MmAbAKYGcPYAzwIcAAo2qfCfTgB3QBbiUAMINkAFyB0AHGAX4cgAHQdRngBjKAAMWTBgAWIFH4XDXC8AB1e56v8CjL1/x5IXpVsIEQAyAp48pgCXCDbQI4rUyH4IMApwAF0AAiBRgFiI9xAAO31AAvgIgHmCBRANpnXSKAhQRIAKUSAAuArDYjSrEq+AzFioUEAUoWIDEACAdQ/yIFWAcacBmSZxihhluOICUkWyHaE7VNoYgjkezSdHEMrXVwQYmXKUA6n5B/YqXexjSTpcrso0CPoKLsbZW/8r/CCs/Ui5RrFQKzhECl1fSk9AyqbONHeBURzxmRD0ayemVU1cxCPpyJXn++mIIyXRiznFfVcVI4+dF47Gmnox77PpLVnJ9lAT7RABvN5kg4wNKfASOsEcJ01VglwmqAngw2OahFtt0MVEsj2Kb0bx++o8AG7ngAttAGKE2B5WIOUMaoAofJlMcc1dWAIcrAnBzsLeM9bmM4CIz2YF79BNCr5OInXekDsih3geRMh9kAqssJNTNwh/hoLEMg3emGSiWCvSghH+tQhkHyfNJt551AyfEBROsevfdK4YoQxXHm3GPdHNLqkn7jcfoshgDBu21n83/SlKtWMeJKCSaqh5mJV5FsUvK+vDZIBR3fxcqCh7Z1a3UKNmfQdJzP4quFfScB0N2NadlVK7Y7syiQ2ipjJTq/n9mErL+eqSWqojVWNtuy8TDobD6F0uu7FiqhJz8Gg8Zr7C8RqMu03/dOfd06J821l2th9dy6ZipsqzlqLjdtaiXvPT621nd3yL1cX9T/dqTl4mvPC8Iew14DvVEdcZU1D60FGQKVo1vNW8xmwclI4FtWwVvW7FLDUUb2Ulwju3Ajr3qUdJnw9dq6lLm1UNawFLX2m7OXFPXRW5NTtRfUdTWRsDJVtVExV5s6PJWyMvZ0WLhSWv5at9c609d207U1mNKdN1Wd6q86CVkbK1jqWiv4qGjoOd0vGysuvQh6Oog5qRqqmL4pfZQiF2svWs42ohs+2kreSkbbVqrfq2YPCj4Wl5Ke9tqitjNVPU9vTRspR21vVS3LJXkvU0ElV00DUwttIxFbtfvNHacpze+VY6EP15UPHTstLzEfDT1fA0lXYau5soJnu0LTBtS3aRQeK/V3vf+FzzIOqxcUipDvU/lAJ77V7qae5MZ16gcralcCaZetfdX/PxVck11YMvs6eiqn4nNjsKvrpFC+UVY62bBQ9lTRKnYFll5d15cvH4cCZk7l7fdPQ6lDWeepR01Luqazm6nqmY7HzqzVooyFlteyhoqmw81PSTFQkRNzWDKYW7URMTob8L/ceppy0dA1F/bR8Fe7FXPWMXZTuRw28Zsz/xLVPCxo6KjerNsNegpr2HybywoKW1g05G8OCqvmKnbKASORIoCRV6qJC92/NdSiRv/uaXJA8W5vMfrKITW6gbZEc2vIY+/eTczwUGqqSoSEKs0W4Jr116Fa8ucjmLEX+d8I6dsbneWGbs3lfg8Wst5b/+DUIG0IW9/j3NfZ1AiqWiMwyIw+LV7m0LF0OMVWHYeo0DXSSgyW4cTB0yPRGg03XQy+z+9QWyTOg1Sm5i/wSKaumUGOTDJ1/RQ6RSuHyyXTiSxqMyif0aHw2kxG+QeIwir06iTOU06V2evQSkwiax/GS+BRGLzKTQCcySCSOeVONW7a46NzWzWeoSOmTORWGRUaVx6cymmRi3y6NROOxiYWGUQyGS+cUGOTS+6Rj001lQIromujPVqtokfS3cTtuUkV9uqzc3PyDdY771uCodm8F2ZRHphWPThJJAL7wJZvYjkIFD6bCIfIfJtbHcJNQ4hIp3JonKoHDonPYNbqnYt3jLrkqRoapsVAs8hp9ah0tlt+kuRtkbtlBj1RsaEVen2W4YL/7SWo3V8J0LKjtkWCbUOkUmCZSfY+nwPMaG0TqKau7/rUcfT16OTakxXlxKdSyl2OySjfwJHM0h6HrohUi/cHlmuj0x4cC+mBkUH6iA33nTKMpXguDarBq7f1UNynuj23Qdgl4TDp3eSownXB5Ob3VOoU1g8fzMVYaW59q8dzonh1BsMK/EM9dz+FJ3HikaJ3JGpRGZvfYppMNV7bSZ51pdb+zmrrNqgRmxZqZdPBolNkztL5VOMefGYi4UhIZdjN1p7lZ79BIxD59nYbg5VPkBotb1kDkOJqUyrUji8ql9egtcmMOncZvUYn3r30GuEMhVbj0GmMR28IiktiUIlNyoknmFoimxiOCnMSxdE0VlnEzrE04OsnMgmNVG57ZsjAEdH1fAPgqBc4Hs1w406WN2dt9J9zSvT0jtzMo+xjTfyVcLsg+baGykwbhPWTXTDT2aMomrixAhSIOHA5tbEW5ltVvJr5dEZTnPe2aNm3jMJ2mf7EKvWDHFi5ZHE4ZrZ4ZxqmHpSeRt00U7knWnsxazLdNym0liFC17xoS5kobFjFHiVrX5HODcqTroipWJZX2qBnFXyOS5UgmyIVPf1ukRxI6iktqV8yBEEZd+8BPKOR1o+RactGNb6XAuFC3nQ25K9doo8VvS1zNLhpcgBIQkYNkAUrpgArqUADPDoDVk/etRznCaJuNX/iHdbyjvSIL6CdlgAiTDgZE6IRRzkO+juj6ksDFZUdnZkuM/pg/3gCNsKEIEEurWs7+abIT/UU0ZVSmDoSlkyblVRwTzIilqKvSjRYgDAismqC6U4Jnbl8n6vkU6B61xcAU6dqiX1PqpZq0UE3d+NZHjl5jnMLkAknqDcyAghPELt/fVEmxtp+8sfsiHYPAlhQ+WPVvEby8vX6owVSbDH4HM0oeT73+bGqrDG82O7L8QR1VPcCtQ5ebMAkIM2A9gAYrcAAODGAAugFaAR0NW0r4kwBajXBsU8FCZB0S9SkD8gEzK4AZywAq7bgnBEEKqhlQPSfMMYjRR6gEiVSnDBCwAS8OfkgzHlC46wXAIt5DMBfX92MXCZnZM4/KWG8CzboetpArLWH5eqHgSsAAsUJAUoAJChlNAEJ7IABHwA3mWABfCZloALQKkRMAD2z8ATsagHHAvQ1QTYHO9w4Q989AN2B4QMuwA6jOBHgkAF68aqc8DjhBQEXSL/P0GSCFADkK+3QyaKAMmAZcTuuCwVEAnh6wHmTV7wIyBAzqBe0ZIIAWQAz0VAZBkKgAGdAAxZ/AqfUbkvomjFgAOCAAIEABPAACQAAAY0ADBgBDADhFxAACCgBiAmoA3xHAAKsb8jYBOQVNIwbsAqQAPL5BrQACBBdGbGHOWmAANSALIRcwQVVZAAPQC/gOQB2wOEErPjoAgIPMMGAlxcxMAJKTcXM/6CDkniGBAfyRhMBhyQh3nlArQDcgByDYgT9rSkgC3AD2iNAU8A7QBowAASsAAywAKMAADrAAAAhqdgYwAXoAJyAJyAOQAz4ARAf8ADyA1afhO0xYEJOBTAXGek7AFi0BBwWUUgZ9v8KBPBrBnQgkzCVDRia1XLMxEYYmz9xYcFCMCqosBXft8WA/AveuqQlwkIOkeErJxhjCtghJ1x1gnfL/+DUIHFcUS4lKNwKazAR5hm+cLDKzZ4N/EM9OPkquC4/GTXwmgLGMPXecz9CS1t9v/QdP1zrJTjQfYNaBKt0KsVYSEhDq9iLF5duxX8IoRbQiMoowV03L2+fPo25o3hJ7KmXbBODoc91idYi3qSXxvXblWXgEVRREc3VMM2iSLlvfQ0Md7FRKwCIjYZTFvRQHH/sQ5o6cY2/lOh8lqeZ0z5TZDaYkndWEpUf2Z69LGsn+BIy6VxSx9kbjxy//DVkojAJgJkQCdZiFwlGZFbjGqJcrIQl1isbS+6c5r9YsjFvOwNC5oMPzVUlViTp8XdLN01Q+D8POK/la0FFqKzxp72shqfeOCCtRjC+1A4hTXS/9JabVkCZfSWyzXJ+3PGF0U4yoYu1O+0Ib/b3YwoGew8ixNaHjFlpU7S/y+5CMmZo6l3/bEabmH9iYcrMF4oq/cnpfEYBU8yFuNImOgguaLO/I/Dh57nEwvhIb6dFI9pnxaLxZp0hbUmEW4zPA3Mth93vvIYTbqLg3V8CeDwLULQAsPI6hxRXNRKcyYJ9nbKNQUL1L1kPG0VsvwudVLVauJK33CrN4+7UD46R2zPcuIjRcY5J3WxnYz/CENf9Os1BpspoleIELOgk+WWFTRr4lqRmm5TJYOW5HwcHUAsAYytdYai2CVCYtrNTh+l3Hz2bKv9z6HghknJRCQjT2hAWTkaCu6UkiTBU5tKRggh/WWSFmy7bECEqM74mer9Nb/GmdJu6ebh6dSHQu38dkUnbS4B22dk/Ra8ZmOLhPgCx7jrr1YeYPam2GcWMnIztTHLWq8yFhbrGvCo1diKEsqIQY/khGb5mU7R/Jg+qLUnjUu9ioD/q/qiXaycqKiKVVtoWu9DFdRSeaO1UE2tvZZ2IgHQOmH/toeT+osPEO0tHNJrlkMiEb2CzsuUYTNZ87KazRbML/ssXatDWDNZKJpEqUgLmoT9yYVuUpBAo6yRmzTq/PeiplKlnBKYKxbTd9g7y9Fl0ZZdD6UkfWj6e51oySKgitsjj9RHGLU7rV/ASWRMutXPCsw8XqMSVix2qPiRtaOy45zFPHWdiIOQoiopKsWuJMySUA2xyfwxLgd0b+Ml5mprWsrXzueNuY11IJbQm1HRnRVC+npuYjUuobz6rymN078609awNKKM1w0L51WDulBLz0K48SZlZ1XD6ekfU2Ix0Aqwg7Saf81+PQsiB473cJNw6F5JZ33iVszdyIJ+oqH/1KKHV401G5bfYAPVv9ZBtOyY76llOLzMJ6r0RnKndA6AtZpC01t9vePCK2/UeJBahnMj/wSQfKfISpwZMKDEfu50i9Qm/n6QmJVBkHaYdOv/b6sSFaVFk5xX2evWCv+SOIzqlvcPR7SZ0W9oi+kKIjoRPPhbKA8KOJNepmYYVnQWMQtsYFW9e8WhQiSOJAp2btXRd04H3KLlWeoaRujQTcM4LzYzaYwPNiSd0bMJV/Y1dsvyW45uXmQT3xB6+b+DLeaXynrXQq67RrtE6KlerJyETqIDz4+F2FI9cDBcPGFnX4et/BU0ZGu8eRHPA+iGVKchjsEuByPOhSoZBG5CrLV4ZuDnInh1cUTBrgNwuMemL9iWD1sdXYiiPyJkKWkVNkzeQ+fRVoogcPE7vs73eCX7Qsoq3y/QkGlJ9HUmGuryAkWwU7Kc0FuRYY8GROQNUdNrAhaCYSE5DM687G8iBMYA1SAhI8COfgFaAB3cGmtGAgWBtYEV5GB4AD9IIeLNkoQwsC6ol5T82qCrAfxbaMEBUsQaQ9azEsBn0wg9AEKz5ygdxV/kq9QiGwnquM9AMXt1U7mXP4u4K42OXYM2q4EdCGf5oZy5IJApWE4ONz9XUKjiCyxqUtgqMqHKFpvI9HdYVqtMMkNFh+mFCgE9QCNwMqpdBDoBfsAmgDMN+jTATfDVQXPPwXkXPMcAkSGAH3UUzIh7lvRN4wuQuJ19MrBOiMVRUZitZaR4VFCbcDqLK/MyrwjbgdrCnTG/ZzlQk6YQG/wLIAIIhtq2YdhAFDABr8DWhP8fPAbUBg2YwMwANTgYiMxnzQOeAIVhuAx66yAmIAbfB4C+QDAoALOABRMyEBIgARvBqKPrSeGLzXxJ8gVUAcxDL1JgRzAkMRjWnIubbFjQEMAGTQ8k6vrt6R28dUCUrrUjBTMC3AELWbgRaANwgFLA56ikj3mwskHNQSqLbszgxsAMpgDdAcBZtAxsAWRATkezHEwoBD0J9gXoA2GDPQyv5IgQCNYB0gAdVC3ALxAA72AF8hfkFqQAUYACS5nwCOgAedAIIcyA/qDRSRNlyj4dwDZJYLJBrUyZ3YMolomKgriAsUA1qCBnegUdB0wHLwtYEZXnBfAD84wyf/+DUIHVASBccChjlpTocX8hp1m+hKHnC1kKxLE4UZnYspcRVKCdFvQ6OQEffKWaZd1CagalLma0EJwkghf4814+DYm4lhHPyyX/UWJL3LSe6+5gNXhtY1WmUnUFdweMH37OGNjl87tHXeU9OyH3WwrOLTp7RGYbR4wgNKhpx7cuqfYVVm75wwu1RZnTbYxq++jBhk0kwkOqGrp/lLQl4I1n0DHqf4aOAfLA/sSLctAtEBP8UsftcvNiHKxUJpuO/WFVhKMdsGX81BaoFgQJxBwkSAdp62aQLwsCT86NFRF2HDJAkOvxnpPEUSNu1Yqik8J7iWzVeRwzwDnYBXoA/GfeaeClIYoF1xPA0K80hju2SiufzuSliBE8JXBKlaaZgyKBlQCa4yE90CN4NtBVtekOTAwSCaA5+JKFHcOd4MCkuHET1xlUPUA6qGsiuOxSWA7yEWD1bizYjTv4JKHwRiAg7NwxEKWi6wiixxTZ9lnJLEKCAoaGSmOdypYBOkOtBmEMdCH63iswR/E+BxEfSJax/N4b9dVfMT5gmnYJZi3yc+Q6OQWVR+8SRLWPr9uW33MpQFKQeQDhYukl7968300olkyuguW2RkFGJNFDDZiDbWAh27JvW/KwVBNd6IYzbomQX9EYCwItwbNnsV6E9zuB/0tsr3HMn8JMngnOa64Q25hGJ07JMt4kFqGttmhjJdzLhTGJsiWzPs60pk8YBQ12DLhbQSPGBigvQLAY1QKZZdiuvszWcyYnKVEC2bqsksx4webEsI5BtsEaGZUSzOxFtdyg3/7xTwv79SpVZc9aj3ytQnTcNwgzWYiRxofOb/KB1+8JUXS9d0+r399Y5a5lseGiIjnKClPqIwgv3H6s+UMHyglwijKSBlqeMbSJlkikL+JvmF3S+1L6QFvhanNVz5Ik6jLb0iFxk89IXP3hUjg5OrYdivaxV7ushpfbCITYKmnCfW/M/Xtjlny0DPRw36YsPvKL+u43Q3s7iWZkgIQa1wVd+i9FaaUO1X5SUOw9P3WqOgdVuJkWb3rlJV5Is/gSMlWpBTt1fmtQzNVMZLIdPGp5ZTjG9s9GTKz5UvSuyWBEqSE1F6eQ69z5yushNx26vFVbIKbOSr83r94oPr5L2TeyEWbm/RhfTVIDMeN7IFv1+rZ3lWKYt/hSixdvZjLEpZTSov5ZzXmE2P6otYjiBOBISIM7sydLJIebtZnhSC2yCWWsjVmiTQhOiLnZz+TE6QlrG3XjFw6z6EqrOdZusu8ZVrJ3O3H4fN6rMD+2897DSr2cxYlpNyx0ji3BWM47RVizYuK1D6G1OkfeKX91KY2cQa5+opmDLrwGWOaMmTsVQ7lBlQSHzU23IWEmpeXIX2ttWTDGF2PKqaR+kw7hDAao9Ei//z1+UT7Fkm0TU2W51HXVez+/R9hXfWxq8PHYV39olC2nGJp6cEnBK2QGxOKbSsFZScEprERyzBFbiH4FYKxeMM3IcuoPHdVLAUWWceOvo6Bz5ITGVbP3feohYKOW8fAuIp9ttuFozrdqYkMSsbTJPEiyvu3zXXjO2YD+ZgLNuoHUtqc0R+UawZ/6llpqfdv/TpOqtbZq3ptn4X+9N0beVxixcgsjN5zICRW+HokXmuhh5TATOWA9EitDx25AgmcgAhQ+tJeYlHMe0pSvYb+y6O8+UDIk//IbtyudkESfpVlVdYfZfR4GSJpfACqFbr8JRL2MOby6Jlqwk8pZTColWa+UN1b1EWf+N3RWH9OovzOHFHIaSDmN05GTriJyJHqnjleHBkLLzJDcWfWb8p0SS7BJRzRInekIqOrNKCWE3AjpQBCEp6aZRryatjez7aM7SbTZK8x2YXSdgdbOWeN1JWieE1N3hezLDEyYFmsVRiu/QLli2CUUj4bRtxTqu9+M740PyfyNGVZu3dzZWZgvFnSYVRo7+A6R3JuRmDeifk2JmLkN/ONLePWNrYNwNbhoXHjQDuSaHpk6pgL/t+m+VL8Q5bn9CPrb+bm5QMpOUtUhxvQ+b+CUqSLqxO6ZfdayomB+K0k1I6UFhLnxORSS1kPYpz/oTOCU8V6zxCgfmVTHccV5g8CqBaKJcoIIY+s5HS1iLS8U8qmo+XL1Yb+p+aKnF0j9GWY3fVWkmIyEpRyzrCoOlrEcdtSr3juv1VYKSNRH3z8HKv02q0uej5Fw72nyq2qP9iaYyRwzMGkUBpbRJuzb2KN5qXS6kVdqV1/K1VikPJy5l1LgR8p5XCskpozRLnJZvQ3G5cV/1PZTRdIJ7gcsr/+DUIHlkS+v4CK01A4UTCKVB5A0DsnKgywDaECHYerGaagNloo2q0kajgYDSXWGcBIKd0V1dUjZ6zsijjWi9nZE1GhHbHfFnEhNmSstZv2RaFL9bi6xxLx4uwgHKQxYmUbBbizE0cZvvYuXO9SWZ7DS/FQKt02S1C0ZzZbLVfhOlmXZZmeWplmEXpek2WpUlS/iQIR8EK3Xk4W053Gv0JwO9SdjyBk7N2IiYsRU6YoYs5zznnFMOTMmbmr6raYpX28HOYRGJJQsBatVtuYgSeLktzDK0ryeI8oSHIl4PxwrhnJJeIpPrZWrZYNVWM1prtmsBnM1fM1wMlfMJXq9rr5mut3P9jPBrL1iLZaJhGZTo/KmrDvGQUkJJyVlTJGT0l5N3xaNfVZRP/9vS8u643O1umzOjyOMRecWKhVLFZrXcr/fJGlaVhlFmXJhlqapYGOY5dFyXJalmW5ZmkVZgFMS5KkAQBANplMheKpHZrP6/m/Gi6qtqQcmJbyzlrLuVUr5ayTlreV215YNG0PQX5/3c4etymVUCsVysZDddJIEsU5YF+WZjFyUxflmV5fFYQJGEI62exF0rVYk02jdTpNdvdnw+F1+Jx+Xx+16u1zfn0Otw9/r9DrMbmskp02oF0sl6v12q00p06nE0qkojUFm0NhsOjMDlU3j8tqcFmdJodFrdVrttsNbs9vrtvn9BlsjoMMkEUlFIsVOtlixl4u2cuV4vWIul2zGmtmIuFYv0uq1Qqkqo0ag8OkUghsFhsGlcLldRnchsdtttjv+LwuV5ex0+b5etyejyen0OfuOJsNftcvncbjcamkahVinF8sFqu1gz2OxGQ9Vg6mmzXCv2wv18ymGrFitlyjFCqULmUyjkCiUZic1jtXoNNxNTw9zuOHv+ByejxuRseHyN9veTxdpnNXstDq8np8pj8bh0Lj0Oh06pk8qEYuWOoFg1F0uWMvWsqmWv2EvmWp1mv1KrlMsEwoE2j0ckkPjUfj0Lk8TpcdmMbrM/psvqtdptBsNxuNTs9joNJs9Bm9ll9JkNTic9oMZi8riMCj8Wi8WqkWi1AlkipU0mlSnEOpUum1CkVUoEsmEknEalkUlkgi0KkUcgUYg8Vl0IgEKhENgkNjcrh8Ticng8Tj8Rj8nicKnc5jsHnsAmcrhMVkcfiklnMWjE/j1Fh8RhMKicEhMWhkWg8YhUChUIikDj0kiUIiMilkOjUojMakEIjUCgMgjkEiUqlUAisOk09h0BisQlMSi8piEDiMDhsBj8XgMBj8fkcUisNhM1msLhErisNiMCi8uh8NiEDiUMgkMhcYlUShk0lUHmk0kkokEMgsykUajEej0OgE8jUiokeiUCk0mhknhUOikTgMJlMBhMIkMIhsGj8YgMFgkUi8JiEtiFFk8di8xiEpj09lFRolnpUxoFVnkdhEhicQvsrRWaQ4RYAAACBhwgAAAhAw4nxlbPcSG07ngMKApA9gAABKwpIBcniFaRJlgBZExGJYkNODBBgjOgAroMeAaoABShsD/tYSRIhXgdsCjiaEHABygec2YPAACRgywmbRFBAxswAdkBrp0GDJkHGBvQ1SRAT0cIAyIALlzBgQEsAZlRw1wEHADiAAD1gAAKGAAAAIQeUVoHMAi4COEyaAA5wJyAacAPloXDGCVM3bvuOU6YAnP6Amo/ZGglqdzkbQALd7gZkMWe+qgXjrCZipBpwRJrD3gF2Asc6GMtcWDsmgGRBii5BiTfFxF/8BNhKWfZvHEK6rEKzm7ot4RiIAFjBhgJ0mJurW6139IjigBJWN2hp1ljLIsa6Ko1KY91JacQTauQvxoRBLdVrVD6ZuBCnp4voJzyEqxNnIXHkWem3xKwsoSH3IcX+koIxSRfmRYy7letUc0AxO//4NQgfXhQAIAC5AmrEFxR86ir2Q6hpGvT090ipGf2nO0vS5zHWOvWbMR8FkycoWQ8kVq5SXFxpTRQyRFBYM1/erZan4xU88tbV7sthhsuYa7jlP5RPACaKo5GUKz9eB0bYUsn44z0yPNNhXo+dilkU5Lbi9NnBUrHsrpQpTQIApbTtP7yVo8z2ruEu6l6ivCvaqgNTy4rAeP09vwhMHbWPT37DEQAHsgAADbXCAAAG7AABliSQBS/DvpG1k5DCvcJuAOCAA6BTQATmABj5Iox4ClgBWj2gCIQAaK5kJ6JvCk8dT0SA+pyQt0PJIFD4gO2FELpbvi6WGrFGOEEF0mtV1RlfMgEDhZIDTA+4ZkC3TGyf02C0hoVXINuIiAY5poWi30esXcW4eWzlfGri8mjrqFmiE4GTsqIAvN+l6D/AAAp0AA4McIAD7gE4CsWHLXcWPnBRSCEySMAS4AyCTAYGDL6Qa2B5wPEf4A+kFuyul5NzhyFhYbYlbtKUeLLSTzYApKNYGDf/pu1sQjp0CZQiF+pfIZYVatggwahuqYVvLZwaeQmRD0tM1rlAGq1avoVJlfkAgUD0TVgIkERRQMNYaTvBFiThawtFkoAA1038D/ABJTvgNRsClKMhK1ulGjfMGCC4MxBB6XfEbYGjL6aGEkqDkVsngQ+ZbnDfGZzJra5c8mzKuQm8pXjo2YEneeK13kiRv66h0ZQBRR+C+P7xV+uSZkpirS2lNpsh6f2U2S4ijQjIBAofyH3BIntCaV9HtkN6gYtWDaSmwEEixdHGjDhEFBW9z/g+5La0W9IqNIVo55N/nk+o8OSKInYk9GaWY2wZNHl4b50AVV+tI3nGHO9sRZYqvzi5vM8+rHMkwwOrD+Qd8ECE/Txuy1WR0j6fbEZdK7YuIR+I92UURMxhSdmngZOBFOOAWEAlJuSyx8Zqbk36BXxxQKHACxWSiqtppxFUxQW5QiwxVfLdYyAyQM+VWa6lFzaTRoRxSTdFRPxqU57RAsMhg8pPtb7/q5S6Qh8kWs1ONQO7IkxTFAs1FyieQiwNIKImLAbJFMqlrCqE7My0yrvzcC5FMgR4VZ4CjRm4I9AxNBwCxgVQ4xRJOokvvTjGtDBvwAl0fyot2JnJMgoS4FtL/NFpmmo+LICFNqMNxZeIjtlzdCmsJ2nkS/YRQKbMdpbq3U99lGEftkMk44qcnGvnz0u5yEFwx4bU3JDDRRFPgkBKQvT7vZKXlVxWeVFN9IuKN4xQiMn8SGJV/A9pe0+aWoetnRbN1stUNhtMqRcSyHD6uRV8SDZxleaZkQ1Q6W6/o4tKQPv4taUC01/kiSHxO2pl3RT3IbfZsAIqUR74VS8kICCejTLtGUia6DWg/YvyTiF2Dy3xPR/hvGNOENcpZRK895oBGFjszTD39Py0RdIS44mRYsrNqHcnLu2Vu6NEqD2u2JwxIyZIMJXYnjl6SBGOBZ9cWcLuF0lnqyfUSslSBDMXY7/CAgTiS9VcFZGZSailZpPeGM08RTERc+tmUrEkWxLTpYw5ZROpasUpoSwUtbz0z2yqa5M8H1YgS6inX+BSkqKu8Hyrt+Lwrp37tBglhDzmMc2iFNvY8Ze6h65OmNGoVseNyXvPrif+AMOSM7aa6Rn250R3i1T3J7tyjZ4iu+6PjVGFiUNTEIwjK0rWl3lQup/2KKuXsp6x8vnfJ3EwCypQ054zGu94lhGc8XiEvZ7P2yamye+atvH3+4JyRVEl053z6K9xSF6G747WkPW59kWqH0/WsG5pByV+V9BR6+VENaiWuE4c+TXXtw2aeQeBTSb1IvBR25ggaOoIjZcLAbo76NkBLenCb+fJbUjPysFCK8pTwWitL6vym4Jg+LD9XdGvOedGvrLNm0dt6A2nIAzphEcPT/+S5B3bNlR9fqV905PnsQPr60M9VzhEE5sSVOWvprRfGncICiTAb35+y8OQErKLdl1WY5B5WnkyImj6JM9RbMcvLEXdfrVfjv6yYYl7sbSQ8kr50TynvcHI0JEuRO5Iq34SaNbkPWVkNkzpxUS2X7uWzAyLbLFdHM+J8QVpo0uIzp9I/MwnC1wpo1JK0cRbl794LWEqCzYFVXeErQnDMU4chzFEFudIdQgXQtyh+r1OY0opWY9wdk1zuaNAtjr/+DUIIOMSA1sCFaJAlompIZLgziEq6E+lXtj8HFdh6Is9lCFSoZcuZLbdMHiVLUU+Evqc0ZPvfr3GWsaOY8cUOS59EGQEMhNA5ZAWfeFAHg7iCTPkpb0kyQOONM+ziZzRev0VfZfEgLQHuS8KqmiMHsUdNTlCFEnOvfaeoGvWL6FothE9+YES2WIIP5IjJd4GXWH0upzJsStucAsVdBB0NQI7QcquMq0rL+vCWrB2klhGrlqS+qfr6WginOhE2L1D5Ome1syYAqkmWcU1A1wC3HmLa10sHb4pYzXXLPh4os1AQs0ZAluC4pgGeDl3FgOQeWjl84JJ1wEeBQyKBaqdex+1arthy8T4FEv5N7ZP0F0IgW/TJVDesmnZUup0SHlCgbVOIErMiUIFO34Vf+KR9VII4rVFErDlql0vovXIHl2wa6mHdRWdFJvgxwSAKeFGCPgKmBXrqUyDaEFydlG8Kc3qytoCIZ57cFASq+VP6cUDSKNXi5yuGM/HXu5KcMMTc7DTSIior9bqlYtZ1nCYkbsQ5QaaewNeuEYrEPxoTykhoRJuaN29FGLWshpBGkWNi0QLn6FHjIMFPFQH3anwJOgOZNsGas4uJO9NNUm88oXDHmSvI1rg+bdIcbBj4A5xMcfUMNPij7Khaku2jIGUcyzTFliZLO7g+J2d7uCQV0rL7GTN6JgIYhA8pbs9NZLAV/EBa59uIRT4mfKPeCpJPS9QHKw742Oq/O4yafo5xQzGJFNtDzrpNUJQk5whGVV9Q9kgtJQC8zMQQj/GM/Ha3PyWENEsNVlhJRUxQ+0ZSxtwShw3Cg3PF7/6Zdcez4MSs95LhBblS1VVoxJRUuCkQ8VApM4jZkVVNKi2wFsKm/hesMfUEp/4ULBvGK93kH7j6eHOrPdYRq+CmUi4QuhpZumYkKHcK6RM7mikZBbDWOUSFw3kYa+TXyXqHC9iiywtyhXZV3c0Etrh/X8RwnbEUlzlfiCxMfnFJXGSPN7tty3HIO4FsbVjB3qGUG7oEiOdTVYRyo2i0U+NkxIhrYibFkJcc0wq2alWiIaNfWuEhD3hkuM3h5vchoatu6GplffJ0d09le4xC9zmE3u4hQkZ9iFfFIzAtezk1bgIQSFOoinIVuRuAlkWf6Vio5HKGYydXKGxiZUNnfSwxIiAF/8r24Zb9ESZcmG6XlCpxIjvKYJxCYcpix89r1BZOmffukCU6pwHKKAwrBas3pihMYeFEU1qlpWF8vrPJ+X/UjJcR21dhplo9eaCP3AizIclqGpoIst2tW0ZNJtvWHsaLdIgmLokvIWbaHLpDuRb3lZ/YW3Ce7llmqWu2J53jZZCulwjDUJ2RJ8h+PbiDl3TvDPGpQdaDlnWjXli22RhE7RrqdmFrwyF+gh2X1qa6z0kl/RcGBOgI/aEAcflUeXMCMEjL0CjoMTu8iPJKZRliSB1zYmNEMOkYyiCdx9La3kd2FCZOYqaiw1Q3vjpL4DfiuDC/AMEKDtECWJKE2AJGakYQQAQQRAZch6UkhEiFHrBOtDcsBkX0OrCn8T0XQY2mqcsiT77Mf+tmxwhfxVMZrAxlGZkFvK6yYjQVAYd2mAkRcd3rnrMmsxamUHcTNjxXXmy73GFX8Ug1eoY6+S+pYWpXyCvjkrjFCBkMMok6rXMv+wW9FTiLOWxhaK2WIhyXL+cNLp2XiI+nDxpPEPnb7ax2SolJnSjD/bePtoKT5GXSvdLxCyODFRQaUMazkx2DCTF17/gBbqsNqmC2nYX/+nqHtHs9xaUDMn0hdo5VOG9frlBNO+Zwa8qF6V8mh+6Ti4HLQ4S5wuPEjIYKKhSfa63mPaatNoz6o19Uhq3QG4EFC4RrYuLLkeSc7+gTK/Vynr5IIe1zGBIUt/iqE3JW/FyN1kB31MQ2HhIggJkdWzgXTOfgpOQFfnD7CKhBAQFbWaFqFKOTyWLy+STlB3sRADTA//4NQgh5BQAWwEdAl75bkWD5XxFMjDCJGYzMndt6tljDD1gOyld4SKyL0JcyhgnlTWdTYg1oSXZafMIN9hsLPIuRBfdX0p8RKeHTRo6zmNskU7xFfWFIa2/CTb7X37ITAS2vxwvaUzOaaCf2URFUebWjcvHY8c3dDtKfTwjm16hduZE9wbz+TBO30yb3wn+fLRjmy5R0ytd2Qtcm0yoz2PLLkXO1YF2azEtapVsFpDV0Ep04bjNxrdfy867xHKJN4aMNHyOBxrBA7R2xc388j11YxRSA2cvqNZtbHyGsEhvRGSp93MUleJdOHOOjj+jF6zVZgm78TA2EWl3yA0w91IyGktqm8NfuoaRGqZkyEq8rgMGps58S8W3o53hrtUKJnV/CAF4vaj0iVmNbE/cPcl56BKmmRalO86ZywpMq7kLAYIcTUWSeSz1C2QQ6jqL8AotpZGj1UZo03hBic57Zxmx09C7N1lMbb6umfVcUrV653LuZzORiGGFQFHJ4dcdW4SneNR5mEHUqg557YU7Jo9+sos9FJlFeRJa+/GaPHmaZ9yJSHViBxtj+ZU4OxK4iHBoBXMWSohQsAQpUD9kW03MXwEl2JTet9dIafqSuhDsZ6kh3rfU4vNXvaVR8TzSzVYUdJBprPU6KAy+u8Hullny+/vFRarNqoKBnhXaTLMKRIwhRJ8H9lvKJqAtXUWzt6lNbGo+ncm7anCCIE91JltFSvh2r0FJETI6Q7DCNbI+7N5yoSGOCwHfUP80lzLZW0PUIjUX/UyQ/IdgTL++kIKqFHfsVghG4rGy+b4/4SpOLoPAoyi6ALr+7iaPjbx9Uz6yKFgmP6EwuYK6RLAcF0JbSJqT5fgcgzil66R3OdaS5CCHJ2xfUZXmGYu+zuEIPjqOJxn65Zeuio7Y3GyUUSvNcbwZd1jxNCEoS7JMeQvJ8RW1i9zUjBEZT3B0S4NFNhxxW0ZWJwtl41V9HUbF9VUNgk38/OtERRFk107jmGS5LeO4PRuxSDVU8QjBcoxvOshxDGU4SRGNLRtZsIQhVscWnfVER7jlZzHK0ewZANSwhJ1iSJG8IQnW80wVP0RxpMmJQ3mNDyTZ1Y2pK0exHG0yUjDdWx1DdmQLHdoV/NMFwZGsDQlKNhVzFMSxFIczzRHtmR/EsQRhGtPydIUvQRC0Ex1OdARHOUMQNAce1tFkFw/IEJQ5FN6UDEkzS9VFYxlCGDSnM2sSrOcdy5JEOZTJ986rmaH3jtF0m+YvrbGE1StY1M9vDkIft1DPkVblflJQniKC8ewHPKaxpU2C2kqHfdTgCEpw8awqukq1qtneJdEr8lR1UZXNo/TaPTERKXg/14RQkD+wvcFH9mjYTqLMm4KE5D1j0zQbR5UMkW8Dcv+J2UlLiwlHmcrFqmMHaVXvxU9KsjYqWOXTEGWreSg/aE+RuXqBW7RlDH4GqVyHxak4xAKzyV7R2DsyFK/+g1WE0NlLymkdoReo2isGoHH5K8iuSUEej+FwxHppCgAvcBeIQ+WATUFEgr4+AP+JJbeCozf7VExAzJgQNStpD2vYf0C40RqLdtC1cPJU3CywYNbyJrXz2VkFjXkWYxlRPlozn3CxGFHillaGuJ2nCmiWc1ILyKxF0GfREqb/0gk5mz6BORFTZFLeoo9d98Twwil0gQW8e/QAj0A88Db7kFZIrB/AM0DPH8lYgwEKrRMOeAIeCQgIgKW3D9yW9p/fL5jKYxpYZh4hdS5NfzufEpxfbpoiZifrWmxWvRztkDQFvUxSZEluPe089LRruQmQW/10ZDnRF0Ut52vvpQG1e2oQ1B7E/1SrQlw5y2WBNCJjEWjHUlgFOgF0h8OgC7kghYgaMGwDnQF6ge6EsiHAIEAHKAZIByAmS4zIRmdeyGe8EtBdxXDiQn0IXEZlQkb+O3G26d7+UEq72QCtWx7dSxzjOEDFC50rtjTrBpQPCK+K8QLyo3WU2HFjBGxPhFRE71zrxJPSsFQpl64E/LIZEpnYEeqrFNunZiFOgcSC3cRSYuJ4QdULmXuBmoC0x0aZgMUAWIA2QE3DYMeOZGUr9cgO4BzgLwKobWDBQAUz//g1CCLtFhV8GhkcUQIArTglYBa3KCM5y5XkGKO2BCgwZWocpLziCAC7gAh1ZjyPLkAJkAGXIKJbcAJuAWYYY+Ixwx/MAQsBhQBPgmoXg9FP7YzgRYefxgK+AqxxzF1EBRsYAEzACpgA7gep9X/A/wBogAUsAuoBywwgR4ABfAOgtoL2KyIcHTBDRUQ/ABWALUeIB7wdsAP2ekBxATxgB4hKboBrdMAo4CGEIdQPQAsIBzgA6JsFEE/fg0gvYMx6viBk3GADvNaDmh4QA1QA5Iv2hhwMeFGFIEZCnggYCdUJHSRvsF0BOu0bMW3YhWXuWMA6QVoaUA54AWUABlgOOJteAAszvACjgCigCZgD3Y4AAIB2TP88gYTwGTBXQHfACUAP0Awh3AHNANeAuY6YZgAUipgPIIC4YfUAurtXoEExASAnxOz5iE6kwrdhCg3QZjCBH33TgqJB+IJ0JJrrgwoc2+2gnBeYGunna4IXuDBnwJ47yXMTLx8+HLQaZqNGCsn7NhYlgSgCdIOAooCRpaBYAtA11bYMUXSF0JiGlHxCoANwDKLQPSAp4CwqGMkDLDnHU6gmoZsfnewhjh8hOJokc9JSL+fmmnEH4HstzDvmTUblp38C4DQI9DkxFZE5nM6ESEkLMsIxZm3TnbIE+ZBxnEtgOGCQ1kc4iyoU2ErWUXrNQXYxp+X7MoP0T5FR4Xdo47Ay0IGTG71ArQ5WIY0akX+kneG880P05Ry0ydZIJfvNNN/G2GlbLk58KfNUjUw20VRUrKi+BuHskcipMfhsV4eL8WsjWRg2Pk8+mNsrzNYUtKT/ArnjNjJWa+NpEQH6c8BowhIsgNAKNTjDhUVZOcP50hfTC6w/zmJpxxcxM9WZQQRiFCXsp4gehaJtsNYpKot4ql8U1UenwFgRi9WHd8HbqXCCzONXklR/w5ROLlP+fZM9Abr0Y7SotwKosmLNGTdiihWtLcZ11TTAThmARsOjUgUAZxBHfEDED8w7zTf0rO87Wy2U3Ud0fimC/Jo1Vvdcl6F7BpOhCoXsZdDuPJ5TCpxXcNpoZb4vk7vwd86V2tKOzCn7y7Tuyx29TKb1GXVya2OIp1hl1UGKfr6bn55nToY/idFdCGomKYJo0CykvYu1lefCLvvIdFtqVXN3nVdhCebZtrfs3pR1LvZbIVg5TS+BDuTw9FUsnRKlJJNWUFyOoVaHMPFke7EhQvA11Mt5iEx3tq6Eslt3ot2okEysz70k0utusLrV2p1qVtG7vVEKcCwftW7L4lM21hTP8/5GlW1v3Tvg8ZfkEgH998rvaCW6XbeOXmZIBPbvy8vvrxQpRJe3E67MJ0gUA3OxgzEWK32vn31REirSt32oxxDK1QsrqbvVMImkJRVGbjtM5VIQkd1vtK61ChcOtdjsWm41HgXjitQ3moi+L9MjjSFWyN4uR6mPYqpQGi4OB0iibC+9XEx5ApFPJ6uOMicTxVogd19MS+iDSzxovUdk3lu86+1GVLJxIz0UZlkiRK5aRgdvAqV4r7StDm8v8sNR+vQoHG7lTJlD4PCIDi/FQKVQ9jcrDOrVFp3Z4tAojUJVeY5XZFbovotP1YZhtdOZvK+HVKxcO7Hb5FZRg7j0NRnMS58R3TzYrytfS7Qnyde9M+PdPtpNlxUx1cNaK1YxZ/vidIl1k3upQOfcTkW7c6Ob5qTa6Bxnh1aB5qlXeBXuG1KsS6G3OowGtR6aVWb0qB5PEUaYWm6zGZ8CzThCd73MNHbjw/1RKpfZ7H6kpyW4Or4TYaKt9+rx3lSiaSPDzmA0ijRWgwGow+RTiwb+dSGK2y2QPEyqFxmuWSly+iU2ISe8QKUxON0Co5Sa02LwiRRfSamoRPpyi1SfTTim5lGdYilkiiZynAp97oIjPrkmY/Euo+xRGwZzNbTx6X21S0XqKXSLq7ua0hH4iHP5vBThpL8pK14fgMlmpAnqfwWmJ9xM3yQvO//4NQgj6hL32AJuWhYwubjK8iyK4Bsz4EZIOzacoWsjxu67y9q6qzNOKyCooEiGWrKxjKJ8kec5bh6TJWj2573vmsZ/ne+fd/Xo7TmOd7B3Xea3iqvJqheP4Jni7setCNoNhicLOtKjIDjOD4koyRpWlGZYzhqnoogGUY/h+Bo2gyH5dmun4EiupaXvfNcNhqNIO2v783g/DrEiu/53vLxtWm6Y4Jy5Cn8ZhHUKUFkWcXpdk0TxSUoVBGUAwtIMISJI0Wy7WdW0XPsg1DU9U1XUNt3bf9i2DZ9Q07XtH0/S8/1bNsawzGcDwrB8kSlT0fSBOFcZVoWUXxXmBaxtmqWVgVoYJjl8XlME6SlOkvUVCkjy7R890zOtV2zj+v63mem7TwvN6ToON47k+W57h9x2fYdc3DWdJ07MswyfIsPxJPVMXBd2PbJ2SBvySkkBQiflULATcmBJnmaxpVzVtZE6R3aPF93te89T4aB0M934vmoPSL/PC3HX+V5jpOj1rQs/0DHscT9U0cRxMFJWVmmBYxhmDZhYFyVta13XdaVwV1WlcS5K0qT1R1LTZJ0fQDAcVyjGcxzDPdP03R9h2Hbtw3bWM5x3IctxbC8FRRFUmRZMEuThO0dSRF0LRlIkJR9BUcQJBcFQVAEFQDAEQRfCEAQjDsdxPBUYwjAMTxHHMMxzFsXw/CkTyXBMmwrDcXwRD8QxnB8EQzA0AwFA8Dw9B0FQ7AkIxFB0DQJEsCQLBcCQHA0EwTFUAwBDUKRtEUGwtIkCwXGUBRFBkVQZEMgQfBcVQfGMHQXBcQQBAEgxRCsNwNBEFQnEkAQTAsORNDsLQTBECQTD0EwXJUKwLIUHwpDkIwtBkDQPFEDwlFETxNBUIwrBkMRLCUGQhAEPw1BUAwbBsEwLDUVwHC8BxVBsDwNDMBQpB8QQTB8KQBBMEwpCsEwHCUTwfAEHQlDcDQlBMDQpAUCQ3FUNwlC0BQ5GMFQlEkUQrAEIQBDkQwNFECwXAMFxTF0FwDAMWwhDkPwNBsKQJA0AwnAMBwLDsLwTD8FwbDsExTBsSwvF8NR3CcKQnAMLw7CkQQDFMXwVDsTRvHUOx5OcwRrK1DwtR9KU3Hlk4o9cACbx2gbAzkEqeg7oR5yeTxodCT4zpmLkGLIpvRaMr7h5MKMXRko9A+JSDGnvUb6ePZPd3q3rWFpaLZC0iE6w8JuqtoM7UqR0NOGLCEdUuygea5x2vbLqGMicm40Koi7cKvFb+7toBMevAeUaHLguxsNGydsKWxgQtG5hfwY2aFrh6p8TmREoeII960bYCJ3oFBD4T9F9F5sY2HGtJh9NB/IQMR301KFunOMnqjBMlm+0o9gS1YEvVYRfIjCHx2ZvHbFty6J+H7pOVlnOIJnR5LXfy6xqURcI5ZDJ1YQUVnukaRvM0xawcuyIjoXnMwnwxlNpanNHzuWd8G6i0s4G2hbgYSXU3oMjCbCF7HuI8YGFi1FbByoOKD/xZlQjMQfoOBzsPeA00eJnAzcewXqgCBE3CdxwHhhMYHDAi39jbjkaALKPRQ4QAG3gqY7MqsDrAJBewboDJQeMf6kEUsFXgjQ20IpAGfAE58oBqgD6xzyIiXVjhWgu2Twg4CfQNeGe5WbY7HD33aWRuOOFOm0MVn1EUhCBwrw1lsoEiAEFgSg8lbZrArMKsCU3wMMHhjuDbTFDgWobYNPDIh6YuIpOMPElb20vgrwAukBRAh0/MBYQFRsmbV9d4rMG/ggAWKo0HMAYOI4mpG/YKFLoGJixo4CFQu4hnP3CPVapBLpXUZI33twwQFempe7UyqBaovo+cppU8QUW1QsVLEB9u+YtdO2YTYZqEnD2RASWypQUwCeWgeA2AJNBiwLtGRQwBO4A4wBvZs02quVfVqdKJfibQs2Usc90o5+6kHuiuB7oMcBpJziog1UcE7lDyP1RE5i3Ek82UkN70oa0GzhUTfxIoPYCq15M8CjTvsUIVEEC7XAaceSOGJlg1mgbGBcQ1tz4OEB2Z+yNJQLpZ50s06FR+JKpE3BHYUo1cReJ4nlpZonEmynWREItFIeUAxEALMBiq2QKYA48z5hwmkCeMf/4NQgk/xACZIMuaHg3Te1f+CVrVaImGqmtqhWrkiafFOeTtuT1xiBO6rVqF8uk7FHZiTrdFgKfyQfb6bg+VbIpc3c0wJPy804NHLavATmZRYZINcsMLxn0oQOBO2sAMhDEiPUZpe2VdrZHqw6lQkFMGDzQYmWlyfgskppLYbsE8iaPTCfwjwCKQawVuvUU9jpY4ecK/zUM8BvoL4WiyszQcOQFVL1WsOpxo0469KFsibxbBpdUi+BK+hF9GX0SugWHNQj4fqd0iYUuwoxg90iSenRncH9wG1AXr8BYAsUu5PJKOoJGEous+bKIfaomlD7uhfIvDyUiahWqrFdHEhwRsMJDqj21aOEfXbRID7xRQrEbgMJX4uo6stYjln0lSE18e0HGzsE7Aw8Lg7HGFsPqiNNYzoJdP8kuAf2ntMm8QywMWodipR1hk5Zh9bLIn6di3SpeqbCvBIYEokIIEduQZQdJoMsq9EV5pdbmxFRu9HhJAeWvQd0AjsGzDa1/QoYqSoLdLsEgt8o41OssAH1k3EbuLMAOtKUQSwsk4OvLutMgVpBZpDB/fGe4Mzd10JiozoP7pD9A2EQIM3+C+RHI3wIxIsYn3COj0R7xHO8vSjb5WGYT+tKkjB8Iq7uRwIKWDdV9OOBKI/SpTTQRkLjg0VM6XOHYLzv5aCcasNuGkhTSOeoFgH+tCXdcebhfwbWbpuBEIIIGzrCa8e6JEsWSJAO0W+vo3YK5DMOKKXD2DN2lhTDBSLMWsnXnkYm/jIhO4MmZetEBegG+nkGIA/kHLCFyzxazifk/aW0DciRI8U+4enI5OgcWJiv8SPNigfJJeFizbvNGEw1xTIk0woSrxWg0Be8WUsFainDYc4pRhqSBG5MmUnjtaoM1c9IKhfcXAH1iBGuwraJOmXdi+LZ6Qs7PDZ15EKygJcDEzoI4KPBqAc7bfkBMYOKC7SAsRKZBMwFfhKRrI4UVUkG3T6IdmYs4qcYEuNzBmb/qeh5ExnYgIemGCeXFz0nOtAJNV/FMQnTHfjElxiRw5wKBNq9Qq9kH9so0DAlREYlFZrxGb3AMByjwqpGJGQnwFH1qiAgmGcvUmnpIt0dg+FeGKM3TUvf9DNBEZHmuUKUJT6DE601DvKaUXD6QaeEgC2e7EQD5Rjx5agIcFYlQOtL47ozUFOBNo1iGt7LsCPxQTfVEedivjUygiYVkIfRQ7fXJo18K0AokOy5MfSDKgme7SSDX7yfMtFdhIhMYI8OxzEJYDOw6RZbjTiochpHmbOJtBiLhNMCMQywFBmmEPAnkGRBPKyGiPLe0XHTpbAbmK0Y3CNx/u9gNHHuAo9rlztBNOCGVJXR8Kmyrl5jDRjAglGUxtLUYOnDSgqWxkzAgkG4Bf54FcBN58BzddtyGJ0EJ2AlUJu14NpdMjYiMiYXSvStAvcDegmPJhAQtl3gxoI1ETRixs/iyikycqnaKMsEkvIdTUFHm4Hv/0KUDcQ6BgPKQza5lBpIV4VSWtULtQ74Y6MqFDilF4k0IENxCEjlwkI+MXN+aIyHr7SAgMZkMTFXQZdYwwrNFScFNV3lFEblH5G0Sbu1r4isytCNAcSNspwPbAkQt0v0EeAYuIEp4IrJ+ZDd2fELrYJTnGKmMl2BP7qMTXWyw8VKijTowu4Fl9AqwNBESVCfegjbg+UyZQ6c+5z5/qTILK9OwCuUdWITSjprNa31/vgZPrC/5Zm93C+26nZPJ0s9wRb3wk4LPDAPxRPXF79xQ2jcXzWyVAosQsRrKjrLx7qn/UQS7y6vFMoentITgXHcz/HIkrblo/YYclWKDbn3oEEIGZuAI6QrXmkIPxZk1wEAsImrezilC5bFCOHPkiRaSnw1tec/dEmWMFQiYga3cGPGvnGO/TS2h0PToEtVOcUY8+tniP0Ar6M5Wog4eGbRgJWb/EW6jWeHJlknnmh5Oh58uLTbFnI9iiTz4wQqtx3vDWFlstTVU2KpQx2U5A7xnLzKqQnsmheopFeiAlioac4vthHsRjhmWTRn26UGy6OMajRZ0XUkxDtfURVUbHtHyplCQ0oYZQMfZtHMh8lU9jqeSPRFyWfN8JWh+M7UnSGcytL9rwLaMg2/CvGwfN/swnGfVzDOtm43eth9/Seb4LutQ83sNToxp/TeFsG9UX0zqfT1np959bPup7bOvf6PNfP6WMav/+DUIJfgU/87/cgKnNBmIUy6JTbgxPy29mqv1OiXMefks4jRdlNGGTNjKuxmiBCOHlBafTPkJG2S0w5IQdhvFaNcoJ1zKhNHmNdNqpy4j5SmTUFISxto1N2CURoLwMiHESGUl4a02m/DWSkB4bwxhxFqNcTZhSrihB+HswoSxpizOyP8OYgQ0gZH+L0I44Rvj/N6AkiYWRklDMCRMP5VRxh5JGD0mIxVtmlLKW8AoYwAiBCiCkcYOymmzMaEsBp70uhlKWPs2IXTvmxL2iEm4LThpdB6XMg5FUwnbbHV0juFwR85S/huVIc0AsfJyVFCZG20jrSeo0Kqcwik1bDYsdK3WTmVFaeH5diX437R/20veD0Q8FzG1P6KlzDpBNma9iIZUbnL4LAOz0BJrLk6UUWT/wSoBMRXeMLJlNVhcHISb/nrWKEU0ZDW13BhXAdxgV5BPABAAZBCt8TjSWLTwKUxdwTjWKGGjr5O1o5GBTVMc45bA+brs/0mfml1ZTvirbVflA+i77E0HBbZJYPH0rVK+kVnhIcybVaPWOc85WfxKkXvoot4x3RlOk1psAUr6UXiC1pbQLdAZNZGJtfEAffBEYDvQDzIJQgFPgFngAdhxoEctfAQnVOAt4FI/M8m3RKVpEiplY3z8UQKK7ApPzEAoQAR/sYB8gNYkXxHhX4EYwViEvVtHia0DbwYlPEdlzSmDIQZIwWFaycBigZnmyPOFh78q2DcIda8XyHrRJ32kb+6QGMDAUbCWmHbf5FoQGwgD756QPOXDApGdcDPgCAK3w9Nw1k0pONqFebsCMQnz4MwBIJUO/X+7OFCAdTGTgFiAD5LrIfsI9AFEwUkCcwORrwiGQh4F040tdenXnZ4IOOCAX5z8CmwaTpYMLedFn3YG6kC5axJ5z+cQkuD2/+y6elXek6cslaM/rl3LKJYcP4xMzAUKVtWHLWOd8iXpIkUgNzlsl14jnSHQVIY8ogKVPW0MTonMZNgibsk8ftugJON4tzuoIWLE+t0EzkqLE6eERsF2nT6U99FiLcs554amQ7kOiRqeIs/tjIU0YtFrHam258aIuzzG52OqZL78Qr9WGnn05oVEhfN2dnFtK+Hn9VrmDTexpQTAldg/dWJ7zz77JWqAtnYOW+l/H+UUBZfQGln/aFeG5XSWk9TWUkDq+R9kpPi1Mfo1zYkzH+/cTonQ7prUOKXRYk3zkTsmVsu8/zWp7yyGUD4nQKoJJSuWHrVWQmZNOmUjoBwFvFZ6OWno9TaljPmMuAtCS50FLWkGdZB3/hTLah91Kp3I6HFKxOYfDyxxLhAsOGE112AgiZZ6WEl+gIm6VQmhz1jXDISsikGwk0WxdI7Cr9WiP038O3d4DruRaGcNJl4wvjG6HceZJMY7kkQ9RtqBuTow8k8OqhO+9Efa9LTRhwR428lJemUAqjanltJr+0mh/M3kO2c1d7JR7lvAWwbZAoqNuyABMwkRnDPXBM/vTpLXy6la7nDXTEibkfnpXraNUP0BbyYEcbiosqm2BxzS60/lIhybpRcid/FbwUDvJlj/1leh06q9RyX6Z1BuaWFyvHOUazETeJRu05LyX8eKP4A0niGT9LbjVnKj13hE9RFf7afu04M/t7yNmqf78ENGkkRNBTZ/C2XpCcTMizyT1xNbVE3Khb8e/WkqBxzvxOC5qM6QteeGzAy9lDpU8/QbXhTwOvlN6Y9qnEnVyG+0kbT9d+rqjh3sue7LsEqM6tJuuMzK3wYmvnpDzA0m0Lb+6F6WTnhWYoIXW64fdFXNRO+aCmczcoapJSlxgmMMmJ3ZKWfMrl97aqTL/N6MPKnKgdcyWzGRhXd/bM1BBdBdqfCA7L7gaAun8YeI+4wwpEhpJGee40IUv8cpYELnipCpboWo4rxoKzURosWqXEwiIfEWWh2t65yobRXpCujP3oMiofqkqZqU2TZwKJPXassqk6tPZXPiUlvy650EQzQ3W8E7BWb3lv0jWLV/cR7a25zxaZzJ1ZKS5yNpYF1lLOpM/OxIOXYjDs3s/Pc++jx3nZLhMZPD5FuNCoN2tnJzbRlNUU7J0sm5FWAnJWC1Xb/EOCRTXlBEXVffx3tlPgb6njKdRxqyrr6PBcalNHaF/o14lvjbWKt9rQP4iWIyKRl7IILDrz3Ubs8uDkxUX6zIWeeVGYGdceGQWqS7K+W+aw7dnOigSUGlqr+B/fx//aDsKNQfmQIYUVIltLCNdh8i0D0umLFFAD5ENJBAVvT/+DUIJvEW///9vfhQAkXMYpPuH6u5HW76g2r9EYNIPJzvUhNdH6s/YvDxsXFSuVziOdwZkpwVuEe6/vIRsF9BNEPhoaf0Ys9t10Bn1Myv3G0J8o/zxRZY995z4DSiUEAYIlFzNC61cq3/AYpSkYuORBwNg10qEvlB8Gx0zQiqjOvi/q0rz6vRd3Wz3b8FXB4VB+vG00RPYcA0QkP1eg1x9RKX5OHG0rPnDuELLElIYuJNJTI+B0QRoVUKTOV58h/90QG2KQ8WVp8VAkyV3zjF+/UPae8FdGtXRhK5exlaZJ9snNJFndLS6FFY5D6szjUe0Or3xiUCTPn13PtvtnLUDQ5NtYWjDnOJa09s9eapYd11/C6B6Kzj9jlkXbCeO+OUPnTh7TUvhCHUYiJQRoGXFkQcJDnBs6v6ZRkS5VeI5NLhN2CyiVS7eQkz2hob0lfYQj9GaCIy7ORJDzSEqFSBp6QJ0gnKVe8cQ3l3PMi4VNb0sY5Wt8shrz5/uDZK3n9BGMz/j9e6LpMo/FcCKG08szTKYZfTDNoM58RVlipJOPXweQsbIrPk7M42Y/n0ZUdG9wIkkeRohooyXzk2/Z2/W6lul1JdvC6/C7eJLjfpiM0xZDXrNZcErOCLLs3nOexpLMKpWnW86p6aikztM0njE24ZD6EfgKn7RkMAfQpaOubUpzWCzon2l75X7C7ZLsHas6FoiVikn3EqORy/oMvLXxV7GidKlCbjBDTWpFQxa13qV+GQ61YzSshm/OWHZXCE+pa9KtZ4yfjr5iGC0tzlcL/0dPCkJouDNWupesBNWWHmUyqY62T860FEN+wUKD3axRAyByumuJfF0B0ISgHXzzK5OpbxeoywaGR6MXH1AI+tacuBfVtQfzjthISjDY2yIQQ1CdBlM9vn8Vk6orxwkSwFvruj9yhHekYZaxBBbb6lKrw2lg6oCsz/hP7rUnEOH8Cn1EpecFXdEwbSietpqpcKsMKXGZjZPBP1WMQGGxIBEMIPnEmT7e+Fm4eXui42UNaB78ig3sFTAG6RIDMAJnARAERhAo1fEinHb1V4wUonRla5mDvjgAZfmYrEyJnW7qInBiWJJnbVi/wcGjLFSYyJKWidvMRa5JgQTziCDJo8QPWKKPTxdeTCVfQi7JSqMIDY4feXaiU8sjYlUMeiE+zlEthqwpUZABm6xhDJQPQX41wBwdqBDYAFZFjH1E5FtjagbiO7LPKARXsaODUBjUfVhMBqNuF8ivyD15iEp0ycoSjCkPZTFNF1JAM3Xo/9hWV9zH9h3ZYyKzA3PL0K0v12qVn3zRnMp5orBlFv+smDCF/jc/hHI8GvqtAXx5J0RnYXEj7VnohE+jAklNNGDMgGxxkBlYAMwA8IugN2CewSQBy51oGImcSoxdT28AR8nRQ3ViGyCBlYlkLdUWa9tEMQyOGvBwyqy1JO9546jeUfuJKBUJ6hCqMGWf+ksXOBBEcFpDz1Gt+K17ZdJhWmE5Qo3sJaRrowESvPM/NPGhe6Atp8o+p5qnh0TRVKA2mmwu05c0J7QMBCnwyEAHKAEFC4C7nlgvYBUYL1DA1YJaEjkzbIAjRymZ22IdLmHPioQX7j4y6KUhW6HGRL+hFZ0TCCXZt5ttDY/KajNu795AlDmSmHgXppY6IcDmZKwfCVE7E9y3TjPRyUc0w0ggC/0IifxY5zG0Ab8dSFYE5muColkpGBvt/AUizkxgw4ECgqc28AhQAYU0YKMWeWcMTAQeIviwrA5FQzgATYWts/xmdoSUCDlTc1qmINyXCM4RAfY9O90NIiqFCbiDEzlgjtxSnYj+ZUqcA7UGhc6do51xLJC1aHMTGUTuPe+FiiSSMqzLRINF1oRDVwV9DYCIigzKHlw2G6FFvkDKU+hhv4m0cQCXwtd/IARgDmhfgnxTI6oAx0SWFrv+ZkMNCDloAgzg96OBYqzQLLKTG/pQKmnrIHkHWILhd05qU+Uhq/gYM/tnQk1qxGpVxuthCXc5AYoTCH8Af2HND35VWHzhaj7wv4cuH6OHGYDmzzS9RY83rmG5GSIUhq0HFiqGUweKPsgJr6EEoEfjRQLLqoAnoIaD4DhFzYiDFQQOI7P+onQFFHsEvWMnVxq74fJ5G6tFW8VNfpoUUCZioerQ2k5jSeRq3Grib6gGeUW1Ds7ob1mpZQkbJn/GstRNKe//g1CCf2Fu1F7LXp0wKzZW7l1LtyUCvN52ThOlgXpPLyoSERXLx/FFA9MUNkDkphmh7ifIteeYFHROOi4TsE6mVEmG9K9jhZttC9s6M2kPTONZ6iOpOwTSOyrJqXOe0RFOMCIqWk5189RNI1aRH67rlE9r6cz/TDnzdvbPoG4tTzPVJ3LfbSVnm8cHxt9ntnVLDIjW5dK/XaQtSmelWsaiU2cYW41cRX1PG0lqsrz2jj6mw8KHGFUxc8Yt/EEbD/wh5S4vg6mGKyXut31ozNPIJOqRbTP7eRxhklGoeublBnD+D0V+tGS5JMpw+5KbW9JIKLKXYPe9pcVfhmj7EdhVEyPzzjz0tPBGmc43p3jkZFhaK0P+pK3LyU0DWA4flAkaqx7AsApUgPLJukhI/6QETNsQvLzO2GBvKDUowXW4aaFcDUUTi0S+YR3Mvwj8czVu5qpiiscnS+ak6GshiYMnpQIPLOaKXU1r6wlHcNuFwxcCr4ghTNBI0vLhP1Qein75QKW1iaabWU2hL2tGuivYbKrOU2sFNyMWmrOb/2mu+hzr2lbly4jJWdbDoP94mlkbE8fF8Vf7pU8ZyDpr1+2QSOEunbEVPDVXByF0nrpQpGJRIkghVWYg26CQPqzyXa9Qc6LTIbf0sdPbCKIJYXg2TF6EuGXHxH+0A1v0Zc441QmVzvBPzrxJS2O4Hcdsx62/zrRS4ltZx0E4X8BCe0X9aKpL4PSosAXmZ70Z7P80PoOT0p31sn/1CY3iFgxZPRp8IVoJUdAsZNgYVFUYZf+aiVScK8pA1KElC5z4u0WfZvWy65mKLPaOhzo7bWHfvxnVqmKyXamO4Tj9HeD8Qc8QbsmkvvhTaGXLFgfUJS3g7KhdBebkAcoradPboep+4vbZFRWtT0mD2Eki54bRWAzHyrLaOKBal5Mi8NtwvP14SmEXBOBTVzZTcZvF67HnpFan+v4PSKmvlmJSRdVIq7UqhmpCqVE05J4Zwbdfld/HxlxNseEps0WQzQbrxpVBaqCHVAcMxbdJZUVp0VZN17sV+9JbXjO3rYiu/OGfr7YQRDVrcjQ7RcU40dQKQiU3xduevzfIMTpTgr8IPeVE5yluvgskucWk+2zgIMjiPI8LCnXWG2EzoTvUlKSfKkLFVXEjOBTqnLs3FPXZ/yev5X5VhY78Cc9PMelO6ieNfg1eQOn3nd0d68usjq9QoWxRdKKdsdQ462vg+Rt6FrsLS6p/nWy4qym5aEvdTyuli+cqkK2qmNTroG3a0x0OgSWFbyoK3YPOKyCVTcq6ywYe7ZvxkFSs1EGu7QaexE10h1/0vl5s9c+1btpdu59z9/+Wpyj19hcjDkjLso1qJr5pETuSKSUrFW8qG62uCSaSkSssJDVJwo7By29YqCxrzVKZR6WULk46qrp656YjMtkorFahdbEBMuyqUBgca39gXa+FkEO6sKquBJQ8MuBTnYIhmEFZ/m+hDIj4h9HFZMSJftTv3ssonx1bjM9fJ6Jm1v2anMqnUWXOQmtDVDR6Ofe0L3ELNcOSI1O5mdbqlZIithaCFBIM1b1vJCR19FX9AVqQ4pFC63vQclsBpFV6aa3vUVE+uGzqfI+MX2WEpcqQIFNt3iJZTdJ8BLbgRzBu2cRIEFT4AujAi5qJw7Jay57EQzjBMU3wlN1rQaTqauF8v4KtAh8kx9lzjnvzGVcuaTyDSaJhURp1ywmLOURr+ZzxWoo8+CsAKOr3IKpXdog3WpwlArvfxKG/AgRT3j/+9+YVwcl+lZBF7SYKBtZjHccjFZfImwR2IIgiKqe80DQHDFNLqpzisY369MKqG7kLpvf/LjlD1wbTM2NnIxd93O8PO2zsPEpJeOcJx+KnHgrO+U9KcBqBFhqiVMkfXpVlxVcryM+founyoRxz9BTcVDtdQz+faqS8hJOzA/skzCjB8K4dyYi8t2lRoZvLENIVa0dUdYXFcCK0kw/2PsnyAd8LqRd7XCkNBgm+voFsgsIwBFpLUUrG51+eyG5BG6q0El+SXq9Mm1Np0YKamnlZm61DOEk+b9QkrImQ35+Yg3xkqXqFc9qwyUsUQYNYwwdlsTAdGMw9er/1N5V2lTDR1run1wJRq3dU+suo0XleYEEsoFJ9mYZLd7Y/LEEhlVgQ/BE0kwBGAJ7eNWNy2LXgXro8BUAPmPaKW3bHCQQht+wELzF9ORWdJXlF1Z5zJ7fmqkhNlj0PSOxob4Lti5BvN+ZcZMtJ8hvYFz98Ag4kxgJoHaRfufyLWw1IJt3OAC5//4NQgo2xTyx/ShAry1sMT7NqXxFJZGa40sGrUcyU7SvqjJA+cphlNd0nepbk03gemMrgd9A0irwD6AfiFrHNlkQGIwEKcMgjMDCwfaFaMIjP4KsmO6oG0hgZW7zy7okGW5TzojxFAB35LSryE0CS5aG92UzHcDHxsbqLqosOVlt4lEsBdJm634je2L2JwDdHAsgVvyzGeas+ugRPsd/zDmSWQ0ZU9Us6fewNWHRKZMWkja+oOxeExjfRpcAV5A8e4gB7gCfR4BZJg8BukBfmqoOJAccCHhmqfQ+eGjTedKjuBgZ9bBzbJdE9u4eiHg1Ox+pKJd5PZOsp+4miwsY9wKvE9KclET94mHEdLhgyHOSpJEm7b94UqQjkzhSqCxCXykHM91/JxWrAp1QfYtyNukjyN9XyNRl4319blrmIly3G7obMMRgHKQEES1AHsgJ7NfdhEAwLDhn9ioD7QHsBcDD1hSFZt1+HQBGgnNBin74JVMhuZP+b9dwaWi0CXC+kUXlYibiJxIRHqmgopPjk/zEsYvLSvm5s/zBCOj67TTVpU4d0TpUy/I8JIm5KT6kqFVbqyKN3ct06m03XtgAvMqgp9Z+EZ3kxay0UcnAAcZAMpk8wIJAP+DEUbz5IYBAqvxMEkAGqARO0hdBW19UkD0F3BxRKq82LSiYhGdvcv2iiMR6IHQ9rcgyQB4SyMJhEBnokhvPkHSurza6xFZGhZv2+ginLUKvRjKxFyYM57q/NROSo3UoR+v2ZrbibF+DKjd3yzjebLNxBDKn6YAR1J4yUEjGQQDDoDvZ/AAImARwrc12QZA02Bw9iYA90Ahwq1nNKMR5D1rA5+IfELXYopgXlD957Og6vTHRiojBu00u1yinqd6I8cKsdM0i4eU9TDidJhEY/tJNvMvz+uovVz1wkdGT1K767tNdEOhMIZqrMwjYe5S1feaXJzXTcrm2oA6JsarN36AcBTfKSF5sjgPNgCz+ogHqgC9BNB3EuyBbkCmvHAPCAbGPfeLZjKvn+e05wF+CWkxk3k2QjaNU8X9Nv4w0fevOIRl5UO5TkaBZoxFrr05PV02rPdsNpuCjVJT0Z9e3EDP4l9BGjFDDbiKuczUjnNu9b2pc0XZmfGRc550SKQ5UvXHjQViNafOMAyoqavegEbOdEAr+AH6RPEApUAEmB2gYFOSjuIDSebQMkAFFBD4rilqviZvXR6wJlGJpe9WguF6x9FcdwJQ5pIUUzuOJnJZj3CeoP2H/KdFe1mWHaHMaaTT6IfYgEvQu7zBSKJjchvykhD0sTmu2CBxgKcV1qcrhx1wBb5EWlWMvSsj9Phe+sL2IWEC3jZYoV3cGujLB/MAKugFGR6AAOkAMDNJhFcv+BEkelC4QDvAWI3WRtvuye0HAlLQRY9ZMZQg5aHhzGKADcijRthPAd/HK4MZsZOIqCN3TiBbG/8Y7MLWDrmRul1xkpLMuCb1L7Ai95hlN/NWmjiFDqieVJZYusyWVcnnVeS1Sv42T26TPukHHjxD1LX+sd0+lUSGoqggBmcAISh3oAAhoBpQD4YxrKYHfQhqCJwA10IyC0pemtV00o0BycQ9hw+mvXjQIeNezPuMIY0f+5+PblpUZP8FAjQXumSW3ZC53UWIjZJIP203habt8uaIrHo+NsIBYFVxSzu4wJ5bIEdJVeB2S0xSenNj+ORj/G2uSLJ9Ctj2R8dNXxrWP7Tox6YnKAOhgavAqUAeaBHICv59PP5wOAoT0AjlU4gu+u7tUqzkeqYEIOB0amu4+7H61XKFsIpdJLsYok/Ancrxy6cCx/J4MfWRc/8nez/naaBYTCuLlT916eWkZeoDFBN/0ECeBMZXEs0Q3obyyl1Qth/GZnShZ7yCxA5pezkYhKSldrtQNuU0NagD9syQ60AydPoHz5IvgrgVCBZokxOsrXF86tC1hJPd8q+s2Lp2hcvybUa4MrlYemGS7cfZY+yKwRM5KebiPZejVaVjIKeVHNoQo2+gJkfqEg418Yolfq9cjIpVHWc1FVBFfHNosPQq0HImuXr78kH8niFnECvg7+bHJLrzhtapfygAVtJ7jmQDGQ4IASDg4JjiTV1QXQfs2epmt6FoMPstM28OutF/GXJ2s2t4c0AgtNGsLjqB/zlDIDWWhHFumVTtmWB04u9R+fWyc+RRu95DluEiALIFl2tLNrwomIil7NL5EUF0al1+zHi2vI77xO/t2kySZKkoIsFhTYLyYjOFBIukrAAk+JWlJgM+BpQBO2xB1Nxal4UCFfNxqYqSi8kyEIOexHUW6Gnp5Ej6h/qlMDHslFU0m7o/qtRmflUCNiSVxR+mczrD11Afi1x1VuyJjLiv9YCnrHlVGGPfqAw/4uYKrC6IIwxEv2IAAC2Q//g1CCncFDBLOJgCn4dFwrVyqCZXEhE/wqUDmd7AqfHB1bLmTwA3zMUacADjnkQPqi2/mDqhMQJ8MeOlns+3DNiNlKWr51tUTz/gaFc9Wl+EiZMLdL4Pb4vN/S6lhgyUeic6XFV0+wrdgFP/nkZkwM4otbDxQiamms1rBBJoOnt/YUtse+m2g74tQ6oCixBHJcBY1tLDCaVXejq1AwnCSXS/SoXOROCX4DDsXAP7AIwCwIHS0KUQjfxMgUYg6YhWbamLEem4KiTwzimOvAtLoF0uwtUym+V1cUTbqFJs4Q76unPO7Fzx1Apb0irRhHY23KbaBnZfbRsWaQ7gjfmpZOgcZcVUegvyq/eNqO5IY9pjBdMjGsCXp0YikkL0WQnSs4pLjQQh4Op8qImoQBwAijS2dBlbMk6sNRUrHGFKaRlFZTT4oTROCV17txnm3XLytV7i/akRlz+qIJHi+iFz7MKlvNPIdQ0orEaUtqfLTChJjurtZZxxQ3N2G/cuok50kcl5cvqnXdX3Dv1uDQ8w+orHWqpcV/9z9NbcZX6ePwG0pLhE9CusCBS+BkCdPi4/phEIJsWr9zMNRDK0L/uqp/LqB7ZE2dD19eY5YedurDNbV9EdpR55QvUzpdniPisxRwlvaK/nBde4hiNBREecE+6XMMxvjglAh8glkrbtf1KcxMCWKnixOr2eq2MsMODl9fI+pJ2ig5ioqQXuHR08bq2DW6KIFbs61GhU8hM/LVW9YQ6wZo68aTZo/tkRE0Gce2hd9CwVmMha1Oh5oQt4NTIc4mL5BJHpipEPYb3EvxPmdaqsPEMUasg4X0z0FJuuxKJWyc/ZeivVWU1p4XM+NY0LxM8rqXszcY9M7p9hW0MXi+QHLiBAaPBTOCBH4kkVqfQYhQPgGKMHMvFqD+ZVoxl6ZUnAc1M9pjl2X0FW+B7FMyZYLX2fgA5YgPjwsQ0JuvM7Cz0yFM6KT3SqNPfHcv8S+brFb+5/FbOQsgPpDkUecdTmy2tNfZV9LPdKe1b3yE8FMTuov2bBCJ6DQK1A84EcQEmyxY4YPFOMXE2fAjkZP5tJsxhdPu7m2EjpDcX5qlz+po+JPKU14MKNIWYJP6kXw0sYoLMHYcdoQ6qIFHPJ1M7pU2DL2Wf8amakpOny2Z3lfB5dPZX7rfFWpmkpBrWL4qNOxq8OLzxeZn0t9tgEfQMGnoh4YXQCde3VqYZJVh4QS4miJJ5lM3IrKrRSiEhna65aPCeMMo6LqO1lGZq2PqghuhUnURqQlE49fkAhIaSSIhC+d9AzayQl8Ksvtwhm8/VfyUBf31qfJ9K9HqW/8AqvSbyZ625FIdifD/Pmg+rzSRqvgUHOxjnR17dYGkyiRZhyAdNKeKacawrukmdr1S5Ak2QRPnpHYock6Ml1jKdG6F2wJau4gVMD7T4ofxIhztFAj/TWAvaTNV6NCKzJ13D4xTjdq+3aKPYLQ9RasjfVJXhEe5X0n9ilt/eClupCbNL8q1RYtORxxG4sTruwoqd4Rh9jM6ODvn2bbWZXs1Zo+eaxHWYfohJIe7J36/QG9QhZXNmuSESlDNe6mULgx/CZ0ctZ4qlvoDfUVUB8jRJzolNGjcKmvlKccmiH8VRepSWlxbx1IrPFGdFkaLf/hlrvgV3aTqn+r9Eoluxw+9u11Es9I/eF13EuhCy3hpguoxP/gpYin5XF6BDL0OUVW0ZYdSXO5Ak22rQfvScSAGN2L9nrTINUyn31elPnEJKw3TopIOg2dPK/9gEilAqb8gOy4rz1iqgCLeXcA1G09pOrCw9EYP70xcjHK/PU/6sYOqXheerWEFJ33FkPW6qGDKg61gpW60FcM63FsPtLyk2eF6Vs1yy/kv8I1Fk1mT0ULbtwMkXPTDW7LC+Lz7Av2SZWkVjaB0W2pJioqOcF9nSVmfmvIdNMmQwRJgVE/ONpO6V5qfFiR8h6kZ08X8ahcW5s9GrJ/fhUepU2VwFPmmUyY/TBohCW5aPlB8W2L/JLiI9hLa4939v6hMnMZ2Fhcl1LVAmhkkp8T0gruuNcc4gYgmJ4Ptd1IWQdi5Gu98qYa63QumVUdNGf20NjqtQ73bxXyXgpmJR1v3196IyrfAsLxbvJtqNaIsTYj8SRM0WhLZCeFJpLWYrPj3nUMpC0KpNAWJUR632zi5B6bia0PVS77008xJOdd1bp7uurBOOsspqzxkzDeu9IoKzt0Vamr/f9JUwxpPrU+AYZ9+mJaGD4/C7/+DUIKtUU+E73kgIZ1qR3hLhZWZ1FS4qiCNLmla/3UVp0m/h66LetbUFuhFSQJCarXelj0TdHlBVkyC7iGuwTJciG5sRNKHQSyXFpMagIu3wVFjeS26BNE1ichlaKvg7iakj3FRdJr0q9R56svBONwL7b1UkWDxYuU2Lb3a4TzibVMsPs+WmzqVu/QXs9yxKNUEhICYMkxtvlgWPO/uO8Uy1ETLysoxHQSPR6VP+l9rAzr9/z8OsCm1Udx3Ul3YMAx5R03wR0L6trGmcgc7yibLuePiC1Ub046mzdofQMFfC+n/bo3330nGRFX/gIlls312L8EimXcUdSbA6BLnpLekOeLZPN3EXnrMY0FQ4cus+CtaMn1Oc6RFAZUakC0bJOnRRMRmuvsom2Ru5ZvMIhoXhcDBdKdMCT++D0UYqqEkE7fo9V16s6RLeIo1qF7os0h9t9l+YdKaFfK3IFOE4KMTcb0irKNsYDPnvJzgisO1dy7tW7YgQjHKD9kBCWI6zadG+MyalziqJjdFxM2Tp2O81d7J2jAS6Xh1bUe5jZQ1EmIiuGPxJhoOKGojaUqzwzCNSZTJE5vSRY6k83JYhHOqNbURHO1A032OHpekhm6Vn/+7qZ9yiTtzCO8R7A2vvqvamG/iIlfG4b8KOeQXBHT+2JAKroodj8dp5iYKhC0tSKwE+GzNajDAEguZgajzEy91b2pTy2OVn6vG6q3qlEGTZM+m9vYVaWc2jzVkU+RYtAj7t0BBIajrqUZE+WnyEwKNRUgbzfA8OGKdcCq3ZDq7n4ckCtGVa1xliaVHSFJQtaG5qBZasINsVV9KFCoZEUuKnMvzS/FzoFFPlWZt/atJtNSZrp5vDJ5H7l2BT/0nVHpkTVKril1u/IgQZE6qXeyGW93GDDsyFy9j2qnrCvODJEbdcfxtVNEgtZob481/d19ssU19kT65uFmasQsgW0tJbIGI3WXO0OUdZHzApxsIUsDmw7N+a+JajSF1P9Y5aa3/LvjWgqNHojD0CLqsncwo3/aK0+nKItE11paKM7GE6lzWOyXkjTxICof2sjuloshf1UoMBeHrKIWUKFvgh+YqWJUBnNEPfABYG/ZyYl/VFZBfkFSnHsWfD0G9wKTESVVZ65CVoJml5+ILbVF7LxMRIPyvNNgWYLRRiIk9gqzMValDzur6zwS8tatkWJgmfX+dZIVpsOQ1iEscHUXL29KxTm1q/gmEq0b96fptI5WnEv78Zvnkgi01OG6DD8L6O3BFiuMBjcLkd0/S/wiwPTVjhdUhKHU59UQG6RUyvHkL1EgiRiz3vgXKCWFkcpy1IhUB2DU1CkUWRQlKSXXRm6L/o3f4ZcUot1xwbUpgeJkym/NmBVqcOPeStS5nfFoEDu8Q6CY4n5Jponn+JUqA7qcJojLD0xzFzg26Q+kxdLN1MejStFbkXcfOJx9peV+TtdyIH76LAmqmJvfUT5id+g1boeDXbZx3kOLDVwSbz1WXwO5r1jdzFZxvklwFjVSKwycq7DFk6CN52hpts/DjPFCvHg81HoZtkMvbvxCDSzsc2DaSdzTpZFA7kv1RRfHwr8TyDpOpbAKZs+9jXj+CuQ9I0XTTrXBkWJyBPm0JuWfVEqaSljNztmCFdl1arGTGTgi6RtYhE1R9HPG15TLpfeTAIRLkC5risY9iK9O10y3IZlWjTbGJ3T2axdh1VrQvKNp3Vv63o195hcM1mAQ+57qAZNMoLldb5LLL1y1qbzFdKPrpSgOF1FYvK/d/fydCtpfVhlPm6GSXPkwXhSzLR3v6NGFy6rVx1vsb1IA3csQbxfm4e3ooEl3tTlLO5l01tmDYa7KD4+l4NT0rUx/tWClIjTKlqIHlUNgxNqJq0hmM3AtVb/+DUIK9ISABsBgbGobxV98S14Lo4n4ZFkyqn4k+JnvlLMvwft4SYorDFlC7tCIBiPIBDKAuR93obxFleGiTNTUVPOBYwWlFhH9trBKKBlOLiTGyK96jgqkMjguAPWgUwhj+PAPj6BT2jcd3HlwXogV08I10MOAKm8EV6Do5FDQRbgSm8J9MUhmRGEGMNoZA0dwPpNAnH4oiDAdkRrjldCWqAlWyO3rBsThMhC67iAiBVe3YgEcvwDR3E9CK1P9y/p7uluweBfAWxkAcN46oZSWE9KYUPHkHp8De+kZPpPkAVYFXyqSyCXAbE8f/Y0fMhqWyvN1y9RbBXdjxjJhUPIL+oWjh9733paE+aMVkEHkeKoj9h82I4n32wk5w+F4ut6EcK4J+kBAJwE8LItPCv1jZkowUJdBPSjYnhF5C4wu/xVDv5GAeughjHUGCobikHEugrJx9USYpMvNJ7ECGNaGii+zAjcwU0khG6QqnYSP4p1Dxg4XnF3O84KQ/KYIfwMn0R6WlLFB6LcNvPOQjFs8lg1P+dW48ha8G2CeCRaQVUShAIo84C4OpjRJhFQYimW29MJW++wBQTAtmEVBy5dE7kz9jJSJJtvEKmK5jraybRYMBFVBuxjDbTlidvEAzQMcSs9zA2bjmf1guSF2i8s/ZSjl0wmOjKMzZxVWkyBCseZFSjIgVy4YmV35SyS2HgsjPfb3/46cXOFS/bFLbSWiASkWLFqIHxNE+yMSwaSWpCwymd7YCEpwqVdrKRuRpBnT/is0F4lhhyBufi623U/bQqyI2l1ry03YcrSbjTb7sREdT9F5ms90/ThXYvRO2pq/j2quJi3EV53jkZNHvehIgkZinpN0jqQWGhYQEjD1ENDCIwEWWsOKqorxKVsr//pHhym04HNF9mLoeee6Ljg7rdrmS9BAUM8LHExKEjAoLrnXdDN6Kol1zcblA2nNoID6KKEZvTXzq6GLxSJbivD18SyPefKnp7FNffGpJ99+/eUWmBnK9MkEhBpwsGRfU1d4RO5jc34fJo8tNb5oTEEruL8ZsULle7ykjpT0TsdNRjwGWDOS0HCtImPfOUpXzVlxvRkgp5HyGSphhQpb7DVMMVf6FaEf//SooYVvqmECKz12ImQGevo2RdqgyV33HqSLyjhroy4lmfCsJUwkuMVO3T4cyMgfoxBjFi031ULWx8c3OTaz04zqlkQlZ3O7PLBmvIL7MbFKnPjxOs7BhS9OJRi9qHSkn1e0Dw9VNPGO+eGkx72xWiZ0v/6xTJM/CsEDmQ4nckpxqw/7H3ra5aZs6DgSpFYicWPWRMWvFs0sdFg6EFZSJhLnKlG/5wTmztctXdseVl1wZnu9IQpaHVkWEyrFRcKBMms8btAsyrcKxi6QcqFIz3lqmU6cJqZK7qV/TVcqIcn1p90tUqnAz5ZJoJCbDmquzFR6WOP35c71emGhAn1Wq0ro8fYyR11B1KTPQh+v5axrDj+MIlH0ACcE4AAALYAe+YAbAEgAcABhAAGsDaAAADIBwxg0gDDgrAAwOwoqcgCPDyhaG4ximDjvGoTB27x0moyBI6SyS95dgCIe//4NQgsxxIAzgED4GQAVVdoLaHTgETYm2cDA0cB2hwBgzn3AX6AAYAAAAAAAqPgABoAMEgACgAMgAAAHzIAAAGgAABbYAHQAAAAZAJHgAAwAAA0AXAABMANkABoBwQQDoABnLAeAwAYDYERkCICwAUA4AXA+A6aADwAFCAAqAH8PBgAGEg2DIItDQLLRIoxVPIIhsh8yiyMKU18N8Elx8kPfFvBVIMMRSOFQbDzmRnTIzzgo2AfAmwFn6zm/0a7CshNK44gJBFGiY9eguXqKQGzJ0HxwFEEPZExNwFA5UrsuBACGw66DjmDETIVSkSiHQkULYgOv+Bb2Q14yuwuaKCdxZ6hvkAmwpxqCvS5IpF2i/n32fB6RFsRZCzCLsdnGBGZujAuLpuFK5I6Gj2icRtYYndf7BWSkl36ZwEYIn7a2f01obQKLtxOKkkulMMRIJGxoeTXSkd8qKpHE1Loih56IQQeTHuYiV1EKSr11G7uhoKkT0Kt83E8ao2LdoqI1nTZIqRsnbeLPPu8ii/dOVvtiDwbIZWZyvAUJyJSFSGn0eD2yvlSFb+V6dFq9LHxg72u81punNtHl0PuPoW/azxFe1si1C+JkR4cmuwWXiwoRqogSKd2tIjaKCHV7FjM4rll+J9Tqhmn3uQRj2NOksLm2mrP0SOkJXWy+FrGS/DXMjpgv5GBh8oTv5KjMvTP+mQmEWVTWvs/kwalJPhq/FypgrzKjz0IcyYSNpQR2sUd1EajHd2lRB93xl+IjycwUn1hUWpawuUqR4XWZ6KHf4ZbpVnlIevqkOQIaT9H81CsTTsnncyk/khjOSvNZWTlJLWP4xfPxAqJZvH+VsXlppvmmVOKIarpZBFflWF4W8tubKXMUtz5mLSsVH4qF/IOLRRQSR5AlWp37FVIFcmpzyQaHWkE1F8KbK73LTjqOl3ID+n7abPI8qVtJslev5TqKmjZEIG/G7VI0/Fhkl9C3fUaucwt21I3Rmh5+5NcWY5dU5qi3RxHyJpY25PdoMbuQT1Lh7WbvZ00025maiOBATUoqwrVy+yBFmxATUQlIu4k82t9GCRdGCeL7TtGsT+Gm3WkkfJUlMh/sq2K8T7G6EzKV5+sifLCKMcZIovlpxVKKu0VSsSdnzZ6KLq22ookmWkJ1Fp3w+x3zO8SgyOI3StIpD7FhA2h5iHvQIOnLw9RVRkewuQYmuS4nwIM4Zlr/VGmZoUZQpWv4/S41tRUm11mPf/4NQgtwBIAVQE7XbVRNBW22FUmW/ZXz5NC77ibs/bRhP2bI5QTzVKsuH6nk6kSbC7F/zY8X/a25vklfn9EIKG0IOJxPRlrcscsKJvLFRamISLZIQdMKadINeXNdfYo9OE4T5NexFYj0lJSqDNZmKU9ei3GRKSaSg2pU7HPM1nmSuVm7JHcsNwI+fcgqUGXMiY0+XSlgu4kk3NEoI0emYKpR4jiWJGm7iEmLp95D3SxQnSiE1q95eEVPH3kY2S1SCOo7ebegNlWIFZM2+n+l40k/5npDHcM4UCMcxm6LSiI50g8hm8YvOvKR1zWZ9KJxYxeSmZc1zSycuKMZevyHoR5RxE01whHi2IQki4lmGdKr/O75swvODp5W1Pqr0IkUEiLBmM1wgvZdBn6BlMkt9fjDbQRoIBmklqr4XguxcrGkOd59lqwiQQp2jF0MU9WZzvaNYRxOMyW8LpG8ZNlInn0lWsTSfHv5aS23ZJNxKaWdzEHcW5bDJRoiSmw2Y8rDG4eSi5i3FWCaWMbx5XuJmyxGKtyqLh2mKUnOr5hcgufWG+LVojXydGyHF0to8hT6z0RGalFJ8kvpcU/2mLdJ14vRpTq3eUJRRQuMIkO0WX3RbrKza0hVqd0Kan+nNrSIkLEZLXb3yX4KvLLwZv96hfjLya1Ntw9AojCsIKK80qsqYPwcykn1HTx+eUs25MQ7DEGhzCDZZDi6bnYf3FazsMbMIqHINmt8QIpcS+kThXiwjKnyBoqQZZuySZQQr0+cIuMCrEL2n3Cts0yRafhV5XBG/pVv2U7/iluC6K9OajtdScl+0K0TSJpaLniBGaGY8aP0hKknm2IJQ+4XLU4/5JcWVYaEms+UqtCjiGf0wYrtiPVjTR95vlEUrlnSWMbSml9qtXEfUlS8v3gyYCMJQbR4rr6t4Yq7RuCfNFTRdl79+EysUzNKO2faXirjB8QR3Qwy3bqvkDKSRfD11KcoyKJLluwNcyQkQ7xwTatrGjuqt0mQTpAlDAgmsVOPMkrTYax0+04lfa2ESHF5SvdpkwrT9erRV5Pi5ARa4ynOkkS5DJB0tVukMsQMn1EH3kpNJ/p29GGctwhdeNXvhAO//g1CC7JEv/aARCVyZBHieIVdLf+tDDZK6X9tJ4QZVKfvrCebkIF8CEbIMtZ99iX6WeRhpl5h28SycZFozihL0qiCatml2qaohHf8IK2nHtspej6SvyEWE8KKpN5jVNPd2dV1JFfkiNHZirXl+RGFapNO+SlXjTpb54qJZRu3pfia9HpTpKyxFhWSXyk5m+7mlggXxNrSp5NWbm4YLTxpOCW7xsw7CklE00oazl4JqYVytHDhfGdwxC2HBlhJ2bupxSm5uo0ZVLdyUttKNE92hbCEJw+99aeFYdWi3RGKKH6J+Q/28fbYVgxCipCpDPhFheHJRVPNpJkpK1V4qa8qoqpC3edmSoUmwrVZ2coL2W39r/62s/z9K+rMwbQkz/xCRWyPxRtGjtEiCaZDMkxQunaDx8s7BpLOOplFUpvSjPVFaIdj6vlVlZU5v3LoT5aDBaviNYVQ5RGyR2nK0kut+mu+X5PSBGksEUcTr1q3SKfiJ5+E1eRpHQyIVtri6Mpcoh3SNWpVkleYt1mSZPVivGK35GsBZv8/dpYK+xFyAcG0FthgqYb1UhKl+VixVZP5LUs/GPqR80ijpDZY7emdll8zj2ke+famkJ+JdqrWsl+WO6WJ8R3f2oqJPxUXRpAnibBuVv/ZlQrVLnFddp4kz48RVa/ZpcknQk3TyKSFnykJQUydGlVIuOb0uME47MsYcTjxCOhUo0ghtbSycar1UrYmodcWidQQ+pC8EI1ZEOL0QbEq1XqsNrL92jHnjK1Z1Xot2aNO0vOFTyKqiP6KqTTNfhYtVnjGbZqoujLidKZq37Ky3NrcZKdWRSIXhBbaK23OOrKuWorAoihHU1SmaWRo9fphckq/iu1bPJr2rZ0hjtZ79NJec36R6NrOoNK0g4gXqlBJ3Cqc/pYTeyrlT7vsECepLOd171bwSWbarNZTkyUyT6BJ9JBDHcZx47hXOMQ28TS06U1CGGd7IYj7uVMJ86iysyTpeWjakonF9zqgzStidykWL3IpWT4jnPOCa0H0mT0E7OpW/1IkvmJ6NctILuLoocT6gSVieXQKKIWt08yhGe5bxHDKW80ik2azwAbv//4hQgvJBIAJQEj/9OM1mjPmCfbRXclBCCUypjrxON1OO09Lk0Vqf6gvZWxGq2+pYnSanXsn0mN4mnJaupIsQ8527CxCkiX6Xo0zqfr1n6U/t87+3npmZ8bNHTX2TSKhNLKyNzx8xfScSAVopnbc34Pk8q2mQj5VeVu14ZJCMVtcnj+fI6LeX7iSrXuqaxgsn2Pww+60tGmRZBXGGp4i1OM2sNCHcPjDOvPluxySTfjqiZ4RLFPnL2TSThu64AijQ==\" type=\"audio/flac\" />\n",
              "                    Your browser does not support the audio element.\n",
              "                </audio>\n",
              "              "
            ]
          },
          "metadata": {},
          "execution_count": 14
        }
      ],
      "source": [
        "# LA_0089 spoof\n",
        "print(sample['key'])\n",
        "IPython.display.Audio(sample['audio'])"
      ]
    },
    {
      "cell_type": "markdown",
      "metadata": {
        "id": "z0A5cdl46IZ0"
      },
      "source": [
        "## Audio preprocessing\n"
      ]
    },
    {
      "cell_type": "code",
      "execution_count": 15,
      "metadata": {
        "id": "ykAUqWr66IZ0"
      },
      "outputs": [],
      "source": [
        "def audio_preprocess(waveform, sample_rate, resample_rate, desired_duration):\n",
        "    \"\"\"\n",
        "        Resample audio to target frequency (16 kHz or 22.05 kHz) \\\n",
        "        Set equal duration for all audios\n",
        "    \"\"\"\n",
        "    resampler = T.Resample(sample_rate, resample_rate)\n",
        "    resampled_waveform = resampler(waveform)\n",
        "\n",
        "    desired_length = int(desired_duration * resample_rate)\n",
        "    if len(resampled_waveform) < desired_length:\n",
        "        resampled_waveform = resampled_waveform.tile(((desired_length // resampled_waveform.shape[1]) + 1,))\n",
        "    resampled_waveform = resampled_waveform[:,0: desired_length]\n",
        "\n",
        "    return resampled_waveform\n",
        "\n",
        "\n",
        "def peak_normalize(waveform):\n",
        "    \"\"\"\n",
        "        Normalize audio\n",
        "    \"\"\"\n",
        "    waveform /= torch.max(torch.abs(waveform))\n",
        "    return waveform"
      ]
    },
    {
      "cell_type": "code",
      "execution_count": 16,
      "metadata": {
        "id": "ywHtdGDA6IZ0"
      },
      "outputs": [],
      "source": [
        "class AudioDataset(Dataset):\n",
        "    def __init__(self, raw_dataset, desired_duration, resample_rate, transform=None):\n",
        "        self.raw_data = raw_dataset\n",
        "        self.transform = transform\n",
        "        self.sample_rate = resample_rate\n",
        "        self.duration = desired_duration\n",
        "\n",
        "    def __len__(self):\n",
        "        return len(self.raw_data)\n",
        "\n",
        "    def __getitem__(self, idx):\n",
        "        waveform, sample_rate = torchaudio.load(self.raw_data[idx]['audio'])\n",
        "        if self.transform:\n",
        "            waveform = self.transform[0](waveform, sample_rate, self.sample_rate, self.duration)\n",
        "            waveform = self.transform[1](waveform)\n",
        "\n",
        "        label = 1 if self.raw_data[idx]['key'] == 'spoof' else 0\n",
        "        return waveform, label"
      ]
    },
    {
      "cell_type": "code",
      "execution_count": 17,
      "metadata": {
        "id": "x9y5srqs6IZ1"
      },
      "outputs": [],
      "source": [
        "_DURATION = 6\n",
        "_SAMPLE_RATE = 16_000\n",
        "\n",
        "train_dataset = AudioDataset(train_samples, _DURATION, _SAMPLE_RATE, transform=[audio_preprocess, peak_normalize])"
      ]
    },
    {
      "cell_type": "code",
      "execution_count": 18,
      "metadata": {
        "id": "WPClop2x6IZ1",
        "outputId": "ab397083-4431-4b27-db22-c05692d2eef5",
        "colab": {
          "base_uri": "https://localhost:8080/"
        }
      },
      "outputs": [
        {
          "output_type": "execute_result",
          "data": {
            "text/plain": [
              "torch.Size([1, 96000])"
            ]
          },
          "metadata": {},
          "execution_count": 18
        }
      ],
      "source": [
        "train_dataset[0][0].shape"
      ]
    },
    {
      "cell_type": "markdown",
      "source": [
        "# Feature extraction  Definition\n",
        "Mel-frequency cepstrum coefficient (MFCC), constant Q cepstral coefficient (CQCC)."
      ],
      "metadata": {
        "id": "QzIFl95M0Gm-"
      }
    },
    {
      "cell_type": "code",
      "source": [
        "class AudioDataset_MFCC(Dataset):\n",
        "    def __init__(self, raw_dataset, desired_duration, resample_rate, transform=None):\n",
        "        self.raw_data = raw_dataset\n",
        "        self.transform = transform\n",
        "        self.sample_rate = resample_rate\n",
        "        self.duration = desired_duration\n",
        "\n",
        "    def __len__(self):\n",
        "        return len(self.raw_data)\n",
        "\n",
        "    def __getitem__(self, idx):\n",
        "        waveform, sample_rate = torchaudio.load(self.raw_data[idx]['audio'])\n",
        "        if self.transform:\n",
        "            waveform = self.transform[0](waveform, sample_rate, self.sample_rate, self.duration)\n",
        "            waveform = self.transform[1](waveform)\n",
        "\n",
        "        # Compute LFCC features\n",
        "        mfcc = librosa.feature.mfcc(y=waveform.numpy().squeeze(), sr=self.sample_rate, n_mfcc=20)\n",
        "        mfcc = torch.from_numpy(mfcc)\n",
        "\n",
        "        label = 1 if self.raw_data[idx]['key'] == 'spoof' else 0\n",
        "        return mfcc, label"
      ],
      "metadata": {
        "id": "9Iqk4bA5Bs66"
      },
      "execution_count": 19,
      "outputs": []
    },
    {
      "cell_type": "code",
      "source": [
        "train_dataset_MFCC = AudioDataset_MFCC(train_samples, _DURATION, _SAMPLE_RATE, transform=[audio_preprocess, peak_normalize])\n",
        "train_loader_MFCC= DataLoader(train_dataset_MFCC, batch_size=32, shuffle=True)"
      ],
      "metadata": {
        "id": "2u8jCp-QCnOI"
      },
      "execution_count": 20,
      "outputs": []
    },
    {
      "cell_type": "code",
      "source": [
        "test_dataset_MFCC = AudioDataset_MFCC(test_samples, _DURATION, _SAMPLE_RATE, transform=[audio_preprocess, peak_normalize])\n",
        "test_loader_MFCC= DataLoader(test_dataset_MFCC, batch_size=32, shuffle=True)"
      ],
      "metadata": {
        "id": "2wxyAS_4OwT1"
      },
      "execution_count": 21,
      "outputs": []
    },
    {
      "cell_type": "code",
      "source": [],
      "metadata": {
        "id": "f_GjXbW50n7q"
      },
      "execution_count": null,
      "outputs": []
    },
    {
      "cell_type": "markdown",
      "source": [
        "Log power spectrum (LPS)"
      ],
      "metadata": {
        "id": "3Y9OSDry0d0Z"
      }
    },
    {
      "cell_type": "code",
      "source": [
        "class AudioDataset_LPS(Dataset):\n",
        "    def __init__(self, raw_dataset, desired_duration, resample_rate, transform=None):\n",
        "        self.raw_data = raw_dataset\n",
        "        self.transform = transform\n",
        "        self.sample_rate = resample_rate\n",
        "        self.duration = desired_duration\n",
        "\n",
        "    def __len__(self):\n",
        "        return len(self.raw_data)\n",
        "\n",
        "    def __getitem__(self, idx):\n",
        "        waveform, sample_rate = torchaudio.load(self.raw_data[idx]['audio'])\n",
        "        if self.transform:\n",
        "            waveform = self.transform[0](waveform, sample_rate, self.sample_rate, self.duration)\n",
        "            waveform = self.transform[1](waveform)\n",
        "\n",
        "        # Compute Log Power Spectrum (LPS) features\n",
        "        stft = librosa.core.stft(waveform.numpy().squeeze())\n",
        "        lps = librosa.amplitude_to_db(np.abs(stft))\n",
        "        lps = torch.from_numpy(lps)\n",
        "\n",
        "        label = 1 if self.raw_data[idx]['key'] == 'spoof' else 0\n",
        "        return lps, label"
      ],
      "metadata": {
        "id": "2Z4hjDb_SG53"
      },
      "execution_count": null,
      "outputs": []
    },
    {
      "cell_type": "code",
      "source": [
        "train_dataset_LPS = AudioDataset_LPS(train_samples, _DURATION, _SAMPLE_RATE, transform=[audio_preprocess, peak_normalize])\n",
        "train_loader_LPS= DataLoader(train_dataset_LPS, batch_size=32, shuffle=True)"
      ],
      "metadata": {
        "id": "V5D1kkJ708HN"
      },
      "execution_count": null,
      "outputs": []
    },
    {
      "cell_type": "code",
      "source": [
        "test_dataset_LPS = AudioDataset_LPS(test_samples, _DURATION, _SAMPLE_RATE, transform=[audio_preprocess, peak_normalize])\n",
        "test_loader_LPS= DataLoader(test_dataset_LPS, batch_size=32, shuffle=True)"
      ],
      "metadata": {
        "id": "cyYfajLa08WY"
      },
      "execution_count": 34,
      "outputs": []
    },
    {
      "cell_type": "code",
      "source": [],
      "metadata": {
        "id": "IbPqll9C_gXO"
      },
      "execution_count": null,
      "outputs": []
    },
    {
      "cell_type": "code",
      "source": [
        "class AudioDataset_CQCC(Dataset):\n",
        "    def __init__(self, raw_dataset, desired_duration, resample_rate, transform=None):\n",
        "        self.raw_data = raw_dataset\n",
        "        self.transform = transform\n",
        "        self.sample_rate = resample_rate\n",
        "        self.duration = desired_duration\n",
        "\n",
        "    def __len__(self):\n",
        "        return len(self.raw_data)\n",
        "\n",
        "    def __getitem__(self, idx):\n",
        "        waveform, sample_rate = torchaudio.load(self.raw_data[idx]['audio'])\n",
        "        if self.transform:\n",
        "            waveform = self.transform[0](waveform, sample_rate, self.sample_rate, self.duration)\n",
        "            waveform = self.transform[1](waveform)\n",
        "\n",
        "        # Compute CQCC features\n",
        "        cqcc = librosa.feature.chroma_cqt(y=waveform.numpy().squeeze(), sr=self.sample_rate)\n",
        "        cqcc = torch.from_numpy(cqcc)\n",
        "\n",
        "        label = 1 if self.raw_data[idx]['key'] == 'spoof' else 0\n",
        "        return cqcc, label"
      ],
      "metadata": {
        "id": "8gAcDsVG_gaC"
      },
      "execution_count": 38,
      "outputs": []
    },
    {
      "cell_type": "code",
      "source": [
        "train_dataset_CQCC = AudioDataset_CQCC(train_samples, _DURATION, _SAMPLE_RATE, transform=[audio_preprocess, peak_normalize])\n",
        "train_loader_CQCC= DataLoader(train_dataset_CQCC, batch_size=32, shuffle=True)"
      ],
      "metadata": {
        "id": "H1xsxl-z_gdV"
      },
      "execution_count": 39,
      "outputs": []
    },
    {
      "cell_type": "code",
      "source": [
        "test_dataset_CQCC = AudioDataset_LPS(test_samples, _DURATION, _SAMPLE_RATE, transform=[audio_preprocess, peak_normalize])\n",
        "test_loader_CQCC= DataLoader(test_dataset_CQCC, batch_size=32, shuffle=True)"
      ],
      "metadata": {
        "id": "uO17lhiO_v3k"
      },
      "execution_count": 40,
      "outputs": []
    },
    {
      "cell_type": "markdown",
      "source": [
        "# Model"
      ],
      "metadata": {
        "id": "oez3Orkr1R0U"
      }
    },
    {
      "cell_type": "code",
      "source": [
        "from tqdm import tqdm\n",
        "import torchvision"
      ],
      "metadata": {
        "id": "6H4pMZzcqpsH"
      },
      "execution_count": 22,
      "outputs": []
    },
    {
      "cell_type": "code",
      "source": [
        "# TODO your code\n",
        "model = torchvision.models.resnet18(pretrained=True)"
      ],
      "metadata": {
        "colab": {
          "base_uri": "https://localhost:8080/"
        },
        "id": "A96Tr2Ghqpv-",
        "outputId": "25e44e89-3606-49ac-d353-233f52ac3e47"
      },
      "execution_count": 23,
      "outputs": [
        {
          "output_type": "stream",
          "name": "stderr",
          "text": [
            "/usr/local/lib/python3.10/dist-packages/torchvision/models/_utils.py:208: UserWarning: The parameter 'pretrained' is deprecated since 0.13 and may be removed in the future, please use 'weights' instead.\n",
            "  warnings.warn(\n",
            "/usr/local/lib/python3.10/dist-packages/torchvision/models/_utils.py:223: UserWarning: Arguments other than a weight enum or `None` for 'weights' are deprecated since 0.13 and may be removed in the future. The current behavior is equivalent to passing `weights=ResNet18_Weights.IMAGENET1K_V1`. You can also use `weights=ResNet18_Weights.DEFAULT` to get the most up-to-date weights.\n",
            "  warnings.warn(msg)\n",
            "Downloading: \"https://download.pytorch.org/models/resnet18-f37072fd.pth\" to /root/.cache/torch/hub/checkpoints/resnet18-f37072fd.pth\n",
            "100%|██████████| 44.7M/44.7M [00:00<00:00, 134MB/s]\n"
          ]
        }
      ]
    },
    {
      "cell_type": "code",
      "source": [
        "# TODO your code\n",
        "n_ftrs = model.fc.in_features\n",
        "model.fc=nn.Linear(n_ftrs,2)\n",
        "# model.conv1 = nn.Conv2d(1, 64, kernel_size=7, stride=2, padding=3, bias=False)\n",
        "model.conv1 = nn.Conv2d(1, 64, kernel_size=(9, 3), stride=(3, 1), padding=(1, 1), bias=False)\n"
      ],
      "metadata": {
        "id": "4iC2UKvoqp0Z"
      },
      "execution_count": 24,
      "outputs": []
    },
    {
      "cell_type": "code",
      "source": [
        "optimizer=torch.optim.Adam(model.parameters(), lr=0.001)\n",
        "criterion=nn.CrossEntropyLoss()"
      ],
      "metadata": {
        "id": "zaVoVS3Ayd6x"
      },
      "execution_count": 25,
      "outputs": []
    },
    {
      "cell_type": "code",
      "source": [
        "device= torch.device(\"cuda\" if torch.cuda.is_available() else \"cpu\")"
      ],
      "metadata": {
        "id": "3YyKNFw48MW5"
      },
      "execution_count": 26,
      "outputs": []
    },
    {
      "cell_type": "code",
      "source": [
        "# TODO your code\n",
        "n_ftrs = model.fc.in_features\n",
        "model.fc=nn.Linear(n_ftrs,2)\n",
        "num_epochs=3\n",
        "optimizer=torch.optim.Adam(model.parameters(), lr=0.001)\n",
        "criterion=nn.CrossEntropyLoss()\n",
        "model.to(device)"
      ],
      "metadata": {
        "colab": {
          "base_uri": "https://localhost:8080/"
        },
        "id": "wcby7_IArCXF",
        "outputId": "79c259c4-223e-4008-c77a-61822ed47273"
      },
      "execution_count": 27,
      "outputs": [
        {
          "output_type": "execute_result",
          "data": {
            "text/plain": [
              "ResNet(\n",
              "  (conv1): Conv2d(1, 64, kernel_size=(9, 3), stride=(3, 1), padding=(1, 1), bias=False)\n",
              "  (bn1): BatchNorm2d(64, eps=1e-05, momentum=0.1, affine=True, track_running_stats=True)\n",
              "  (relu): ReLU(inplace=True)\n",
              "  (maxpool): MaxPool2d(kernel_size=3, stride=2, padding=1, dilation=1, ceil_mode=False)\n",
              "  (layer1): Sequential(\n",
              "    (0): BasicBlock(\n",
              "      (conv1): Conv2d(64, 64, kernel_size=(3, 3), stride=(1, 1), padding=(1, 1), bias=False)\n",
              "      (bn1): BatchNorm2d(64, eps=1e-05, momentum=0.1, affine=True, track_running_stats=True)\n",
              "      (relu): ReLU(inplace=True)\n",
              "      (conv2): Conv2d(64, 64, kernel_size=(3, 3), stride=(1, 1), padding=(1, 1), bias=False)\n",
              "      (bn2): BatchNorm2d(64, eps=1e-05, momentum=0.1, affine=True, track_running_stats=True)\n",
              "    )\n",
              "    (1): BasicBlock(\n",
              "      (conv1): Conv2d(64, 64, kernel_size=(3, 3), stride=(1, 1), padding=(1, 1), bias=False)\n",
              "      (bn1): BatchNorm2d(64, eps=1e-05, momentum=0.1, affine=True, track_running_stats=True)\n",
              "      (relu): ReLU(inplace=True)\n",
              "      (conv2): Conv2d(64, 64, kernel_size=(3, 3), stride=(1, 1), padding=(1, 1), bias=False)\n",
              "      (bn2): BatchNorm2d(64, eps=1e-05, momentum=0.1, affine=True, track_running_stats=True)\n",
              "    )\n",
              "  )\n",
              "  (layer2): Sequential(\n",
              "    (0): BasicBlock(\n",
              "      (conv1): Conv2d(64, 128, kernel_size=(3, 3), stride=(2, 2), padding=(1, 1), bias=False)\n",
              "      (bn1): BatchNorm2d(128, eps=1e-05, momentum=0.1, affine=True, track_running_stats=True)\n",
              "      (relu): ReLU(inplace=True)\n",
              "      (conv2): Conv2d(128, 128, kernel_size=(3, 3), stride=(1, 1), padding=(1, 1), bias=False)\n",
              "      (bn2): BatchNorm2d(128, eps=1e-05, momentum=0.1, affine=True, track_running_stats=True)\n",
              "      (downsample): Sequential(\n",
              "        (0): Conv2d(64, 128, kernel_size=(1, 1), stride=(2, 2), bias=False)\n",
              "        (1): BatchNorm2d(128, eps=1e-05, momentum=0.1, affine=True, track_running_stats=True)\n",
              "      )\n",
              "    )\n",
              "    (1): BasicBlock(\n",
              "      (conv1): Conv2d(128, 128, kernel_size=(3, 3), stride=(1, 1), padding=(1, 1), bias=False)\n",
              "      (bn1): BatchNorm2d(128, eps=1e-05, momentum=0.1, affine=True, track_running_stats=True)\n",
              "      (relu): ReLU(inplace=True)\n",
              "      (conv2): Conv2d(128, 128, kernel_size=(3, 3), stride=(1, 1), padding=(1, 1), bias=False)\n",
              "      (bn2): BatchNorm2d(128, eps=1e-05, momentum=0.1, affine=True, track_running_stats=True)\n",
              "    )\n",
              "  )\n",
              "  (layer3): Sequential(\n",
              "    (0): BasicBlock(\n",
              "      (conv1): Conv2d(128, 256, kernel_size=(3, 3), stride=(2, 2), padding=(1, 1), bias=False)\n",
              "      (bn1): BatchNorm2d(256, eps=1e-05, momentum=0.1, affine=True, track_running_stats=True)\n",
              "      (relu): ReLU(inplace=True)\n",
              "      (conv2): Conv2d(256, 256, kernel_size=(3, 3), stride=(1, 1), padding=(1, 1), bias=False)\n",
              "      (bn2): BatchNorm2d(256, eps=1e-05, momentum=0.1, affine=True, track_running_stats=True)\n",
              "      (downsample): Sequential(\n",
              "        (0): Conv2d(128, 256, kernel_size=(1, 1), stride=(2, 2), bias=False)\n",
              "        (1): BatchNorm2d(256, eps=1e-05, momentum=0.1, affine=True, track_running_stats=True)\n",
              "      )\n",
              "    )\n",
              "    (1): BasicBlock(\n",
              "      (conv1): Conv2d(256, 256, kernel_size=(3, 3), stride=(1, 1), padding=(1, 1), bias=False)\n",
              "      (bn1): BatchNorm2d(256, eps=1e-05, momentum=0.1, affine=True, track_running_stats=True)\n",
              "      (relu): ReLU(inplace=True)\n",
              "      (conv2): Conv2d(256, 256, kernel_size=(3, 3), stride=(1, 1), padding=(1, 1), bias=False)\n",
              "      (bn2): BatchNorm2d(256, eps=1e-05, momentum=0.1, affine=True, track_running_stats=True)\n",
              "    )\n",
              "  )\n",
              "  (layer4): Sequential(\n",
              "    (0): BasicBlock(\n",
              "      (conv1): Conv2d(256, 512, kernel_size=(3, 3), stride=(2, 2), padding=(1, 1), bias=False)\n",
              "      (bn1): BatchNorm2d(512, eps=1e-05, momentum=0.1, affine=True, track_running_stats=True)\n",
              "      (relu): ReLU(inplace=True)\n",
              "      (conv2): Conv2d(512, 512, kernel_size=(3, 3), stride=(1, 1), padding=(1, 1), bias=False)\n",
              "      (bn2): BatchNorm2d(512, eps=1e-05, momentum=0.1, affine=True, track_running_stats=True)\n",
              "      (downsample): Sequential(\n",
              "        (0): Conv2d(256, 512, kernel_size=(1, 1), stride=(2, 2), bias=False)\n",
              "        (1): BatchNorm2d(512, eps=1e-05, momentum=0.1, affine=True, track_running_stats=True)\n",
              "      )\n",
              "    )\n",
              "    (1): BasicBlock(\n",
              "      (conv1): Conv2d(512, 512, kernel_size=(3, 3), stride=(1, 1), padding=(1, 1), bias=False)\n",
              "      (bn1): BatchNorm2d(512, eps=1e-05, momentum=0.1, affine=True, track_running_stats=True)\n",
              "      (relu): ReLU(inplace=True)\n",
              "      (conv2): Conv2d(512, 512, kernel_size=(3, 3), stride=(1, 1), padding=(1, 1), bias=False)\n",
              "      (bn2): BatchNorm2d(512, eps=1e-05, momentum=0.1, affine=True, track_running_stats=True)\n",
              "    )\n",
              "  )\n",
              "  (avgpool): AdaptiveAvgPool2d(output_size=(1, 1))\n",
              "  (fc): Linear(in_features=512, out_features=2, bias=True)\n",
              ")"
            ]
          },
          "metadata": {},
          "execution_count": 27
        }
      ]
    },
    {
      "cell_type": "markdown",
      "source": [
        "# Training"
      ],
      "metadata": {
        "id": "oK-HelhA1Weq"
      }
    },
    {
      "cell_type": "code",
      "source": [
        "def train_model(model, train_loader, criterion, optimizer, num_epochs, device):\n",
        "    for epoch in range(num_epochs):\n",
        "        # Training\n",
        "        model.train(True)\n",
        "        sum_loss = 0.0\n",
        "        num_correct = 0\n",
        "        total_samples = 0\n",
        "        for feature, label in tqdm(train_loader):\n",
        "            feature = feature.to(device)\n",
        "            label = label.to(device)\n",
        "\n",
        "            optimizer.zero_grad()\n",
        "            features = feature.unsqueeze(1).to(device)\n",
        "            output = model(features)\n",
        "            loss = criterion(output, label)\n",
        "            loss.backward()\n",
        "            optimizer.step()\n",
        "            sum_loss += loss.item()\n",
        "            max_val, predicted = output.max(1)\n",
        "            num_correct += (predicted == label).sum().item()\n",
        "            total_samples += feature.size(0)\n",
        "\n",
        "        train_accuracy = num_correct / total_samples\n",
        "        train_avg_loss = sum_loss / len(train_loader)\n",
        "        print(f'Epoch [{epoch+1}/{num_epochs}], Training Accuracy: {train_accuracy:.4f}, Training Loss: {train_avg_loss:.4f}')\n",
        "\n"
      ],
      "metadata": {
        "id": "4NFjguHG2ndk"
      },
      "execution_count": 28,
      "outputs": []
    },
    {
      "cell_type": "code",
      "source": [
        "def evaluate_model(model, test_loader, criterion, device):\n",
        "    model.eval()\n",
        "    test_loss = 0.0\n",
        "    test_correct = 0\n",
        "    total_test_samples = 0\n",
        "\n",
        "    with torch.no_grad():\n",
        "        for feature, label in tqdm(test_loader):\n",
        "            feature = feature.to(device)\n",
        "            label = label.to(device)\n",
        "\n",
        "            features = feature.unsqueeze(1).to(device)\n",
        "            output = model(features)\n",
        "            loss = criterion(output, label)\n",
        "            test_loss += loss.item()\n",
        "\n",
        "            max_val, predicted = output.max(1)\n",
        "            test_correct += (predicted == label).sum().item()\n",
        "            total_test_samples += features.size(0)\n",
        "\n",
        "    test_accuracy = test_correct / total_test_samples\n",
        "    test_loss = test_loss / len(test_loader)\n",
        "\n",
        "    print(f'Test Loss: {test_loss:.4f}, Test Accuracy: {test_accuracy:.4f}')"
      ],
      "metadata": {
        "id": "0zBjwP2Q3FqV"
      },
      "execution_count": 36,
      "outputs": []
    },
    {
      "cell_type": "markdown",
      "source": [
        "### Training the model for MFCC features"
      ],
      "metadata": {
        "id": "Pz40pfhT3aSb"
      }
    },
    {
      "cell_type": "code",
      "source": [
        "train_model(model, train_loader_MFCC, criterion, optimizer, num_epochs, device)"
      ],
      "metadata": {
        "colab": {
          "base_uri": "https://localhost:8080/"
        },
        "outputId": "6208d2ff-bbcf-4266-8fbc-90956b7d6c11",
        "id": "dnenJzsBz1q8"
      },
      "execution_count": null,
      "outputs": [
        {
          "output_type": "stream",
          "name": "stderr",
          "text": [
            "100%|██████████| 794/794 [08:51<00:00,  1.49it/s]\n"
          ]
        },
        {
          "output_type": "stream",
          "name": "stdout",
          "text": [
            "accuracy = 0.9925531914893617\n",
            "avg_loss = 0.023340381654812947\n"
          ]
        },
        {
          "output_type": "stream",
          "name": "stderr",
          "text": [
            "100%|██████████| 794/794 [08:39<00:00,  1.53it/s]\n"
          ]
        },
        {
          "output_type": "stream",
          "name": "stdout",
          "text": [
            "accuracy = 0.9951142631993696\n",
            "avg_loss = 0.016910217556470993\n"
          ]
        },
        {
          "output_type": "stream",
          "name": "stderr",
          "text": [
            "100%|██████████| 794/794 [08:43<00:00,  1.52it/s]"
          ]
        },
        {
          "output_type": "stream",
          "name": "stdout",
          "text": [
            "accuracy = 0.9954294720252167\n",
            "avg_loss = 0.01600879114641283\n"
          ]
        },
        {
          "output_type": "stream",
          "name": "stderr",
          "text": [
            "\n"
          ]
        }
      ]
    },
    {
      "cell_type": "code",
      "source": [
        "evaluate_model(model, test_loader_MFCC, criterion, device)"
      ],
      "metadata": {
        "colab": {
          "base_uri": "https://localhost:8080/"
        },
        "id": "Mobvi23mrCb2",
        "outputId": "b71eff81-f6cb-498f-806e-23d4af1acbd9"
      },
      "execution_count": null,
      "outputs": [
        {
          "output_type": "stream",
          "name": "stderr",
          "text": [
            "100%|██████████| 2227/2227 [24:22<00:00,  1.52it/s]"
          ]
        },
        {
          "output_type": "stream",
          "name": "stdout",
          "text": [
            "Test Loss: 0.4217, Test Accuracy: 0.8865\n"
          ]
        },
        {
          "output_type": "stream",
          "name": "stderr",
          "text": [
            "\n"
          ]
        }
      ]
    },
    {
      "cell_type": "markdown",
      "source": [
        "### Training the model for LPS features"
      ],
      "metadata": {
        "id": "bV316WhZ4q8g"
      }
    },
    {
      "cell_type": "code",
      "source": [
        "train_model(model, train_loader_LPS, criterion, optimizer, num_epochs, device)"
      ],
      "metadata": {
        "id": "fCSh1uUPSHBN",
        "colab": {
          "base_uri": "https://localhost:8080/"
        },
        "outputId": "44121b50-8019-456d-e372-21bd3a5166e3"
      },
      "execution_count": 33,
      "outputs": [
        {
          "output_type": "stream",
          "name": "stderr",
          "text": [
            "\r  0%|          | 0/794 [00:00<?, ?it/s]/usr/local/lib/python3.10/dist-packages/torch/autograd/graph.py:744: UserWarning: Plan failed with a cudnnException: CUDNN_BACKEND_EXECUTION_PLAN_DESCRIPTOR: cudnnFinalize Descriptor Failed cudnn_status: CUDNN_STATUS_NOT_SUPPORTED (Triggered internally at ../aten/src/ATen/native/cudnn/Conv_v8.cpp:919.)\n",
            "  return Variable._execution_engine.run_backward(  # Calls into the C++ engine to run the backward pass\n",
            "100%|██████████| 794/794 [12:10<00:00,  1.09it/s]\n"
          ]
        },
        {
          "output_type": "stream",
          "name": "stdout",
          "text": [
            "Epoch [1/3], Training Accuracy: 0.9938, Training Loss: 0.0189\n"
          ]
        },
        {
          "output_type": "stream",
          "name": "stderr",
          "text": [
            "100%|██████████| 794/794 [11:24<00:00,  1.16it/s]\n"
          ]
        },
        {
          "output_type": "stream",
          "name": "stdout",
          "text": [
            "Epoch [2/3], Training Accuracy: 0.9978, Training Loss: 0.0069\n"
          ]
        },
        {
          "output_type": "stream",
          "name": "stderr",
          "text": [
            "100%|██████████| 794/794 [11:33<00:00,  1.14it/s]"
          ]
        },
        {
          "output_type": "stream",
          "name": "stdout",
          "text": [
            "Epoch [3/3], Training Accuracy: 0.9986, Training Loss: 0.0044\n"
          ]
        },
        {
          "output_type": "stream",
          "name": "stderr",
          "text": [
            "\n"
          ]
        }
      ]
    },
    {
      "cell_type": "code",
      "source": [
        "evaluate_model(model, test_loader_LPS, criterion, device)"
      ],
      "metadata": {
        "id": "oLRMb0HqWWgm",
        "colab": {
          "base_uri": "https://localhost:8080/"
        },
        "outputId": "e694ede9-1ccc-4589-eb69-6f5960169f9c"
      },
      "execution_count": 37,
      "outputs": [
        {
          "output_type": "stream",
          "name": "stderr",
          "text": [
            "100%|██████████| 2227/2227 [21:20<00:00,  1.74it/s]"
          ]
        },
        {
          "output_type": "stream",
          "name": "stdout",
          "text": [
            "Test Loss: 0.4052, Test Accuracy: 0.8873\n"
          ]
        },
        {
          "output_type": "stream",
          "name": "stderr",
          "text": [
            "\n"
          ]
        }
      ]
    },
    {
      "cell_type": "code",
      "source": [],
      "metadata": {
        "id": "QuJfTv6ASHE1"
      },
      "execution_count": null,
      "outputs": []
    },
    {
      "cell_type": "markdown",
      "source": [
        "### Training the model for CQCC features"
      ],
      "metadata": {
        "id": "a8rcuYHiAG7U"
      }
    },
    {
      "cell_type": "code",
      "source": [
        "train_model(model, train_loader_CQCC, criterion, optimizer, num_epochs, device)"
      ],
      "metadata": {
        "colab": {
          "base_uri": "https://localhost:8080/"
        },
        "outputId": "2a389fda-c78c-4ceb-d669-d249befce860",
        "id": "Nk4W4ftCAG7k"
      },
      "execution_count": null,
      "outputs": [
        {
          "output_type": "stream",
          "name": "stderr",
          "text": [
            "  0%|          | 2/794 [00:15<1:44:48,  7.94s/it]"
          ]
        }
      ]
    },
    {
      "cell_type": "code",
      "source": [
        "evaluate_model(model, train_loader_CQCC, criterion, device)"
      ],
      "metadata": {
        "colab": {
          "base_uri": "https://localhost:8080/"
        },
        "outputId": "e694ede9-1ccc-4589-eb69-6f5960169f9c",
        "id": "kr1d13v2AG7k"
      },
      "execution_count": null,
      "outputs": [
        {
          "output_type": "stream",
          "name": "stderr",
          "text": [
            "100%|██████████| 2227/2227 [21:20<00:00,  1.74it/s]"
          ]
        },
        {
          "output_type": "stream",
          "name": "stdout",
          "text": [
            "Test Loss: 0.4052, Test Accuracy: 0.8873\n"
          ]
        },
        {
          "output_type": "stream",
          "name": "stderr",
          "text": [
            "\n"
          ]
        }
      ]
    },
    {
      "cell_type": "code",
      "source": [],
      "metadata": {
        "id": "f27kKenJ5yPE"
      },
      "execution_count": null,
      "outputs": []
    },
    {
      "cell_type": "code",
      "source": [],
      "metadata": {
        "id": "Rvsk4m0i5yR1"
      },
      "execution_count": null,
      "outputs": []
    },
    {
      "cell_type": "code",
      "source": [],
      "metadata": {
        "id": "d0wtKy3P5yUZ"
      },
      "execution_count": null,
      "outputs": []
    },
    {
      "cell_type": "code",
      "source": [],
      "metadata": {
        "id": "FkknP7iN5yXc"
      },
      "execution_count": null,
      "outputs": []
    },
    {
      "cell_type": "code",
      "source": [],
      "metadata": {
        "id": "eL2Q0--a5ycP"
      },
      "execution_count": null,
      "outputs": []
    },
    {
      "cell_type": "code",
      "source": [],
      "metadata": {
        "id": "t46wQI1C5ye4"
      },
      "execution_count": null,
      "outputs": []
    },
    {
      "cell_type": "code",
      "source": [],
      "metadata": {
        "id": "8knX7QOl5zFq"
      },
      "execution_count": null,
      "outputs": []
    },
    {
      "cell_type": "code",
      "source": [],
      "metadata": {
        "id": "Y37vbgL45zJA"
      },
      "execution_count": null,
      "outputs": []
    },
    {
      "cell_type": "markdown",
      "metadata": {
        "id": "PQSKwoi76IZ2"
      },
      "source": [
        "# Model definition"
      ]
    },
    {
      "cell_type": "code",
      "execution_count": null,
      "metadata": {
        "id": "nRhw-NSD6IZ2"
      },
      "outputs": [],
      "source": [
        "from models import TE_ResNet\n",
        "\n",
        "# model = models.TE_ResNet()"
      ]
    },
    {
      "cell_type": "markdown",
      "metadata": {
        "id": "5aKeXoov6IZ3"
      },
      "source": [
        "# Training"
      ]
    },
    {
      "cell_type": "code",
      "execution_count": null,
      "metadata": {
        "id": "edndXJjR6IZ3"
      },
      "outputs": [],
      "source": [
        "def train_loop(loader):\n",
        "    n_epochs = 5\n",
        "    for epoch in n_epochs:\n",
        "        for data, labels in loader:\n",
        "            feature_extr.MFCC() # or any other\n",
        "            output = model(data)\n",
        "            loss = ...\n",
        "    pass"
      ]
    }
  ],
  "metadata": {
    "colab": {
      "provenance": [],
      "gpuType": "T4"
    },
    "kernelspec": {
      "display_name": "Python 3",
      "name": "python3"
    },
    "language_info": {
      "codemirror_mode": {
        "name": "ipython",
        "version": 3
      },
      "file_extension": ".py",
      "mimetype": "text/x-python",
      "name": "python",
      "nbconvert_exporter": "python",
      "pygments_lexer": "ipython3",
      "version": "3.10.12"
    },
    "widgets": {
      "application/vnd.jupyter.widget-state+json": {
        "d32adf2ca464443081221d127726ca6e": {
          "model_module": "@jupyter-widgets/controls",
          "model_name": "HBoxModel",
          "model_module_version": "1.5.0",
          "state": {
            "_dom_classes": [],
            "_model_module": "@jupyter-widgets/controls",
            "_model_module_version": "1.5.0",
            "_model_name": "HBoxModel",
            "_view_count": null,
            "_view_module": "@jupyter-widgets/controls",
            "_view_module_version": "1.5.0",
            "_view_name": "HBoxView",
            "box_style": "",
            "children": [
              "IPY_MODEL_dbc497bbaf1342d99077ed871f357c91",
              "IPY_MODEL_d85dafee25a54eb994d4a07748ed2ef6",
              "IPY_MODEL_a21f8c15e7784309ad1fda08bd95eb7d"
            ],
            "layout": "IPY_MODEL_a6439b9ef980478389113b6eb1b30598"
          }
        },
        "dbc497bbaf1342d99077ed871f357c91": {
          "model_module": "@jupyter-widgets/controls",
          "model_name": "HTMLModel",
          "model_module_version": "1.5.0",
          "state": {
            "_dom_classes": [],
            "_model_module": "@jupyter-widgets/controls",
            "_model_module_version": "1.5.0",
            "_model_name": "HTMLModel",
            "_view_count": null,
            "_view_module": "@jupyter-widgets/controls",
            "_view_module_version": "1.5.0",
            "_view_name": "HTMLView",
            "description": "",
            "description_tooltip": null,
            "layout": "IPY_MODEL_c87a27f16523487d8498c05681a1b55e",
            "placeholder": "​",
            "style": "IPY_MODEL_afd64a5ba5124b1fa12000366509ecc2",
            "value": "Downloading data: 100%"
          }
        },
        "d85dafee25a54eb994d4a07748ed2ef6": {
          "model_module": "@jupyter-widgets/controls",
          "model_name": "FloatProgressModel",
          "model_module_version": "1.5.0",
          "state": {
            "_dom_classes": [],
            "_model_module": "@jupyter-widgets/controls",
            "_model_module_version": "1.5.0",
            "_model_name": "FloatProgressModel",
            "_view_count": null,
            "_view_module": "@jupyter-widgets/controls",
            "_view_module_version": "1.5.0",
            "_view_name": "ProgressView",
            "bar_style": "success",
            "description": "",
            "description_tooltip": null,
            "layout": "IPY_MODEL_fcac054b391e4c889d8641f3e1b20684",
            "max": 7640952520,
            "min": 0,
            "orientation": "horizontal",
            "style": "IPY_MODEL_2e9bd2c437584e2ab799a0edb30e2e02",
            "value": 7640952520
          }
        },
        "a21f8c15e7784309ad1fda08bd95eb7d": {
          "model_module": "@jupyter-widgets/controls",
          "model_name": "HTMLModel",
          "model_module_version": "1.5.0",
          "state": {
            "_dom_classes": [],
            "_model_module": "@jupyter-widgets/controls",
            "_model_module_version": "1.5.0",
            "_model_name": "HTMLModel",
            "_view_count": null,
            "_view_module": "@jupyter-widgets/controls",
            "_view_module_version": "1.5.0",
            "_view_name": "HTMLView",
            "description": "",
            "description_tooltip": null,
            "layout": "IPY_MODEL_eaf7397614d44f8fae29bf5735ae9079",
            "placeholder": "​",
            "style": "IPY_MODEL_2dbd4687fdd7423bbe341e2d75f71db2",
            "value": " 7.64G/7.64G [39:21&lt;00:00, 4.60MB/s]"
          }
        },
        "a6439b9ef980478389113b6eb1b30598": {
          "model_module": "@jupyter-widgets/base",
          "model_name": "LayoutModel",
          "model_module_version": "1.2.0",
          "state": {
            "_model_module": "@jupyter-widgets/base",
            "_model_module_version": "1.2.0",
            "_model_name": "LayoutModel",
            "_view_count": null,
            "_view_module": "@jupyter-widgets/base",
            "_view_module_version": "1.2.0",
            "_view_name": "LayoutView",
            "align_content": null,
            "align_items": null,
            "align_self": null,
            "border": null,
            "bottom": null,
            "display": null,
            "flex": null,
            "flex_flow": null,
            "grid_area": null,
            "grid_auto_columns": null,
            "grid_auto_flow": null,
            "grid_auto_rows": null,
            "grid_column": null,
            "grid_gap": null,
            "grid_row": null,
            "grid_template_areas": null,
            "grid_template_columns": null,
            "grid_template_rows": null,
            "height": null,
            "justify_content": null,
            "justify_items": null,
            "left": null,
            "margin": null,
            "max_height": null,
            "max_width": null,
            "min_height": null,
            "min_width": null,
            "object_fit": null,
            "object_position": null,
            "order": null,
            "overflow": null,
            "overflow_x": null,
            "overflow_y": null,
            "padding": null,
            "right": null,
            "top": null,
            "visibility": null,
            "width": null
          }
        },
        "c87a27f16523487d8498c05681a1b55e": {
          "model_module": "@jupyter-widgets/base",
          "model_name": "LayoutModel",
          "model_module_version": "1.2.0",
          "state": {
            "_model_module": "@jupyter-widgets/base",
            "_model_module_version": "1.2.0",
            "_model_name": "LayoutModel",
            "_view_count": null,
            "_view_module": "@jupyter-widgets/base",
            "_view_module_version": "1.2.0",
            "_view_name": "LayoutView",
            "align_content": null,
            "align_items": null,
            "align_self": null,
            "border": null,
            "bottom": null,
            "display": null,
            "flex": null,
            "flex_flow": null,
            "grid_area": null,
            "grid_auto_columns": null,
            "grid_auto_flow": null,
            "grid_auto_rows": null,
            "grid_column": null,
            "grid_gap": null,
            "grid_row": null,
            "grid_template_areas": null,
            "grid_template_columns": null,
            "grid_template_rows": null,
            "height": null,
            "justify_content": null,
            "justify_items": null,
            "left": null,
            "margin": null,
            "max_height": null,
            "max_width": null,
            "min_height": null,
            "min_width": null,
            "object_fit": null,
            "object_position": null,
            "order": null,
            "overflow": null,
            "overflow_x": null,
            "overflow_y": null,
            "padding": null,
            "right": null,
            "top": null,
            "visibility": null,
            "width": null
          }
        },
        "afd64a5ba5124b1fa12000366509ecc2": {
          "model_module": "@jupyter-widgets/controls",
          "model_name": "DescriptionStyleModel",
          "model_module_version": "1.5.0",
          "state": {
            "_model_module": "@jupyter-widgets/controls",
            "_model_module_version": "1.5.0",
            "_model_name": "DescriptionStyleModel",
            "_view_count": null,
            "_view_module": "@jupyter-widgets/base",
            "_view_module_version": "1.2.0",
            "_view_name": "StyleView",
            "description_width": ""
          }
        },
        "fcac054b391e4c889d8641f3e1b20684": {
          "model_module": "@jupyter-widgets/base",
          "model_name": "LayoutModel",
          "model_module_version": "1.2.0",
          "state": {
            "_model_module": "@jupyter-widgets/base",
            "_model_module_version": "1.2.0",
            "_model_name": "LayoutModel",
            "_view_count": null,
            "_view_module": "@jupyter-widgets/base",
            "_view_module_version": "1.2.0",
            "_view_name": "LayoutView",
            "align_content": null,
            "align_items": null,
            "align_self": null,
            "border": null,
            "bottom": null,
            "display": null,
            "flex": null,
            "flex_flow": null,
            "grid_area": null,
            "grid_auto_columns": null,
            "grid_auto_flow": null,
            "grid_auto_rows": null,
            "grid_column": null,
            "grid_gap": null,
            "grid_row": null,
            "grid_template_areas": null,
            "grid_template_columns": null,
            "grid_template_rows": null,
            "height": null,
            "justify_content": null,
            "justify_items": null,
            "left": null,
            "margin": null,
            "max_height": null,
            "max_width": null,
            "min_height": null,
            "min_width": null,
            "object_fit": null,
            "object_position": null,
            "order": null,
            "overflow": null,
            "overflow_x": null,
            "overflow_y": null,
            "padding": null,
            "right": null,
            "top": null,
            "visibility": null,
            "width": null
          }
        },
        "2e9bd2c437584e2ab799a0edb30e2e02": {
          "model_module": "@jupyter-widgets/controls",
          "model_name": "ProgressStyleModel",
          "model_module_version": "1.5.0",
          "state": {
            "_model_module": "@jupyter-widgets/controls",
            "_model_module_version": "1.5.0",
            "_model_name": "ProgressStyleModel",
            "_view_count": null,
            "_view_module": "@jupyter-widgets/base",
            "_view_module_version": "1.2.0",
            "_view_name": "StyleView",
            "bar_color": null,
            "description_width": ""
          }
        },
        "eaf7397614d44f8fae29bf5735ae9079": {
          "model_module": "@jupyter-widgets/base",
          "model_name": "LayoutModel",
          "model_module_version": "1.2.0",
          "state": {
            "_model_module": "@jupyter-widgets/base",
            "_model_module_version": "1.2.0",
            "_model_name": "LayoutModel",
            "_view_count": null,
            "_view_module": "@jupyter-widgets/base",
            "_view_module_version": "1.2.0",
            "_view_name": "LayoutView",
            "align_content": null,
            "align_items": null,
            "align_self": null,
            "border": null,
            "bottom": null,
            "display": null,
            "flex": null,
            "flex_flow": null,
            "grid_area": null,
            "grid_auto_columns": null,
            "grid_auto_flow": null,
            "grid_auto_rows": null,
            "grid_column": null,
            "grid_gap": null,
            "grid_row": null,
            "grid_template_areas": null,
            "grid_template_columns": null,
            "grid_template_rows": null,
            "height": null,
            "justify_content": null,
            "justify_items": null,
            "left": null,
            "margin": null,
            "max_height": null,
            "max_width": null,
            "min_height": null,
            "min_width": null,
            "object_fit": null,
            "object_position": null,
            "order": null,
            "overflow": null,
            "overflow_x": null,
            "overflow_y": null,
            "padding": null,
            "right": null,
            "top": null,
            "visibility": null,
            "width": null
          }
        },
        "2dbd4687fdd7423bbe341e2d75f71db2": {
          "model_module": "@jupyter-widgets/controls",
          "model_name": "DescriptionStyleModel",
          "model_module_version": "1.5.0",
          "state": {
            "_model_module": "@jupyter-widgets/controls",
            "_model_module_version": "1.5.0",
            "_model_name": "DescriptionStyleModel",
            "_view_count": null,
            "_view_module": "@jupyter-widgets/base",
            "_view_module_version": "1.2.0",
            "_view_name": "StyleView",
            "description_width": ""
          }
        },
        "29cab48cc1f2481dbaf8f598e07daeb5": {
          "model_module": "@jupyter-widgets/controls",
          "model_name": "HBoxModel",
          "model_module_version": "1.5.0",
          "state": {
            "_dom_classes": [],
            "_model_module": "@jupyter-widgets/controls",
            "_model_module_version": "1.5.0",
            "_model_name": "HBoxModel",
            "_view_count": null,
            "_view_module": "@jupyter-widgets/controls",
            "_view_module_version": "1.5.0",
            "_view_name": "HBoxView",
            "box_style": "",
            "children": [
              "IPY_MODEL_ec4c2902770a40b8bf95e945feff8e43",
              "IPY_MODEL_7126e303c2284049a47621af0f7ae059",
              "IPY_MODEL_35f8f5f93cd64fc8b3cd6253dfbcfd6e"
            ],
            "layout": "IPY_MODEL_4845dfe72a1048d889f4768ed3830cdc"
          }
        },
        "ec4c2902770a40b8bf95e945feff8e43": {
          "model_module": "@jupyter-widgets/controls",
          "model_name": "HTMLModel",
          "model_module_version": "1.5.0",
          "state": {
            "_dom_classes": [],
            "_model_module": "@jupyter-widgets/controls",
            "_model_module_version": "1.5.0",
            "_model_name": "HTMLModel",
            "_view_count": null,
            "_view_module": "@jupyter-widgets/controls",
            "_view_module_version": "1.5.0",
            "_view_name": "HTMLView",
            "description": "",
            "description_tooltip": null,
            "layout": "IPY_MODEL_14d5cea31aee4011b7a8994078e4297d",
            "placeholder": "​",
            "style": "IPY_MODEL_b4322f7e5fa04424afab38fc70d26161",
            "value": "Computing checksums: 100%"
          }
        },
        "7126e303c2284049a47621af0f7ae059": {
          "model_module": "@jupyter-widgets/controls",
          "model_name": "FloatProgressModel",
          "model_module_version": "1.5.0",
          "state": {
            "_dom_classes": [],
            "_model_module": "@jupyter-widgets/controls",
            "_model_module_version": "1.5.0",
            "_model_name": "FloatProgressModel",
            "_view_count": null,
            "_view_module": "@jupyter-widgets/controls",
            "_view_module_version": "1.5.0",
            "_view_name": "ProgressView",
            "bar_style": "success",
            "description": "",
            "description_tooltip": null,
            "layout": "IPY_MODEL_c1cb1b697d14478ba3ae1a50e20d4871",
            "max": 1,
            "min": 0,
            "orientation": "horizontal",
            "style": "IPY_MODEL_11d0e1bf4b5844b1ac0342ff9c917a34",
            "value": 1
          }
        },
        "35f8f5f93cd64fc8b3cd6253dfbcfd6e": {
          "model_module": "@jupyter-widgets/controls",
          "model_name": "HTMLModel",
          "model_module_version": "1.5.0",
          "state": {
            "_dom_classes": [],
            "_model_module": "@jupyter-widgets/controls",
            "_model_module_version": "1.5.0",
            "_model_name": "HTMLModel",
            "_view_count": null,
            "_view_module": "@jupyter-widgets/controls",
            "_view_module_version": "1.5.0",
            "_view_name": "HTMLView",
            "description": "",
            "description_tooltip": null,
            "layout": "IPY_MODEL_536da44c3aa14d25ad4b3d7c43dac8f6",
            "placeholder": "​",
            "style": "IPY_MODEL_5c8ccd0353a64288af122a2752bf669e",
            "value": " 1/1 [00:40&lt;00:00, 40.58s/it]"
          }
        },
        "4845dfe72a1048d889f4768ed3830cdc": {
          "model_module": "@jupyter-widgets/base",
          "model_name": "LayoutModel",
          "model_module_version": "1.2.0",
          "state": {
            "_model_module": "@jupyter-widgets/base",
            "_model_module_version": "1.2.0",
            "_model_name": "LayoutModel",
            "_view_count": null,
            "_view_module": "@jupyter-widgets/base",
            "_view_module_version": "1.2.0",
            "_view_name": "LayoutView",
            "align_content": null,
            "align_items": null,
            "align_self": null,
            "border": null,
            "bottom": null,
            "display": null,
            "flex": null,
            "flex_flow": null,
            "grid_area": null,
            "grid_auto_columns": null,
            "grid_auto_flow": null,
            "grid_auto_rows": null,
            "grid_column": null,
            "grid_gap": null,
            "grid_row": null,
            "grid_template_areas": null,
            "grid_template_columns": null,
            "grid_template_rows": null,
            "height": null,
            "justify_content": null,
            "justify_items": null,
            "left": null,
            "margin": null,
            "max_height": null,
            "max_width": null,
            "min_height": null,
            "min_width": null,
            "object_fit": null,
            "object_position": null,
            "order": null,
            "overflow": null,
            "overflow_x": null,
            "overflow_y": null,
            "padding": null,
            "right": null,
            "top": null,
            "visibility": null,
            "width": null
          }
        },
        "14d5cea31aee4011b7a8994078e4297d": {
          "model_module": "@jupyter-widgets/base",
          "model_name": "LayoutModel",
          "model_module_version": "1.2.0",
          "state": {
            "_model_module": "@jupyter-widgets/base",
            "_model_module_version": "1.2.0",
            "_model_name": "LayoutModel",
            "_view_count": null,
            "_view_module": "@jupyter-widgets/base",
            "_view_module_version": "1.2.0",
            "_view_name": "LayoutView",
            "align_content": null,
            "align_items": null,
            "align_self": null,
            "border": null,
            "bottom": null,
            "display": null,
            "flex": null,
            "flex_flow": null,
            "grid_area": null,
            "grid_auto_columns": null,
            "grid_auto_flow": null,
            "grid_auto_rows": null,
            "grid_column": null,
            "grid_gap": null,
            "grid_row": null,
            "grid_template_areas": null,
            "grid_template_columns": null,
            "grid_template_rows": null,
            "height": null,
            "justify_content": null,
            "justify_items": null,
            "left": null,
            "margin": null,
            "max_height": null,
            "max_width": null,
            "min_height": null,
            "min_width": null,
            "object_fit": null,
            "object_position": null,
            "order": null,
            "overflow": null,
            "overflow_x": null,
            "overflow_y": null,
            "padding": null,
            "right": null,
            "top": null,
            "visibility": null,
            "width": null
          }
        },
        "b4322f7e5fa04424afab38fc70d26161": {
          "model_module": "@jupyter-widgets/controls",
          "model_name": "DescriptionStyleModel",
          "model_module_version": "1.5.0",
          "state": {
            "_model_module": "@jupyter-widgets/controls",
            "_model_module_version": "1.5.0",
            "_model_name": "DescriptionStyleModel",
            "_view_count": null,
            "_view_module": "@jupyter-widgets/base",
            "_view_module_version": "1.2.0",
            "_view_name": "StyleView",
            "description_width": ""
          }
        },
        "c1cb1b697d14478ba3ae1a50e20d4871": {
          "model_module": "@jupyter-widgets/base",
          "model_name": "LayoutModel",
          "model_module_version": "1.2.0",
          "state": {
            "_model_module": "@jupyter-widgets/base",
            "_model_module_version": "1.2.0",
            "_model_name": "LayoutModel",
            "_view_count": null,
            "_view_module": "@jupyter-widgets/base",
            "_view_module_version": "1.2.0",
            "_view_name": "LayoutView",
            "align_content": null,
            "align_items": null,
            "align_self": null,
            "border": null,
            "bottom": null,
            "display": null,
            "flex": null,
            "flex_flow": null,
            "grid_area": null,
            "grid_auto_columns": null,
            "grid_auto_flow": null,
            "grid_auto_rows": null,
            "grid_column": null,
            "grid_gap": null,
            "grid_row": null,
            "grid_template_areas": null,
            "grid_template_columns": null,
            "grid_template_rows": null,
            "height": null,
            "justify_content": null,
            "justify_items": null,
            "left": null,
            "margin": null,
            "max_height": null,
            "max_width": null,
            "min_height": null,
            "min_width": null,
            "object_fit": null,
            "object_position": null,
            "order": null,
            "overflow": null,
            "overflow_x": null,
            "overflow_y": null,
            "padding": null,
            "right": null,
            "top": null,
            "visibility": null,
            "width": null
          }
        },
        "11d0e1bf4b5844b1ac0342ff9c917a34": {
          "model_module": "@jupyter-widgets/controls",
          "model_name": "ProgressStyleModel",
          "model_module_version": "1.5.0",
          "state": {
            "_model_module": "@jupyter-widgets/controls",
            "_model_module_version": "1.5.0",
            "_model_name": "ProgressStyleModel",
            "_view_count": null,
            "_view_module": "@jupyter-widgets/base",
            "_view_module_version": "1.2.0",
            "_view_name": "StyleView",
            "bar_color": null,
            "description_width": ""
          }
        },
        "536da44c3aa14d25ad4b3d7c43dac8f6": {
          "model_module": "@jupyter-widgets/base",
          "model_name": "LayoutModel",
          "model_module_version": "1.2.0",
          "state": {
            "_model_module": "@jupyter-widgets/base",
            "_model_module_version": "1.2.0",
            "_model_name": "LayoutModel",
            "_view_count": null,
            "_view_module": "@jupyter-widgets/base",
            "_view_module_version": "1.2.0",
            "_view_name": "LayoutView",
            "align_content": null,
            "align_items": null,
            "align_self": null,
            "border": null,
            "bottom": null,
            "display": null,
            "flex": null,
            "flex_flow": null,
            "grid_area": null,
            "grid_auto_columns": null,
            "grid_auto_flow": null,
            "grid_auto_rows": null,
            "grid_column": null,
            "grid_gap": null,
            "grid_row": null,
            "grid_template_areas": null,
            "grid_template_columns": null,
            "grid_template_rows": null,
            "height": null,
            "justify_content": null,
            "justify_items": null,
            "left": null,
            "margin": null,
            "max_height": null,
            "max_width": null,
            "min_height": null,
            "min_width": null,
            "object_fit": null,
            "object_position": null,
            "order": null,
            "overflow": null,
            "overflow_x": null,
            "overflow_y": null,
            "padding": null,
            "right": null,
            "top": null,
            "visibility": null,
            "width": null
          }
        },
        "5c8ccd0353a64288af122a2752bf669e": {
          "model_module": "@jupyter-widgets/controls",
          "model_name": "DescriptionStyleModel",
          "model_module_version": "1.5.0",
          "state": {
            "_model_module": "@jupyter-widgets/controls",
            "_model_module_version": "1.5.0",
            "_model_name": "DescriptionStyleModel",
            "_view_count": null,
            "_view_module": "@jupyter-widgets/base",
            "_view_module_version": "1.2.0",
            "_view_name": "StyleView",
            "description_width": ""
          }
        }
      }
    },
    "accelerator": "GPU"
  },
  "nbformat": 4,
  "nbformat_minor": 0
}