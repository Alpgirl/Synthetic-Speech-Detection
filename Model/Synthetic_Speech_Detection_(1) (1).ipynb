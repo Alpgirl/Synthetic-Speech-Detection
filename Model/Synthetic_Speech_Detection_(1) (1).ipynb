{
  "cells": [
    {
      "cell_type": "code",
      "execution_count": null,
      "metadata": {
        "colab": {
          "base_uri": "https://localhost:8080/"
        },
        "id": "QDpxmQCB6IZc",
        "outputId": "3304d2e1-d72e-4c5e-f558-27901822c0ba",
        "scrolled": true
      },
      "outputs": [
        {
          "output_type": "stream",
          "name": "stdout",
          "text": [
            "Found existing installation: torch 2.3.0\n",
            "Uninstalling torch-2.3.0:\n",
            "  Successfully uninstalled torch-2.3.0\n",
            "Found existing installation: torchaudio 2.2.2\n",
            "Uninstalling torchaudio-2.2.2:\n",
            "  Successfully uninstalled torchaudio-2.2.2\n",
            "Found existing installation: torchvision 0.18.0\n",
            "Uninstalling torchvision-0.18.0:\n",
            "  Successfully uninstalled torchvision-0.18.0\n"
          ]
        }
      ],
      "source": [
        "!pip uninstall torch torchaudio torchvision -y"
      ]
    },
    {
      "cell_type": "code",
      "execution_count": null,
      "metadata": {
        "colab": {
          "base_uri": "https://localhost:8080/"
        },
        "id": "pqyZZKnP6IZk",
        "outputId": "0c87a56e-7931-4639-a507-5b88ad2938bd",
        "scrolled": true
      },
      "outputs": [
        {
          "output_type": "stream",
          "name": "stdout",
          "text": [
            "Collecting torch==2.2.2\n",
            "\u001b[31mERROR: Operation cancelled by user\u001b[0m\u001b[31m\n",
            "\u001b[0m"
          ]
        }
      ],
      "source": [
        "!pip install torch==2.2.2 torchaudio==2.2.2"
      ]
    },
    {
      "cell_type": "code",
      "source": [
        "!pip install torch torchaudio torchvision -q"
      ],
      "metadata": {
        "colab": {
          "base_uri": "https://localhost:8080/"
        },
        "id": "_X5aiVVKd1dN",
        "outputId": "f5b9a956-593a-4b75-91e4-a4030e7738f8"
      },
      "execution_count": 1,
      "outputs": [
        {
          "output_type": "stream",
          "name": "stdout",
          "text": [
            "\u001b[2K     \u001b[90m━━━━━━━━━━━━━━━━━━━━━━━━━━━━━━━━━━━━━━━━\u001b[0m \u001b[32m21.3/21.3 MB\u001b[0m \u001b[31m47.5 MB/s\u001b[0m eta \u001b[36m0:00:00\u001b[0m\n",
            "\u001b[?25h"
          ]
        }
      ]
    },
    {
      "cell_type": "code",
      "execution_count": 2,
      "metadata": {
        "colab": {
          "base_uri": "https://localhost:8080/"
        },
        "id": "bE55HD5h7MIq",
        "outputId": "6fe35276-0519-45ef-e862-6bf5da1a23d0"
      },
      "outputs": [
        {
          "output_type": "stream",
          "name": "stdout",
          "text": [
            "\u001b[2K     \u001b[90m━━━━━━━━━━━━━━━━━━━━━━━━━━━━━━━━━━━━━━━━\u001b[0m \u001b[32m542.0/542.0 kB\u001b[0m \u001b[31m13.1 MB/s\u001b[0m eta \u001b[36m0:00:00\u001b[0m\n",
            "\u001b[2K     \u001b[90m━━━━━━━━━━━━━━━━━━━━━━━━━━━━━━━━━━━━━━━━\u001b[0m \u001b[32m116.3/116.3 kB\u001b[0m \u001b[31m10.7 MB/s\u001b[0m eta \u001b[36m0:00:00\u001b[0m\n",
            "\u001b[2K     \u001b[90m━━━━━━━━━━━━━━━━━━━━━━━━━━━━━━━━━━━━━━━━\u001b[0m \u001b[32m194.1/194.1 kB\u001b[0m \u001b[31m26.6 MB/s\u001b[0m eta \u001b[36m0:00:00\u001b[0m\n",
            "\u001b[2K     \u001b[90m━━━━━━━━━━━━━━━━━━━━━━━━━━━━━━━━━━━━━━━━\u001b[0m \u001b[32m134.8/134.8 kB\u001b[0m \u001b[31m18.9 MB/s\u001b[0m eta \u001b[36m0:00:00\u001b[0m\n",
            "\u001b[?25h"
          ]
        }
      ],
      "source": [
        "!pip install datasets -q"
      ]
    },
    {
      "cell_type": "code",
      "execution_count": 3,
      "metadata": {
        "id": "9oiOQXctXFJo"
      },
      "outputs": [],
      "source": [
        "import random\n",
        "import IPython\n",
        "\n",
        "import datasets\n",
        "from datasets.utils import DownloadManager\n",
        "\n",
        "\n",
        "import torch\n",
        "import torchaudio\n",
        "import torchaudio.transforms as T\n",
        "\n",
        "from torch.utils.data import DataLoader, Dataset\n",
        "\n",
        "import os\n",
        "import sys\n",
        "\n",
        "import soundfile as sf"
      ]
    },
    {
      "cell_type": "code",
      "source": [
        "import torch.nn as nn\n",
        "import torchvision.models as models"
      ],
      "metadata": {
        "id": "StZ-E9Mxdh8W"
      },
      "execution_count": 4,
      "outputs": []
    },
    {
      "cell_type": "code",
      "source": [
        "from librosa import util\n",
        "import librosa.feature"
      ],
      "metadata": {
        "id": "tHIFBx0SfE8c"
      },
      "execution_count": 5,
      "outputs": []
    },
    {
      "cell_type": "code",
      "source": [
        "import numpy as np"
      ],
      "metadata": {
        "id": "JHhmxE_-yh9q"
      },
      "execution_count": 6,
      "outputs": []
    },
    {
      "cell_type": "code",
      "execution_count": 7,
      "metadata": {
        "id": "2EvrIrIP6IZn"
      },
      "outputs": [],
      "source": [
        "sys.path.append('src')"
      ]
    },
    {
      "cell_type": "markdown",
      "metadata": {
        "id": "9QObvPnqW_Td"
      },
      "source": [
        "# Load Dataset .zip from link"
      ]
    },
    {
      "cell_type": "markdown",
      "metadata": {
        "id": "RP_rXD0OdsWF"
      },
      "source": [
        "Logical access (LA):\n",
        "\n",
        "- ```speaker_id:``` LA_****, a 4-digit speaker ID\n",
        "- ```audio_file_name:``` name of the audio file\n",
        "- ```audio:``` '****.flac'  the path to the downloaded audio file in FLAC format (https://xiph.org/flac/).\n",
        "- ```system_id:``` ID of the speech spoofing system (A01 - A19), or, for bonafide speech SYSTEM-ID is left blank ('-')\n",
        "- ```key:``` 'bonafide' for genuine speech, or, 'spoof' for spoofing speech"
      ]
    },
    {
      "cell_type": "code",
      "execution_count": 8,
      "metadata": {
        "id": "VyGgsxcT8GkM"
      },
      "outputs": [],
      "source": [
        "#This code was taken from the load_avsspoof19.py\n",
        "\n",
        "import datasets\n",
        "import os\n",
        "\n",
        "_HOMEPAGE = \"https://datashare.ed.ac.uk/handle/10283/3336\"\n",
        "_URL = \"https://datashare.ed.ac.uk/bitstream/handle/10283/3336/LA.zip\"\n",
        "_CITATION = \"\"\"\\\n",
        "@InProceedings{Todisco2019,\n",
        "  Title     = {{ASV}spoof 2019: {F}uture {H}orizons in {S}poofed and {F}ake {A}udio {D}etection},\n",
        "  Author    = {Todisco, Massimiliano and\n",
        "               Wang, Xin and\n",
        "               Sahidullah, Md and\n",
        "               Delgado, H ́ector and\n",
        "               Nautsch, Andreas and\n",
        "               Yamagishi, Junichi and\n",
        "               Evans, Nicholas and\n",
        "               Kinnunen, Tomi and\n",
        "               Lee, Kong Aik},\n",
        "  booktitle = {Proc. of Interspeech 2019},\n",
        "  Year      = {2019}\n",
        "}\n",
        "\"\"\"\n",
        "\n",
        "_DESCRIPTION = \"\"\"\\\n",
        "This is a database used for the Third Automatic Speaker Verification Spoofing\n",
        "and Countermeasuers Challenge, for short, ASVspoof 2019 (http://www.asvspoof.org)\n",
        "organized by Junichi Yamagishi, Massimiliano Todisco, Md Sahidullah, Héctor\n",
        "Delgado, Xin Wang, Nicholas Evans, Tomi Kinnunen, Kong Aik Lee, Ville Vestman,\n",
        "and Andreas Nautsch in 2019.\n",
        "\"\"\"\n",
        "\n",
        "class ASVspoof2019(datasets.GeneratorBasedBuilder):\n",
        "    BUILDER_CONFIG = datasets.BuilderConfig(name=\"LA\", description=\"Logical access (LA)\")\n",
        "\n",
        "    def __init__(self):\n",
        "        super().__init__\n",
        "\n",
        "    def _info(self):\n",
        "        # which features to expect in dataset\n",
        "        print(self.BUILDER_CONFIG.name)\n",
        "        features = datasets.Features(\n",
        "            {\n",
        "                \"speaker_id\": datasets.Value(\"string\"),\n",
        "                \"audio_file_name\": datasets.Value(\"string\"),\n",
        "                \"audio\": datasets.Audio(sampling_rate=16_000),\n",
        "                \"system_id\": datasets.Value(\"string\"),\n",
        "                \"key\": datasets.ClassLabel(names=[\"bonafide\", \"spoof\"]),\n",
        "            }\n",
        "        )\n",
        "        return datasets.DatasetInfo(\n",
        "            description=_DESCRIPTION,\n",
        "            features=features,\n",
        "            supervised_keys=(\"audio\", \"key\"),\n",
        "            homepage=_HOMEPAGE,\n",
        "            citation=_CITATION,\n",
        "        )\n",
        "\n",
        "    def _split_generators(self, dl_manager):\n",
        "        data_dir = dl_manager.download_and_extract(_URL)\n",
        "        return [\n",
        "            datasets.SplitGenerator(\n",
        "                name=datasets.Split.TRAIN,\n",
        "                gen_kwargs={\n",
        "                    \"metadata_filepath\": os.path.join(\n",
        "                        data_dir,\n",
        "                        self.BUILDER_CONFIG.name,\n",
        "                        f\"ASVspoof2019_{self.BUILDER_CONFIG.name}_cm_protocols\",\n",
        "                        f\"ASVspoof2019.{self.BUILDER_CONFIG.name}.cm.train.trn.txt\",\n",
        "                    ),\n",
        "                    \"audios_dir\": os.path.join(\n",
        "                        data_dir, self.BUILDER_CONFIG.name, f\"ASVspoof2019_{self.BUILDER_CONFIG.name}_train\", \"flac\"\n",
        "                    ),\n",
        "                },\n",
        "            ),\n",
        "            datasets.SplitGenerator(\n",
        "                name=datasets.Split.VALIDATION,\n",
        "                gen_kwargs={\n",
        "                    \"metadata_filepath\": os.path.join(\n",
        "                        data_dir,\n",
        "                        self.BUILDER_CONFIG.name,\n",
        "                        f\"ASVspoof2019_{self.BUILDER_CONFIG.name}_cm_protocols\",\n",
        "                        f\"ASVspoof2019.{self.BUILDER_CONFIG.name}.cm.dev.trl.txt\",\n",
        "                    ),\n",
        "                    \"audios_dir\": os.path.join(\n",
        "                        data_dir, self.BUILDER_CONFIG.name, f\"ASVspoof2019_{self.BUILDER_CONFIG.name}_dev\", \"flac\"\n",
        "                    ),\n",
        "                },\n",
        "            ),\n",
        "            datasets.SplitGenerator(\n",
        "                name=datasets.Split.TEST,\n",
        "                gen_kwargs={\n",
        "                    \"metadata_filepath\": os.path.join(\n",
        "                        data_dir,\n",
        "                        self.BUILDER_CONFIG.name,\n",
        "                        f\"ASVspoof2019_{self.BUILDER_CONFIG.name}_cm_protocols\",\n",
        "                        f\"ASVspoof2019.{self.BUILDER_CONFIG.name}.cm.eval.trl.txt\",\n",
        "                    ),\n",
        "                    \"audios_dir\": os.path.join(\n",
        "                        data_dir, self.BUILDER_CONFIG.name, f\"ASVspoof2019_{self.BUILDER_CONFIG.name}_eval\", \"flac\"\n",
        "                    ),\n",
        "                },\n",
        "            ),\n",
        "        ]\n",
        "\n",
        "    def _generate_examples(self, metadata_filepath, audios_dir):\n",
        "        data = []\n",
        "        with open(metadata_filepath) as f:\n",
        "            for i, line in enumerate(f.readlines()):\n",
        "                speaker_id, audio_file_name, _, system_id, key = line.strip().split()\n",
        "                result = {\n",
        "                    \"speaker_id\": speaker_id,\n",
        "                    \"audio_file_name\": audio_file_name,\n",
        "                    \"system_id\": system_id,\n",
        "                    \"key\": key,\n",
        "                }\n",
        "                result[\"audio\"] = os.path.join(audios_dir, audio_file_name + \".flac\")\n",
        "                data.append(result)\n",
        "        return data"
      ]
    },
    {
      "cell_type": "code",
      "execution_count": 9,
      "metadata": {
        "colab": {
          "base_uri": "https://localhost:8080/",
          "height": 81,
          "referenced_widgets": [
            "d1620936ec3f40eea793faff300db576",
            "71356e78af8340e6990db63b37463d49",
            "ec36c178e2284c70880d286a4f45a4b8",
            "78c64787aa7b4c0c950258e486a937ab",
            "9fd1a621232140a8bd49a01c2e4a68df",
            "6134f5582b5c426cbebc57c82f1dc2e1",
            "d4f742c572324e29b77376f3559a5bd2",
            "9441026b47e549f7b53f5d597525e020",
            "33b62a6adcbf44639420380f5fcf15b5",
            "288b845d04084bcebc3122c12ae6d95d",
            "76892d8ce6384fb596fd587b95904865",
            "0e9f062f60fc40708f377f0e78b4da59",
            "8a681607439048189921ceaced7ff2fe",
            "46da6efd1d6b4276b3be2ce13b418ef7",
            "2a61721a2dc444ecb6dbfc5654f9166d",
            "2f4adecd973e4e4191985c15a5258d9e",
            "7c938c011da6408da5dcb5a7c81722a4",
            "af8c231b4db34032a44addbb0938132e",
            "fc17cbcf61a74bd081bb95b352828a6f",
            "c28a92079df147e9aaeb047abee8b39f",
            "730bb6cdb11a44d989095ecea133682f",
            "927ef36bf7494cec94d6d4366706893b"
          ]
        },
        "id": "JQBkSfn3i24L",
        "outputId": "efa95cac-324b-400c-9f72-19ac568929c5"
      },
      "outputs": [
        {
          "output_type": "display_data",
          "data": {
            "text/plain": [
              "Downloading data:   0%|          | 0.00/7.64G [00:00<?, ?B/s]"
            ],
            "application/vnd.jupyter.widget-view+json": {
              "version_major": 2,
              "version_minor": 0,
              "model_id": "d1620936ec3f40eea793faff300db576"
            }
          },
          "metadata": {}
        },
        {
          "output_type": "display_data",
          "data": {
            "text/plain": [
              "Computing checksums: 100%|##########| 1/1 [00:42<00:00, 42.33s/it]"
            ],
            "application/vnd.jupyter.widget-view+json": {
              "version_major": 2,
              "version_minor": 0,
              "model_id": "0e9f062f60fc40708f377f0e78b4da59"
            }
          },
          "metadata": {}
        }
      ],
      "source": [
        "dl_manager = DownloadManager()\n",
        "\n",
        "speech_dataset = ASVspoof2019()\n",
        "\n",
        "\n",
        "asv_datasets = speech_dataset._split_generators(dl_manager)"
      ]
    },
    {
      "cell_type": "code",
      "execution_count": 10,
      "metadata": {
        "id": "zygAZmre6IZv"
      },
      "outputs": [],
      "source": [
        "# 0 - train, 1 - eval, 2 - test in asv_datasets\n",
        "train_metadata_filepath = asv_datasets[0].gen_kwargs[\"metadata_filepath\"]\n",
        "train_audios_dir = asv_datasets[0].gen_kwargs[\"audios_dir\"]\n",
        "\n",
        "val_metadata_filepath = asv_datasets[1].gen_kwargs[\"metadata_filepath\"]\n",
        "val_audios_dir = asv_datasets[1].gen_kwargs[\"audios_dir\"]\n",
        "\n",
        "test_metadata_filepath = asv_datasets[2].gen_kwargs[\"metadata_filepath\"]\n",
        "test_audios_dir = asv_datasets[2].gen_kwargs[\"audios_dir\"]"
      ]
    },
    {
      "cell_type": "code",
      "execution_count": 11,
      "metadata": {
        "id": "qfwhikl46IZw"
      },
      "outputs": [],
      "source": [
        "train_samples = speech_dataset._generate_examples(train_metadata_filepath, train_audios_dir)\n",
        "val_samples = speech_dataset._generate_examples(val_metadata_filepath, val_audios_dir)\n",
        "test_samples = speech_dataset._generate_examples(test_metadata_filepath, test_audios_dir)"
      ]
    },
    {
      "cell_type": "markdown",
      "metadata": {
        "id": "k_HX9HCy6IZx"
      },
      "source": [
        "## Listen to random sample\n",
        "\n",
        "Display some audio from train/validation set."
      ]
    },
    {
      "cell_type": "code",
      "execution_count": 13,
      "metadata": {
        "id": "fH5eSp736IZy",
        "outputId": "19d3640b-f9eb-481a-9e1e-d9fe4d24cdc9",
        "colab": {
          "base_uri": "https://localhost:8080/"
        }
      },
      "outputs": [
        {
          "output_type": "execute_result",
          "data": {
            "text/plain": [
              "{'speaker_id': 'LA_0089',\n",
              " 'audio_file_name': 'LA_T_1032079',\n",
              " 'system_id': 'A05',\n",
              " 'key': 'spoof',\n",
              " 'audio': '/root/.cache/huggingface/datasets/downloads/extracted/911103f86670b6f7e96211444d0f39fc5ffab511156a395f67b098c2f45dce18/LA/ASVspoof2019_LA_train/flac/LA_T_1032079.flac'}"
            ]
          },
          "metadata": {},
          "execution_count": 13
        }
      ],
      "source": [
        "def get_sample(samples):\n",
        "    return random.sample(samples, k=1)[0]\n",
        "\n",
        "sample = get_sample(train_samples)\n",
        "sample"
      ]
    },
    {
      "cell_type": "code",
      "execution_count": 14,
      "metadata": {
        "id": "WHkVtyP16IZy",
        "outputId": "d28df1c7-c12f-4165-d6ca-8ac12a169116",
        "colab": {
          "base_uri": "https://localhost:8080/",
          "height": 95
        }
      },
      "outputs": [
        {
          "output_type": "stream",
          "name": "stdout",
          "text": [
            "spoof\n"
          ]
        },
        {
          "output_type": "execute_result",
          "data": {
            "text/plain": [
              "<IPython.lib.display.Audio object>"
            ],
            "text/html": [
              "\n",
              "                <audio  controls=\"controls\" >\n",
              "                    <source src=\"data:audio/flac;base64,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\" type=\"audio/flac\" />\n",
              "                    Your browser does not support the audio element.\n",
              "                </audio>\n",
              "              "
            ]
          },
          "metadata": {},
          "execution_count": 14
        }
      ],
      "source": [
        "# LA_0095 bonatide\n",
        "print(sample['key'])\n",
        "IPython.display.Audio(sample['audio'])"
      ]
    },
    {
      "cell_type": "code",
      "execution_count": 15,
      "metadata": {
        "id": "mlzc2vEF6IZz",
        "outputId": "849670d2-a01c-471c-a04f-4ff7e78fe857",
        "colab": {
          "base_uri": "https://localhost:8080/"
        }
      },
      "outputs": [
        {
          "output_type": "execute_result",
          "data": {
            "text/plain": [
              "{'speaker_id': 'LA_0075',\n",
              " 'audio_file_name': 'LA_D_3400488',\n",
              " 'system_id': 'A02',\n",
              " 'key': 'spoof',\n",
              " 'audio': '/root/.cache/huggingface/datasets/downloads/extracted/911103f86670b6f7e96211444d0f39fc5ffab511156a395f67b098c2f45dce18/LA/ASVspoof2019_LA_dev/flac/LA_D_3400488.flac'}"
            ]
          },
          "metadata": {},
          "execution_count": 15
        }
      ],
      "source": [
        "sample = get_sample(val_samples)\n",
        "sample"
      ]
    },
    {
      "cell_type": "code",
      "execution_count": 16,
      "metadata": {
        "id": "R58-UjmT6IZz",
        "outputId": "9caf5f3a-4d35-4cbc-de01-c9c8100a9f7b",
        "colab": {
          "base_uri": "https://localhost:8080/",
          "height": 95
        }
      },
      "outputs": [
        {
          "output_type": "stream",
          "name": "stdout",
          "text": [
            "spoof\n"
          ]
        },
        {
          "output_type": "execute_result",
          "data": {
            "text/plain": [
              "<IPython.lib.display.Audio object>"
            ],
            "text/html": [
              "\n",
              "                <audio  controls=\"controls\" >\n",
              "                    <source src=\"data:audio/flac;base64,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\" type=\"audio/flac\" />\n",
              "                    Your browser does not support the audio element.\n",
              "                </audio>\n",
              "              "
            ]
          },
          "metadata": {},
          "execution_count": 16
        }
      ],
      "source": [
        "# LA_0089 spoof\n",
        "print(sample['key'])\n",
        "IPython.display.Audio(sample['audio'])"
      ]
    },
    {
      "cell_type": "markdown",
      "metadata": {
        "id": "z0A5cdl46IZ0"
      },
      "source": [
        "## Audio preprocessing\n"
      ]
    },
    {
      "cell_type": "code",
      "execution_count": 17,
      "metadata": {
        "id": "ykAUqWr66IZ0"
      },
      "outputs": [],
      "source": [
        "def audio_preprocess(waveform, sample_rate, resample_rate, desired_duration):\n",
        "    \"\"\"\n",
        "        Resample audio to target frequency (16 kHz or 22.05 kHz) \\\n",
        "        Set equal duration for all audios\n",
        "    \"\"\"\n",
        "    resampler = T.Resample(sample_rate, resample_rate)\n",
        "    resampled_waveform = resampler(waveform)\n",
        "\n",
        "    desired_length = int(desired_duration * resample_rate)\n",
        "    if len(resampled_waveform) < desired_length:\n",
        "        resampled_waveform = resampled_waveform.tile(((desired_length // resampled_waveform.shape[1]) + 1,))\n",
        "    resampled_waveform = resampled_waveform[:,0: desired_length]\n",
        "\n",
        "    return resampled_waveform\n",
        "\n",
        "\n",
        "def peak_normalize(waveform):\n",
        "    \"\"\"\n",
        "        Normalize audio\n",
        "    \"\"\"\n",
        "    waveform /= torch.max(torch.abs(waveform))\n",
        "    return waveform"
      ]
    },
    {
      "cell_type": "code",
      "execution_count": 18,
      "metadata": {
        "id": "ywHtdGDA6IZ0"
      },
      "outputs": [],
      "source": [
        "class AudioDataset(Dataset):\n",
        "    def __init__(self, raw_dataset, desired_duration, resample_rate, transform=None):\n",
        "        self.raw_data = raw_dataset\n",
        "        self.transform = transform\n",
        "        self.sample_rate = resample_rate\n",
        "        self.duration = desired_duration\n",
        "\n",
        "    def __len__(self):\n",
        "        return len(self.raw_data)\n",
        "\n",
        "    def __getitem__(self, idx):\n",
        "        waveform, sample_rate = torchaudio.load(self.raw_data[idx]['audio'])\n",
        "        if self.transform:\n",
        "            waveform = self.transform[0](waveform, sample_rate, self.sample_rate, self.duration)\n",
        "            waveform = self.transform[1](waveform)\n",
        "\n",
        "        label = 1 if self.raw_data[idx]['key'] == 'spoof' else 0\n",
        "        return waveform, label"
      ]
    },
    {
      "cell_type": "code",
      "execution_count": 19,
      "metadata": {
        "id": "x9y5srqs6IZ1"
      },
      "outputs": [],
      "source": [
        "_DURATION = 6\n",
        "_SAMPLE_RATE = 16_000\n",
        "\n",
        "train_dataset = AudioDataset(train_samples, _DURATION, _SAMPLE_RATE, transform=[audio_preprocess, peak_normalize])\n",
        "train_loader= DataLoader(train_dataset, batch_size=32, shuffle=True)\n",
        "\n",
        "test_dataset = AudioDataset(test_samples, _DURATION, _SAMPLE_RATE, transform=[audio_preprocess, peak_normalize])\n",
        "test_loader= DataLoader(test_dataset, batch_size=32, shuffle=True)"
      ]
    },
    {
      "cell_type": "code",
      "execution_count": 20,
      "metadata": {
        "id": "WPClop2x6IZ1",
        "outputId": "075a91ea-ae4a-46fa-d963-d9b9445ad30b",
        "colab": {
          "base_uri": "https://localhost:8080/"
        }
      },
      "outputs": [
        {
          "output_type": "execute_result",
          "data": {
            "text/plain": [
              "torch.Size([1, 96000])"
            ]
          },
          "metadata": {},
          "execution_count": 20
        }
      ],
      "source": [
        "train_dataset[0][0].shape"
      ]
    },
    {
      "cell_type": "markdown",
      "source": [
        "# Feature extraction  Definition\n",
        "Mel-frequency cepstrum coefficient (MFCC), constant Q cepstral coefficient (CQCC)."
      ],
      "metadata": {
        "id": "QzIFl95M0Gm-"
      }
    },
    {
      "cell_type": "code",
      "source": [
        "def get_MFCC(waveform, sample_rate):\n",
        "    mfcc = librosa.feature.mfcc(y=waveform.numpy().squeeze(), sr=sample_rate, n_mfcc=20)\n",
        "    return torch.from_numpy(mfcc)\n",
        "\n"
      ],
      "metadata": {
        "id": "9Iqk4bA5Bs66"
      },
      "execution_count": 21,
      "outputs": []
    },
    {
      "cell_type": "code",
      "source": [
        "def get_LPS(waveform, sample_rate):\n",
        "    stft = librosa.core.stft(waveform.numpy().squeeze())\n",
        "    lps = librosa.amplitude_to_db(np.abs(stft))\n",
        "    return torch.from_numpy(lps)\n",
        "\n"
      ],
      "metadata": {
        "id": "2Z4hjDb_SG53"
      },
      "execution_count": 24,
      "outputs": []
    },
    {
      "cell_type": "code",
      "source": [],
      "metadata": {
        "id": "IbPqll9C_gXO"
      },
      "execution_count": null,
      "outputs": []
    },
    {
      "cell_type": "code",
      "source": [
        "def get_CQCC(waveform, sample_rate):\n",
        "    cqcc = librosa.feature.chroma_cqt(y=waveform.numpy().squeeze(), sr=sample_rate)\n",
        "    return torch.from_numpy(cqcc)\n",
        "\n",
        "\n",
        "\n"
      ],
      "metadata": {
        "id": "8gAcDsVG_gaC"
      },
      "execution_count": 25,
      "outputs": []
    },
    {
      "cell_type": "markdown",
      "source": [
        "# Model"
      ],
      "metadata": {
        "id": "oez3Orkr1R0U"
      }
    },
    {
      "cell_type": "code",
      "source": [
        "from tqdm import tqdm\n",
        "import torchvision"
      ],
      "metadata": {
        "id": "6H4pMZzcqpsH"
      },
      "execution_count": 26,
      "outputs": []
    },
    {
      "cell_type": "code",
      "source": [
        "# TODO your code\n",
        "model = torchvision.models.resnet18(pretrained=True)"
      ],
      "metadata": {
        "colab": {
          "base_uri": "https://localhost:8080/"
        },
        "id": "A96Tr2Ghqpv-",
        "outputId": "a12355ae-dd33-421a-f30a-bf9535b652b1"
      },
      "execution_count": 27,
      "outputs": [
        {
          "output_type": "stream",
          "name": "stderr",
          "text": [
            "/usr/local/lib/python3.10/dist-packages/torchvision/models/_utils.py:208: UserWarning: The parameter 'pretrained' is deprecated since 0.13 and may be removed in the future, please use 'weights' instead.\n",
            "  warnings.warn(\n",
            "/usr/local/lib/python3.10/dist-packages/torchvision/models/_utils.py:223: UserWarning: Arguments other than a weight enum or `None` for 'weights' are deprecated since 0.13 and may be removed in the future. The current behavior is equivalent to passing `weights=ResNet18_Weights.IMAGENET1K_V1`. You can also use `weights=ResNet18_Weights.DEFAULT` to get the most up-to-date weights.\n",
            "  warnings.warn(msg)\n",
            "Downloading: \"https://download.pytorch.org/models/resnet18-f37072fd.pth\" to /root/.cache/torch/hub/checkpoints/resnet18-f37072fd.pth\n",
            "100%|██████████| 44.7M/44.7M [00:00<00:00, 119MB/s]\n"
          ]
        }
      ]
    },
    {
      "cell_type": "code",
      "source": [
        "# TODO your code\n",
        "n_ftrs = model.fc.in_features\n",
        "model.fc=nn.Linear(n_ftrs,2)\n",
        "# model.conv1 = nn.Conv2d(1, 64, kernel_size=7, stride=2, padding=3, bias=False)\n",
        "model.conv1 = nn.Conv2d(1, 64, kernel_size=(9, 3), stride=(3, 1), padding=(1, 1), bias=False)\n"
      ],
      "metadata": {
        "id": "4iC2UKvoqp0Z"
      },
      "execution_count": 28,
      "outputs": []
    },
    {
      "cell_type": "code",
      "source": [],
      "metadata": {
        "id": "zaVoVS3Ayd6x"
      },
      "execution_count": null,
      "outputs": []
    },
    {
      "cell_type": "code",
      "source": [
        "device= torch.device(\"cuda\" if torch.cuda.is_available() else \"cpu\")\n",
        "\n",
        "model.to(device)"
      ],
      "metadata": {
        "id": "3YyKNFw48MW5",
        "colab": {
          "base_uri": "https://localhost:8080/"
        },
        "outputId": "048250e4-206a-45f5-f874-6edf519af90e"
      },
      "execution_count": 29,
      "outputs": [
        {
          "output_type": "execute_result",
          "data": {
            "text/plain": [
              "ResNet(\n",
              "  (conv1): Conv2d(1, 64, kernel_size=(9, 3), stride=(3, 1), padding=(1, 1), bias=False)\n",
              "  (bn1): BatchNorm2d(64, eps=1e-05, momentum=0.1, affine=True, track_running_stats=True)\n",
              "  (relu): ReLU(inplace=True)\n",
              "  (maxpool): MaxPool2d(kernel_size=3, stride=2, padding=1, dilation=1, ceil_mode=False)\n",
              "  (layer1): Sequential(\n",
              "    (0): BasicBlock(\n",
              "      (conv1): Conv2d(64, 64, kernel_size=(3, 3), stride=(1, 1), padding=(1, 1), bias=False)\n",
              "      (bn1): BatchNorm2d(64, eps=1e-05, momentum=0.1, affine=True, track_running_stats=True)\n",
              "      (relu): ReLU(inplace=True)\n",
              "      (conv2): Conv2d(64, 64, kernel_size=(3, 3), stride=(1, 1), padding=(1, 1), bias=False)\n",
              "      (bn2): BatchNorm2d(64, eps=1e-05, momentum=0.1, affine=True, track_running_stats=True)\n",
              "    )\n",
              "    (1): BasicBlock(\n",
              "      (conv1): Conv2d(64, 64, kernel_size=(3, 3), stride=(1, 1), padding=(1, 1), bias=False)\n",
              "      (bn1): BatchNorm2d(64, eps=1e-05, momentum=0.1, affine=True, track_running_stats=True)\n",
              "      (relu): ReLU(inplace=True)\n",
              "      (conv2): Conv2d(64, 64, kernel_size=(3, 3), stride=(1, 1), padding=(1, 1), bias=False)\n",
              "      (bn2): BatchNorm2d(64, eps=1e-05, momentum=0.1, affine=True, track_running_stats=True)\n",
              "    )\n",
              "  )\n",
              "  (layer2): Sequential(\n",
              "    (0): BasicBlock(\n",
              "      (conv1): Conv2d(64, 128, kernel_size=(3, 3), stride=(2, 2), padding=(1, 1), bias=False)\n",
              "      (bn1): BatchNorm2d(128, eps=1e-05, momentum=0.1, affine=True, track_running_stats=True)\n",
              "      (relu): ReLU(inplace=True)\n",
              "      (conv2): Conv2d(128, 128, kernel_size=(3, 3), stride=(1, 1), padding=(1, 1), bias=False)\n",
              "      (bn2): BatchNorm2d(128, eps=1e-05, momentum=0.1, affine=True, track_running_stats=True)\n",
              "      (downsample): Sequential(\n",
              "        (0): Conv2d(64, 128, kernel_size=(1, 1), stride=(2, 2), bias=False)\n",
              "        (1): BatchNorm2d(128, eps=1e-05, momentum=0.1, affine=True, track_running_stats=True)\n",
              "      )\n",
              "    )\n",
              "    (1): BasicBlock(\n",
              "      (conv1): Conv2d(128, 128, kernel_size=(3, 3), stride=(1, 1), padding=(1, 1), bias=False)\n",
              "      (bn1): BatchNorm2d(128, eps=1e-05, momentum=0.1, affine=True, track_running_stats=True)\n",
              "      (relu): ReLU(inplace=True)\n",
              "      (conv2): Conv2d(128, 128, kernel_size=(3, 3), stride=(1, 1), padding=(1, 1), bias=False)\n",
              "      (bn2): BatchNorm2d(128, eps=1e-05, momentum=0.1, affine=True, track_running_stats=True)\n",
              "    )\n",
              "  )\n",
              "  (layer3): Sequential(\n",
              "    (0): BasicBlock(\n",
              "      (conv1): Conv2d(128, 256, kernel_size=(3, 3), stride=(2, 2), padding=(1, 1), bias=False)\n",
              "      (bn1): BatchNorm2d(256, eps=1e-05, momentum=0.1, affine=True, track_running_stats=True)\n",
              "      (relu): ReLU(inplace=True)\n",
              "      (conv2): Conv2d(256, 256, kernel_size=(3, 3), stride=(1, 1), padding=(1, 1), bias=False)\n",
              "      (bn2): BatchNorm2d(256, eps=1e-05, momentum=0.1, affine=True, track_running_stats=True)\n",
              "      (downsample): Sequential(\n",
              "        (0): Conv2d(128, 256, kernel_size=(1, 1), stride=(2, 2), bias=False)\n",
              "        (1): BatchNorm2d(256, eps=1e-05, momentum=0.1, affine=True, track_running_stats=True)\n",
              "      )\n",
              "    )\n",
              "    (1): BasicBlock(\n",
              "      (conv1): Conv2d(256, 256, kernel_size=(3, 3), stride=(1, 1), padding=(1, 1), bias=False)\n",
              "      (bn1): BatchNorm2d(256, eps=1e-05, momentum=0.1, affine=True, track_running_stats=True)\n",
              "      (relu): ReLU(inplace=True)\n",
              "      (conv2): Conv2d(256, 256, kernel_size=(3, 3), stride=(1, 1), padding=(1, 1), bias=False)\n",
              "      (bn2): BatchNorm2d(256, eps=1e-05, momentum=0.1, affine=True, track_running_stats=True)\n",
              "    )\n",
              "  )\n",
              "  (layer4): Sequential(\n",
              "    (0): BasicBlock(\n",
              "      (conv1): Conv2d(256, 512, kernel_size=(3, 3), stride=(2, 2), padding=(1, 1), bias=False)\n",
              "      (bn1): BatchNorm2d(512, eps=1e-05, momentum=0.1, affine=True, track_running_stats=True)\n",
              "      (relu): ReLU(inplace=True)\n",
              "      (conv2): Conv2d(512, 512, kernel_size=(3, 3), stride=(1, 1), padding=(1, 1), bias=False)\n",
              "      (bn2): BatchNorm2d(512, eps=1e-05, momentum=0.1, affine=True, track_running_stats=True)\n",
              "      (downsample): Sequential(\n",
              "        (0): Conv2d(256, 512, kernel_size=(1, 1), stride=(2, 2), bias=False)\n",
              "        (1): BatchNorm2d(512, eps=1e-05, momentum=0.1, affine=True, track_running_stats=True)\n",
              "      )\n",
              "    )\n",
              "    (1): BasicBlock(\n",
              "      (conv1): Conv2d(512, 512, kernel_size=(3, 3), stride=(1, 1), padding=(1, 1), bias=False)\n",
              "      (bn1): BatchNorm2d(512, eps=1e-05, momentum=0.1, affine=True, track_running_stats=True)\n",
              "      (relu): ReLU(inplace=True)\n",
              "      (conv2): Conv2d(512, 512, kernel_size=(3, 3), stride=(1, 1), padding=(1, 1), bias=False)\n",
              "      (bn2): BatchNorm2d(512, eps=1e-05, momentum=0.1, affine=True, track_running_stats=True)\n",
              "    )\n",
              "  )\n",
              "  (avgpool): AdaptiveAvgPool2d(output_size=(1, 1))\n",
              "  (fc): Linear(in_features=512, out_features=2, bias=True)\n",
              ")"
            ]
          },
          "metadata": {},
          "execution_count": 29
        }
      ]
    },
    {
      "cell_type": "markdown",
      "source": [
        "# Training"
      ],
      "metadata": {
        "id": "oK-HelhA1Weq"
      }
    },
    {
      "cell_type": "code",
      "source": [
        "num_epochs=3\n",
        "optimizer=torch.optim.Adam(model.parameters(), lr=0.001)\n",
        "criterion=nn.CrossEntropyLoss()"
      ],
      "metadata": {
        "id": "MMc_US2zSfmK"
      },
      "execution_count": 30,
      "outputs": []
    },
    {
      "cell_type": "code",
      "source": [
        "def train_loop(model, loader, feature_extractor, criterion, optimizer,n_epochs, device):\n",
        "    for epoch in range(n_epochs):\n",
        "        # Training\n",
        "        model.train(True)\n",
        "        sum_loss = 0.0\n",
        "        num_correct = 0\n",
        "        total_samples = 0\n",
        "        for data, labels in tqdm(loader):\n",
        "            data = data\n",
        "            labels = labels.to(device)\n",
        "\n",
        "            if feature_extractor == 'MFCC':\n",
        "                features = get_MFCC(data, loader.dataset.sample_rate)\n",
        "            elif feature_extractor == 'CQCC':\n",
        "                features = get_CQCC(data, loader.dataset.sample_rate)\n",
        "            elif feature_extractor == 'LPS':\n",
        "                features = get_LPS(data, loader.dataset.sample_rate)\n",
        "            else:\n",
        "                raise ValueError(f\"Invalid feature extractor: {feature_extractor}\")\n",
        "\n",
        "            features = features.unsqueeze(1).to(device)\n",
        "            output = model(features)\n",
        "            loss = criterion(output, labels)\n",
        "            loss.backward()\n",
        "            optimizer.step()\n",
        "            optimizer.zero_grad()\n",
        "\n",
        "\n",
        "            sum_loss += loss.item()\n",
        "            max_val, predicted = output.max(1)\n",
        "            num_correct += (predicted == labels).sum().item()\n",
        "            total_samples += data.size(0)\n",
        "\n",
        "        train_accuracy = num_correct / total_samples\n",
        "        train_avg_loss = sum_loss / len(train_loader)\n",
        "        print(f'Epoch [{epoch+1}/{num_epochs}], Training Accuracy: {train_accuracy:.4f}, Training Loss: {train_avg_loss:.4f}')\n"
      ],
      "metadata": {
        "id": "4NFjguHG2ndk"
      },
      "execution_count": 36,
      "outputs": []
    },
    {
      "cell_type": "code",
      "source": [
        "def evaluate_model(model, test_loader, feature_extractor, criterion, device):\n",
        "    model.eval()\n",
        "    test_loss = 0.0\n",
        "    test_correct = 0\n",
        "    total_test_samples = 0\n",
        "\n",
        "    with torch.no_grad():\n",
        "        for waveform, label in tqdm(test_loader):\n",
        "            waveform = waveform\n",
        "            label = label.to(device)\n",
        "\n",
        "            if feature_extractor == 'MFCC':\n",
        "                features = get_MFCC(waveform, test_loader.dataset.sample_rate)\n",
        "            elif feature_extractor == 'CQCC':\n",
        "                features = get_CQCC(waveform, test_loader.dataset.sample_rate)\n",
        "            elif feature_extractor == 'LPS':\n",
        "                features = get_LPS(waveform, test_loader.dataset.sample_rate)\n",
        "            else:\n",
        "                raise ValueError(f\"Invalid feature extractor: {feature_extractor}\")\n",
        "\n",
        "            features = features.to(device)\n",
        "            output = model(features)\n",
        "            loss = criterion(output, label)\n",
        "            test_loss += loss.item()\n",
        "\n",
        "            max_val, predicted = output.max(1)\n",
        "            test_correct += (predicted == label).sum().item()\n",
        "            total_test_samples += features.size(0)\n",
        "\n",
        "    test_accuracy = test_correct / total_test_samples\n",
        "    test_loss = test_loss / len(test_loader)\n",
        "\n",
        "    print(f'Test Loss: {test_loss:.4f}, Test Accuracy: {test_accuracy:.4f}')"
      ],
      "metadata": {
        "id": "0zBjwP2Q3FqV"
      },
      "execution_count": null,
      "outputs": []
    },
    {
      "cell_type": "markdown",
      "source": [
        "### Training the model for MFCC features"
      ],
      "metadata": {
        "id": "Pz40pfhT3aSb"
      }
    },
    {
      "cell_type": "code",
      "source": [
        "feature_extractor='MFCC'"
      ],
      "metadata": {
        "id": "ZFB8epS9MfsH"
      },
      "execution_count": null,
      "outputs": []
    },
    {
      "cell_type": "code",
      "source": [
        "train_loop(\n",
        "    model,\n",
        "    train_loader,\n",
        "    feature_extractor=feature_extractor,\n",
        "    criterion=criterion,\n",
        "    optimizer=optimizer,\n",
        "    n_epochs=num_epochs,\n",
        "    device=device\n",
        ")"
      ],
      "metadata": {
        "colab": {
          "base_uri": "https://localhost:8080/"
        },
        "outputId": "6208d2ff-bbcf-4266-8fbc-90956b7d6c11",
        "id": "dnenJzsBz1q8"
      },
      "execution_count": null,
      "outputs": [
        {
          "output_type": "stream",
          "name": "stderr",
          "text": [
            "100%|██████████| 794/794 [08:51<00:00,  1.49it/s]\n"
          ]
        },
        {
          "output_type": "stream",
          "name": "stdout",
          "text": [
            "accuracy = 0.9925531914893617\n",
            "avg_loss = 0.023340381654812947\n"
          ]
        },
        {
          "output_type": "stream",
          "name": "stderr",
          "text": [
            "100%|██████████| 794/794 [08:39<00:00,  1.53it/s]\n"
          ]
        },
        {
          "output_type": "stream",
          "name": "stdout",
          "text": [
            "accuracy = 0.9951142631993696\n",
            "avg_loss = 0.016910217556470993\n"
          ]
        },
        {
          "output_type": "stream",
          "name": "stderr",
          "text": [
            "100%|██████████| 794/794 [08:43<00:00,  1.52it/s]"
          ]
        },
        {
          "output_type": "stream",
          "name": "stdout",
          "text": [
            "accuracy = 0.9954294720252167\n",
            "avg_loss = 0.01600879114641283\n"
          ]
        },
        {
          "output_type": "stream",
          "name": "stderr",
          "text": [
            "\n"
          ]
        }
      ]
    },
    {
      "cell_type": "code",
      "source": [
        "evaluate_model(\n",
        "    model,\n",
        "    test_loader,\n",
        "    feature_extractor=feature_extractor,\n",
        "    criterion=criterion,\n",
        "    device=device\n",
        ")"
      ],
      "metadata": {
        "colab": {
          "base_uri": "https://localhost:8080/"
        },
        "id": "Mobvi23mrCb2",
        "outputId": "b71eff81-f6cb-498f-806e-23d4af1acbd9"
      },
      "execution_count": null,
      "outputs": [
        {
          "output_type": "stream",
          "name": "stderr",
          "text": [
            "100%|██████████| 2227/2227 [24:22<00:00,  1.52it/s]"
          ]
        },
        {
          "output_type": "stream",
          "name": "stdout",
          "text": [
            "Test Loss: 0.4217, Test Accuracy: 0.8865\n"
          ]
        },
        {
          "output_type": "stream",
          "name": "stderr",
          "text": [
            "\n"
          ]
        }
      ]
    },
    {
      "cell_type": "markdown",
      "source": [
        "### Training the model for LPS features"
      ],
      "metadata": {
        "id": "bV316WhZ4q8g"
      }
    },
    {
      "cell_type": "code",
      "source": [
        "feature_extractor='LPS'"
      ],
      "metadata": {
        "id": "vpgFU16Wba82"
      },
      "execution_count": null,
      "outputs": []
    },
    {
      "cell_type": "code",
      "source": [
        "train_loop(\n",
        "    model,\n",
        "    train_loader,\n",
        "    feature_extractor=feature_extractor,\n",
        "    criterion=criterion,\n",
        "    optimizer=optimizer,\n",
        "    n_epochs=num_epochs,\n",
        "    device=device\n",
        ")"
      ],
      "metadata": {
        "id": "fCSh1uUPSHBN",
        "colab": {
          "base_uri": "https://localhost:8080/"
        },
        "outputId": "44121b50-8019-456d-e372-21bd3a5166e3"
      },
      "execution_count": null,
      "outputs": [
        {
          "output_type": "stream",
          "name": "stderr",
          "text": [
            "\r  0%|          | 0/794 [00:00<?, ?it/s]/usr/local/lib/python3.10/dist-packages/torch/autograd/graph.py:744: UserWarning: Plan failed with a cudnnException: CUDNN_BACKEND_EXECUTION_PLAN_DESCRIPTOR: cudnnFinalize Descriptor Failed cudnn_status: CUDNN_STATUS_NOT_SUPPORTED (Triggered internally at ../aten/src/ATen/native/cudnn/Conv_v8.cpp:919.)\n",
            "  return Variable._execution_engine.run_backward(  # Calls into the C++ engine to run the backward pass\n",
            "100%|██████████| 794/794 [12:10<00:00,  1.09it/s]\n"
          ]
        },
        {
          "output_type": "stream",
          "name": "stdout",
          "text": [
            "Epoch [1/3], Training Accuracy: 0.9938, Training Loss: 0.0189\n"
          ]
        },
        {
          "output_type": "stream",
          "name": "stderr",
          "text": [
            "100%|██████████| 794/794 [11:24<00:00,  1.16it/s]\n"
          ]
        },
        {
          "output_type": "stream",
          "name": "stdout",
          "text": [
            "Epoch [2/3], Training Accuracy: 0.9978, Training Loss: 0.0069\n"
          ]
        },
        {
          "output_type": "stream",
          "name": "stderr",
          "text": [
            "100%|██████████| 794/794 [11:33<00:00,  1.14it/s]"
          ]
        },
        {
          "output_type": "stream",
          "name": "stdout",
          "text": [
            "Epoch [3/3], Training Accuracy: 0.9986, Training Loss: 0.0044\n"
          ]
        },
        {
          "output_type": "stream",
          "name": "stderr",
          "text": [
            "\n"
          ]
        }
      ]
    },
    {
      "cell_type": "code",
      "source": [
        "evaluate_model(\n",
        "    model,\n",
        "    test_loader,\n",
        "    feature_extractor=feature_extractor,\n",
        "    criterion=criterion,\n",
        "    device=device\n",
        ")"
      ],
      "metadata": {
        "id": "oLRMb0HqWWgm",
        "colab": {
          "base_uri": "https://localhost:8080/"
        },
        "outputId": "e694ede9-1ccc-4589-eb69-6f5960169f9c"
      },
      "execution_count": null,
      "outputs": [
        {
          "output_type": "stream",
          "name": "stderr",
          "text": [
            "100%|██████████| 2227/2227 [21:20<00:00,  1.74it/s]"
          ]
        },
        {
          "output_type": "stream",
          "name": "stdout",
          "text": [
            "Test Loss: 0.4052, Test Accuracy: 0.8873\n"
          ]
        },
        {
          "output_type": "stream",
          "name": "stderr",
          "text": [
            "\n"
          ]
        }
      ]
    },
    {
      "cell_type": "code",
      "source": [],
      "metadata": {
        "id": "QuJfTv6ASHE1"
      },
      "execution_count": null,
      "outputs": []
    },
    {
      "cell_type": "markdown",
      "source": [
        "### Training the model for CQCC features"
      ],
      "metadata": {
        "id": "a8rcuYHiAG7U"
      }
    },
    {
      "cell_type": "code",
      "source": [
        "feature_extractor='CQCC'"
      ],
      "metadata": {
        "id": "SKSJCqcoZFIZ"
      },
      "execution_count": null,
      "outputs": []
    },
    {
      "cell_type": "code",
      "source": [
        "train_loop(\n",
        "    model,\n",
        "    train_loader,\n",
        "    feature_extractor=feature_extractor,\n",
        "    criterion=criterion,\n",
        "    optimizer=optimizer,\n",
        "    n_epochs=num_epochs,\n",
        "    device=device\n",
        ")"
      ],
      "metadata": {
        "colab": {
          "base_uri": "https://localhost:8080/"
        },
        "outputId": "9b2c7444-114e-4df1-9a54-878f41ec6532",
        "id": "Nk4W4ftCAG7k"
      },
      "execution_count": null,
      "outputs": [
        {
          "output_type": "stream",
          "name": "stderr",
          "text": [
            "100%|██████████| 794/794 [14:27<00:00,  1.09s/it]\n"
          ]
        },
        {
          "output_type": "stream",
          "name": "stdout",
          "text": [
            "Epoch [1/3], Training Accuracy: 0.9387, Training Loss: 0.1430\n"
          ]
        },
        {
          "output_type": "stream",
          "name": "stderr",
          "text": [
            "  2%|▏         | 16/794 [00:17<14:19,  1.11s/it]"
          ]
        }
      ]
    },
    {
      "cell_type": "code",
      "source": [
        "evaluate_model(\n",
        "    model,\n",
        "    test_loader,\n",
        "    feature_extractor=feature_extractor,\n",
        "    criterion=criterion,\n",
        "    device=device\n",
        ")"
      ],
      "metadata": {
        "colab": {
          "base_uri": "https://localhost:8080/"
        },
        "outputId": "e694ede9-1ccc-4589-eb69-6f5960169f9c",
        "id": "kr1d13v2AG7k"
      },
      "execution_count": null,
      "outputs": [
        {
          "output_type": "stream",
          "name": "stderr",
          "text": [
            "100%|██████████| 2227/2227 [21:20<00:00,  1.74it/s]"
          ]
        },
        {
          "output_type": "stream",
          "name": "stdout",
          "text": [
            "Test Loss: 0.4052, Test Accuracy: 0.8873\n"
          ]
        },
        {
          "output_type": "stream",
          "name": "stderr",
          "text": [
            "\n"
          ]
        }
      ]
    },
    {
      "cell_type": "code",
      "source": [],
      "metadata": {
        "id": "f27kKenJ5yPE"
      },
      "execution_count": null,
      "outputs": []
    },
    {
      "cell_type": "code",
      "source": [],
      "metadata": {
        "id": "Rvsk4m0i5yR1"
      },
      "execution_count": null,
      "outputs": []
    },
    {
      "cell_type": "code",
      "source": [],
      "metadata": {
        "id": "d0wtKy3P5yUZ"
      },
      "execution_count": null,
      "outputs": []
    },
    {
      "cell_type": "code",
      "source": [],
      "metadata": {
        "id": "FkknP7iN5yXc"
      },
      "execution_count": null,
      "outputs": []
    },
    {
      "cell_type": "code",
      "source": [],
      "metadata": {
        "id": "eL2Q0--a5ycP"
      },
      "execution_count": null,
      "outputs": []
    },
    {
      "cell_type": "code",
      "source": [],
      "metadata": {
        "id": "t46wQI1C5ye4"
      },
      "execution_count": null,
      "outputs": []
    },
    {
      "cell_type": "code",
      "source": [],
      "metadata": {
        "id": "8knX7QOl5zFq"
      },
      "execution_count": null,
      "outputs": []
    },
    {
      "cell_type": "code",
      "source": [],
      "metadata": {
        "id": "Y37vbgL45zJA"
      },
      "execution_count": null,
      "outputs": []
    },
    {
      "cell_type": "markdown",
      "metadata": {
        "id": "PQSKwoi76IZ2"
      },
      "source": [
        "# Model definition"
      ]
    },
    {
      "cell_type": "code",
      "execution_count": null,
      "metadata": {
        "id": "nRhw-NSD6IZ2"
      },
      "outputs": [],
      "source": [
        "from models import TE_ResNet\n",
        "\n",
        "# model = models.TE_ResNet()"
      ]
    },
    {
      "cell_type": "markdown",
      "metadata": {
        "id": "5aKeXoov6IZ3"
      },
      "source": [
        "# Training"
      ]
    },
    {
      "cell_type": "code",
      "execution_count": null,
      "metadata": {
        "id": "edndXJjR6IZ3"
      },
      "outputs": [],
      "source": [
        "def train_loop(loader):\n",
        "    n_epochs = 5\n",
        "    for epoch in n_epochs:\n",
        "        for data, labels in loader:\n",
        "            feature_extr.MFCC() # or any other\n",
        "            output = model(data)\n",
        "            loss = ...\n",
        "    pass"
      ]
    }
  ],
  "metadata": {
    "colab": {
      "provenance": [],
      "gpuType": "T4"
    },
    "kernelspec": {
      "display_name": "Python 3",
      "name": "python3"
    },
    "language_info": {
      "codemirror_mode": {
        "name": "ipython",
        "version": 3
      },
      "file_extension": ".py",
      "mimetype": "text/x-python",
      "name": "python",
      "nbconvert_exporter": "python",
      "pygments_lexer": "ipython3",
      "version": "3.10.12"
    },
    "widgets": {
      "application/vnd.jupyter.widget-state+json": {
        "d1620936ec3f40eea793faff300db576": {
          "model_module": "@jupyter-widgets/controls",
          "model_name": "HBoxModel",
          "model_module_version": "1.5.0",
          "state": {
            "_dom_classes": [],
            "_model_module": "@jupyter-widgets/controls",
            "_model_module_version": "1.5.0",
            "_model_name": "HBoxModel",
            "_view_count": null,
            "_view_module": "@jupyter-widgets/controls",
            "_view_module_version": "1.5.0",
            "_view_name": "HBoxView",
            "box_style": "",
            "children": [
              "IPY_MODEL_71356e78af8340e6990db63b37463d49",
              "IPY_MODEL_ec36c178e2284c70880d286a4f45a4b8",
              "IPY_MODEL_78c64787aa7b4c0c950258e486a937ab"
            ],
            "layout": "IPY_MODEL_9fd1a621232140a8bd49a01c2e4a68df"
          }
        },
        "71356e78af8340e6990db63b37463d49": {
          "model_module": "@jupyter-widgets/controls",
          "model_name": "HTMLModel",
          "model_module_version": "1.5.0",
          "state": {
            "_dom_classes": [],
            "_model_module": "@jupyter-widgets/controls",
            "_model_module_version": "1.5.0",
            "_model_name": "HTMLModel",
            "_view_count": null,
            "_view_module": "@jupyter-widgets/controls",
            "_view_module_version": "1.5.0",
            "_view_name": "HTMLView",
            "description": "",
            "description_tooltip": null,
            "layout": "IPY_MODEL_6134f5582b5c426cbebc57c82f1dc2e1",
            "placeholder": "​",
            "style": "IPY_MODEL_d4f742c572324e29b77376f3559a5bd2",
            "value": "Downloading data: 100%"
          }
        },
        "ec36c178e2284c70880d286a4f45a4b8": {
          "model_module": "@jupyter-widgets/controls",
          "model_name": "FloatProgressModel",
          "model_module_version": "1.5.0",
          "state": {
            "_dom_classes": [],
            "_model_module": "@jupyter-widgets/controls",
            "_model_module_version": "1.5.0",
            "_model_name": "FloatProgressModel",
            "_view_count": null,
            "_view_module": "@jupyter-widgets/controls",
            "_view_module_version": "1.5.0",
            "_view_name": "ProgressView",
            "bar_style": "success",
            "description": "",
            "description_tooltip": null,
            "layout": "IPY_MODEL_9441026b47e549f7b53f5d597525e020",
            "max": 7640952520,
            "min": 0,
            "orientation": "horizontal",
            "style": "IPY_MODEL_33b62a6adcbf44639420380f5fcf15b5",
            "value": 7640952520
          }
        },
        "78c64787aa7b4c0c950258e486a937ab": {
          "model_module": "@jupyter-widgets/controls",
          "model_name": "HTMLModel",
          "model_module_version": "1.5.0",
          "state": {
            "_dom_classes": [],
            "_model_module": "@jupyter-widgets/controls",
            "_model_module_version": "1.5.0",
            "_model_name": "HTMLModel",
            "_view_count": null,
            "_view_module": "@jupyter-widgets/controls",
            "_view_module_version": "1.5.0",
            "_view_name": "HTMLView",
            "description": "",
            "description_tooltip": null,
            "layout": "IPY_MODEL_288b845d04084bcebc3122c12ae6d95d",
            "placeholder": "​",
            "style": "IPY_MODEL_76892d8ce6384fb596fd587b95904865",
            "value": " 7.64G/7.64G [1:16:45&lt;00:00, 2.61MB/s]"
          }
        },
        "9fd1a621232140a8bd49a01c2e4a68df": {
          "model_module": "@jupyter-widgets/base",
          "model_name": "LayoutModel",
          "model_module_version": "1.2.0",
          "state": {
            "_model_module": "@jupyter-widgets/base",
            "_model_module_version": "1.2.0",
            "_model_name": "LayoutModel",
            "_view_count": null,
            "_view_module": "@jupyter-widgets/base",
            "_view_module_version": "1.2.0",
            "_view_name": "LayoutView",
            "align_content": null,
            "align_items": null,
            "align_self": null,
            "border": null,
            "bottom": null,
            "display": null,
            "flex": null,
            "flex_flow": null,
            "grid_area": null,
            "grid_auto_columns": null,
            "grid_auto_flow": null,
            "grid_auto_rows": null,
            "grid_column": null,
            "grid_gap": null,
            "grid_row": null,
            "grid_template_areas": null,
            "grid_template_columns": null,
            "grid_template_rows": null,
            "height": null,
            "justify_content": null,
            "justify_items": null,
            "left": null,
            "margin": null,
            "max_height": null,
            "max_width": null,
            "min_height": null,
            "min_width": null,
            "object_fit": null,
            "object_position": null,
            "order": null,
            "overflow": null,
            "overflow_x": null,
            "overflow_y": null,
            "padding": null,
            "right": null,
            "top": null,
            "visibility": null,
            "width": null
          }
        },
        "6134f5582b5c426cbebc57c82f1dc2e1": {
          "model_module": "@jupyter-widgets/base",
          "model_name": "LayoutModel",
          "model_module_version": "1.2.0",
          "state": {
            "_model_module": "@jupyter-widgets/base",
            "_model_module_version": "1.2.0",
            "_model_name": "LayoutModel",
            "_view_count": null,
            "_view_module": "@jupyter-widgets/base",
            "_view_module_version": "1.2.0",
            "_view_name": "LayoutView",
            "align_content": null,
            "align_items": null,
            "align_self": null,
            "border": null,
            "bottom": null,
            "display": null,
            "flex": null,
            "flex_flow": null,
            "grid_area": null,
            "grid_auto_columns": null,
            "grid_auto_flow": null,
            "grid_auto_rows": null,
            "grid_column": null,
            "grid_gap": null,
            "grid_row": null,
            "grid_template_areas": null,
            "grid_template_columns": null,
            "grid_template_rows": null,
            "height": null,
            "justify_content": null,
            "justify_items": null,
            "left": null,
            "margin": null,
            "max_height": null,
            "max_width": null,
            "min_height": null,
            "min_width": null,
            "object_fit": null,
            "object_position": null,
            "order": null,
            "overflow": null,
            "overflow_x": null,
            "overflow_y": null,
            "padding": null,
            "right": null,
            "top": null,
            "visibility": null,
            "width": null
          }
        },
        "d4f742c572324e29b77376f3559a5bd2": {
          "model_module": "@jupyter-widgets/controls",
          "model_name": "DescriptionStyleModel",
          "model_module_version": "1.5.0",
          "state": {
            "_model_module": "@jupyter-widgets/controls",
            "_model_module_version": "1.5.0",
            "_model_name": "DescriptionStyleModel",
            "_view_count": null,
            "_view_module": "@jupyter-widgets/base",
            "_view_module_version": "1.2.0",
            "_view_name": "StyleView",
            "description_width": ""
          }
        },
        "9441026b47e549f7b53f5d597525e020": {
          "model_module": "@jupyter-widgets/base",
          "model_name": "LayoutModel",
          "model_module_version": "1.2.0",
          "state": {
            "_model_module": "@jupyter-widgets/base",
            "_model_module_version": "1.2.0",
            "_model_name": "LayoutModel",
            "_view_count": null,
            "_view_module": "@jupyter-widgets/base",
            "_view_module_version": "1.2.0",
            "_view_name": "LayoutView",
            "align_content": null,
            "align_items": null,
            "align_self": null,
            "border": null,
            "bottom": null,
            "display": null,
            "flex": null,
            "flex_flow": null,
            "grid_area": null,
            "grid_auto_columns": null,
            "grid_auto_flow": null,
            "grid_auto_rows": null,
            "grid_column": null,
            "grid_gap": null,
            "grid_row": null,
            "grid_template_areas": null,
            "grid_template_columns": null,
            "grid_template_rows": null,
            "height": null,
            "justify_content": null,
            "justify_items": null,
            "left": null,
            "margin": null,
            "max_height": null,
            "max_width": null,
            "min_height": null,
            "min_width": null,
            "object_fit": null,
            "object_position": null,
            "order": null,
            "overflow": null,
            "overflow_x": null,
            "overflow_y": null,
            "padding": null,
            "right": null,
            "top": null,
            "visibility": null,
            "width": null
          }
        },
        "33b62a6adcbf44639420380f5fcf15b5": {
          "model_module": "@jupyter-widgets/controls",
          "model_name": "ProgressStyleModel",
          "model_module_version": "1.5.0",
          "state": {
            "_model_module": "@jupyter-widgets/controls",
            "_model_module_version": "1.5.0",
            "_model_name": "ProgressStyleModel",
            "_view_count": null,
            "_view_module": "@jupyter-widgets/base",
            "_view_module_version": "1.2.0",
            "_view_name": "StyleView",
            "bar_color": null,
            "description_width": ""
          }
        },
        "288b845d04084bcebc3122c12ae6d95d": {
          "model_module": "@jupyter-widgets/base",
          "model_name": "LayoutModel",
          "model_module_version": "1.2.0",
          "state": {
            "_model_module": "@jupyter-widgets/base",
            "_model_module_version": "1.2.0",
            "_model_name": "LayoutModel",
            "_view_count": null,
            "_view_module": "@jupyter-widgets/base",
            "_view_module_version": "1.2.0",
            "_view_name": "LayoutView",
            "align_content": null,
            "align_items": null,
            "align_self": null,
            "border": null,
            "bottom": null,
            "display": null,
            "flex": null,
            "flex_flow": null,
            "grid_area": null,
            "grid_auto_columns": null,
            "grid_auto_flow": null,
            "grid_auto_rows": null,
            "grid_column": null,
            "grid_gap": null,
            "grid_row": null,
            "grid_template_areas": null,
            "grid_template_columns": null,
            "grid_template_rows": null,
            "height": null,
            "justify_content": null,
            "justify_items": null,
            "left": null,
            "margin": null,
            "max_height": null,
            "max_width": null,
            "min_height": null,
            "min_width": null,
            "object_fit": null,
            "object_position": null,
            "order": null,
            "overflow": null,
            "overflow_x": null,
            "overflow_y": null,
            "padding": null,
            "right": null,
            "top": null,
            "visibility": null,
            "width": null
          }
        },
        "76892d8ce6384fb596fd587b95904865": {
          "model_module": "@jupyter-widgets/controls",
          "model_name": "DescriptionStyleModel",
          "model_module_version": "1.5.0",
          "state": {
            "_model_module": "@jupyter-widgets/controls",
            "_model_module_version": "1.5.0",
            "_model_name": "DescriptionStyleModel",
            "_view_count": null,
            "_view_module": "@jupyter-widgets/base",
            "_view_module_version": "1.2.0",
            "_view_name": "StyleView",
            "description_width": ""
          }
        },
        "0e9f062f60fc40708f377f0e78b4da59": {
          "model_module": "@jupyter-widgets/controls",
          "model_name": "HBoxModel",
          "model_module_version": "1.5.0",
          "state": {
            "_dom_classes": [],
            "_model_module": "@jupyter-widgets/controls",
            "_model_module_version": "1.5.0",
            "_model_name": "HBoxModel",
            "_view_count": null,
            "_view_module": "@jupyter-widgets/controls",
            "_view_module_version": "1.5.0",
            "_view_name": "HBoxView",
            "box_style": "",
            "children": [
              "IPY_MODEL_8a681607439048189921ceaced7ff2fe",
              "IPY_MODEL_46da6efd1d6b4276b3be2ce13b418ef7",
              "IPY_MODEL_2a61721a2dc444ecb6dbfc5654f9166d"
            ],
            "layout": "IPY_MODEL_2f4adecd973e4e4191985c15a5258d9e"
          }
        },
        "8a681607439048189921ceaced7ff2fe": {
          "model_module": "@jupyter-widgets/controls",
          "model_name": "HTMLModel",
          "model_module_version": "1.5.0",
          "state": {
            "_dom_classes": [],
            "_model_module": "@jupyter-widgets/controls",
            "_model_module_version": "1.5.0",
            "_model_name": "HTMLModel",
            "_view_count": null,
            "_view_module": "@jupyter-widgets/controls",
            "_view_module_version": "1.5.0",
            "_view_name": "HTMLView",
            "description": "",
            "description_tooltip": null,
            "layout": "IPY_MODEL_7c938c011da6408da5dcb5a7c81722a4",
            "placeholder": "​",
            "style": "IPY_MODEL_af8c231b4db34032a44addbb0938132e",
            "value": "Computing checksums: 100%"
          }
        },
        "46da6efd1d6b4276b3be2ce13b418ef7": {
          "model_module": "@jupyter-widgets/controls",
          "model_name": "FloatProgressModel",
          "model_module_version": "1.5.0",
          "state": {
            "_dom_classes": [],
            "_model_module": "@jupyter-widgets/controls",
            "_model_module_version": "1.5.0",
            "_model_name": "FloatProgressModel",
            "_view_count": null,
            "_view_module": "@jupyter-widgets/controls",
            "_view_module_version": "1.5.0",
            "_view_name": "ProgressView",
            "bar_style": "success",
            "description": "",
            "description_tooltip": null,
            "layout": "IPY_MODEL_fc17cbcf61a74bd081bb95b352828a6f",
            "max": 1,
            "min": 0,
            "orientation": "horizontal",
            "style": "IPY_MODEL_c28a92079df147e9aaeb047abee8b39f",
            "value": 1
          }
        },
        "2a61721a2dc444ecb6dbfc5654f9166d": {
          "model_module": "@jupyter-widgets/controls",
          "model_name": "HTMLModel",
          "model_module_version": "1.5.0",
          "state": {
            "_dom_classes": [],
            "_model_module": "@jupyter-widgets/controls",
            "_model_module_version": "1.5.0",
            "_model_name": "HTMLModel",
            "_view_count": null,
            "_view_module": "@jupyter-widgets/controls",
            "_view_module_version": "1.5.0",
            "_view_name": "HTMLView",
            "description": "",
            "description_tooltip": null,
            "layout": "IPY_MODEL_730bb6cdb11a44d989095ecea133682f",
            "placeholder": "​",
            "style": "IPY_MODEL_927ef36bf7494cec94d6d4366706893b",
            "value": " 1/1 [00:42&lt;00:00, 42.33s/it]"
          }
        },
        "2f4adecd973e4e4191985c15a5258d9e": {
          "model_module": "@jupyter-widgets/base",
          "model_name": "LayoutModel",
          "model_module_version": "1.2.0",
          "state": {
            "_model_module": "@jupyter-widgets/base",
            "_model_module_version": "1.2.0",
            "_model_name": "LayoutModel",
            "_view_count": null,
            "_view_module": "@jupyter-widgets/base",
            "_view_module_version": "1.2.0",
            "_view_name": "LayoutView",
            "align_content": null,
            "align_items": null,
            "align_self": null,
            "border": null,
            "bottom": null,
            "display": null,
            "flex": null,
            "flex_flow": null,
            "grid_area": null,
            "grid_auto_columns": null,
            "grid_auto_flow": null,
            "grid_auto_rows": null,
            "grid_column": null,
            "grid_gap": null,
            "grid_row": null,
            "grid_template_areas": null,
            "grid_template_columns": null,
            "grid_template_rows": null,
            "height": null,
            "justify_content": null,
            "justify_items": null,
            "left": null,
            "margin": null,
            "max_height": null,
            "max_width": null,
            "min_height": null,
            "min_width": null,
            "object_fit": null,
            "object_position": null,
            "order": null,
            "overflow": null,
            "overflow_x": null,
            "overflow_y": null,
            "padding": null,
            "right": null,
            "top": null,
            "visibility": null,
            "width": null
          }
        },
        "7c938c011da6408da5dcb5a7c81722a4": {
          "model_module": "@jupyter-widgets/base",
          "model_name": "LayoutModel",
          "model_module_version": "1.2.0",
          "state": {
            "_model_module": "@jupyter-widgets/base",
            "_model_module_version": "1.2.0",
            "_model_name": "LayoutModel",
            "_view_count": null,
            "_view_module": "@jupyter-widgets/base",
            "_view_module_version": "1.2.0",
            "_view_name": "LayoutView",
            "align_content": null,
            "align_items": null,
            "align_self": null,
            "border": null,
            "bottom": null,
            "display": null,
            "flex": null,
            "flex_flow": null,
            "grid_area": null,
            "grid_auto_columns": null,
            "grid_auto_flow": null,
            "grid_auto_rows": null,
            "grid_column": null,
            "grid_gap": null,
            "grid_row": null,
            "grid_template_areas": null,
            "grid_template_columns": null,
            "grid_template_rows": null,
            "height": null,
            "justify_content": null,
            "justify_items": null,
            "left": null,
            "margin": null,
            "max_height": null,
            "max_width": null,
            "min_height": null,
            "min_width": null,
            "object_fit": null,
            "object_position": null,
            "order": null,
            "overflow": null,
            "overflow_x": null,
            "overflow_y": null,
            "padding": null,
            "right": null,
            "top": null,
            "visibility": null,
            "width": null
          }
        },
        "af8c231b4db34032a44addbb0938132e": {
          "model_module": "@jupyter-widgets/controls",
          "model_name": "DescriptionStyleModel",
          "model_module_version": "1.5.0",
          "state": {
            "_model_module": "@jupyter-widgets/controls",
            "_model_module_version": "1.5.0",
            "_model_name": "DescriptionStyleModel",
            "_view_count": null,
            "_view_module": "@jupyter-widgets/base",
            "_view_module_version": "1.2.0",
            "_view_name": "StyleView",
            "description_width": ""
          }
        },
        "fc17cbcf61a74bd081bb95b352828a6f": {
          "model_module": "@jupyter-widgets/base",
          "model_name": "LayoutModel",
          "model_module_version": "1.2.0",
          "state": {
            "_model_module": "@jupyter-widgets/base",
            "_model_module_version": "1.2.0",
            "_model_name": "LayoutModel",
            "_view_count": null,
            "_view_module": "@jupyter-widgets/base",
            "_view_module_version": "1.2.0",
            "_view_name": "LayoutView",
            "align_content": null,
            "align_items": null,
            "align_self": null,
            "border": null,
            "bottom": null,
            "display": null,
            "flex": null,
            "flex_flow": null,
            "grid_area": null,
            "grid_auto_columns": null,
            "grid_auto_flow": null,
            "grid_auto_rows": null,
            "grid_column": null,
            "grid_gap": null,
            "grid_row": null,
            "grid_template_areas": null,
            "grid_template_columns": null,
            "grid_template_rows": null,
            "height": null,
            "justify_content": null,
            "justify_items": null,
            "left": null,
            "margin": null,
            "max_height": null,
            "max_width": null,
            "min_height": null,
            "min_width": null,
            "object_fit": null,
            "object_position": null,
            "order": null,
            "overflow": null,
            "overflow_x": null,
            "overflow_y": null,
            "padding": null,
            "right": null,
            "top": null,
            "visibility": null,
            "width": null
          }
        },
        "c28a92079df147e9aaeb047abee8b39f": {
          "model_module": "@jupyter-widgets/controls",
          "model_name": "ProgressStyleModel",
          "model_module_version": "1.5.0",
          "state": {
            "_model_module": "@jupyter-widgets/controls",
            "_model_module_version": "1.5.0",
            "_model_name": "ProgressStyleModel",
            "_view_count": null,
            "_view_module": "@jupyter-widgets/base",
            "_view_module_version": "1.2.0",
            "_view_name": "StyleView",
            "bar_color": null,
            "description_width": ""
          }
        },
        "730bb6cdb11a44d989095ecea133682f": {
          "model_module": "@jupyter-widgets/base",
          "model_name": "LayoutModel",
          "model_module_version": "1.2.0",
          "state": {
            "_model_module": "@jupyter-widgets/base",
            "_model_module_version": "1.2.0",
            "_model_name": "LayoutModel",
            "_view_count": null,
            "_view_module": "@jupyter-widgets/base",
            "_view_module_version": "1.2.0",
            "_view_name": "LayoutView",
            "align_content": null,
            "align_items": null,
            "align_self": null,
            "border": null,
            "bottom": null,
            "display": null,
            "flex": null,
            "flex_flow": null,
            "grid_area": null,
            "grid_auto_columns": null,
            "grid_auto_flow": null,
            "grid_auto_rows": null,
            "grid_column": null,
            "grid_gap": null,
            "grid_row": null,
            "grid_template_areas": null,
            "grid_template_columns": null,
            "grid_template_rows": null,
            "height": null,
            "justify_content": null,
            "justify_items": null,
            "left": null,
            "margin": null,
            "max_height": null,
            "max_width": null,
            "min_height": null,
            "min_width": null,
            "object_fit": null,
            "object_position": null,
            "order": null,
            "overflow": null,
            "overflow_x": null,
            "overflow_y": null,
            "padding": null,
            "right": null,
            "top": null,
            "visibility": null,
            "width": null
          }
        },
        "927ef36bf7494cec94d6d4366706893b": {
          "model_module": "@jupyter-widgets/controls",
          "model_name": "DescriptionStyleModel",
          "model_module_version": "1.5.0",
          "state": {
            "_model_module": "@jupyter-widgets/controls",
            "_model_module_version": "1.5.0",
            "_model_name": "DescriptionStyleModel",
            "_view_count": null,
            "_view_module": "@jupyter-widgets/base",
            "_view_module_version": "1.2.0",
            "_view_name": "StyleView",
            "description_width": ""
          }
        }
      }
    },
    "accelerator": "GPU"
  },
  "nbformat": 4,
  "nbformat_minor": 0
}